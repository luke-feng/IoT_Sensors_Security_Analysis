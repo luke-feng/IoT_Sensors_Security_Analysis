{
 "cells": [
  {
   "cell_type": "code",
   "execution_count": 40,
   "metadata": {},
   "outputs": [],
   "source": [
    "import warnings\n",
    "import flwr as fl\n",
    "import numpy as np\n",
    "from sklearn.svm import OneClassSVM\n",
    "from sklearn.linear_model import SGDOneClassSVM\n",
    "from sklearn.linear_model import LogisticRegression\n",
    "from sklearn.metrics import log_loss\n",
    "from typing import Tuple, Union, List\n",
    "import numpy as np\n",
    "import pandas as pd\n",
    "from random import randint\n",
    "from sklearn import metrics\n"
   ]
  },
  {
   "cell_type": "code",
   "execution_count": 35,
   "metadata": {},
   "outputs": [],
   "source": [
    "XY = Tuple[np.ndarray, np.ndarray]\n",
    "Dataset = Tuple[XY, XY]\n",
    "ModelParams = Union[XY, Tuple[np.ndarray]]\n",
    "XYList = List[XY]\n",
    "Model = SGDOneClassSVM"
   ]
  },
  {
   "cell_type": "code",
   "execution_count": 36,
   "metadata": {},
   "outputs": [],
   "source": [
    "def get_model_parameters(model: Model) -> ModelParams:\n",
    "    \"\"\"Returns the paramters of a sklearn LogisticRegression model.\"\"\"\n",
    "    coef_ = model.coef_\n",
    "    # intercept_= model.intercept_\n",
    "    params = (coef_, )\n",
    "    # if model.fit_intercept:\n",
    "    #     params = (model.coef_, model.intercept_)\n",
    "    # else:\n",
    "    #     params = (model.coef_,)\n",
    "    return params\n",
    "\n",
    "\n",
    "def set_model_params(\n",
    "    model: Model, params: ModelParams\n",
    ") -> Model:\n",
    "    \"\"\"Sets the parameters of a sklean LogisticRegression model.\"\"\"\n",
    "    model.coef_ = params[0]\n",
    "    # model.intercept_ = params[1]\n",
    "    # if model.fit_intercept:\n",
    "    #     model.intercept_ = params[1]\n",
    "    return model\n",
    "\n",
    "\n",
    "def set_initial_params(model: Model):\n",
    "    \"\"\"Sets initial parameters as zeros Required since model params are\n",
    "    uninitialized until model.fit is called.\n",
    "    But server asks for initial parameters from clients at launch. Refer\n",
    "    to sklearn.linear_model.LogisticRegression documentation for more\n",
    "    information.\n",
    "    \"\"\"\n",
    "    n_classes = 1  # MNIST has 10 classes\n",
    "    n_features = 784  # Number of features in dataset\n",
    "    model.classes_ = np.array([i for i in range(10)])\n",
    "\n",
    "    model.coef_ = np.zeros((n_classes, n_features))\n",
    "    model.offset_ = np.zeros(1)\n",
    "    # if model.fit_intercept:\n",
    "    #     model.intercept_ = np.zeros((n_classes,))"
   ]
  },
  {
   "cell_type": "code",
   "execution_count": 37,
   "metadata": {},
   "outputs": [],
   "source": [
    "def load_mnist() -> Dataset:\n",
    "    \"\"\"Loads the MNIST dataset from local csv.\n",
    "    \"\"\"\n",
    "    mnist_df = pd.read_csv(\"test.csv\")\n",
    "    print(\"read data finished\")\n",
    "    Xy = mnist_df.to_numpy()\n",
    "    X = Xy[:, :-1]  # the last column contains labels\n",
    "    y = [randint(0,1) for i in range(0,len(X))]\n",
    "    y = [-1 if i==0 else i for i in y]\n",
    "    # First 60000 samples consist of the train set\n",
    "    x_train, y_train = X[:20], y[:20]\n",
    "    x_test, y_test = X[20:], y[20:]\n",
    "    return (x_train, y_train), (x_test, y_test)"
   ]
  },
  {
   "cell_type": "code",
   "execution_count": 38,
   "metadata": {},
   "outputs": [],
   "source": [
    "def shuffle(X: np.ndarray, y: np.ndarray) -> XY:\n",
    "    \"\"\"Shuffle X and y.\"\"\"\n",
    "    rng = np.random.default_rng()\n",
    "    idx = rng.permutation(len(X))\n",
    "    return X[idx], y[idx]\n",
    "\n",
    "\n",
    "def partition(X: np.ndarray, y: np.ndarray, num_partitions: int) -> XYList:\n",
    "    \"\"\"Split X and y into a number of partitions.\"\"\"\n",
    "    return list(\n",
    "        zip(np.array_split(X, num_partitions), np.array_split(y, num_partitions))\n",
    "    )"
   ]
  },
  {
   "cell_type": "code",
   "execution_count": 39,
   "metadata": {},
   "outputs": [
    {
     "name": "stderr",
     "output_type": "stream",
     "text": [
      "DEBUG flower 2021-11-17 16:15:09,029 | connection.py:36 | ChannelConnectivity.IDLE\n",
      "INFO flower 2021-11-17 16:15:09,031 | app.py:61 | Opened (insecure) gRPC connection\n",
      "DEBUG flower 2021-11-17 16:15:09,031 | connection.py:36 | ChannelConnectivity.TRANSIENT_FAILURE\n"
     ]
    },
    {
     "name": "stdout",
     "output_type": "stream",
     "text": [
      "read data finished\n"
     ]
    },
    {
     "name": "stderr",
     "output_type": "stream",
     "text": [
      "DEBUG flower 2021-11-17 16:15:09,241 | connection.py:68 | Insecure gRPC channel closed\n"
     ]
    },
    {
     "ename": "_MultiThreadedRendezvous",
     "evalue": "<_MultiThreadedRendezvous of RPC that terminated with:\n\tstatus = StatusCode.UNAVAILABLE\n\tdetails = \"failed to connect to all addresses\"\n\tdebug_error_string = \"{\"created\":\"@1637162109.031000000\",\"description\":\"Failed to pick subchannel\",\"file\":\"src/core/ext/filters/client_channel/client_channel.cc\",\"file_line\":3009,\"referenced_errors\":[{\"created\":\"@1637162109.031000000\",\"description\":\"failed to connect to all addresses\",\"file\":\"src/core/ext/filters/client_channel/lb_policy/pick_first/pick_first.cc\",\"file_line\":398,\"grpc_status\":14}]}\"\n>",
     "output_type": "error",
     "traceback": [
      "\u001b[1;31m---------------------------------------------------------------------------\u001b[0m",
      "\u001b[1;31m_MultiThreadedRendezvous\u001b[0m                  Traceback (most recent call last)",
      "\u001b[1;32m~\\AppData\\Local\\Temp/ipykernel_19600/1455021699.py\u001b[0m in \u001b[0;36m<module>\u001b[1;34m\u001b[0m\n\u001b[0;32m     38\u001b[0m \u001b[1;33m\u001b[0m\u001b[0m\n\u001b[0;32m     39\u001b[0m     \u001b[1;31m# Start Flower client\u001b[0m\u001b[1;33m\u001b[0m\u001b[1;33m\u001b[0m\u001b[1;33m\u001b[0m\u001b[0m\n\u001b[1;32m---> 40\u001b[1;33m     \u001b[0mfl\u001b[0m\u001b[1;33m.\u001b[0m\u001b[0mclient\u001b[0m\u001b[1;33m.\u001b[0m\u001b[0mstart_numpy_client\u001b[0m\u001b[1;33m(\u001b[0m\u001b[1;34m\"[::]:8080\"\u001b[0m\u001b[1;33m,\u001b[0m \u001b[0mclient\u001b[0m\u001b[1;33m=\u001b[0m\u001b[0mMnistClient\u001b[0m\u001b[1;33m(\u001b[0m\u001b[1;33m)\u001b[0m\u001b[1;33m)\u001b[0m\u001b[1;33m\u001b[0m\u001b[1;33m\u001b[0m\u001b[0m\n\u001b[0m",
      "\u001b[1;32m~\\AppData\\Roaming\\Python\\Python39\\site-packages\\flwr\\client\\app.py\u001b[0m in \u001b[0;36mstart_numpy_client\u001b[1;34m(server_address, client, grpc_max_message_length)\u001b[0m\n\u001b[0;32m    110\u001b[0m \u001b[1;33m\u001b[0m\u001b[0m\n\u001b[0;32m    111\u001b[0m     \u001b[1;31m# Start\u001b[0m\u001b[1;33m\u001b[0m\u001b[1;33m\u001b[0m\u001b[1;33m\u001b[0m\u001b[0m\n\u001b[1;32m--> 112\u001b[1;33m     start_client(\n\u001b[0m\u001b[0;32m    113\u001b[0m         \u001b[0mserver_address\u001b[0m\u001b[1;33m=\u001b[0m\u001b[0mserver_address\u001b[0m\u001b[1;33m,\u001b[0m\u001b[1;33m\u001b[0m\u001b[1;33m\u001b[0m\u001b[0m\n\u001b[0;32m    114\u001b[0m         \u001b[0mclient\u001b[0m\u001b[1;33m=\u001b[0m\u001b[0mflower_client\u001b[0m\u001b[1;33m,\u001b[0m\u001b[1;33m\u001b[0m\u001b[1;33m\u001b[0m\u001b[0m\n",
      "\u001b[1;32m~\\AppData\\Roaming\\Python\\Python39\\site-packages\\flwr\\client\\app.py\u001b[0m in \u001b[0;36mstart_client\u001b[1;34m(server_address, client, grpc_max_message_length)\u001b[0m\n\u001b[0;32m     62\u001b[0m \u001b[1;33m\u001b[0m\u001b[0m\n\u001b[0;32m     63\u001b[0m             \u001b[1;32mwhile\u001b[0m \u001b[1;32mTrue\u001b[0m\u001b[1;33m:\u001b[0m\u001b[1;33m\u001b[0m\u001b[1;33m\u001b[0m\u001b[0m\n\u001b[1;32m---> 64\u001b[1;33m                 \u001b[0mserver_message\u001b[0m \u001b[1;33m=\u001b[0m \u001b[0mreceive\u001b[0m\u001b[1;33m(\u001b[0m\u001b[1;33m)\u001b[0m\u001b[1;33m\u001b[0m\u001b[1;33m\u001b[0m\u001b[0m\n\u001b[0m\u001b[0;32m     65\u001b[0m                 client_message, sleep_duration, keep_going = handle(\n\u001b[0;32m     66\u001b[0m                     \u001b[0mclient\u001b[0m\u001b[1;33m,\u001b[0m \u001b[0mserver_message\u001b[0m\u001b[1;33m\u001b[0m\u001b[1;33m\u001b[0m\u001b[0m\n",
      "\u001b[1;32m~\\AppData\\Roaming\\Python\\Python39\\site-packages\\flwr\\client\\grpc_client\\connection.py\u001b[0m in \u001b[0;36m<lambda>\u001b[1;34m()\u001b[0m\n\u001b[0;32m     58\u001b[0m     \u001b[0mserver_message_iterator\u001b[0m\u001b[1;33m:\u001b[0m \u001b[0mIterator\u001b[0m\u001b[1;33m[\u001b[0m\u001b[0mServerMessage\u001b[0m\u001b[1;33m]\u001b[0m \u001b[1;33m=\u001b[0m \u001b[0mstub\u001b[0m\u001b[1;33m.\u001b[0m\u001b[0mJoin\u001b[0m\u001b[1;33m(\u001b[0m\u001b[0miter\u001b[0m\u001b[1;33m(\u001b[0m\u001b[0mqueue\u001b[0m\u001b[1;33m.\u001b[0m\u001b[0mget\u001b[0m\u001b[1;33m,\u001b[0m \u001b[1;32mNone\u001b[0m\u001b[1;33m)\u001b[0m\u001b[1;33m)\u001b[0m\u001b[1;33m\u001b[0m\u001b[1;33m\u001b[0m\u001b[0m\n\u001b[0;32m     59\u001b[0m \u001b[1;33m\u001b[0m\u001b[0m\n\u001b[1;32m---> 60\u001b[1;33m     \u001b[0mreceive\u001b[0m\u001b[1;33m:\u001b[0m \u001b[0mCallable\u001b[0m\u001b[1;33m[\u001b[0m\u001b[1;33m[\u001b[0m\u001b[1;33m]\u001b[0m\u001b[1;33m,\u001b[0m \u001b[0mServerMessage\u001b[0m\u001b[1;33m]\u001b[0m \u001b[1;33m=\u001b[0m \u001b[1;32mlambda\u001b[0m\u001b[1;33m:\u001b[0m \u001b[0mnext\u001b[0m\u001b[1;33m(\u001b[0m\u001b[0mserver_message_iterator\u001b[0m\u001b[1;33m)\u001b[0m\u001b[1;33m\u001b[0m\u001b[1;33m\u001b[0m\u001b[0m\n\u001b[0m\u001b[0;32m     61\u001b[0m     \u001b[0msend\u001b[0m\u001b[1;33m:\u001b[0m \u001b[0mCallable\u001b[0m\u001b[1;33m[\u001b[0m\u001b[1;33m[\u001b[0m\u001b[0mClientMessage\u001b[0m\u001b[1;33m]\u001b[0m\u001b[1;33m,\u001b[0m \u001b[1;32mNone\u001b[0m\u001b[1;33m]\u001b[0m \u001b[1;33m=\u001b[0m \u001b[1;32mlambda\u001b[0m \u001b[0mmsg\u001b[0m\u001b[1;33m:\u001b[0m \u001b[0mqueue\u001b[0m\u001b[1;33m.\u001b[0m\u001b[0mput\u001b[0m\u001b[1;33m(\u001b[0m\u001b[0mmsg\u001b[0m\u001b[1;33m,\u001b[0m \u001b[0mblock\u001b[0m\u001b[1;33m=\u001b[0m\u001b[1;32mFalse\u001b[0m\u001b[1;33m)\u001b[0m\u001b[1;33m\u001b[0m\u001b[1;33m\u001b[0m\u001b[0m\n\u001b[0;32m     62\u001b[0m \u001b[1;33m\u001b[0m\u001b[0m\n",
      "\u001b[1;32mC:\\Python39\\lib\\site-packages\\grpc\\_channel.py\u001b[0m in \u001b[0;36m__next__\u001b[1;34m(self)\u001b[0m\n\u001b[0;32m    424\u001b[0m \u001b[1;33m\u001b[0m\u001b[0m\n\u001b[0;32m    425\u001b[0m     \u001b[1;32mdef\u001b[0m \u001b[0m__next__\u001b[0m\u001b[1;33m(\u001b[0m\u001b[0mself\u001b[0m\u001b[1;33m)\u001b[0m\u001b[1;33m:\u001b[0m\u001b[1;33m\u001b[0m\u001b[1;33m\u001b[0m\u001b[0m\n\u001b[1;32m--> 426\u001b[1;33m         \u001b[1;32mreturn\u001b[0m \u001b[0mself\u001b[0m\u001b[1;33m.\u001b[0m\u001b[0m_next\u001b[0m\u001b[1;33m(\u001b[0m\u001b[1;33m)\u001b[0m\u001b[1;33m\u001b[0m\u001b[1;33m\u001b[0m\u001b[0m\n\u001b[0m\u001b[0;32m    427\u001b[0m \u001b[1;33m\u001b[0m\u001b[0m\n\u001b[0;32m    428\u001b[0m     \u001b[1;32mdef\u001b[0m \u001b[0m_next\u001b[0m\u001b[1;33m(\u001b[0m\u001b[0mself\u001b[0m\u001b[1;33m)\u001b[0m\u001b[1;33m:\u001b[0m\u001b[1;33m\u001b[0m\u001b[1;33m\u001b[0m\u001b[0m\n",
      "\u001b[1;32mC:\\Python39\\lib\\site-packages\\grpc\\_channel.py\u001b[0m in \u001b[0;36m_next\u001b[1;34m(self)\u001b[0m\n\u001b[0;32m    807\u001b[0m                 \u001b[1;32mraise\u001b[0m \u001b[0mStopIteration\u001b[0m\u001b[1;33m(\u001b[0m\u001b[1;33m)\u001b[0m\u001b[1;33m\u001b[0m\u001b[1;33m\u001b[0m\u001b[0m\n\u001b[0;32m    808\u001b[0m             \u001b[1;32melse\u001b[0m\u001b[1;33m:\u001b[0m\u001b[1;33m\u001b[0m\u001b[1;33m\u001b[0m\u001b[0m\n\u001b[1;32m--> 809\u001b[1;33m                 \u001b[1;32mraise\u001b[0m \u001b[0mself\u001b[0m\u001b[1;33m\u001b[0m\u001b[1;33m\u001b[0m\u001b[0m\n\u001b[0m\u001b[0;32m    810\u001b[0m \u001b[1;33m\u001b[0m\u001b[0m\n\u001b[0;32m    811\u001b[0m             \u001b[1;32mdef\u001b[0m \u001b[0m_response_ready\u001b[0m\u001b[1;33m(\u001b[0m\u001b[1;33m)\u001b[0m\u001b[1;33m:\u001b[0m\u001b[1;33m\u001b[0m\u001b[1;33m\u001b[0m\u001b[0m\n",
      "\u001b[1;31m_MultiThreadedRendezvous\u001b[0m: <_MultiThreadedRendezvous of RPC that terminated with:\n\tstatus = StatusCode.UNAVAILABLE\n\tdetails = \"failed to connect to all addresses\"\n\tdebug_error_string = \"{\"created\":\"@1637162109.031000000\",\"description\":\"Failed to pick subchannel\",\"file\":\"src/core/ext/filters/client_channel/client_channel.cc\",\"file_line\":3009,\"referenced_errors\":[{\"created\":\"@1637162109.031000000\",\"description\":\"failed to connect to all addresses\",\"file\":\"src/core/ext/filters/client_channel/lb_policy/pick_first/pick_first.cc\",\"file_line\":398,\"grpc_status\":14}]}\"\n>"
     ]
    }
   ],
   "source": [
    "if __name__ == \"__main__\":\n",
    "    # Load MNIST dataset from https://www.openml.org/d/554\n",
    "    (X_train, y_train), (X_test, y_test) = load_mnist()\n",
    "\n",
    "    # Split train set into 10 partitions and randomly use one for training.\n",
    "    partition_id = np.random.choice(10)\n",
    "    (X_train, y_train) = partition(X_train, y_train, 10)[partition_id]\n",
    "\n",
    "    # Create LogisticRegression Model\n",
    "    model = SGDOneClassSVM(\n",
    "        \n",
    "    )\n",
    "\n",
    "    # Setting initial parameters, akin to model.compile for keras models\n",
    "    set_initial_params(model)\n",
    "\n",
    "    # Define Flower client\n",
    "    class MnistClient(fl.client.NumPyClient):\n",
    "        def get_parameters(self):  # type: ignore\n",
    "            return get_model_parameters(model)\n",
    "\n",
    "        def fit(self, parameters, config):  # type: ignore\n",
    "            print(\"start fitting\")\n",
    "            set_model_params(model, parameters)\n",
    "            # Ignore convergence failure due to low local epochs\n",
    "\n",
    "            with warnings.catch_warnings():\n",
    "                warnings.simplefilter(\"ignore\")\n",
    "                model.fit(X_train)\n",
    "            print(f\"Training finished for round {config['rnd']}\")\n",
    "            return get_model_parameters(model), len(X_train), {}\n",
    "\n",
    "        def evaluate(self, parameters, config):  # type: ignore\n",
    "            print(\"start evaluating\")\n",
    "            set_model_params(model, parameters)\n",
    "            # loss = log_loss(y_test, model.score_samples(X_test))\n",
    "            y_pred = model.predict(X_test)\n",
    "            sco = model.score_samples(X_test)\n",
    "            loss = log_loss(y_test, sco)\n",
    "            accuracy = metrics.accuracy_score(y_test, y_pred)\n",
    "            # accuracy = model.score(X_test, y_test)\n",
    "            print(f\"evaluation finished for round {config['rnd']}, accuracy is {accuracy}\")\n",
    "            return loss, len(X_test), {\"accuracy\": accuracy}\n",
    "\n",
    "    # Start Flower client\n",
    "    fl.client.start_numpy_client(\"192.168.1.105:8080\", client=MnistClient())\n"
   ]
  }
 ],
 "metadata": {
  "interpreter": {
   "hash": "63fd5069d213b44bf678585dea6b12cceca9941eaf7f819626cde1f2670de90d"
  },
  "kernelspec": {
   "display_name": "Python 3.9.6 64-bit",
   "language": "python",
   "name": "python3"
  },
  "language_info": {
   "codemirror_mode": {
    "name": "ipython",
    "version": 3
   },
   "file_extension": ".py",
   "mimetype": "text/x-python",
   "name": "python",
   "nbconvert_exporter": "python",
   "pygments_lexer": "ipython3",
   "version": "3.9.6"
  },
  "orig_nbformat": 4
 },
 "nbformat": 4,
 "nbformat_minor": 2
}
