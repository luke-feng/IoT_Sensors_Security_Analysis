{
 "cells": [
  {
   "cell_type": "code",
   "execution_count": 1,
   "metadata": {},
   "outputs": [],
   "source": [
    "import numpy as np\n",
    "import pandas as pd\n",
    "from sklearn.model_selection import train_test_split\n",
    "from sklearn.neural_network import MLPClassifier\n",
    "from sklearn.neighbors import KNeighborsClassifier\n",
    "from sklearn.svm import SVC\n",
    "from sklearn.preprocessing import LabelBinarizer\n",
    "from sklearn.gaussian_process import GaussianProcessClassifier\n",
    "from sklearn.gaussian_process.kernels import RBF\n",
    "from sklearn.tree import DecisionTreeClassifier\n",
    "from sklearn.ensemble import RandomForestClassifier, AdaBoostClassifier\n",
    "from sklearn.naive_bayes import GaussianNB\n",
    "from sklearn.discriminant_analysis import QuadraticDiscriminantAnalysis\n",
    "from sklearn.covariance import EllipticEnvelope\n",
    "from sklearn.ensemble import IsolationForest\n",
    "from sklearn.neighbors import LocalOutlierFactor\n",
    "from sklearn.linear_model import SGDOneClassSVM\n",
    "from sklearn.feature_selection import SelectKBest, chi2\n",
    "from sklearn.decomposition import PCA\n",
    "from sklearn.kernel_approximation import Nystroem\n",
    "from sklearn import metrics\n",
    "from sklearn.svm import OneClassSVM\n",
    "import time\n",
    "import copy\n",
    "import re\n",
    "from sklearn.feature_extraction.text import TfidfVectorizer, CountVectorizer, HashingVectorizer\n",
    "import os,sys\n",
    "import tqdm\n",
    "import pickle\n",
    "import time"
   ]
  },
  {
   "cell_type": "code",
   "execution_count": 2,
   "metadata": {},
   "outputs": [],
   "source": [
    "rootPath = 'd:/mt_data/1212_withrw/'\n",
    "encodePath = rootPath+'encoded/t1/'"
   ]
  },
  {
   "cell_type": "code",
   "execution_count": 5,
   "metadata": {},
   "outputs": [],
   "source": [
    "devices = [ 'pi3', 'pi4_2G', 'pi4_4G']\n",
    "tws = [60]"
   ]
  },
  {
   "cell_type": "code",
   "execution_count": 8,
   "metadata": {},
   "outputs": [],
   "source": [
    "encoded_trace_df = pd.read_pickle(encodePath+'encoded_bow{}_{}.pkl'.format('pi4_2G', '60'))"
   ]
  },
  {
   "cell_type": "code",
   "execution_count": 5,
   "metadata": {},
   "outputs": [],
   "source": [
    "cols = encoded_trace_df.columns"
   ]
  },
  {
   "cell_type": "code",
   "execution_count": 6,
   "metadata": {},
   "outputs": [
    {
     "data": {
      "text/plain": [
       "Index(['ids', 'maltype', 'system calls frequency_1gram',\n",
       "       'system calls tfidf_1gram', 'system calls hashing_1gram',\n",
       "       'system calls frequency_2gram', 'system calls tfidf_2gram',\n",
       "       'system calls hashing_2gram', 'system calls frequency_3gram',\n",
       "       'system calls tfidf_3gram', 'system calls hashing_3gram',\n",
       "       'system calls frequency_4gram', 'system calls tfidf_4gram',\n",
       "       'system calls hashing_4gram', 'system calls frequency_5gram',\n",
       "       'system calls tfidf_5gram', 'system calls hashing_5gram'],\n",
       "      dtype='object')"
      ]
     },
     "execution_count": 6,
     "metadata": {},
     "output_type": "execute_result"
    }
   ],
   "source": [
    "cols"
   ]
  },
  {
   "cell_type": "code",
   "execution_count": 7,
   "metadata": {},
   "outputs": [],
   "source": [
    "ft = [x.tolist() for x in encoded_trace_df[cols[5]]]"
   ]
  },
  {
   "cell_type": "code",
   "execution_count": 8,
   "metadata": {},
   "outputs": [],
   "source": [
    "df = pd.DataFrame([encoded_trace_df['ids'].tolist(), encoded_trace_df['maltype'].tolist(), ft]).transpose()"
   ]
  },
  {
   "cell_type": "code",
   "execution_count": 11,
   "metadata": {},
   "outputs": [],
   "source": [
    "df.columns = ['ids', 'maltype', cols[2]]"
   ]
  },
  {
   "cell_type": "code",
   "execution_count": 12,
   "metadata": {},
   "outputs": [
    {
     "data": {
      "text/html": [
       "<div>\n",
       "<style scoped>\n",
       "    .dataframe tbody tr th:only-of-type {\n",
       "        vertical-align: middle;\n",
       "    }\n",
       "\n",
       "    .dataframe tbody tr th {\n",
       "        vertical-align: top;\n",
       "    }\n",
       "\n",
       "    .dataframe thead th {\n",
       "        text-align: right;\n",
       "    }\n",
       "</style>\n",
       "<table border=\"1\" class=\"dataframe\">\n",
       "  <thead>\n",
       "    <tr style=\"text-align: right;\">\n",
       "      <th></th>\n",
       "      <th>ids</th>\n",
       "      <th>maltype</th>\n",
       "      <th>system calls frequency_1gram</th>\n",
       "    </tr>\n",
       "  </thead>\n",
       "  <tbody>\n",
       "    <tr>\n",
       "      <th>0</th>\n",
       "      <td>delay_0_2021-11-23</td>\n",
       "      <td>delay</td>\n",
       "      <td>[0, 0, 0, 0, 0, 0, 0, 0, 0, 0, 0, 28809, 0, 0,...</td>\n",
       "    </tr>\n",
       "    <tr>\n",
       "      <th>1</th>\n",
       "      <td>delay_100_2021-11-23</td>\n",
       "      <td>delay</td>\n",
       "      <td>[0, 0, 0, 0, 0, 0, 0, 0, 0, 0, 0, 25768, 0, 0,...</td>\n",
       "    </tr>\n",
       "    <tr>\n",
       "      <th>2</th>\n",
       "      <td>delay_101_2021-11-23</td>\n",
       "      <td>delay</td>\n",
       "      <td>[0, 0, 0, 0, 0, 0, 0, 0, 0, 0, 0, 25094, 0, 0,...</td>\n",
       "    </tr>\n",
       "    <tr>\n",
       "      <th>3</th>\n",
       "      <td>delay_102_2021-11-23</td>\n",
       "      <td>delay</td>\n",
       "      <td>[0, 0, 0, 0, 0, 0, 0, 0, 0, 0, 0, 25377, 0, 0,...</td>\n",
       "    </tr>\n",
       "    <tr>\n",
       "      <th>4</th>\n",
       "      <td>delay_103_2021-11-23</td>\n",
       "      <td>delay</td>\n",
       "      <td>[0, 0, 0, 0, 0, 0, 0, 0, 0, 0, 0, 23190, 0, 0,...</td>\n",
       "    </tr>\n",
       "    <tr>\n",
       "      <th>...</th>\n",
       "      <td>...</td>\n",
       "      <td>...</td>\n",
       "      <td>...</td>\n",
       "    </tr>\n",
       "    <tr>\n",
       "      <th>3595</th>\n",
       "      <td>spoof_96_2021-11-25</td>\n",
       "      <td>spoof</td>\n",
       "      <td>[0, 0, 0, 0, 0, 0, 0, 0, 0, 0, 0, 26653, 0, 0,...</td>\n",
       "    </tr>\n",
       "    <tr>\n",
       "      <th>3596</th>\n",
       "      <td>spoof_97_2021-11-25</td>\n",
       "      <td>spoof</td>\n",
       "      <td>[0, 0, 0, 0, 0, 0, 0, 0, 0, 0, 0, 23787, 0, 0,...</td>\n",
       "    </tr>\n",
       "    <tr>\n",
       "      <th>3597</th>\n",
       "      <td>spoof_98_2021-11-25</td>\n",
       "      <td>spoof</td>\n",
       "      <td>[0, 0, 0, 0, 0, 0, 0, 0, 0, 0, 0, 25347, 0, 0,...</td>\n",
       "    </tr>\n",
       "    <tr>\n",
       "      <th>3598</th>\n",
       "      <td>spoof_99_2021-11-25</td>\n",
       "      <td>spoof</td>\n",
       "      <td>[0, 0, 0, 0, 0, 0, 0, 0, 0, 0, 0, 24196, 0, 0,...</td>\n",
       "    </tr>\n",
       "    <tr>\n",
       "      <th>3599</th>\n",
       "      <td>spoof_9_2021-11-25</td>\n",
       "      <td>spoof</td>\n",
       "      <td>[0, 0, 0, 1, 0, 0, 0, 0, 0, 0, 0, 23139, 0, 0,...</td>\n",
       "    </tr>\n",
       "  </tbody>\n",
       "</table>\n",
       "<p>3600 rows × 3 columns</p>\n",
       "</div>"
      ],
      "text/plain": [
       "                       ids maltype  \\\n",
       "0       delay_0_2021-11-23   delay   \n",
       "1     delay_100_2021-11-23   delay   \n",
       "2     delay_101_2021-11-23   delay   \n",
       "3     delay_102_2021-11-23   delay   \n",
       "4     delay_103_2021-11-23   delay   \n",
       "...                    ...     ...   \n",
       "3595   spoof_96_2021-11-25   spoof   \n",
       "3596   spoof_97_2021-11-25   spoof   \n",
       "3597   spoof_98_2021-11-25   spoof   \n",
       "3598   spoof_99_2021-11-25   spoof   \n",
       "3599    spoof_9_2021-11-25   spoof   \n",
       "\n",
       "                           system calls frequency_1gram  \n",
       "0     [0, 0, 0, 0, 0, 0, 0, 0, 0, 0, 0, 28809, 0, 0,...  \n",
       "1     [0, 0, 0, 0, 0, 0, 0, 0, 0, 0, 0, 25768, 0, 0,...  \n",
       "2     [0, 0, 0, 0, 0, 0, 0, 0, 0, 0, 0, 25094, 0, 0,...  \n",
       "3     [0, 0, 0, 0, 0, 0, 0, 0, 0, 0, 0, 25377, 0, 0,...  \n",
       "4     [0, 0, 0, 0, 0, 0, 0, 0, 0, 0, 0, 23190, 0, 0,...  \n",
       "...                                                 ...  \n",
       "3595  [0, 0, 0, 0, 0, 0, 0, 0, 0, 0, 0, 26653, 0, 0,...  \n",
       "3596  [0, 0, 0, 0, 0, 0, 0, 0, 0, 0, 0, 23787, 0, 0,...  \n",
       "3597  [0, 0, 0, 0, 0, 0, 0, 0, 0, 0, 0, 25347, 0, 0,...  \n",
       "3598  [0, 0, 0, 0, 0, 0, 0, 0, 0, 0, 0, 24196, 0, 0,...  \n",
       "3599  [0, 0, 0, 1, 0, 0, 0, 0, 0, 0, 0, 23139, 0, 0,...  \n",
       "\n",
       "[3600 rows x 3 columns]"
      ]
     },
     "execution_count": 12,
     "metadata": {},
     "output_type": "execute_result"
    }
   ],
   "source": [
    "df"
   ]
  },
  {
   "cell_type": "code",
   "execution_count": 13,
   "metadata": {},
   "outputs": [],
   "source": [
    "df = encoded_trace_df[['ids', 'maltype', cols[2]]]"
   ]
  },
  {
   "cell_type": "code",
   "execution_count": 3,
   "metadata": {},
   "outputs": [],
   "source": [
    "def split(device, tw):\n",
    "    print('start {} {}'.format(device, tw))\n",
    "    encoded_trace_df = pd.read_pickle(encodePath+'encoded_bow{}_{}.pkl'.format(device, tw))\n",
    "    print('read {} {} finished'.format(device, tw))\n",
    "    cols = encoded_trace_df.columns\n",
    "    for i in range(2, len(cols)):\n",
    "        if type(encoded_trace_df[cols[i]][0])!=list:\n",
    "            ft = [x.tolist() for x in encoded_trace_df[cols[i]]]\n",
    "        else:\n",
    "            ft = [x for x in encoded_trace_df[cols[i]]]\n",
    "        df = pd.DataFrame([encoded_trace_df['ids'].tolist(), encoded_trace_df['maltype'].tolist(), ft]).transpose()\n",
    "        df.columns = ['ids', 'maltype', cols[i]]\n",
    "        print(df.columns)\n",
    "        df.to_csv(encodePath+'encoded_bow{}_{}_{}.csv'.format(device, tw, cols[i]), sep='\\t', index=None)"
   ]
  },
  {
   "cell_type": "code",
   "execution_count": 6,
   "metadata": {},
   "outputs": [
    {
     "name": "stdout",
     "output_type": "stream",
     "text": [
      "start pi3 60\n",
      "read pi3 60 finished\n",
      "Index(['ids', 'maltype', 'system calls frequency_1gram'], dtype='object')\n",
      "Index(['ids', 'maltype', 'system calls tfidf_1gram'], dtype='object')\n",
      "Index(['ids', 'maltype', 'system calls hashing_1gram'], dtype='object')\n",
      "Index(['ids', 'maltype', 'system calls frequency_2gram'], dtype='object')\n",
      "Index(['ids', 'maltype', 'system calls tfidf_2gram'], dtype='object')\n",
      "Index(['ids', 'maltype', 'system calls hashing_2gram'], dtype='object')\n",
      "Index(['ids', 'maltype', 'system calls frequency_3gram'], dtype='object')\n",
      "Index(['ids', 'maltype', 'system calls tfidf_3gram'], dtype='object')\n",
      "Index(['ids', 'maltype', 'system calls hashing_3gram'], dtype='object')\n",
      "Index(['ids', 'maltype', 'system calls frequency_4gram'], dtype='object')\n",
      "Index(['ids', 'maltype', 'system calls tfidf_4gram'], dtype='object')\n",
      "Index(['ids', 'maltype', 'system calls hashing_4gram'], dtype='object')\n",
      "Index(['ids', 'maltype', 'system calls frequency_5gram'], dtype='object')\n",
      "Index(['ids', 'maltype', 'system calls tfidf_5gram'], dtype='object')\n",
      "Index(['ids', 'maltype', 'system calls hashing_5gram'], dtype='object')\n",
      "start pi4_2G 60\n",
      "read pi4_2G 60 finished\n",
      "Index(['ids', 'maltype', 'system calls frequency_1gram'], dtype='object')\n",
      "Index(['ids', 'maltype', 'system calls tfidf_1gram'], dtype='object')\n",
      "Index(['ids', 'maltype', 'system calls hashing_1gram'], dtype='object')\n",
      "Index(['ids', 'maltype', 'system calls frequency_2gram'], dtype='object')\n",
      "Index(['ids', 'maltype', 'system calls tfidf_2gram'], dtype='object')\n",
      "Index(['ids', 'maltype', 'system calls hashing_2gram'], dtype='object')\n",
      "Index(['ids', 'maltype', 'system calls frequency_3gram'], dtype='object')\n",
      "Index(['ids', 'maltype', 'system calls tfidf_3gram'], dtype='object')\n",
      "Index(['ids', 'maltype', 'system calls hashing_3gram'], dtype='object')\n",
      "Index(['ids', 'maltype', 'system calls frequency_4gram'], dtype='object')\n",
      "Index(['ids', 'maltype', 'system calls tfidf_4gram'], dtype='object')\n",
      "Index(['ids', 'maltype', 'system calls hashing_4gram'], dtype='object')\n",
      "Index(['ids', 'maltype', 'system calls frequency_5gram'], dtype='object')\n",
      "Index(['ids', 'maltype', 'system calls tfidf_5gram'], dtype='object')\n",
      "Index(['ids', 'maltype', 'system calls hashing_5gram'], dtype='object')\n",
      "start pi4_4G 60\n",
      "read pi4_4G 60 finished\n",
      "Index(['ids', 'maltype', 'system calls frequency_1gram'], dtype='object')\n",
      "Index(['ids', 'maltype', 'system calls tfidf_1gram'], dtype='object')\n",
      "Index(['ids', 'maltype', 'system calls hashing_1gram'], dtype='object')\n",
      "Index(['ids', 'maltype', 'system calls frequency_2gram'], dtype='object')\n",
      "Index(['ids', 'maltype', 'system calls tfidf_2gram'], dtype='object')\n",
      "Index(['ids', 'maltype', 'system calls hashing_2gram'], dtype='object')\n",
      "Index(['ids', 'maltype', 'system calls frequency_3gram'], dtype='object')\n",
      "Index(['ids', 'maltype', 'system calls tfidf_3gram'], dtype='object')\n",
      "Index(['ids', 'maltype', 'system calls hashing_3gram'], dtype='object')\n",
      "Index(['ids', 'maltype', 'system calls frequency_4gram'], dtype='object')\n",
      "Index(['ids', 'maltype', 'system calls tfidf_4gram'], dtype='object')\n",
      "Index(['ids', 'maltype', 'system calls hashing_4gram'], dtype='object')\n",
      "Index(['ids', 'maltype', 'system calls frequency_5gram'], dtype='object')\n",
      "Index(['ids', 'maltype', 'system calls tfidf_5gram'], dtype='object')\n",
      "Index(['ids', 'maltype', 'system calls hashing_5gram'], dtype='object')\n"
     ]
    }
   ],
   "source": [
    "for device in devices:\n",
    "    for tw in [60]:\n",
    "        split(device, tw)"
   ]
  }
 ],
 "metadata": {
  "interpreter": {
   "hash": "63fd5069d213b44bf678585dea6b12cceca9941eaf7f819626cde1f2670de90d"
  },
  "kernelspec": {
   "display_name": "Python 3.9.6 64-bit",
   "name": "python3"
  },
  "language_info": {
   "codemirror_mode": {
    "name": "ipython",
    "version": 3
   },
   "file_extension": ".py",
   "mimetype": "text/x-python",
   "name": "python",
   "nbconvert_exporter": "python",
   "pygments_lexer": "ipython3",
   "version": "3.9.6"
  },
  "orig_nbformat": 4
 },
 "nbformat": 4,
 "nbformat_minor": 2
}
