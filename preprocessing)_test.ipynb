{
 "cells": [
  {
   "cell_type": "code",
   "execution_count": 1,
   "metadata": {},
   "outputs": [],
   "source": [
    "import re\n",
    "import pandas as pd\n",
    "import nltk\n",
    "from sklearn.feature_extraction.text import TfidfVectorizer, CountVectorizer, HashingVectorizer\n",
    "import os,sys\n",
    "import tqdm\n",
    "import pickle\n",
    "import time\n",
    "from concurrent.futures import ThreadPoolExecutor  \n",
    "import concurrent.futures"
   ]
  },
  {
   "cell_type": "code",
   "execution_count": 2,
   "metadata": {},
   "outputs": [],
   "source": [
    "rootPath ='D:/git/IoT_Sensors_Security_Analysis/data/perf/'"
   ]
  },
  {
   "cell_type": "code",
   "execution_count": 3,
   "metadata": {},
   "outputs": [],
   "source": [
    "def from_trace_to_longstr(syscall_trace):\n",
    "        tracestr = ''\n",
    "        for syscall in syscall_trace:\n",
    "            tracestr += syscall + ' '\n",
    "        # print(tracestr)\n",
    "        return tracestr"
   ]
  },
  {
   "cell_type": "code",
   "execution_count": 4,
   "metadata": {},
   "outputs": [],
   "source": [
    "def read_all_rawdata(corpus_dataframe,corpus, rawdataPath, rawFileNames):    \n",
    "    pool = ThreadPoolExecutor  (max_workers = 16)\n",
    "    def read_file(inputFilePath):\n",
    "        trace = pd.read_csv(inputFilePath)\n",
    "        tr = trace['syscall'].tolist()             \n",
    "        longstr = from_trace_to_longstr(tr)\n",
    "        return (trace,longstr)\n",
    "        # print(inputFilePath)\n",
    "    def asyn_page(filenames):\n",
    "        future_to_url  = dict()\n",
    "        for i, url in enumerate(filenames):\n",
    "            t = pool.submit(read_file, url)\n",
    "            future_to_url[t] = url               \n",
    "        for future in concurrent.futures.as_completed(future_to_url):\n",
    "            url = future_to_url[future]\n",
    "            try:\n",
    "                data = future.result()\n",
    "                (trace,longstr) = data\n",
    "                corpus_dataframe.append(trace)\n",
    "                corpus.append(longstr)\n",
    "            except Exception as exc:\n",
    "                print('%r generated an exception: %s' % (filenames, exc))\n",
    "    \n",
    "    par = tqdm.tqdm(total = len(rawFileNames), ncols=100)\n",
    "    # i = 0\n",
    "    start, end = 0,0\n",
    "    for n in range(0,len(rawFileNames),16):\n",
    "        par.update(16)\n",
    "        start = n\n",
    "        if start + 16 < len(rawFileNames):\n",
    "            end = start + 16\n",
    "        else:\n",
    "            end = len(rawFileNames)\n",
    "        filenames = [rawdataPath + rawFileNames[i] for i in range(start, end)]\n",
    "        asyn_page(filenames)\n",
    "    par.close()\n",
    "    pool.shutdown()\n",
    "    print(\"Sub-process(es) done.\")\n",
    "    return corpus_dataframe, corpus"
   ]
  },
  {
   "cell_type": "code",
   "execution_count": 5,
   "metadata": {},
   "outputs": [],
   "source": [
    "def create_onehot_encoding(total, index):\n",
    "    onehot = []\n",
    "    for i in range(0, total):\n",
    "        if i == index:\n",
    "            onehot.append(1)\n",
    "        else:\n",
    "            onehot.append(0)\n",
    "    return onehot"
   ]
  },
  {
   "cell_type": "code",
   "execution_count": 6,
   "metadata": {},
   "outputs": [],
   "source": [
    "def add_unk_to_dict(syscall_dict):\n",
    "    total = len(syscall_dict)\n",
    "    syscall_dict['unk'] = total\n",
    "    syscall_dict_onehot = dict()\n",
    "    for sc in syscall_dict:\n",
    "        syscall_dict_onehot[sc] = create_onehot_encoding(total+1, syscall_dict[sc])\n",
    "    return syscall_dict, syscall_dict_onehot"
   ]
  },
  {
   "cell_type": "code",
   "execution_count": 7,
   "metadata": {},
   "outputs": [],
   "source": [
    "def replace_with_unk(syscall_trace, syscall_dict):\n",
    "    for i, sc in enumerate(syscall_trace):\n",
    "        if sc.lower() not in syscall_dict:\n",
    "            syscall_trace[i] = 'unk'\n",
    "    return syscall_trace"
   ]
  },
  {
   "cell_type": "code",
   "execution_count": 8,
   "metadata": {},
   "outputs": [],
   "source": [
    "def trace_onehot_encoding(trace, syscall_dict_onehot):\n",
    "    encoded_trace = []\n",
    "    for syscall in trace:\n",
    "        syscall = syscall.lower()\n",
    "        if syscall.lower() in syscall_dict_onehot:\n",
    "            one_hot = syscall_dict_onehot[syscall]\n",
    "        else:\n",
    "            syscall = 'UNK'\n",
    "            one_hot = syscall_dict_onehot[syscall]\n",
    "        encoded_trace.append(one_hot)\n",
    "    return encoded_trace"
   ]
  },
  {
   "cell_type": "code",
   "execution_count": 9,
   "metadata": {},
   "outputs": [],
   "source": [
    "def find_all_head(trace, head):\n",
    "    starts, ends,se = [], [], []\n",
    "\n",
    "    for i,s in enumerate(trace):\n",
    "        if s == head:\n",
    "            start=i\n",
    "            starts.append(start)\n",
    "            if len(starts) > 1:\n",
    "                end = starts[-1] \n",
    "                ends.append(end)\n",
    "        if i == len(trace)-1:\n",
    "            end = len(trace)\n",
    "            ends.append(end)\n",
    "    se = [(starts[i], ends[i]) for i in range(0, len(starts))]\n",
    "    return se"
   ]
  },
  {
   "cell_type": "code",
   "execution_count": 10,
   "metadata": {},
   "outputs": [],
   "source": [
    "def get_distance( trace,head,tails):\n",
    "    se = find_all_head(trace, head)\n",
    "    mw = 12\n",
    "    pool = ThreadPoolExecutor  (max_workers = mw)\n",
    "    distances = []\n",
    "    res = dict()\n",
    "    def return_distance(tails, sort):\n",
    "        distance = dict()\n",
    "        for tail in tails:\n",
    "            d = 0\n",
    "            for j,t in enumerate(sort):\n",
    "                if t==tail:\n",
    "                    d += 1/(j)\n",
    "            distance[tail] = d\n",
    "        return distance\n",
    "\n",
    "    def asyn_page(tails, sorts):\n",
    "        future_to_url  = dict()\n",
    "        for i, url in enumerate(sorts):\n",
    "            t = pool.submit(return_distance, tails=tails, sort=url)\n",
    "            future_to_url[t] = url               \n",
    "        for future in concurrent.futures.as_completed(future_to_url):\n",
    "            url = future_to_url[future]\n",
    "            try:\n",
    "                data = future.result()\n",
    "                distance = data\n",
    "                distances.append(distance)\n",
    "            except Exception as exc:\n",
    "                print('generated an exception: %s' % (exc))\n",
    "    start, end = 0,0\n",
    "    for n in range(0, len(se), mw):\n",
    "        start = n\n",
    "        if start + mw < len(rawFileNames):\n",
    "            end = start + mw\n",
    "        else:\n",
    "            end = len(rawFileNames)            \n",
    "        sorts = [trace[s:e] for (s, e) in se[start:end]]\n",
    "        asyn_page(tails, sorts)\n",
    "    pool.shutdown()\n",
    "    # print(\"Sub-process(es) done.\")\n",
    "    ds = pd.DataFrame(distances)\n",
    "    for tail in tails:\n",
    "        if tail in ds:\n",
    "            res[(head, tail)] = sum(ds[tail])\n",
    "        else:\n",
    "            res[(head, tail)] = 0\n",
    "    return res"
   ]
  },
  {
   "cell_type": "code",
   "execution_count": 11,
   "metadata": {},
   "outputs": [],
   "source": [
    "def get_dependency_graph(trace,term_dict):\n",
    "    dp = []\n",
    "    dp_ = {}\n",
    "    for head in term_dict:\n",
    "        tails = list(term_dict.keys())\n",
    "        tails.remove(head)  \n",
    "        p = get_distance(trace,head,tails)\n",
    "        dp_ = {**dp_, **p}\n",
    "    \n",
    "    for head in term_dict:\n",
    "        d_ =  []\n",
    "        for tail in term_dict:\n",
    "            if head == tail:\n",
    "                d_.append(0)\n",
    "            else:\n",
    "                d_.append(dp_[(head, tail)])\n",
    "        dp.append(d_)\n",
    "    return dp"
   ]
  },
  {
   "cell_type": "code",
   "execution_count": 12,
   "metadata": {},
   "outputs": [],
   "source": [
    "def get_dict_sequence(trace,term_dict):\n",
    "    dict_sequence = []\n",
    "    for syscall in trace:\n",
    "        if syscall in term_dict:\n",
    "            dict_sequence.append(term_dict[syscall])\n",
    "        else:\n",
    "            dict_sequence.append(term_dict['unk'])\n",
    "    return dict_sequence\n"
   ]
  },
  {
   "cell_type": "code",
   "execution_count": 13,
   "metadata": {},
   "outputs": [],
   "source": [
    "def get_sequence_features(corpus_dataframe, syscall_dict, syscall_dict_onehot):\n",
    "    one_hot_features = []\n",
    "    dependency_graph_features = []\n",
    "    dict_sequence_features = []\n",
    "    pool = ThreadPoolExecutor  (max_workers = 16)\n",
    "\n",
    "    def get_features(trace, syscall_dict, syscall_dict_onehot):\n",
    "        syscall_one_hot = []\n",
    "        dependency_graph = []\n",
    "        dict_sequence = []\n",
    "        syscall_trace = replace_with_unk(trace['syscall'].to_list(), syscall_dict)\n",
    "        syscall_one_hot =  trace_onehot_encoding(syscall_trace, syscall_dict_onehot)\n",
    "        dependency_graph = get_dependency_graph(syscall_trace,syscall_dict)\n",
    "        dict_sequence=get_dict_sequence(syscall_trace,syscall_dict)\n",
    "        return (syscall_one_hot, dependency_graph, dict_sequence)\n",
    "\n",
    "    def asyn_page(cf):\n",
    "        future_to_url  = dict()\n",
    "        for i, url in enumerate(cf):\n",
    "            t = pool.submit(get_features, url, syscall_dict, syscall_dict_onehot)\n",
    "            future_to_url[t] = url               \n",
    "        for future in concurrent.futures.as_completed(future_to_url):\n",
    "            url = future_to_url[future]\n",
    "            try:\n",
    "                data = future.result()\n",
    "                (syscall_one_hot, dependency_graph, dict_sequence) = data\n",
    "                one_hot_features.append(syscall_one_hot)\n",
    "                dependency_graph_features.append(dependency_graph)\n",
    "                dict_sequence_features.append(dict_sequence)\n",
    "            except Exception as exc:\n",
    "                print('generated an exception: %s' % ( exc))\n",
    "\n",
    "\n",
    "    par = tqdm.tqdm(total = len(corpus_dataframe), ncols=100)\n",
    "    # i = 0\n",
    "    start, end = 0,0\n",
    "    for n in range(0,len(corpus_dataframe),16):\n",
    "        par.update(16)\n",
    "        start = n\n",
    "        if start + 16 < len(corpus_dataframe):\n",
    "            end = start + 16\n",
    "        else:\n",
    "            end = len(corpus_dataframe)\n",
    "        cf = corpus_dataframe[start: end]\n",
    "        asyn_page(cf)\n",
    "    par.close()   \n",
    "    return one_hot_features, dependency_graph_features, dict_sequence_features"
   ]
  },
  {
   "cell_type": "code",
   "execution_count": 14,
   "metadata": {},
   "outputs": [],
   "source": [
    "def run(testdevice, traindevice, tw):\n",
    "    rawdataPath = rootPath+'{}/splited_1/{}/'.format(testdevice, tw)\n",
    "    rawFileNames = os.listdir(rawdataPath)\n",
    "    print(len(rawFileNames))\n",
    "\n",
    "    rawdatas = dict()\n",
    "    for n in range(0,len(rawFileNames),1000):\n",
    "        start = n\n",
    "        if start + 1000 < len(rawFileNames):\n",
    "            end = start + 1000\n",
    "        else:\n",
    "            end = len(rawFileNames)\n",
    "        rawdatas[n] = rawFileNames[start:end]\n",
    "\n",
    "    corpus_dataframes, corpuses = {}, {}\n",
    "    for rfs in rawdatas:\n",
    "        corpus_dataframe, corpus = [],[]\n",
    "        corpus_dataframe, corpus = read_all_rawdata(corpus_dataframe,corpus, rawdataPath, rawdatas[rfs])\n",
    "        corpus_dataframes[rfs] = corpus_dataframe\n",
    "        corpuses[rfs] = corpus\n",
    "    \n",
    "    corpus_dataframe, corpus = [],[]\n",
    "    for rfs in corpus_dataframes:\n",
    "        corpus_dataframe += corpus_dataframes[rfs]\n",
    "        corpus += corpuses[rfs]\n",
    "    \n",
    "    # load the dict which is used for train model device\n",
    "    dictPath = rootPath +'dicts/{}/{}/'.format(traindevice,tw)\n",
    "\n",
    "    loc=open(dictPath+'syscall_dict.pk','rb')\n",
    "    syscall_dict = pickle.load(loc)\n",
    "\n",
    "    loc=open(dictPath+'syscall_dict_onehot.pk','rb')\n",
    "    syscall_dict_onehot = pickle.load(loc)\n",
    "\n",
    "    loc=open(dictPath+'ngrams_dict.pk','rb')\n",
    "    ngrams_dict = pickle.load(loc)\n",
    "\n",
    "\n",
    "    loc=open(dictPath+'countvectorizer.pk','rb')\n",
    "    countvectorizer = pickle.load(loc)\n",
    "\n",
    "    loc=open(dictPath+'hashingvectorizer.pk','rb')\n",
    "    hashingvectorizer = pickle.load(loc)\n",
    "\n",
    "    loc=open(dictPath+'tfidfvectorizer.pk','rb')\n",
    "    tfidfvectorizer = pickle.load(loc)\n",
    "\n",
    "    frequency_features = countvectorizer.transform(corpus)\n",
    "    tfidf_features = tfidfvectorizer.transform(corpus)\n",
    "    hashing_features = hashingvectorizer.transform(corpus)\n",
    "    one_hot_features, dependency_graph_features, dict_sequence_features = get_sequence_features(corpus_dataframe, syscall_dict, syscall_dict_onehot)\n",
    "    maltype = []\n",
    "    ids = []\n",
    "    for fi in rawFileNames:\n",
    "        fis = fi.split('_')\n",
    "        fn = fis[0]\n",
    "        i = '{}_{}_{}'.format(fis[0], fis[2], fis[3])\n",
    "        maltype.append(fn)\n",
    "        ids.append(i)\n",
    "    encoded_trace_df = pd.DataFrame([ids, maltype,frequency_features.toarray() ,tfidf_features.toarray(),hashing_features.toarray(), dependency_graph_features, one_hot_features, dict_sequence_features] ).transpose()\n",
    "    encoded_trace_df.columns = ['ids', 'maltype',  'system calls frequency' ,'system calls tfidf','system calls hashing', 'system calls dependency graph', 'one hot encoding', 'dict index encoding']\n",
    "\n",
    "    temppath  = rootPath + 'testset/train{}_test{}/'.format(traindevice, testdevice)\n",
    "    encoded_trace_df.to_pickle(temppath+'test_{}_encoded_bow.pkl'.format(tw))"
   ]
  },
  {
   "cell_type": "code",
   "execution_count": 15,
   "metadata": {},
   "outputs": [
    {
     "name": "stdout",
     "output_type": "stream",
     "text": [
      "pi3 pi4_2G 50\n",
      "3932\n"
     ]
    },
    {
     "name": "stderr",
     "output_type": "stream",
     "text": [
      "  0%|                                                                      | 0/1000 [00:00<?, ?it/s]C:\\Python39\\lib\\concurrent\\futures\\thread.py:52: DtypeWarning: Columns (3) have mixed types.Specify dtype option on import or set low_memory=False.\n",
      "  result = self.fn(*self.args, **self.kwargs)\n",
      "1008it [01:41,  9.89it/s]\n"
     ]
    },
    {
     "name": "stdout",
     "output_type": "stream",
     "text": [
      "Sub-process(es) done.\n"
     ]
    },
    {
     "name": "stderr",
     "output_type": "stream",
     "text": [
      "1008it [01:47,  9.36it/s]\n"
     ]
    },
    {
     "name": "stdout",
     "output_type": "stream",
     "text": [
      "Sub-process(es) done.\n"
     ]
    },
    {
     "name": "stderr",
     "output_type": "stream",
     "text": [
      "1008it [02:01,  8.30it/s]\n"
     ]
    },
    {
     "name": "stdout",
     "output_type": "stream",
     "text": [
      "Sub-process(es) done.\n"
     ]
    },
    {
     "name": "stderr",
     "output_type": "stream",
     "text": [
      "944it [02:02,  7.69it/s]\n"
     ]
    },
    {
     "name": "stdout",
     "output_type": "stream",
     "text": [
      "Sub-process(es) done.\n"
     ]
    },
    {
     "name": "stderr",
     "output_type": "stream",
     "text": [
      "  0%|                                                                      | 0/3932 [00:00<?, ?it/s]"
     ]
    },
    {
     "name": "stdout",
     "output_type": "stream",
     "text": [
      "generated an exception: name 'rawFileNames' is not defined\n",
      "generated an exception: name 'rawFileNames' is not defined\n"
     ]
    },
    {
     "name": "stderr",
     "output_type": "stream",
     "text": [
      "  1%|▍                                                            | 32/3932 [00:00<01:50, 35.19it/s]"
     ]
    },
    {
     "name": "stdout",
     "output_type": "stream",
     "text": [
      "generated an exception: name 'rawFileNames' is not defined\n",
      "generated an exception: name 'rawFileNames' is not defined\n",
      "generated an exception: name 'rawFileNames' is not defined\n",
      "generated an exception: name 'rawFileNames' is not defined\n",
      "generated an exception: name 'rawFileNames' is not defined\n",
      "generated an exception: name 'rawFileNames' is not defined\n",
      "generated an exception: name 'rawFileNames' is not defined\n",
      "generated an exception: name 'rawFileNames' is not defined\n",
      "generated an exception: name 'rawFileNames' is not defined\n",
      "generated an exception: name 'rawFileNames' is not defined\n",
      "generated an exception: name 'rawFileNames' is not defined\n",
      "generated an exception: name 'rawFileNames' is not defined\n",
      "generated an exception: name 'rawFileNames' is not defined\n",
      "generated an exception: name 'rawFileNames' is not defined\n",
      "generated an exception: name 'rawFileNames' is not defined"
     ]
    },
    {
     "name": "stderr",
     "output_type": "stream",
     "text": [
      "  1%|▋                                                            | 48/3932 [00:01<02:33, 25.34it/s]"
     ]
    },
    {
     "name": "stdout",
     "output_type": "stream",
     "text": [
      "\n",
      "generated an exception: name 'rawFileNames' is not defined\n",
      "generated an exception: name 'rawFileNames' is not defined\n",
      "generated an exception: name 'rawFileNames' is not defined\n",
      "generated an exception: name 'rawFileNames' is not defined\n",
      "generated an exception: name 'rawFileNames' is not defined\n",
      "generated an exception: name 'rawFileNames' is not defined\n",
      "generated an exception: name 'rawFileNames' is not defined\n",
      "generated an exception: name 'rawFileNames' is not defined\n",
      "generated an exception: name 'rawFileNames' is not defined\n",
      "generated an exception: name 'rawFileNames' is not defined\n",
      "generated an exception: name 'rawFileNames' is not defined\n",
      "generated an exception: name 'rawFileNames' is not defined\n",
      "generated an exception: name 'rawFileNames' is not defined\n",
      "generated an exception: name 'rawFileNames' is not defined\n",
      "generated an exception: name 'rawFileNames' is not defined\n",
      "generated an exception: name 'rawFileNames' is not defined\n",
      "generated an exception: name 'rawFileNames' is not defined"
     ]
    },
    {
     "name": "stderr",
     "output_type": "stream",
     "text": [
      "  2%|▉                                                            | 64/3932 [00:02<02:51, 22.54it/s]"
     ]
    },
    {
     "name": "stdout",
     "output_type": "stream",
     "text": [
      "\n",
      "generated an exception: name 'rawFileNames' is not defined\n",
      "generated an exception: name 'rawFileNames' is not defined\n",
      "generated an exception: name 'rawFileNames' is not defined\n",
      "generated an exception: name 'rawFileNames' is not defined\n",
      "generated an exception: name 'rawFileNames' is not defined\n",
      "generated an exception: name 'rawFileNames' is not defined\n",
      "generated an exception: name 'rawFileNames' is not defined\n",
      "generated an exception: name 'rawFileNames' is not defined\n",
      "generated an exception: name 'rawFileNames' is not defined\n",
      "generated an exception: name 'rawFileNames' is not defined\n",
      "generated an exception: name 'rawFileNames' is not defined\n",
      "generated an exception: name 'rawFileNames' is not defined\n",
      "generated an exception: name 'rawFileNames' is not defined\n",
      "generated an exception: name 'rawFileNames' is not defined\n",
      "generated an exception: name 'rawFileNames' is not defined"
     ]
    },
    {
     "name": "stderr",
     "output_type": "stream",
     "text": [
      "  2%|█▏                                                           | 80/3932 [00:03<03:08, 20.48it/s]"
     ]
    },
    {
     "name": "stdout",
     "output_type": "stream",
     "text": [
      "\n",
      "generated an exception: name 'rawFileNames' is not defined\n",
      "generated an exception: name 'rawFileNames' is not defined\n",
      "generated an exception: name 'rawFileNames' is not defined\n",
      "generated an exception: name 'rawFileNames' is not defined\n",
      "generated an exception: name 'rawFileNames' is not defined\n",
      "generated an exception: name 'rawFileNames' is not defined\n",
      "generated an exception: name 'rawFileNames' is not defined\n",
      "generated an exception: name 'rawFileNames' is not defined\n",
      "generated an exception: name 'rawFileNames' is not defined\n",
      "generated an exception: name 'rawFileNames' is not defined\n",
      "generated an exception: name 'rawFileNames' is not defined\n",
      "generated an exception: name 'rawFileNames' is not defined\n",
      "generated an exception: name 'rawFileNames' is not defined\n",
      "generated an exception: name 'rawFileNames' is not defined\n",
      "generated an exception: name 'rawFileNames' is not defined\n"
     ]
    },
    {
     "name": "stderr",
     "output_type": "stream",
     "text": [
      "  2%|█▍                                                           | 96/3932 [00:04<03:19, 19.25it/s]"
     ]
    },
    {
     "name": "stdout",
     "output_type": "stream",
     "text": [
      "generated an exception: name 'rawFileNames' is not defined\n",
      "generated an exception: name 'rawFileNames' is not defined\n",
      "generated an exception: name 'rawFileNames' is not defined\n",
      "generated an exception: name 'rawFileNames' is not defined\n",
      "generated an exception: name 'rawFileNames' is not defined\n",
      "generated an exception: name 'rawFileNames' is not defined\n",
      "generated an exception: name 'rawFileNames' is not defined\n",
      "generated an exception: name 'rawFileNames' is not defined\n",
      "generated an exception: name 'rawFileNames' is not defined\n",
      "generated an exception: name 'rawFileNames' is not defined\n",
      "generated an exception: name 'rawFileNames' is not defined\n",
      "generated an exception: name 'rawFileNames' is not defined\n",
      "generated an exception: name 'rawFileNames' is not defined\n",
      "generated an exception: name 'rawFileNames' is not defined\n",
      "generated an exception: name 'rawFileNames' is not defined\n",
      "generated an exception: name 'rawFileNames' is not defined\n"
     ]
    },
    {
     "name": "stderr",
     "output_type": "stream",
     "text": [
      "  3%|█▋                                                          | 112/3932 [00:05<03:23, 18.75it/s]"
     ]
    },
    {
     "name": "stdout",
     "output_type": "stream",
     "text": [
      "generated an exception: name 'rawFileNames' is not defined\n",
      "generated an exception: name 'rawFileNames' is not defined\n",
      "generated an exception: name 'rawFileNames' is not defined\n",
      "generated an exception: name 'rawFileNames' is not defined\n",
      "generated an exception: name 'rawFileNames' is not defined\n",
      "generated an exception: name 'rawFileNames' is not defined\n",
      "generated an exception: name 'rawFileNames' is not defined\n",
      "generated an exception: name 'rawFileNames' is not defined\n",
      "generated an exception: name 'rawFileNames' is not defined\n",
      "generated an exception: name 'rawFileNames' is not defined\n",
      "generated an exception: name 'rawFileNames' is not defined\n",
      "generated an exception: name 'rawFileNames' is not defined\n",
      "generated an exception: name 'rawFileNames' is not defined\n",
      "generated an exception: name 'rawFileNames' is not defined\n",
      "generated an exception: name 'rawFileNames' is not defined\n",
      "generated an exception: name 'rawFileNames' is not defined\n"
     ]
    },
    {
     "name": "stderr",
     "output_type": "stream",
     "text": [
      "  3%|█▉                                                          | 128/3932 [00:06<03:24, 18.56it/s]"
     ]
    },
    {
     "name": "stdout",
     "output_type": "stream",
     "text": [
      "generated an exception: name 'rawFileNames' is not defined\n",
      "generated an exception: name 'rawFileNames' is not defined\n",
      "generated an exception: name 'rawFileNames' is not defined\n",
      "generated an exception: name 'rawFileNames' is not defined\n",
      "generated an exception: name 'rawFileNames' is not defined\n",
      "generated an exception: name 'rawFileNames' is not defined\n",
      "generated an exception: name 'rawFileNames' is not defined\n",
      "generated an exception: name 'rawFileNames' is not defined\n",
      "generated an exception: name 'rawFileNames' is not defined\n",
      "generated an exception: name 'rawFileNames' is not defined\n",
      "generated an exception: name 'rawFileNames' is not defined\n",
      "generated an exception: name 'rawFileNames' is not defined\n",
      "generated an exception: name 'rawFileNames' is not defined\n",
      "generated an exception: name 'rawFileNames' is not defined\n",
      "generated an exception: name 'rawFileNames' is not defined\n",
      "generated an exception: name 'rawFileNames' is not defined\n",
      "generated an exception: name 'rawFileNames' is not defined"
     ]
    },
    {
     "name": "stderr",
     "output_type": "stream",
     "text": [
      "  4%|██▏                                                         | 144/3932 [00:07<03:28, 18.15it/s]"
     ]
    },
    {
     "name": "stdout",
     "output_type": "stream",
     "text": [
      "\n",
      "generated an exception: name 'rawFileNames' is not defined\n",
      "generated an exception: name 'rawFileNames' is not defined\n",
      "generated an exception: name 'rawFileNames' is not defined\n",
      "generated an exception: name 'rawFileNames' is not defined\n",
      "generated an exception: name 'rawFileNames' is not defined\n",
      "generated an exception: name 'rawFileNames' is not defined\n",
      "generated an exception: name 'rawFileNames' is not defined\n",
      "generated an exception: name 'rawFileNames' is not defined\n",
      "generated an exception: name 'rawFileNames' is not defined\n",
      "generated an exception: name 'rawFileNames' is not defined\n",
      "generated an exception: name 'rawFileNames' is not defined\n",
      "generated an exception: name 'rawFileNames' is not defined\n",
      "generated an exception: name 'rawFileNames' is not defined\n",
      "generated an exception: name 'rawFileNames' is not defined\n",
      "generated an exception: name 'rawFileNames' is not defined\n"
     ]
    },
    {
     "name": "stderr",
     "output_type": "stream",
     "text": [
      "  4%|██▍                                                         | 160/3932 [00:08<03:33, 17.68it/s]"
     ]
    },
    {
     "name": "stdout",
     "output_type": "stream",
     "text": [
      "generated an exception: name 'rawFileNames' is not defined\n",
      "generated an exception: name 'rawFileNames' is not defined\n",
      "generated an exception: name 'rawFileNames' is not defined\n",
      "generated an exception: name 'rawFileNames' is not defined\n",
      "generated an exception: name 'rawFileNames' is not defined\n",
      "generated an exception: name 'rawFileNames' is not defined\n",
      "generated an exception: name 'rawFileNames' is not defined\n",
      "generated an exception: name 'rawFileNames' is not defined\n",
      "generated an exception: name 'rawFileNames' is not defined\n",
      "generated an exception: name 'rawFileNames' is not defined\n",
      "generated an exception: name 'rawFileNames' is not defined\n",
      "generated an exception: name 'rawFileNames' is not defined\n",
      "generated an exception: name 'rawFileNames' is not defined\n",
      "generated an exception: name 'rawFileNames' is not defined\n",
      "generated an exception: name 'rawFileNames' is not defined\n",
      "generated an exception: name 'rawFileNames' is not defined\n",
      "generated an exception: name 'rawFileNames' is not defined"
     ]
    },
    {
     "name": "stderr",
     "output_type": "stream",
     "text": [
      "  4%|██▋                                                         | 176/3932 [00:09<03:31, 17.74it/s]"
     ]
    },
    {
     "name": "stdout",
     "output_type": "stream",
     "text": [
      "\n",
      "generated an exception: name 'rawFileNames' is not defined\n",
      "generated an exception: name 'rawFileNames' is not defined\n",
      "generated an exception: name 'rawFileNames' is not defined\n",
      "generated an exception: name 'rawFileNames' is not defined\n",
      "generated an exception: name 'rawFileNames' is not defined\n",
      "generated an exception: name 'rawFileNames' is not defined\n",
      "generated an exception: name 'rawFileNames' is not defined\n",
      "generated an exception: name 'rawFileNames' is not defined\n",
      "generated an exception: name 'rawFileNames' is not defined\n",
      "generated an exception: name 'rawFileNames' is not defined\n",
      "generated an exception: name 'rawFileNames' is not defined\n",
      "generated an exception: name 'rawFileNames' is not defined\n",
      "generated an exception: name 'rawFileNames' is not defined\n",
      "generated an exception: name 'rawFileNames' is not defined\n",
      "generated an exception: name 'rawFileNames' is not defined\n",
      "generated an exception: name 'rawFileNames' is not defined\n"
     ]
    },
    {
     "name": "stderr",
     "output_type": "stream",
     "text": [
      "  5%|██▉                                                         | 192/3932 [00:09<03:32, 17.57it/s]"
     ]
    },
    {
     "name": "stdout",
     "output_type": "stream",
     "text": [
      "generated an exception: name 'rawFileNames' is not defined\n",
      "generated an exception: name 'rawFileNames' is not defined\n",
      "generated an exception: name 'rawFileNames' is not defined\n",
      "generated an exception: name 'rawFileNames' is not defined\n",
      "generated an exception: name 'rawFileNames' is not defined\n",
      "generated an exception: name 'rawFileNames' is not defined\n",
      "generated an exception: name 'rawFileNames' is not defined\n",
      "generated an exception: name 'rawFileNames' is not defined\n",
      "generated an exception: name 'rawFileNames' is not defined\n",
      "generated an exception: name 'rawFileNames' is not defined\n",
      "generated an exception: name 'rawFileNames' is not defined\n",
      "generated an exception: name 'rawFileNames' is not defined\n",
      "generated an exception: name 'rawFileNames' is not defined\n",
      "generated an exception: name 'rawFileNames' is not defined\n",
      "generated an exception: name 'rawFileNames' is not defined\n",
      "generated an exception: name 'rawFileNames' is not defined\n",
      "generated an exception: name 'rawFileNames' is not defined\n",
      "generated an exception: name 'rawFileNames' is not defined"
     ]
    },
    {
     "name": "stderr",
     "output_type": "stream",
     "text": [
      "  5%|███▏                                                        | 208/3932 [00:10<03:31, 17.61it/s]"
     ]
    },
    {
     "name": "stdout",
     "output_type": "stream",
     "text": [
      "\n",
      "generated an exception: name 'rawFileNames' is not defined\n",
      "generated an exception: name 'rawFileNames' is not defined\n",
      "generated an exception: name 'rawFileNames' is not defined\n",
      "generated an exception: name 'rawFileNames' is not defined\n",
      "generated an exception: name 'rawFileNames' is not defined\n",
      "generated an exception: name 'rawFileNames' is not defined\n",
      "generated an exception: name 'rawFileNames' is not defined\n",
      "generated an exception: name 'rawFileNames' is not defined\n",
      "generated an exception: name 'rawFileNames' is not defined\n",
      "generated an exception: name 'rawFileNames' is not defined\n",
      "generated an exception: name 'rawFileNames' is not defined\n",
      "generated an exception: name 'rawFileNames' is not defined\n",
      "generated an exception: name 'rawFileNames' is not defined\n",
      "generated an exception: name 'rawFileNames' is not defined"
     ]
    },
    {
     "name": "stderr",
     "output_type": "stream",
     "text": [
      "  6%|███▍                                                        | 224/3932 [00:11<03:34, 17.32it/s]"
     ]
    },
    {
     "name": "stdout",
     "output_type": "stream",
     "text": [
      "\n",
      "generated an exception: name 'rawFileNames' is not defined\n",
      "generated an exception: name 'rawFileNames' is not defined\n",
      "generated an exception: name 'rawFileNames' is not defined\n",
      "generated an exception: name 'rawFileNames' is not defined\n",
      "generated an exception: name 'rawFileNames' is not defined\n",
      "generated an exception: name 'rawFileNames' is not defined\n",
      "generated an exception: name 'rawFileNames' is not defined\n",
      "generated an exception: name 'rawFileNames' is not defined\n",
      "generated an exception: name 'rawFileNames' is not defined\n",
      "generated an exception: name 'rawFileNames' is not defined\n",
      "generated an exception: name 'rawFileNames' is not defined\n",
      "generated an exception: name 'rawFileNames' is not defined\n",
      "generated an exception: name 'rawFileNames' is not defined\n",
      "generated an exception: name 'rawFileNames' is not defined\n",
      "generated an exception: name 'rawFileNames' is not defined\n"
     ]
    },
    {
     "name": "stderr",
     "output_type": "stream",
     "text": [
      "  6%|███▋                                                        | 240/3932 [00:12<03:31, 17.44it/s]"
     ]
    },
    {
     "name": "stdout",
     "output_type": "stream",
     "text": [
      "generated an exception: name 'rawFileNames' is not defined\n",
      "generated an exception: name 'rawFileNames' is not defined\n",
      "generated an exception: name 'rawFileNames' is not defined\n",
      "generated an exception: name 'rawFileNames' is not defined\n",
      "generated an exception: name 'rawFileNames' is not defined\n",
      "generated an exception: name 'rawFileNames' is not defined\n",
      "generated an exception: name 'rawFileNames' is not defined\n",
      "generated an exception: name 'rawFileNames' is not defined\n",
      "generated an exception: name 'rawFileNames' is not defined\n",
      "generated an exception: name 'rawFileNames' is not defined\n",
      "generated an exception: name 'rawFileNames' is not defined\n",
      "generated an exception: name 'rawFileNames' is not defined\n",
      "generated an exception: name 'rawFileNames' is not defined\n",
      "generated an exception: name 'rawFileNames' is not defined\n",
      "generated an exception: name 'rawFileNames' is not defined\n",
      "generated an exception: name 'rawFileNames' is not defined\n"
     ]
    },
    {
     "name": "stderr",
     "output_type": "stream",
     "text": [
      "  7%|███▉                                                        | 256/3932 [00:13<03:32, 17.32it/s]"
     ]
    },
    {
     "name": "stdout",
     "output_type": "stream",
     "text": [
      "generated an exception: name 'rawFileNames' is not defined\n",
      "generated an exception: name 'rawFileNames' is not defined\n",
      "generated an exception: name 'rawFileNames' is not defined\n",
      "generated an exception: name 'rawFileNames' is not defined\n",
      "generated an exception: name 'rawFileNames' is not defined\n",
      "generated an exception: name 'rawFileNames' is not defined\n",
      "generated an exception: name 'rawFileNames' is not defined\n",
      "generated an exception: name 'rawFileNames' is not defined\n",
      "generated an exception: name 'rawFileNames' is not defined\n",
      "generated an exception: name 'rawFileNames' is not defined\n",
      "generated an exception: name 'rawFileNames' is not defined\n",
      "generated an exception: name 'rawFileNames' is not defined\n",
      "generated an exception: name 'rawFileNames' is not defined\n",
      "generated an exception: name 'rawFileNames' is not defined\n",
      "generated an exception: name 'rawFileNames' is not defined\n",
      "generated an exception: name 'rawFileNames' is not defined\n",
      "generated an exception: name 'rawFileNames' is not defined\n",
      "generated an exception: name 'rawFileNames' is not defined\n",
      "generated an exception: name 'rawFileNames' is not defined\n",
      "generated an exception: name 'rawFileNames' is not defined\n",
      "generated an exception: name 'rawFileNames' is not defined"
     ]
    },
    {
     "name": "stderr",
     "output_type": "stream",
     "text": [
      "  7%|████▏                                                       | 272/3932 [00:14<03:32, 17.21it/s]"
     ]
    },
    {
     "name": "stdout",
     "output_type": "stream",
     "text": [
      "\n",
      "generated an exception: name 'rawFileNames' is not defined\n",
      "generated an exception: name 'rawFileNames' is not defined\n",
      "generated an exception: name 'rawFileNames' is not defined\n",
      "generated an exception: name 'rawFileNames' is not defined\n",
      "generated an exception: name 'rawFileNames' is not defined\n",
      "generated an exception: name 'rawFileNames' is not defined\n",
      "generated an exception: name 'rawFileNames' is not defined\n",
      "generated an exception: name 'rawFileNames' is not defined\n",
      "generated an exception: name 'rawFileNames' is not defined\n",
      "generated an exception: name 'rawFileNames' is not defined\n",
      "generated an exception: name 'rawFileNames' is not defined\n",
      "generated an exception: name 'rawFileNames' is not defined\n",
      "generated an exception: name 'rawFileNames' is not defined\n",
      "generated an exception: name 'rawFileNames' is not defined\n",
      "generated an exception: name 'rawFileNames' is not defined"
     ]
    },
    {
     "name": "stderr",
     "output_type": "stream",
     "text": [
      "  7%|████▍                                                       | 288/3932 [00:15<03:29, 17.41it/s]"
     ]
    },
    {
     "name": "stdout",
     "output_type": "stream",
     "text": [
      "\n",
      "generated an exception: name 'rawFileNames' is not defined\n",
      "generated an exception: name 'rawFileNames' is not defined\n",
      "generated an exception: name 'rawFileNames' is not defined\n",
      "generated an exception: name 'rawFileNames' is not defined\n",
      "generated an exception: name 'rawFileNames' is not defined\n",
      "generated an exception: name 'rawFileNames' is not defined\n",
      "generated an exception: name 'rawFileNames' is not defined\n",
      "generated an exception: name 'rawFileNames' is not defined\n",
      "generated an exception: name 'rawFileNames' is not defined\n",
      "generated an exception: name 'rawFileNames' is not defined\n",
      "generated an exception: name 'rawFileNames' is not defined\n",
      "generated an exception: name 'rawFileNames' is not defined\n",
      "generated an exception: name 'rawFileNames' is not defined\n"
     ]
    },
    {
     "name": "stderr",
     "output_type": "stream",
     "text": [
      "  8%|████▋                                                       | 304/3932 [00:16<03:26, 17.58it/s]"
     ]
    },
    {
     "name": "stdout",
     "output_type": "stream",
     "text": [
      "generated an exception: name 'rawFileNames' is not defined\n",
      "generated an exception: name 'rawFileNames' is not defined\n",
      "generated an exception: name 'rawFileNames' is not defined\n",
      "generated an exception: name 'rawFileNames' is not defined\n",
      "generated an exception: name 'rawFileNames' is not defined\n",
      "generated an exception: name 'rawFileNames' is not defined\n",
      "generated an exception: name 'rawFileNames' is not defined\n",
      "generated an exception: name 'rawFileNames' is not defined\n",
      "generated an exception: name 'rawFileNames' is not defined\n",
      "generated an exception: name 'rawFileNames' is not defined\n",
      "generated an exception: name 'rawFileNames' is not defined\n",
      "generated an exception: name 'rawFileNames' is not defined\n",
      "generated an exception: name 'rawFileNames' is not defined\n",
      "generated an exception: name 'rawFileNames' is not defined\n",
      "generated an exception: name 'rawFileNames' is not defined\n",
      "generated an exception: name 'rawFileNames' is not defined\n",
      "generated an exception: name 'rawFileNames' is not defined\n",
      "generated an exception: name 'rawFileNames' is not defined"
     ]
    },
    {
     "name": "stderr",
     "output_type": "stream",
     "text": [
      "  8%|████▉                                                       | 320/3932 [00:17<03:25, 17.57it/s]"
     ]
    },
    {
     "name": "stdout",
     "output_type": "stream",
     "text": [
      "\n",
      "generated an exception: name 'rawFileNames' is not defined\n",
      "generated an exception: name 'rawFileNames' is not defined\n",
      "generated an exception: name 'rawFileNames' is not defined\n",
      "generated an exception: name 'rawFileNames' is not defined\n",
      "generated an exception: name 'rawFileNames' is not defined\n",
      "generated an exception: name 'rawFileNames' is not defined\n",
      "generated an exception: name 'rawFileNames' is not defined\n",
      "generated an exception: name 'rawFileNames' is not defined\n",
      "generated an exception: name 'rawFileNames' is not defined\n",
      "generated an exception: name 'rawFileNames' is not defined\n",
      "generated an exception: name 'rawFileNames' is not defined\n",
      "generated an exception: name 'rawFileNames' is not defined\n",
      "generated an exception: name 'rawFileNames' is not defined\n",
      "generated an exception: name 'rawFileNames' is not defined\n",
      "generated an exception: name 'rawFileNames' is not defined\n",
      "generated an exception: name 'rawFileNames' is not defined\n",
      "generated an exception: name 'rawFileNames' is not defined\n",
      "generated an exception: name 'rawFileNames' is not defined\n",
      "generated an exception: name 'rawFileNames' is not defined"
     ]
    },
    {
     "name": "stderr",
     "output_type": "stream",
     "text": [
      "  9%|█████▏                                                      | 336/3932 [00:18<03:25, 17.47it/s]"
     ]
    },
    {
     "name": "stdout",
     "output_type": "stream",
     "text": [
      "\n",
      "generated an exception: name 'rawFileNames' is not defined\n",
      "generated an exception: name 'rawFileNames' is not defined\n",
      "generated an exception: name 'rawFileNames' is not defined\n",
      "generated an exception: name 'rawFileNames' is not defined\n",
      "generated an exception: name 'rawFileNames' is not defined\n",
      "generated an exception: name 'rawFileNames' is not defined\n",
      "generated an exception: name 'rawFileNames' is not defined\n",
      "generated an exception: name 'rawFileNames' is not defined\n",
      "generated an exception: name 'rawFileNames' is not defined\n",
      "generated an exception: name 'rawFileNames' is not defined\n",
      "generated an exception: name 'rawFileNames' is not defined\n",
      "generated an exception: name 'rawFileNames' is not defined\n",
      "generated an exception: name 'rawFileNames' is not defined\n"
     ]
    },
    {
     "name": "stderr",
     "output_type": "stream",
     "text": [
      "  9%|█████▎                                                      | 352/3932 [00:19<03:22, 17.64it/s]"
     ]
    },
    {
     "name": "stdout",
     "output_type": "stream",
     "text": [
      "generated an exception: name 'rawFileNames' is not defined\n",
      "generated an exception: name 'rawFileNames' is not defined\n",
      "generated an exception: name 'rawFileNames' is not defined\n",
      "generated an exception: name 'rawFileNames' is not defined\n",
      "generated an exception: name 'rawFileNames' is not defined\n",
      "generated an exception: name 'rawFileNames' is not defined\n",
      "generated an exception: name 'rawFileNames' is not defined\n",
      "generated an exception: name 'rawFileNames' is not defined\n",
      "generated an exception: name 'rawFileNames' is not defined\n",
      "generated an exception: name 'rawFileNames' is not defined\n",
      "generated an exception: name 'rawFileNames' is not defined\n",
      "generated an exception: name 'rawFileNames' is not defined\n",
      "generated an exception: name 'rawFileNames' is not defined\n"
     ]
    },
    {
     "name": "stderr",
     "output_type": "stream",
     "text": [
      "  9%|█████▌                                                      | 368/3932 [00:20<03:22, 17.63it/s]"
     ]
    },
    {
     "name": "stdout",
     "output_type": "stream",
     "text": [
      "generated an exception: name 'rawFileNames' is not defined\n",
      "generated an exception: name 'rawFileNames' is not defined\n",
      "generated an exception: name 'rawFileNames' is not defined\n",
      "generated an exception: name 'rawFileNames' is not defined\n",
      "generated an exception: name 'rawFileNames' is not defined\n",
      "generated an exception: name 'rawFileNames' is not defined\n",
      "generated an exception: name 'rawFileNames' is not defined\n",
      "generated an exception: name 'rawFileNames' is not defined\n",
      "generated an exception: name 'rawFileNames' is not defined\n",
      "generated an exception: name 'rawFileNames' is not defined\n",
      "generated an exception: name 'rawFileNames' is not defined\n",
      "generated an exception: name 'rawFileNames' is not defined\n",
      "generated an exception: name 'rawFileNames' is not defined\n",
      "generated an exception: name 'rawFileNames' is not defined\n",
      "generated an exception: name 'rawFileNames' is not defined\n",
      "generated an exception: name 'rawFileNames' is not defined\n",
      "generated an exception: name 'rawFileNames' is not defined"
     ]
    },
    {
     "name": "stderr",
     "output_type": "stream",
     "text": [
      " 10%|█████▊                                                      | 384/3932 [00:20<03:20, 17.68it/s]"
     ]
    },
    {
     "name": "stdout",
     "output_type": "stream",
     "text": [
      "\n",
      "generated an exception: name 'rawFileNames' is not defined\n",
      "generated an exception: name 'rawFileNames' is not defined\n",
      "generated an exception: name 'rawFileNames' is not defined\n",
      "generated an exception: name 'rawFileNames' is not defined\n",
      "generated an exception: name 'rawFileNames' is not defined\n",
      "generated an exception: name 'rawFileNames' is not defined\n",
      "generated an exception: name 'rawFileNames' is not defined\n",
      "generated an exception: name 'rawFileNames' is not defined\n",
      "generated an exception: name 'rawFileNames' is not defined\n",
      "generated an exception: name 'rawFileNames' is not defined\n",
      "generated an exception: name 'rawFileNames' is not defined\n",
      "generated an exception: name 'rawFileNames' is not defined\n",
      "generated an exception: name 'rawFileNames' is not defined\n",
      "generated an exception: name 'rawFileNames' is not defined\n",
      "generated an exception: name 'rawFileNames' is not defined\n",
      "generated an exception: name 'rawFileNames' is not defined\n",
      "generated an exception: name 'rawFileNames' is not defined\n",
      "generated an exception: name 'rawFileNames' is not defined\n",
      "generated an exception: name 'rawFileNames' is not defined"
     ]
    },
    {
     "name": "stderr",
     "output_type": "stream",
     "text": [
      " 10%|██████                                                      | 400/3932 [00:21<03:16, 17.99it/s]"
     ]
    },
    {
     "name": "stdout",
     "output_type": "stream",
     "text": [
      "\n",
      "generated an exception: name 'rawFileNames' is not defined\n",
      "generated an exception: name 'rawFileNames' is not defined\n",
      "generated an exception: name 'rawFileNames' is not defined\n",
      "generated an exception: name 'rawFileNames' is not defined\n",
      "generated an exception: name 'rawFileNames' is not defined\n",
      "generated an exception: name 'rawFileNames' is not defined\n",
      "generated an exception: name 'rawFileNames' is not defined\n",
      "generated an exception: name 'rawFileNames' is not defined\n",
      "generated an exception: name 'rawFileNames' is not defined\n",
      "generated an exception: name 'rawFileNames' is not defined\n",
      "generated an exception: name 'rawFileNames' is not defined\n",
      "generated an exception: name 'rawFileNames' is not defined\n",
      "generated an exception: name 'rawFileNames' is not defined"
     ]
    },
    {
     "name": "stderr",
     "output_type": "stream",
     "text": [
      " 11%|██████▎                                                     | 416/3932 [00:22<03:19, 17.64it/s]"
     ]
    },
    {
     "name": "stdout",
     "output_type": "stream",
     "text": [
      "\n",
      "generated an exception: name 'rawFileNames' is not defined\n",
      "generated an exception: name 'rawFileNames' is not defined\n",
      "generated an exception: name 'rawFileNames' is not defined\n",
      "generated an exception: name 'rawFileNames' is not defined\n",
      "generated an exception: name 'rawFileNames' is not defined\n",
      "generated an exception: name 'rawFileNames' is not defined\n",
      "generated an exception: name 'rawFileNames' is not defined\n",
      "generated an exception: name 'rawFileNames' is not defined\n",
      "generated an exception: name 'rawFileNames' is not defined\n",
      "generated an exception: name 'rawFileNames' is not defined\n",
      "generated an exception: name 'rawFileNames' is not defined\n",
      "generated an exception: name 'rawFileNames' is not defined\n",
      "generated an exception: name 'rawFileNames' is not defined\n",
      "generated an exception: name 'rawFileNames' is not defined\n",
      "generated an exception: name 'rawFileNames' is not defined\n",
      "generated an exception: name 'rawFileNames' is not defined\n",
      "generated an exception: name 'rawFileNames' is not defined"
     ]
    },
    {
     "name": "stderr",
     "output_type": "stream",
     "text": [
      " 11%|██████▌                                                     | 432/3932 [00:23<03:16, 17.79it/s]"
     ]
    },
    {
     "name": "stdout",
     "output_type": "stream",
     "text": [
      "\n",
      "generated an exception: name 'rawFileNames' is not defined\n",
      "generated an exception: name 'rawFileNames' is not defined\n",
      "generated an exception: name 'rawFileNames' is not defined\n",
      "generated an exception: name 'rawFileNames' is not defined\n",
      "generated an exception: name 'rawFileNames' is not defined\n",
      "generated an exception: name 'rawFileNames' is not defined\n",
      "generated an exception: name 'rawFileNames' is not defined\n",
      "generated an exception: name 'rawFileNames' is not defined\n",
      "generated an exception: name 'rawFileNames' is not defined\n",
      "generated an exception: name 'rawFileNames' is not defined\n",
      "generated an exception: name 'rawFileNames' is not defined\n",
      "generated an exception: name 'rawFileNames' is not defined\n",
      "generated an exception: name 'rawFileNames' is not defined\n",
      "generated an exception: name 'rawFileNames' is not defined\n"
     ]
    },
    {
     "name": "stderr",
     "output_type": "stream",
     "text": [
      " 11%|██████▊                                                     | 448/3932 [00:24<03:13, 18.02it/s]"
     ]
    },
    {
     "name": "stdout",
     "output_type": "stream",
     "text": [
      "generated an exception: name 'rawFileNames' is not defined\n",
      "generated an exception: name 'rawFileNames' is not defined\n",
      "generated an exception: name 'rawFileNames' is not defined\n",
      "generated an exception: name 'rawFileNames' is not defined\n",
      "generated an exception: name 'rawFileNames' is not defined\n",
      "generated an exception: name 'rawFileNames' is not defined\n",
      "generated an exception: name 'rawFileNames' is not defined\n",
      "generated an exception: name 'rawFileNames' is not defined\n",
      "generated an exception: name 'rawFileNames' is not defined\n",
      "generated an exception: name 'rawFileNames' is not defined\n",
      "generated an exception: name 'rawFileNames' is not defined\n",
      "generated an exception: name 'rawFileNames' is not defined\n",
      "generated an exception: name 'rawFileNames' is not defined\n",
      "generated an exception: name 'rawFileNames' is not defined\n",
      "generated an exception: name 'rawFileNames' is not defined\n",
      "generated an exception: name 'rawFileNames' is not defined\n",
      "generated an exception: name 'rawFileNames' is not defined\n",
      "generated an exception: name 'rawFileNames' is not defined\n"
     ]
    },
    {
     "name": "stderr",
     "output_type": "stream",
     "text": [
      " 12%|███████                                                     | 464/3932 [00:25<03:14, 17.84it/s]"
     ]
    },
    {
     "name": "stdout",
     "output_type": "stream",
     "text": [
      "generated an exception: name 'rawFileNames' is not defined\n",
      "generated an exception: name 'rawFileNames' is not defined\n",
      "generated an exception: name 'rawFileNames' is not defined\n",
      "generated an exception: name 'rawFileNames' is not defined\n",
      "generated an exception: name 'rawFileNames' is not defined\n",
      "generated an exception: name 'rawFileNames' is not defined\n",
      "generated an exception: name 'rawFileNames' is not defined\n",
      "generated an exception: name 'rawFileNames' is not defined\n",
      "generated an exception: name 'rawFileNames' is not defined\n",
      "generated an exception: name 'rawFileNames' is not defined\n",
      "generated an exception: name 'rawFileNames' is not defined\n",
      "generated an exception: name 'rawFileNames' is not defined\n",
      "generated an exception: name 'rawFileNames' is not defined\n",
      "generated an exception: name 'rawFileNames' is not defined\n",
      "generated an exception: name 'rawFileNames' is not defined"
     ]
    },
    {
     "name": "stderr",
     "output_type": "stream",
     "text": [
      " 12%|███████▎                                                    | 480/3932 [00:26<03:13, 17.83it/s]"
     ]
    },
    {
     "name": "stdout",
     "output_type": "stream",
     "text": [
      "\n",
      "generated an exception: name 'rawFileNames' is not defined\n",
      "generated an exception: name 'rawFileNames' is not defined\n",
      "generated an exception: name 'rawFileNames' is not defined\n",
      "generated an exception: name 'rawFileNames' is not defined\n",
      "generated an exception: name 'rawFileNames' is not defined\n",
      "generated an exception: name 'rawFileNames' is not defined\n",
      "generated an exception: name 'rawFileNames' is not defined\n",
      "generated an exception: name 'rawFileNames' is not defined\n",
      "generated an exception: name 'rawFileNames' is not defined\n",
      "generated an exception: name 'rawFileNames' is not defined\n",
      "generated an exception: name 'rawFileNames' is not defined\n",
      "generated an exception: name 'rawFileNames' is not defined\n",
      "generated an exception: name 'rawFileNames' is not defined\n",
      "generated an exception: name 'rawFileNames' is not defined\n",
      "generated an exception: name 'rawFileNames' is not defined\n",
      "generated an exception: name 'rawFileNames' is not defined"
     ]
    },
    {
     "name": "stderr",
     "output_type": "stream",
     "text": [
      " 13%|███████▌                                                    | 496/3932 [00:27<03:13, 17.79it/s]"
     ]
    },
    {
     "name": "stdout",
     "output_type": "stream",
     "text": [
      "\n",
      "generated an exception: name 'rawFileNames' is not defined\n",
      "generated an exception: name 'rawFileNames' is not defined\n",
      "generated an exception: name 'rawFileNames' is not defined\n",
      "generated an exception: name 'rawFileNames' is not defined\n",
      "generated an exception: name 'rawFileNames' is not defined\n",
      "generated an exception: name 'rawFileNames' is not defined\n",
      "generated an exception: name 'rawFileNames' is not defined\n",
      "generated an exception: name 'rawFileNames' is not defined\n",
      "generated an exception: name 'rawFileNames' is not defined\n",
      "generated an exception: name 'rawFileNames' is not defined\n",
      "generated an exception: name 'rawFileNames' is not defined\n",
      "generated an exception: name 'rawFileNames' is not defined\n",
      "generated an exception: name 'rawFileNames' is not defined\n",
      "generated an exception: name 'rawFileNames' is not defined\n",
      "generated an exception: name 'rawFileNames' is not defined\n"
     ]
    },
    {
     "name": "stderr",
     "output_type": "stream",
     "text": [
      " 13%|███████▊                                                    | 512/3932 [00:28<03:12, 17.76it/s]"
     ]
    },
    {
     "name": "stdout",
     "output_type": "stream",
     "text": [
      "generated an exception: name 'rawFileNames' is not defined\n",
      "generated an exception: name 'rawFileNames' is not defined\n",
      "generated an exception: name 'rawFileNames' is not defined\n",
      "generated an exception: name 'rawFileNames' is not defined\n",
      "generated an exception: name 'rawFileNames' is not defined\n",
      "generated an exception: name 'rawFileNames' is not defined\n",
      "generated an exception: name 'rawFileNames' is not defined\n",
      "generated an exception: name 'rawFileNames' is not defined\n",
      "generated an exception: name 'rawFileNames' is not defined\n",
      "generated an exception: name 'rawFileNames' is not defined\n",
      "generated an exception: name 'rawFileNames' is not defined\n",
      "generated an exception: name 'rawFileNames' is not defined\n",
      "generated an exception: name 'rawFileNames' is not defined\n",
      "generated an exception: name 'rawFileNames' is not defined\n",
      "generated an exception: name 'rawFileNames' is not defined\n",
      "generated an exception: name 'rawFileNames' is not defined\n"
     ]
    },
    {
     "name": "stderr",
     "output_type": "stream",
     "text": [
      " 13%|████████                                                    | 528/3932 [00:29<03:12, 17.66it/s]"
     ]
    },
    {
     "name": "stdout",
     "output_type": "stream",
     "text": [
      "generated an exception: name 'rawFileNames' is not defined\n",
      "generated an exception: name 'rawFileNames' is not defined\n",
      "generated an exception: name 'rawFileNames' is not defined\n",
      "generated an exception: name 'rawFileNames' is not defined\n",
      "generated an exception: name 'rawFileNames' is not defined\n",
      "generated an exception: name 'rawFileNames' is not defined\n",
      "generated an exception: name 'rawFileNames' is not defined\n",
      "generated an exception: name 'rawFileNames' is not defined\n",
      "generated an exception: name 'rawFileNames' is not defined\n",
      "generated an exception: name 'rawFileNames' is not defined\n",
      "generated an exception: name 'rawFileNames' is not defined\n",
      "generated an exception: name 'rawFileNames' is not defined\n",
      "generated an exception: name 'rawFileNames' is not defined\n",
      "generated an exception: name 'rawFileNames' is not defined\n",
      "generated an exception: name 'rawFileNames' is not defined\n",
      "generated an exception: name 'rawFileNames' is not defined\n"
     ]
    },
    {
     "name": "stderr",
     "output_type": "stream",
     "text": [
      " 14%|████████▎                                                   | 544/3932 [00:29<03:11, 17.66it/s]"
     ]
    },
    {
     "name": "stdout",
     "output_type": "stream",
     "text": [
      "generated an exception: name 'rawFileNames' is not defined\n",
      "generated an exception: name 'rawFileNames' is not defined\n",
      "generated an exception: name 'rawFileNames' is not defined\n",
      "generated an exception: name 'rawFileNames' is not defined\n",
      "generated an exception: name 'rawFileNames' is not defined\n",
      "generated an exception: name 'rawFileNames' is not defined\n",
      "generated an exception: name 'rawFileNames' is not defined\n",
      "generated an exception: name 'rawFileNames' is not defined\n",
      "generated an exception: name 'rawFileNames' is not defined\n",
      "generated an exception: name 'rawFileNames' is not defined\n",
      "generated an exception: name 'rawFileNames' is not defined\n",
      "generated an exception: name 'rawFileNames' is not defined\n",
      "generated an exception: name 'rawFileNames' is not defined\n",
      "generated an exception: name 'rawFileNames' is not defined\n",
      "generated an exception: name 'rawFileNames' is not defined\n",
      "generated an exception: name 'rawFileNames' is not defined\n",
      "generated an exception: name 'rawFileNames' is not defined\n"
     ]
    },
    {
     "name": "stderr",
     "output_type": "stream",
     "text": [
      " 14%|████████▌                                                   | 560/3932 [00:30<03:12, 17.52it/s]"
     ]
    },
    {
     "name": "stdout",
     "output_type": "stream",
     "text": [
      "generated an exception: name 'rawFileNames' is not defined\n",
      "generated an exception: name 'rawFileNames' is not defined\n",
      "generated an exception: name 'rawFileNames' is not defined\n",
      "generated an exception: name 'rawFileNames' is not defined\n",
      "generated an exception: name 'rawFileNames' is not defined\n",
      "generated an exception: name 'rawFileNames' is not defined\n",
      "generated an exception: name 'rawFileNames' is not defined\n",
      "generated an exception: name 'rawFileNames' is not defined\n",
      "generated an exception: name 'rawFileNames' is not defined\n",
      "generated an exception: name 'rawFileNames' is not defined\n",
      "generated an exception: name 'rawFileNames' is not defined\n",
      "generated an exception: name 'rawFileNames' is not defined\n",
      "generated an exception: name 'rawFileNames' is not defined\n",
      "generated an exception: name 'rawFileNames' is not defined\n",
      "generated an exception: name 'rawFileNames' is not defined\n",
      "generated an exception: name 'rawFileNames' is not defined\n",
      "generated an exception: name 'rawFileNames' is not defined"
     ]
    },
    {
     "name": "stderr",
     "output_type": "stream",
     "text": [
      " 15%|████████▊                                                   | 576/3932 [00:31<03:11, 17.49it/s]"
     ]
    },
    {
     "name": "stdout",
     "output_type": "stream",
     "text": [
      "\n",
      "generated an exception: name 'rawFileNames' is not defined\n",
      "generated an exception: name 'rawFileNames' is not defined\n",
      "generated an exception: name 'rawFileNames' is not defined\n",
      "generated an exception: name 'rawFileNames' is not defined\n",
      "generated an exception: name 'rawFileNames' is not defined\n",
      "generated an exception: name 'rawFileNames' is not defined\n",
      "generated an exception: name 'rawFileNames' is not defined\n",
      "generated an exception: name 'rawFileNames' is not defined\n",
      "generated an exception: name 'rawFileNames' is not defined\n",
      "generated an exception: name 'rawFileNames' is not defined\n",
      "generated an exception: name 'rawFileNames' is not defined\n",
      "generated an exception: name 'rawFileNames' is not defined\n",
      "generated an exception: name 'rawFileNames' is not defined\n",
      "generated an exception: name 'rawFileNames' is not defined\n",
      "generated an exception: name 'rawFileNames' is not defined\n"
     ]
    },
    {
     "name": "stderr",
     "output_type": "stream",
     "text": [
      " 15%|█████████                                                   | 592/3932 [00:32<03:12, 17.39it/s]"
     ]
    },
    {
     "name": "stdout",
     "output_type": "stream",
     "text": [
      "generated an exception: name 'rawFileNames' is not defined\n",
      "generated an exception: name 'rawFileNames' is not defined\n",
      "generated an exception: name 'rawFileNames' is not defined\n",
      "generated an exception: name 'rawFileNames' is not defined\n",
      "generated an exception: name 'rawFileNames' is not defined\n",
      "generated an exception: name 'rawFileNames' is not defined\n",
      "generated an exception: name 'rawFileNames' is not defined\n",
      "generated an exception: name 'rawFileNames' is not defined\n",
      "generated an exception: name 'rawFileNames' is not defined\n",
      "generated an exception: name 'rawFileNames' is not defined\n",
      "generated an exception: name 'rawFileNames' is not defined\n",
      "generated an exception: name 'rawFileNames' is not defined\n",
      "generated an exception: name 'rawFileNames' is not defined\n",
      "generated an exception: name 'rawFileNames' is not defined\n",
      "generated an exception: name 'rawFileNames' is not defined\n",
      "generated an exception: name 'rawFileNames' is not defined"
     ]
    },
    {
     "name": "stderr",
     "output_type": "stream",
     "text": [
      " 15%|█████████▎                                                  | 608/3932 [00:33<03:10, 17.46it/s]"
     ]
    },
    {
     "name": "stdout",
     "output_type": "stream",
     "text": [
      "\n",
      "generated an exception: name 'rawFileNames' is not defined\n",
      "generated an exception: name 'rawFileNames' is not defined\n",
      "generated an exception: name 'rawFileNames' is not defined\n",
      "generated an exception: name 'rawFileNames' is not defined\n",
      "generated an exception: name 'rawFileNames' is not defined\n",
      "generated an exception: name 'rawFileNames' is not defined\n",
      "generated an exception: name 'rawFileNames' is not defined\n",
      "generated an exception: name 'rawFileNames' is not defined\n",
      "generated an exception: name 'rawFileNames' is not defined\n",
      "generated an exception: name 'rawFileNames' is not defined\n",
      "generated an exception: name 'rawFileNames' is not defined\n",
      "generated an exception: name 'rawFileNames' is not defined\n",
      "generated an exception: name 'rawFileNames' is not defined\n",
      "generated an exception: name 'rawFileNames' is not defined\n",
      "generated an exception: name 'rawFileNames' is not defined\n",
      "generated an exception: name 'rawFileNames' is not defined"
     ]
    },
    {
     "name": "stderr",
     "output_type": "stream",
     "text": [
      " 16%|█████████▌                                                  | 624/3932 [00:34<03:08, 17.53it/s]"
     ]
    },
    {
     "name": "stdout",
     "output_type": "stream",
     "text": [
      "\n",
      "generated an exception: name 'rawFileNames' is not defined\n",
      "generated an exception: name 'rawFileNames' is not defined\n",
      "generated an exception: name 'rawFileNames' is not defined\n",
      "generated an exception: name 'rawFileNames' is not defined\n",
      "generated an exception: name 'rawFileNames' is not defined\n",
      "generated an exception: name 'rawFileNames' is not defined\n",
      "generated an exception: name 'rawFileNames' is not defined\n",
      "generated an exception: name 'rawFileNames' is not defined\n",
      "generated an exception: name 'rawFileNames' is not defined\n",
      "generated an exception: name 'rawFileNames' is not defined\n",
      "generated an exception: name 'rawFileNames' is not defined\n",
      "generated an exception: name 'rawFileNames' is not defined\n",
      "generated an exception: name 'rawFileNames' is not defined\n",
      "generated an exception: name 'rawFileNames' is not defined\n",
      "generated an exception: name 'rawFileNames' is not defined\n",
      "generated an exception: name 'rawFileNames' is not defined"
     ]
    },
    {
     "name": "stderr",
     "output_type": "stream",
     "text": [
      " 16%|█████████▊                                                  | 640/3932 [00:35<03:06, 17.61it/s]"
     ]
    },
    {
     "name": "stdout",
     "output_type": "stream",
     "text": [
      "\n",
      "generated an exception: name 'rawFileNames' is not defined\n",
      "generated an exception: name 'rawFileNames' is not defined\n",
      "generated an exception: name 'rawFileNames' is not defined\n",
      "generated an exception: name 'rawFileNames' is not defined\n",
      "generated an exception: name 'rawFileNames' is not defined\n",
      "generated an exception: name 'rawFileNames' is not defined\n",
      "generated an exception: name 'rawFileNames' is not defined\n",
      "generated an exception: name 'rawFileNames' is not defined\n",
      "generated an exception: name 'rawFileNames' is not defined\n",
      "generated an exception: name 'rawFileNames' is not defined\n",
      "generated an exception: name 'rawFileNames' is not defined\n",
      "generated an exception: name 'rawFileNames' is not defined\n",
      "generated an exception: name 'rawFileNames' is not defined\n",
      "generated an exception: name 'rawFileNames' is not defined\n",
      "generated an exception: name 'rawFileNames' is not defined\n",
      "generated an exception: name 'rawFileNames' is not defined\n"
     ]
    },
    {
     "name": "stderr",
     "output_type": "stream",
     "text": [
      " 17%|██████████                                                  | 656/3932 [00:36<03:04, 17.78it/s]"
     ]
    },
    {
     "name": "stdout",
     "output_type": "stream",
     "text": [
      "generated an exception: name 'rawFileNames' is not defined\n",
      "generated an exception: name 'rawFileNames' is not defined\n",
      "generated an exception: name 'rawFileNames' is not defined\n",
      "generated an exception: name 'rawFileNames' is not defined\n",
      "generated an exception: name 'rawFileNames' is not defined\n",
      "generated an exception: name 'rawFileNames' is not defined\n",
      "generated an exception: name 'rawFileNames' is not defined\n",
      "generated an exception: name 'rawFileNames' is not defined\n",
      "generated an exception: name 'rawFileNames' is not defined\n",
      "generated an exception: name 'rawFileNames' is not defined\n",
      "generated an exception: name 'rawFileNames' is not defined\n",
      "generated an exception: name 'rawFileNames' is not defined\n",
      "generated an exception: name 'rawFileNames' is not defined\n",
      "generated an exception: name 'rawFileNames' is not defined\n",
      "generated an exception: name 'rawFileNames' is not defined\n",
      "generated an exception: name 'rawFileNames' is not defined\n"
     ]
    },
    {
     "name": "stderr",
     "output_type": "stream",
     "text": [
      " 17%|██████████▎                                                 | 672/3932 [00:37<03:50, 14.12it/s]"
     ]
    },
    {
     "name": "stdout",
     "output_type": "stream",
     "text": [
      "generated an exception: name 'rawFileNames' is not defined\n",
      "generated an exception: name 'rawFileNames' is not defined\n",
      "generated an exception: name 'rawFileNames' is not defined\n",
      "generated an exception: name 'rawFileNames' is not defined\n",
      "generated an exception: name 'rawFileNames' is not defined\n",
      "generated an exception: name 'rawFileNames' is not defined\n",
      "generated an exception: name 'rawFileNames' is not defined\n",
      "generated an exception: name 'rawFileNames' is not defined\n",
      "generated an exception: name 'rawFileNames' is not defined\n",
      "generated an exception: name 'rawFileNames' is not defined\n",
      "generated an exception: name 'rawFileNames' is not defined\n",
      "generated an exception: name 'rawFileNames' is not defined\n",
      "generated an exception: name 'rawFileNames' is not defined\n",
      "generated an exception: name 'rawFileNames' is not defined\n",
      "generated an exception: name 'rawFileNames' is not defined\n"
     ]
    },
    {
     "name": "stderr",
     "output_type": "stream",
     "text": [
      " 17%|██████████▍                                                 | 688/3932 [00:38<03:35, 15.08it/s]"
     ]
    },
    {
     "name": "stdout",
     "output_type": "stream",
     "text": [
      "generated an exception: name 'rawFileNames' is not defined\n",
      "generated an exception: name 'rawFileNames' is not defined\n",
      "generated an exception: name 'rawFileNames' is not defined\n",
      "generated an exception: name 'rawFileNames' is not defined\n",
      "generated an exception: name 'rawFileNames' is not defined\n",
      "generated an exception: name 'rawFileNames' is not defined\n",
      "generated an exception: name 'rawFileNames' is not defined\n",
      "generated an exception: name 'rawFileNames' is not defined\n",
      "generated an exception: name 'rawFileNames' is not defined\n",
      "generated an exception: name 'rawFileNames' is not defined\n",
      "generated an exception: name 'rawFileNames' is not defined\n",
      "generated an exception: name 'rawFileNames' is not defined\n",
      "generated an exception: name 'rawFileNames' is not defined\n",
      "generated an exception: name 'rawFileNames' is not defined\n",
      "generated an exception: name 'rawFileNames' is not defined\n",
      "generated an exception: name 'rawFileNames' is not defined\n",
      "generated an exception: name 'rawFileNames' is not defined\n",
      "generated an exception: name 'rawFileNames' is not defined\n"
     ]
    },
    {
     "name": "stderr",
     "output_type": "stream",
     "text": [
      " 18%|██████████▋                                                 | 704/3932 [00:39<03:25, 15.74it/s]"
     ]
    },
    {
     "name": "stdout",
     "output_type": "stream",
     "text": [
      "generated an exception: name 'rawFileNames' is not defined\n",
      "generated an exception: name 'rawFileNames' is not defined\n",
      "generated an exception: name 'rawFileNames' is not defined\n",
      "generated an exception: name 'rawFileNames' is not defined\n",
      "generated an exception: name 'rawFileNames' is not defined\n",
      "generated an exception: name 'rawFileNames' is not defined\n",
      "generated an exception: name 'rawFileNames' is not defined\n",
      "generated an exception: name 'rawFileNames' is not defined\n",
      "generated an exception: name 'rawFileNames' is not defined\n",
      "generated an exception: name 'rawFileNames' is not defined\n",
      "generated an exception: name 'rawFileNames' is not defined\n",
      "generated an exception: name 'rawFileNames' is not defined\n",
      "generated an exception: name 'rawFileNames' is not defined\n",
      "generated an exception: name 'rawFileNames' is not defined\n",
      "generated an exception: name 'rawFileNames' is not defined\n",
      "generated an exception: name 'rawFileNames' is not defined"
     ]
    },
    {
     "name": "stderr",
     "output_type": "stream",
     "text": [
      " 18%|██████████▉                                                 | 720/3932 [00:40<03:15, 16.44it/s]"
     ]
    },
    {
     "name": "stdout",
     "output_type": "stream",
     "text": [
      "\n",
      "generated an exception: name 'rawFileNames' is not defined\n",
      "generated an exception: name 'rawFileNames' is not defined\n",
      "generated an exception: name 'rawFileNames' is not defined\n",
      "generated an exception: name 'rawFileNames' is not defined\n",
      "generated an exception: name 'rawFileNames' is not defined\n",
      "generated an exception: name 'rawFileNames' is not defined\n",
      "generated an exception: name 'rawFileNames' is not defined\n",
      "generated an exception: name 'rawFileNames' is not defined\n",
      "generated an exception: name 'rawFileNames' is not defined\n",
      "generated an exception: name 'rawFileNames' is not defined\n",
      "generated an exception: name 'rawFileNames' is not defined\n",
      "generated an exception: name 'rawFileNames' is not defined\n",
      "generated an exception: name 'rawFileNames' is not defined\n",
      "generated an exception: name 'rawFileNames' is not defined\n",
      "generated an exception: name 'rawFileNames' is not defined\n",
      "generated an exception: name 'rawFileNames' is not defined\n"
     ]
    },
    {
     "name": "stderr",
     "output_type": "stream",
     "text": [
      " 19%|███████████▏                                                | 736/3932 [00:41<03:10, 16.80it/s]"
     ]
    },
    {
     "name": "stdout",
     "output_type": "stream",
     "text": [
      "generated an exception: name 'rawFileNames' is not defined\n",
      "generated an exception: name 'rawFileNames' is not defined\n",
      "generated an exception: name 'rawFileNames' is not defined\n",
      "generated an exception: name 'rawFileNames' is not defined\n",
      "generated an exception: name 'rawFileNames' is not defined\n",
      "generated an exception: name 'rawFileNames' is not defined\n",
      "generated an exception: name 'rawFileNames' is not defined\n",
      "generated an exception: name 'rawFileNames' is not defined\n",
      "generated an exception: name 'rawFileNames' is not defined\n",
      "generated an exception: name 'rawFileNames' is not defined\n",
      "generated an exception: name 'rawFileNames' is not defined\n",
      "generated an exception: name 'rawFileNames' is not defined\n",
      "generated an exception: name 'rawFileNames' is not defined\n",
      "generated an exception: name 'rawFileNames' is not defined\n",
      "generated an exception: name 'rawFileNames' is not defined\n"
     ]
    },
    {
     "name": "stderr",
     "output_type": "stream",
     "text": [
      " 19%|███████████▍                                                | 752/3932 [00:42<03:05, 17.12it/s]"
     ]
    },
    {
     "name": "stdout",
     "output_type": "stream",
     "text": [
      "generated an exception: name 'rawFileNames' is not defined\n",
      "generated an exception: name 'rawFileNames' is not defined\n",
      "generated an exception: name 'rawFileNames' is not defined\n",
      "generated an exception: name 'rawFileNames' is not defined\n",
      "generated an exception: name 'rawFileNames' is not defined\n",
      "generated an exception: name 'rawFileNames' is not defined\n",
      "generated an exception: name 'rawFileNames' is not defined\n",
      "generated an exception: name 'rawFileNames' is not defined\n",
      "generated an exception: name 'rawFileNames' is not defined\n",
      "generated an exception: name 'rawFileNames' is not defined\n",
      "generated an exception: name 'rawFileNames' is not defined\n",
      "generated an exception: name 'rawFileNames' is not defined\n",
      "generated an exception: name 'rawFileNames' is not defined\n",
      "generated an exception: name 'rawFileNames' is not defined\n",
      "generated an exception: name 'rawFileNames' is not defined\n",
      "generated an exception: name 'rawFileNames' is not defined\n",
      "generated an exception: name 'rawFileNames' is not defined\n",
      "generated an exception: name 'rawFileNames' is not defined\n",
      "generated an exception: name 'rawFileNames' is not defined"
     ]
    },
    {
     "name": "stderr",
     "output_type": "stream",
     "text": [
      " 20%|███████████▋                                                | 768/3932 [00:43<03:01, 17.47it/s]"
     ]
    },
    {
     "name": "stdout",
     "output_type": "stream",
     "text": [
      "\n",
      "generated an exception: name 'rawFileNames' is not defined\n",
      "generated an exception: name 'rawFileNames' is not defined\n",
      "generated an exception: name 'rawFileNames' is not defined\n",
      "generated an exception: name 'rawFileNames' is not defined\n",
      "generated an exception: name 'rawFileNames' is not defined\n",
      "generated an exception: name 'rawFileNames' is not defined\n",
      "generated an exception: name 'rawFileNames' is not defined\n",
      "generated an exception: name 'rawFileNames' is not defined\n",
      "generated an exception: name 'rawFileNames' is not defined\n",
      "generated an exception: name 'rawFileNames' is not defined\n",
      "generated an exception: name 'rawFileNames' is not defined\n",
      "generated an exception: name 'rawFileNames' is not defined\n",
      "generated an exception: name 'rawFileNames' is not defined\n",
      "generated an exception: name 'rawFileNames' is not defined\n"
     ]
    },
    {
     "name": "stderr",
     "output_type": "stream",
     "text": [
      " 20%|████████████▏                                               | 800/3932 [00:45<03:04, 16.99it/s]"
     ]
    },
    {
     "name": "stdout",
     "output_type": "stream",
     "text": [
      "generated an exception: name 'rawFileNames' is not defined\n",
      "generated an exception: name 'rawFileNames' is not defined\n",
      "generated an exception: name 'rawFileNames' is not defined\n",
      "generated an exception: name 'rawFileNames' is not defined\n",
      "generated an exception: name 'rawFileNames' is not defined\n",
      "generated an exception: name 'rawFileNames' is not defined\n",
      "generated an exception: name 'rawFileNames' is not defined\n",
      "generated an exception: name 'rawFileNames' is not defined\n",
      "generated an exception: name 'rawFileNames' is not defined\n",
      "generated an exception: name 'rawFileNames' is not defined\n",
      "generated an exception: name 'rawFileNames' is not defined\n",
      "generated an exception: name 'rawFileNames' is not defined\n",
      "generated an exception: name 'rawFileNames' is not defined\n",
      "generated an exception: name 'rawFileNames' is not defined\n",
      "generated an exception: name 'rawFileNames' is not defined\n",
      "generated an exception: name 'rawFileNames' is not defined\n",
      "generated an exception: name 'rawFileNames' is not defined\n",
      "generated an exception: name 'rawFileNames' is not defined\n",
      "generated an exception: name 'rawFileNames' is not defined\n",
      "generated an exception: name 'rawFileNames' is not defined\n",
      "generated an exception: name 'rawFileNames' is not defined\n",
      "generated an exception: name 'rawFileNames' is not defined\n",
      "generated an exception: name 'rawFileNames' is not defined\n",
      "generated an exception: name 'rawFileNames' is not defined\n",
      "generated an exception: name 'rawFileNames' is not defined\n",
      "generated an exception: name 'rawFileNames' is not defined\n",
      "generated an exception: name 'rawFileNames' is not defined\n",
      "generated an exception: name 'rawFileNames' is not defined\n",
      "generated an exception: name 'rawFileNames' is not defined\n",
      "generated an exception: name 'rawFileNames' is not defined\n"
     ]
    },
    {
     "name": "stderr",
     "output_type": "stream",
     "text": [
      " 21%|████████████▍                                               | 816/3932 [00:46<03:03, 17.00it/s]"
     ]
    },
    {
     "name": "stdout",
     "output_type": "stream",
     "text": [
      "generated an exception: name 'rawFileNames' is not defined\n",
      "generated an exception: name 'rawFileNames' is not defined\n",
      "generated an exception: name 'rawFileNames' is not defined\n",
      "generated an exception: name 'rawFileNames' is not defined\n",
      "generated an exception: name 'rawFileNames' is not defined\n",
      "generated an exception: name 'rawFileNames' is not defined\n",
      "generated an exception: name 'rawFileNames' is not defined\n",
      "generated an exception: name 'rawFileNames' is not defined\n",
      "generated an exception: name 'rawFileNames' is not defined\n",
      "generated an exception: name 'rawFileNames' is not defined\n",
      "generated an exception: name 'rawFileNames' is not defined\n",
      "generated an exception: name 'rawFileNames' is not defined\n",
      "generated an exception: name 'rawFileNames' is not defined\n",
      "generated an exception: name 'rawFileNames' is not defined\n",
      "generated an exception: name 'rawFileNames' is not defined\n",
      "generated an exception: name 'rawFileNames' is not defined\n",
      "generated an exception: name 'rawFileNames' is not defined\n",
      "generated an exception: name 'rawFileNames' is not defined\n",
      "generated an exception: name 'rawFileNames' is not defined\n"
     ]
    },
    {
     "name": "stderr",
     "output_type": "stream",
     "text": [
      " 21%|████████████▋                                               | 832/3932 [00:47<03:02, 16.98it/s]"
     ]
    },
    {
     "name": "stdout",
     "output_type": "stream",
     "text": [
      "generated an exception: name 'rawFileNames' is not defined\n",
      "generated an exception: name 'rawFileNames' is not defined\n",
      "generated an exception: name 'rawFileNames' is not defined\n",
      "generated an exception: name 'rawFileNames' is not defined\n",
      "generated an exception: name 'rawFileNames' is not defined\n",
      "generated an exception: name 'rawFileNames' is not defined\n",
      "generated an exception: name 'rawFileNames' is not defined\n",
      "generated an exception: name 'rawFileNames' is not defined\n",
      "generated an exception: name 'rawFileNames' is not defined\n",
      "generated an exception: name 'rawFileNames' is not defined\n",
      "generated an exception: name 'rawFileNames' is not defined\n",
      "generated an exception: name 'rawFileNames' is not defined\n",
      "generated an exception: name 'rawFileNames' is not defined\n"
     ]
    },
    {
     "name": "stderr",
     "output_type": "stream",
     "text": [
      " 22%|████████████▉                                               | 848/3932 [00:48<02:57, 17.33it/s]"
     ]
    },
    {
     "name": "stdout",
     "output_type": "stream",
     "text": [
      "generated an exception: name 'rawFileNames' is not defined\n",
      "generated an exception: name 'rawFileNames' is not defined\n",
      "generated an exception: name 'rawFileNames' is not defined\n",
      "generated an exception: name 'rawFileNames' is not defined\n",
      "generated an exception: name 'rawFileNames' is not defined\n",
      "generated an exception: name 'rawFileNames' is not defined\n",
      "generated an exception: name 'rawFileNames' is not defined\n",
      "generated an exception: name 'rawFileNames' is not defined\n",
      "generated an exception: name 'rawFileNames' is not defined\n",
      "generated an exception: name 'rawFileNames' is not defined\n",
      "generated an exception: name 'rawFileNames' is not defined\n",
      "generated an exception: name 'rawFileNames' is not defined\n",
      "generated an exception: name 'rawFileNames' is not defined\n",
      "generated an exception: name 'rawFileNames' is not defined\n",
      "generated an exception: name 'rawFileNames' is not defined\n",
      "generated an exception: name 'rawFileNames' is not defined\n"
     ]
    },
    {
     "name": "stderr",
     "output_type": "stream",
     "text": [
      " 22%|█████████████▏                                              | 864/3932 [00:48<02:53, 17.70it/s]"
     ]
    },
    {
     "name": "stdout",
     "output_type": "stream",
     "text": [
      "generated an exception: name 'rawFileNames' is not defined\n",
      "generated an exception: name 'rawFileNames' is not defined\n",
      "generated an exception: name 'rawFileNames' is not defined\n",
      "generated an exception: name 'rawFileNames' is not defined\n",
      "generated an exception: name 'rawFileNames' is not defined\n",
      "generated an exception: name 'rawFileNames' is not defined\n",
      "generated an exception: name 'rawFileNames' is not defined\n",
      "generated an exception: name 'rawFileNames' is not defined\n",
      "generated an exception: name 'rawFileNames' is not defined\n",
      "generated an exception: name 'rawFileNames' is not defined\n",
      "generated an exception: name 'rawFileNames' is not defined\n",
      "generated an exception: name 'rawFileNames' is not defined\n",
      "generated an exception: name 'rawFileNames' is not defined\n",
      "generated an exception: name 'rawFileNames' is not defined\n",
      "generated an exception: name 'rawFileNames' is not defined\n",
      "generated an exception: name 'rawFileNames' is not defined\n",
      "generated an exception: name 'rawFileNames' is not defined\n"
     ]
    },
    {
     "name": "stderr",
     "output_type": "stream",
     "text": [
      " 22%|█████████████▍                                              | 880/3932 [00:49<02:54, 17.48it/s]"
     ]
    },
    {
     "name": "stdout",
     "output_type": "stream",
     "text": [
      "generated an exception: name 'rawFileNames' is not defined\n",
      "generated an exception: name 'rawFileNames' is not defined\n",
      "generated an exception: name 'rawFileNames' is not defined\n",
      "generated an exception: name 'rawFileNames' is not defined\n",
      "generated an exception: name 'rawFileNames' is not defined\n",
      "generated an exception: name 'rawFileNames' is not defined\n",
      "generated an exception: name 'rawFileNames' is not defined\n",
      "generated an exception: name 'rawFileNames' is not defined\n",
      "generated an exception: name 'rawFileNames' is not defined\n",
      "generated an exception: name 'rawFileNames' is not defined\n",
      "generated an exception: name 'rawFileNames' is not defined\n",
      "generated an exception: name 'rawFileNames' is not defined\n",
      "generated an exception: name 'rawFileNames' is not defined\n",
      "generated an exception: name 'rawFileNames' is not defined\n",
      "generated an exception: name 'rawFileNames' is not defined\n",
      "generated an exception: name 'rawFileNames' is not defined\n",
      "generated an exception: name 'rawFileNames' is not defined\n",
      "generated an exception: name 'rawFileNames' is not defined"
     ]
    },
    {
     "name": "stderr",
     "output_type": "stream",
     "text": [
      " 23%|█████████████▋                                              | 896/3932 [00:50<02:54, 17.36it/s]"
     ]
    },
    {
     "name": "stdout",
     "output_type": "stream",
     "text": [
      "\n",
      "generated an exception: name 'rawFileNames' is not defined\n",
      "generated an exception: name 'rawFileNames' is not defined\n",
      "generated an exception: name 'rawFileNames' is not defined\n",
      "generated an exception: name 'rawFileNames' is not defined\n",
      "generated an exception: name 'rawFileNames' is not defined\n",
      "generated an exception: name 'rawFileNames' is not defined\n",
      "generated an exception: name 'rawFileNames' is not defined\n",
      "generated an exception: name 'rawFileNames' is not defined\n",
      "generated an exception: name 'rawFileNames' is not defined\n",
      "generated an exception: name 'rawFileNames' is not defined\n",
      "generated an exception: name 'rawFileNames' is not defined\n",
      "generated an exception: name 'rawFileNames' is not defined\n",
      "generated an exception: name 'rawFileNames' is not defined\n",
      "generated an exception: name 'rawFileNames' is not defined\n",
      "generated an exception: name 'rawFileNames' is not defined\n",
      "generated an exception: name 'rawFileNames' is not defined\n",
      "generated an exception: name 'rawFileNames' is not defined"
     ]
    },
    {
     "name": "stderr",
     "output_type": "stream",
     "text": [
      " 23%|█████████████▉                                              | 912/3932 [00:51<02:49, 17.87it/s]"
     ]
    },
    {
     "name": "stdout",
     "output_type": "stream",
     "text": [
      "\n",
      "generated an exception: name 'rawFileNames' is not defined\n",
      "generated an exception: name 'rawFileNames' is not defined\n",
      "generated an exception: name 'rawFileNames' is not defined\n",
      "generated an exception: name 'rawFileNames' is not defined\n",
      "generated an exception: name 'rawFileNames' is not defined\n",
      "generated an exception: name 'rawFileNames' is not defined\n",
      "generated an exception: name 'rawFileNames' is not defined\n",
      "generated an exception: name 'rawFileNames' is not defined\n",
      "generated an exception: name 'rawFileNames' is not defined\n",
      "generated an exception: name 'rawFileNames' is not defined\n",
      "generated an exception: name 'rawFileNames' is not defined\n",
      "generated an exception: name 'rawFileNames' is not defined\n",
      "generated an exception: name 'rawFileNames' is not defined\n"
     ]
    },
    {
     "name": "stderr",
     "output_type": "stream",
     "text": [
      " 24%|██████████████▏                                             | 928/3932 [00:52<02:48, 17.84it/s]"
     ]
    },
    {
     "name": "stdout",
     "output_type": "stream",
     "text": [
      "generated an exception: name 'rawFileNames' is not defined\n",
      "generated an exception: name 'rawFileNames' is not defined\n",
      "generated an exception: name 'rawFileNames' is not defined\n",
      "generated an exception: name 'rawFileNames' is not defined\n",
      "generated an exception: name 'rawFileNames' is not defined\n",
      "generated an exception: name 'rawFileNames' is not defined\n",
      "generated an exception: name 'rawFileNames' is not defined\n",
      "generated an exception: name 'rawFileNames' is not defined\n",
      "generated an exception: name 'rawFileNames' is not defined\n",
      "generated an exception: name 'rawFileNames' is not defined\n",
      "generated an exception: name 'rawFileNames' is not defined\n",
      "generated an exception: name 'rawFileNames' is not defined\n",
      "generated an exception: name 'rawFileNames' is not defined\n",
      "generated an exception: name 'rawFileNames' is not defined\n",
      "generated an exception: name 'rawFileNames' is not defined\n",
      "generated an exception: name 'rawFileNames' is not defined\n",
      "generated an exception: name 'rawFileNames' is not defined\n",
      "generated an exception: name 'rawFileNames' is not defined\n",
      "generated an exception: name 'rawFileNames' is not defined"
     ]
    },
    {
     "name": "stderr",
     "output_type": "stream",
     "text": [
      " 24%|██████████████▍                                             | 944/3932 [00:53<02:45, 18.05it/s]"
     ]
    },
    {
     "name": "stdout",
     "output_type": "stream",
     "text": [
      "\n",
      "generated an exception: name 'rawFileNames' is not defined\n",
      "generated an exception: name 'rawFileNames' is not defined\n",
      "generated an exception: name 'rawFileNames' is not defined\n",
      "generated an exception: name 'rawFileNames' is not defined\n",
      "generated an exception: name 'rawFileNames' is not defined\n",
      "generated an exception: name 'rawFileNames' is not defined\n",
      "generated an exception: name 'rawFileNames' is not defined\n",
      "generated an exception: name 'rawFileNames' is not defined\n",
      "generated an exception: name 'rawFileNames' is not defined\n",
      "generated an exception: name 'rawFileNames' is not defined\n",
      "generated an exception: name 'rawFileNames' is not defined\n",
      "generated an exception: name 'rawFileNames' is not defined\n"
     ]
    },
    {
     "name": "stderr",
     "output_type": "stream",
     "text": [
      " 24%|██████████████▋                                             | 960/3932 [00:54<02:45, 18.01it/s]"
     ]
    },
    {
     "name": "stdout",
     "output_type": "stream",
     "text": [
      "generated an exception: name 'rawFileNames' is not defined\n",
      "generated an exception: name 'rawFileNames' is not defined\n",
      "generated an exception: name 'rawFileNames' is not defined\n",
      "generated an exception: name 'rawFileNames' is not defined\n",
      "generated an exception: name 'rawFileNames' is not defined\n",
      "generated an exception: name 'rawFileNames' is not defined\n",
      "generated an exception: name 'rawFileNames' is not defined\n",
      "generated an exception: name 'rawFileNames' is not defined\n",
      "generated an exception: name 'rawFileNames' is not defined\n",
      "generated an exception: name 'rawFileNames' is not defined\n",
      "generated an exception: name 'rawFileNames' is not defined\n",
      "generated an exception: name 'rawFileNames' is not defined\n",
      "generated an exception: name 'rawFileNames' is not defined\n",
      "generated an exception: name 'rawFileNames' is not defined\n",
      "generated an exception: name 'rawFileNames' is not defined\n",
      "generated an exception: name 'rawFileNames' is not defined\n",
      "generated an exception: name 'rawFileNames' is not defined"
     ]
    },
    {
     "name": "stderr",
     "output_type": "stream",
     "text": [
      " 25%|██████████████▉                                             | 976/3932 [00:55<02:43, 18.10it/s]"
     ]
    },
    {
     "name": "stdout",
     "output_type": "stream",
     "text": [
      "\n",
      "generated an exception: name 'rawFileNames' is not defined\n",
      "generated an exception: name 'rawFileNames' is not defined\n",
      "generated an exception: name 'rawFileNames' is not defined\n",
      "generated an exception: name 'rawFileNames' is not defined\n",
      "generated an exception: name 'rawFileNames' is not defined\n",
      "generated an exception: name 'rawFileNames' is not defined\n",
      "generated an exception: name 'rawFileNames' is not defined\n",
      "generated an exception: name 'rawFileNames' is not defined\n",
      "generated an exception: name 'rawFileNames' is not defined\n",
      "generated an exception: name 'rawFileNames' is not defined\n",
      "generated an exception: name 'rawFileNames' is not defined\n",
      "generated an exception: name 'rawFileNames' is not defined\n",
      "generated an exception: name 'rawFileNames' is not defined\n",
      "generated an exception: name 'rawFileNames' is not defined\n",
      "generated an exception: name 'rawFileNames' is not defined\n",
      "generated an exception: name 'rawFileNames' is not defined\n"
     ]
    },
    {
     "name": "stderr",
     "output_type": "stream",
     "text": [
      " 25%|███████████████▏                                            | 992/3932 [00:56<02:43, 17.97it/s]"
     ]
    },
    {
     "name": "stdout",
     "output_type": "stream",
     "text": [
      "generated an exception: name 'rawFileNames' is not defined\n",
      "generated an exception: name 'rawFileNames' is not defined\n",
      "generated an exception: name 'rawFileNames' is not defined\n",
      "generated an exception: name 'rawFileNames' is not defined\n",
      "generated an exception: name 'rawFileNames' is not defined\n",
      "generated an exception: name 'rawFileNames' is not defined\n",
      "generated an exception: name 'rawFileNames' is not defined\n",
      "generated an exception: name 'rawFileNames' is not defined\n",
      "generated an exception: name 'rawFileNames' is not defined\n",
      "generated an exception: name 'rawFileNames' is not defined\n",
      "generated an exception: name 'rawFileNames' is not defined\n",
      "generated an exception: name 'rawFileNames' is not defined\n",
      "generated an exception: name 'rawFileNames' is not defined\n",
      "generated an exception: name 'rawFileNames' is not defined\n",
      "generated an exception: name 'rawFileNames' is not defined\n",
      "generated an exception: name 'rawFileNames' is not defined\n",
      "generated an exception: name 'rawFileNames' is not defined\n",
      "generated an exception: name 'rawFileNames' is not defined\n",
      "generated an exception: name 'rawFileNames' is not defined\n",
      "generated an exception: name 'rawFileNames' is not defined\n",
      "generated an exception: name 'rawFileNames' is not defined\n",
      "generated an exception: name 'rawFileNames' is not defined\n",
      "generated an exception: name 'rawFileNames' is not defined\n",
      "generated an exception: name 'rawFileNames' is not defined\n",
      "generated an exception: name 'rawFileNames' is not defined\n",
      "generated an exception: name 'rawFileNames' is not defined\n",
      "generated an exception: name 'rawFileNames' is not defined\n",
      "generated an exception: name 'rawFileNames' is not defined\n",
      "generated an exception: name 'rawFileNames' is not defined\n",
      "generated an exception: name 'rawFileNames' is not defined"
     ]
    },
    {
     "name": "stderr",
     "output_type": "stream",
     "text": [
      " 26%|███████████████▏                                           | 1008/3932 [00:56<02:44, 17.82it/s]"
     ]
    },
    {
     "name": "stdout",
     "output_type": "stream",
     "text": [
      "\n",
      "generated an exception: name 'rawFileNames' is not defined\n"
     ]
    },
    {
     "name": "stderr",
     "output_type": "stream",
     "text": [
      " 26%|███████████████▎                                           | 1024/3932 [00:57<02:43, 17.77it/s]"
     ]
    },
    {
     "name": "stdout",
     "output_type": "stream",
     "text": [
      "generated an exception: name 'rawFileNames' is not defined\n",
      "generated an exception: name 'rawFileNames' is not defined\n",
      "generated an exception: name 'rawFileNames' is not defined\n",
      "generated an exception: name 'rawFileNames' is not defined\n",
      "generated an exception: name 'rawFileNames' is not defined\n",
      "generated an exception: name 'rawFileNames' is not defined\n",
      "generated an exception: name 'rawFileNames' is not defined\n",
      "generated an exception: name 'rawFileNames' is not defined\n",
      "generated an exception: name 'rawFileNames' is not defined\n",
      "generated an exception: name 'rawFileNames' is not defined\n",
      "generated an exception: name 'rawFileNames' is not defined\n",
      "generated an exception: name 'rawFileNames' is not defined\n",
      "generated an exception: name 'rawFileNames' is not defined\n",
      "generated an exception: name 'rawFileNames' is not defined\n",
      "generated an exception: name 'rawFileNames' is not defined\n",
      "generated an exception: name 'rawFileNames' is not defined\n",
      "generated an exception: name 'rawFileNames' is not defined\n"
     ]
    },
    {
     "name": "stderr",
     "output_type": "stream",
     "text": [
      " 26%|███████████████▌                                           | 1040/3932 [00:58<02:40, 18.02it/s]"
     ]
    },
    {
     "name": "stdout",
     "output_type": "stream",
     "text": [
      "generated an exception: name 'rawFileNames' is not defined\n",
      "generated an exception: name 'rawFileNames' is not defined\n",
      "generated an exception: name 'rawFileNames' is not defined\n",
      "generated an exception: name 'rawFileNames' is not defined\n",
      "generated an exception: name 'rawFileNames' is not defined\n",
      "generated an exception: name 'rawFileNames' is not defined\n",
      "generated an exception: name 'rawFileNames' is not defined\n",
      "generated an exception: name 'rawFileNames' is not defined\n",
      "generated an exception: name 'rawFileNames' is not defined\n",
      "generated an exception: name 'rawFileNames' is not defined\n",
      "generated an exception: name 'rawFileNames' is not defined\n",
      "generated an exception: name 'rawFileNames' is not defined\n",
      "generated an exception: name 'rawFileNames' is not defined\n",
      "generated an exception: name 'rawFileNames' is not defined\n",
      "generated an exception: name 'rawFileNames' is not defined\n"
     ]
    },
    {
     "name": "stderr",
     "output_type": "stream",
     "text": [
      " 27%|███████████████▊                                           | 1056/3932 [00:59<02:36, 18.32it/s]"
     ]
    },
    {
     "name": "stdout",
     "output_type": "stream",
     "text": [
      "generated an exception: name 'rawFileNames' is not defined\n",
      "generated an exception: name 'rawFileNames' is not defined\n",
      "generated an exception: name 'rawFileNames' is not defined\n",
      "generated an exception: name 'rawFileNames' is not defined\n",
      "generated an exception: name 'rawFileNames' is not defined\n",
      "generated an exception: name 'rawFileNames' is not defined\n",
      "generated an exception: name 'rawFileNames' is not defined\n",
      "generated an exception: name 'rawFileNames' is not defined\n",
      "generated an exception: name 'rawFileNames' is not defined\n",
      "generated an exception: name 'rawFileNames' is not defined\n",
      "generated an exception: name 'rawFileNames' is not defined\n",
      "generated an exception: name 'rawFileNames' is not defined\n",
      "generated an exception: name 'rawFileNames' is not defined\n",
      "generated an exception: name 'rawFileNames' is not defined\n",
      "generated an exception: name 'rawFileNames' is not defined\n",
      "generated an exception: name 'rawFileNames' is not defined\n",
      "generated an exception: name 'rawFileNames' is not defined\n",
      "generated an exception: name 'rawFileNames' is not defined\n",
      "generated an exception: name 'rawFileNames' is not defined\n"
     ]
    },
    {
     "name": "stderr",
     "output_type": "stream",
     "text": [
      " 27%|████████████████                                           | 1072/3932 [01:00<02:36, 18.30it/s]"
     ]
    },
    {
     "name": "stdout",
     "output_type": "stream",
     "text": [
      "generated an exception: name 'rawFileNames' is not defined\n",
      "generated an exception: name 'rawFileNames' is not defined\n",
      "generated an exception: name 'rawFileNames' is not defined\n",
      "generated an exception: name 'rawFileNames' is not defined\n",
      "generated an exception: name 'rawFileNames' is not defined\n",
      "generated an exception: name 'rawFileNames' is not defined\n",
      "generated an exception: name 'rawFileNames' is not defined\n",
      "generated an exception: name 'rawFileNames' is not defined\n",
      "generated an exception: name 'rawFileNames' is not defined\n",
      "generated an exception: name 'rawFileNames' is not defined\n",
      "generated an exception: name 'rawFileNames' is not defined\n",
      "generated an exception: name 'rawFileNames' is not defined\n",
      "generated an exception: name 'rawFileNames' is not defined\n",
      "generated an exception: name 'rawFileNames' is not defined\n"
     ]
    },
    {
     "name": "stderr",
     "output_type": "stream",
     "text": [
      " 28%|████████████████▎                                          | 1088/3932 [01:01<02:33, 18.51it/s]"
     ]
    },
    {
     "name": "stdout",
     "output_type": "stream",
     "text": [
      "generated an exception: name 'rawFileNames' is not defined\n",
      "generated an exception: name 'rawFileNames' is not defined\n",
      "generated an exception: name 'rawFileNames' is not defined\n",
      "generated an exception: name 'rawFileNames' is not defined\n",
      "generated an exception: name 'rawFileNames' is not defined\n",
      "generated an exception: name 'rawFileNames' is not defined\n",
      "generated an exception: name 'rawFileNames' is not defined\n",
      "generated an exception: name 'rawFileNames' is not defined\n",
      "generated an exception: name 'rawFileNames' is not defined\n",
      "generated an exception: name 'rawFileNames' is not defined\n",
      "generated an exception: name 'rawFileNames' is not defined\n",
      "generated an exception: name 'rawFileNames' is not defined\n",
      "generated an exception: name 'rawFileNames' is not defined\n",
      "generated an exception: name 'rawFileNames' is not defined\n",
      "generated an exception: name 'rawFileNames' is not defined\n",
      "generated an exception: name 'rawFileNames' is not defined\n"
     ]
    },
    {
     "name": "stderr",
     "output_type": "stream",
     "text": [
      " 28%|████████████████▌                                          | 1104/3932 [01:02<02:33, 18.46it/s]"
     ]
    },
    {
     "name": "stdout",
     "output_type": "stream",
     "text": [
      "generated an exception: name 'rawFileNames' is not defined\n",
      "generated an exception: name 'rawFileNames' is not defined\n",
      "generated an exception: name 'rawFileNames' is not defined\n",
      "generated an exception: name 'rawFileNames' is not defined\n",
      "generated an exception: name 'rawFileNames' is not defined\n",
      "generated an exception: name 'rawFileNames' is not defined\n",
      "generated an exception: name 'rawFileNames' is not defined\n",
      "generated an exception: name 'rawFileNames' is not defined\n",
      "generated an exception: name 'rawFileNames' is not defined\n",
      "generated an exception: name 'rawFileNames' is not defined\n",
      "generated an exception: name 'rawFileNames' is not defined\n",
      "generated an exception: name 'rawFileNames' is not defined\n",
      "generated an exception: name 'rawFileNames' is not defined\n",
      "generated an exception: name 'rawFileNames' is not defined\n",
      "generated an exception: name 'rawFileNames' is not defined\n",
      "generated an exception: name 'rawFileNames' is not defined"
     ]
    },
    {
     "name": "stderr",
     "output_type": "stream",
     "text": [
      " 28%|████████████████▊                                          | 1120/3932 [01:03<02:31, 18.54it/s]"
     ]
    },
    {
     "name": "stdout",
     "output_type": "stream",
     "text": [
      "\n",
      "generated an exception: name 'rawFileNames' is not defined\n",
      "generated an exception: name 'rawFileNames' is not defined\n",
      "generated an exception: name 'rawFileNames' is not defined\n",
      "generated an exception: name 'rawFileNames' is not defined\n",
      "generated an exception: name 'rawFileNames' is not defined\n",
      "generated an exception: name 'rawFileNames' is not defined\n",
      "generated an exception: name 'rawFileNames' is not defined\n",
      "generated an exception: name 'rawFileNames' is not defined\n",
      "generated an exception: name 'rawFileNames' is not defined\n",
      "generated an exception: name 'rawFileNames' is not defined\n",
      "generated an exception: name 'rawFileNames' is not defined\n",
      "generated an exception: name 'rawFileNames' is not defined\n",
      "generated an exception: name 'rawFileNames' is not defined\n",
      "generated an exception: name 'rawFileNames' is not defined\n",
      "generated an exception: name 'rawFileNames' is not defined\n",
      "generated an exception: name 'rawFileNames' is not defined\n"
     ]
    },
    {
     "name": "stderr",
     "output_type": "stream",
     "text": [
      " 29%|█████████████████                                          | 1136/3932 [01:03<02:27, 18.91it/s]"
     ]
    },
    {
     "name": "stdout",
     "output_type": "stream",
     "text": [
      "generated an exception: name 'rawFileNames' is not defined\n",
      "generated an exception: name 'rawFileNames' is not defined\n",
      "generated an exception: name 'rawFileNames' is not defined\n",
      "generated an exception: name 'rawFileNames' is not defined\n",
      "generated an exception: name 'rawFileNames' is not defined\n",
      "generated an exception: name 'rawFileNames' is not defined\n",
      "generated an exception: name 'rawFileNames' is not defined\n",
      "generated an exception: name 'rawFileNames' is not defined\n",
      "generated an exception: name 'rawFileNames' is not defined\n",
      "generated an exception: name 'rawFileNames' is not defined\n",
      "generated an exception: name 'rawFileNames' is not defined\n",
      "generated an exception: name 'rawFileNames' is not defined\n",
      "generated an exception: name 'rawFileNames' is not defined\n",
      "generated an exception: name 'rawFileNames' is not defined\n",
      "generated an exception: name 'rawFileNames' is not defined\n",
      "generated an exception: name 'rawFileNames' is not defined"
     ]
    },
    {
     "name": "stderr",
     "output_type": "stream",
     "text": [
      " 29%|█████████████████▎                                         | 1152/3932 [01:04<02:25, 19.08it/s]"
     ]
    },
    {
     "name": "stdout",
     "output_type": "stream",
     "text": [
      "\n",
      "generated an exception: name 'rawFileNames' is not defined\n",
      "generated an exception: name 'rawFileNames' is not defined\n",
      "generated an exception: name 'rawFileNames' is not defined\n",
      "generated an exception: name 'rawFileNames' is not defined\n",
      "generated an exception: name 'rawFileNames' is not defined\n",
      "generated an exception: name 'rawFileNames' is not defined\n",
      "generated an exception: name 'rawFileNames' is not defined\n",
      "generated an exception: name 'rawFileNames' is not defined\n",
      "generated an exception: name 'rawFileNames' is not defined\n",
      "generated an exception: name 'rawFileNames' is not defined\n",
      "generated an exception: name 'rawFileNames' is not defined\n",
      "generated an exception: name 'rawFileNames' is not defined\n",
      "generated an exception: name 'rawFileNames' is not defined\n",
      "generated an exception: name 'rawFileNames' is not defined\n",
      "generated an exception: name 'rawFileNames' is not defined\n",
      "generated an exception: name 'rawFileNames' is not defined"
     ]
    },
    {
     "name": "stderr",
     "output_type": "stream",
     "text": [
      " 30%|█████████████████▌                                         | 1168/3932 [01:05<02:23, 19.23it/s]"
     ]
    },
    {
     "name": "stdout",
     "output_type": "stream",
     "text": [
      "\n",
      "generated an exception: name 'rawFileNames' is not defined\n",
      "generated an exception: name 'rawFileNames' is not defined\n",
      "generated an exception: name 'rawFileNames' is not defined\n",
      "generated an exception: name 'rawFileNames' is not defined\n",
      "generated an exception: name 'rawFileNames' is not defined\n",
      "generated an exception: name 'rawFileNames' is not defined\n",
      "generated an exception: name 'rawFileNames' is not defined\n",
      "generated an exception: name 'rawFileNames' is not defined\n",
      "generated an exception: name 'rawFileNames' is not defined\n",
      "generated an exception: name 'rawFileNames' is not defined\n",
      "generated an exception: name 'rawFileNames' is not defined\n",
      "generated an exception: name 'rawFileNames' is not defined\n",
      "generated an exception: name 'rawFileNames' is not defined\n",
      "generated an exception: name 'rawFileNames' is not defined\n",
      "generated an exception: name 'rawFileNames' is not defined\n",
      "generated an exception: name 'rawFileNames' is not defined\n",
      "generated an exception: name 'rawFileNames' is not defined\n"
     ]
    },
    {
     "name": "stderr",
     "output_type": "stream",
     "text": [
      " 30%|█████████████████▊                                         | 1184/3932 [01:06<02:22, 19.26it/s]"
     ]
    },
    {
     "name": "stdout",
     "output_type": "stream",
     "text": [
      "generated an exception: name 'rawFileNames' is not defined\n",
      "generated an exception: name 'rawFileNames' is not defined\n",
      "generated an exception: name 'rawFileNames' is not defined\n",
      "generated an exception: name 'rawFileNames' is not defined\n",
      "generated an exception: name 'rawFileNames' is not defined\n",
      "generated an exception: name 'rawFileNames' is not defined\n",
      "generated an exception: name 'rawFileNames' is not defined\n",
      "generated an exception: name 'rawFileNames' is not defined\n",
      "generated an exception: name 'rawFileNames' is not defined\n",
      "generated an exception: name 'rawFileNames' is not defined\n",
      "generated an exception: name 'rawFileNames' is not defined\n",
      "generated an exception: name 'rawFileNames' is not defined\n",
      "generated an exception: name 'rawFileNames' is not defined\n",
      "generated an exception: name 'rawFileNames' is not defined\n",
      "generated an exception: name 'rawFileNames' is not defined"
     ]
    },
    {
     "name": "stderr",
     "output_type": "stream",
     "text": [
      " 31%|██████████████████                                         | 1200/3932 [01:07<02:20, 19.41it/s]"
     ]
    },
    {
     "name": "stdout",
     "output_type": "stream",
     "text": [
      "\n",
      "generated an exception: name 'rawFileNames' is not defined\n",
      "generated an exception: name 'rawFileNames' is not defined\n",
      "generated an exception: name 'rawFileNames' is not defined\n",
      "generated an exception: name 'rawFileNames' is not defined\n",
      "generated an exception: name 'rawFileNames' is not defined\n",
      "generated an exception: name 'rawFileNames' is not defined\n",
      "generated an exception: name 'rawFileNames' is not defined\n",
      "generated an exception: name 'rawFileNames' is not defined\n",
      "generated an exception: name 'rawFileNames' is not defined\n",
      "generated an exception: name 'rawFileNames' is not defined\n",
      "generated an exception: name 'rawFileNames' is not defined\n",
      "generated an exception: name 'rawFileNames' is not defined\n",
      "generated an exception: name 'rawFileNames' is not defined\n",
      "generated an exception: name 'rawFileNames' is not defined\n",
      "generated an exception: name 'rawFileNames' is not defined\n",
      "generated an exception: name 'rawFileNames' is not defined\n"
     ]
    },
    {
     "name": "stderr",
     "output_type": "stream",
     "text": [
      " 31%|██████████████████▏                                        | 1216/3932 [01:07<02:21, 19.21it/s]"
     ]
    },
    {
     "name": "stdout",
     "output_type": "stream",
     "text": [
      "generated an exception: name 'rawFileNames' is not defined\n",
      "generated an exception: name 'rawFileNames' is not defined\n",
      "generated an exception: name 'rawFileNames' is not defined\n",
      "generated an exception: name 'rawFileNames' is not defined\n",
      "generated an exception: name 'rawFileNames' is not defined\n",
      "generated an exception: name 'rawFileNames' is not defined\n",
      "generated an exception: name 'rawFileNames' is not defined\n",
      "generated an exception: name 'rawFileNames' is not defined\n",
      "generated an exception: name 'rawFileNames' is not defined\n",
      "generated an exception: name 'rawFileNames' is not defined\n",
      "generated an exception: name 'rawFileNames' is not defined\n",
      "generated an exception: name 'rawFileNames' is not defined\n",
      "generated an exception: name 'rawFileNames' is not defined\n",
      "generated an exception: name 'rawFileNames' is not defined\n",
      "generated an exception: name 'rawFileNames' is not defined\n",
      "generated an exception: name 'rawFileNames' is not defined\n",
      "generated an exception: name 'rawFileNames' is not defined"
     ]
    },
    {
     "name": "stderr",
     "output_type": "stream",
     "text": [
      " 31%|██████████████████▍                                        | 1232/3932 [01:08<02:20, 19.18it/s]"
     ]
    },
    {
     "name": "stdout",
     "output_type": "stream",
     "text": [
      "\n",
      "generated an exception: name 'rawFileNames' is not defined\n",
      "generated an exception: name 'rawFileNames' is not defined\n",
      "generated an exception: name 'rawFileNames' is not defined\n",
      "generated an exception: name 'rawFileNames' is not defined\n",
      "generated an exception: name 'rawFileNames' is not defined\n",
      "generated an exception: name 'rawFileNames' is not defined\n",
      "generated an exception: name 'rawFileNames' is not defined\n",
      "generated an exception: name 'rawFileNames' is not defined\n",
      "generated an exception: name 'rawFileNames' is not defined\n",
      "generated an exception: name 'rawFileNames' is not defined\n",
      "generated an exception: name 'rawFileNames' is not defined\n",
      "generated an exception: name 'rawFileNames' is not defined\n",
      "generated an exception: name 'rawFileNames' is not defined\n",
      "generated an exception: name 'rawFileNames' is not defined\n",
      "generated an exception: name 'rawFileNames' is not defined\n",
      "generated an exception: name 'rawFileNames' is not defined\n"
     ]
    },
    {
     "name": "stderr",
     "output_type": "stream",
     "text": [
      " 32%|██████████████████▋                                        | 1248/3932 [01:09<02:18, 19.34it/s]"
     ]
    },
    {
     "name": "stdout",
     "output_type": "stream",
     "text": [
      "generated an exception: name 'rawFileNames' is not defined\n",
      "generated an exception: name 'rawFileNames' is not defined\n",
      "generated an exception: name 'rawFileNames' is not defined\n",
      "generated an exception: name 'rawFileNames' is not defined\n",
      "generated an exception: name 'rawFileNames' is not defined\n",
      "generated an exception: name 'rawFileNames' is not defined\n",
      "generated an exception: name 'rawFileNames' is not defined\n",
      "generated an exception: name 'rawFileNames' is not defined\n",
      "generated an exception: name 'rawFileNames' is not defined\n",
      "generated an exception: name 'rawFileNames' is not defined\n",
      "generated an exception: name 'rawFileNames' is not defined\n",
      "generated an exception: name 'rawFileNames' is not defined\n",
      "generated an exception: name 'rawFileNames' is not defined\n",
      "generated an exception: name 'rawFileNames' is not defined\n",
      "generated an exception: name 'rawFileNames' is not defined\n",
      "generated an exception: name 'rawFileNames' is not defined"
     ]
    },
    {
     "name": "stderr",
     "output_type": "stream",
     "text": [
      " 32%|██████████████████▉                                        | 1264/3932 [01:10<02:16, 19.54it/s]"
     ]
    },
    {
     "name": "stdout",
     "output_type": "stream",
     "text": [
      "\n",
      "generated an exception: name 'rawFileNames' is not defined\n",
      "generated an exception: name 'rawFileNames' is not defined\n",
      "generated an exception: name 'rawFileNames' is not defined\n",
      "generated an exception: name 'rawFileNames' is not defined\n",
      "generated an exception: name 'rawFileNames' is not defined\n",
      "generated an exception: name 'rawFileNames' is not defined\n",
      "generated an exception: name 'rawFileNames' is not defined\n",
      "generated an exception: name 'rawFileNames' is not defined\n",
      "generated an exception: name 'rawFileNames' is not defined\n",
      "generated an exception: name 'rawFileNames' is not defined\n",
      "generated an exception: name 'rawFileNames' is not defined\n",
      "generated an exception: name 'rawFileNames' is not defined\n",
      "generated an exception: name 'rawFileNames' is not defined\n",
      "generated an exception: name 'rawFileNames' is not defined\n",
      "generated an exception: name 'rawFileNames' is not defined"
     ]
    },
    {
     "name": "stderr",
     "output_type": "stream",
     "text": [
      " 33%|███████████████████▏                                       | 1280/3932 [01:11<02:16, 19.36it/s]"
     ]
    },
    {
     "name": "stdout",
     "output_type": "stream",
     "text": [
      "\n",
      "generated an exception: name 'rawFileNames' is not defined\n",
      "generated an exception: name 'rawFileNames' is not defined\n",
      "generated an exception: name 'rawFileNames' is not defined\n",
      "generated an exception: name 'rawFileNames' is not defined\n",
      "generated an exception: name 'rawFileNames' is not defined\n",
      "generated an exception: name 'rawFileNames' is not defined\n",
      "generated an exception: name 'rawFileNames' is not defined\n",
      "generated an exception: name 'rawFileNames' is not defined\n",
      "generated an exception: name 'rawFileNames' is not defined\n",
      "generated an exception: name 'rawFileNames' is not defined\n",
      "generated an exception: name 'rawFileNames' is not defined\n",
      "generated an exception: name 'rawFileNames' is not defined\n",
      "generated an exception: name 'rawFileNames' is not defined\n",
      "generated an exception: name 'rawFileNames' is not defined\n",
      "generated an exception: name 'rawFileNames' is not defined\n",
      "generated an exception: name 'rawFileNames' is not defined\n"
     ]
    },
    {
     "name": "stderr",
     "output_type": "stream",
     "text": [
      " 33%|███████████████████▍                                       | 1296/3932 [01:12<02:14, 19.53it/s]"
     ]
    },
    {
     "name": "stdout",
     "output_type": "stream",
     "text": [
      "generated an exception: name 'rawFileNames' is not defined\n",
      "generated an exception: name 'rawFileNames' is not defined\n",
      "generated an exception: name 'rawFileNames' is not defined\n",
      "generated an exception: name 'rawFileNames' is not defined\n",
      "generated an exception: name 'rawFileNames' is not defined\n",
      "generated an exception: name 'rawFileNames' is not defined\n",
      "generated an exception: name 'rawFileNames' is not defined\n",
      "generated an exception: name 'rawFileNames' is not defined\n",
      "generated an exception: name 'rawFileNames' is not defined\n",
      "generated an exception: name 'rawFileNames' is not defined\n",
      "generated an exception: name 'rawFileNames' is not defined\n",
      "generated an exception: name 'rawFileNames' is not defined\n",
      "generated an exception: name 'rawFileNames' is not defined\n",
      "generated an exception: name 'rawFileNames' is not defined\n",
      "generated an exception: name 'rawFileNames' is not defined\n",
      "generated an exception: name 'rawFileNames' is not defined"
     ]
    },
    {
     "name": "stderr",
     "output_type": "stream",
     "text": [
      " 33%|███████████████████▋                                       | 1312/3932 [01:12<02:13, 19.61it/s]"
     ]
    },
    {
     "name": "stdout",
     "output_type": "stream",
     "text": [
      "\n",
      "generated an exception: name 'rawFileNames' is not defined\n",
      "generated an exception: name 'rawFileNames' is not defined\n",
      "generated an exception: name 'rawFileNames' is not defined\n",
      "generated an exception: name 'rawFileNames' is not defined\n",
      "generated an exception: name 'rawFileNames' is not defined\n",
      "generated an exception: name 'rawFileNames' is not defined\n",
      "generated an exception: name 'rawFileNames' is not defined\n",
      "generated an exception: name 'rawFileNames' is not defined\n",
      "generated an exception: name 'rawFileNames' is not defined\n",
      "generated an exception: name 'rawFileNames' is not defined\n",
      "generated an exception: name 'rawFileNames' is not defined\n",
      "generated an exception: name 'rawFileNames' is not defined\n",
      "generated an exception: name 'rawFileNames' is not defined\n",
      "generated an exception: name 'rawFileNames' is not defined\n",
      "generated an exception: name 'rawFileNames' is not defined\n",
      "generated an exception: name 'rawFileNames' is not defined\n"
     ]
    },
    {
     "name": "stderr",
     "output_type": "stream",
     "text": [
      " 34%|███████████████████▉                                       | 1328/3932 [01:13<02:13, 19.58it/s]"
     ]
    },
    {
     "name": "stdout",
     "output_type": "stream",
     "text": [
      "generated an exception: name 'rawFileNames' is not defined\n",
      "generated an exception: name 'rawFileNames' is not defined\n",
      "generated an exception: name 'rawFileNames' is not defined\n",
      "generated an exception: name 'rawFileNames' is not defined\n",
      "generated an exception: name 'rawFileNames' is not defined\n",
      "generated an exception: name 'rawFileNames' is not defined\n",
      "generated an exception: name 'rawFileNames' is not defined\n",
      "generated an exception: name 'rawFileNames' is not defined\n",
      "generated an exception: name 'rawFileNames' is not defined\n",
      "generated an exception: name 'rawFileNames' is not defined\n",
      "generated an exception: name 'rawFileNames' is not defined\n",
      "generated an exception: name 'rawFileNames' is not defined\n",
      "generated an exception: name 'rawFileNames' is not defined\n",
      "generated an exception: name 'rawFileNames' is not defined\n",
      "generated an exception: name 'rawFileNames' is not defined\n",
      "generated an exception: name 'rawFileNames' is not defined"
     ]
    },
    {
     "name": "stderr",
     "output_type": "stream",
     "text": [
      " 34%|████████████████████▏                                      | 1344/3932 [01:14<02:12, 19.54it/s]"
     ]
    },
    {
     "name": "stdout",
     "output_type": "stream",
     "text": [
      "\n",
      "generated an exception: name 'rawFileNames' is not defined\n",
      "generated an exception: name 'rawFileNames' is not defined\n",
      "generated an exception: name 'rawFileNames' is not defined\n",
      "generated an exception: name 'rawFileNames' is not defined\n",
      "generated an exception: name 'rawFileNames' is not defined\n",
      "generated an exception: name 'rawFileNames' is not defined\n",
      "generated an exception: name 'rawFileNames' is not defined\n",
      "generated an exception: name 'rawFileNames' is not defined\n",
      "generated an exception: name 'rawFileNames' is not defined\n",
      "generated an exception: name 'rawFileNames' is not defined\n",
      "generated an exception: name 'rawFileNames' is not defined\n",
      "generated an exception: name 'rawFileNames' is not defined\n",
      "generated an exception: name 'rawFileNames' is not defined\n",
      "generated an exception: name 'rawFileNames' is not defined\n",
      "generated an exception: name 'rawFileNames' is not defined\n",
      "generated an exception: name 'rawFileNames' is not defined\n",
      "generated an exception: name 'rawFileNames' is not defined\n",
      "generated an exception: name 'rawFileNames' is not defined\n",
      "generated an exception: name 'rawFileNames' is not defined\n"
     ]
    },
    {
     "name": "stderr",
     "output_type": "stream",
     "text": [
      " 35%|████████████████████▍                                      | 1360/3932 [01:15<02:11, 19.51it/s]"
     ]
    },
    {
     "name": "stdout",
     "output_type": "stream",
     "text": [
      "generated an exception: name 'rawFileNames' is not defined\n",
      "generated an exception: name 'rawFileNames' is not defined\n",
      "generated an exception: name 'rawFileNames' is not defined\n",
      "generated an exception: name 'rawFileNames' is not defined\n",
      "generated an exception: name 'rawFileNames' is not defined\n",
      "generated an exception: name 'rawFileNames' is not defined\n",
      "generated an exception: name 'rawFileNames' is not defined\n",
      "generated an exception: name 'rawFileNames' is not defined\n",
      "generated an exception: name 'rawFileNames' is not defined\n",
      "generated an exception: name 'rawFileNames' is not defined\n",
      "generated an exception: name 'rawFileNames' is not defined\n",
      "generated an exception: name 'rawFileNames' is not defined\n",
      "generated an exception: name 'rawFileNames' is not defined\n"
     ]
    },
    {
     "name": "stderr",
     "output_type": "stream",
     "text": [
      " 35%|████████████████████▋                                      | 1376/3932 [01:16<02:10, 19.56it/s]"
     ]
    },
    {
     "name": "stdout",
     "output_type": "stream",
     "text": [
      "generated an exception: name 'rawFileNames' is not defined\n",
      "generated an exception: name 'rawFileNames' is not defined\n",
      "generated an exception: name 'rawFileNames' is not defined\n",
      "generated an exception: name 'rawFileNames' is not defined\n",
      "generated an exception: name 'rawFileNames' is not defined\n",
      "generated an exception: name 'rawFileNames' is not defined\n",
      "generated an exception: name 'rawFileNames' is not defined\n",
      "generated an exception: name 'rawFileNames' is not defined\n",
      "generated an exception: name 'rawFileNames' is not defined\n",
      "generated an exception: name 'rawFileNames' is not defined\n",
      "generated an exception: name 'rawFileNames' is not defined\n",
      "generated an exception: name 'rawFileNames' is not defined\n",
      "generated an exception: name 'rawFileNames' is not defined\n",
      "generated an exception: name 'rawFileNames' is not defined\n",
      "generated an exception: name 'rawFileNames' is not defined\n"
     ]
    },
    {
     "name": "stderr",
     "output_type": "stream",
     "text": [
      " 35%|████████████████████▉                                      | 1392/3932 [01:16<02:10, 19.51it/s]"
     ]
    },
    {
     "name": "stdout",
     "output_type": "stream",
     "text": [
      "generated an exception: name 'rawFileNames' is not defined\n",
      "generated an exception: name 'rawFileNames' is not defined\n",
      "generated an exception: name 'rawFileNames' is not defined\n",
      "generated an exception: name 'rawFileNames' is not defined\n",
      "generated an exception: name 'rawFileNames' is not defined\n",
      "generated an exception: name 'rawFileNames' is not defined\n",
      "generated an exception: name 'rawFileNames' is not defined\n",
      "generated an exception: name 'rawFileNames' is not defined\n",
      "generated an exception: name 'rawFileNames' is not defined\n",
      "generated an exception: name 'rawFileNames' is not defined\n",
      "generated an exception: name 'rawFileNames' is not defined\n",
      "generated an exception: name 'rawFileNames' is not defined\n",
      "generated an exception: name 'rawFileNames' is not defined\n",
      "generated an exception: name 'rawFileNames' is not defined\n",
      "generated an exception: name 'rawFileNames' is not defined\n",
      "generated an exception: name 'rawFileNames' is not defined\n",
      "generated an exception: name 'rawFileNames' is not defined\n",
      "generated an exception: name 'rawFileNames' is not defined\n"
     ]
    },
    {
     "name": "stderr",
     "output_type": "stream",
     "text": [
      " 36%|█████████████████████▏                                     | 1408/3932 [01:17<02:09, 19.44it/s]"
     ]
    },
    {
     "name": "stdout",
     "output_type": "stream",
     "text": [
      "generated an exception: name 'rawFileNames' is not defined\n",
      "generated an exception: name 'rawFileNames' is not defined\n",
      "generated an exception: name 'rawFileNames' is not defined\n",
      "generated an exception: name 'rawFileNames' is not defined\n",
      "generated an exception: name 'rawFileNames' is not defined\n",
      "generated an exception: name 'rawFileNames' is not defined\n",
      "generated an exception: name 'rawFileNames' is not defined\n",
      "generated an exception: name 'rawFileNames' is not defined\n",
      "generated an exception: name 'rawFileNames' is not defined\n",
      "generated an exception: name 'rawFileNames' is not defined\n",
      "generated an exception: name 'rawFileNames' is not defined\n",
      "generated an exception: name 'rawFileNames' is not defined\n",
      "generated an exception: name 'rawFileNames' is not defined\n",
      "generated an exception: name 'rawFileNames' is not defined\n",
      "generated an exception: name 'rawFileNames' is not defined"
     ]
    },
    {
     "name": "stderr",
     "output_type": "stream",
     "text": [
      " 36%|█████████████████████▎                                     | 1424/3932 [01:18<02:07, 19.66it/s]"
     ]
    },
    {
     "name": "stdout",
     "output_type": "stream",
     "text": [
      "\n",
      "generated an exception: name 'rawFileNames' is not defined\n",
      "generated an exception: name 'rawFileNames' is not defined\n",
      "generated an exception: name 'rawFileNames' is not defined\n",
      "generated an exception: name 'rawFileNames' is not defined\n",
      "generated an exception: name 'rawFileNames' is not defined\n",
      "generated an exception: name 'rawFileNames' is not defined\n",
      "generated an exception: name 'rawFileNames' is not defined\n",
      "generated an exception: name 'rawFileNames' is not defined\n",
      "generated an exception: name 'rawFileNames' is not defined\n",
      "generated an exception: name 'rawFileNames' is not defined\n",
      "generated an exception: name 'rawFileNames' is not defined\n",
      "generated an exception: name 'rawFileNames' is not defined\n",
      "generated an exception: name 'rawFileNames' is not defined\n",
      "generated an exception: name 'rawFileNames' is not defined\n",
      "generated an exception: name 'rawFileNames' is not defined\n",
      "generated an exception: name 'rawFileNames' is not defined\n",
      "generated an exception: name 'rawFileNames' is not defined"
     ]
    },
    {
     "name": "stderr",
     "output_type": "stream",
     "text": [
      " 37%|█████████████████████▌                                     | 1440/3932 [01:19<02:08, 19.44it/s]"
     ]
    },
    {
     "name": "stdout",
     "output_type": "stream",
     "text": [
      "\n",
      "generated an exception: name 'rawFileNames' is not defined\n",
      "generated an exception: name 'rawFileNames' is not defined\n",
      "generated an exception: name 'rawFileNames' is not defined\n",
      "generated an exception: name 'rawFileNames' is not defined\n",
      "generated an exception: name 'rawFileNames' is not defined\n",
      "generated an exception: name 'rawFileNames' is not defined\n",
      "generated an exception: name 'rawFileNames' is not defined\n",
      "generated an exception: name 'rawFileNames' is not defined\n",
      "generated an exception: name 'rawFileNames' is not defined\n",
      "generated an exception: name 'rawFileNames' is not defined\n",
      "generated an exception: name 'rawFileNames' is not defined\n",
      "generated an exception: name 'rawFileNames' is not defined\n",
      "generated an exception: name 'rawFileNames' is not defined\n",
      "generated an exception: name 'rawFileNames' is not defined\n"
     ]
    },
    {
     "name": "stderr",
     "output_type": "stream",
     "text": [
      " 37%|█████████████████████▊                                     | 1456/3932 [01:20<02:08, 19.23it/s]"
     ]
    },
    {
     "name": "stdout",
     "output_type": "stream",
     "text": [
      "generated an exception: name 'rawFileNames' is not defined\n",
      "generated an exception: name 'rawFileNames' is not defined\n",
      "generated an exception: name 'rawFileNames' is not defined\n",
      "generated an exception: name 'rawFileNames' is not defined\n",
      "generated an exception: name 'rawFileNames' is not defined\n",
      "generated an exception: name 'rawFileNames' is not defined\n",
      "generated an exception: name 'rawFileNames' is not defined\n",
      "generated an exception: name 'rawFileNames' is not defined\n",
      "generated an exception: name 'rawFileNames' is not defined\n",
      "generated an exception: name 'rawFileNames' is not defined\n",
      "generated an exception: name 'rawFileNames' is not defined\n",
      "generated an exception: name 'rawFileNames' is not defined\n",
      "generated an exception: name 'rawFileNames' is not defined\n",
      "generated an exception: name 'rawFileNames' is not defined\n",
      "generated an exception: name 'rawFileNames' is not defined\n",
      "generated an exception: name 'rawFileNames' is not defined\n",
      "generated an exception: name 'rawFileNames' is not defined"
     ]
    },
    {
     "name": "stderr",
     "output_type": "stream",
     "text": [
      " 37%|██████████████████████                                     | 1472/3932 [01:21<02:08, 19.10it/s]"
     ]
    },
    {
     "name": "stdout",
     "output_type": "stream",
     "text": [
      "\n",
      "generated an exception: name 'rawFileNames' is not defined\n",
      "generated an exception: name 'rawFileNames' is not defined\n",
      "generated an exception: name 'rawFileNames' is not defined\n",
      "generated an exception: name 'rawFileNames' is not defined\n",
      "generated an exception: name 'rawFileNames' is not defined\n",
      "generated an exception: name 'rawFileNames' is not defined\n",
      "generated an exception: name 'rawFileNames' is not defined\n",
      "generated an exception: name 'rawFileNames' is not defined\n",
      "generated an exception: name 'rawFileNames' is not defined\n",
      "generated an exception: name 'rawFileNames' is not defined\n",
      "generated an exception: name 'rawFileNames' is not defined\n",
      "generated an exception: name 'rawFileNames' is not defined\n",
      "generated an exception: name 'rawFileNames' is not defined\n",
      "generated an exception: name 'rawFileNames' is not defined\n",
      "generated an exception: name 'rawFileNames' is not defined\n",
      "generated an exception: name 'rawFileNames' is not defined\n"
     ]
    },
    {
     "name": "stderr",
     "output_type": "stream",
     "text": [
      " 38%|██████████████████████▎                                    | 1488/3932 [01:21<02:06, 19.36it/s]"
     ]
    },
    {
     "name": "stdout",
     "output_type": "stream",
     "text": [
      "generated an exception: name 'rawFileNames' is not defined\n",
      "generated an exception: name 'rawFileNames' is not defined\n",
      "generated an exception: name 'rawFileNames' is not defined\n",
      "generated an exception: name 'rawFileNames' is not defined\n",
      "generated an exception: name 'rawFileNames' is not defined\n",
      "generated an exception: name 'rawFileNames' is not defined\n",
      "generated an exception: name 'rawFileNames' is not defined\n",
      "generated an exception: name 'rawFileNames' is not defined\n",
      "generated an exception: name 'rawFileNames' is not defined\n",
      "generated an exception: name 'rawFileNames' is not defined\n",
      "generated an exception: name 'rawFileNames' is not defined\n",
      "generated an exception: name 'rawFileNames' is not defined\n",
      "generated an exception: name 'rawFileNames' is not defined\n",
      "generated an exception: name 'rawFileNames' is not defined\n",
      "generated an exception: name 'rawFileNames' is not defined\n"
     ]
    },
    {
     "name": "stderr",
     "output_type": "stream",
     "text": [
      " 38%|██████████████████████▌                                    | 1504/3932 [01:22<02:06, 19.25it/s]"
     ]
    },
    {
     "name": "stdout",
     "output_type": "stream",
     "text": [
      "generated an exception: name 'rawFileNames' is not defined\n",
      "generated an exception: name 'rawFileNames' is not defined\n",
      "generated an exception: name 'rawFileNames' is not defined\n",
      "generated an exception: name 'rawFileNames' is not defined\n",
      "generated an exception: name 'rawFileNames' is not defined\n",
      "generated an exception: name 'rawFileNames' is not defined\n",
      "generated an exception: name 'rawFileNames' is not defined\n",
      "generated an exception: name 'rawFileNames' is not defined\n",
      "generated an exception: name 'rawFileNames' is not defined\n",
      "generated an exception: name 'rawFileNames' is not defined\n",
      "generated an exception: name 'rawFileNames' is not defined\n",
      "generated an exception: name 'rawFileNames' is not defined\n",
      "generated an exception: name 'rawFileNames' is not defined\n",
      "generated an exception: name 'rawFileNames' is not defined\n",
      "generated an exception: name 'rawFileNames' is not defined\n",
      "generated an exception: name 'rawFileNames' is not defined\n",
      "generated an exception: name 'rawFileNames' is not defined\n"
     ]
    },
    {
     "name": "stderr",
     "output_type": "stream",
     "text": [
      " 39%|██████████████████████▊                                    | 1520/3932 [01:23<02:04, 19.33it/s]"
     ]
    },
    {
     "name": "stdout",
     "output_type": "stream",
     "text": [
      "generated an exception: name 'rawFileNames' is not defined\n",
      "generated an exception: name 'rawFileNames' is not defined\n",
      "generated an exception: name 'rawFileNames' is not defined\n",
      "generated an exception: name 'rawFileNames' is not defined\n",
      "generated an exception: name 'rawFileNames' is not defined\n",
      "generated an exception: name 'rawFileNames' is not defined\n",
      "generated an exception: name 'rawFileNames' is not defined\n",
      "generated an exception: name 'rawFileNames' is not defined\n",
      "generated an exception: name 'rawFileNames' is not defined\n",
      "generated an exception: name 'rawFileNames' is not defined\n",
      "generated an exception: name 'rawFileNames' is not defined\n",
      "generated an exception: name 'rawFileNames' is not defined\n",
      "generated an exception: name 'rawFileNames' is not defined\n",
      "generated an exception: name 'rawFileNames' is not defined\n",
      "generated an exception: name 'rawFileNames' is not defined\n"
     ]
    },
    {
     "name": "stderr",
     "output_type": "stream",
     "text": [
      " 39%|███████████████████████                                    | 1536/3932 [01:24<02:03, 19.46it/s]"
     ]
    },
    {
     "name": "stdout",
     "output_type": "stream",
     "text": [
      "generated an exception: name 'rawFileNames' is not defined\n",
      "generated an exception: name 'rawFileNames' is not defined\n",
      "generated an exception: name 'rawFileNames' is not defined\n",
      "generated an exception: name 'rawFileNames' is not defined\n",
      "generated an exception: name 'rawFileNames' is not defined\n",
      "generated an exception: name 'rawFileNames' is not defined\n",
      "generated an exception: name 'rawFileNames' is not defined\n",
      "generated an exception: name 'rawFileNames' is not defined\n",
      "generated an exception: name 'rawFileNames' is not defined\n",
      "generated an exception: name 'rawFileNames' is not defined\n",
      "generated an exception: name 'rawFileNames' is not defined\n",
      "generated an exception: name 'rawFileNames' is not defined\n",
      "generated an exception: name 'rawFileNames' is not defined\n",
      "generated an exception: name 'rawFileNames' is not defined\n",
      "generated an exception: name 'rawFileNames' is not defined\n",
      "generated an exception: name 'rawFileNames' is not defined\n",
      "generated an exception: name 'rawFileNames' is not defined"
     ]
    },
    {
     "name": "stderr",
     "output_type": "stream",
     "text": [
      " 39%|███████████████████████▎                                   | 1552/3932 [01:25<02:02, 19.48it/s]"
     ]
    },
    {
     "name": "stdout",
     "output_type": "stream",
     "text": [
      "\n",
      "generated an exception: name 'rawFileNames' is not defined\n",
      "generated an exception: name 'rawFileNames' is not defined\n",
      "generated an exception: name 'rawFileNames' is not defined\n",
      "generated an exception: name 'rawFileNames' is not defined\n",
      "generated an exception: name 'rawFileNames' is not defined\n",
      "generated an exception: name 'rawFileNames' is not defined\n",
      "generated an exception: name 'rawFileNames' is not defined\n",
      "generated an exception: name 'rawFileNames' is not defined\n",
      "generated an exception: name 'rawFileNames' is not defined\n",
      "generated an exception: name 'rawFileNames' is not defined\n",
      "generated an exception: name 'rawFileNames' is not defined\n",
      "generated an exception: name 'rawFileNames' is not defined\n",
      "generated an exception: name 'rawFileNames' is not defined\n",
      "generated an exception: name 'rawFileNames' is not defined\n",
      "generated an exception: name 'rawFileNames' is not defined\n"
     ]
    },
    {
     "name": "stderr",
     "output_type": "stream",
     "text": [
      " 40%|███████████████████████▌                                   | 1568/3932 [01:26<02:02, 19.37it/s]"
     ]
    },
    {
     "name": "stdout",
     "output_type": "stream",
     "text": [
      "generated an exception: name 'rawFileNames' is not defined\n",
      "generated an exception: name 'rawFileNames' is not defined\n",
      "generated an exception: name 'rawFileNames' is not defined\n",
      "generated an exception: name 'rawFileNames' is not defined\n",
      "generated an exception: name 'rawFileNames' is not defined\n",
      "generated an exception: name 'rawFileNames' is not defined\n",
      "generated an exception: name 'rawFileNames' is not defined\n",
      "generated an exception: name 'rawFileNames' is not defined\n",
      "generated an exception: name 'rawFileNames' is not defined\n",
      "generated an exception: name 'rawFileNames' is not defined\n",
      "generated an exception: name 'rawFileNames' is not defined\n",
      "generated an exception: name 'rawFileNames' is not defined\n",
      "generated an exception: name 'rawFileNames' is not defined\n",
      "generated an exception: name 'rawFileNames' is not defined\n",
      "generated an exception: name 'rawFileNames' is not defined\n",
      "generated an exception: name 'rawFileNames' is not defined\n",
      "generated an exception: name 'rawFileNames' is not defined"
     ]
    },
    {
     "name": "stderr",
     "output_type": "stream",
     "text": [
      " 40%|███████████████████████▊                                   | 1584/3932 [01:26<02:00, 19.52it/s]"
     ]
    },
    {
     "name": "stdout",
     "output_type": "stream",
     "text": [
      "\n",
      "generated an exception: name 'rawFileNames' is not defined\n",
      "generated an exception: name 'rawFileNames' is not defined\n",
      "generated an exception: name 'rawFileNames' is not defined\n",
      "generated an exception: name 'rawFileNames' is not defined\n",
      "generated an exception: name 'rawFileNames' is not defined\n",
      "generated an exception: name 'rawFileNames' is not defined\n",
      "generated an exception: name 'rawFileNames' is not defined\n",
      "generated an exception: name 'rawFileNames' is not defined\n",
      "generated an exception: name 'rawFileNames' is not defined\n",
      "generated an exception: name 'rawFileNames' is not defined\n",
      "generated an exception: name 'rawFileNames' is not defined\n",
      "generated an exception: name 'rawFileNames' is not defined\n",
      "generated an exception: name 'rawFileNames' is not defined\n",
      "generated an exception: name 'rawFileNames' is not defined\n",
      "generated an exception: name 'rawFileNames' is not defined\n",
      "generated an exception: name 'rawFileNames' is not defined\n"
     ]
    },
    {
     "name": "stderr",
     "output_type": "stream",
     "text": [
      " 41%|████████████████████████                                   | 1600/3932 [01:27<01:59, 19.49it/s]"
     ]
    },
    {
     "name": "stdout",
     "output_type": "stream",
     "text": [
      "generated an exception: name 'rawFileNames' is not defined\n",
      "generated an exception: name 'rawFileNames' is not defined\n",
      "generated an exception: name 'rawFileNames' is not defined\n",
      "generated an exception: name 'rawFileNames' is not defined\n",
      "generated an exception: name 'rawFileNames' is not defined\n",
      "generated an exception: name 'rawFileNames' is not defined\n",
      "generated an exception: name 'rawFileNames' is not defined\n",
      "generated an exception: name 'rawFileNames' is not defined\n",
      "generated an exception: name 'rawFileNames' is not defined\n",
      "generated an exception: name 'rawFileNames' is not defined\n",
      "generated an exception: name 'rawFileNames' is not defined\n",
      "generated an exception: name 'rawFileNames' is not defined\n",
      "generated an exception: name 'rawFileNames' is not defined\n",
      "generated an exception: name 'rawFileNames' is not defined\n",
      "generated an exception: name 'rawFileNames' is not defined\n",
      "generated an exception: name 'rawFileNames' is not defined\n"
     ]
    },
    {
     "name": "stderr",
     "output_type": "stream",
     "text": [
      " 41%|████████████████████████▏                                  | 1616/3932 [01:28<01:57, 19.68it/s]"
     ]
    },
    {
     "name": "stdout",
     "output_type": "stream",
     "text": [
      "generated an exception: name 'rawFileNames' is not defined\n",
      "generated an exception: name 'rawFileNames' is not defined\n",
      "generated an exception: name 'rawFileNames' is not defined\n",
      "generated an exception: name 'rawFileNames' is not defined\n",
      "generated an exception: name 'rawFileNames' is not defined\n",
      "generated an exception: name 'rawFileNames' is not defined\n",
      "generated an exception: name 'rawFileNames' is not defined\n",
      "generated an exception: name 'rawFileNames' is not defined\n",
      "generated an exception: name 'rawFileNames' is not defined\n",
      "generated an exception: name 'rawFileNames' is not defined\n",
      "generated an exception: name 'rawFileNames' is not defined\n",
      "generated an exception: name 'rawFileNames' is not defined\n",
      "generated an exception: name 'rawFileNames' is not defined\n",
      "generated an exception: name 'rawFileNames' is not defined\n",
      "generated an exception: name 'rawFileNames' is not defined\n",
      "generated an exception: name 'rawFileNames' is not defined\n",
      "generated an exception: name 'rawFileNames' is not defined\n",
      "generated an exception: name 'rawFileNames' is not defined\n"
     ]
    },
    {
     "name": "stderr",
     "output_type": "stream",
     "text": [
      " 42%|████████████████████████▍                                  | 1632/3932 [01:29<01:56, 19.72it/s]"
     ]
    },
    {
     "name": "stdout",
     "output_type": "stream",
     "text": [
      "generated an exception: name 'rawFileNames' is not defined\n",
      "generated an exception: name 'rawFileNames' is not defined\n",
      "generated an exception: name 'rawFileNames' is not defined\n",
      "generated an exception: name 'rawFileNames' is not defined\n",
      "generated an exception: name 'rawFileNames' is not defined\n",
      "generated an exception: name 'rawFileNames' is not defined\n",
      "generated an exception: name 'rawFileNames' is not defined\n",
      "generated an exception: name 'rawFileNames' is not defined\n",
      "generated an exception: name 'rawFileNames' is not defined\n",
      "generated an exception: name 'rawFileNames' is not defined\n",
      "generated an exception: name 'rawFileNames' is not defined\n",
      "generated an exception: name 'rawFileNames' is not defined\n",
      "generated an exception: name 'rawFileNames' is not defined\n",
      "generated an exception: name 'rawFileNames' is not defined\n"
     ]
    },
    {
     "name": "stderr",
     "output_type": "stream",
     "text": [
      " 42%|████████████████████████▋                                  | 1648/3932 [01:30<01:56, 19.69it/s]"
     ]
    },
    {
     "name": "stdout",
     "output_type": "stream",
     "text": [
      "generated an exception: name 'rawFileNames' is not defined\n",
      "generated an exception: name 'rawFileNames' is not defined\n",
      "generated an exception: name 'rawFileNames' is not defined\n",
      "generated an exception: name 'rawFileNames' is not defined\n",
      "generated an exception: name 'rawFileNames' is not defined\n",
      "generated an exception: name 'rawFileNames' is not defined\n",
      "generated an exception: name 'rawFileNames' is not defined\n",
      "generated an exception: name 'rawFileNames' is not defined\n",
      "generated an exception: name 'rawFileNames' is not defined\n",
      "generated an exception: name 'rawFileNames' is not defined\n",
      "generated an exception: name 'rawFileNames' is not defined\n",
      "generated an exception: name 'rawFileNames' is not defined\n",
      "generated an exception: name 'rawFileNames' is not defined\n",
      "generated an exception: name 'rawFileNames' is not defined\n",
      "generated an exception: name 'rawFileNames' is not defined\n"
     ]
    },
    {
     "name": "stderr",
     "output_type": "stream",
     "text": [
      " 42%|████████████████████████▉                                  | 1664/3932 [01:30<01:55, 19.70it/s]"
     ]
    },
    {
     "name": "stdout",
     "output_type": "stream",
     "text": [
      "generated an exception: name 'rawFileNames' is not defined\n",
      "generated an exception: name 'rawFileNames' is not defined\n",
      "generated an exception: name 'rawFileNames' is not defined\n",
      "generated an exception: name 'rawFileNames' is not defined\n",
      "generated an exception: name 'rawFileNames' is not defined\n",
      "generated an exception: name 'rawFileNames' is not defined\n",
      "generated an exception: name 'rawFileNames' is not defined\n",
      "generated an exception: name 'rawFileNames' is not defined\n",
      "generated an exception: name 'rawFileNames' is not defined\n",
      "generated an exception: name 'rawFileNames' is not defined\n",
      "generated an exception: name 'rawFileNames' is not defined\n",
      "generated an exception: name 'rawFileNames' is not defined\n",
      "generated an exception: name 'rawFileNames' is not defined\n",
      "generated an exception: name 'rawFileNames' is not defined\n",
      "generated an exception: name 'rawFileNames' is not defined\n",
      "generated an exception: name 'rawFileNames' is not defined\n",
      "generated an exception: name 'rawFileNames' is not defined\n",
      "generated an exception: name 'rawFileNames' is not defined"
     ]
    },
    {
     "name": "stderr",
     "output_type": "stream",
     "text": [
      " 43%|█████████████████████████▏                                 | 1680/3932 [01:31<01:52, 19.95it/s]"
     ]
    },
    {
     "name": "stdout",
     "output_type": "stream",
     "text": [
      "\n",
      "generated an exception: name 'rawFileNames' is not defined\n",
      "generated an exception: name 'rawFileNames' is not defined\n",
      "generated an exception: name 'rawFileNames' is not defined\n",
      "generated an exception: name 'rawFileNames' is not defined\n",
      "generated an exception: name 'rawFileNames' is not defined\n",
      "generated an exception: name 'rawFileNames' is not defined\n",
      "generated an exception: name 'rawFileNames' is not defined\n",
      "generated an exception: name 'rawFileNames' is not defined\n",
      "generated an exception: name 'rawFileNames' is not defined\n",
      "generated an exception: name 'rawFileNames' is not defined\n",
      "generated an exception: name 'rawFileNames' is not defined\n",
      "generated an exception: name 'rawFileNames' is not defined\n",
      "generated an exception: name 'rawFileNames' is not defined\n",
      "generated an exception: name 'rawFileNames' is not defined\n",
      "generated an exception: name 'rawFileNames' is not defined\n",
      "generated an exception: name 'rawFileNames' is not defined\n"
     ]
    },
    {
     "name": "stderr",
     "output_type": "stream",
     "text": [
      " 43%|█████████████████████████▍                                 | 1696/3932 [01:32<01:53, 19.75it/s]"
     ]
    },
    {
     "name": "stdout",
     "output_type": "stream",
     "text": [
      "generated an exception: name 'rawFileNames' is not defined\n",
      "generated an exception: name 'rawFileNames' is not defined\n",
      "generated an exception: name 'rawFileNames' is not defined\n",
      "generated an exception: name 'rawFileNames' is not defined\n",
      "generated an exception: name 'rawFileNames' is not defined\n",
      "generated an exception: name 'rawFileNames' is not defined\n",
      "generated an exception: name 'rawFileNames' is not defined\n",
      "generated an exception: name 'rawFileNames' is not defined\n",
      "generated an exception: name 'rawFileNames' is not defined\n",
      "generated an exception: name 'rawFileNames' is not defined\n",
      "generated an exception: name 'rawFileNames' is not defined\n",
      "generated an exception: name 'rawFileNames' is not defined\n",
      "generated an exception: name 'rawFileNames' is not defined\n",
      "generated an exception: name 'rawFileNames' is not defined\n",
      "generated an exception: name 'rawFileNames' is not defined\n",
      "generated an exception: name 'rawFileNames' is not defined\n"
     ]
    },
    {
     "name": "stderr",
     "output_type": "stream",
     "text": [
      " 44%|█████████████████████████▋                                 | 1712/3932 [01:33<01:50, 20.01it/s]"
     ]
    },
    {
     "name": "stdout",
     "output_type": "stream",
     "text": [
      "generated an exception: name 'rawFileNames' is not defined\n",
      "generated an exception: name 'rawFileNames' is not defined\n",
      "generated an exception: name 'rawFileNames' is not defined\n",
      "generated an exception: name 'rawFileNames' is not defined\n",
      "generated an exception: name 'rawFileNames' is not defined\n",
      "generated an exception: name 'rawFileNames' is not defined\n",
      "generated an exception: name 'rawFileNames' is not defined\n",
      "generated an exception: name 'rawFileNames' is not defined\n",
      "generated an exception: name 'rawFileNames' is not defined\n",
      "generated an exception: name 'rawFileNames' is not defined\n",
      "generated an exception: name 'rawFileNames' is not defined\n",
      "generated an exception: name 'rawFileNames' is not defined\n",
      "generated an exception: name 'rawFileNames' is not defined\n",
      "generated an exception: name 'rawFileNames' is not defined\n",
      "generated an exception: name 'rawFileNames' is not defined\n",
      "generated an exception: name 'rawFileNames' is not defined"
     ]
    },
    {
     "name": "stderr",
     "output_type": "stream",
     "text": [
      " 44%|█████████████████████████▉                                 | 1728/3932 [01:34<01:50, 19.92it/s]"
     ]
    },
    {
     "name": "stdout",
     "output_type": "stream",
     "text": [
      "\n",
      "generated an exception: name 'rawFileNames' is not defined\n",
      "generated an exception: name 'rawFileNames' is not defined\n",
      "generated an exception: name 'rawFileNames' is not defined\n",
      "generated an exception: name 'rawFileNames' is not defined\n",
      "generated an exception: name 'rawFileNames' is not defined\n",
      "generated an exception: name 'rawFileNames' is not defined\n",
      "generated an exception: name 'rawFileNames' is not defined\n",
      "generated an exception: name 'rawFileNames' is not defined\n",
      "generated an exception: name 'rawFileNames' is not defined\n",
      "generated an exception: name 'rawFileNames' is not defined\n",
      "generated an exception: name 'rawFileNames' is not defined\n",
      "generated an exception: name 'rawFileNames' is not defined\n",
      "generated an exception: name 'rawFileNames' is not defined\n",
      "generated an exception: name 'rawFileNames' is not defined\n",
      "generated an exception: name 'rawFileNames' is not defined\n",
      "generated an exception: name 'rawFileNames' is not defined\n",
      "generated an exception: name 'rawFileNames' is not defined"
     ]
    },
    {
     "name": "stderr",
     "output_type": "stream",
     "text": [
      " 44%|██████████████████████████▏                                | 1744/3932 [01:34<01:49, 20.03it/s]"
     ]
    },
    {
     "name": "stdout",
     "output_type": "stream",
     "text": [
      "\n",
      "generated an exception: name 'rawFileNames' is not defined\n",
      "generated an exception: name 'rawFileNames' is not defined\n",
      "generated an exception: name 'rawFileNames' is not defined\n",
      "generated an exception: name 'rawFileNames' is not defined\n",
      "generated an exception: name 'rawFileNames' is not defined\n",
      "generated an exception: name 'rawFileNames' is not defined\n",
      "generated an exception: name 'rawFileNames' is not defined\n",
      "generated an exception: name 'rawFileNames' is not defined\n",
      "generated an exception: name 'rawFileNames' is not defined\n",
      "generated an exception: name 'rawFileNames' is not defined\n",
      "generated an exception: name 'rawFileNames' is not defined\n",
      "generated an exception: name 'rawFileNames' is not defined\n",
      "generated an exception: name 'rawFileNames' is not defined\n"
     ]
    },
    {
     "name": "stderr",
     "output_type": "stream",
     "text": [
      " 45%|██████████████████████████▍                                | 1760/3932 [01:36<02:40, 13.51it/s]"
     ]
    },
    {
     "name": "stdout",
     "output_type": "stream",
     "text": [
      "generated an exception: name 'rawFileNames' is not defined\n",
      "generated an exception: name 'rawFileNames' is not defined\n",
      "generated an exception: name 'rawFileNames' is not defined\n",
      "generated an exception: name 'rawFileNames' is not defined\n",
      "generated an exception: name 'rawFileNames' is not defined\n",
      "generated an exception: name 'rawFileNames' is not defined\n",
      "generated an exception: name 'rawFileNames' is not defined\n",
      "generated an exception: name 'rawFileNames' is not defined\n",
      "generated an exception: name 'rawFileNames' is not defined\n",
      "generated an exception: name 'rawFileNames' is not defined\n",
      "generated an exception: name 'rawFileNames' is not defined\n",
      "generated an exception: name 'rawFileNames' is not defined\n",
      "generated an exception: name 'rawFileNames' is not defined\n",
      "generated an exception: name 'rawFileNames' is not defined\n",
      "generated an exception: name 'rawFileNames' is not defined\n",
      "generated an exception: name 'rawFileNames' is not defined\n"
     ]
    },
    {
     "name": "stderr",
     "output_type": "stream",
     "text": [
      " 45%|██████████████████████████▋                                | 1776/3932 [01:37<02:24, 14.91it/s]"
     ]
    },
    {
     "name": "stdout",
     "output_type": "stream",
     "text": [
      "generated an exception: name 'rawFileNames' is not defined\n",
      "generated an exception: name 'rawFileNames' is not defined\n",
      "generated an exception: name 'rawFileNames' is not defined\n",
      "generated an exception: name 'rawFileNames' is not defined\n",
      "generated an exception: name 'rawFileNames' is not defined\n",
      "generated an exception: name 'rawFileNames' is not defined\n",
      "generated an exception: name 'rawFileNames' is not defined\n",
      "generated an exception: name 'rawFileNames' is not defined\n",
      "generated an exception: name 'rawFileNames' is not defined\n",
      "generated an exception: name 'rawFileNames' is not defined\n",
      "generated an exception: name 'rawFileNames' is not defined\n",
      "generated an exception: name 'rawFileNames' is not defined\n",
      "generated an exception: name 'rawFileNames' is not defined\n",
      "generated an exception: name 'rawFileNames' is not defined\n",
      "generated an exception: name 'rawFileNames' is not defined\n",
      "generated an exception: name 'rawFileNames' is not defined\n",
      "generated an exception: name 'rawFileNames' is not defined"
     ]
    },
    {
     "name": "stderr",
     "output_type": "stream",
     "text": [
      " 46%|██████████████████████████▉                                | 1792/3932 [01:38<02:12, 16.13it/s]"
     ]
    },
    {
     "name": "stdout",
     "output_type": "stream",
     "text": [
      "\n",
      "generated an exception: name 'rawFileNames' is not defined\n",
      "generated an exception: name 'rawFileNames' is not defined\n",
      "generated an exception: name 'rawFileNames' is not defined\n",
      "generated an exception: name 'rawFileNames' is not defined\n",
      "generated an exception: name 'rawFileNames' is not defined\n",
      "generated an exception: name 'rawFileNames' is not defined\n",
      "generated an exception: name 'rawFileNames' is not defined\n",
      "generated an exception: name 'rawFileNames' is not defined\n",
      "generated an exception: name 'rawFileNames' is not defined\n",
      "generated an exception: name 'rawFileNames' is not defined\n",
      "generated an exception: name 'rawFileNames' is not defined\n",
      "generated an exception: name 'rawFileNames' is not defined\n",
      "generated an exception: name 'rawFileNames' is not defined\n",
      "generated an exception: name 'rawFileNames' is not defined\n",
      "generated an exception: name 'rawFileNames' is not defined\n",
      "generated an exception: name 'rawFileNames' is not defined\n"
     ]
    },
    {
     "name": "stderr",
     "output_type": "stream",
     "text": [
      " 46%|███████████████████████████▏                               | 1808/3932 [01:39<02:04, 17.02it/s]"
     ]
    },
    {
     "name": "stdout",
     "output_type": "stream",
     "text": [
      "generated an exception: name 'rawFileNames' is not defined\n",
      "generated an exception: name 'rawFileNames' is not defined\n",
      "generated an exception: name 'rawFileNames' is not defined\n",
      "generated an exception: name 'rawFileNames' is not defined\n",
      "generated an exception: name 'rawFileNames' is not defined\n",
      "generated an exception: name 'rawFileNames' is not defined\n",
      "generated an exception: name 'rawFileNames' is not defined\n",
      "generated an exception: name 'rawFileNames' is not defined\n",
      "generated an exception: name 'rawFileNames' is not defined\n",
      "generated an exception: name 'rawFileNames' is not defined\n",
      "generated an exception: name 'rawFileNames' is not defined\n",
      "generated an exception: name 'rawFileNames' is not defined\n",
      "generated an exception: name 'rawFileNames' is not defined\n",
      "generated an exception: name 'rawFileNames' is not defined\n",
      "generated an exception: name 'rawFileNames' is not defined\n",
      "generated an exception: name 'rawFileNames' is not defined"
     ]
    },
    {
     "name": "stderr",
     "output_type": "stream",
     "text": [
      " 46%|███████████████████████████▎                               | 1824/3932 [01:40<01:58, 17.73it/s]"
     ]
    },
    {
     "name": "stdout",
     "output_type": "stream",
     "text": [
      "\n",
      "generated an exception: name 'rawFileNames' is not defined\n",
      "generated an exception: name 'rawFileNames' is not defined\n",
      "generated an exception: name 'rawFileNames' is not defined\n",
      "generated an exception: name 'rawFileNames' is not defined\n",
      "generated an exception: name 'rawFileNames' is not defined\n",
      "generated an exception: name 'rawFileNames' is not defined\n",
      "generated an exception: name 'rawFileNames' is not defined\n",
      "generated an exception: name 'rawFileNames' is not defined\n",
      "generated an exception: name 'rawFileNames' is not defined\n",
      "generated an exception: name 'rawFileNames' is not defined\n",
      "generated an exception: name 'rawFileNames' is not defined\n",
      "generated an exception: name 'rawFileNames' is not defined\n",
      "generated an exception: name 'rawFileNames' is not defined\n",
      "generated an exception: name 'rawFileNames' is not defined\n",
      "generated an exception: name 'rawFileNames' is not defined\n",
      "generated an exception: name 'rawFileNames' is not defined\n",
      "generated an exception: name 'rawFileNames' is not defined\n",
      "generated an exception: name 'rawFileNames' is not defined\n",
      "generated an exception: name 'rawFileNames' is not defined"
     ]
    },
    {
     "name": "stderr",
     "output_type": "stream",
     "text": [
      " 47%|███████████████████████████▌                               | 1840/3932 [01:41<01:55, 18.13it/s]"
     ]
    },
    {
     "name": "stdout",
     "output_type": "stream",
     "text": [
      "\n",
      "generated an exception: name 'rawFileNames' is not defined\n",
      "generated an exception: name 'rawFileNames' is not defined\n",
      "generated an exception: name 'rawFileNames' is not defined\n",
      "generated an exception: name 'rawFileNames' is not defined\n",
      "generated an exception: name 'rawFileNames' is not defined\n",
      "generated an exception: name 'rawFileNames' is not defined\n",
      "generated an exception: name 'rawFileNames' is not defined\n",
      "generated an exception: name 'rawFileNames' is not defined\n",
      "generated an exception: name 'rawFileNames' is not defined\n",
      "generated an exception: name 'rawFileNames' is not defined\n",
      "generated an exception: name 'rawFileNames' is not defined\n",
      "generated an exception: name 'rawFileNames' is not defined\n",
      "generated an exception: name 'rawFileNames' is not defined"
     ]
    },
    {
     "name": "stderr",
     "output_type": "stream",
     "text": [
      " 47%|███████████████████████████▊                               | 1856/3932 [01:41<01:54, 18.10it/s]"
     ]
    },
    {
     "name": "stdout",
     "output_type": "stream",
     "text": [
      "\n",
      "generated an exception: name 'rawFileNames' is not defined\n",
      "generated an exception: name 'rawFileNames' is not defined\n",
      "generated an exception: name 'rawFileNames' is not defined\n",
      "generated an exception: name 'rawFileNames' is not defined\n",
      "generated an exception: name 'rawFileNames' is not defined\n",
      "generated an exception: name 'rawFileNames' is not defined\n",
      "generated an exception: name 'rawFileNames' is not defined\n",
      "generated an exception: name 'rawFileNames' is not defined\n",
      "generated an exception: name 'rawFileNames' is not defined\n",
      "generated an exception: name 'rawFileNames' is not defined\n",
      "generated an exception: name 'rawFileNames' is not defined\n",
      "generated an exception: name 'rawFileNames' is not defined\n",
      "generated an exception: name 'rawFileNames' is not defined\n",
      "generated an exception: name 'rawFileNames' is not defined\n",
      "generated an exception: name 'rawFileNames' is not defined\n",
      "generated an exception: name 'rawFileNames' is not defined\n",
      "generated an exception: name 'rawFileNames' is not defined"
     ]
    },
    {
     "name": "stderr",
     "output_type": "stream",
     "text": [
      " 48%|████████████████████████████                               | 1872/3932 [01:42<01:52, 18.34it/s]"
     ]
    },
    {
     "name": "stdout",
     "output_type": "stream",
     "text": [
      "\n",
      "generated an exception: name 'rawFileNames' is not defined\n",
      "generated an exception: name 'rawFileNames' is not defined\n",
      "generated an exception: name 'rawFileNames' is not defined\n",
      "generated an exception: name 'rawFileNames' is not defined\n",
      "generated an exception: name 'rawFileNames' is not defined\n",
      "generated an exception: name 'rawFileNames' is not defined\n",
      "generated an exception: name 'rawFileNames' is not defined\n",
      "generated an exception: name 'rawFileNames' is not defined\n",
      "generated an exception: name 'rawFileNames' is not defined\n",
      "generated an exception: name 'rawFileNames' is not defined\n",
      "generated an exception: name 'rawFileNames' is not defined\n",
      "generated an exception: name 'rawFileNames' is not defined\n",
      "generated an exception: name 'rawFileNames' is not defined\n",
      "generated an exception: name 'rawFileNames' is not defined\n",
      "generated an exception: name 'rawFileNames' is not defined\n",
      "generated an exception: name 'rawFileNames' is not defined"
     ]
    },
    {
     "name": "stderr",
     "output_type": "stream",
     "text": [
      " 48%|████████████████████████████▎                              | 1888/3932 [01:43<01:51, 18.35it/s]"
     ]
    },
    {
     "name": "stdout",
     "output_type": "stream",
     "text": [
      "\n",
      "generated an exception: name 'rawFileNames' is not defined\n",
      "generated an exception: name 'rawFileNames' is not defined\n",
      "generated an exception: name 'rawFileNames' is not defined\n",
      "generated an exception: name 'rawFileNames' is not defined\n",
      "generated an exception: name 'rawFileNames' is not defined\n",
      "generated an exception: name 'rawFileNames' is not defined\n",
      "generated an exception: name 'rawFileNames' is not defined\n",
      "generated an exception: name 'rawFileNames' is not defined\n",
      "generated an exception: name 'rawFileNames' is not defined\n",
      "generated an exception: name 'rawFileNames' is not defined\n",
      "generated an exception: name 'rawFileNames' is not defined\n",
      "generated an exception: name 'rawFileNames' is not defined\n",
      "generated an exception: name 'rawFileNames' is not defined\n",
      "generated an exception: name 'rawFileNames' is not defined\n"
     ]
    },
    {
     "name": "stderr",
     "output_type": "stream",
     "text": [
      " 48%|████████████████████████████▌                              | 1904/3932 [01:44<01:51, 18.23it/s]"
     ]
    },
    {
     "name": "stdout",
     "output_type": "stream",
     "text": [
      "generated an exception: name 'rawFileNames' is not defined\n",
      "generated an exception: name 'rawFileNames' is not defined\n",
      "generated an exception: name 'rawFileNames' is not defined\n",
      "generated an exception: name 'rawFileNames' is not defined\n",
      "generated an exception: name 'rawFileNames' is not defined\n",
      "generated an exception: name 'rawFileNames' is not defined\n",
      "generated an exception: name 'rawFileNames' is not defined\n",
      "generated an exception: name 'rawFileNames' is not defined\n",
      "generated an exception: name 'rawFileNames' is not defined\n",
      "generated an exception: name 'rawFileNames' is not defined\n",
      "generated an exception: name 'rawFileNames' is not defined\n",
      "generated an exception: name 'rawFileNames' is not defined\n",
      "generated an exception: name 'rawFileNames' is not defined\n",
      "generated an exception: name 'rawFileNames' is not defined\n",
      "generated an exception: name 'rawFileNames' is not defined\n",
      "generated an exception: name 'rawFileNames' is not defined\n",
      "generated an exception: name 'rawFileNames' is not defined\n",
      "generated an exception: name 'rawFileNames' is not defined\n",
      "generated an exception: name 'rawFileNames' is not defined"
     ]
    },
    {
     "name": "stderr",
     "output_type": "stream",
     "text": [
      " 49%|████████████████████████████▊                              | 1920/3932 [01:45<01:49, 18.39it/s]"
     ]
    },
    {
     "name": "stdout",
     "output_type": "stream",
     "text": [
      "\n",
      "generated an exception: name 'rawFileNames' is not defined\n",
      "generated an exception: name 'rawFileNames' is not defined\n",
      "generated an exception: name 'rawFileNames' is not defined\n",
      "generated an exception: name 'rawFileNames' is not defined\n",
      "generated an exception: name 'rawFileNames' is not defined\n",
      "generated an exception: name 'rawFileNames' is not defined\n",
      "generated an exception: name 'rawFileNames' is not defined\n",
      "generated an exception: name 'rawFileNames' is not defined\n",
      "generated an exception: name 'rawFileNames' is not defined\n",
      "generated an exception: name 'rawFileNames' is not defined\n",
      "generated an exception: name 'rawFileNames' is not defined\n",
      "generated an exception: name 'rawFileNames' is not defined\n",
      "generated an exception: name 'rawFileNames' is not defined\n",
      "generated an exception: name 'rawFileNames' is not defined"
     ]
    },
    {
     "name": "stderr",
     "output_type": "stream",
     "text": [
      " 49%|█████████████████████████████                              | 1936/3932 [01:46<01:46, 18.81it/s]"
     ]
    },
    {
     "name": "stdout",
     "output_type": "stream",
     "text": [
      "\n",
      "generated an exception: name 'rawFileNames' is not defined\n",
      "generated an exception: name 'rawFileNames' is not defined\n",
      "generated an exception: name 'rawFileNames' is not defined\n",
      "generated an exception: name 'rawFileNames' is not defined\n",
      "generated an exception: name 'rawFileNames' is not defined\n",
      "generated an exception: name 'rawFileNames' is not defined\n",
      "generated an exception: name 'rawFileNames' is not defined\n",
      "generated an exception: name 'rawFileNames' is not defined\n",
      "generated an exception: name 'rawFileNames' is not defined\n",
      "generated an exception: name 'rawFileNames' is not defined\n",
      "generated an exception: name 'rawFileNames' is not defined\n",
      "generated an exception: name 'rawFileNames' is not defined\n",
      "generated an exception: name 'rawFileNames' is not defined\n",
      "generated an exception: name 'rawFileNames' is not defined\n",
      "generated an exception: name 'rawFileNames' is not defined\n",
      "generated an exception: name 'rawFileNames' is not defined\n",
      "generated an exception: name 'rawFileNames' is not defined\n",
      "generated an exception: name 'rawFileNames' is not defined\n",
      "generated an exception: name 'rawFileNames' is not defined\n",
      "generated an exception: name 'rawFileNames' is not defined\n",
      "generated an exception: name 'rawFileNames' is not defined\n",
      "generated an exception: name 'rawFileNames' is not defined\n",
      "generated an exception: name 'rawFileNames' is not defined\n",
      "generated an exception: name 'rawFileNames' is not defined\n",
      "generated an exception: name 'rawFileNames' is not defined\n",
      "generated an exception: name 'rawFileNames' is not defined\n",
      "generated an exception: name 'rawFileNames' is not defined\n",
      "generated an exception: name 'rawFileNames' is not defined\n",
      "generated an exception: name 'rawFileNames' is not defined\n",
      "generated an exception: name 'rawFileNames' is not defined\n"
     ]
    },
    {
     "name": "stderr",
     "output_type": "stream",
     "text": [
      " 50%|█████████████████████████████▎                             | 1952/3932 [01:47<01:45, 18.77it/s]"
     ]
    },
    {
     "name": "stdout",
     "output_type": "stream",
     "text": [
      "generated an exception: name 'rawFileNames' is not defined\n",
      "generated an exception: name 'rawFileNames' is not defined\n"
     ]
    },
    {
     "name": "stderr",
     "output_type": "stream",
     "text": [
      " 50%|█████████████████████████████▌                             | 1968/3932 [01:47<01:43, 18.94it/s]"
     ]
    },
    {
     "name": "stdout",
     "output_type": "stream",
     "text": [
      "generated an exception: name 'rawFileNames' is not defined\n",
      "generated an exception: name 'rawFileNames' is not defined\n",
      "generated an exception: name 'rawFileNames' is not defined\n",
      "generated an exception: name 'rawFileNames' is not defined\n",
      "generated an exception: name 'rawFileNames' is not defined\n",
      "generated an exception: name 'rawFileNames' is not defined\n",
      "generated an exception: name 'rawFileNames' is not defined\n",
      "generated an exception: name 'rawFileNames' is not defined\n",
      "generated an exception: name 'rawFileNames' is not defined\n",
      "generated an exception: name 'rawFileNames' is not defined\n",
      "generated an exception: name 'rawFileNames' is not defined\n",
      "generated an exception: name 'rawFileNames' is not defined\n",
      "generated an exception: name 'rawFileNames' is not defined\n",
      "generated an exception: name 'rawFileNames' is not defined\n",
      "generated an exception: name 'rawFileNames' is not defined\n",
      "generated an exception: name 'rawFileNames' is not defined\n",
      "generated an exception: name 'rawFileNames' is not defined\n"
     ]
    },
    {
     "name": "stderr",
     "output_type": "stream",
     "text": [
      " 50%|█████████████████████████████▊                             | 1984/3932 [01:48<01:41, 19.18it/s]"
     ]
    },
    {
     "name": "stdout",
     "output_type": "stream",
     "text": [
      "generated an exception: name 'rawFileNames' is not defined\n",
      "generated an exception: name 'rawFileNames' is not defined\n",
      "generated an exception: name 'rawFileNames' is not defined\n",
      "generated an exception: name 'rawFileNames' is not defined\n",
      "generated an exception: name 'rawFileNames' is not defined\n",
      "generated an exception: name 'rawFileNames' is not defined\n",
      "generated an exception: name 'rawFileNames' is not defined\n",
      "generated an exception: name 'rawFileNames' is not defined\n",
      "generated an exception: name 'rawFileNames' is not defined\n",
      "generated an exception: name 'rawFileNames' is not defined\n",
      "generated an exception: name 'rawFileNames' is not defined\n",
      "generated an exception: name 'rawFileNames' is not defined\n",
      "generated an exception: name 'rawFileNames' is not defined\n",
      "generated an exception: name 'rawFileNames' is not defined\n"
     ]
    },
    {
     "name": "stderr",
     "output_type": "stream",
     "text": [
      " 51%|██████████████████████████████                             | 2000/3932 [01:49<01:40, 19.20it/s]"
     ]
    },
    {
     "name": "stdout",
     "output_type": "stream",
     "text": [
      "generated an exception: name 'rawFileNames' is not defined\n",
      "generated an exception: name 'rawFileNames' is not defined\n",
      "generated an exception: name 'rawFileNames' is not defined\n",
      "generated an exception: name 'rawFileNames' is not defined\n",
      "generated an exception: name 'rawFileNames' is not defined\n",
      "generated an exception: name 'rawFileNames' is not defined\n",
      "generated an exception: name 'rawFileNames' is not defined\n",
      "generated an exception: name 'rawFileNames' is not defined\n",
      "generated an exception: name 'rawFileNames' is not defined\n",
      "generated an exception: name 'rawFileNames' is not defined\n",
      "generated an exception: name 'rawFileNames' is not defined\n",
      "generated an exception: name 'rawFileNames' is not defined\n",
      "generated an exception: name 'rawFileNames' is not defined\n",
      "generated an exception: name 'rawFileNames' is not defined\n",
      "generated an exception: name 'rawFileNames' is not defined\n",
      "generated an exception: name 'rawFileNames' is not defined\n"
     ]
    },
    {
     "name": "stderr",
     "output_type": "stream",
     "text": [
      " 51%|██████████████████████████████▎                            | 2016/3932 [01:50<01:40, 19.06it/s]"
     ]
    },
    {
     "name": "stdout",
     "output_type": "stream",
     "text": [
      "generated an exception: name 'rawFileNames' is not defined\n",
      "generated an exception: name 'rawFileNames' is not defined\n",
      "generated an exception: name 'rawFileNames' is not defined\n",
      "generated an exception: name 'rawFileNames' is not defined\n",
      "generated an exception: name 'rawFileNames' is not defined\n",
      "generated an exception: name 'rawFileNames' is not defined\n",
      "generated an exception: name 'rawFileNames' is not defined\n",
      "generated an exception: name 'rawFileNames' is not defined\n",
      "generated an exception: name 'rawFileNames' is not defined\n",
      "generated an exception: name 'rawFileNames' is not defined\n",
      "generated an exception: name 'rawFileNames' is not defined\n",
      "generated an exception: name 'rawFileNames' is not defined\n",
      "generated an exception: name 'rawFileNames' is not defined\n",
      "generated an exception: name 'rawFileNames' is not defined\n",
      "generated an exception: name 'rawFileNames' is not defined\n",
      "generated an exception: name 'rawFileNames' is not defined\n",
      "generated an exception: name 'rawFileNames' is not defined"
     ]
    },
    {
     "name": "stderr",
     "output_type": "stream",
     "text": [
      " 52%|██████████████████████████████▍                            | 2032/3932 [01:51<01:39, 19.08it/s]"
     ]
    },
    {
     "name": "stdout",
     "output_type": "stream",
     "text": [
      "\n",
      "generated an exception: name 'rawFileNames' is not defined\n",
      "generated an exception: name 'rawFileNames' is not defined\n",
      "generated an exception: name 'rawFileNames' is not defined\n",
      "generated an exception: name 'rawFileNames' is not defined\n",
      "generated an exception: name 'rawFileNames' is not defined\n",
      "generated an exception: name 'rawFileNames' is not defined\n",
      "generated an exception: name 'rawFileNames' is not defined\n",
      "generated an exception: name 'rawFileNames' is not defined\n",
      "generated an exception: name 'rawFileNames' is not defined\n",
      "generated an exception: name 'rawFileNames' is not defined\n",
      "generated an exception: name 'rawFileNames' is not defined\n",
      "generated an exception: name 'rawFileNames' is not defined\n",
      "generated an exception: name 'rawFileNames' is not defined\n",
      "generated an exception: name 'rawFileNames' is not defined\n",
      "generated an exception: name 'rawFileNames' is not defined\n",
      "generated an exception: name 'rawFileNames' is not defined\n",
      "generated an exception: name 'rawFileNames' is not defined\n"
     ]
    },
    {
     "name": "stderr",
     "output_type": "stream",
     "text": [
      " 52%|██████████████████████████████▋                            | 2048/3932 [01:52<01:39, 18.93it/s]"
     ]
    },
    {
     "name": "stdout",
     "output_type": "stream",
     "text": [
      "generated an exception: name 'rawFileNames' is not defined\n",
      "generated an exception: name 'rawFileNames' is not defined\n",
      "generated an exception: name 'rawFileNames' is not defined\n",
      "generated an exception: name 'rawFileNames' is not defined\n",
      "generated an exception: name 'rawFileNames' is not defined\n",
      "generated an exception: name 'rawFileNames' is not defined\n",
      "generated an exception: name 'rawFileNames' is not defined\n",
      "generated an exception: name 'rawFileNames' is not defined\n",
      "generated an exception: name 'rawFileNames' is not defined\n",
      "generated an exception: name 'rawFileNames' is not defined\n",
      "generated an exception: name 'rawFileNames' is not defined\n",
      "generated an exception: name 'rawFileNames' is not defined\n",
      "generated an exception: name 'rawFileNames' is not defined\n",
      "generated an exception: name 'rawFileNames' is not defined\n",
      "generated an exception: name 'rawFileNames' is not defined"
     ]
    },
    {
     "name": "stderr",
     "output_type": "stream",
     "text": [
      " 52%|██████████████████████████████▉                            | 2064/3932 [01:52<01:37, 19.15it/s]"
     ]
    },
    {
     "name": "stdout",
     "output_type": "stream",
     "text": [
      "\n",
      "generated an exception: name 'rawFileNames' is not defined\n",
      "generated an exception: name 'rawFileNames' is not defined\n",
      "generated an exception: name 'rawFileNames' is not defined\n",
      "generated an exception: name 'rawFileNames' is not defined\n",
      "generated an exception: name 'rawFileNames' is not defined\n",
      "generated an exception: name 'rawFileNames' is not defined\n",
      "generated an exception: name 'rawFileNames' is not defined\n",
      "generated an exception: name 'rawFileNames' is not defined\n",
      "generated an exception: name 'rawFileNames' is not defined\n",
      "generated an exception: name 'rawFileNames' is not defined\n",
      "generated an exception: name 'rawFileNames' is not defined\n",
      "generated an exception: name 'rawFileNames' is not defined\n",
      "generated an exception: name 'rawFileNames' is not defined\n",
      "generated an exception: name 'rawFileNames' is not defined\n",
      "generated an exception: name 'rawFileNames' is not defined\n",
      "generated an exception: name 'rawFileNames' is not defined\n",
      "generated an exception: name 'rawFileNames' is not defined"
     ]
    },
    {
     "name": "stderr",
     "output_type": "stream",
     "text": [
      " 53%|███████████████████████████████▏                           | 2080/3932 [01:53<01:35, 19.31it/s]"
     ]
    },
    {
     "name": "stdout",
     "output_type": "stream",
     "text": [
      "\n",
      "generated an exception: name 'rawFileNames' is not defined\n",
      "generated an exception: name 'rawFileNames' is not defined\n",
      "generated an exception: name 'rawFileNames' is not defined\n",
      "generated an exception: name 'rawFileNames' is not defined\n",
      "generated an exception: name 'rawFileNames' is not defined\n",
      "generated an exception: name 'rawFileNames' is not defined\n",
      "generated an exception: name 'rawFileNames' is not defined\n",
      "generated an exception: name 'rawFileNames' is not defined\n",
      "generated an exception: name 'rawFileNames' is not defined\n",
      "generated an exception: name 'rawFileNames' is not defined\n",
      "generated an exception: name 'rawFileNames' is not defined\n",
      "generated an exception: name 'rawFileNames' is not defined\n",
      "generated an exception: name 'rawFileNames' is not defined\n",
      "generated an exception: name 'rawFileNames' is not defined\n",
      "generated an exception: name 'rawFileNames' is not defined\n",
      "generated an exception: name 'rawFileNames' is not defined\n"
     ]
    },
    {
     "name": "stderr",
     "output_type": "stream",
     "text": [
      " 53%|███████████████████████████████▍                           | 2096/3932 [01:54<01:34, 19.40it/s]"
     ]
    },
    {
     "name": "stdout",
     "output_type": "stream",
     "text": [
      "generated an exception: name 'rawFileNames' is not defined\n",
      "generated an exception: name 'rawFileNames' is not defined\n",
      "generated an exception: name 'rawFileNames' is not defined\n",
      "generated an exception: name 'rawFileNames' is not defined\n",
      "generated an exception: name 'rawFileNames' is not defined\n",
      "generated an exception: name 'rawFileNames' is not defined\n",
      "generated an exception: name 'rawFileNames' is not defined\n",
      "generated an exception: name 'rawFileNames' is not defined\n",
      "generated an exception: name 'rawFileNames' is not defined\n",
      "generated an exception: name 'rawFileNames' is not defined\n",
      "generated an exception: name 'rawFileNames' is not defined\n",
      "generated an exception: name 'rawFileNames' is not defined\n",
      "generated an exception: name 'rawFileNames' is not defined\n",
      "generated an exception: name 'rawFileNames' is not defined\n"
     ]
    },
    {
     "name": "stderr",
     "output_type": "stream",
     "text": [
      " 54%|███████████████████████████████▋                           | 2112/3932 [01:55<01:34, 19.29it/s]"
     ]
    },
    {
     "name": "stdout",
     "output_type": "stream",
     "text": [
      "generated an exception: name 'rawFileNames' is not defined\n",
      "generated an exception: name 'rawFileNames' is not defined\n",
      "generated an exception: name 'rawFileNames' is not defined\n",
      "generated an exception: name 'rawFileNames' is not defined\n",
      "generated an exception: name 'rawFileNames' is not defined\n",
      "generated an exception: name 'rawFileNames' is not defined\n",
      "generated an exception: name 'rawFileNames' is not defined\n",
      "generated an exception: name 'rawFileNames' is not defined\n",
      "generated an exception: name 'rawFileNames' is not defined\n",
      "generated an exception: name 'rawFileNames' is not defined\n",
      "generated an exception: name 'rawFileNames' is not defined\n",
      "generated an exception: name 'rawFileNames' is not defined\n",
      "generated an exception: name 'rawFileNames' is not defined\n",
      "generated an exception: name 'rawFileNames' is not defined\n",
      "generated an exception: name 'rawFileNames' is not defined\n",
      "generated an exception: name 'rawFileNames' is not defined\n",
      "generated an exception: name 'rawFileNames' is not defined"
     ]
    },
    {
     "name": "stderr",
     "output_type": "stream",
     "text": [
      " 54%|███████████████████████████████▉                           | 2128/3932 [01:56<01:33, 19.33it/s]"
     ]
    },
    {
     "name": "stdout",
     "output_type": "stream",
     "text": [
      "\n",
      "generated an exception: name 'rawFileNames' is not defined\n",
      "generated an exception: name 'rawFileNames' is not defined\n",
      "generated an exception: name 'rawFileNames' is not defined\n",
      "generated an exception: name 'rawFileNames' is not defined\n",
      "generated an exception: name 'rawFileNames' is not defined\n",
      "generated an exception: name 'rawFileNames' is not defined\n",
      "generated an exception: name 'rawFileNames' is not defined\n",
      "generated an exception: name 'rawFileNames' is not defined\n",
      "generated an exception: name 'rawFileNames' is not defined\n",
      "generated an exception: name 'rawFileNames' is not defined\n",
      "generated an exception: name 'rawFileNames' is not defined\n",
      "generated an exception: name 'rawFileNames' is not defined\n",
      "generated an exception: name 'rawFileNames' is not defined\n",
      "generated an exception: name 'rawFileNames' is not defined\n",
      "generated an exception: name 'rawFileNames' is not defined\n"
     ]
    },
    {
     "name": "stderr",
     "output_type": "stream",
     "text": [
      " 55%|████████████████████████████████▏                          | 2144/3932 [01:57<01:32, 19.30it/s]"
     ]
    },
    {
     "name": "stdout",
     "output_type": "stream",
     "text": [
      "generated an exception: name 'rawFileNames' is not defined\n",
      "generated an exception: name 'rawFileNames' is not defined\n",
      "generated an exception: name 'rawFileNames' is not defined\n",
      "generated an exception: name 'rawFileNames' is not defined\n",
      "generated an exception: name 'rawFileNames' is not defined\n",
      "generated an exception: name 'rawFileNames' is not defined\n",
      "generated an exception: name 'rawFileNames' is not defined\n",
      "generated an exception: name 'rawFileNames' is not defined\n",
      "generated an exception: name 'rawFileNames' is not defined\n",
      "generated an exception: name 'rawFileNames' is not defined\n",
      "generated an exception: name 'rawFileNames' is not defined\n",
      "generated an exception: name 'rawFileNames' is not defined\n",
      "generated an exception: name 'rawFileNames' is not defined\n",
      "generated an exception: name 'rawFileNames' is not defined\n",
      "generated an exception: name 'rawFileNames' is not defined\n",
      "generated an exception: name 'rawFileNames' is not defined\n"
     ]
    },
    {
     "name": "stderr",
     "output_type": "stream",
     "text": [
      " 55%|████████████████████████████████▍                          | 2160/3932 [01:57<01:32, 19.22it/s]"
     ]
    },
    {
     "name": "stdout",
     "output_type": "stream",
     "text": [
      "generated an exception: name 'rawFileNames' is not defined\n",
      "generated an exception: name 'rawFileNames' is not defined\n",
      "generated an exception: name 'rawFileNames' is not defined\n",
      "generated an exception: name 'rawFileNames' is not defined\n",
      "generated an exception: name 'rawFileNames' is not defined\n",
      "generated an exception: name 'rawFileNames' is not defined\n",
      "generated an exception: name 'rawFileNames' is not defined\n",
      "generated an exception: name 'rawFileNames' is not defined\n",
      "generated an exception: name 'rawFileNames' is not defined\n",
      "generated an exception: name 'rawFileNames' is not defined\n",
      "generated an exception: name 'rawFileNames' is not defined\n",
      "generated an exception: name 'rawFileNames' is not defined\n",
      "generated an exception: name 'rawFileNames' is not defined\n",
      "generated an exception: name 'rawFileNames' is not defined\n",
      "generated an exception: name 'rawFileNames' is not defined\n",
      "generated an exception: name 'rawFileNames' is not defined\n",
      "generated an exception: name 'rawFileNames' is not defined\n",
      "generated an exception: name 'rawFileNames' is not defined\n",
      "generated an exception: name 'rawFileNames' is not defined\n",
      "generated an exception: name 'rawFileNames' is not defined"
     ]
    },
    {
     "name": "stderr",
     "output_type": "stream",
     "text": [
      " 55%|████████████████████████████████▋                          | 2176/3932 [01:58<01:31, 19.09it/s]"
     ]
    },
    {
     "name": "stdout",
     "output_type": "stream",
     "text": [
      "\n",
      "generated an exception: name 'rawFileNames' is not defined\n",
      "generated an exception: name 'rawFileNames' is not defined\n",
      "generated an exception: name 'rawFileNames' is not defined\n",
      "generated an exception: name 'rawFileNames' is not defined\n",
      "generated an exception: name 'rawFileNames' is not defined\n",
      "generated an exception: name 'rawFileNames' is not defined\n",
      "generated an exception: name 'rawFileNames' is not defined\n",
      "generated an exception: name 'rawFileNames' is not defined\n",
      "generated an exception: name 'rawFileNames' is not defined\n",
      "generated an exception: name 'rawFileNames' is not defined\n",
      "generated an exception: name 'rawFileNames' is not defined\n",
      "generated an exception: name 'rawFileNames' is not defined\n",
      "generated an exception: name 'rawFileNames' is not defined\n",
      "generated an exception: name 'rawFileNames' is not defined"
     ]
    },
    {
     "name": "stderr",
     "output_type": "stream",
     "text": [
      " 56%|████████████████████████████████▉                          | 2192/3932 [01:59<01:30, 19.29it/s]"
     ]
    },
    {
     "name": "stdout",
     "output_type": "stream",
     "text": [
      "\n",
      "generated an exception: name 'rawFileNames' is not defined\n",
      "generated an exception: name 'rawFileNames' is not defined\n",
      "generated an exception: name 'rawFileNames' is not defined\n",
      "generated an exception: name 'rawFileNames' is not defined\n",
      "generated an exception: name 'rawFileNames' is not defined\n",
      "generated an exception: name 'rawFileNames' is not defined\n",
      "generated an exception: name 'rawFileNames' is not defined\n",
      "generated an exception: name 'rawFileNames' is not defined\n",
      "generated an exception: name 'rawFileNames' is not defined\n",
      "generated an exception: name 'rawFileNames' is not defined\n",
      "generated an exception: name 'rawFileNames' is not defined\n",
      "generated an exception: name 'rawFileNames' is not defined\n",
      "generated an exception: name 'rawFileNames' is not defined\n",
      "generated an exception: name 'rawFileNames' is not defined\n",
      "generated an exception: name 'rawFileNames' is not defined\n"
     ]
    },
    {
     "name": "stderr",
     "output_type": "stream",
     "text": [
      " 56%|█████████████████████████████████▏                         | 2208/3932 [02:00<01:29, 19.30it/s]"
     ]
    },
    {
     "name": "stdout",
     "output_type": "stream",
     "text": [
      "generated an exception: name 'rawFileNames' is not defined\n",
      "generated an exception: name 'rawFileNames' is not defined\n",
      "generated an exception: name 'rawFileNames' is not defined\n",
      "generated an exception: name 'rawFileNames' is not defined\n",
      "generated an exception: name 'rawFileNames' is not defined\n",
      "generated an exception: name 'rawFileNames' is not defined\n",
      "generated an exception: name 'rawFileNames' is not defined\n",
      "generated an exception: name 'rawFileNames' is not defined\n",
      "generated an exception: name 'rawFileNames' is not defined\n",
      "generated an exception: name 'rawFileNames' is not defined\n",
      "generated an exception: name 'rawFileNames' is not defined\n",
      "generated an exception: name 'rawFileNames' is not defined\n",
      "generated an exception: name 'rawFileNames' is not defined\n",
      "generated an exception: name 'rawFileNames' is not defined\n",
      "generated an exception: name 'rawFileNames' is not defined\n"
     ]
    },
    {
     "name": "stderr",
     "output_type": "stream",
     "text": [
      " 57%|█████████████████████████████████▎                         | 2224/3932 [02:01<01:29, 19.08it/s]"
     ]
    },
    {
     "name": "stdout",
     "output_type": "stream",
     "text": [
      "generated an exception: name 'rawFileNames' is not defined\n",
      "generated an exception: name 'rawFileNames' is not defined\n",
      "generated an exception: name 'rawFileNames' is not defined\n",
      "generated an exception: name 'rawFileNames' is not defined\n",
      "generated an exception: name 'rawFileNames' is not defined\n",
      "generated an exception: name 'rawFileNames' is not defined\n",
      "generated an exception: name 'rawFileNames' is not defined\n",
      "generated an exception: name 'rawFileNames' is not defined\n",
      "generated an exception: name 'rawFileNames' is not defined\n",
      "generated an exception: name 'rawFileNames' is not defined\n",
      "generated an exception: name 'rawFileNames' is not defined\n",
      "generated an exception: name 'rawFileNames' is not defined\n",
      "generated an exception: name 'rawFileNames' is not defined\n",
      "generated an exception: name 'rawFileNames' is not defined\n",
      "generated an exception: name 'rawFileNames' is not defined\n",
      "generated an exception: name 'rawFileNames' is not defined\n",
      "generated an exception: name 'rawFileNames' is not defined"
     ]
    },
    {
     "name": "stderr",
     "output_type": "stream",
     "text": [
      " 57%|█████████████████████████████████▌                         | 2240/3932 [02:02<01:29, 18.99it/s]"
     ]
    },
    {
     "name": "stdout",
     "output_type": "stream",
     "text": [
      "\n",
      "generated an exception: name 'rawFileNames' is not defined\n",
      "generated an exception: name 'rawFileNames' is not defined\n",
      "generated an exception: name 'rawFileNames' is not defined\n",
      "generated an exception: name 'rawFileNames' is not defined\n",
      "generated an exception: name 'rawFileNames' is not defined\n",
      "generated an exception: name 'rawFileNames' is not defined\n",
      "generated an exception: name 'rawFileNames' is not defined\n",
      "generated an exception: name 'rawFileNames' is not defined\n",
      "generated an exception: name 'rawFileNames' is not defined\n",
      "generated an exception: name 'rawFileNames' is not defined\n",
      "generated an exception: name 'rawFileNames' is not defined\n",
      "generated an exception: name 'rawFileNames' is not defined\n",
      "generated an exception: name 'rawFileNames' is not defined\n",
      "generated an exception: name 'rawFileNames' is not defined\n",
      "generated an exception: name 'rawFileNames' is not defined\n",
      "generated an exception: name 'rawFileNames' is not defined\n",
      "generated an exception: name 'rawFileNames' is not defined\n",
      "generated an exception: name 'rawFileNames' is not defined\n",
      "generated an exception: name 'rawFileNames' is not defined\n"
     ]
    },
    {
     "name": "stderr",
     "output_type": "stream",
     "text": [
      " 57%|█████████████████████████████████▊                         | 2256/3932 [02:02<01:27, 19.14it/s]"
     ]
    },
    {
     "name": "stdout",
     "output_type": "stream",
     "text": [
      "generated an exception: name 'rawFileNames' is not defined\n",
      "generated an exception: name 'rawFileNames' is not defined\n",
      "generated an exception: name 'rawFileNames' is not defined\n",
      "generated an exception: name 'rawFileNames' is not defined\n",
      "generated an exception: name 'rawFileNames' is not defined\n",
      "generated an exception: name 'rawFileNames' is not defined\n",
      "generated an exception: name 'rawFileNames' is not defined\n",
      "generated an exception: name 'rawFileNames' is not defined\n",
      "generated an exception: name 'rawFileNames' is not defined\n",
      "generated an exception: name 'rawFileNames' is not defined\n",
      "generated an exception: name 'rawFileNames' is not defined\n",
      "generated an exception: name 'rawFileNames' is not defined\n",
      "generated an exception: name 'rawFileNames' is not defined\n"
     ]
    },
    {
     "name": "stderr",
     "output_type": "stream",
     "text": [
      " 58%|██████████████████████████████████                         | 2272/3932 [02:03<01:25, 19.35it/s]"
     ]
    },
    {
     "name": "stdout",
     "output_type": "stream",
     "text": [
      "generated an exception: name 'rawFileNames' is not defined\n",
      "generated an exception: name 'rawFileNames' is not defined\n",
      "generated an exception: name 'rawFileNames' is not defined\n",
      "generated an exception: name 'rawFileNames' is not defined\n",
      "generated an exception: name 'rawFileNames' is not defined\n",
      "generated an exception: name 'rawFileNames' is not defined\n",
      "generated an exception: name 'rawFileNames' is not defined\n",
      "generated an exception: name 'rawFileNames' is not defined\n",
      "generated an exception: name 'rawFileNames' is not defined\n",
      "generated an exception: name 'rawFileNames' is not defined\n",
      "generated an exception: name 'rawFileNames' is not defined\n",
      "generated an exception: name 'rawFileNames' is not defined\n",
      "generated an exception: name 'rawFileNames' is not defined\n",
      "generated an exception: name 'rawFileNames' is not defined\n",
      "generated an exception: name 'rawFileNames' is not defined\n",
      "generated an exception: name 'rawFileNames' is not defined\n",
      "generated an exception: name 'rawFileNames' is not defined\n",
      "generated an exception: name 'rawFileNames' is not defined\n",
      "generated an exception: name 'rawFileNames' is not defined"
     ]
    },
    {
     "name": "stderr",
     "output_type": "stream",
     "text": [
      " 58%|██████████████████████████████████▎                        | 2288/3932 [02:04<01:25, 19.17it/s]"
     ]
    },
    {
     "name": "stdout",
     "output_type": "stream",
     "text": [
      "\n",
      "generated an exception: name 'rawFileNames' is not defined\n",
      "generated an exception: name 'rawFileNames' is not defined\n",
      "generated an exception: name 'rawFileNames' is not defined\n",
      "generated an exception: name 'rawFileNames' is not defined\n",
      "generated an exception: name 'rawFileNames' is not defined\n",
      "generated an exception: name 'rawFileNames' is not defined\n",
      "generated an exception: name 'rawFileNames' is not defined\n",
      "generated an exception: name 'rawFileNames' is not defined\n",
      "generated an exception: name 'rawFileNames' is not defined\n",
      "generated an exception: name 'rawFileNames' is not defined\n",
      "generated an exception: name 'rawFileNames' is not defined\n",
      "generated an exception: name 'rawFileNames' is not defined\n",
      "generated an exception: name 'rawFileNames' is not defined"
     ]
    },
    {
     "name": "stderr",
     "output_type": "stream",
     "text": [
      " 59%|██████████████████████████████████▌                        | 2304/3932 [02:05<01:25, 19.09it/s]"
     ]
    },
    {
     "name": "stdout",
     "output_type": "stream",
     "text": [
      "\n",
      "generated an exception: name 'rawFileNames' is not defined\n",
      "generated an exception: name 'rawFileNames' is not defined\n",
      "generated an exception: name 'rawFileNames' is not defined\n",
      "generated an exception: name 'rawFileNames' is not defined\n",
      "generated an exception: name 'rawFileNames' is not defined\n",
      "generated an exception: name 'rawFileNames' is not defined\n",
      "generated an exception: name 'rawFileNames' is not defined\n",
      "generated an exception: name 'rawFileNames' is not defined\n",
      "generated an exception: name 'rawFileNames' is not defined\n",
      "generated an exception: name 'rawFileNames' is not defined\n",
      "generated an exception: name 'rawFileNames' is not defined\n",
      "generated an exception: name 'rawFileNames' is not defined\n",
      "generated an exception: name 'rawFileNames' is not defined\n",
      "generated an exception: name 'rawFileNames' is not defined\n",
      "generated an exception: name 'rawFileNames' is not defined\n",
      "generated an exception: name 'rawFileNames' is not defined\n"
     ]
    },
    {
     "name": "stderr",
     "output_type": "stream",
     "text": [
      " 59%|██████████████████████████████████▊                        | 2320/3932 [02:06<01:24, 19.00it/s]"
     ]
    },
    {
     "name": "stdout",
     "output_type": "stream",
     "text": [
      "generated an exception: name 'rawFileNames' is not defined\n",
      "generated an exception: name 'rawFileNames' is not defined\n",
      "generated an exception: name 'rawFileNames' is not defined\n",
      "generated an exception: name 'rawFileNames' is not defined\n",
      "generated an exception: name 'rawFileNames' is not defined\n",
      "generated an exception: name 'rawFileNames' is not defined\n",
      "generated an exception: name 'rawFileNames' is not defined\n",
      "generated an exception: name 'rawFileNames' is not defined\n",
      "generated an exception: name 'rawFileNames' is not defined\n",
      "generated an exception: name 'rawFileNames' is not defined\n",
      "generated an exception: name 'rawFileNames' is not defined\n",
      "generated an exception: name 'rawFileNames' is not defined\n",
      "generated an exception: name 'rawFileNames' is not defined\n",
      "generated an exception: name 'rawFileNames' is not defined\n",
      "generated an exception: name 'rawFileNames' is not defined\n"
     ]
    },
    {
     "name": "stderr",
     "output_type": "stream",
     "text": [
      " 59%|███████████████████████████████████                        | 2336/3932 [02:07<01:24, 18.90it/s]"
     ]
    },
    {
     "name": "stdout",
     "output_type": "stream",
     "text": [
      "generated an exception: name 'rawFileNames' is not defined\n",
      "generated an exception: name 'rawFileNames' is not defined\n",
      "generated an exception: name 'rawFileNames' is not defined\n",
      "generated an exception: name 'rawFileNames' is not defined\n",
      "generated an exception: name 'rawFileNames' is not defined\n",
      "generated an exception: name 'rawFileNames' is not defined\n",
      "generated an exception: name 'rawFileNames' is not defined\n",
      "generated an exception: name 'rawFileNames' is not defined\n",
      "generated an exception: name 'rawFileNames' is not defined\n",
      "generated an exception: name 'rawFileNames' is not defined\n",
      "generated an exception: name 'rawFileNames' is not defined\n",
      "generated an exception: name 'rawFileNames' is not defined\n",
      "generated an exception: name 'rawFileNames' is not defined\n",
      "generated an exception: name 'rawFileNames' is not defined\n",
      "generated an exception: name 'rawFileNames' is not defined\n",
      "generated an exception: name 'rawFileNames' is not defined\n",
      "generated an exception: name 'rawFileNames' is not defined"
     ]
    },
    {
     "name": "stderr",
     "output_type": "stream",
     "text": [
      " 60%|███████████████████████████████████▎                       | 2352/3932 [02:07<01:22, 19.14it/s]"
     ]
    },
    {
     "name": "stdout",
     "output_type": "stream",
     "text": [
      "\n",
      "generated an exception: name 'rawFileNames' is not defined\n",
      "generated an exception: name 'rawFileNames' is not defined\n",
      "generated an exception: name 'rawFileNames' is not defined\n",
      "generated an exception: name 'rawFileNames' is not defined\n",
      "generated an exception: name 'rawFileNames' is not defined\n",
      "generated an exception: name 'rawFileNames' is not defined\n",
      "generated an exception: name 'rawFileNames' is not defined\n",
      "generated an exception: name 'rawFileNames' is not defined\n",
      "generated an exception: name 'rawFileNames' is not defined\n",
      "generated an exception: name 'rawFileNames' is not defined\n",
      "generated an exception: name 'rawFileNames' is not defined\n",
      "generated an exception: name 'rawFileNames' is not defined\n",
      "generated an exception: name 'rawFileNames' is not defined\n",
      "generated an exception: name 'rawFileNames' is not defined\n",
      "generated an exception: name 'rawFileNames' is not defined\n",
      "generated an exception: name 'rawFileNames' is not defined\n",
      "generated an exception: name 'rawFileNames' is not defined\n",
      "generated an exception: name 'rawFileNames' is not defined"
     ]
    },
    {
     "name": "stderr",
     "output_type": "stream",
     "text": [
      " 60%|███████████████████████████████████▌                       | 2368/3932 [02:08<01:21, 19.24it/s]"
     ]
    },
    {
     "name": "stdout",
     "output_type": "stream",
     "text": [
      "\n",
      "generated an exception: name 'rawFileNames' is not defined\n",
      "generated an exception: name 'rawFileNames' is not defined\n",
      "generated an exception: name 'rawFileNames' is not defined\n",
      "generated an exception: name 'rawFileNames' is not defined\n",
      "generated an exception: name 'rawFileNames' is not defined\n",
      "generated an exception: name 'rawFileNames' is not defined\n",
      "generated an exception: name 'rawFileNames' is not defined\n",
      "generated an exception: name 'rawFileNames' is not defined\n",
      "generated an exception: name 'rawFileNames' is not defined\n",
      "generated an exception: name 'rawFileNames' is not defined\n",
      "generated an exception: name 'rawFileNames' is not defined\n",
      "generated an exception: name 'rawFileNames' is not defined\n",
      "generated an exception: name 'rawFileNames' is not defined\n",
      "generated an exception: name 'rawFileNames' is not defined\n",
      "generated an exception: name 'rawFileNames' is not defined"
     ]
    },
    {
     "name": "stderr",
     "output_type": "stream",
     "text": [
      " 61%|███████████████████████████████████▊                       | 2384/3932 [02:09<01:20, 19.20it/s]"
     ]
    },
    {
     "name": "stdout",
     "output_type": "stream",
     "text": [
      "\n",
      "generated an exception: name 'rawFileNames' is not defined\n",
      "generated an exception: name 'rawFileNames' is not defined\n",
      "generated an exception: name 'rawFileNames' is not defined\n",
      "generated an exception: name 'rawFileNames' is not defined\n",
      "generated an exception: name 'rawFileNames' is not defined\n",
      "generated an exception: name 'rawFileNames' is not defined\n",
      "generated an exception: name 'rawFileNames' is not defined\n",
      "generated an exception: name 'rawFileNames' is not defined\n",
      "generated an exception: name 'rawFileNames' is not defined\n",
      "generated an exception: name 'rawFileNames' is not defined\n",
      "generated an exception: name 'rawFileNames' is not defined\n",
      "generated an exception: name 'rawFileNames' is not defined\n",
      "generated an exception: name 'rawFileNames' is not defined\n",
      "generated an exception: name 'rawFileNames' is not defined\n"
     ]
    },
    {
     "name": "stderr",
     "output_type": "stream",
     "text": [
      " 61%|████████████████████████████████████                       | 2400/3932 [02:10<01:19, 19.29it/s]"
     ]
    },
    {
     "name": "stdout",
     "output_type": "stream",
     "text": [
      "generated an exception: name 'rawFileNames' is not defined\n",
      "generated an exception: name 'rawFileNames' is not defined\n",
      "generated an exception: name 'rawFileNames' is not defined\n",
      "generated an exception: name 'rawFileNames' is not defined\n",
      "generated an exception: name 'rawFileNames' is not defined\n",
      "generated an exception: name 'rawFileNames' is not defined\n",
      "generated an exception: name 'rawFileNames' is not defined\n",
      "generated an exception: name 'rawFileNames' is not defined\n",
      "generated an exception: name 'rawFileNames' is not defined\n",
      "generated an exception: name 'rawFileNames' is not defined\n",
      "generated an exception: name 'rawFileNames' is not defined\n",
      "generated an exception: name 'rawFileNames' is not defined\n",
      "generated an exception: name 'rawFileNames' is not defined\n",
      "generated an exception: name 'rawFileNames' is not defined\n",
      "generated an exception: name 'rawFileNames' is not defined\n",
      "generated an exception: name 'rawFileNames' is not defined\n",
      "generated an exception: name 'rawFileNames' is not defined\n"
     ]
    },
    {
     "name": "stderr",
     "output_type": "stream",
     "text": [
      " 61%|████████████████████████████████████▎                      | 2416/3932 [02:11<01:19, 19.06it/s]"
     ]
    },
    {
     "name": "stdout",
     "output_type": "stream",
     "text": [
      "generated an exception: name 'rawFileNames' is not defined\n",
      "generated an exception: name 'rawFileNames' is not defined\n",
      "generated an exception: name 'rawFileNames' is not defined\n",
      "generated an exception: name 'rawFileNames' is not defined\n",
      "generated an exception: name 'rawFileNames' is not defined\n",
      "generated an exception: name 'rawFileNames' is not defined\n",
      "generated an exception: name 'rawFileNames' is not defined\n",
      "generated an exception: name 'rawFileNames' is not defined\n",
      "generated an exception: name 'rawFileNames' is not defined\n",
      "generated an exception: name 'rawFileNames' is not defined\n",
      "generated an exception: name 'rawFileNames' is not defined\n",
      "generated an exception: name 'rawFileNames' is not defined\n",
      "generated an exception: name 'rawFileNames' is not defined\n",
      "generated an exception: name 'rawFileNames' is not defined\n",
      "generated an exception: name 'rawFileNames' is not defined\n",
      "generated an exception: name 'rawFileNames' is not defined"
     ]
    },
    {
     "name": "stderr",
     "output_type": "stream",
     "text": [
      " 62%|████████████████████████████████████▍                      | 2432/3932 [02:12<01:18, 19.05it/s]"
     ]
    },
    {
     "name": "stdout",
     "output_type": "stream",
     "text": [
      "\n",
      "generated an exception: name 'rawFileNames' is not defined\n",
      "generated an exception: name 'rawFileNames' is not defined\n",
      "generated an exception: name 'rawFileNames' is not defined\n",
      "generated an exception: name 'rawFileNames' is not defined\n",
      "generated an exception: name 'rawFileNames' is not defined\n",
      "generated an exception: name 'rawFileNames' is not defined\n",
      "generated an exception: name 'rawFileNames' is not defined\n",
      "generated an exception: name 'rawFileNames' is not defined\n",
      "generated an exception: name 'rawFileNames' is not defined\n",
      "generated an exception: name 'rawFileNames' is not defined\n",
      "generated an exception: name 'rawFileNames' is not defined\n",
      "generated an exception: name 'rawFileNames' is not defined\n",
      "generated an exception: name 'rawFileNames' is not defined\n",
      "generated an exception: name 'rawFileNames' is not defined\n",
      "generated an exception: name 'rawFileNames' is not defined\n",
      "generated an exception: name 'rawFileNames' is not defined"
     ]
    },
    {
     "name": "stderr",
     "output_type": "stream",
     "text": [
      " 62%|████████████████████████████████████▋                      | 2448/3932 [02:12<01:17, 19.13it/s]"
     ]
    },
    {
     "name": "stdout",
     "output_type": "stream",
     "text": [
      "\n",
      "generated an exception: name 'rawFileNames' is not defined\n",
      "generated an exception: name 'rawFileNames' is not defined\n",
      "generated an exception: name 'rawFileNames' is not defined\n",
      "generated an exception: name 'rawFileNames' is not defined\n",
      "generated an exception: name 'rawFileNames' is not defined\n",
      "generated an exception: name 'rawFileNames' is not defined\n",
      "generated an exception: name 'rawFileNames' is not defined\n",
      "generated an exception: name 'rawFileNames' is not defined\n",
      "generated an exception: name 'rawFileNames' is not defined\n",
      "generated an exception: name 'rawFileNames' is not defined\n",
      "generated an exception: name 'rawFileNames' is not defined\n",
      "generated an exception: name 'rawFileNames' is not defined\n",
      "generated an exception: name 'rawFileNames' is not defined\n",
      "generated an exception: name 'rawFileNames' is not defined\n",
      "generated an exception: name 'rawFileNames' is not defined\n",
      "generated an exception: name 'rawFileNames' is not defined"
     ]
    },
    {
     "name": "stderr",
     "output_type": "stream",
     "text": [
      " 63%|████████████████████████████████████▉                      | 2464/3932 [02:13<01:16, 19.29it/s]"
     ]
    },
    {
     "name": "stdout",
     "output_type": "stream",
     "text": [
      "\n",
      "generated an exception: name 'rawFileNames' is not defined\n",
      "generated an exception: name 'rawFileNames' is not defined\n",
      "generated an exception: name 'rawFileNames' is not defined\n",
      "generated an exception: name 'rawFileNames' is not defined\n",
      "generated an exception: name 'rawFileNames' is not defined\n",
      "generated an exception: name 'rawFileNames' is not defined\n",
      "generated an exception: name 'rawFileNames' is not defined\n",
      "generated an exception: name 'rawFileNames' is not defined\n",
      "generated an exception: name 'rawFileNames' is not defined\n",
      "generated an exception: name 'rawFileNames' is not defined\n",
      "generated an exception: name 'rawFileNames' is not defined\n",
      "generated an exception: name 'rawFileNames' is not defined\n",
      "generated an exception: name 'rawFileNames' is not defined\n",
      "generated an exception: name 'rawFileNames' is not defined\n",
      "generated an exception: name 'rawFileNames' is not defined\n",
      "generated an exception: name 'rawFileNames' is not defined\n",
      "generated an exception: name 'rawFileNames' is not defined\n"
     ]
    },
    {
     "name": "stderr",
     "output_type": "stream",
     "text": [
      " 63%|█████████████████████████████████████▏                     | 2480/3932 [02:14<01:15, 19.35it/s]"
     ]
    },
    {
     "name": "stdout",
     "output_type": "stream",
     "text": [
      "generated an exception: name 'rawFileNames' is not defined\n",
      "generated an exception: name 'rawFileNames' is not defined\n",
      "generated an exception: name 'rawFileNames' is not defined\n",
      "generated an exception: name 'rawFileNames' is not defined\n",
      "generated an exception: name 'rawFileNames' is not defined\n",
      "generated an exception: name 'rawFileNames' is not defined\n",
      "generated an exception: name 'rawFileNames' is not defined\n",
      "generated an exception: name 'rawFileNames' is not defined\n",
      "generated an exception: name 'rawFileNames' is not defined\n",
      "generated an exception: name 'rawFileNames' is not defined\n",
      "generated an exception: name 'rawFileNames' is not defined\n",
      "generated an exception: name 'rawFileNames' is not defined\n",
      "generated an exception: name 'rawFileNames' is not defined\n",
      "generated an exception: name 'rawFileNames' is not defined\n",
      "generated an exception: name 'rawFileNames' is not defined"
     ]
    },
    {
     "name": "stderr",
     "output_type": "stream",
     "text": [
      " 63%|█████████████████████████████████████▍                     | 2496/3932 [02:15<01:15, 18.99it/s]"
     ]
    },
    {
     "name": "stdout",
     "output_type": "stream",
     "text": [
      "\n",
      "generated an exception: name 'rawFileNames' is not defined\n",
      "generated an exception: name 'rawFileNames' is not defined\n",
      "generated an exception: name 'rawFileNames' is not defined\n",
      "generated an exception: name 'rawFileNames' is not defined\n",
      "generated an exception: name 'rawFileNames' is not defined\n",
      "generated an exception: name 'rawFileNames' is not defined\n",
      "generated an exception: name 'rawFileNames' is not defined\n",
      "generated an exception: name 'rawFileNames' is not defined\n",
      "generated an exception: name 'rawFileNames' is not defined\n",
      "generated an exception: name 'rawFileNames' is not defined\n",
      "generated an exception: name 'rawFileNames' is not defined\n",
      "generated an exception: name 'rawFileNames' is not defined\n",
      "generated an exception: name 'rawFileNames' is not defined\n",
      "generated an exception: name 'rawFileNames' is not defined\n",
      "generated an exception: name 'rawFileNames' is not defined\n",
      "generated an exception: name 'rawFileNames' is not defined\n",
      "generated an exception: name 'rawFileNames' is not defined\n",
      "generated an exception: name 'rawFileNames' is not defined\n",
      "generated an exception: name 'rawFileNames' is not defined"
     ]
    },
    {
     "name": "stderr",
     "output_type": "stream",
     "text": [
      " 64%|█████████████████████████████████████▋                     | 2512/3932 [02:16<01:13, 19.33it/s]"
     ]
    },
    {
     "name": "stdout",
     "output_type": "stream",
     "text": [
      "\n",
      "generated an exception: name 'rawFileNames' is not defined\n",
      "generated an exception: name 'rawFileNames' is not defined\n",
      "generated an exception: name 'rawFileNames' is not defined\n",
      "generated an exception: name 'rawFileNames' is not defined\n",
      "generated an exception: name 'rawFileNames' is not defined\n",
      "generated an exception: name 'rawFileNames' is not defined\n",
      "generated an exception: name 'rawFileNames' is not defined\n",
      "generated an exception: name 'rawFileNames' is not defined\n",
      "generated an exception: name 'rawFileNames' is not defined\n",
      "generated an exception: name 'rawFileNames' is not defined\n",
      "generated an exception: name 'rawFileNames' is not defined\n",
      "generated an exception: name 'rawFileNames' is not defined\n",
      "generated an exception: name 'rawFileNames' is not defined"
     ]
    },
    {
     "name": "stderr",
     "output_type": "stream",
     "text": [
      " 64%|█████████████████████████████████████▉                     | 2528/3932 [02:17<01:12, 19.43it/s]"
     ]
    },
    {
     "name": "stdout",
     "output_type": "stream",
     "text": [
      "\n",
      "generated an exception: name 'rawFileNames' is not defined\n",
      "generated an exception: name 'rawFileNames' is not defined\n",
      "generated an exception: name 'rawFileNames' is not defined\n",
      "generated an exception: name 'rawFileNames' is not defined\n",
      "generated an exception: name 'rawFileNames' is not defined\n",
      "generated an exception: name 'rawFileNames' is not defined\n",
      "generated an exception: name 'rawFileNames' is not defined\n",
      "generated an exception: name 'rawFileNames' is not defined\n",
      "generated an exception: name 'rawFileNames' is not defined\n",
      "generated an exception: name 'rawFileNames' is not defined\n",
      "generated an exception: name 'rawFileNames' is not defined\n",
      "generated an exception: name 'rawFileNames' is not defined\n",
      "generated an exception: name 'rawFileNames' is not defined\n",
      "generated an exception: name 'rawFileNames' is not defined\n",
      "generated an exception: name 'rawFileNames' is not defined\n",
      "generated an exception: name 'rawFileNames' is not defined\n",
      "generated an exception: name 'rawFileNames' is not defined\n"
     ]
    },
    {
     "name": "stderr",
     "output_type": "stream",
     "text": [
      " 65%|██████████████████████████████████████▏                    | 2544/3932 [02:17<01:11, 19.50it/s]"
     ]
    },
    {
     "name": "stdout",
     "output_type": "stream",
     "text": [
      "generated an exception: name 'rawFileNames' is not defined\n",
      "generated an exception: name 'rawFileNames' is not defined\n",
      "generated an exception: name 'rawFileNames' is not defined\n",
      "generated an exception: name 'rawFileNames' is not defined\n",
      "generated an exception: name 'rawFileNames' is not defined\n",
      "generated an exception: name 'rawFileNames' is not defined\n",
      "generated an exception: name 'rawFileNames' is not defined\n",
      "generated an exception: name 'rawFileNames' is not defined\n",
      "generated an exception: name 'rawFileNames' is not defined\n",
      "generated an exception: name 'rawFileNames' is not defined\n",
      "generated an exception: name 'rawFileNames' is not defined\n",
      "generated an exception: name 'rawFileNames' is not defined\n",
      "generated an exception: name 'rawFileNames' is not defined\n",
      "generated an exception: name 'rawFileNames' is not defined\n",
      "generated an exception: name 'rawFileNames' is not defined\n",
      "generated an exception: name 'rawFileNames' is not defined\n",
      "generated an exception: name 'rawFileNames' is not defined\n",
      "generated an exception: name 'rawFileNames' is not defined\n",
      "generated an exception: name 'rawFileNames' is not defined\n",
      "generated an exception: name 'rawFileNames' is not defined\n",
      "generated an exception: name 'rawFileNames' is not defined\n",
      "generated an exception: name 'rawFileNames' is not defined\n",
      "generated an exception: name 'rawFileNames' is not defined"
     ]
    },
    {
     "name": "stderr",
     "output_type": "stream",
     "text": [
      " 65%|██████████████████████████████████████▍                    | 2560/3932 [02:18<01:09, 19.61it/s]"
     ]
    },
    {
     "name": "stdout",
     "output_type": "stream",
     "text": [
      "\n",
      "generated an exception: name 'rawFileNames' is not defined\n",
      "generated an exception: name 'rawFileNames' is not defined\n",
      "generated an exception: name 'rawFileNames' is not defined\n",
      "generated an exception: name 'rawFileNames' is not defined\n",
      "generated an exception: name 'rawFileNames' is not defined\n",
      "generated an exception: name 'rawFileNames' is not defined\n",
      "generated an exception: name 'rawFileNames' is not defined\n",
      "generated an exception: name 'rawFileNames' is not defined\n"
     ]
    },
    {
     "name": "stderr",
     "output_type": "stream",
     "text": [
      " 66%|██████████████████████████████████████▋                    | 2576/3932 [02:19<01:10, 19.37it/s]"
     ]
    },
    {
     "name": "stdout",
     "output_type": "stream",
     "text": [
      "generated an exception: name 'rawFileNames' is not defined\n",
      "generated an exception: name 'rawFileNames' is not defined\n",
      "generated an exception: name 'rawFileNames' is not defined\n",
      "generated an exception: name 'rawFileNames' is not defined\n",
      "generated an exception: name 'rawFileNames' is not defined\n",
      "generated an exception: name 'rawFileNames' is not defined\n",
      "generated an exception: name 'rawFileNames' is not defined\n",
      "generated an exception: name 'rawFileNames' is not defined\n",
      "generated an exception: name 'rawFileNames' is not defined\n",
      "generated an exception: name 'rawFileNames' is not defined\n",
      "generated an exception: name 'rawFileNames' is not defined\n",
      "generated an exception: name 'rawFileNames' is not defined\n",
      "generated an exception: name 'rawFileNames' is not defined\n",
      "generated an exception: name 'rawFileNames' is not defined\n",
      "generated an exception: name 'rawFileNames' is not defined\n"
     ]
    },
    {
     "name": "stderr",
     "output_type": "stream",
     "text": [
      " 66%|██████████████████████████████████████▉                    | 2592/3932 [02:20<01:09, 19.27it/s]"
     ]
    },
    {
     "name": "stdout",
     "output_type": "stream",
     "text": [
      "generated an exception: name 'rawFileNames' is not defined\n",
      "generated an exception: name 'rawFileNames' is not defined\n",
      "generated an exception: name 'rawFileNames' is not defined\n",
      "generated an exception: name 'rawFileNames' is not defined\n",
      "generated an exception: name 'rawFileNames' is not defined\n",
      "generated an exception: name 'rawFileNames' is not defined\n",
      "generated an exception: name 'rawFileNames' is not defined\n",
      "generated an exception: name 'rawFileNames' is not defined\n",
      "generated an exception: name 'rawFileNames' is not defined\n",
      "generated an exception: name 'rawFileNames' is not defined\n",
      "generated an exception: name 'rawFileNames' is not defined\n",
      "generated an exception: name 'rawFileNames' is not defined\n",
      "generated an exception: name 'rawFileNames' is not defined\n",
      "generated an exception: name 'rawFileNames' is not defined\n",
      "generated an exception: name 'rawFileNames' is not defined\n",
      "generated an exception: name 'rawFileNames' is not defined\n",
      "generated an exception: name 'rawFileNames' is not defined\n",
      "generated an exception: name 'rawFileNames' is not defined"
     ]
    },
    {
     "name": "stderr",
     "output_type": "stream",
     "text": [
      " 66%|███████████████████████████████████████▏                   | 2608/3932 [02:21<01:09, 19.16it/s]"
     ]
    },
    {
     "name": "stdout",
     "output_type": "stream",
     "text": [
      "\n",
      "generated an exception: name 'rawFileNames' is not defined\n",
      "generated an exception: name 'rawFileNames' is not defined\n",
      "generated an exception: name 'rawFileNames' is not defined\n",
      "generated an exception: name 'rawFileNames' is not defined\n",
      "generated an exception: name 'rawFileNames' is not defined\n",
      "generated an exception: name 'rawFileNames' is not defined\n",
      "generated an exception: name 'rawFileNames' is not defined\n",
      "generated an exception: name 'rawFileNames' is not defined\n",
      "generated an exception: name 'rawFileNames' is not defined\n",
      "generated an exception: name 'rawFileNames' is not defined\n",
      "generated an exception: name 'rawFileNames' is not defined\n",
      "generated an exception: name 'rawFileNames' is not defined\n",
      "generated an exception: name 'rawFileNames' is not defined\n",
      "generated an exception: name 'rawFileNames' is not defined\n",
      "generated an exception: name 'rawFileNames' is not defined\n"
     ]
    },
    {
     "name": "stderr",
     "output_type": "stream",
     "text": [
      " 67%|███████████████████████████████████████▎                   | 2624/3932 [02:21<01:07, 19.43it/s]"
     ]
    },
    {
     "name": "stdout",
     "output_type": "stream",
     "text": [
      "generated an exception: name 'rawFileNames' is not defined\n",
      "generated an exception: name 'rawFileNames' is not defined\n",
      "generated an exception: name 'rawFileNames' is not defined\n",
      "generated an exception: name 'rawFileNames' is not defined\n",
      "generated an exception: name 'rawFileNames' is not defined\n",
      "generated an exception: name 'rawFileNames' is not defined\n",
      "generated an exception: name 'rawFileNames' is not defined\n",
      "generated an exception: name 'rawFileNames' is not defined\n",
      "generated an exception: name 'rawFileNames' is not defined\n",
      "generated an exception: name 'rawFileNames' is not defined\n",
      "generated an exception: name 'rawFileNames' is not defined\n",
      "generated an exception: name 'rawFileNames' is not defined\n",
      "generated an exception: name 'rawFileNames' is not defined\n",
      "generated an exception: name 'rawFileNames' is not defined\n",
      "generated an exception: name 'rawFileNames' is not defined\n"
     ]
    },
    {
     "name": "stderr",
     "output_type": "stream",
     "text": [
      " 67%|███████████████████████████████████████▌                   | 2640/3932 [02:22<01:07, 19.24it/s]"
     ]
    },
    {
     "name": "stdout",
     "output_type": "stream",
     "text": [
      "generated an exception: name 'rawFileNames' is not defined\n",
      "generated an exception: name 'rawFileNames' is not defined\n",
      "generated an exception: name 'rawFileNames' is not defined\n",
      "generated an exception: name 'rawFileNames' is not defined\n",
      "generated an exception: name 'rawFileNames' is not defined\n",
      "generated an exception: name 'rawFileNames' is not defined\n",
      "generated an exception: name 'rawFileNames' is not defined\n",
      "generated an exception: name 'rawFileNames' is not defined\n",
      "generated an exception: name 'rawFileNames' is not defined\n",
      "generated an exception: name 'rawFileNames' is not defined\n",
      "generated an exception: name 'rawFileNames' is not defined\n",
      "generated an exception: name 'rawFileNames' is not defined\n",
      "generated an exception: name 'rawFileNames' is not defined\n",
      "generated an exception: name 'rawFileNames' is not defined\n",
      "generated an exception: name 'rawFileNames' is not defined\n",
      "generated an exception: name 'rawFileNames' is not defined\n",
      "generated an exception: name 'rawFileNames' is not defined"
     ]
    },
    {
     "name": "stderr",
     "output_type": "stream",
     "text": [
      " 68%|███████████████████████████████████████▊                   | 2656/3932 [02:23<01:05, 19.37it/s]"
     ]
    },
    {
     "name": "stdout",
     "output_type": "stream",
     "text": [
      "\n",
      "generated an exception: name 'rawFileNames' is not defined\n",
      "generated an exception: name 'rawFileNames' is not defined\n",
      "generated an exception: name 'rawFileNames' is not defined\n",
      "generated an exception: name 'rawFileNames' is not defined\n",
      "generated an exception: name 'rawFileNames' is not defined\n",
      "generated an exception: name 'rawFileNames' is not defined\n",
      "generated an exception: name 'rawFileNames' is not defined\n",
      "generated an exception: name 'rawFileNames' is not defined\n",
      "generated an exception: name 'rawFileNames' is not defined\n",
      "generated an exception: name 'rawFileNames' is not defined\n",
      "generated an exception: name 'rawFileNames' is not defined\n",
      "generated an exception: name 'rawFileNames' is not defined\n",
      "generated an exception: name 'rawFileNames' is not defined\n",
      "generated an exception: name 'rawFileNames' is not defined\n",
      "generated an exception: name 'rawFileNames' is not defined\n",
      "generated an exception: name 'rawFileNames' is not defined"
     ]
    },
    {
     "name": "stderr",
     "output_type": "stream",
     "text": [
      " 68%|████████████████████████████████████████                   | 2672/3932 [02:24<01:05, 19.24it/s]"
     ]
    },
    {
     "name": "stdout",
     "output_type": "stream",
     "text": [
      "\n",
      "generated an exception: name 'rawFileNames' is not defined\n",
      "generated an exception: name 'rawFileNames' is not defined\n",
      "generated an exception: name 'rawFileNames' is not defined\n",
      "generated an exception: name 'rawFileNames' is not defined\n",
      "generated an exception: name 'rawFileNames' is not defined\n",
      "generated an exception: name 'rawFileNames' is not defined\n",
      "generated an exception: name 'rawFileNames' is not defined\n",
      "generated an exception: name 'rawFileNames' is not defined\n",
      "generated an exception: name 'rawFileNames' is not defined\n",
      "generated an exception: name 'rawFileNames' is not defined\n",
      "generated an exception: name 'rawFileNames' is not defined\n",
      "generated an exception: name 'rawFileNames' is not defined\n",
      "generated an exception: name 'rawFileNames' is not defined\n",
      "generated an exception: name 'rawFileNames' is not defined\n",
      "generated an exception: name 'rawFileNames' is not defined\n",
      "generated an exception: name 'rawFileNames' is not defined\n",
      "generated an exception: name 'rawFileNames' is not defined\n",
      "generated an exception: name 'rawFileNames' is not defined\n"
     ]
    },
    {
     "name": "stderr",
     "output_type": "stream",
     "text": [
      " 68%|████████████████████████████████████████▎                  | 2688/3932 [02:25<01:04, 19.34it/s]"
     ]
    },
    {
     "name": "stdout",
     "output_type": "stream",
     "text": [
      "generated an exception: name 'rawFileNames' is not defined\n",
      "generated an exception: name 'rawFileNames' is not defined\n",
      "generated an exception: name 'rawFileNames' is not defined\n",
      "generated an exception: name 'rawFileNames' is not defined\n",
      "generated an exception: name 'rawFileNames' is not defined\n",
      "generated an exception: name 'rawFileNames' is not defined\n",
      "generated an exception: name 'rawFileNames' is not defined\n",
      "generated an exception: name 'rawFileNames' is not defined\n",
      "generated an exception: name 'rawFileNames' is not defined\n",
      "generated an exception: name 'rawFileNames' is not defined\n",
      "generated an exception: name 'rawFileNames' is not defined\n",
      "generated an exception: name 'rawFileNames' is not defined\n",
      "generated an exception: name 'rawFileNames' is not defined\n",
      "generated an exception: name 'rawFileNames' is not defined\n",
      "generated an exception: name 'rawFileNames' is not defined\n"
     ]
    },
    {
     "name": "stderr",
     "output_type": "stream",
     "text": [
      " 69%|████████████████████████████████████████▌                  | 2704/3932 [02:26<01:03, 19.28it/s]"
     ]
    },
    {
     "name": "stdout",
     "output_type": "stream",
     "text": [
      "generated an exception: name 'rawFileNames' is not defined\n",
      "generated an exception: name 'rawFileNames' is not defined\n",
      "generated an exception: name 'rawFileNames' is not defined\n",
      "generated an exception: name 'rawFileNames' is not defined\n",
      "generated an exception: name 'rawFileNames' is not defined\n",
      "generated an exception: name 'rawFileNames' is not defined\n",
      "generated an exception: name 'rawFileNames' is not defined\n",
      "generated an exception: name 'rawFileNames' is not defined\n",
      "generated an exception: name 'rawFileNames' is not defined\n",
      "generated an exception: name 'rawFileNames' is not defined\n",
      "generated an exception: name 'rawFileNames' is not defined\n",
      "generated an exception: name 'rawFileNames' is not defined\n",
      "generated an exception: name 'rawFileNames' is not defined\n",
      "generated an exception: name 'rawFileNames' is not defined\n",
      "generated an exception: name 'rawFileNames' is not defined\n",
      "generated an exception: name 'rawFileNames' is not defined"
     ]
    },
    {
     "name": "stderr",
     "output_type": "stream",
     "text": [
      " 69%|████████████████████████████████████████▊                  | 2720/3932 [02:26<01:03, 19.15it/s]"
     ]
    },
    {
     "name": "stdout",
     "output_type": "stream",
     "text": [
      "\n",
      "generated an exception: name 'rawFileNames' is not defined\n",
      "generated an exception: name 'rawFileNames' is not defined\n",
      "generated an exception: name 'rawFileNames' is not defined\n",
      "generated an exception: name 'rawFileNames' is not defined\n",
      "generated an exception: name 'rawFileNames' is not defined\n",
      "generated an exception: name 'rawFileNames' is not defined\n",
      "generated an exception: name 'rawFileNames' is not defined\n",
      "generated an exception: name 'rawFileNames' is not defined\n",
      "generated an exception: name 'rawFileNames' is not defined\n",
      "generated an exception: name 'rawFileNames' is not defined\n",
      "generated an exception: name 'rawFileNames' is not defined\n",
      "generated an exception: name 'rawFileNames' is not defined\n",
      "generated an exception: name 'rawFileNames' is not defined\n",
      "generated an exception: name 'rawFileNames' is not defined\n",
      "generated an exception: name 'rawFileNames' is not defined\n",
      "generated an exception: name 'rawFileNames' is not defined"
     ]
    },
    {
     "name": "stderr",
     "output_type": "stream",
     "text": [
      " 70%|█████████████████████████████████████████                  | 2736/3932 [02:27<01:02, 19.07it/s]"
     ]
    },
    {
     "name": "stdout",
     "output_type": "stream",
     "text": [
      "\n",
      "generated an exception: name 'rawFileNames' is not defined\n",
      "generated an exception: name 'rawFileNames' is not defined\n",
      "generated an exception: name 'rawFileNames' is not defined\n",
      "generated an exception: name 'rawFileNames' is not defined\n",
      "generated an exception: name 'rawFileNames' is not defined\n",
      "generated an exception: name 'rawFileNames' is not defined\n",
      "generated an exception: name 'rawFileNames' is not defined\n",
      "generated an exception: name 'rawFileNames' is not defined\n",
      "generated an exception: name 'rawFileNames' is not defined\n",
      "generated an exception: name 'rawFileNames' is not defined\n",
      "generated an exception: name 'rawFileNames' is not defined\n",
      "generated an exception: name 'rawFileNames' is not defined\n",
      "generated an exception: name 'rawFileNames' is not defined\n",
      "generated an exception: name 'rawFileNames' is not defined\n",
      "generated an exception: name 'rawFileNames' is not defined"
     ]
    },
    {
     "name": "stderr",
     "output_type": "stream",
     "text": [
      " 70%|█████████████████████████████████████████▎                 | 2752/3932 [02:28<01:01, 19.09it/s]"
     ]
    },
    {
     "name": "stdout",
     "output_type": "stream",
     "text": [
      "\n",
      "generated an exception: name 'rawFileNames' is not defined\n",
      "generated an exception: name 'rawFileNames' is not defined\n",
      "generated an exception: name 'rawFileNames' is not defined\n",
      "generated an exception: name 'rawFileNames' is not defined\n",
      "generated an exception: name 'rawFileNames' is not defined\n",
      "generated an exception: name 'rawFileNames' is not defined\n",
      "generated an exception: name 'rawFileNames' is not defined\n",
      "generated an exception: name 'rawFileNames' is not defined\n",
      "generated an exception: name 'rawFileNames' is not defined\n",
      "generated an exception: name 'rawFileNames' is not defined\n",
      "generated an exception: name 'rawFileNames' is not defined\n",
      "generated an exception: name 'rawFileNames' is not defined\n",
      "generated an exception: name 'rawFileNames' is not defined\n",
      "generated an exception: name 'rawFileNames' is not defined\n",
      "generated an exception: name 'rawFileNames' is not defined\n"
     ]
    },
    {
     "name": "stderr",
     "output_type": "stream",
     "text": [
      " 70%|█████████████████████████████████████████▌                 | 2768/3932 [02:29<01:01, 18.95it/s]"
     ]
    },
    {
     "name": "stdout",
     "output_type": "stream",
     "text": [
      "generated an exception: name 'rawFileNames' is not defined\n",
      "generated an exception: name 'rawFileNames' is not defined\n",
      "generated an exception: name 'rawFileNames' is not defined\n",
      "generated an exception: name 'rawFileNames' is not defined\n",
      "generated an exception: name 'rawFileNames' is not defined\n",
      "generated an exception: name 'rawFileNames' is not defined\n",
      "generated an exception: name 'rawFileNames' is not defined\n",
      "generated an exception: name 'rawFileNames' is not defined\n",
      "generated an exception: name 'rawFileNames' is not defined\n",
      "generated an exception: name 'rawFileNames' is not defined\n",
      "generated an exception: name 'rawFileNames' is not defined\n",
      "generated an exception: name 'rawFileNames' is not defined\n",
      "generated an exception: name 'rawFileNames' is not defined\n",
      "generated an exception: name 'rawFileNames' is not defined\n",
      "generated an exception: name 'rawFileNames' is not defined\n",
      "generated an exception: name 'rawFileNames' is not defined\n"
     ]
    },
    {
     "name": "stderr",
     "output_type": "stream",
     "text": [
      " 71%|█████████████████████████████████████████▊                 | 2784/3932 [02:30<01:00, 19.05it/s]"
     ]
    },
    {
     "name": "stdout",
     "output_type": "stream",
     "text": [
      "generated an exception: name 'rawFileNames' is not defined\n",
      "generated an exception: name 'rawFileNames' is not defined\n",
      "generated an exception: name 'rawFileNames' is not defined\n",
      "generated an exception: name 'rawFileNames' is not defined\n",
      "generated an exception: name 'rawFileNames' is not defined\n",
      "generated an exception: name 'rawFileNames' is not defined\n",
      "generated an exception: name 'rawFileNames' is not defined\n",
      "generated an exception: name 'rawFileNames' is not defined\n",
      "generated an exception: name 'rawFileNames' is not defined\n",
      "generated an exception: name 'rawFileNames' is not defined\n",
      "generated an exception: name 'rawFileNames' is not defined\n",
      "generated an exception: name 'rawFileNames' is not defined\n",
      "generated an exception: name 'rawFileNames' is not defined\n",
      "generated an exception: name 'rawFileNames' is not defined\n",
      "generated an exception: name 'rawFileNames' is not defined\n",
      "generated an exception: name 'rawFileNames' is not defined\n",
      "generated an exception: name 'rawFileNames' is not defined\n",
      "generated an exception: name 'rawFileNames' is not defined\n",
      "generated an exception: name 'rawFileNames' is not defined\n",
      "generated an exception: name 'rawFileNames' is not defined\n",
      "generated an exception: name 'rawFileNames' is not defined\n",
      "generated an exception: name 'rawFileNames' is not defined\n",
      "generated an exception: name 'rawFileNames' is not defined\n",
      "generated an exception: name 'rawFileNames' is not defined\n"
     ]
    },
    {
     "name": "stderr",
     "output_type": "stream",
     "text": [
      " 71%|██████████████████████████████████████████                 | 2800/3932 [02:31<00:58, 19.19it/s]"
     ]
    },
    {
     "name": "stdout",
     "output_type": "stream",
     "text": [
      "generated an exception: name 'rawFileNames' is not defined\n",
      "generated an exception: name 'rawFileNames' is not defined\n",
      "generated an exception: name 'rawFileNames' is not defined\n",
      "generated an exception: name 'rawFileNames' is not defined\n",
      "generated an exception: name 'rawFileNames' is not defined\n",
      "generated an exception: name 'rawFileNames' is not defined\n",
      "generated an exception: name 'rawFileNames' is not defined\n",
      "generated an exception: name 'rawFileNames' is not defined\n",
      "generated an exception: name 'rawFileNames' is not defined\n"
     ]
    },
    {
     "name": "stderr",
     "output_type": "stream",
     "text": [
      " 72%|██████████████████████████████████████████▎                | 2816/3932 [02:31<00:57, 19.37it/s]"
     ]
    },
    {
     "name": "stdout",
     "output_type": "stream",
     "text": [
      "generated an exception: name 'rawFileNames' is not defined\n",
      "generated an exception: name 'rawFileNames' is not defined\n",
      "generated an exception: name 'rawFileNames' is not defined\n",
      "generated an exception: name 'rawFileNames' is not defined\n",
      "generated an exception: name 'rawFileNames' is not defined\n",
      "generated an exception: name 'rawFileNames' is not defined\n",
      "generated an exception: name 'rawFileNames' is not defined\n",
      "generated an exception: name 'rawFileNames' is not defined\n",
      "generated an exception: name 'rawFileNames' is not defined\n",
      "generated an exception: name 'rawFileNames' is not defined\n",
      "generated an exception: name 'rawFileNames' is not defined\n",
      "generated an exception: name 'rawFileNames' is not defined\n",
      "generated an exception: name 'rawFileNames' is not defined\n",
      "generated an exception: name 'rawFileNames' is not defined\n",
      "generated an exception: name 'rawFileNames' is not defined\n",
      "generated an exception: name 'rawFileNames' is not defined"
     ]
    },
    {
     "name": "stderr",
     "output_type": "stream",
     "text": [
      " 72%|██████████████████████████████████████████▍                | 2832/3932 [02:34<01:21, 13.54it/s]"
     ]
    },
    {
     "name": "stdout",
     "output_type": "stream",
     "text": [
      "\n",
      "generated an exception: name 'rawFileNames' is not defined\n",
      "generated an exception: name 'rawFileNames' is not defined\n",
      "generated an exception: name 'rawFileNames' is not defined\n",
      "generated an exception: name 'rawFileNames' is not defined\n",
      "generated an exception: name 'rawFileNames' is not defined\n",
      "generated an exception: name 'rawFileNames' is not defined\n",
      "generated an exception: name 'rawFileNames' is not defined\n",
      "generated an exception: name 'rawFileNames' is not defined\n",
      "generated an exception: name 'rawFileNames' is not defined\n",
      "generated an exception: name 'rawFileNames' is not defined\n",
      "generated an exception: name 'rawFileNames' is not defined\n",
      "generated an exception: name 'rawFileNames' is not defined\n",
      "generated an exception: name 'rawFileNames' is not defined\n",
      "generated an exception: name 'rawFileNames' is not defined\n",
      "generated an exception: name 'rawFileNames' is not defined\n"
     ]
    },
    {
     "name": "stderr",
     "output_type": "stream",
     "text": [
      " 72%|██████████████████████████████████████████▋                | 2848/3932 [02:34<01:12, 14.95it/s]"
     ]
    },
    {
     "name": "stdout",
     "output_type": "stream",
     "text": [
      "generated an exception: name 'rawFileNames' is not defined\n",
      "generated an exception: name 'rawFileNames' is not defined\n",
      "generated an exception: name 'rawFileNames' is not defined\n",
      "generated an exception: name 'rawFileNames' is not defined\n",
      "generated an exception: name 'rawFileNames' is not defined\n",
      "generated an exception: name 'rawFileNames' is not defined\n",
      "generated an exception: name 'rawFileNames' is not defined\n",
      "generated an exception: name 'rawFileNames' is not defined\n",
      "generated an exception: name 'rawFileNames' is not defined\n",
      "generated an exception: name 'rawFileNames' is not defined\n",
      "generated an exception: name 'rawFileNames' is not defined\n",
      "generated an exception: name 'rawFileNames' is not defined\n",
      "generated an exception: name 'rawFileNames' is not defined\n",
      "generated an exception: name 'rawFileNames' is not defined\n",
      "generated an exception: name 'rawFileNames' is not defined\n",
      "generated an exception: name 'rawFileNames' is not defined\n",
      "generated an exception: name 'rawFileNames' is not defined\n",
      "generated an exception: name 'rawFileNames' is not defined\n"
     ]
    },
    {
     "name": "stderr",
     "output_type": "stream",
     "text": [
      " 73%|██████████████████████████████████████████▉                | 2864/3932 [02:35<01:06, 16.12it/s]"
     ]
    },
    {
     "name": "stdout",
     "output_type": "stream",
     "text": [
      "generated an exception: name 'rawFileNames' is not defined\n",
      "generated an exception: name 'rawFileNames' is not defined\n",
      "generated an exception: name 'rawFileNames' is not defined\n",
      "generated an exception: name 'rawFileNames' is not defined\n",
      "generated an exception: name 'rawFileNames' is not defined\n",
      "generated an exception: name 'rawFileNames' is not defined\n",
      "generated an exception: name 'rawFileNames' is not defined\n",
      "generated an exception: name 'rawFileNames' is not defined\n",
      "generated an exception: name 'rawFileNames' is not defined\n",
      "generated an exception: name 'rawFileNames' is not defined\n",
      "generated an exception: name 'rawFileNames' is not defined\n",
      "generated an exception: name 'rawFileNames' is not defined\n",
      "generated an exception: name 'rawFileNames' is not defined\n",
      "generated an exception: name 'rawFileNames' is not defined\n",
      "generated an exception: name 'rawFileNames' is not defined\n"
     ]
    },
    {
     "name": "stderr",
     "output_type": "stream",
     "text": [
      " 73%|███████████████████████████████████████████▏               | 2880/3932 [02:36<01:01, 16.98it/s]"
     ]
    },
    {
     "name": "stdout",
     "output_type": "stream",
     "text": [
      "generated an exception: name 'rawFileNames' is not defined\n",
      "generated an exception: name 'rawFileNames' is not defined\n",
      "generated an exception: name 'rawFileNames' is not defined\n",
      "generated an exception: name 'rawFileNames' is not defined\n",
      "generated an exception: name 'rawFileNames' is not defined\n",
      "generated an exception: name 'rawFileNames' is not defined\n",
      "generated an exception: name 'rawFileNames' is not defined\n",
      "generated an exception: name 'rawFileNames' is not defined\n",
      "generated an exception: name 'rawFileNames' is not defined\n",
      "generated an exception: name 'rawFileNames' is not defined\n",
      "generated an exception: name 'rawFileNames' is not defined\n",
      "generated an exception: name 'rawFileNames' is not defined\n",
      "generated an exception: name 'rawFileNames' is not defined\n",
      "generated an exception: name 'rawFileNames' is not defined\n",
      "generated an exception: name 'rawFileNames' is not defined\n",
      "generated an exception: name 'rawFileNames' is not defined"
     ]
    },
    {
     "name": "stderr",
     "output_type": "stream",
     "text": [
      " 74%|███████████████████████████████████████████▍               | 2896/3932 [02:37<00:58, 17.64it/s]"
     ]
    },
    {
     "name": "stdout",
     "output_type": "stream",
     "text": [
      "\n",
      "generated an exception: name 'rawFileNames' is not defined\n",
      "generated an exception: name 'rawFileNames' is not defined\n",
      "generated an exception: name 'rawFileNames' is not defined\n",
      "generated an exception: name 'rawFileNames' is not defined\n",
      "generated an exception: name 'rawFileNames' is not defined\n",
      "generated an exception: name 'rawFileNames' is not defined\n",
      "generated an exception: name 'rawFileNames' is not defined\n",
      "generated an exception: name 'rawFileNames' is not defined\n",
      "generated an exception: name 'rawFileNames' is not defined\n",
      "generated an exception: name 'rawFileNames' is not defined\n",
      "generated an exception: name 'rawFileNames' is not defined\n",
      "generated an exception: name 'rawFileNames' is not defined\n",
      "generated an exception: name 'rawFileNames' is not defined\n",
      "generated an exception: name 'rawFileNames' is not defined\n",
      "generated an exception: name 'rawFileNames' is not defined\n",
      "generated an exception: name 'rawFileNames' is not defined\n"
     ]
    },
    {
     "name": "stderr",
     "output_type": "stream",
     "text": [
      " 74%|███████████████████████████████████████████▋               | 2912/3932 [02:38<00:56, 17.96it/s]"
     ]
    },
    {
     "name": "stdout",
     "output_type": "stream",
     "text": [
      "generated an exception: name 'rawFileNames' is not defined\n",
      "generated an exception: name 'rawFileNames' is not defined\n",
      "generated an exception: name 'rawFileNames' is not defined\n",
      "generated an exception: name 'rawFileNames' is not defined\n",
      "generated an exception: name 'rawFileNames' is not defined\n",
      "generated an exception: name 'rawFileNames' is not defined\n",
      "generated an exception: name 'rawFileNames' is not defined\n",
      "generated an exception: name 'rawFileNames' is not defined\n",
      "generated an exception: name 'rawFileNames' is not defined\n",
      "generated an exception: name 'rawFileNames' is not defined\n",
      "generated an exception: name 'rawFileNames' is not defined\n",
      "generated an exception: name 'rawFileNames' is not defined\n",
      "generated an exception: name 'rawFileNames' is not defined\n",
      "generated an exception: name 'rawFileNames' is not defined\n",
      "generated an exception: name 'rawFileNames' is not defined\n",
      "generated an exception: name 'rawFileNames' is not defined\n",
      "generated an exception: name 'rawFileNames' is not defined\n",
      "generated an exception: name 'rawFileNames' is not defined\n",
      "generated an exception: name 'rawFileNames' is not defined\n",
      "generated an exception: name 'rawFileNames' is not defined\n",
      "generated an exception: name 'rawFileNames' is not defined\n"
     ]
    },
    {
     "name": "stderr",
     "output_type": "stream",
     "text": [
      " 74%|███████████████████████████████████████████▉               | 2928/3932 [02:38<00:54, 18.28it/s]"
     ]
    },
    {
     "name": "stdout",
     "output_type": "stream",
     "text": [
      "generated an exception: name 'rawFileNames' is not defined\n",
      "generated an exception: name 'rawFileNames' is not defined\n",
      "generated an exception: name 'rawFileNames' is not defined\n",
      "generated an exception: name 'rawFileNames' is not defined\n",
      "generated an exception: name 'rawFileNames' is not defined\n",
      "generated an exception: name 'rawFileNames' is not defined\n",
      "generated an exception: name 'rawFileNames' is not defined\n",
      "generated an exception: name 'rawFileNames' is not defined\n",
      "generated an exception: name 'rawFileNames' is not defined\n",
      "generated an exception: name 'rawFileNames' is not defined\n"
     ]
    },
    {
     "name": "stderr",
     "output_type": "stream",
     "text": [
      " 75%|████████████████████████████████████████████▏              | 2944/3932 [02:39<00:52, 18.66it/s]"
     ]
    },
    {
     "name": "stdout",
     "output_type": "stream",
     "text": [
      "generated an exception: name 'rawFileNames' is not defined\n",
      "generated an exception: name 'rawFileNames' is not defined\n",
      "generated an exception: name 'rawFileNames' is not defined\n",
      "generated an exception: name 'rawFileNames' is not defined\n",
      "generated an exception: name 'rawFileNames' is not defined\n",
      "generated an exception: name 'rawFileNames' is not defined\n",
      "generated an exception: name 'rawFileNames' is not defined\n",
      "generated an exception: name 'rawFileNames' is not defined\n",
      "generated an exception: name 'rawFileNames' is not defined\n",
      "generated an exception: name 'rawFileNames' is not defined\n",
      "generated an exception: name 'rawFileNames' is not defined\n",
      "generated an exception: name 'rawFileNames' is not defined\n",
      "generated an exception: name 'rawFileNames' is not defined\n",
      "generated an exception: name 'rawFileNames' is not defined\n",
      "generated an exception: name 'rawFileNames' is not defined\n",
      "generated an exception: name 'rawFileNames' is not defined\n"
     ]
    },
    {
     "name": "stderr",
     "output_type": "stream",
     "text": [
      " 75%|████████████████████████████████████████████▍              | 2960/3932 [02:40<00:51, 18.91it/s]"
     ]
    },
    {
     "name": "stdout",
     "output_type": "stream",
     "text": [
      "generated an exception: name 'rawFileNames' is not defined\n",
      "generated an exception: name 'rawFileNames' is not defined\n",
      "generated an exception: name 'rawFileNames' is not defined\n",
      "generated an exception: name 'rawFileNames' is not defined\n",
      "generated an exception: name 'rawFileNames' is not defined\n",
      "generated an exception: name 'rawFileNames' is not defined\n",
      "generated an exception: name 'rawFileNames' is not defined\n",
      "generated an exception: name 'rawFileNames' is not defined\n",
      "generated an exception: name 'rawFileNames' is not defined\n",
      "generated an exception: name 'rawFileNames' is not defined\n",
      "generated an exception: name 'rawFileNames' is not defined\n",
      "generated an exception: name 'rawFileNames' is not defined\n",
      "generated an exception: name 'rawFileNames' is not defined\n",
      "generated an exception: name 'rawFileNames' is not defined\n",
      "generated an exception: name 'rawFileNames' is not defined\n",
      "generated an exception: name 'rawFileNames' is not defined\n",
      "generated an exception: name 'rawFileNames' is not defined\n",
      "generated an exception: name 'rawFileNames' is not defined"
     ]
    },
    {
     "name": "stderr",
     "output_type": "stream",
     "text": [
      " 76%|████████████████████████████████████████████▋              | 2976/3932 [02:41<00:50, 18.94it/s]"
     ]
    },
    {
     "name": "stdout",
     "output_type": "stream",
     "text": [
      "\n",
      "generated an exception: name 'rawFileNames' is not defined\n",
      "generated an exception: name 'rawFileNames' is not defined\n",
      "generated an exception: name 'rawFileNames' is not defined\n",
      "generated an exception: name 'rawFileNames' is not defined\n",
      "generated an exception: name 'rawFileNames' is not defined\n",
      "generated an exception: name 'rawFileNames' is not defined\n",
      "generated an exception: name 'rawFileNames' is not defined\n",
      "generated an exception: name 'rawFileNames' is not defined\n",
      "generated an exception: name 'rawFileNames' is not defined\n",
      "generated an exception: name 'rawFileNames' is not defined\n",
      "generated an exception: name 'rawFileNames' is not defined\n",
      "generated an exception: name 'rawFileNames' is not defined\n",
      "generated an exception: name 'rawFileNames' is not defined\n",
      "generated an exception: name 'rawFileNames' is not defined\n"
     ]
    },
    {
     "name": "stderr",
     "output_type": "stream",
     "text": [
      " 76%|████████████████████████████████████████████▉              | 2992/3932 [02:42<00:49, 18.92it/s]"
     ]
    },
    {
     "name": "stdout",
     "output_type": "stream",
     "text": [
      "generated an exception: name 'rawFileNames' is not defined\n",
      "generated an exception: name 'rawFileNames' is not defined\n",
      "generated an exception: name 'rawFileNames' is not defined\n",
      "generated an exception: name 'rawFileNames' is not defined\n",
      "generated an exception: name 'rawFileNames' is not defined\n",
      "generated an exception: name 'rawFileNames' is not defined\n",
      "generated an exception: name 'rawFileNames' is not defined\n",
      "generated an exception: name 'rawFileNames' is not defined\n",
      "generated an exception: name 'rawFileNames' is not defined\n",
      "generated an exception: name 'rawFileNames' is not defined\n",
      "generated an exception: name 'rawFileNames' is not defined\n",
      "generated an exception: name 'rawFileNames' is not defined\n",
      "generated an exception: name 'rawFileNames' is not defined\n",
      "generated an exception: name 'rawFileNames' is not defined\n",
      "generated an exception: name 'rawFileNames' is not defined\n",
      "generated an exception: name 'rawFileNames' is not defined\n",
      "generated an exception: name 'rawFileNames' is not defined\n"
     ]
    },
    {
     "name": "stderr",
     "output_type": "stream",
     "text": [
      " 77%|█████████████████████████████████████████████▏             | 3008/3932 [02:43<00:48, 19.14it/s]"
     ]
    },
    {
     "name": "stdout",
     "output_type": "stream",
     "text": [
      "generated an exception: name 'rawFileNames' is not defined\n",
      "generated an exception: name 'rawFileNames' is not defined\n",
      "generated an exception: name 'rawFileNames' is not defined\n",
      "generated an exception: name 'rawFileNames' is not defined\n",
      "generated an exception: name 'rawFileNames' is not defined\n",
      "generated an exception: name 'rawFileNames' is not defined\n",
      "generated an exception: name 'rawFileNames' is not defined\n",
      "generated an exception: name 'rawFileNames' is not defined\n",
      "generated an exception: name 'rawFileNames' is not defined\n",
      "generated an exception: name 'rawFileNames' is not defined\n",
      "generated an exception: name 'rawFileNames' is not defined\n",
      "generated an exception: name 'rawFileNames' is not defined\n",
      "generated an exception: name 'rawFileNames' is not defined\n",
      "generated an exception: name 'rawFileNames' is not defined\n",
      "generated an exception: name 'rawFileNames' is not defined\n"
     ]
    },
    {
     "name": "stderr",
     "output_type": "stream",
     "text": [
      " 77%|█████████████████████████████████████████████▍             | 3024/3932 [02:43<00:47, 19.27it/s]"
     ]
    },
    {
     "name": "stdout",
     "output_type": "stream",
     "text": [
      "generated an exception: name 'rawFileNames' is not defined\n",
      "generated an exception: name 'rawFileNames' is not defined\n",
      "generated an exception: name 'rawFileNames' is not defined\n",
      "generated an exception: name 'rawFileNames' is not defined\n",
      "generated an exception: name 'rawFileNames' is not defined\n",
      "generated an exception: name 'rawFileNames' is not defined\n",
      "generated an exception: name 'rawFileNames' is not defined\n",
      "generated an exception: name 'rawFileNames' is not defined\n",
      "generated an exception: name 'rawFileNames' is not defined\n",
      "generated an exception: name 'rawFileNames' is not defined\n",
      "generated an exception: name 'rawFileNames' is not defined\n",
      "generated an exception: name 'rawFileNames' is not defined\n",
      "generated an exception: name 'rawFileNames' is not defined\n",
      "generated an exception: name 'rawFileNames' is not defined\n",
      "generated an exception: name 'rawFileNames' is not defined\n",
      "generated an exception: name 'rawFileNames' is not defined\n"
     ]
    },
    {
     "name": "stderr",
     "output_type": "stream",
     "text": [
      " 77%|█████████████████████████████████████████████▌             | 3040/3932 [02:44<00:46, 19.39it/s]"
     ]
    },
    {
     "name": "stdout",
     "output_type": "stream",
     "text": [
      "generated an exception: name 'rawFileNames' is not defined\n",
      "generated an exception: name 'rawFileNames' is not defined\n",
      "generated an exception: name 'rawFileNames' is not defined\n",
      "generated an exception: name 'rawFileNames' is not defined\n",
      "generated an exception: name 'rawFileNames' is not defined\n",
      "generated an exception: name 'rawFileNames' is not defined\n",
      "generated an exception: name 'rawFileNames' is not defined\n",
      "generated an exception: name 'rawFileNames' is not defined\n",
      "generated an exception: name 'rawFileNames' is not defined\n",
      "generated an exception: name 'rawFileNames' is not defined\n",
      "generated an exception: name 'rawFileNames' is not defined\n",
      "generated an exception: name 'rawFileNames' is not defined\n",
      "generated an exception: name 'rawFileNames' is not defined\n",
      "generated an exception: name 'rawFileNames' is not defined\n",
      "generated an exception: name 'rawFileNames' is not defined\n",
      "generated an exception: name 'rawFileNames' is not defined\n"
     ]
    },
    {
     "name": "stderr",
     "output_type": "stream",
     "text": [
      " 78%|█████████████████████████████████████████████▊             | 3056/3932 [02:45<00:45, 19.35it/s]"
     ]
    },
    {
     "name": "stdout",
     "output_type": "stream",
     "text": [
      "generated an exception: name 'rawFileNames' is not defined\n",
      "generated an exception: name 'rawFileNames' is not defined\n",
      "generated an exception: name 'rawFileNames' is not defined\n",
      "generated an exception: name 'rawFileNames' is not defined\n",
      "generated an exception: name 'rawFileNames' is not defined\n",
      "generated an exception: name 'rawFileNames' is not defined\n",
      "generated an exception: name 'rawFileNames' is not defined\n",
      "generated an exception: name 'rawFileNames' is not defined\n",
      "generated an exception: name 'rawFileNames' is not defined\n",
      "generated an exception: name 'rawFileNames' is not defined\n",
      "generated an exception: name 'rawFileNames' is not defined\n",
      "generated an exception: name 'rawFileNames' is not defined\n",
      "generated an exception: name 'rawFileNames' is not defined\n",
      "generated an exception: name 'rawFileNames' is not defined\n",
      "generated an exception: name 'rawFileNames' is not defined\n",
      "generated an exception: name 'rawFileNames' is not defined\n",
      "generated an exception: name 'rawFileNames' is not defined"
     ]
    },
    {
     "name": "stderr",
     "output_type": "stream",
     "text": [
      " 78%|██████████████████████████████████████████████             | 3072/3932 [02:46<00:44, 19.50it/s]"
     ]
    },
    {
     "name": "stdout",
     "output_type": "stream",
     "text": [
      "\n",
      "generated an exception: name 'rawFileNames' is not defined\n",
      "generated an exception: name 'rawFileNames' is not defined\n",
      "generated an exception: name 'rawFileNames' is not defined\n",
      "generated an exception: name 'rawFileNames' is not defined\n",
      "generated an exception: name 'rawFileNames' is not defined\n",
      "generated an exception: name 'rawFileNames' is not defined\n",
      "generated an exception: name 'rawFileNames' is not defined\n",
      "generated an exception: name 'rawFileNames' is not defined\n",
      "generated an exception: name 'rawFileNames' is not defined\n",
      "generated an exception: name 'rawFileNames' is not defined\n",
      "generated an exception: name 'rawFileNames' is not defined\n",
      "generated an exception: name 'rawFileNames' is not defined\n",
      "generated an exception: name 'rawFileNames' is not defined\n",
      "generated an exception: name 'rawFileNames' is not defined\n",
      "generated an exception: name 'rawFileNames' is not defined\n"
     ]
    },
    {
     "name": "stderr",
     "output_type": "stream",
     "text": [
      " 79%|██████████████████████████████████████████████▎            | 3088/3932 [02:47<00:43, 19.47it/s]"
     ]
    },
    {
     "name": "stdout",
     "output_type": "stream",
     "text": [
      "generated an exception: name 'rawFileNames' is not defined\n",
      "generated an exception: name 'rawFileNames' is not defined\n",
      "generated an exception: name 'rawFileNames' is not defined\n",
      "generated an exception: name 'rawFileNames' is not defined\n",
      "generated an exception: name 'rawFileNames' is not defined\n",
      "generated an exception: name 'rawFileNames' is not defined\n",
      "generated an exception: name 'rawFileNames' is not defined\n",
      "generated an exception: name 'rawFileNames' is not defined\n",
      "generated an exception: name 'rawFileNames' is not defined\n",
      "generated an exception: name 'rawFileNames' is not defined\n",
      "generated an exception: name 'rawFileNames' is not defined\n",
      "generated an exception: name 'rawFileNames' is not defined\n",
      "generated an exception: name 'rawFileNames' is not defined\n",
      "generated an exception: name 'rawFileNames' is not defined\n",
      "generated an exception: name 'rawFileNames' is not defined\n",
      "generated an exception: name 'rawFileNames' is not defined\n",
      "generated an exception: name 'rawFileNames' is not defined"
     ]
    },
    {
     "name": "stderr",
     "output_type": "stream",
     "text": [
      " 79%|██████████████████████████████████████████████▌            | 3104/3932 [02:48<00:42, 19.50it/s]"
     ]
    },
    {
     "name": "stdout",
     "output_type": "stream",
     "text": [
      "\n",
      "generated an exception: name 'rawFileNames' is not defined\n",
      "generated an exception: name 'rawFileNames' is not defined\n",
      "generated an exception: name 'rawFileNames' is not defined\n",
      "generated an exception: name 'rawFileNames' is not defined\n",
      "generated an exception: name 'rawFileNames' is not defined\n",
      "generated an exception: name 'rawFileNames' is not defined\n",
      "generated an exception: name 'rawFileNames' is not defined\n",
      "generated an exception: name 'rawFileNames' is not defined\n",
      "generated an exception: name 'rawFileNames' is not defined\n",
      "generated an exception: name 'rawFileNames' is not defined\n",
      "generated an exception: name 'rawFileNames' is not defined\n",
      "generated an exception: name 'rawFileNames' is not defined\n",
      "generated an exception: name 'rawFileNames' is not defined\n",
      "generated an exception: name 'rawFileNames' is not defined\n",
      "generated an exception: name 'rawFileNames' is not defined\n",
      "generated an exception: name 'rawFileNames' is not defined\n"
     ]
    },
    {
     "name": "stderr",
     "output_type": "stream",
     "text": [
      " 79%|██████████████████████████████████████████████▊            | 3120/3932 [02:48<00:41, 19.65it/s]"
     ]
    },
    {
     "name": "stdout",
     "output_type": "stream",
     "text": [
      "generated an exception: name 'rawFileNames' is not defined\n",
      "generated an exception: name 'rawFileNames' is not defined\n",
      "generated an exception: name 'rawFileNames' is not defined\n",
      "generated an exception: name 'rawFileNames' is not defined\n",
      "generated an exception: name 'rawFileNames' is not defined\n",
      "generated an exception: name 'rawFileNames' is not defined\n",
      "generated an exception: name 'rawFileNames' is not defined\n",
      "generated an exception: name 'rawFileNames' is not defined\n",
      "generated an exception: name 'rawFileNames' is not defined\n",
      "generated an exception: name 'rawFileNames' is not defined\n",
      "generated an exception: name 'rawFileNames' is not defined\n",
      "generated an exception: name 'rawFileNames' is not defined\n",
      "generated an exception: name 'rawFileNames' is not defined\n",
      "generated an exception: name 'rawFileNames' is not defined\n",
      "generated an exception: name 'rawFileNames' is not defined\n",
      "generated an exception: name 'rawFileNames' is not defined\n",
      "generated an exception: name 'rawFileNames' is not defined\n"
     ]
    },
    {
     "name": "stderr",
     "output_type": "stream",
     "text": [
      " 80%|███████████████████████████████████████████████            | 3136/3932 [02:49<00:40, 19.48it/s]"
     ]
    },
    {
     "name": "stdout",
     "output_type": "stream",
     "text": [
      "generated an exception: name 'rawFileNames' is not defined\n",
      "generated an exception: name 'rawFileNames' is not defined\n",
      "generated an exception: name 'rawFileNames' is not defined\n",
      "generated an exception: name 'rawFileNames' is not defined\n",
      "generated an exception: name 'rawFileNames' is not defined\n",
      "generated an exception: name 'rawFileNames' is not defined\n",
      "generated an exception: name 'rawFileNames' is not defined\n",
      "generated an exception: name 'rawFileNames' is not defined\n",
      "generated an exception: name 'rawFileNames' is not defined\n",
      "generated an exception: name 'rawFileNames' is not defined\n",
      "generated an exception: name 'rawFileNames' is not defined\n",
      "generated an exception: name 'rawFileNames' is not defined\n",
      "generated an exception: name 'rawFileNames' is not defined\n",
      "generated an exception: name 'rawFileNames' is not defined\n"
     ]
    },
    {
     "name": "stderr",
     "output_type": "stream",
     "text": [
      " 80%|███████████████████████████████████████████████▎           | 3152/3932 [02:50<00:40, 19.42it/s]"
     ]
    },
    {
     "name": "stdout",
     "output_type": "stream",
     "text": [
      "generated an exception: name 'rawFileNames' is not defined\n",
      "generated an exception: name 'rawFileNames' is not defined\n",
      "generated an exception: name 'rawFileNames' is not defined\n",
      "generated an exception: name 'rawFileNames' is not defined\n",
      "generated an exception: name 'rawFileNames' is not defined\n",
      "generated an exception: name 'rawFileNames' is not defined\n",
      "generated an exception: name 'rawFileNames' is not defined\n",
      "generated an exception: name 'rawFileNames' is not defined\n",
      "generated an exception: name 'rawFileNames' is not defined\n",
      "generated an exception: name 'rawFileNames' is not defined\n",
      "generated an exception: name 'rawFileNames' is not defined\n",
      "generated an exception: name 'rawFileNames' is not defined\n",
      "generated an exception: name 'rawFileNames' is not defined\n",
      "generated an exception: name 'rawFileNames' is not defined\n",
      "generated an exception: name 'rawFileNames' is not defined\n",
      "generated an exception: name 'rawFileNames' is not defined\n"
     ]
    },
    {
     "name": "stderr",
     "output_type": "stream",
     "text": [
      " 81%|███████████████████████████████████████████████▌           | 3168/3932 [02:51<00:39, 19.52it/s]"
     ]
    },
    {
     "name": "stdout",
     "output_type": "stream",
     "text": [
      "generated an exception: name 'rawFileNames' is not defined\n",
      "generated an exception: name 'rawFileNames' is not defined\n",
      "generated an exception: name 'rawFileNames' is not defined\n",
      "generated an exception: name 'rawFileNames' is not defined\n",
      "generated an exception: name 'rawFileNames' is not defined\n",
      "generated an exception: name 'rawFileNames' is not defined\n",
      "generated an exception: name 'rawFileNames' is not defined\n",
      "generated an exception: name 'rawFileNames' is not defined\n",
      "generated an exception: name 'rawFileNames' is not defined\n",
      "generated an exception: name 'rawFileNames' is not defined\n",
      "generated an exception: name 'rawFileNames' is not defined\n",
      "generated an exception: name 'rawFileNames' is not defined\n",
      "generated an exception: name 'rawFileNames' is not defined\n",
      "generated an exception: name 'rawFileNames' is not defined\n",
      "generated an exception: name 'rawFileNames' is not defined\n",
      "generated an exception: name 'rawFileNames' is not defined\n",
      "generated an exception: name 'rawFileNames' is not defined\n",
      "generated an exception: name 'rawFileNames' is not defined"
     ]
    },
    {
     "name": "stderr",
     "output_type": "stream",
     "text": [
      " 81%|███████████████████████████████████████████████▊           | 3184/3932 [02:52<00:38, 19.45it/s]"
     ]
    },
    {
     "name": "stdout",
     "output_type": "stream",
     "text": [
      "\n",
      "generated an exception: name 'rawFileNames' is not defined\n",
      "generated an exception: name 'rawFileNames' is not defined\n",
      "generated an exception: name 'rawFileNames' is not defined\n",
      "generated an exception: name 'rawFileNames' is not defined\n",
      "generated an exception: name 'rawFileNames' is not defined\n",
      "generated an exception: name 'rawFileNames' is not defined\n",
      "generated an exception: name 'rawFileNames' is not defined\n",
      "generated an exception: name 'rawFileNames' is not defined\n",
      "generated an exception: name 'rawFileNames' is not defined\n",
      "generated an exception: name 'rawFileNames' is not defined\n",
      "generated an exception: name 'rawFileNames' is not defined\n",
      "generated an exception: name 'rawFileNames' is not defined\n",
      "generated an exception: name 'rawFileNames' is not defined\n",
      "generated an exception: name 'rawFileNames' is not defined\n",
      "generated an exception: name 'rawFileNames' is not defined\n",
      "generated an exception: name 'rawFileNames' is not defined\n"
     ]
    },
    {
     "name": "stderr",
     "output_type": "stream",
     "text": [
      " 81%|████████████████████████████████████████████████           | 3200/3932 [02:52<00:37, 19.63it/s]"
     ]
    },
    {
     "name": "stdout",
     "output_type": "stream",
     "text": [
      "generated an exception: name 'rawFileNames' is not defined\n",
      "generated an exception: name 'rawFileNames' is not defined\n",
      "generated an exception: name 'rawFileNames' is not defined\n",
      "generated an exception: name 'rawFileNames' is not defined\n",
      "generated an exception: name 'rawFileNames' is not defined\n",
      "generated an exception: name 'rawFileNames' is not defined\n",
      "generated an exception: name 'rawFileNames' is not defined\n",
      "generated an exception: name 'rawFileNames' is not defined\n",
      "generated an exception: name 'rawFileNames' is not defined\n",
      "generated an exception: name 'rawFileNames' is not defined\n",
      "generated an exception: name 'rawFileNames' is not defined\n",
      "generated an exception: name 'rawFileNames' is not defined\n",
      "generated an exception: name 'rawFileNames' is not defined\n",
      "generated an exception: name 'rawFileNames' is not defined\n",
      "generated an exception: name 'rawFileNames' is not defined\n",
      "generated an exception: name 'rawFileNames' is not defined"
     ]
    },
    {
     "name": "stderr",
     "output_type": "stream",
     "text": [
      " 82%|████████████████████████████████████████████████▎          | 3216/3932 [02:53<00:36, 19.71it/s]"
     ]
    },
    {
     "name": "stdout",
     "output_type": "stream",
     "text": [
      "\n",
      "generated an exception: name 'rawFileNames' is not defined\n",
      "generated an exception: name 'rawFileNames' is not defined\n",
      "generated an exception: name 'rawFileNames' is not defined\n",
      "generated an exception: name 'rawFileNames' is not defined\n",
      "generated an exception: name 'rawFileNames' is not defined\n",
      "generated an exception: name 'rawFileNames' is not defined\n",
      "generated an exception: name 'rawFileNames' is not defined\n",
      "generated an exception: name 'rawFileNames' is not defined\n",
      "generated an exception: name 'rawFileNames' is not defined\n",
      "generated an exception: name 'rawFileNames' is not defined\n",
      "generated an exception: name 'rawFileNames' is not defined\n",
      "generated an exception: name 'rawFileNames' is not defined\n",
      "generated an exception: name 'rawFileNames' is not defined\n",
      "generated an exception: name 'rawFileNames' is not defined\n",
      "generated an exception: name 'rawFileNames' is not defined\n",
      "generated an exception: name 'rawFileNames' is not defined\n"
     ]
    },
    {
     "name": "stderr",
     "output_type": "stream",
     "text": [
      " 82%|████████████████████████████████████████████████▍          | 3232/3932 [02:54<00:35, 19.63it/s]"
     ]
    },
    {
     "name": "stdout",
     "output_type": "stream",
     "text": [
      "generated an exception: name 'rawFileNames' is not defined\n",
      "generated an exception: name 'rawFileNames' is not defined\n",
      "generated an exception: name 'rawFileNames' is not defined\n",
      "generated an exception: name 'rawFileNames' is not defined\n",
      "generated an exception: name 'rawFileNames' is not defined\n",
      "generated an exception: name 'rawFileNames' is not defined\n",
      "generated an exception: name 'rawFileNames' is not defined\n",
      "generated an exception: name 'rawFileNames' is not defined\n",
      "generated an exception: name 'rawFileNames' is not defined\n",
      "generated an exception: name 'rawFileNames' is not defined\n",
      "generated an exception: name 'rawFileNames' is not defined\n",
      "generated an exception: name 'rawFileNames' is not defined\n",
      "generated an exception: name 'rawFileNames' is not defined\n",
      "generated an exception: name 'rawFileNames' is not defined\n",
      "generated an exception: name 'rawFileNames' is not defined\n"
     ]
    },
    {
     "name": "stderr",
     "output_type": "stream",
     "text": [
      " 83%|████████████████████████████████████████████████▋          | 3248/3932 [02:55<00:35, 19.42it/s]"
     ]
    },
    {
     "name": "stdout",
     "output_type": "stream",
     "text": [
      "generated an exception: name 'rawFileNames' is not defined\n",
      "generated an exception: name 'rawFileNames' is not defined\n",
      "generated an exception: name 'rawFileNames' is not defined\n",
      "generated an exception: name 'rawFileNames' is not defined\n",
      "generated an exception: name 'rawFileNames' is not defined\n",
      "generated an exception: name 'rawFileNames' is not defined\n",
      "generated an exception: name 'rawFileNames' is not defined\n",
      "generated an exception: name 'rawFileNames' is not defined\n",
      "generated an exception: name 'rawFileNames' is not defined\n",
      "generated an exception: name 'rawFileNames' is not defined\n",
      "generated an exception: name 'rawFileNames' is not defined\n",
      "generated an exception: name 'rawFileNames' is not defined\n",
      "generated an exception: name 'rawFileNames' is not defined\n",
      "generated an exception: name 'rawFileNames' is not defined\n",
      "generated an exception: name 'rawFileNames' is not defined\n",
      "generated an exception: name 'rawFileNames' is not defined"
     ]
    },
    {
     "name": "stderr",
     "output_type": "stream",
     "text": [
      " 83%|████████████████████████████████████████████████▉          | 3264/3932 [02:56<00:34, 19.49it/s]"
     ]
    },
    {
     "name": "stdout",
     "output_type": "stream",
     "text": [
      "\n",
      "generated an exception: name 'rawFileNames' is not defined\n",
      "generated an exception: name 'rawFileNames' is not defined\n",
      "generated an exception: name 'rawFileNames' is not defined\n",
      "generated an exception: name 'rawFileNames' is not defined\n",
      "generated an exception: name 'rawFileNames' is not defined\n",
      "generated an exception: name 'rawFileNames' is not defined\n",
      "generated an exception: name 'rawFileNames' is not defined\n",
      "generated an exception: name 'rawFileNames' is not defined\n",
      "generated an exception: name 'rawFileNames' is not defined\n",
      "generated an exception: name 'rawFileNames' is not defined\n",
      "generated an exception: name 'rawFileNames' is not defined\n",
      "generated an exception: name 'rawFileNames' is not defined\n",
      "generated an exception: name 'rawFileNames' is not defined\n",
      "generated an exception: name 'rawFileNames' is not defined\n",
      "generated an exception: name 'rawFileNames' is not defined\n",
      "generated an exception: name 'rawFileNames' is not defined"
     ]
    },
    {
     "name": "stderr",
     "output_type": "stream",
     "text": [
      " 83%|█████████████████████████████████████████████████▏         | 3280/3932 [02:56<00:33, 19.72it/s]"
     ]
    },
    {
     "name": "stdout",
     "output_type": "stream",
     "text": [
      "\n",
      "generated an exception: name 'rawFileNames' is not defined\n",
      "generated an exception: name 'rawFileNames' is not defined\n",
      "generated an exception: name 'rawFileNames' is not defined\n",
      "generated an exception: name 'rawFileNames' is not defined\n",
      "generated an exception: name 'rawFileNames' is not defined\n",
      "generated an exception: name 'rawFileNames' is not defined\n",
      "generated an exception: name 'rawFileNames' is not defined\n",
      "generated an exception: name 'rawFileNames' is not defined\n",
      "generated an exception: name 'rawFileNames' is not defined\n",
      "generated an exception: name 'rawFileNames' is not defined\n",
      "generated an exception: name 'rawFileNames' is not defined\n",
      "generated an exception: name 'rawFileNames' is not defined\n",
      "generated an exception: name 'rawFileNames' is not defined\n",
      "generated an exception: name 'rawFileNames' is not defined\n",
      "generated an exception: name 'rawFileNames' is not defined\n",
      "generated an exception: name 'rawFileNames' is not defined\n",
      "generated an exception: name 'rawFileNames' is not defined\n",
      "generated an exception: name 'rawFileNames' is not defined\n",
      "generated an exception: name 'rawFileNames' is not defined\n",
      "generated an exception: name 'rawFileNames' is not defined"
     ]
    },
    {
     "name": "stderr",
     "output_type": "stream",
     "text": [
      " 84%|█████████████████████████████████████████████████▍         | 3296/3932 [02:57<00:32, 19.67it/s]"
     ]
    },
    {
     "name": "stdout",
     "output_type": "stream",
     "text": [
      "\n",
      "generated an exception: name 'rawFileNames' is not defined\n",
      "generated an exception: name 'rawFileNames' is not defined\n",
      "generated an exception: name 'rawFileNames' is not defined\n",
      "generated an exception: name 'rawFileNames' is not defined\n",
      "generated an exception: name 'rawFileNames' is not defined\n",
      "generated an exception: name 'rawFileNames' is not defined\n",
      "generated an exception: name 'rawFileNames' is not defined\n",
      "generated an exception: name 'rawFileNames' is not defined\n",
      "generated an exception: name 'rawFileNames' is not defined\n",
      "generated an exception: name 'rawFileNames' is not defined\n",
      "generated an exception: name 'rawFileNames' is not defined\n",
      "generated an exception: name 'rawFileNames' is not defined\n"
     ]
    },
    {
     "name": "stderr",
     "output_type": "stream",
     "text": [
      " 84%|█████████████████████████████████████████████████▋         | 3312/3932 [02:58<00:32, 19.25it/s]"
     ]
    },
    {
     "name": "stdout",
     "output_type": "stream",
     "text": [
      "generated an exception: name 'rawFileNames' is not defined\n",
      "generated an exception: name 'rawFileNames' is not defined\n",
      "generated an exception: name 'rawFileNames' is not defined\n",
      "generated an exception: name 'rawFileNames' is not defined\n",
      "generated an exception: name 'rawFileNames' is not defined\n",
      "generated an exception: name 'rawFileNames' is not defined\n",
      "generated an exception: name 'rawFileNames' is not defined\n",
      "generated an exception: name 'rawFileNames' is not defined\n",
      "generated an exception: name 'rawFileNames' is not defined\n",
      "generated an exception: name 'rawFileNames' is not defined\n",
      "generated an exception: name 'rawFileNames' is not defined\n",
      "generated an exception: name 'rawFileNames' is not defined\n",
      "generated an exception: name 'rawFileNames' is not defined\n",
      "generated an exception: name 'rawFileNames' is not defined\n",
      "generated an exception: name 'rawFileNames' is not defined\n",
      "generated an exception: name 'rawFileNames' is not defined\n",
      "generated an exception: name 'rawFileNames' is not defined\n",
      "generated an exception: name 'rawFileNames' is not defined\n",
      "generated an exception: name 'rawFileNames' is not defined"
     ]
    },
    {
     "name": "stderr",
     "output_type": "stream",
     "text": [
      " 85%|█████████████████████████████████████████████████▉         | 3328/3932 [02:59<00:31, 19.22it/s]"
     ]
    },
    {
     "name": "stdout",
     "output_type": "stream",
     "text": [
      "\n",
      "generated an exception: name 'rawFileNames' is not defined\n",
      "generated an exception: name 'rawFileNames' is not defined\n",
      "generated an exception: name 'rawFileNames' is not defined\n",
      "generated an exception: name 'rawFileNames' is not defined\n",
      "generated an exception: name 'rawFileNames' is not defined\n",
      "generated an exception: name 'rawFileNames' is not defined\n",
      "generated an exception: name 'rawFileNames' is not defined\n",
      "generated an exception: name 'rawFileNames' is not defined\n",
      "generated an exception: name 'rawFileNames' is not defined\n",
      "generated an exception: name 'rawFileNames' is not defined\n",
      "generated an exception: name 'rawFileNames' is not defined\n",
      "generated an exception: name 'rawFileNames' is not defined\n",
      "generated an exception: name 'rawFileNames' is not defined"
     ]
    },
    {
     "name": "stderr",
     "output_type": "stream",
     "text": [
      " 85%|██████████████████████████████████████████████████▏        | 3344/3932 [03:00<00:30, 19.50it/s]"
     ]
    },
    {
     "name": "stdout",
     "output_type": "stream",
     "text": [
      "\n",
      "generated an exception: name 'rawFileNames' is not defined\n",
      "generated an exception: name 'rawFileNames' is not defined\n",
      "generated an exception: name 'rawFileNames' is not defined\n",
      "generated an exception: name 'rawFileNames' is not defined\n",
      "generated an exception: name 'rawFileNames' is not defined\n",
      "generated an exception: name 'rawFileNames' is not defined\n",
      "generated an exception: name 'rawFileNames' is not defined\n",
      "generated an exception: name 'rawFileNames' is not defined\n",
      "generated an exception: name 'rawFileNames' is not defined\n",
      "generated an exception: name 'rawFileNames' is not defined\n",
      "generated an exception: name 'rawFileNames' is not defined\n",
      "generated an exception: name 'rawFileNames' is not defined\n",
      "generated an exception: name 'rawFileNames' is not defined\n",
      "generated an exception: name 'rawFileNames' is not defined\n",
      "generated an exception: name 'rawFileNames' is not defined\n",
      "generated an exception: name 'rawFileNames' is not defined\n"
     ]
    },
    {
     "name": "stderr",
     "output_type": "stream",
     "text": [
      " 85%|██████████████████████████████████████████████████▍        | 3360/3932 [03:01<00:29, 19.47it/s]"
     ]
    },
    {
     "name": "stdout",
     "output_type": "stream",
     "text": [
      "generated an exception: name 'rawFileNames' is not defined\n",
      "generated an exception: name 'rawFileNames' is not defined\n",
      "generated an exception: name 'rawFileNames' is not defined\n",
      "generated an exception: name 'rawFileNames' is not defined\n",
      "generated an exception: name 'rawFileNames' is not defined\n",
      "generated an exception: name 'rawFileNames' is not defined\n",
      "generated an exception: name 'rawFileNames' is not defined\n",
      "generated an exception: name 'rawFileNames' is not defined\n",
      "generated an exception: name 'rawFileNames' is not defined\n",
      "generated an exception: name 'rawFileNames' is not defined\n",
      "generated an exception: name 'rawFileNames' is not defined\n",
      "generated an exception: name 'rawFileNames' is not defined\n",
      "generated an exception: name 'rawFileNames' is not defined\n",
      "generated an exception: name 'rawFileNames' is not defined\n",
      "generated an exception: name 'rawFileNames' is not defined\n"
     ]
    },
    {
     "name": "stderr",
     "output_type": "stream",
     "text": [
      " 86%|██████████████████████████████████████████████████▋        | 3376/3932 [03:01<00:28, 19.81it/s]"
     ]
    },
    {
     "name": "stdout",
     "output_type": "stream",
     "text": [
      "generated an exception: name 'rawFileNames' is not defined\n",
      "generated an exception: name 'rawFileNames' is not defined\n",
      "generated an exception: name 'rawFileNames' is not defined\n",
      "generated an exception: name 'rawFileNames' is not defined\n",
      "generated an exception: name 'rawFileNames' is not defined\n",
      "generated an exception: name 'rawFileNames' is not defined\n",
      "generated an exception: name 'rawFileNames' is not defined\n",
      "generated an exception: name 'rawFileNames' is not defined\n",
      "generated an exception: name 'rawFileNames' is not defined\n",
      "generated an exception: name 'rawFileNames' is not defined\n",
      "generated an exception: name 'rawFileNames' is not defined\n",
      "generated an exception: name 'rawFileNames' is not defined\n",
      "generated an exception: name 'rawFileNames' is not defined\n",
      "generated an exception: name 'rawFileNames' is not defined\n",
      "generated an exception: name 'rawFileNames' is not defined\n",
      "generated an exception: name 'rawFileNames' is not defined\n",
      "generated an exception: name 'rawFileNames' is not defined\n"
     ]
    },
    {
     "name": "stderr",
     "output_type": "stream",
     "text": [
      " 86%|██████████████████████████████████████████████████▉        | 3392/3932 [03:02<00:27, 19.59it/s]"
     ]
    },
    {
     "name": "stdout",
     "output_type": "stream",
     "text": [
      "generated an exception: name 'rawFileNames' is not defined\n",
      "generated an exception: name 'rawFileNames' is not defined\n",
      "generated an exception: name 'rawFileNames' is not defined\n",
      "generated an exception: name 'rawFileNames' is not defined\n",
      "generated an exception: name 'rawFileNames' is not defined\n",
      "generated an exception: name 'rawFileNames' is not defined\n",
      "generated an exception: name 'rawFileNames' is not defined\n",
      "generated an exception: name 'rawFileNames' is not defined\n",
      "generated an exception: name 'rawFileNames' is not defined\n",
      "generated an exception: name 'rawFileNames' is not defined\n",
      "generated an exception: name 'rawFileNames' is not defined\n",
      "generated an exception: name 'rawFileNames' is not defined\n",
      "generated an exception: name 'rawFileNames' is not defined\n",
      "generated an exception: name 'rawFileNames' is not defined\n",
      "generated an exception: name 'rawFileNames' is not defined\n",
      "generated an exception: name 'rawFileNames' is not defined\n",
      "generated an exception: name 'rawFileNames' is not defined\n",
      "generated an exception: name 'rawFileNames' is not defined\n",
      "generated an exception: name 'rawFileNames' is not defined"
     ]
    },
    {
     "name": "stderr",
     "output_type": "stream",
     "text": [
      " 87%|███████████████████████████████████████████████████▏       | 3408/3932 [03:03<00:26, 19.69it/s]"
     ]
    },
    {
     "name": "stdout",
     "output_type": "stream",
     "text": [
      "\n",
      "generated an exception: name 'rawFileNames' is not defined\n",
      "generated an exception: name 'rawFileNames' is not defined\n",
      "generated an exception: name 'rawFileNames' is not defined\n",
      "generated an exception: name 'rawFileNames' is not defined\n",
      "generated an exception: name 'rawFileNames' is not defined\n",
      "generated an exception: name 'rawFileNames' is not defined\n",
      "generated an exception: name 'rawFileNames' is not defined\n",
      "generated an exception: name 'rawFileNames' is not defined\n",
      "generated an exception: name 'rawFileNames' is not defined\n",
      "generated an exception: name 'rawFileNames' is not defined\n",
      "generated an exception: name 'rawFileNames' is not defined\n",
      "generated an exception: name 'rawFileNames' is not defined\n",
      "generated an exception: name 'rawFileNames' is not defined\n",
      "generated an exception: name 'rawFileNames' is not defined\n"
     ]
    },
    {
     "name": "stderr",
     "output_type": "stream",
     "text": [
      " 87%|███████████████████████████████████████████████████▍       | 3424/3932 [03:04<00:25, 19.66it/s]"
     ]
    },
    {
     "name": "stdout",
     "output_type": "stream",
     "text": [
      "generated an exception: name 'rawFileNames' is not defined\n",
      "generated an exception: name 'rawFileNames' is not defined\n",
      "generated an exception: name 'rawFileNames' is not defined\n",
      "generated an exception: name 'rawFileNames' is not defined\n",
      "generated an exception: name 'rawFileNames' is not defined\n",
      "generated an exception: name 'rawFileNames' is not defined\n",
      "generated an exception: name 'rawFileNames' is not defined\n",
      "generated an exception: name 'rawFileNames' is not defined\n",
      "generated an exception: name 'rawFileNames' is not defined\n",
      "generated an exception: name 'rawFileNames' is not defined\n",
      "generated an exception: name 'rawFileNames' is not defined\n",
      "generated an exception: name 'rawFileNames' is not defined\n",
      "generated an exception: name 'rawFileNames' is not defined\n",
      "generated an exception: name 'rawFileNames' is not defined\n",
      "generated an exception: name 'rawFileNames' is not defined\n",
      "generated an exception: name 'rawFileNames' is not defined"
     ]
    },
    {
     "name": "stderr",
     "output_type": "stream",
     "text": [
      " 87%|███████████████████████████████████████████████████▌       | 3440/3932 [03:05<00:25, 19.56it/s]"
     ]
    },
    {
     "name": "stdout",
     "output_type": "stream",
     "text": [
      "\n",
      "generated an exception: name 'rawFileNames' is not defined\n",
      "generated an exception: name 'rawFileNames' is not defined\n",
      "generated an exception: name 'rawFileNames' is not defined\n",
      "generated an exception: name 'rawFileNames' is not defined\n",
      "generated an exception: name 'rawFileNames' is not defined\n",
      "generated an exception: name 'rawFileNames' is not defined\n",
      "generated an exception: name 'rawFileNames' is not defined\n",
      "generated an exception: name 'rawFileNames' is not defined\n",
      "generated an exception: name 'rawFileNames' is not defined\n",
      "generated an exception: name 'rawFileNames' is not defined\n",
      "generated an exception: name 'rawFileNames' is not defined\n",
      "generated an exception: name 'rawFileNames' is not defined\n",
      "generated an exception: name 'rawFileNames' is not defined\n",
      "generated an exception: name 'rawFileNames' is not defined\n",
      "generated an exception: name 'rawFileNames' is not defined"
     ]
    },
    {
     "name": "stderr",
     "output_type": "stream",
     "text": [
      " 88%|███████████████████████████████████████████████████▊       | 3456/3932 [03:06<00:24, 19.34it/s]"
     ]
    },
    {
     "name": "stdout",
     "output_type": "stream",
     "text": [
      "\n",
      "generated an exception: name 'rawFileNames' is not defined\n",
      "generated an exception: name 'rawFileNames' is not defined\n",
      "generated an exception: name 'rawFileNames' is not defined\n",
      "generated an exception: name 'rawFileNames' is not defined\n",
      "generated an exception: name 'rawFileNames' is not defined\n",
      "generated an exception: name 'rawFileNames' is not defined\n",
      "generated an exception: name 'rawFileNames' is not defined\n",
      "generated an exception: name 'rawFileNames' is not defined\n",
      "generated an exception: name 'rawFileNames' is not defined\n",
      "generated an exception: name 'rawFileNames' is not defined\n",
      "generated an exception: name 'rawFileNames' is not defined\n",
      "generated an exception: name 'rawFileNames' is not defined\n",
      "generated an exception: name 'rawFileNames' is not defined\n",
      "generated an exception: name 'rawFileNames' is not defined\n",
      "generated an exception: name 'rawFileNames' is not defined\n"
     ]
    },
    {
     "name": "stderr",
     "output_type": "stream",
     "text": [
      " 88%|████████████████████████████████████████████████████       | 3472/3932 [03:06<00:23, 19.53it/s]"
     ]
    },
    {
     "name": "stdout",
     "output_type": "stream",
     "text": [
      "generated an exception: name 'rawFileNames' is not defined\n",
      "generated an exception: name 'rawFileNames' is not defined\n",
      "generated an exception: name 'rawFileNames' is not defined\n",
      "generated an exception: name 'rawFileNames' is not defined\n",
      "generated an exception: name 'rawFileNames' is not defined\n",
      "generated an exception: name 'rawFileNames' is not defined\n",
      "generated an exception: name 'rawFileNames' is not defined\n",
      "generated an exception: name 'rawFileNames' is not defined\n",
      "generated an exception: name 'rawFileNames' is not defined\n",
      "generated an exception: name 'rawFileNames' is not defined\n",
      "generated an exception: name 'rawFileNames' is not defined\n",
      "generated an exception: name 'rawFileNames' is not defined\n",
      "generated an exception: name 'rawFileNames' is not defined\n",
      "generated an exception: name 'rawFileNames' is not defined\n",
      "generated an exception: name 'rawFileNames' is not defined\n",
      "generated an exception: name 'rawFileNames' is not defined\n"
     ]
    },
    {
     "name": "stderr",
     "output_type": "stream",
     "text": [
      " 89%|████████████████████████████████████████████████████▎      | 3488/3932 [03:07<00:22, 19.42it/s]"
     ]
    },
    {
     "name": "stdout",
     "output_type": "stream",
     "text": [
      "generated an exception: name 'rawFileNames' is not defined\n",
      "generated an exception: name 'rawFileNames' is not defined\n",
      "generated an exception: name 'rawFileNames' is not defined\n",
      "generated an exception: name 'rawFileNames' is not defined\n",
      "generated an exception: name 'rawFileNames' is not defined\n",
      "generated an exception: name 'rawFileNames' is not defined\n",
      "generated an exception: name 'rawFileNames' is not defined\n",
      "generated an exception: name 'rawFileNames' is not defined\n",
      "generated an exception: name 'rawFileNames' is not defined\n",
      "generated an exception: name 'rawFileNames' is not defined\n",
      "generated an exception: name 'rawFileNames' is not defined\n",
      "generated an exception: name 'rawFileNames' is not defined\n",
      "generated an exception: name 'rawFileNames' is not defined\n",
      "generated an exception: name 'rawFileNames' is not defined\n",
      "generated an exception: name 'rawFileNames' is not defined\n",
      "generated an exception: name 'rawFileNames' is not defined\n",
      "generated an exception: name 'rawFileNames' is not defined"
     ]
    },
    {
     "name": "stderr",
     "output_type": "stream",
     "text": [
      " 89%|████████████████████████████████████████████████████▌      | 3504/3932 [03:08<00:21, 19.61it/s]"
     ]
    },
    {
     "name": "stdout",
     "output_type": "stream",
     "text": [
      "\n",
      "generated an exception: name 'rawFileNames' is not defined\n",
      "generated an exception: name 'rawFileNames' is not defined\n",
      "generated an exception: name 'rawFileNames' is not defined\n",
      "generated an exception: name 'rawFileNames' is not defined\n",
      "generated an exception: name 'rawFileNames' is not defined\n",
      "generated an exception: name 'rawFileNames' is not defined\n",
      "generated an exception: name 'rawFileNames' is not defined\n",
      "generated an exception: name 'rawFileNames' is not defined\n",
      "generated an exception: name 'rawFileNames' is not defined\n",
      "generated an exception: name 'rawFileNames' is not defined\n",
      "generated an exception: name 'rawFileNames' is not defined\n",
      "generated an exception: name 'rawFileNames' is not defined\n",
      "generated an exception: name 'rawFileNames' is not defined\n",
      "generated an exception: name 'rawFileNames' is not defined\n",
      "generated an exception: name 'rawFileNames' is not defined\n",
      "generated an exception: name 'rawFileNames' is not defined\n"
     ]
    },
    {
     "name": "stderr",
     "output_type": "stream",
     "text": [
      " 90%|████████████████████████████████████████████████████▊      | 3520/3932 [03:09<00:21, 19.48it/s]"
     ]
    },
    {
     "name": "stdout",
     "output_type": "stream",
     "text": [
      "generated an exception: name 'rawFileNames' is not defined\n",
      "generated an exception: name 'rawFileNames' is not defined\n",
      "generated an exception: name 'rawFileNames' is not defined\n",
      "generated an exception: name 'rawFileNames' is not defined\n",
      "generated an exception: name 'rawFileNames' is not defined\n",
      "generated an exception: name 'rawFileNames' is not defined\n",
      "generated an exception: name 'rawFileNames' is not defined\n",
      "generated an exception: name 'rawFileNames' is not defined\n",
      "generated an exception: name 'rawFileNames' is not defined\n",
      "generated an exception: name 'rawFileNames' is not defined\n",
      "generated an exception: name 'rawFileNames' is not defined\n",
      "generated an exception: name 'rawFileNames' is not defined\n",
      "generated an exception: name 'rawFileNames' is not defined\n",
      "generated an exception: name 'rawFileNames' is not defined\n",
      "generated an exception: name 'rawFileNames' is not defined\n",
      "generated an exception: name 'rawFileNames' is not defined\n",
      "generated an exception: name 'rawFileNames' is not defined"
     ]
    },
    {
     "name": "stderr",
     "output_type": "stream",
     "text": [
      " 90%|█████████████████████████████████████████████████████      | 3536/3932 [03:10<00:20, 19.28it/s]"
     ]
    },
    {
     "name": "stdout",
     "output_type": "stream",
     "text": [
      "\n",
      "generated an exception: name 'rawFileNames' is not defined\n",
      "generated an exception: name 'rawFileNames' is not defined\n",
      "generated an exception: name 'rawFileNames' is not defined\n",
      "generated an exception: name 'rawFileNames' is not defined\n",
      "generated an exception: name 'rawFileNames' is not defined\n",
      "generated an exception: name 'rawFileNames' is not defined\n",
      "generated an exception: name 'rawFileNames' is not defined\n",
      "generated an exception: name 'rawFileNames' is not defined\n",
      "generated an exception: name 'rawFileNames' is not defined\n",
      "generated an exception: name 'rawFileNames' is not defined\n",
      "generated an exception: name 'rawFileNames' is not defined\n",
      "generated an exception: name 'rawFileNames' is not defined\n",
      "generated an exception: name 'rawFileNames' is not defined\n",
      "generated an exception: name 'rawFileNames' is not defined\n"
     ]
    },
    {
     "name": "stderr",
     "output_type": "stream",
     "text": [
      " 90%|█████████████████████████████████████████████████████▎     | 3552/3932 [03:10<00:19, 19.41it/s]"
     ]
    },
    {
     "name": "stdout",
     "output_type": "stream",
     "text": [
      "generated an exception: name 'rawFileNames' is not defined\n",
      "generated an exception: name 'rawFileNames' is not defined\n",
      "generated an exception: name 'rawFileNames' is not defined\n",
      "generated an exception: name 'rawFileNames' is not defined\n",
      "generated an exception: name 'rawFileNames' is not defined\n",
      "generated an exception: name 'rawFileNames' is not defined\n",
      "generated an exception: name 'rawFileNames' is not defined\n",
      "generated an exception: name 'rawFileNames' is not defined\n",
      "generated an exception: name 'rawFileNames' is not defined\n",
      "generated an exception: name 'rawFileNames' is not defined\n",
      "generated an exception: name 'rawFileNames' is not defined\n",
      "generated an exception: name 'rawFileNames' is not defined\n",
      "generated an exception: name 'rawFileNames' is not defined\n",
      "generated an exception: name 'rawFileNames' is not defined\n",
      "generated an exception: name 'rawFileNames' is not defined\n",
      "generated an exception: name 'rawFileNames' is not defined\n",
      "generated an exception: name 'rawFileNames' is not defined"
     ]
    },
    {
     "name": "stderr",
     "output_type": "stream",
     "text": [
      " 91%|█████████████████████████████████████████████████████▌     | 3568/3932 [03:11<00:18, 19.43it/s]"
     ]
    },
    {
     "name": "stdout",
     "output_type": "stream",
     "text": [
      "\n",
      "generated an exception: name 'rawFileNames' is not defined\n",
      "generated an exception: name 'rawFileNames' is not defined\n",
      "generated an exception: name 'rawFileNames' is not defined\n",
      "generated an exception: name 'rawFileNames' is not defined\n",
      "generated an exception: name 'rawFileNames' is not defined\n",
      "generated an exception: name 'rawFileNames' is not defined\n",
      "generated an exception: name 'rawFileNames' is not defined\n",
      "generated an exception: name 'rawFileNames' is not defined\n",
      "generated an exception: name 'rawFileNames' is not defined\n",
      "generated an exception: name 'rawFileNames' is not defined\n",
      "generated an exception: name 'rawFileNames' is not defined\n",
      "generated an exception: name 'rawFileNames' is not defined\n",
      "generated an exception: name 'rawFileNames' is not defined\n",
      "generated an exception: name 'rawFileNames' is not defined\n",
      "generated an exception: name 'rawFileNames' is not defined\n",
      "generated an exception: name 'rawFileNames' is not defined\n"
     ]
    },
    {
     "name": "stderr",
     "output_type": "stream",
     "text": [
      " 91%|█████████████████████████████████████████████████████▊     | 3584/3932 [03:12<00:17, 19.42it/s]"
     ]
    },
    {
     "name": "stdout",
     "output_type": "stream",
     "text": [
      "generated an exception: name 'rawFileNames' is not defined\n",
      "generated an exception: name 'rawFileNames' is not defined\n",
      "generated an exception: name 'rawFileNames' is not defined\n",
      "generated an exception: name 'rawFileNames' is not defined\n",
      "generated an exception: name 'rawFileNames' is not defined\n",
      "generated an exception: name 'rawFileNames' is not defined\n",
      "generated an exception: name 'rawFileNames' is not defined\n",
      "generated an exception: name 'rawFileNames' is not defined\n",
      "generated an exception: name 'rawFileNames' is not defined\n",
      "generated an exception: name 'rawFileNames' is not defined\n",
      "generated an exception: name 'rawFileNames' is not defined\n",
      "generated an exception: name 'rawFileNames' is not defined\n",
      "generated an exception: name 'rawFileNames' is not defined\n",
      "generated an exception: name 'rawFileNames' is not defined\n",
      "generated an exception: name 'rawFileNames' is not defined\n",
      "generated an exception: name 'rawFileNames' is not defined\n",
      "generated an exception: name 'rawFileNames' is not defined"
     ]
    },
    {
     "name": "stderr",
     "output_type": "stream",
     "text": [
      " 92%|██████████████████████████████████████████████████████     | 3600/3932 [03:13<00:17, 19.28it/s]"
     ]
    },
    {
     "name": "stdout",
     "output_type": "stream",
     "text": [
      "\n",
      "generated an exception: name 'rawFileNames' is not defined\n",
      "generated an exception: name 'rawFileNames' is not defined\n",
      "generated an exception: name 'rawFileNames' is not defined\n",
      "generated an exception: name 'rawFileNames' is not defined\n",
      "generated an exception: name 'rawFileNames' is not defined\n",
      "generated an exception: name 'rawFileNames' is not defined\n",
      "generated an exception: name 'rawFileNames' is not defined\n",
      "generated an exception: name 'rawFileNames' is not defined\n",
      "generated an exception: name 'rawFileNames' is not defined\n",
      "generated an exception: name 'rawFileNames' is not defined\n",
      "generated an exception: name 'rawFileNames' is not defined\n",
      "generated an exception: name 'rawFileNames' is not defined\n",
      "generated an exception: name 'rawFileNames' is not defined\n",
      "generated an exception: name 'rawFileNames' is not defined\n",
      "generated an exception: name 'rawFileNames' is not defined\n"
     ]
    },
    {
     "name": "stderr",
     "output_type": "stream",
     "text": [
      " 92%|██████████████████████████████████████████████████████▎    | 3616/3932 [03:14<00:16, 19.41it/s]"
     ]
    },
    {
     "name": "stdout",
     "output_type": "stream",
     "text": [
      "generated an exception: name 'rawFileNames' is not defined\n",
      "generated an exception: name 'rawFileNames' is not defined\n",
      "generated an exception: name 'rawFileNames' is not defined\n",
      "generated an exception: name 'rawFileNames' is not defined\n",
      "generated an exception: name 'rawFileNames' is not defined\n",
      "generated an exception: name 'rawFileNames' is not defined\n",
      "generated an exception: name 'rawFileNames' is not defined\n",
      "generated an exception: name 'rawFileNames' is not defined\n",
      "generated an exception: name 'rawFileNames' is not defined\n",
      "generated an exception: name 'rawFileNames' is not defined\n",
      "generated an exception: name 'rawFileNames' is not defined\n",
      "generated an exception: name 'rawFileNames' is not defined\n",
      "generated an exception: name 'rawFileNames' is not defined\n",
      "generated an exception: name 'rawFileNames' is not defined\n",
      "generated an exception: name 'rawFileNames' is not defined\n",
      "generated an exception: name 'rawFileNames' is not defined\n",
      "generated an exception: name 'rawFileNames' is not defined\n",
      "generated an exception: name 'rawFileNames' is not defined"
     ]
    },
    {
     "name": "stderr",
     "output_type": "stream",
     "text": [
      " 92%|██████████████████████████████████████████████████████▍    | 3632/3932 [03:15<00:15, 19.75it/s]"
     ]
    },
    {
     "name": "stdout",
     "output_type": "stream",
     "text": [
      "\n",
      "generated an exception: name 'rawFileNames' is not defined\n",
      "generated an exception: name 'rawFileNames' is not defined\n",
      "generated an exception: name 'rawFileNames' is not defined\n",
      "generated an exception: name 'rawFileNames' is not defined\n",
      "generated an exception: name 'rawFileNames' is not defined\n",
      "generated an exception: name 'rawFileNames' is not defined\n",
      "generated an exception: name 'rawFileNames' is not defined\n",
      "generated an exception: name 'rawFileNames' is not defined\n",
      "generated an exception: name 'rawFileNames' is not defined\n",
      "generated an exception: name 'rawFileNames' is not defined\n",
      "generated an exception: name 'rawFileNames' is not defined\n",
      "generated an exception: name 'rawFileNames' is not defined\n",
      "generated an exception: name 'rawFileNames' is not defined\n"
     ]
    },
    {
     "name": "stderr",
     "output_type": "stream",
     "text": [
      " 93%|██████████████████████████████████████████████████████▋    | 3648/3932 [03:15<00:14, 19.92it/s]"
     ]
    },
    {
     "name": "stdout",
     "output_type": "stream",
     "text": [
      "generated an exception: name 'rawFileNames' is not defined\n",
      "generated an exception: name 'rawFileNames' is not defined\n",
      "generated an exception: name 'rawFileNames' is not defined\n",
      "generated an exception: name 'rawFileNames' is not defined\n",
      "generated an exception: name 'rawFileNames' is not defined\n",
      "generated an exception: name 'rawFileNames' is not defined\n",
      "generated an exception: name 'rawFileNames' is not defined\n",
      "generated an exception: name 'rawFileNames' is not defined\n",
      "generated an exception: name 'rawFileNames' is not defined\n",
      "generated an exception: name 'rawFileNames' is not defined\n",
      "generated an exception: name 'rawFileNames' is not defined\n",
      "generated an exception: name 'rawFileNames' is not defined\n",
      "generated an exception: name 'rawFileNames' is not defined\n",
      "generated an exception: name 'rawFileNames' is not defined\n",
      "generated an exception: name 'rawFileNames' is not defined\n",
      "generated an exception: name 'rawFileNames' is not defined\n",
      "generated an exception: name 'rawFileNames' is not defined"
     ]
    },
    {
     "name": "stderr",
     "output_type": "stream",
     "text": [
      " 93%|██████████████████████████████████████████████████████▉    | 3664/3932 [03:16<00:13, 19.80it/s]"
     ]
    },
    {
     "name": "stdout",
     "output_type": "stream",
     "text": [
      "\n",
      "generated an exception: name 'rawFileNames' is not defined\n",
      "generated an exception: name 'rawFileNames' is not defined\n",
      "generated an exception: name 'rawFileNames' is not defined\n",
      "generated an exception: name 'rawFileNames' is not defined\n",
      "generated an exception: name 'rawFileNames' is not defined\n",
      "generated an exception: name 'rawFileNames' is not defined\n",
      "generated an exception: name 'rawFileNames' is not defined\n",
      "generated an exception: name 'rawFileNames' is not defined\n",
      "generated an exception: name 'rawFileNames' is not defined\n",
      "generated an exception: name 'rawFileNames' is not defined\n",
      "generated an exception: name 'rawFileNames' is not defined\n",
      "generated an exception: name 'rawFileNames' is not defined\n",
      "generated an exception: name 'rawFileNames' is not defined\n",
      "generated an exception: name 'rawFileNames' is not defined\n",
      "generated an exception: name 'rawFileNames' is not defined\n",
      "generated an exception: name 'rawFileNames' is not defined\n"
     ]
    },
    {
     "name": "stderr",
     "output_type": "stream",
     "text": [
      " 94%|███████████████████████████████████████████████████████▏   | 3680/3932 [03:17<00:12, 19.78it/s]"
     ]
    },
    {
     "name": "stdout",
     "output_type": "stream",
     "text": [
      "generated an exception: name 'rawFileNames' is not defined\n",
      "generated an exception: name 'rawFileNames' is not defined\n",
      "generated an exception: name 'rawFileNames' is not defined\n",
      "generated an exception: name 'rawFileNames' is not defined\n",
      "generated an exception: name 'rawFileNames' is not defined\n",
      "generated an exception: name 'rawFileNames' is not defined\n",
      "generated an exception: name 'rawFileNames' is not defined\n",
      "generated an exception: name 'rawFileNames' is not defined\n",
      "generated an exception: name 'rawFileNames' is not defined\n",
      "generated an exception: name 'rawFileNames' is not defined\n",
      "generated an exception: name 'rawFileNames' is not defined\n",
      "generated an exception: name 'rawFileNames' is not defined\n",
      "generated an exception: name 'rawFileNames' is not defined\n",
      "generated an exception: name 'rawFileNames' is not defined\n",
      "generated an exception: name 'rawFileNames' is not defined\n"
     ]
    },
    {
     "name": "stderr",
     "output_type": "stream",
     "text": [
      " 94%|███████████████████████████████████████████████████████▍   | 3696/3932 [03:18<00:11, 19.67it/s]"
     ]
    },
    {
     "name": "stdout",
     "output_type": "stream",
     "text": [
      "generated an exception: name 'rawFileNames' is not defined\n",
      "generated an exception: name 'rawFileNames' is not defined\n",
      "generated an exception: name 'rawFileNames' is not defined\n",
      "generated an exception: name 'rawFileNames' is not defined\n",
      "generated an exception: name 'rawFileNames' is not defined\n",
      "generated an exception: name 'rawFileNames' is not defined\n",
      "generated an exception: name 'rawFileNames' is not defined\n",
      "generated an exception: name 'rawFileNames' is not defined\n",
      "generated an exception: name 'rawFileNames' is not defined\n",
      "generated an exception: name 'rawFileNames' is not defined\n",
      "generated an exception: name 'rawFileNames' is not defined\n",
      "generated an exception: name 'rawFileNames' is not defined\n",
      "generated an exception: name 'rawFileNames' is not defined\n",
      "generated an exception: name 'rawFileNames' is not defined\n",
      "generated an exception: name 'rawFileNames' is not defined\n",
      "generated an exception: name 'rawFileNames' is not defined\n",
      "generated an exception: name 'rawFileNames' is not defined"
     ]
    },
    {
     "name": "stderr",
     "output_type": "stream",
     "text": [
      " 94%|███████████████████████████████████████████████████████▋   | 3712/3932 [03:19<00:11, 19.71it/s]"
     ]
    },
    {
     "name": "stdout",
     "output_type": "stream",
     "text": [
      "\n",
      "generated an exception: name 'rawFileNames' is not defined\n",
      "generated an exception: name 'rawFileNames' is not defined\n",
      "generated an exception: name 'rawFileNames' is not defined\n",
      "generated an exception: name 'rawFileNames' is not defined\n",
      "generated an exception: name 'rawFileNames' is not defined\n",
      "generated an exception: name 'rawFileNames' is not defined\n",
      "generated an exception: name 'rawFileNames' is not defined\n",
      "generated an exception: name 'rawFileNames' is not defined\n",
      "generated an exception: name 'rawFileNames' is not defined\n",
      "generated an exception: name 'rawFileNames' is not defined\n",
      "generated an exception: name 'rawFileNames' is not defined\n",
      "generated an exception: name 'rawFileNames' is not defined\n",
      "generated an exception: name 'rawFileNames' is not defined\n",
      "generated an exception: name 'rawFileNames' is not defined\n",
      "generated an exception: name 'rawFileNames' is not defined\n",
      "generated an exception: name 'rawFileNames' is not defined\n",
      "generated an exception: name 'rawFileNames' is not defined\n"
     ]
    },
    {
     "name": "stderr",
     "output_type": "stream",
     "text": [
      " 95%|████████████████████████████████████████████████████████▏  | 3744/3932 [03:20<00:09, 19.56it/s]"
     ]
    },
    {
     "name": "stdout",
     "output_type": "stream",
     "text": [
      "generated an exception: name 'rawFileNames' is not defined\n",
      "generated an exception: name 'rawFileNames' is not defined\n",
      "generated an exception: name 'rawFileNames' is not defined\n",
      "generated an exception: name 'rawFileNames' is not defined\n",
      "generated an exception: name 'rawFileNames' is not defined\n",
      "generated an exception: name 'rawFileNames' is not defined\n",
      "generated an exception: name 'rawFileNames' is not defined\n",
      "generated an exception: name 'rawFileNames' is not defined\n",
      "generated an exception: name 'rawFileNames' is not defined\n",
      "generated an exception: name 'rawFileNames' is not defined\n",
      "generated an exception: name 'rawFileNames' is not defined\n",
      "generated an exception: name 'rawFileNames' is not defined\n",
      "generated an exception: name 'rawFileNames' is not defined\n",
      "generated an exception: name 'rawFileNames' is not defined\n",
      "generated an exception: name 'rawFileNames' is not defined\n",
      "generated an exception: name 'rawFileNames' is not defined\n",
      "generated an exception: name 'rawFileNames' is not defined\n",
      "generated an exception: name 'rawFileNames' is not defined\n",
      "generated an exception: name 'rawFileNames' is not defined\n",
      "generated an exception: name 'rawFileNames' is not defined\n",
      "generated an exception: name 'rawFileNames' is not defined\n",
      "generated an exception: name 'rawFileNames' is not defined\n",
      "generated an exception: name 'rawFileNames' is not defined\n",
      "generated an exception: name 'rawFileNames' is not defined\n",
      "generated an exception: name 'rawFileNames' is not defined\n",
      "generated an exception: name 'rawFileNames' is not defined\n",
      "generated an exception: name 'rawFileNames' is not defined\n",
      "generated an exception: name 'rawFileNames' is not defined\n",
      "generated an exception: name 'rawFileNames' is not defined\n",
      "generated an exception: name 'rawFileNames' is not defined\n"
     ]
    },
    {
     "name": "stderr",
     "output_type": "stream",
     "text": [
      " 96%|████████████████████████████████████████████████████████▍  | 3760/3932 [03:21<00:08, 19.66it/s]"
     ]
    },
    {
     "name": "stdout",
     "output_type": "stream",
     "text": [
      "generated an exception: name 'rawFileNames' is not defined\n",
      "generated an exception: name 'rawFileNames' is not defined\n",
      "generated an exception: name 'rawFileNames' is not defined\n",
      "generated an exception: name 'rawFileNames' is not defined\n",
      "generated an exception: name 'rawFileNames' is not defined\n",
      "generated an exception: name 'rawFileNames' is not defined\n",
      "generated an exception: name 'rawFileNames' is not defined\n",
      "generated an exception: name 'rawFileNames' is not defined\n",
      "generated an exception: name 'rawFileNames' is not defined\n",
      "generated an exception: name 'rawFileNames' is not defined\n",
      "generated an exception: name 'rawFileNames' is not defined\n",
      "generated an exception: name 'rawFileNames' is not defined\n",
      "generated an exception: name 'rawFileNames' is not defined\n",
      "generated an exception: name 'rawFileNames' is not defined\n",
      "generated an exception: name 'rawFileNames' is not defined\n",
      "generated an exception: name 'rawFileNames' is not defined\n",
      "generated an exception: name 'rawFileNames' is not defined\n",
      "generated an exception: name 'rawFileNames' is not defined\n",
      "generated an exception: name 'rawFileNames' is not defined\n",
      "generated an exception: name 'rawFileNames' is not defined\n"
     ]
    },
    {
     "name": "stderr",
     "output_type": "stream",
     "text": [
      " 96%|████████████████████████████████████████████████████████▋  | 3776/3932 [03:22<00:07, 19.61it/s]"
     ]
    },
    {
     "name": "stdout",
     "output_type": "stream",
     "text": [
      "generated an exception: name 'rawFileNames' is not defined\n",
      "generated an exception: name 'rawFileNames' is not defined\n",
      "generated an exception: name 'rawFileNames' is not defined\n",
      "generated an exception: name 'rawFileNames' is not defined\n",
      "generated an exception: name 'rawFileNames' is not defined\n",
      "generated an exception: name 'rawFileNames' is not defined\n",
      "generated an exception: name 'rawFileNames' is not defined\n",
      "generated an exception: name 'rawFileNames' is not defined\n",
      "generated an exception: name 'rawFileNames' is not defined\n",
      "generated an exception: name 'rawFileNames' is not defined\n",
      "generated an exception: name 'rawFileNames' is not defined\n",
      "generated an exception: name 'rawFileNames' is not defined\n",
      "generated an exception: name 'rawFileNames' is not defined\n"
     ]
    },
    {
     "name": "stderr",
     "output_type": "stream",
     "text": [
      " 96%|████████████████████████████████████████████████████████▉  | 3792/3932 [03:23<00:07, 19.65it/s]"
     ]
    },
    {
     "name": "stdout",
     "output_type": "stream",
     "text": [
      "generated an exception: name 'rawFileNames' is not defined\n",
      "generated an exception: name 'rawFileNames' is not defined\n",
      "generated an exception: name 'rawFileNames' is not defined\n",
      "generated an exception: name 'rawFileNames' is not defined\n",
      "generated an exception: name 'rawFileNames' is not defined\n",
      "generated an exception: name 'rawFileNames' is not defined\n",
      "generated an exception: name 'rawFileNames' is not defined\n",
      "generated an exception: name 'rawFileNames' is not defined\n",
      "generated an exception: name 'rawFileNames' is not defined\n",
      "generated an exception: name 'rawFileNames' is not defined\n",
      "generated an exception: name 'rawFileNames' is not defined\n",
      "generated an exception: name 'rawFileNames' is not defined\n",
      "generated an exception: name 'rawFileNames' is not defined\n",
      "generated an exception: name 'rawFileNames' is not defined\n",
      "generated an exception: name 'rawFileNames' is not defined\n",
      "generated an exception: name 'rawFileNames' is not defined"
     ]
    },
    {
     "name": "stderr",
     "output_type": "stream",
     "text": [
      " 97%|█████████████████████████████████████████████████████████▏ | 3808/3932 [03:23<00:06, 19.87it/s]"
     ]
    },
    {
     "name": "stdout",
     "output_type": "stream",
     "text": [
      "\n",
      "generated an exception: name 'rawFileNames' is not defined\n",
      "generated an exception: name 'rawFileNames' is not defined\n",
      "generated an exception: name 'rawFileNames' is not defined\n",
      "generated an exception: name 'rawFileNames' is not defined\n",
      "generated an exception: name 'rawFileNames' is not defined\n",
      "generated an exception: name 'rawFileNames' is not defined\n",
      "generated an exception: name 'rawFileNames' is not defined\n",
      "generated an exception: name 'rawFileNames' is not defined\n",
      "generated an exception: name 'rawFileNames' is not defined\n",
      "generated an exception: name 'rawFileNames' is not defined\n",
      "generated an exception: name 'rawFileNames' is not defined\n",
      "generated an exception: name 'rawFileNames' is not defined\n",
      "generated an exception: name 'rawFileNames' is not defined\n",
      "generated an exception: name 'rawFileNames' is not defined\n",
      "generated an exception: name 'rawFileNames' is not defined\n",
      "generated an exception: name 'rawFileNames' is not defined\n"
     ]
    },
    {
     "name": "stderr",
     "output_type": "stream",
     "text": [
      " 97%|█████████████████████████████████████████████████████████▍ | 3824/3932 [03:24<00:05, 19.87it/s]"
     ]
    },
    {
     "name": "stdout",
     "output_type": "stream",
     "text": [
      "generated an exception: name 'rawFileNames' is not defined\n",
      "generated an exception: name 'rawFileNames' is not defined\n",
      "generated an exception: name 'rawFileNames' is not defined\n",
      "generated an exception: name 'rawFileNames' is not defined\n",
      "generated an exception: name 'rawFileNames' is not defined\n",
      "generated an exception: name 'rawFileNames' is not defined\n",
      "generated an exception: name 'rawFileNames' is not defined\n",
      "generated an exception: name 'rawFileNames' is not defined\n",
      "generated an exception: name 'rawFileNames' is not defined\n",
      "generated an exception: name 'rawFileNames' is not defined\n",
      "generated an exception: name 'rawFileNames' is not defined\n",
      "generated an exception: name 'rawFileNames' is not defined\n",
      "generated an exception: name 'rawFileNames' is not defined\n",
      "generated an exception: name 'rawFileNames' is not defined\n",
      "generated an exception: name 'rawFileNames' is not defined\n"
     ]
    },
    {
     "name": "stderr",
     "output_type": "stream",
     "text": [
      " 98%|█████████████████████████████████████████████████████████▌ | 3840/3932 [03:25<00:04, 19.58it/s]"
     ]
    },
    {
     "name": "stdout",
     "output_type": "stream",
     "text": [
      "generated an exception: name 'rawFileNames' is not defined\n",
      "generated an exception: name 'rawFileNames' is not defined\n",
      "generated an exception: name 'rawFileNames' is not defined\n",
      "generated an exception: name 'rawFileNames' is not defined\n",
      "generated an exception: name 'rawFileNames' is not defined\n",
      "generated an exception: name 'rawFileNames' is not defined\n",
      "generated an exception: name 'rawFileNames' is not defined\n",
      "generated an exception: name 'rawFileNames' is not defined\n",
      "generated an exception: name 'rawFileNames' is not defined\n",
      "generated an exception: name 'rawFileNames' is not defined\n",
      "generated an exception: name 'rawFileNames' is not defined\n",
      "generated an exception: name 'rawFileNames' is not defined\n",
      "generated an exception: name 'rawFileNames' is not defined\n",
      "generated an exception: name 'rawFileNames' is not defined\n",
      "generated an exception: name 'rawFileNames' is not defined\n",
      "generated an exception: name 'rawFileNames' is not defined\n",
      "generated an exception: name 'rawFileNames' is not defined\n",
      "generated an exception: name 'rawFileNames' is not defined"
     ]
    },
    {
     "name": "stderr",
     "output_type": "stream",
     "text": [
      " 98%|█████████████████████████████████████████████████████████▊ | 3856/3932 [03:26<00:03, 19.61it/s]"
     ]
    },
    {
     "name": "stdout",
     "output_type": "stream",
     "text": [
      "\n",
      "generated an exception: name 'rawFileNames' is not defined\n",
      "generated an exception: name 'rawFileNames' is not defined\n",
      "generated an exception: name 'rawFileNames' is not defined\n",
      "generated an exception: name 'rawFileNames' is not defined\n",
      "generated an exception: name 'rawFileNames' is not defined\n",
      "generated an exception: name 'rawFileNames' is not defined\n",
      "generated an exception: name 'rawFileNames' is not defined\n",
      "generated an exception: name 'rawFileNames' is not defined\n",
      "generated an exception: name 'rawFileNames' is not defined\n",
      "generated an exception: name 'rawFileNames' is not defined\n",
      "generated an exception: name 'rawFileNames' is not defined\n",
      "generated an exception: name 'rawFileNames' is not defined\n",
      "generated an exception: name 'rawFileNames' is not defined\n",
      "generated an exception: name 'rawFileNames' is not defined\n"
     ]
    },
    {
     "name": "stderr",
     "output_type": "stream",
     "text": [
      " 98%|██████████████████████████████████████████████████████████ | 3872/3932 [03:27<00:03, 19.96it/s]"
     ]
    },
    {
     "name": "stdout",
     "output_type": "stream",
     "text": [
      "generated an exception: name 'rawFileNames' is not defined\n",
      "generated an exception: name 'rawFileNames' is not defined\n",
      "generated an exception: name 'rawFileNames' is not defined\n",
      "generated an exception: name 'rawFileNames' is not defined\n",
      "generated an exception: name 'rawFileNames' is not defined\n",
      "generated an exception: name 'rawFileNames' is not defined\n",
      "generated an exception: name 'rawFileNames' is not defined\n",
      "generated an exception: name 'rawFileNames' is not defined\n",
      "generated an exception: name 'rawFileNames' is not defined\n",
      "generated an exception: name 'rawFileNames' is not defined\n",
      "generated an exception: name 'rawFileNames' is not defined\n",
      "generated an exception: name 'rawFileNames' is not defined\n",
      "generated an exception: name 'rawFileNames' is not defined\n",
      "generated an exception: name 'rawFileNames' is not defined\n",
      "generated an exception: name 'rawFileNames' is not defined\n",
      "generated an exception: name 'rawFileNames' is not defined\n"
     ]
    },
    {
     "name": "stderr",
     "output_type": "stream",
     "text": [
      " 99%|██████████████████████████████████████████████████████████▎| 3888/3932 [03:28<00:02, 19.79it/s]"
     ]
    },
    {
     "name": "stdout",
     "output_type": "stream",
     "text": [
      "generated an exception: name 'rawFileNames' is not defined\n",
      "generated an exception: name 'rawFileNames' is not defined\n",
      "generated an exception: name 'rawFileNames' is not defined\n",
      "generated an exception: name 'rawFileNames' is not defined\n",
      "generated an exception: name 'rawFileNames' is not defined\n",
      "generated an exception: name 'rawFileNames' is not defined\n",
      "generated an exception: name 'rawFileNames' is not defined\n",
      "generated an exception: name 'rawFileNames' is not defined\n",
      "generated an exception: name 'rawFileNames' is not defined\n",
      "generated an exception: name 'rawFileNames' is not defined\n",
      "generated an exception: name 'rawFileNames' is not defined\n",
      "generated an exception: name 'rawFileNames' is not defined\n",
      "generated an exception: name 'rawFileNames' is not defined\n",
      "generated an exception: name 'rawFileNames' is not defined\n",
      "generated an exception: name 'rawFileNames' is not defined\n",
      "generated an exception: name 'rawFileNames' is not defined\n",
      "generated an exception: name 'rawFileNames' is not defined\n"
     ]
    },
    {
     "name": "stderr",
     "output_type": "stream",
     "text": [
      " 99%|██████████████████████████████████████████████████████████▌| 3904/3932 [03:28<00:01, 19.80it/s]"
     ]
    },
    {
     "name": "stdout",
     "output_type": "stream",
     "text": [
      "generated an exception: name 'rawFileNames' is not defined\n",
      "generated an exception: name 'rawFileNames' is not defined\n",
      "generated an exception: name 'rawFileNames' is not defined\n",
      "generated an exception: name 'rawFileNames' is not defined\n",
      "generated an exception: name 'rawFileNames' is not defined\n",
      "generated an exception: name 'rawFileNames' is not defined\n",
      "generated an exception: name 'rawFileNames' is not defined\n",
      "generated an exception: name 'rawFileNames' is not defined\n",
      "generated an exception: name 'rawFileNames' is not defined\n",
      "generated an exception: name 'rawFileNames' is not defined\n",
      "generated an exception: name 'rawFileNames' is not defined\n",
      "generated an exception: name 'rawFileNames' is not defined\n",
      "generated an exception: name 'rawFileNames' is not defined\n",
      "generated an exception: name 'rawFileNames' is not defined\n",
      "generated an exception: name 'rawFileNames' is not defined\n",
      "generated an exception: name 'rawFileNames' is not defined\n",
      "generated an exception: name 'rawFileNames' is not defined\n",
      "generated an exception: name 'rawFileNames' is not defined"
     ]
    },
    {
     "name": "stderr",
     "output_type": "stream",
     "text": [
      "100%|██████████████████████████████████████████████████████████▊| 3920/3932 [03:30<00:00, 14.09it/s]"
     ]
    },
    {
     "name": "stdout",
     "output_type": "stream",
     "text": [
      "\n",
      "generated an exception: name 'rawFileNames' is not defined\n",
      "generated an exception: name 'rawFileNames' is not defined\n",
      "generated an exception: name 'rawFileNames' is not defined\n",
      "generated an exception: name 'rawFileNames' is not defined\n",
      "generated an exception: name 'rawFileNames' is not defined\n",
      "generated an exception: name 'rawFileNames' is not defined\n",
      "generated an exception: name 'rawFileNames' is not defined\n",
      "generated an exception: name 'rawFileNames' is not defined\n",
      "generated an exception: name 'rawFileNames' is not defined\n",
      "generated an exception: name 'rawFileNames' is not defined\n",
      "generated an exception: name 'rawFileNames' is not defined\n",
      "generated an exception: name 'rawFileNames' is not defined\n",
      "generated an exception: name 'rawFileNames' is not defined\n"
     ]
    },
    {
     "name": "stderr",
     "output_type": "stream",
     "text": [
      "3936it [03:31, 15.30it/s]                                                                           "
     ]
    },
    {
     "name": "stdout",
     "output_type": "stream",
     "text": [
      "generated an exception: name 'rawFileNames' is not defined\n",
      "generated an exception: name 'rawFileNames' is not defined\n",
      "generated an exception: name 'rawFileNames' is not defined\n",
      "generated an exception: name 'rawFileNames' is not defined\n",
      "generated an exception: name 'rawFileNames' is not defined\n",
      "generated an exception: name 'rawFileNames' is not defined\n",
      "generated an exception: name 'rawFileNames' is not defined\n",
      "generated an exception: name 'rawFileNames' is not defined\n",
      "generated an exception: name 'rawFileNames' is not defined\n",
      "generated an exception: name 'rawFileNames' is not defined\n",
      "generated an exception: name 'rawFileNames' is not defined\n",
      "generated an exception: name 'rawFileNames' is not defined\n",
      "generated an exception: name 'rawFileNames' is not defined\n",
      "generated an exception: name 'rawFileNames' is not defined\n",
      "generated an exception: name 'rawFileNames' is not defined\n",
      "generated an exception: name 'rawFileNames' is not defined\n",
      "generated an exception: name 'rawFileNames' is not defined\n"
     ]
    },
    {
     "name": "stderr",
     "output_type": "stream",
     "text": [
      "3936it [03:32, 18.55it/s]"
     ]
    },
    {
     "name": "stdout",
     "output_type": "stream",
     "text": [
      "generated an exception: name 'rawFileNames' is not defined\n",
      "generated an exception: name 'rawFileNames' is not defined\n",
      "generated an exception: name 'rawFileNames' is not defined\n",
      "generated an exception: name 'rawFileNames' is not defined\n",
      "generated an exception: name 'rawFileNames' is not defined\n",
      "generated an exception: name 'rawFileNames' is not defined\n",
      "generated an exception: name 'rawFileNames' is not defined\n",
      "generated an exception: name 'rawFileNames' is not defined\n",
      "generated an exception: name 'rawFileNames' is not defined\n",
      "generated an exception: name 'rawFileNames' is not defined\n",
      "generated an exception: name 'rawFileNames' is not defined\n"
     ]
    },
    {
     "name": "stderr",
     "output_type": "stream",
     "text": [
      "\n"
     ]
    },
    {
     "name": "stdout",
     "output_type": "stream",
     "text": [
      "pi3 pi4_2G 60\n",
      "3217\n"
     ]
    },
    {
     "name": "stderr",
     "output_type": "stream",
     "text": [
      "1008it [02:39,  6.34it/s]\n"
     ]
    },
    {
     "name": "stdout",
     "output_type": "stream",
     "text": [
      "Sub-process(es) done.\n"
     ]
    },
    {
     "name": "stderr",
     "output_type": "stream",
     "text": [
      "1008it [02:40,  6.29it/s]\n"
     ]
    },
    {
     "name": "stdout",
     "output_type": "stream",
     "text": [
      "Sub-process(es) done.\n"
     ]
    },
    {
     "name": "stderr",
     "output_type": "stream",
     "text": [
      "1008it [02:17,  7.36it/s]\n"
     ]
    },
    {
     "name": "stdout",
     "output_type": "stream",
     "text": [
      "Sub-process(es) done.\n"
     ]
    },
    {
     "name": "stderr",
     "output_type": "stream",
     "text": [
      "224it [00:28,  7.93it/s]\n"
     ]
    },
    {
     "name": "stdout",
     "output_type": "stream",
     "text": [
      "Sub-process(es) done.\n"
     ]
    },
    {
     "name": "stderr",
     "output_type": "stream",
     "text": [
      "  1%|▌                                                            | 32/3217 [00:01<02:06, 25.10it/s]"
     ]
    },
    {
     "name": "stdout",
     "output_type": "stream",
     "text": [
      "generated an exception: name 'rawFileNames' is not defined\n",
      "generated an exception: name 'rawFileNames' is not defined\n",
      "generated an exception: name 'rawFileNames' is not defined\n",
      "generated an exception: name 'rawFileNames' is not defined\n",
      "generated an exception: name 'rawFileNames' is not defined\n",
      "generated an exception: name 'rawFileNames' is not defined\n",
      "generated an exception: name 'rawFileNames' is not defined\n",
      "generated an exception: name 'rawFileNames' is not defined\n",
      "generated an exception: name 'rawFileNames' is not defined\n",
      "generated an exception: name 'rawFileNames' is not defined\n",
      "generated an exception: name 'rawFileNames' is not defined\n",
      "generated an exception: name 'rawFileNames' is not defined\n",
      "generated an exception: name 'rawFileNames' is not defined\n",
      "generated an exception: name 'rawFileNames' is not defined\n",
      "generated an exception: name 'rawFileNames' is not defined\n",
      "generated an exception: name 'rawFileNames' is not defined\n",
      "generated an exception: name 'rawFileNames' is not defined\n",
      "generated an exception: name 'rawFileNames' is not defined\n",
      "generated an exception: name 'rawFileNames' is not defined\n",
      "generated an exception: name 'rawFileNames' is not defined\n",
      "generated an exception: name 'rawFileNames' is not defined\n",
      "generated an exception: name 'rawFileNames' is not defined\n",
      "generated an exception: name 'rawFileNames' is not defined\n",
      "generated an exception: name 'rawFileNames' is not defined\n",
      "generated an exception: name 'rawFileNames' is not defined\n",
      "generated an exception: name 'rawFileNames' is not defined\n",
      "generated an exception: name 'rawFileNames' is not defined\n",
      "generated an exception: name 'rawFileNames' is not defined\n",
      "generated an exception: name 'rawFileNames' is not defined\n",
      "generated an exception: name 'rawFileNames' is not defined\n"
     ]
    },
    {
     "name": "stderr",
     "output_type": "stream",
     "text": [
      "  1%|▉                                                            | 48/3217 [00:02<02:49, 18.71it/s]"
     ]
    },
    {
     "name": "stdout",
     "output_type": "stream",
     "text": [
      "generated an exception: name 'rawFileNames' is not defined\n",
      "generated an exception: name 'rawFileNames' is not defined\n",
      "generated an exception: name 'rawFileNames' is not defined\n",
      "generated an exception: name 'rawFileNames' is not defined\n",
      "generated an exception: name 'rawFileNames' is not defined\n",
      "generated an exception: name 'rawFileNames' is not defined"
     ]
    },
    {
     "name": "stderr",
     "output_type": "stream",
     "text": [
      "  2%|█▏                                                           | 64/3217 [00:03<03:12, 16.35it/s]"
     ]
    },
    {
     "name": "stdout",
     "output_type": "stream",
     "text": [
      "\n",
      "generated an exception: name 'rawFileNames' is not defined\n",
      "generated an exception: name 'rawFileNames' is not defined\n",
      "generated an exception: name 'rawFileNames' is not defined\n",
      "generated an exception: name 'rawFileNames' is not defined\n",
      "generated an exception: name 'rawFileNames' is not defined\n",
      "generated an exception: name 'rawFileNames' is not defined\n",
      "generated an exception: name 'rawFileNames' is not defined\n",
      "generated an exception: name 'rawFileNames' is not defined\n",
      "generated an exception: name 'rawFileNames' is not defined\n",
      "generated an exception: name 'rawFileNames' is not defined\n",
      "generated an exception: name 'rawFileNames' is not defined\n",
      "generated an exception: name 'rawFileNames' is not defined\n"
     ]
    },
    {
     "name": "stderr",
     "output_type": "stream",
     "text": [
      "  2%|█▌                                                           | 80/3217 [00:04<03:32, 14.77it/s]"
     ]
    },
    {
     "name": "stdout",
     "output_type": "stream",
     "text": [
      "generated an exception: name 'rawFileNames' is not defined\n",
      "generated an exception: name 'rawFileNames' is not defined\n",
      "generated an exception: name 'rawFileNames' is not defined\n",
      "generated an exception: name 'rawFileNames' is not defined\n",
      "generated an exception: name 'rawFileNames' is not defined\n",
      "generated an exception: name 'rawFileNames' is not defined\n",
      "generated an exception: name 'rawFileNames' is not defined\n",
      "generated an exception: name 'rawFileNames' is not defined\n",
      "generated an exception: name 'rawFileNames' is not defined\n",
      "generated an exception: name 'rawFileNames' is not defined\n",
      "generated an exception: name 'rawFileNames' is not defined\n",
      "generated an exception: name 'rawFileNames' is not defined\n",
      "generated an exception: name 'rawFileNames' is not defined\n",
      "generated an exception: name 'rawFileNames' is not defined\n",
      "generated an exception: name 'rawFileNames' is not defined\n",
      "generated an exception: name 'rawFileNames' is not defined\n"
     ]
    },
    {
     "name": "stderr",
     "output_type": "stream",
     "text": [
      "  3%|█▊                                                           | 96/3217 [00:06<03:39, 14.24it/s]"
     ]
    },
    {
     "name": "stdout",
     "output_type": "stream",
     "text": [
      "generated an exception: name 'rawFileNames' is not defined\n",
      "generated an exception: name 'rawFileNames' is not defined\n",
      "generated an exception: name 'rawFileNames' is not defined\n",
      "generated an exception: name 'rawFileNames' is not defined\n",
      "generated an exception: name 'rawFileNames' is not defined\n",
      "generated an exception: name 'rawFileNames' is not defined\n",
      "generated an exception: name 'rawFileNames' is not defined\n",
      "generated an exception: name 'rawFileNames' is not defined\n",
      "generated an exception: name 'rawFileNames' is not defined\n",
      "generated an exception: name 'rawFileNames' is not defined\n",
      "generated an exception: name 'rawFileNames' is not defined\n",
      "generated an exception: name 'rawFileNames' is not defined\n",
      "generated an exception: name 'rawFileNames' is not defined\n",
      "generated an exception: name 'rawFileNames' is not defined\n",
      "generated an exception: name 'rawFileNames' is not defined\n",
      "generated an exception: name 'rawFileNames' is not defined\n"
     ]
    },
    {
     "name": "stderr",
     "output_type": "stream",
     "text": [
      "  3%|██                                                          | 112/3217 [00:07<03:45, 13.77it/s]"
     ]
    },
    {
     "name": "stdout",
     "output_type": "stream",
     "text": [
      "generated an exception: name 'rawFileNames' is not defined\n",
      "generated an exception: name 'rawFileNames' is not defined\n",
      "generated an exception: name 'rawFileNames' is not defined\n",
      "generated an exception: name 'rawFileNames' is not defined\n",
      "generated an exception: name 'rawFileNames' is not defined\n",
      "generated an exception: name 'rawFileNames' is not defined\n",
      "generated an exception: name 'rawFileNames' is not defined\n",
      "generated an exception: name 'rawFileNames' is not defined\n",
      "generated an exception: name 'rawFileNames' is not defined\n",
      "generated an exception: name 'rawFileNames' is not defined\n",
      "generated an exception: name 'rawFileNames' is not defined\n",
      "generated an exception: name 'rawFileNames' is not defined\n",
      "generated an exception: name 'rawFileNames' is not defined\n",
      "generated an exception: name 'rawFileNames' is not defined\n",
      "generated an exception: name 'rawFileNames' is not defined\n",
      "generated an exception: name 'rawFileNames' is not defined\n"
     ]
    },
    {
     "name": "stderr",
     "output_type": "stream",
     "text": [
      "  4%|██▍                                                         | 128/3217 [00:08<03:51, 13.33it/s]"
     ]
    },
    {
     "name": "stdout",
     "output_type": "stream",
     "text": [
      "generated an exception: name 'rawFileNames' is not defined\n",
      "generated an exception: name 'rawFileNames' is not defined\n",
      "generated an exception: name 'rawFileNames' is not defined\n",
      "generated an exception: name 'rawFileNames' is not defined\n",
      "generated an exception: name 'rawFileNames' is not defined\n",
      "generated an exception: name 'rawFileNames' is not defined\n",
      "generated an exception: name 'rawFileNames' is not defined\n",
      "generated an exception: name 'rawFileNames' is not defined\n",
      "generated an exception: name 'rawFileNames' is not defined\n",
      "generated an exception: name 'rawFileNames' is not defined\n",
      "generated an exception: name 'rawFileNames' is not defined\n",
      "generated an exception: name 'rawFileNames' is not defined\n",
      "generated an exception: name 'rawFileNames' is not defined\n",
      "generated an exception: name 'rawFileNames' is not defined\n",
      "generated an exception: name 'rawFileNames' is not defined\n",
      "generated an exception: name 'rawFileNames' is not defined\n"
     ]
    },
    {
     "name": "stderr",
     "output_type": "stream",
     "text": [
      "  4%|██▋                                                         | 144/3217 [00:09<03:52, 13.19it/s]"
     ]
    },
    {
     "name": "stdout",
     "output_type": "stream",
     "text": [
      "generated an exception: name 'rawFileNames' is not defined\n",
      "generated an exception: name 'rawFileNames' is not defined\n",
      "generated an exception: name 'rawFileNames' is not defined\n",
      "generated an exception: name 'rawFileNames' is not defined\n",
      "generated an exception: name 'rawFileNames' is not defined\n",
      "generated an exception: name 'rawFileNames' is not defined\n",
      "generated an exception: name 'rawFileNames' is not defined\n",
      "generated an exception: name 'rawFileNames' is not defined\n",
      "generated an exception: name 'rawFileNames' is not defined\n",
      "generated an exception: name 'rawFileNames' is not defined\n",
      "generated an exception: name 'rawFileNames' is not defined\n",
      "generated an exception: name 'rawFileNames' is not defined\n",
      "generated an exception: name 'rawFileNames' is not defined\n",
      "generated an exception: name 'rawFileNames' is not defined\n",
      "generated an exception: name 'rawFileNames' is not defined\n",
      "generated an exception: name 'rawFileNames' is not defined\n"
     ]
    },
    {
     "name": "stderr",
     "output_type": "stream",
     "text": [
      "  5%|██▉                                                         | 160/3217 [00:11<03:54, 13.06it/s]"
     ]
    },
    {
     "name": "stdout",
     "output_type": "stream",
     "text": [
      "generated an exception: name 'rawFileNames' is not defined\n",
      "generated an exception: name 'rawFileNames' is not defined\n",
      "generated an exception: name 'rawFileNames' is not defined\n",
      "generated an exception: name 'rawFileNames' is not defined\n",
      "generated an exception: name 'rawFileNames' is not defined\n",
      "generated an exception: name 'rawFileNames' is not defined\n",
      "generated an exception: name 'rawFileNames' is not defined\n",
      "generated an exception: name 'rawFileNames' is not defined\n",
      "generated an exception: name 'rawFileNames' is not defined\n",
      "generated an exception: name 'rawFileNames' is not defined\n",
      "generated an exception: name 'rawFileNames' is not defined\n",
      "generated an exception: name 'rawFileNames' is not defined\n",
      "generated an exception: name 'rawFileNames' is not defined\n",
      "generated an exception: name 'rawFileNames' is not defined\n",
      "generated an exception: name 'rawFileNames' is not defined\n",
      "generated an exception: name 'rawFileNames' is not defined\n"
     ]
    },
    {
     "name": "stderr",
     "output_type": "stream",
     "text": [
      "  5%|███▎                                                        | 176/3217 [00:12<03:52, 13.06it/s]"
     ]
    },
    {
     "name": "stdout",
     "output_type": "stream",
     "text": [
      "generated an exception: name 'rawFileNames' is not defined\n",
      "generated an exception: name 'rawFileNames' is not defined\n",
      "generated an exception: name 'rawFileNames' is not defined\n",
      "generated an exception: name 'rawFileNames' is not defined\n",
      "generated an exception: name 'rawFileNames' is not defined\n",
      "generated an exception: name 'rawFileNames' is not defined\n",
      "generated an exception: name 'rawFileNames' is not defined\n",
      "generated an exception: name 'rawFileNames' is not defined\n",
      "generated an exception: name 'rawFileNames' is not defined\n",
      "generated an exception: name 'rawFileNames' is not defined\n",
      "generated an exception: name 'rawFileNames' is not defined\n",
      "generated an exception: name 'rawFileNames' is not defined\n",
      "generated an exception: name 'rawFileNames' is not defined\n",
      "generated an exception: name 'rawFileNames' is not defined\n",
      "generated an exception: name 'rawFileNames' is not defined\n",
      "generated an exception: name 'rawFileNames' is not defined\n"
     ]
    },
    {
     "name": "stderr",
     "output_type": "stream",
     "text": [
      "  6%|███▌                                                        | 192/3217 [00:13<03:54, 12.92it/s]"
     ]
    },
    {
     "name": "stdout",
     "output_type": "stream",
     "text": [
      "generated an exception: name 'rawFileNames' is not defined\n",
      "generated an exception: name 'rawFileNames' is not defined\n",
      "generated an exception: name 'rawFileNames' is not defined\n",
      "generated an exception: name 'rawFileNames' is not defined\n",
      "generated an exception: name 'rawFileNames' is not defined\n",
      "generated an exception: name 'rawFileNames' is not defined\n",
      "generated an exception: name 'rawFileNames' is not defined\n",
      "generated an exception: name 'rawFileNames' is not defined\n",
      "generated an exception: name 'rawFileNames' is not defined\n",
      "generated an exception: name 'rawFileNames' is not defined\n",
      "generated an exception: name 'rawFileNames' is not defined\n",
      "generated an exception: name 'rawFileNames' is not defined\n",
      "generated an exception: name 'rawFileNames' is not defined\n",
      "generated an exception: name 'rawFileNames' is not defined\n",
      "generated an exception: name 'rawFileNames' is not defined\n",
      "generated an exception: name 'rawFileNames' is not defined\n"
     ]
    },
    {
     "name": "stderr",
     "output_type": "stream",
     "text": [
      "  6%|███▉                                                        | 208/3217 [00:14<03:53, 12.90it/s]"
     ]
    },
    {
     "name": "stdout",
     "output_type": "stream",
     "text": [
      "generated an exception: name 'rawFileNames' is not defined\n",
      "generated an exception: name 'rawFileNames' is not defined\n",
      "generated an exception: name 'rawFileNames' is not defined\n",
      "generated an exception: name 'rawFileNames' is not defined\n",
      "generated an exception: name 'rawFileNames' is not defined\n",
      "generated an exception: name 'rawFileNames' is not defined\n",
      "generated an exception: name 'rawFileNames' is not defined\n",
      "generated an exception: name 'rawFileNames' is not defined\n",
      "generated an exception: name 'rawFileNames' is not defined\n",
      "generated an exception: name 'rawFileNames' is not defined\n",
      "generated an exception: name 'rawFileNames' is not defined\n",
      "generated an exception: name 'rawFileNames' is not defined\n",
      "generated an exception: name 'rawFileNames' is not defined\n",
      "generated an exception: name 'rawFileNames' is not defined\n",
      "generated an exception: name 'rawFileNames' is not defined\n",
      "generated an exception: name 'rawFileNames' is not defined\n",
      "generated an exception: name 'rawFileNames' is not defined\n",
      "generated an exception: name 'rawFileNames' is not defined"
     ]
    },
    {
     "name": "stderr",
     "output_type": "stream",
     "text": [
      "  7%|████▏                                                       | 224/3217 [00:16<03:54, 12.78it/s]"
     ]
    },
    {
     "name": "stdout",
     "output_type": "stream",
     "text": [
      "\n",
      "generated an exception: name 'rawFileNames' is not defined\n",
      "generated an exception: name 'rawFileNames' is not defined\n",
      "generated an exception: name 'rawFileNames' is not defined\n",
      "generated an exception: name 'rawFileNames' is not defined\n",
      "generated an exception: name 'rawFileNames' is not defined\n",
      "generated an exception: name 'rawFileNames' is not defined\n",
      "generated an exception: name 'rawFileNames' is not defined\n",
      "generated an exception: name 'rawFileNames' is not defined\n",
      "generated an exception: name 'rawFileNames' is not defined\n",
      "generated an exception: name 'rawFileNames' is not defined\n",
      "generated an exception: name 'rawFileNames' is not defined\n",
      "generated an exception: name 'rawFileNames' is not defined\n",
      "generated an exception: name 'rawFileNames' is not defined\n",
      "generated an exception: name 'rawFileNames' is not defined\n",
      "generated an exception: name 'rawFileNames' is not defined\n",
      "generated an exception: name 'rawFileNames' is not defined"
     ]
    },
    {
     "name": "stderr",
     "output_type": "stream",
     "text": [
      "  7%|████▍                                                       | 240/3217 [00:17<03:50, 12.93it/s]"
     ]
    },
    {
     "name": "stdout",
     "output_type": "stream",
     "text": [
      "\n",
      "generated an exception: name 'rawFileNames' is not defined\n",
      "generated an exception: name 'rawFileNames' is not defined\n",
      "generated an exception: name 'rawFileNames' is not defined\n",
      "generated an exception: name 'rawFileNames' is not defined\n",
      "generated an exception: name 'rawFileNames' is not defined\n",
      "generated an exception: name 'rawFileNames' is not defined\n",
      "generated an exception: name 'rawFileNames' is not defined\n",
      "generated an exception: name 'rawFileNames' is not defined\n",
      "generated an exception: name 'rawFileNames' is not defined\n",
      "generated an exception: name 'rawFileNames' is not defined\n",
      "generated an exception: name 'rawFileNames' is not defined\n",
      "generated an exception: name 'rawFileNames' is not defined\n",
      "generated an exception: name 'rawFileNames' is not defined\n",
      "generated an exception: name 'rawFileNames' is not defined\n",
      "generated an exception: name 'rawFileNames' is not defined\n",
      "generated an exception: name 'rawFileNames' is not defined"
     ]
    },
    {
     "name": "stderr",
     "output_type": "stream",
     "text": [
      "  8%|████▊                                                       | 256/3217 [00:18<03:49, 12.89it/s]"
     ]
    },
    {
     "name": "stdout",
     "output_type": "stream",
     "text": [
      "\n",
      "generated an exception: name 'rawFileNames' is not defined\n",
      "generated an exception: name 'rawFileNames' is not defined\n",
      "generated an exception: name 'rawFileNames' is not defined\n",
      "generated an exception: name 'rawFileNames' is not defined\n",
      "generated an exception: name 'rawFileNames' is not defined\n",
      "generated an exception: name 'rawFileNames' is not defined\n",
      "generated an exception: name 'rawFileNames' is not defined\n",
      "generated an exception: name 'rawFileNames' is not defined\n",
      "generated an exception: name 'rawFileNames' is not defined\n",
      "generated an exception: name 'rawFileNames' is not defined\n",
      "generated an exception: name 'rawFileNames' is not defined\n",
      "generated an exception: name 'rawFileNames' is not defined\n",
      "generated an exception: name 'rawFileNames' is not defined\n",
      "generated an exception: name 'rawFileNames' is not defined\n",
      "generated an exception: name 'rawFileNames' is not defined"
     ]
    },
    {
     "name": "stderr",
     "output_type": "stream",
     "text": [
      "  8%|█████                                                       | 272/3217 [00:19<03:49, 12.84it/s]"
     ]
    },
    {
     "name": "stdout",
     "output_type": "stream",
     "text": [
      "\n",
      "generated an exception: name 'rawFileNames' is not defined\n",
      "generated an exception: name 'rawFileNames' is not defined\n",
      "generated an exception: name 'rawFileNames' is not defined\n",
      "generated an exception: name 'rawFileNames' is not defined\n",
      "generated an exception: name 'rawFileNames' is not defined\n",
      "generated an exception: name 'rawFileNames' is not defined\n",
      "generated an exception: name 'rawFileNames' is not defined\n",
      "generated an exception: name 'rawFileNames' is not defined\n",
      "generated an exception: name 'rawFileNames' is not defined\n",
      "generated an exception: name 'rawFileNames' is not defined\n",
      "generated an exception: name 'rawFileNames' is not defined\n",
      "generated an exception: name 'rawFileNames' is not defined\n",
      "generated an exception: name 'rawFileNames' is not defined\n",
      "generated an exception: name 'rawFileNames' is not defined\n",
      "generated an exception: name 'rawFileNames' is not defined\n"
     ]
    },
    {
     "name": "stderr",
     "output_type": "stream",
     "text": [
      "  9%|█████▎                                                      | 288/3217 [00:21<03:49, 12.77it/s]"
     ]
    },
    {
     "name": "stdout",
     "output_type": "stream",
     "text": [
      "generated an exception: name 'rawFileNames' is not defined\n",
      "generated an exception: name 'rawFileNames' is not defined\n",
      "generated an exception: name 'rawFileNames' is not defined\n",
      "generated an exception: name 'rawFileNames' is not defined\n",
      "generated an exception: name 'rawFileNames' is not defined\n",
      "generated an exception: name 'rawFileNames' is not defined\n",
      "generated an exception: name 'rawFileNames' is not defined\n",
      "generated an exception: name 'rawFileNames' is not defined\n",
      "generated an exception: name 'rawFileNames' is not defined\n",
      "generated an exception: name 'rawFileNames' is not defined\n",
      "generated an exception: name 'rawFileNames' is not defined\n",
      "generated an exception: name 'rawFileNames' is not defined\n",
      "generated an exception: name 'rawFileNames' is not defined\n",
      "generated an exception: name 'rawFileNames' is not defined\n",
      "generated an exception: name 'rawFileNames' is not defined\n",
      "generated an exception: name 'rawFileNames' is not defined\n",
      "generated an exception: name 'rawFileNames' is not defined\n",
      "generated an exception: name 'rawFileNames' is not defined\n",
      "generated an exception: name 'rawFileNames' is not defined\n",
      "generated an exception: name 'rawFileNames' is not defined\n",
      "generated an exception: name 'rawFileNames' is not defined\n"
     ]
    },
    {
     "name": "stderr",
     "output_type": "stream",
     "text": [
      "  9%|█████▋                                                      | 304/3217 [00:22<03:47, 12.81it/s]"
     ]
    },
    {
     "name": "stdout",
     "output_type": "stream",
     "text": [
      "generated an exception: name 'rawFileNames' is not defined\n",
      "generated an exception: name 'rawFileNames' is not defined\n",
      "generated an exception: name 'rawFileNames' is not defined\n",
      "generated an exception: name 'rawFileNames' is not defined\n",
      "generated an exception: name 'rawFileNames' is not defined\n",
      "generated an exception: name 'rawFileNames' is not defined\n",
      "generated an exception: name 'rawFileNames' is not defined\n",
      "generated an exception: name 'rawFileNames' is not defined\n",
      "generated an exception: name 'rawFileNames' is not defined\n",
      "generated an exception: name 'rawFileNames' is not defined\n",
      "generated an exception: name 'rawFileNames' is not defined\n",
      "generated an exception: name 'rawFileNames' is not defined\n",
      "generated an exception: name 'rawFileNames' is not defined\n"
     ]
    },
    {
     "name": "stderr",
     "output_type": "stream",
     "text": [
      " 10%|█████▉                                                      | 320/3217 [00:23<03:45, 12.85it/s]"
     ]
    },
    {
     "name": "stdout",
     "output_type": "stream",
     "text": [
      "generated an exception: name 'rawFileNames' is not defined\n",
      "generated an exception: name 'rawFileNames' is not defined\n",
      "generated an exception: name 'rawFileNames' is not defined\n",
      "generated an exception: name 'rawFileNames' is not defined\n",
      "generated an exception: name 'rawFileNames' is not defined\n",
      "generated an exception: name 'rawFileNames' is not defined\n",
      "generated an exception: name 'rawFileNames' is not defined\n",
      "generated an exception: name 'rawFileNames' is not defined\n",
      "generated an exception: name 'rawFileNames' is not defined\n",
      "generated an exception: name 'rawFileNames' is not defined\n",
      "generated an exception: name 'rawFileNames' is not defined\n",
      "generated an exception: name 'rawFileNames' is not defined\n",
      "generated an exception: name 'rawFileNames' is not defined\n",
      "generated an exception: name 'rawFileNames' is not defined\n",
      "generated an exception: name 'rawFileNames' is not defined\n",
      "generated an exception: name 'rawFileNames' is not defined\n",
      "generated an exception: name 'rawFileNames' is not defined"
     ]
    },
    {
     "name": "stderr",
     "output_type": "stream",
     "text": [
      " 10%|██████▎                                                     | 336/3217 [00:24<03:43, 12.92it/s]"
     ]
    },
    {
     "name": "stdout",
     "output_type": "stream",
     "text": [
      "\n",
      "generated an exception: name 'rawFileNames' is not defined\n",
      "generated an exception: name 'rawFileNames' is not defined\n",
      "generated an exception: name 'rawFileNames' is not defined\n",
      "generated an exception: name 'rawFileNames' is not defined\n",
      "generated an exception: name 'rawFileNames' is not defined\n",
      "generated an exception: name 'rawFileNames' is not defined\n",
      "generated an exception: name 'rawFileNames' is not defined\n",
      "generated an exception: name 'rawFileNames' is not defined\n",
      "generated an exception: name 'rawFileNames' is not defined\n",
      "generated an exception: name 'rawFileNames' is not defined\n",
      "generated an exception: name 'rawFileNames' is not defined\n",
      "generated an exception: name 'rawFileNames' is not defined\n",
      "generated an exception: name 'rawFileNames' is not defined\n"
     ]
    },
    {
     "name": "stderr",
     "output_type": "stream",
     "text": [
      " 11%|██████▌                                                     | 352/3217 [00:26<03:42, 12.86it/s]"
     ]
    },
    {
     "name": "stdout",
     "output_type": "stream",
     "text": [
      "generated an exception: name 'rawFileNames' is not defined\n",
      "generated an exception: name 'rawFileNames' is not defined\n",
      "generated an exception: name 'rawFileNames' is not defined\n",
      "generated an exception: name 'rawFileNames' is not defined\n",
      "generated an exception: name 'rawFileNames' is not defined\n",
      "generated an exception: name 'rawFileNames' is not defined\n",
      "generated an exception: name 'rawFileNames' is not defined\n",
      "generated an exception: name 'rawFileNames' is not defined\n",
      "generated an exception: name 'rawFileNames' is not defined\n",
      "generated an exception: name 'rawFileNames' is not defined\n",
      "generated an exception: name 'rawFileNames' is not defined\n",
      "generated an exception: name 'rawFileNames' is not defined\n",
      "generated an exception: name 'rawFileNames' is not defined\n",
      "generated an exception: name 'rawFileNames' is not defined\n",
      "generated an exception: name 'rawFileNames' is not defined\n",
      "generated an exception: name 'rawFileNames' is not defined\n",
      "generated an exception: name 'rawFileNames' is not defined"
     ]
    },
    {
     "name": "stderr",
     "output_type": "stream",
     "text": [
      " 11%|██████▊                                                     | 368/3217 [00:27<03:39, 12.99it/s]"
     ]
    },
    {
     "name": "stdout",
     "output_type": "stream",
     "text": [
      "\n",
      "generated an exception: name 'rawFileNames' is not defined\n",
      "generated an exception: name 'rawFileNames' is not defined\n",
      "generated an exception: name 'rawFileNames' is not defined\n",
      "generated an exception: name 'rawFileNames' is not defined\n",
      "generated an exception: name 'rawFileNames' is not defined\n",
      "generated an exception: name 'rawFileNames' is not defined\n",
      "generated an exception: name 'rawFileNames' is not defined\n",
      "generated an exception: name 'rawFileNames' is not defined\n",
      "generated an exception: name 'rawFileNames' is not defined\n",
      "generated an exception: name 'rawFileNames' is not defined\n",
      "generated an exception: name 'rawFileNames' is not defined\n",
      "generated an exception: name 'rawFileNames' is not defined\n",
      "generated an exception: name 'rawFileNames' is not defined\n",
      "generated an exception: name 'rawFileNames' is not defined\n",
      "generated an exception: name 'rawFileNames' is not defined\n",
      "generated an exception: name 'rawFileNames' is not defined\n",
      "generated an exception: name 'rawFileNames' is not defined\n",
      "generated an exception: name 'rawFileNames' is not defined"
     ]
    },
    {
     "name": "stderr",
     "output_type": "stream",
     "text": [
      " 12%|███████▏                                                    | 384/3217 [00:28<03:39, 12.92it/s]"
     ]
    },
    {
     "name": "stdout",
     "output_type": "stream",
     "text": [
      "\n",
      "generated an exception: name 'rawFileNames' is not defined\n",
      "generated an exception: name 'rawFileNames' is not defined\n",
      "generated an exception: name 'rawFileNames' is not defined\n",
      "generated an exception: name 'rawFileNames' is not defined\n",
      "generated an exception: name 'rawFileNames' is not defined\n",
      "generated an exception: name 'rawFileNames' is not defined\n",
      "generated an exception: name 'rawFileNames' is not defined\n",
      "generated an exception: name 'rawFileNames' is not defined\n",
      "generated an exception: name 'rawFileNames' is not defined\n",
      "generated an exception: name 'rawFileNames' is not defined\n",
      "generated an exception: name 'rawFileNames' is not defined\n",
      "generated an exception: name 'rawFileNames' is not defined\n",
      "generated an exception: name 'rawFileNames' is not defined\n"
     ]
    },
    {
     "name": "stderr",
     "output_type": "stream",
     "text": [
      " 12%|███████▍                                                    | 400/3217 [00:29<03:35, 13.04it/s]"
     ]
    },
    {
     "name": "stdout",
     "output_type": "stream",
     "text": [
      "generated an exception: name 'rawFileNames' is not defined\n",
      "generated an exception: name 'rawFileNames' is not defined\n",
      "generated an exception: name 'rawFileNames' is not defined\n",
      "generated an exception: name 'rawFileNames' is not defined\n",
      "generated an exception: name 'rawFileNames' is not defined\n",
      "generated an exception: name 'rawFileNames' is not defined\n",
      "generated an exception: name 'rawFileNames' is not defined\n",
      "generated an exception: name 'rawFileNames' is not defined\n",
      "generated an exception: name 'rawFileNames' is not defined\n",
      "generated an exception: name 'rawFileNames' is not defined\n",
      "generated an exception: name 'rawFileNames' is not defined\n",
      "generated an exception: name 'rawFileNames' is not defined\n",
      "generated an exception: name 'rawFileNames' is not defined\n",
      "generated an exception: name 'rawFileNames' is not defined\n",
      "generated an exception: name 'rawFileNames' is not defined\n",
      "generated an exception: name 'rawFileNames' is not defined\n"
     ]
    },
    {
     "name": "stderr",
     "output_type": "stream",
     "text": [
      " 13%|███████▊                                                    | 416/3217 [00:32<04:45,  9.80it/s]"
     ]
    },
    {
     "name": "stdout",
     "output_type": "stream",
     "text": [
      "generated an exception: name 'rawFileNames' is not defined\n",
      "generated an exception: name 'rawFileNames' is not defined\n",
      "generated an exception: name 'rawFileNames' is not defined\n",
      "generated an exception: name 'rawFileNames' is not defined\n",
      "generated an exception: name 'rawFileNames' is not defined\n",
      "generated an exception: name 'rawFileNames' is not defined\n",
      "generated an exception: name 'rawFileNames' is not defined\n",
      "generated an exception: name 'rawFileNames' is not defined\n",
      "generated an exception: name 'rawFileNames' is not defined\n",
      "generated an exception: name 'rawFileNames' is not defined\n",
      "generated an exception: name 'rawFileNames' is not defined\n",
      "generated an exception: name 'rawFileNames' is not defined\n",
      "generated an exception: name 'rawFileNames' is not defined\n",
      "generated an exception: name 'rawFileNames' is not defined\n",
      "generated an exception: name 'rawFileNames' is not defined\n",
      "generated an exception: name 'rawFileNames' is not defined\n",
      "generated an exception: name 'rawFileNames' is not defined\n",
      "generated an exception: name 'rawFileNames' is not defined\n",
      "generated an exception: name 'rawFileNames' is not defined"
     ]
    },
    {
     "name": "stderr",
     "output_type": "stream",
     "text": [
      " 13%|████████                                                    | 432/3217 [00:33<04:22, 10.59it/s]"
     ]
    },
    {
     "name": "stdout",
     "output_type": "stream",
     "text": [
      "\n",
      "generated an exception: name 'rawFileNames' is not defined\n",
      "generated an exception: name 'rawFileNames' is not defined\n",
      "generated an exception: name 'rawFileNames' is not defined\n",
      "generated an exception: name 'rawFileNames' is not defined\n",
      "generated an exception: name 'rawFileNames' is not defined\n",
      "generated an exception: name 'rawFileNames' is not defined\n",
      "generated an exception: name 'rawFileNames' is not defined\n",
      "generated an exception: name 'rawFileNames' is not defined\n",
      "generated an exception: name 'rawFileNames' is not defined\n",
      "generated an exception: name 'rawFileNames' is not defined\n",
      "generated an exception: name 'rawFileNames' is not defined\n",
      "generated an exception: name 'rawFileNames' is not defined\n",
      "generated an exception: name 'rawFileNames' is not defined\n"
     ]
    },
    {
     "name": "stderr",
     "output_type": "stream",
     "text": [
      " 14%|████████▎                                                   | 448/3217 [00:34<04:08, 11.17it/s]"
     ]
    },
    {
     "name": "stdout",
     "output_type": "stream",
     "text": [
      "generated an exception: name 'rawFileNames' is not defined\n",
      "generated an exception: name 'rawFileNames' is not defined\n",
      "generated an exception: name 'rawFileNames' is not defined\n",
      "generated an exception: name 'rawFileNames' is not defined\n",
      "generated an exception: name 'rawFileNames' is not defined\n",
      "generated an exception: name 'rawFileNames' is not defined\n",
      "generated an exception: name 'rawFileNames' is not defined\n",
      "generated an exception: name 'rawFileNames' is not defined\n",
      "generated an exception: name 'rawFileNames' is not defined\n",
      "generated an exception: name 'rawFileNames' is not defined\n",
      "generated an exception: name 'rawFileNames' is not defined\n",
      "generated an exception: name 'rawFileNames' is not defined\n",
      "generated an exception: name 'rawFileNames' is not defined\n",
      "generated an exception: name 'rawFileNames' is not defined\n",
      "generated an exception: name 'rawFileNames' is not defined\n",
      "generated an exception: name 'rawFileNames' is not defined\n"
     ]
    },
    {
     "name": "stderr",
     "output_type": "stream",
     "text": [
      " 14%|████████▋                                                   | 464/3217 [00:36<03:57, 11.58it/s]"
     ]
    },
    {
     "name": "stdout",
     "output_type": "stream",
     "text": [
      "generated an exception: name 'rawFileNames' is not defined\n",
      "generated an exception: name 'rawFileNames' is not defined\n",
      "generated an exception: name 'rawFileNames' is not defined\n",
      "generated an exception: name 'rawFileNames' is not defined\n",
      "generated an exception: name 'rawFileNames' is not defined\n",
      "generated an exception: name 'rawFileNames' is not defined\n",
      "generated an exception: name 'rawFileNames' is not defined\n",
      "generated an exception: name 'rawFileNames' is not defined\n",
      "generated an exception: name 'rawFileNames' is not defined\n",
      "generated an exception: name 'rawFileNames' is not defined\n",
      "generated an exception: name 'rawFileNames' is not defined\n",
      "generated an exception: name 'rawFileNames' is not defined\n",
      "generated an exception: name 'rawFileNames' is not defined\n",
      "generated an exception: name 'rawFileNames' is not defined\n",
      "generated an exception: name 'rawFileNames' is not defined\n",
      "generated an exception: name 'rawFileNames' is not defined\n",
      "generated an exception: name 'rawFileNames' is not defined\n",
      "generated an exception: name 'rawFileNames' is not defined"
     ]
    },
    {
     "name": "stderr",
     "output_type": "stream",
     "text": [
      " 15%|████████▉                                                   | 480/3217 [00:37<03:48, 11.95it/s]"
     ]
    },
    {
     "name": "stdout",
     "output_type": "stream",
     "text": [
      "\n",
      "generated an exception: name 'rawFileNames' is not defined\n",
      "generated an exception: name 'rawFileNames' is not defined\n",
      "generated an exception: name 'rawFileNames' is not defined\n",
      "generated an exception: name 'rawFileNames' is not defined\n",
      "generated an exception: name 'rawFileNames' is not defined\n",
      "generated an exception: name 'rawFileNames' is not defined\n",
      "generated an exception: name 'rawFileNames' is not defined\n",
      "generated an exception: name 'rawFileNames' is not defined\n",
      "generated an exception: name 'rawFileNames' is not defined\n",
      "generated an exception: name 'rawFileNames' is not defined\n",
      "generated an exception: name 'rawFileNames' is not defined\n",
      "generated an exception: name 'rawFileNames' is not defined\n",
      "generated an exception: name 'rawFileNames' is not defined\n",
      "generated an exception: name 'rawFileNames' is not defined\n"
     ]
    },
    {
     "name": "stderr",
     "output_type": "stream",
     "text": [
      " 15%|█████████▎                                                  | 496/3217 [00:38<03:44, 12.13it/s]"
     ]
    },
    {
     "name": "stdout",
     "output_type": "stream",
     "text": [
      "generated an exception: name 'rawFileNames' is not defined\n",
      "generated an exception: name 'rawFileNames' is not defined\n",
      "generated an exception: name 'rawFileNames' is not defined\n",
      "generated an exception: name 'rawFileNames' is not defined\n",
      "generated an exception: name 'rawFileNames' is not defined\n",
      "generated an exception: name 'rawFileNames' is not defined\n",
      "generated an exception: name 'rawFileNames' is not defined\n",
      "generated an exception: name 'rawFileNames' is not defined\n",
      "generated an exception: name 'rawFileNames' is not defined\n",
      "generated an exception: name 'rawFileNames' is not defined\n",
      "generated an exception: name 'rawFileNames' is not defined\n",
      "generated an exception: name 'rawFileNames' is not defined\n",
      "generated an exception: name 'rawFileNames' is not defined\n",
      "generated an exception: name 'rawFileNames' is not defined\n",
      "generated an exception: name 'rawFileNames' is not defined\n",
      "generated an exception: name 'rawFileNames' is not defined\n"
     ]
    },
    {
     "name": "stderr",
     "output_type": "stream",
     "text": [
      " 16%|█████████▌                                                  | 512/3217 [00:39<03:40, 12.29it/s]"
     ]
    },
    {
     "name": "stdout",
     "output_type": "stream",
     "text": [
      "generated an exception: name 'rawFileNames' is not defined\n",
      "generated an exception: name 'rawFileNames' is not defined\n",
      "generated an exception: name 'rawFileNames' is not defined\n",
      "generated an exception: name 'rawFileNames' is not defined\n",
      "generated an exception: name 'rawFileNames' is not defined\n",
      "generated an exception: name 'rawFileNames' is not defined\n",
      "generated an exception: name 'rawFileNames' is not defined\n",
      "generated an exception: name 'rawFileNames' is not defined\n",
      "generated an exception: name 'rawFileNames' is not defined\n",
      "generated an exception: name 'rawFileNames' is not defined\n",
      "generated an exception: name 'rawFileNames' is not defined\n",
      "generated an exception: name 'rawFileNames' is not defined\n",
      "generated an exception: name 'rawFileNames' is not defined\n",
      "generated an exception: name 'rawFileNames' is not defined\n",
      "generated an exception: name 'rawFileNames' is not defined\n",
      "generated an exception: name 'rawFileNames' is not defined\n",
      "generated an exception: name 'rawFileNames' is not defined\n",
      "generated an exception: name 'rawFileNames' is not defined\n",
      "generated an exception: name 'rawFileNames' is not defined\n",
      "generated an exception: name 'rawFileNames' is not defined\n"
     ]
    },
    {
     "name": "stderr",
     "output_type": "stream",
     "text": [
      " 16%|█████████▊                                                  | 528/3217 [00:41<03:34, 12.51it/s]"
     ]
    },
    {
     "name": "stdout",
     "output_type": "stream",
     "text": [
      "generated an exception: name 'rawFileNames' is not defined\n",
      "generated an exception: name 'rawFileNames' is not defined\n",
      "generated an exception: name 'rawFileNames' is not defined\n",
      "generated an exception: name 'rawFileNames' is not defined\n",
      "generated an exception: name 'rawFileNames' is not defined\n",
      "generated an exception: name 'rawFileNames' is not defined\n",
      "generated an exception: name 'rawFileNames' is not defined\n",
      "generated an exception: name 'rawFileNames' is not defined\n",
      "generated an exception: name 'rawFileNames' is not defined\n",
      "generated an exception: name 'rawFileNames' is not defined\n",
      "generated an exception: name 'rawFileNames' is not defined\n",
      "generated an exception: name 'rawFileNames' is not defined\n"
     ]
    },
    {
     "name": "stderr",
     "output_type": "stream",
     "text": [
      " 17%|██████████▏                                                 | 544/3217 [00:42<03:30, 12.71it/s]"
     ]
    },
    {
     "name": "stdout",
     "output_type": "stream",
     "text": [
      "generated an exception: name 'rawFileNames' is not defined\n",
      "generated an exception: name 'rawFileNames' is not defined\n",
      "generated an exception: name 'rawFileNames' is not defined\n",
      "generated an exception: name 'rawFileNames' is not defined\n",
      "generated an exception: name 'rawFileNames' is not defined\n",
      "generated an exception: name 'rawFileNames' is not defined\n",
      "generated an exception: name 'rawFileNames' is not defined\n",
      "generated an exception: name 'rawFileNames' is not defined\n",
      "generated an exception: name 'rawFileNames' is not defined\n",
      "generated an exception: name 'rawFileNames' is not defined\n",
      "generated an exception: name 'rawFileNames' is not defined\n",
      "generated an exception: name 'rawFileNames' is not defined\n",
      "generated an exception: name 'rawFileNames' is not defined\n",
      "generated an exception: name 'rawFileNames' is not defined\n",
      "generated an exception: name 'rawFileNames' is not defined\n",
      "generated an exception: name 'rawFileNames' is not defined\n",
      "generated an exception: name 'rawFileNames' is not defined\n",
      "generated an exception: name 'rawFileNames' is not defined\n",
      "generated an exception: name 'rawFileNames' is not defined\n"
     ]
    },
    {
     "name": "stderr",
     "output_type": "stream",
     "text": [
      " 17%|██████████▍                                                 | 560/3217 [00:43<03:26, 12.85it/s]"
     ]
    },
    {
     "name": "stdout",
     "output_type": "stream",
     "text": [
      "generated an exception: name 'rawFileNames' is not defined\n",
      "generated an exception: name 'rawFileNames' is not defined\n",
      "generated an exception: name 'rawFileNames' is not defined\n",
      "generated an exception: name 'rawFileNames' is not defined\n",
      "generated an exception: name 'rawFileNames' is not defined\n",
      "generated an exception: name 'rawFileNames' is not defined\n",
      "generated an exception: name 'rawFileNames' is not defined\n",
      "generated an exception: name 'rawFileNames' is not defined\n",
      "generated an exception: name 'rawFileNames' is not defined\n",
      "generated an exception: name 'rawFileNames' is not defined\n",
      "generated an exception: name 'rawFileNames' is not defined\n",
      "generated an exception: name 'rawFileNames' is not defined\n",
      "generated an exception: name 'rawFileNames' is not defined\n",
      "generated an exception: name 'rawFileNames' is not defined\n",
      "generated an exception: name 'rawFileNames' is not defined"
     ]
    },
    {
     "name": "stderr",
     "output_type": "stream",
     "text": [
      " 18%|██████████▋                                                 | 576/3217 [00:44<03:25, 12.86it/s]"
     ]
    },
    {
     "name": "stdout",
     "output_type": "stream",
     "text": [
      "\n",
      "generated an exception: name 'rawFileNames' is not defined\n",
      "generated an exception: name 'rawFileNames' is not defined\n",
      "generated an exception: name 'rawFileNames' is not defined\n",
      "generated an exception: name 'rawFileNames' is not defined\n",
      "generated an exception: name 'rawFileNames' is not defined\n",
      "generated an exception: name 'rawFileNames' is not defined\n",
      "generated an exception: name 'rawFileNames' is not defined\n",
      "generated an exception: name 'rawFileNames' is not defined\n",
      "generated an exception: name 'rawFileNames' is not defined\n",
      "generated an exception: name 'rawFileNames' is not defined\n",
      "generated an exception: name 'rawFileNames' is not defined\n",
      "generated an exception: name 'rawFileNames' is not defined\n",
      "generated an exception: name 'rawFileNames' is not defined\n",
      "generated an exception: name 'rawFileNames' is not defined\n",
      "generated an exception: name 'rawFileNames' is not defined"
     ]
    },
    {
     "name": "stderr",
     "output_type": "stream",
     "text": [
      " 18%|███████████                                                 | 592/3217 [00:45<03:24, 12.87it/s]"
     ]
    },
    {
     "name": "stdout",
     "output_type": "stream",
     "text": [
      "\n",
      "generated an exception: name 'rawFileNames' is not defined\n",
      "generated an exception: name 'rawFileNames' is not defined\n",
      "generated an exception: name 'rawFileNames' is not defined\n",
      "generated an exception: name 'rawFileNames' is not defined\n",
      "generated an exception: name 'rawFileNames' is not defined\n",
      "generated an exception: name 'rawFileNames' is not defined\n",
      "generated an exception: name 'rawFileNames' is not defined\n",
      "generated an exception: name 'rawFileNames' is not defined\n",
      "generated an exception: name 'rawFileNames' is not defined\n",
      "generated an exception: name 'rawFileNames' is not defined\n",
      "generated an exception: name 'rawFileNames' is not defined\n",
      "generated an exception: name 'rawFileNames' is not defined\n",
      "generated an exception: name 'rawFileNames' is not defined\n",
      "generated an exception: name 'rawFileNames' is not defined\n",
      "generated an exception: name 'rawFileNames' is not defined\n",
      "generated an exception: name 'rawFileNames' is not defined\n",
      "generated an exception: name 'rawFileNames' is not defined\n",
      "generated an exception: name 'rawFileNames' is not defined\n",
      "generated an exception: name 'rawFileNames' is not defined\n"
     ]
    },
    {
     "name": "stderr",
     "output_type": "stream",
     "text": [
      " 19%|███████████▎                                                | 608/3217 [00:47<03:21, 12.96it/s]"
     ]
    },
    {
     "name": "stdout",
     "output_type": "stream",
     "text": [
      "generated an exception: name 'rawFileNames' is not defined\n",
      "generated an exception: name 'rawFileNames' is not defined\n",
      "generated an exception: name 'rawFileNames' is not defined\n",
      "generated an exception: name 'rawFileNames' is not defined\n",
      "generated an exception: name 'rawFileNames' is not defined\n",
      "generated an exception: name 'rawFileNames' is not defined\n",
      "generated an exception: name 'rawFileNames' is not defined\n",
      "generated an exception: name 'rawFileNames' is not defined\n",
      "generated an exception: name 'rawFileNames' is not defined\n",
      "generated an exception: name 'rawFileNames' is not defined\n",
      "generated an exception: name 'rawFileNames' is not defined\n",
      "generated an exception: name 'rawFileNames' is not defined\n",
      "generated an exception: name 'rawFileNames' is not defined\n"
     ]
    },
    {
     "name": "stderr",
     "output_type": "stream",
     "text": [
      " 19%|███████████▋                                                | 624/3217 [00:48<03:22, 12.79it/s]"
     ]
    },
    {
     "name": "stdout",
     "output_type": "stream",
     "text": [
      "generated an exception: name 'rawFileNames' is not defined\n",
      "generated an exception: name 'rawFileNames' is not defined\n",
      "generated an exception: name 'rawFileNames' is not defined\n",
      "generated an exception: name 'rawFileNames' is not defined\n",
      "generated an exception: name 'rawFileNames' is not defined\n",
      "generated an exception: name 'rawFileNames' is not defined\n",
      "generated an exception: name 'rawFileNames' is not defined\n",
      "generated an exception: name 'rawFileNames' is not defined\n",
      "generated an exception: name 'rawFileNames' is not defined\n",
      "generated an exception: name 'rawFileNames' is not defined\n",
      "generated an exception: name 'rawFileNames' is not defined\n",
      "generated an exception: name 'rawFileNames' is not defined\n",
      "generated an exception: name 'rawFileNames' is not defined\n",
      "generated an exception: name 'rawFileNames' is not defined\n",
      "generated an exception: name 'rawFileNames' is not defined\n"
     ]
    },
    {
     "name": "stderr",
     "output_type": "stream",
     "text": [
      " 20%|███████████▉                                                | 640/3217 [00:49<03:19, 12.89it/s]"
     ]
    },
    {
     "name": "stdout",
     "output_type": "stream",
     "text": [
      "generated an exception: name 'rawFileNames' is not defined\n",
      "generated an exception: name 'rawFileNames' is not defined\n",
      "generated an exception: name 'rawFileNames' is not defined\n",
      "generated an exception: name 'rawFileNames' is not defined\n",
      "generated an exception: name 'rawFileNames' is not defined\n",
      "generated an exception: name 'rawFileNames' is not defined\n",
      "generated an exception: name 'rawFileNames' is not defined\n",
      "generated an exception: name 'rawFileNames' is not defined\n",
      "generated an exception: name 'rawFileNames' is not defined\n",
      "generated an exception: name 'rawFileNames' is not defined\n",
      "generated an exception: name 'rawFileNames' is not defined\n",
      "generated an exception: name 'rawFileNames' is not defined\n",
      "generated an exception: name 'rawFileNames' is not defined\n",
      "generated an exception: name 'rawFileNames' is not defined\n",
      "generated an exception: name 'rawFileNames' is not defined\n",
      "generated an exception: name 'rawFileNames' is not defined\n"
     ]
    },
    {
     "name": "stderr",
     "output_type": "stream",
     "text": [
      " 20%|████████████▏                                               | 656/3217 [00:50<03:17, 12.96it/s]"
     ]
    },
    {
     "name": "stdout",
     "output_type": "stream",
     "text": [
      "generated an exception: name 'rawFileNames' is not defined\n",
      "generated an exception: name 'rawFileNames' is not defined\n",
      "generated an exception: name 'rawFileNames' is not defined\n",
      "generated an exception: name 'rawFileNames' is not defined\n",
      "generated an exception: name 'rawFileNames' is not defined\n",
      "generated an exception: name 'rawFileNames' is not defined\n",
      "generated an exception: name 'rawFileNames' is not defined\n",
      "generated an exception: name 'rawFileNames' is not defined\n",
      "generated an exception: name 'rawFileNames' is not defined\n",
      "generated an exception: name 'rawFileNames' is not defined\n",
      "generated an exception: name 'rawFileNames' is not defined\n",
      "generated an exception: name 'rawFileNames' is not defined\n",
      "generated an exception: name 'rawFileNames' is not defined\n",
      "generated an exception: name 'rawFileNames' is not defined\n",
      "generated an exception: name 'rawFileNames' is not defined\n",
      "generated an exception: name 'rawFileNames' is not defined\n"
     ]
    },
    {
     "name": "stderr",
     "output_type": "stream",
     "text": [
      " 21%|████████████▌                                               | 672/3217 [00:52<03:14, 13.06it/s]"
     ]
    },
    {
     "name": "stdout",
     "output_type": "stream",
     "text": [
      "generated an exception: name 'rawFileNames' is not defined\n",
      "generated an exception: name 'rawFileNames' is not defined\n",
      "generated an exception: name 'rawFileNames' is not defined\n",
      "generated an exception: name 'rawFileNames' is not defined\n",
      "generated an exception: name 'rawFileNames' is not defined\n",
      "generated an exception: name 'rawFileNames' is not defined\n",
      "generated an exception: name 'rawFileNames' is not defined\n",
      "generated an exception: name 'rawFileNames' is not defined\n",
      "generated an exception: name 'rawFileNames' is not defined\n",
      "generated an exception: name 'rawFileNames' is not defined\n",
      "generated an exception: name 'rawFileNames' is not defined\n",
      "generated an exception: name 'rawFileNames' is not defined\n",
      "generated an exception: name 'rawFileNames' is not defined\n",
      "generated an exception: name 'rawFileNames' is not defined\n",
      "generated an exception: name 'rawFileNames' is not defined\n",
      "generated an exception: name 'rawFileNames' is not defined\n"
     ]
    },
    {
     "name": "stderr",
     "output_type": "stream",
     "text": [
      " 21%|████████████▊                                               | 688/3217 [00:53<03:11, 13.18it/s]"
     ]
    },
    {
     "name": "stdout",
     "output_type": "stream",
     "text": [
      "generated an exception: name 'rawFileNames' is not defined\n",
      "generated an exception: name 'rawFileNames' is not defined\n",
      "generated an exception: name 'rawFileNames' is not defined\n",
      "generated an exception: name 'rawFileNames' is not defined\n",
      "generated an exception: name 'rawFileNames' is not defined\n",
      "generated an exception: name 'rawFileNames' is not defined\n",
      "generated an exception: name 'rawFileNames' is not defined\n",
      "generated an exception: name 'rawFileNames' is not defined\n",
      "generated an exception: name 'rawFileNames' is not defined\n",
      "generated an exception: name 'rawFileNames' is not defined\n",
      "generated an exception: name 'rawFileNames' is not defined\n",
      "generated an exception: name 'rawFileNames' is not defined\n",
      "generated an exception: name 'rawFileNames' is not defined\n",
      "generated an exception: name 'rawFileNames' is not defined\n",
      "generated an exception: name 'rawFileNames' is not defined\n",
      "generated an exception: name 'rawFileNames' is not defined\n",
      "generated an exception: name 'rawFileNames' is not defined\n",
      "generated an exception: name 'rawFileNames' is not defined"
     ]
    },
    {
     "name": "stderr",
     "output_type": "stream",
     "text": [
      " 22%|█████████████▏                                              | 704/3217 [00:54<03:10, 13.19it/s]"
     ]
    },
    {
     "name": "stdout",
     "output_type": "stream",
     "text": [
      "\n",
      "generated an exception: name 'rawFileNames' is not defined\n",
      "generated an exception: name 'rawFileNames' is not defined\n",
      "generated an exception: name 'rawFileNames' is not defined\n",
      "generated an exception: name 'rawFileNames' is not defined\n",
      "generated an exception: name 'rawFileNames' is not defined\n",
      "generated an exception: name 'rawFileNames' is not defined\n",
      "generated an exception: name 'rawFileNames' is not defined\n",
      "generated an exception: name 'rawFileNames' is not defined\n",
      "generated an exception: name 'rawFileNames' is not defined\n",
      "generated an exception: name 'rawFileNames' is not defined\n",
      "generated an exception: name 'rawFileNames' is not defined\n",
      "generated an exception: name 'rawFileNames' is not defined\n",
      "generated an exception: name 'rawFileNames' is not defined\n",
      "generated an exception: name 'rawFileNames' is not defined\n"
     ]
    },
    {
     "name": "stderr",
     "output_type": "stream",
     "text": [
      " 22%|█████████████▍                                              | 720/3217 [00:55<03:13, 12.90it/s]"
     ]
    },
    {
     "name": "stdout",
     "output_type": "stream",
     "text": [
      "generated an exception: name 'rawFileNames' is not defined\n",
      "generated an exception: name 'rawFileNames' is not defined\n",
      "generated an exception: name 'rawFileNames' is not defined\n",
      "generated an exception: name 'rawFileNames' is not defined\n",
      "generated an exception: name 'rawFileNames' is not defined\n",
      "generated an exception: name 'rawFileNames' is not defined\n",
      "generated an exception: name 'rawFileNames' is not defined\n",
      "generated an exception: name 'rawFileNames' is not defined\n",
      "generated an exception: name 'rawFileNames' is not defined\n",
      "generated an exception: name 'rawFileNames' is not defined\n",
      "generated an exception: name 'rawFileNames' is not defined\n",
      "generated an exception: name 'rawFileNames' is not defined\n",
      "generated an exception: name 'rawFileNames' is not defined\n",
      "generated an exception: name 'rawFileNames' is not defined\n",
      "generated an exception: name 'rawFileNames' is not defined\n",
      "generated an exception: name 'rawFileNames' is not defined\n",
      "generated an exception: name 'rawFileNames' is not defined\n",
      "generated an exception: name 'rawFileNames' is not defined\n",
      "generated an exception: name 'rawFileNames' is not defined\n"
     ]
    },
    {
     "name": "stderr",
     "output_type": "stream",
     "text": [
      " 23%|█████████████▋                                              | 736/3217 [00:57<03:13, 12.81it/s]"
     ]
    },
    {
     "name": "stdout",
     "output_type": "stream",
     "text": [
      "generated an exception: name 'rawFileNames' is not defined\n",
      "generated an exception: name 'rawFileNames' is not defined\n",
      "generated an exception: name 'rawFileNames' is not defined\n",
      "generated an exception: name 'rawFileNames' is not defined\n",
      "generated an exception: name 'rawFileNames' is not defined\n",
      "generated an exception: name 'rawFileNames' is not defined\n",
      "generated an exception: name 'rawFileNames' is not defined\n",
      "generated an exception: name 'rawFileNames' is not defined\n",
      "generated an exception: name 'rawFileNames' is not defined\n",
      "generated an exception: name 'rawFileNames' is not defined\n",
      "generated an exception: name 'rawFileNames' is not defined\n",
      "generated an exception: name 'rawFileNames' is not defined\n",
      "generated an exception: name 'rawFileNames' is not defined\n",
      "generated an exception: name 'rawFileNames' is not defined"
     ]
    },
    {
     "name": "stderr",
     "output_type": "stream",
     "text": [
      " 23%|██████████████                                              | 752/3217 [00:58<03:10, 12.95it/s]"
     ]
    },
    {
     "name": "stdout",
     "output_type": "stream",
     "text": [
      "\n",
      "generated an exception: name 'rawFileNames' is not defined\n",
      "generated an exception: name 'rawFileNames' is not defined\n",
      "generated an exception: name 'rawFileNames' is not defined\n",
      "generated an exception: name 'rawFileNames' is not defined\n",
      "generated an exception: name 'rawFileNames' is not defined\n",
      "generated an exception: name 'rawFileNames' is not defined\n",
      "generated an exception: name 'rawFileNames' is not defined\n",
      "generated an exception: name 'rawFileNames' is not defined\n",
      "generated an exception: name 'rawFileNames' is not defined\n",
      "generated an exception: name 'rawFileNames' is not defined\n",
      "generated an exception: name 'rawFileNames' is not defined\n",
      "generated an exception: name 'rawFileNames' is not defined\n",
      "generated an exception: name 'rawFileNames' is not defined\n",
      "generated an exception: name 'rawFileNames' is not defined\n",
      "generated an exception: name 'rawFileNames' is not defined\n",
      "generated an exception: name 'rawFileNames' is not defined"
     ]
    },
    {
     "name": "stderr",
     "output_type": "stream",
     "text": [
      " 24%|██████████████▎                                             | 768/3217 [00:59<03:07, 13.03it/s]"
     ]
    },
    {
     "name": "stdout",
     "output_type": "stream",
     "text": [
      "\n",
      "generated an exception: name 'rawFileNames' is not defined\n",
      "generated an exception: name 'rawFileNames' is not defined\n",
      "generated an exception: name 'rawFileNames' is not defined\n",
      "generated an exception: name 'rawFileNames' is not defined\n",
      "generated an exception: name 'rawFileNames' is not defined\n",
      "generated an exception: name 'rawFileNames' is not defined\n",
      "generated an exception: name 'rawFileNames' is not defined\n",
      "generated an exception: name 'rawFileNames' is not defined\n",
      "generated an exception: name 'rawFileNames' is not defined\n",
      "generated an exception: name 'rawFileNames' is not defined\n",
      "generated an exception: name 'rawFileNames' is not defined\n",
      "generated an exception: name 'rawFileNames' is not defined\n",
      "generated an exception: name 'rawFileNames' is not defined\n",
      "generated an exception: name 'rawFileNames' is not defined\n",
      "generated an exception: name 'rawFileNames' is not defined\n",
      "generated an exception: name 'rawFileNames' is not defined\n",
      "generated an exception: name 'rawFileNames' is not defined\n",
      "generated an exception: name 'rawFileNames' is not defined\n",
      "generated an exception: name 'rawFileNames' is not defined\n",
      "generated an exception: name 'rawFileNames' is not defined\n",
      "generated an exception: name 'rawFileNames' is not defined"
     ]
    },
    {
     "name": "stderr",
     "output_type": "stream",
     "text": [
      " 24%|██████████████▌                                             | 784/3217 [01:00<03:06, 13.06it/s]"
     ]
    },
    {
     "name": "stdout",
     "output_type": "stream",
     "text": [
      "\n",
      "generated an exception: name 'rawFileNames' is not defined\n",
      "generated an exception: name 'rawFileNames' is not defined\n",
      "generated an exception: name 'rawFileNames' is not defined\n",
      "generated an exception: name 'rawFileNames' is not defined\n",
      "generated an exception: name 'rawFileNames' is not defined\n",
      "generated an exception: name 'rawFileNames' is not defined\n",
      "generated an exception: name 'rawFileNames' is not defined\n",
      "generated an exception: name 'rawFileNames' is not defined\n",
      "generated an exception: name 'rawFileNames' is not defined\n",
      "generated an exception: name 'rawFileNames' is not defined\n"
     ]
    },
    {
     "name": "stderr",
     "output_type": "stream",
     "text": [
      " 25%|██████████████▉                                             | 800/3217 [01:01<03:06, 12.99it/s]"
     ]
    },
    {
     "name": "stdout",
     "output_type": "stream",
     "text": [
      "generated an exception: name 'rawFileNames' is not defined\n",
      "generated an exception: name 'rawFileNames' is not defined\n",
      "generated an exception: name 'rawFileNames' is not defined\n",
      "generated an exception: name 'rawFileNames' is not defined\n",
      "generated an exception: name 'rawFileNames' is not defined\n",
      "generated an exception: name 'rawFileNames' is not defined\n",
      "generated an exception: name 'rawFileNames' is not defined\n",
      "generated an exception: name 'rawFileNames' is not defined\n",
      "generated an exception: name 'rawFileNames' is not defined\n",
      "generated an exception: name 'rawFileNames' is not defined\n",
      "generated an exception: name 'rawFileNames' is not defined\n",
      "generated an exception: name 'rawFileNames' is not defined\n",
      "generated an exception: name 'rawFileNames' is not defined\n",
      "generated an exception: name 'rawFileNames' is not defined\n",
      "generated an exception: name 'rawFileNames' is not defined\n",
      "generated an exception: name 'rawFileNames' is not defined\n"
     ]
    },
    {
     "name": "stderr",
     "output_type": "stream",
     "text": [
      " 25%|███████████████▏                                            | 816/3217 [01:03<03:07, 12.81it/s]"
     ]
    },
    {
     "name": "stdout",
     "output_type": "stream",
     "text": [
      "generated an exception: name 'rawFileNames' is not defined\n",
      "generated an exception: name 'rawFileNames' is not defined\n",
      "generated an exception: name 'rawFileNames' is not defined\n",
      "generated an exception: name 'rawFileNames' is not defined\n",
      "generated an exception: name 'rawFileNames' is not defined\n",
      "generated an exception: name 'rawFileNames' is not defined\n",
      "generated an exception: name 'rawFileNames' is not defined\n",
      "generated an exception: name 'rawFileNames' is not defined\n",
      "generated an exception: name 'rawFileNames' is not defined\n",
      "generated an exception: name 'rawFileNames' is not defined\n",
      "generated an exception: name 'rawFileNames' is not defined\n",
      "generated an exception: name 'rawFileNames' is not defined\n",
      "generated an exception: name 'rawFileNames' is not defined\n",
      "generated an exception: name 'rawFileNames' is not defined\n",
      "generated an exception: name 'rawFileNames' is not defined\n",
      "generated an exception: name 'rawFileNames' is not defined\n"
     ]
    },
    {
     "name": "stderr",
     "output_type": "stream",
     "text": [
      " 26%|███████████████▌                                            | 832/3217 [01:04<03:04, 12.91it/s]"
     ]
    },
    {
     "name": "stdout",
     "output_type": "stream",
     "text": [
      "generated an exception: name 'rawFileNames' is not defined\n",
      "generated an exception: name 'rawFileNames' is not defined\n",
      "generated an exception: name 'rawFileNames' is not defined\n",
      "generated an exception: name 'rawFileNames' is not defined\n",
      "generated an exception: name 'rawFileNames' is not defined\n",
      "generated an exception: name 'rawFileNames' is not defined\n",
      "generated an exception: name 'rawFileNames' is not defined\n",
      "generated an exception: name 'rawFileNames' is not defined\n",
      "generated an exception: name 'rawFileNames' is not defined\n",
      "generated an exception: name 'rawFileNames' is not defined\n",
      "generated an exception: name 'rawFileNames' is not defined\n",
      "generated an exception: name 'rawFileNames' is not defined\n",
      "generated an exception: name 'rawFileNames' is not defined\n",
      "generated an exception: name 'rawFileNames' is not defined\n",
      "generated an exception: name 'rawFileNames' is not defined\n",
      "generated an exception: name 'rawFileNames' is not defined\n",
      "generated an exception: name 'rawFileNames' is not defined\n",
      "generated an exception: name 'rawFileNames' is not defined\n",
      "generated an exception: name 'rawFileNames' is not defined\n",
      "generated an exception: name 'rawFileNames' is not defined\n",
      "generated an exception: name 'rawFileNames' is not defined\n"
     ]
    },
    {
     "name": "stderr",
     "output_type": "stream",
     "text": [
      " 26%|███████████████▊                                            | 848/3217 [01:05<03:02, 12.98it/s]"
     ]
    },
    {
     "name": "stdout",
     "output_type": "stream",
     "text": [
      "generated an exception: name 'rawFileNames' is not defined\n",
      "generated an exception: name 'rawFileNames' is not defined\n",
      "generated an exception: name 'rawFileNames' is not defined\n",
      "generated an exception: name 'rawFileNames' is not defined\n",
      "generated an exception: name 'rawFileNames' is not defined\n",
      "generated an exception: name 'rawFileNames' is not defined\n",
      "generated an exception: name 'rawFileNames' is not defined\n",
      "generated an exception: name 'rawFileNames' is not defined\n",
      "generated an exception: name 'rawFileNames' is not defined\n",
      "generated an exception: name 'rawFileNames' is not defined\n",
      "generated an exception: name 'rawFileNames' is not defined\n"
     ]
    },
    {
     "name": "stderr",
     "output_type": "stream",
     "text": [
      " 27%|████████████████                                            | 864/3217 [01:06<03:01, 12.96it/s]"
     ]
    },
    {
     "name": "stdout",
     "output_type": "stream",
     "text": [
      "generated an exception: name 'rawFileNames' is not defined\n",
      "generated an exception: name 'rawFileNames' is not defined\n",
      "generated an exception: name 'rawFileNames' is not defined\n",
      "generated an exception: name 'rawFileNames' is not defined\n",
      "generated an exception: name 'rawFileNames' is not defined\n",
      "generated an exception: name 'rawFileNames' is not defined\n",
      "generated an exception: name 'rawFileNames' is not defined\n",
      "generated an exception: name 'rawFileNames' is not defined\n",
      "generated an exception: name 'rawFileNames' is not defined\n",
      "generated an exception: name 'rawFileNames' is not defined\n",
      "generated an exception: name 'rawFileNames' is not defined\n",
      "generated an exception: name 'rawFileNames' is not defined\n",
      "generated an exception: name 'rawFileNames' is not defined\n",
      "generated an exception: name 'rawFileNames' is not defined\n",
      "generated an exception: name 'rawFileNames' is not defined\n",
      "generated an exception: name 'rawFileNames' is not defined\n"
     ]
    },
    {
     "name": "stderr",
     "output_type": "stream",
     "text": [
      " 27%|████████████████▍                                           | 880/3217 [01:08<03:02, 12.78it/s]"
     ]
    },
    {
     "name": "stdout",
     "output_type": "stream",
     "text": [
      "generated an exception: name 'rawFileNames' is not defined\n",
      "generated an exception: name 'rawFileNames' is not defined\n",
      "generated an exception: name 'rawFileNames' is not defined\n",
      "generated an exception: name 'rawFileNames' is not defined\n",
      "generated an exception: name 'rawFileNames' is not defined\n",
      "generated an exception: name 'rawFileNames' is not defined\n",
      "generated an exception: name 'rawFileNames' is not defined\n",
      "generated an exception: name 'rawFileNames' is not defined\n",
      "generated an exception: name 'rawFileNames' is not defined\n",
      "generated an exception: name 'rawFileNames' is not defined\n",
      "generated an exception: name 'rawFileNames' is not defined\n",
      "generated an exception: name 'rawFileNames' is not defined\n",
      "generated an exception: name 'rawFileNames' is not defined\n",
      "generated an exception: name 'rawFileNames' is not defined\n",
      "generated an exception: name 'rawFileNames' is not defined\n",
      "generated an exception: name 'rawFileNames' is not defined\n"
     ]
    },
    {
     "name": "stderr",
     "output_type": "stream",
     "text": [
      " 28%|████████████████▋                                           | 896/3217 [01:09<03:00, 12.87it/s]"
     ]
    },
    {
     "name": "stdout",
     "output_type": "stream",
     "text": [
      "generated an exception: name 'rawFileNames' is not defined\n",
      "generated an exception: name 'rawFileNames' is not defined\n",
      "generated an exception: name 'rawFileNames' is not defined\n",
      "generated an exception: name 'rawFileNames' is not defined\n",
      "generated an exception: name 'rawFileNames' is not defined\n",
      "generated an exception: name 'rawFileNames' is not defined\n",
      "generated an exception: name 'rawFileNames' is not defined\n",
      "generated an exception: name 'rawFileNames' is not defined\n",
      "generated an exception: name 'rawFileNames' is not defined\n",
      "generated an exception: name 'rawFileNames' is not defined\n",
      "generated an exception: name 'rawFileNames' is not defined\n",
      "generated an exception: name 'rawFileNames' is not defined\n",
      "generated an exception: name 'rawFileNames' is not defined\n",
      "generated an exception: name 'rawFileNames' is not defined\n",
      "generated an exception: name 'rawFileNames' is not defined\n",
      "generated an exception: name 'rawFileNames' is not defined\n",
      "generated an exception: name 'rawFileNames' is not defined\n",
      "generated an exception: name 'rawFileNames' is not defined\n",
      "generated an exception: name 'rawFileNames' is not defined\n",
      "generated an exception: name 'rawFileNames' is not defined\n",
      "generated an exception: name 'rawFileNames' is not defined"
     ]
    },
    {
     "name": "stderr",
     "output_type": "stream",
     "text": [
      " 28%|█████████████████                                           | 912/3217 [01:10<03:01, 12.69it/s]"
     ]
    },
    {
     "name": "stdout",
     "output_type": "stream",
     "text": [
      "\n",
      "generated an exception: name 'rawFileNames' is not defined\n",
      "generated an exception: name 'rawFileNames' is not defined\n",
      "generated an exception: name 'rawFileNames' is not defined\n",
      "generated an exception: name 'rawFileNames' is not defined\n",
      "generated an exception: name 'rawFileNames' is not defined\n",
      "generated an exception: name 'rawFileNames' is not defined\n",
      "generated an exception: name 'rawFileNames' is not defined\n",
      "generated an exception: name 'rawFileNames' is not defined\n",
      "generated an exception: name 'rawFileNames' is not defined\n",
      "generated an exception: name 'rawFileNames' is not defined\n",
      "generated an exception: name 'rawFileNames' is not defined\n",
      "generated an exception: name 'rawFileNames' is not defined"
     ]
    },
    {
     "name": "stderr",
     "output_type": "stream",
     "text": [
      " 29%|█████████████████▎                                          | 928/3217 [01:12<03:02, 12.56it/s]"
     ]
    },
    {
     "name": "stdout",
     "output_type": "stream",
     "text": [
      "\n",
      "generated an exception: name 'rawFileNames' is not defined\n",
      "generated an exception: name 'rawFileNames' is not defined\n",
      "generated an exception: name 'rawFileNames' is not defined\n",
      "generated an exception: name 'rawFileNames' is not defined\n",
      "generated an exception: name 'rawFileNames' is not defined\n",
      "generated an exception: name 'rawFileNames' is not defined\n",
      "generated an exception: name 'rawFileNames' is not defined\n",
      "generated an exception: name 'rawFileNames' is not defined\n",
      "generated an exception: name 'rawFileNames' is not defined\n",
      "generated an exception: name 'rawFileNames' is not defined\n",
      "generated an exception: name 'rawFileNames' is not defined\n",
      "generated an exception: name 'rawFileNames' is not defined\n",
      "generated an exception: name 'rawFileNames' is not defined\n",
      "generated an exception: name 'rawFileNames' is not defined\n",
      "generated an exception: name 'rawFileNames' is not defined\n",
      "generated an exception: name 'rawFileNames' is not defined"
     ]
    },
    {
     "name": "stderr",
     "output_type": "stream",
     "text": [
      " 29%|█████████████████▌                                          | 944/3217 [01:13<02:58, 12.71it/s]"
     ]
    },
    {
     "name": "stdout",
     "output_type": "stream",
     "text": [
      "\n",
      "generated an exception: name 'rawFileNames' is not defined\n",
      "generated an exception: name 'rawFileNames' is not defined\n",
      "generated an exception: name 'rawFileNames' is not defined\n",
      "generated an exception: name 'rawFileNames' is not defined\n",
      "generated an exception: name 'rawFileNames' is not defined\n",
      "generated an exception: name 'rawFileNames' is not defined\n",
      "generated an exception: name 'rawFileNames' is not defined\n",
      "generated an exception: name 'rawFileNames' is not defined\n",
      "generated an exception: name 'rawFileNames' is not defined\n",
      "generated an exception: name 'rawFileNames' is not defined\n",
      "generated an exception: name 'rawFileNames' is not defined\n",
      "generated an exception: name 'rawFileNames' is not defined\n",
      "generated an exception: name 'rawFileNames' is not defined\n",
      "generated an exception: name 'rawFileNames' is not defined\n",
      "generated an exception: name 'rawFileNames' is not defined\n",
      "generated an exception: name 'rawFileNames' is not defined\n",
      "generated an exception: name 'rawFileNames' is not defined\n",
      "generated an exception: name 'rawFileNames' is not defined\n",
      "generated an exception: name 'rawFileNames' is not defined"
     ]
    },
    {
     "name": "stderr",
     "output_type": "stream",
     "text": [
      " 30%|█████████████████▉                                          | 960/3217 [01:14<02:57, 12.71it/s]"
     ]
    },
    {
     "name": "stdout",
     "output_type": "stream",
     "text": [
      "\n",
      "generated an exception: name 'rawFileNames' is not defined\n",
      "generated an exception: name 'rawFileNames' is not defined\n",
      "generated an exception: name 'rawFileNames' is not defined\n",
      "generated an exception: name 'rawFileNames' is not defined\n",
      "generated an exception: name 'rawFileNames' is not defined\n",
      "generated an exception: name 'rawFileNames' is not defined\n",
      "generated an exception: name 'rawFileNames' is not defined\n",
      "generated an exception: name 'rawFileNames' is not defined\n",
      "generated an exception: name 'rawFileNames' is not defined\n",
      "generated an exception: name 'rawFileNames' is not defined\n",
      "generated an exception: name 'rawFileNames' is not defined\n",
      "generated an exception: name 'rawFileNames' is not defined\n"
     ]
    },
    {
     "name": "stderr",
     "output_type": "stream",
     "text": [
      " 30%|██████████████████▏                                         | 976/3217 [01:15<02:54, 12.81it/s]"
     ]
    },
    {
     "name": "stdout",
     "output_type": "stream",
     "text": [
      "generated an exception: name 'rawFileNames' is not defined\n",
      "generated an exception: name 'rawFileNames' is not defined\n",
      "generated an exception: name 'rawFileNames' is not defined\n",
      "generated an exception: name 'rawFileNames' is not defined\n",
      "generated an exception: name 'rawFileNames' is not defined\n",
      "generated an exception: name 'rawFileNames' is not defined\n",
      "generated an exception: name 'rawFileNames' is not defined\n",
      "generated an exception: name 'rawFileNames' is not defined\n",
      "generated an exception: name 'rawFileNames' is not defined\n",
      "generated an exception: name 'rawFileNames' is not defined\n",
      "generated an exception: name 'rawFileNames' is not defined\n",
      "generated an exception: name 'rawFileNames' is not defined\n",
      "generated an exception: name 'rawFileNames' is not defined\n",
      "generated an exception: name 'rawFileNames' is not defined\n",
      "generated an exception: name 'rawFileNames' is not defined\n",
      "generated an exception: name 'rawFileNames' is not defined\n",
      "generated an exception: name 'rawFileNames' is not defined"
     ]
    },
    {
     "name": "stderr",
     "output_type": "stream",
     "text": [
      " 31%|██████████████████▌                                         | 992/3217 [01:17<02:53, 12.81it/s]"
     ]
    },
    {
     "name": "stdout",
     "output_type": "stream",
     "text": [
      "\n",
      "generated an exception: name 'rawFileNames' is not defined\n",
      "generated an exception: name 'rawFileNames' is not defined\n",
      "generated an exception: name 'rawFileNames' is not defined\n",
      "generated an exception: name 'rawFileNames' is not defined\n",
      "generated an exception: name 'rawFileNames' is not defined\n",
      "generated an exception: name 'rawFileNames' is not defined\n",
      "generated an exception: name 'rawFileNames' is not defined\n",
      "generated an exception: name 'rawFileNames' is not defined\n",
      "generated an exception: name 'rawFileNames' is not defined\n",
      "generated an exception: name 'rawFileNames' is not defined\n",
      "generated an exception: name 'rawFileNames' is not defined\n",
      "generated an exception: name 'rawFileNames' is not defined\n",
      "generated an exception: name 'rawFileNames' is not defined\n",
      "generated an exception: name 'rawFileNames' is not defined\n",
      "generated an exception: name 'rawFileNames' is not defined\n"
     ]
    },
    {
     "name": "stderr",
     "output_type": "stream",
     "text": [
      " 31%|██████████████████▍                                        | 1008/3217 [01:18<02:53, 12.74it/s]"
     ]
    },
    {
     "name": "stdout",
     "output_type": "stream",
     "text": [
      "generated an exception: name 'rawFileNames' is not defined\n",
      "generated an exception: name 'rawFileNames' is not defined\n",
      "generated an exception: name 'rawFileNames' is not defined\n",
      "generated an exception: name 'rawFileNames' is not defined\n",
      "generated an exception: name 'rawFileNames' is not defined\n",
      "generated an exception: name 'rawFileNames' is not defined\n",
      "generated an exception: name 'rawFileNames' is not defined\n",
      "generated an exception: name 'rawFileNames' is not defined\n",
      "generated an exception: name 'rawFileNames' is not defined\n",
      "generated an exception: name 'rawFileNames' is not defined\n",
      "generated an exception: name 'rawFileNames' is not defined\n",
      "generated an exception: name 'rawFileNames' is not defined\n",
      "generated an exception: name 'rawFileNames' is not defined\n",
      "generated an exception: name 'rawFileNames' is not defined\n",
      "generated an exception: name 'rawFileNames' is not defined\n",
      "generated an exception: name 'rawFileNames' is not defined\n"
     ]
    },
    {
     "name": "stderr",
     "output_type": "stream",
     "text": [
      " 32%|██████████████████▊                                        | 1024/3217 [01:19<02:50, 12.83it/s]"
     ]
    },
    {
     "name": "stdout",
     "output_type": "stream",
     "text": [
      "generated an exception: name 'rawFileNames' is not defined\n",
      "generated an exception: name 'rawFileNames' is not defined\n",
      "generated an exception: name 'rawFileNames' is not defined\n",
      "generated an exception: name 'rawFileNames' is not defined\n",
      "generated an exception: name 'rawFileNames' is not defined\n",
      "generated an exception: name 'rawFileNames' is not defined\n",
      "generated an exception: name 'rawFileNames' is not defined\n",
      "generated an exception: name 'rawFileNames' is not defined\n",
      "generated an exception: name 'rawFileNames' is not defined\n",
      "generated an exception: name 'rawFileNames' is not defined\n",
      "generated an exception: name 'rawFileNames' is not defined\n",
      "generated an exception: name 'rawFileNames' is not defined\n",
      "generated an exception: name 'rawFileNames' is not defined\n",
      "generated an exception: name 'rawFileNames' is not defined\n",
      "generated an exception: name 'rawFileNames' is not defined\n",
      "generated an exception: name 'rawFileNames' is not defined\n"
     ]
    },
    {
     "name": "stderr",
     "output_type": "stream",
     "text": [
      " 32%|███████████████████                                        | 1040/3217 [01:20<02:48, 12.96it/s]"
     ]
    },
    {
     "name": "stdout",
     "output_type": "stream",
     "text": [
      "generated an exception: name 'rawFileNames' is not defined\n",
      "generated an exception: name 'rawFileNames' is not defined\n",
      "generated an exception: name 'rawFileNames' is not defined\n",
      "generated an exception: name 'rawFileNames' is not defined\n",
      "generated an exception: name 'rawFileNames' is not defined\n",
      "generated an exception: name 'rawFileNames' is not defined\n",
      "generated an exception: name 'rawFileNames' is not defined\n",
      "generated an exception: name 'rawFileNames' is not defined\n",
      "generated an exception: name 'rawFileNames' is not defined\n",
      "generated an exception: name 'rawFileNames' is not defined\n",
      "generated an exception: name 'rawFileNames' is not defined\n",
      "generated an exception: name 'rawFileNames' is not defined\n",
      "generated an exception: name 'rawFileNames' is not defined\n",
      "generated an exception: name 'rawFileNames' is not defined\n",
      "generated an exception: name 'rawFileNames' is not defined\n",
      "generated an exception: name 'rawFileNames' is not defined\n"
     ]
    },
    {
     "name": "stderr",
     "output_type": "stream",
     "text": [
      " 33%|███████████████████▎                                       | 1056/3217 [01:21<02:47, 12.94it/s]"
     ]
    },
    {
     "name": "stdout",
     "output_type": "stream",
     "text": [
      "generated an exception: name 'rawFileNames' is not defined\n",
      "generated an exception: name 'rawFileNames' is not defined\n",
      "generated an exception: name 'rawFileNames' is not defined\n",
      "generated an exception: name 'rawFileNames' is not defined\n",
      "generated an exception: name 'rawFileNames' is not defined\n",
      "generated an exception: name 'rawFileNames' is not defined\n",
      "generated an exception: name 'rawFileNames' is not defined\n",
      "generated an exception: name 'rawFileNames' is not defined\n",
      "generated an exception: name 'rawFileNames' is not defined\n",
      "generated an exception: name 'rawFileNames' is not defined\n",
      "generated an exception: name 'rawFileNames' is not defined\n",
      "generated an exception: name 'rawFileNames' is not defined\n",
      "generated an exception: name 'rawFileNames' is not defined\n",
      "generated an exception: name 'rawFileNames' is not defined\n",
      "generated an exception: name 'rawFileNames' is not defined\n",
      "generated an exception: name 'rawFileNames' is not defined\n"
     ]
    },
    {
     "name": "stderr",
     "output_type": "stream",
     "text": [
      " 33%|███████████████████▋                                       | 1072/3217 [01:23<02:44, 13.01it/s]"
     ]
    },
    {
     "name": "stdout",
     "output_type": "stream",
     "text": [
      "generated an exception: name 'rawFileNames' is not defined\n",
      "generated an exception: name 'rawFileNames' is not defined\n",
      "generated an exception: name 'rawFileNames' is not defined\n",
      "generated an exception: name 'rawFileNames' is not defined\n",
      "generated an exception: name 'rawFileNames' is not defined\n",
      "generated an exception: name 'rawFileNames' is not defined\n",
      "generated an exception: name 'rawFileNames' is not defined\n",
      "generated an exception: name 'rawFileNames' is not defined\n",
      "generated an exception: name 'rawFileNames' is not defined\n",
      "generated an exception: name 'rawFileNames' is not defined\n",
      "generated an exception: name 'rawFileNames' is not defined\n",
      "generated an exception: name 'rawFileNames' is not defined\n",
      "generated an exception: name 'rawFileNames' is not defined\n",
      "generated an exception: name 'rawFileNames' is not defined\n",
      "generated an exception: name 'rawFileNames' is not defined\n",
      "generated an exception: name 'rawFileNames' is not defined\n",
      "generated an exception: name 'rawFileNames' is not defined\n",
      "generated an exception: name 'rawFileNames' is not defined\n"
     ]
    },
    {
     "name": "stderr",
     "output_type": "stream",
     "text": [
      " 34%|███████████████████▉                                       | 1088/3217 [01:24<02:44, 12.95it/s]"
     ]
    },
    {
     "name": "stdout",
     "output_type": "stream",
     "text": [
      "generated an exception: name 'rawFileNames' is not defined\n",
      "generated an exception: name 'rawFileNames' is not defined\n",
      "generated an exception: name 'rawFileNames' is not defined\n",
      "generated an exception: name 'rawFileNames' is not defined\n",
      "generated an exception: name 'rawFileNames' is not defined\n",
      "generated an exception: name 'rawFileNames' is not defined\n",
      "generated an exception: name 'rawFileNames' is not defined\n",
      "generated an exception: name 'rawFileNames' is not defined\n",
      "generated an exception: name 'rawFileNames' is not defined\n",
      "generated an exception: name 'rawFileNames' is not defined\n",
      "generated an exception: name 'rawFileNames' is not defined\n",
      "generated an exception: name 'rawFileNames' is not defined\n",
      "generated an exception: name 'rawFileNames' is not defined\n",
      "generated an exception: name 'rawFileNames' is not defined\n",
      "generated an exception: name 'rawFileNames' is not defined"
     ]
    },
    {
     "name": "stderr",
     "output_type": "stream",
     "text": [
      " 34%|████████████████████▏                                      | 1104/3217 [01:25<02:42, 12.98it/s]"
     ]
    },
    {
     "name": "stdout",
     "output_type": "stream",
     "text": [
      "\n",
      "generated an exception: name 'rawFileNames' is not defined\n",
      "generated an exception: name 'rawFileNames' is not defined\n",
      "generated an exception: name 'rawFileNames' is not defined\n",
      "generated an exception: name 'rawFileNames' is not defined\n",
      "generated an exception: name 'rawFileNames' is not defined\n",
      "generated an exception: name 'rawFileNames' is not defined\n",
      "generated an exception: name 'rawFileNames' is not defined\n",
      "generated an exception: name 'rawFileNames' is not defined\n",
      "generated an exception: name 'rawFileNames' is not defined\n",
      "generated an exception: name 'rawFileNames' is not defined\n",
      "generated an exception: name 'rawFileNames' is not defined\n",
      "generated an exception: name 'rawFileNames' is not defined\n",
      "generated an exception: name 'rawFileNames' is not defined\n",
      "generated an exception: name 'rawFileNames' is not defined\n",
      "generated an exception: name 'rawFileNames' is not defined\n"
     ]
    },
    {
     "name": "stderr",
     "output_type": "stream",
     "text": [
      " 35%|████████████████████▌                                      | 1120/3217 [01:26<02:41, 13.02it/s]"
     ]
    },
    {
     "name": "stdout",
     "output_type": "stream",
     "text": [
      "generated an exception: name 'rawFileNames' is not defined\n",
      "generated an exception: name 'rawFileNames' is not defined\n",
      "generated an exception: name 'rawFileNames' is not defined\n",
      "generated an exception: name 'rawFileNames' is not defined\n",
      "generated an exception: name 'rawFileNames' is not defined\n",
      "generated an exception: name 'rawFileNames' is not defined\n",
      "generated an exception: name 'rawFileNames' is not defined\n",
      "generated an exception: name 'rawFileNames' is not defined\n",
      "generated an exception: name 'rawFileNames' is not defined\n",
      "generated an exception: name 'rawFileNames' is not defined\n",
      "generated an exception: name 'rawFileNames' is not defined\n",
      "generated an exception: name 'rawFileNames' is not defined\n",
      "generated an exception: name 'rawFileNames' is not defined\n",
      "generated an exception: name 'rawFileNames' is not defined\n",
      "generated an exception: name 'rawFileNames' is not defined\n",
      "generated an exception: name 'rawFileNames' is not defined\n"
     ]
    },
    {
     "name": "stderr",
     "output_type": "stream",
     "text": [
      " 35%|████████████████████▊                                      | 1136/3217 [01:28<02:39, 13.02it/s]"
     ]
    },
    {
     "name": "stdout",
     "output_type": "stream",
     "text": [
      "generated an exception: name 'rawFileNames' is not defined\n",
      "generated an exception: name 'rawFileNames' is not defined\n",
      "generated an exception: name 'rawFileNames' is not defined\n",
      "generated an exception: name 'rawFileNames' is not defined\n",
      "generated an exception: name 'rawFileNames' is not defined\n",
      "generated an exception: name 'rawFileNames' is not defined\n",
      "generated an exception: name 'rawFileNames' is not defined\n",
      "generated an exception: name 'rawFileNames' is not defined\n",
      "generated an exception: name 'rawFileNames' is not defined\n",
      "generated an exception: name 'rawFileNames' is not defined\n",
      "generated an exception: name 'rawFileNames' is not defined\n",
      "generated an exception: name 'rawFileNames' is not defined\n",
      "generated an exception: name 'rawFileNames' is not defined\n",
      "generated an exception: name 'rawFileNames' is not defined\n",
      "generated an exception: name 'rawFileNames' is not defined\n",
      "generated an exception: name 'rawFileNames' is not defined\n",
      "generated an exception: name 'rawFileNames' is not defined\n",
      "generated an exception: name 'rawFileNames' is not defined\n",
      "generated an exception: name 'rawFileNames' is not defined"
     ]
    },
    {
     "name": "stderr",
     "output_type": "stream",
     "text": [
      " 36%|█████████████████████▏                                     | 1152/3217 [01:32<04:23,  7.84it/s]"
     ]
    },
    {
     "name": "stdout",
     "output_type": "stream",
     "text": [
      "\n",
      "generated an exception: name 'rawFileNames' is not defined\n",
      "generated an exception: name 'rawFileNames' is not defined\n",
      "generated an exception: name 'rawFileNames' is not defined\n",
      "generated an exception: name 'rawFileNames' is not defined\n",
      "generated an exception: name 'rawFileNames' is not defined\n",
      "generated an exception: name 'rawFileNames' is not defined\n",
      "generated an exception: name 'rawFileNames' is not defined\n",
      "generated an exception: name 'rawFileNames' is not defined\n",
      "generated an exception: name 'rawFileNames' is not defined\n",
      "generated an exception: name 'rawFileNames' is not defined\n",
      "generated an exception: name 'rawFileNames' is not defined\n",
      "generated an exception: name 'rawFileNames' is not defined\n",
      "generated an exception: name 'rawFileNames' is not defined\n"
     ]
    },
    {
     "name": "stderr",
     "output_type": "stream",
     "text": [
      " 36%|█████████████████████▍                                     | 1168/3217 [01:33<03:48,  8.97it/s]"
     ]
    },
    {
     "name": "stdout",
     "output_type": "stream",
     "text": [
      "generated an exception: name 'rawFileNames' is not defined\n",
      "generated an exception: name 'rawFileNames' is not defined\n",
      "generated an exception: name 'rawFileNames' is not defined\n",
      "generated an exception: name 'rawFileNames' is not defined\n",
      "generated an exception: name 'rawFileNames' is not defined\n",
      "generated an exception: name 'rawFileNames' is not defined\n",
      "generated an exception: name 'rawFileNames' is not defined\n",
      "generated an exception: name 'rawFileNames' is not defined\n",
      "generated an exception: name 'rawFileNames' is not defined\n",
      "generated an exception: name 'rawFileNames' is not defined\n",
      "generated an exception: name 'rawFileNames' is not defined\n",
      "generated an exception: name 'rawFileNames' is not defined\n",
      "generated an exception: name 'rawFileNames' is not defined\n",
      "generated an exception: name 'rawFileNames' is not defined\n",
      "generated an exception: name 'rawFileNames' is not defined\n",
      "generated an exception: name 'rawFileNames' is not defined\n",
      "generated an exception: name 'rawFileNames' is not defined"
     ]
    },
    {
     "name": "stderr",
     "output_type": "stream",
     "text": [
      " 37%|█████████████████████▋                                     | 1184/3217 [01:34<03:23,  9.98it/s]"
     ]
    },
    {
     "name": "stdout",
     "output_type": "stream",
     "text": [
      "\n",
      "generated an exception: name 'rawFileNames' is not defined\n",
      "generated an exception: name 'rawFileNames' is not defined\n",
      "generated an exception: name 'rawFileNames' is not defined\n",
      "generated an exception: name 'rawFileNames' is not defined\n",
      "generated an exception: name 'rawFileNames' is not defined\n",
      "generated an exception: name 'rawFileNames' is not defined\n",
      "generated an exception: name 'rawFileNames' is not defined\n",
      "generated an exception: name 'rawFileNames' is not defined\n",
      "generated an exception: name 'rawFileNames' is not defined\n",
      "generated an exception: name 'rawFileNames' is not defined\n",
      "generated an exception: name 'rawFileNames' is not defined\n",
      "generated an exception: name 'rawFileNames' is not defined\n",
      "generated an exception: name 'rawFileNames' is not defined\n",
      "generated an exception: name 'rawFileNames' is not defined\n",
      "generated an exception: name 'rawFileNames' is not defined\n",
      "generated an exception: name 'rawFileNames' is not defined\n",
      "generated an exception: name 'rawFileNames' is not defined\n",
      "generated an exception: name 'rawFileNames' is not defined\n",
      "generated an exception: name 'rawFileNames' is not defined"
     ]
    },
    {
     "name": "stderr",
     "output_type": "stream",
     "text": [
      " 37%|██████████████████████                                     | 1200/3217 [01:35<03:06, 10.81it/s]"
     ]
    },
    {
     "name": "stdout",
     "output_type": "stream",
     "text": [
      "\n",
      "generated an exception: name 'rawFileNames' is not defined\n",
      "generated an exception: name 'rawFileNames' is not defined\n",
      "generated an exception: name 'rawFileNames' is not defined\n",
      "generated an exception: name 'rawFileNames' is not defined\n",
      "generated an exception: name 'rawFileNames' is not defined\n",
      "generated an exception: name 'rawFileNames' is not defined\n",
      "generated an exception: name 'rawFileNames' is not defined\n",
      "generated an exception: name 'rawFileNames' is not defined\n",
      "generated an exception: name 'rawFileNames' is not defined\n",
      "generated an exception: name 'rawFileNames' is not defined\n",
      "generated an exception: name 'rawFileNames' is not defined\n",
      "generated an exception: name 'rawFileNames' is not defined\n",
      "generated an exception: name 'rawFileNames' is not defined\n",
      "generated an exception: name 'rawFileNames' is not defined\n",
      "generated an exception: name 'rawFileNames' is not defined\n",
      "generated an exception: name 'rawFileNames' is not defined\n",
      "generated an exception: name 'rawFileNames' is not defined\n",
      "generated an exception: name 'rawFileNames' is not defined\n",
      "generated an exception: name 'rawFileNames' is not defined\n",
      "generated an exception: name 'rawFileNames' is not defined"
     ]
    },
    {
     "name": "stderr",
     "output_type": "stream",
     "text": [
      " 38%|██████████████████████▎                                    | 1216/3217 [01:36<02:54, 11.46it/s]"
     ]
    },
    {
     "name": "stdout",
     "output_type": "stream",
     "text": [
      "\n",
      "generated an exception: name 'rawFileNames' is not defined\n",
      "generated an exception: name 'rawFileNames' is not defined\n",
      "generated an exception: name 'rawFileNames' is not defined\n",
      "generated an exception: name 'rawFileNames' is not defined\n",
      "generated an exception: name 'rawFileNames' is not defined\n",
      "generated an exception: name 'rawFileNames' is not defined\n",
      "generated an exception: name 'rawFileNames' is not defined\n",
      "generated an exception: name 'rawFileNames' is not defined\n",
      "generated an exception: name 'rawFileNames' is not defined\n",
      "generated an exception: name 'rawFileNames' is not defined\n",
      "generated an exception: name 'rawFileNames' is not defined\n",
      "generated an exception: name 'rawFileNames' is not defined\n",
      "generated an exception: name 'rawFileNames' is not defined\n",
      "generated an exception: name 'rawFileNames' is not defined"
     ]
    },
    {
     "name": "stderr",
     "output_type": "stream",
     "text": [
      " 38%|██████████████████████▌                                    | 1232/3217 [01:38<02:46, 11.89it/s]"
     ]
    },
    {
     "name": "stdout",
     "output_type": "stream",
     "text": [
      "\n",
      "generated an exception: name 'rawFileNames' is not defined\n",
      "generated an exception: name 'rawFileNames' is not defined\n",
      "generated an exception: name 'rawFileNames' is not defined\n",
      "generated an exception: name 'rawFileNames' is not defined\n",
      "generated an exception: name 'rawFileNames' is not defined\n",
      "generated an exception: name 'rawFileNames' is not defined\n",
      "generated an exception: name 'rawFileNames' is not defined\n",
      "generated an exception: name 'rawFileNames' is not defined\n",
      "generated an exception: name 'rawFileNames' is not defined\n",
      "generated an exception: name 'rawFileNames' is not defined\n",
      "generated an exception: name 'rawFileNames' is not defined\n",
      "generated an exception: name 'rawFileNames' is not defined\n",
      "generated an exception: name 'rawFileNames' is not defined\n",
      "generated an exception: name 'rawFileNames' is not defined\n",
      "generated an exception: name 'rawFileNames' is not defined\n"
     ]
    },
    {
     "name": "stderr",
     "output_type": "stream",
     "text": [
      " 39%|██████████████████████▉                                    | 1248/3217 [01:39<02:40, 12.25it/s]"
     ]
    },
    {
     "name": "stdout",
     "output_type": "stream",
     "text": [
      "generated an exception: name 'rawFileNames' is not defined\n",
      "generated an exception: name 'rawFileNames' is not defined\n",
      "generated an exception: name 'rawFileNames' is not defined\n",
      "generated an exception: name 'rawFileNames' is not defined\n",
      "generated an exception: name 'rawFileNames' is not defined\n",
      "generated an exception: name 'rawFileNames' is not defined\n",
      "generated an exception: name 'rawFileNames' is not defined\n",
      "generated an exception: name 'rawFileNames' is not defined\n",
      "generated an exception: name 'rawFileNames' is not defined\n",
      "generated an exception: name 'rawFileNames' is not defined\n",
      "generated an exception: name 'rawFileNames' is not defined\n"
     ]
    },
    {
     "name": "stderr",
     "output_type": "stream",
     "text": [
      " 39%|███████████████████████▏                                   | 1264/3217 [01:40<02:35, 12.55it/s]"
     ]
    },
    {
     "name": "stdout",
     "output_type": "stream",
     "text": [
      "generated an exception: name 'rawFileNames' is not defined\n",
      "generated an exception: name 'rawFileNames' is not defined\n",
      "generated an exception: name 'rawFileNames' is not defined\n",
      "generated an exception: name 'rawFileNames' is not defined\n",
      "generated an exception: name 'rawFileNames' is not defined\n",
      "generated an exception: name 'rawFileNames' is not defined\n",
      "generated an exception: name 'rawFileNames' is not defined\n",
      "generated an exception: name 'rawFileNames' is not defined\n",
      "generated an exception: name 'rawFileNames' is not defined\n",
      "generated an exception: name 'rawFileNames' is not defined\n",
      "generated an exception: name 'rawFileNames' is not defined\n",
      "generated an exception: name 'rawFileNames' is not defined\n",
      "generated an exception: name 'rawFileNames' is not defined\n",
      "generated an exception: name 'rawFileNames' is not defined\n",
      "generated an exception: name 'rawFileNames' is not defined\n",
      "generated an exception: name 'rawFileNames' is not defined\n",
      "generated an exception: name 'rawFileNames' is not defined\n",
      "generated an exception: name 'rawFileNames' is not defined\n"
     ]
    },
    {
     "name": "stderr",
     "output_type": "stream",
     "text": [
      " 40%|███████████████████████▍                                   | 1280/3217 [01:41<02:33, 12.58it/s]"
     ]
    },
    {
     "name": "stdout",
     "output_type": "stream",
     "text": [
      "generated an exception: name 'rawFileNames' is not defined\n",
      "generated an exception: name 'rawFileNames' is not defined\n",
      "generated an exception: name 'rawFileNames' is not defined\n",
      "generated an exception: name 'rawFileNames' is not defined\n",
      "generated an exception: name 'rawFileNames' is not defined\n",
      "generated an exception: name 'rawFileNames' is not defined\n",
      "generated an exception: name 'rawFileNames' is not defined\n",
      "generated an exception: name 'rawFileNames' is not defined\n",
      "generated an exception: name 'rawFileNames' is not defined\n",
      "generated an exception: name 'rawFileNames' is not defined\n",
      "generated an exception: name 'rawFileNames' is not defined\n",
      "generated an exception: name 'rawFileNames' is not defined\n",
      "generated an exception: name 'rawFileNames' is not defined\n",
      "generated an exception: name 'rawFileNames' is not defined\n",
      "generated an exception: name 'rawFileNames' is not defined\n",
      "generated an exception: name 'rawFileNames' is not defined"
     ]
    },
    {
     "name": "stderr",
     "output_type": "stream",
     "text": [
      " 40%|███████████████████████▊                                   | 1296/3217 [01:42<02:29, 12.85it/s]"
     ]
    },
    {
     "name": "stdout",
     "output_type": "stream",
     "text": [
      "\n",
      "generated an exception: name 'rawFileNames' is not defined\n",
      "generated an exception: name 'rawFileNames' is not defined\n",
      "generated an exception: name 'rawFileNames' is not defined\n",
      "generated an exception: name 'rawFileNames' is not defined\n",
      "generated an exception: name 'rawFileNames' is not defined\n",
      "generated an exception: name 'rawFileNames' is not defined\n",
      "generated an exception: name 'rawFileNames' is not defined\n",
      "generated an exception: name 'rawFileNames' is not defined\n",
      "generated an exception: name 'rawFileNames' is not defined\n",
      "generated an exception: name 'rawFileNames' is not defined\n",
      "generated an exception: name 'rawFileNames' is not defined\n",
      "generated an exception: name 'rawFileNames' is not defined\n",
      "generated an exception: name 'rawFileNames' is not defined\n",
      "generated an exception: name 'rawFileNames' is not defined\n",
      "generated an exception: name 'rawFileNames' is not defined\n",
      "generated an exception: name 'rawFileNames' is not defined\n",
      "generated an exception: name 'rawFileNames' is not defined\n"
     ]
    },
    {
     "name": "stderr",
     "output_type": "stream",
     "text": [
      " 41%|████████████████████████                                   | 1312/3217 [01:44<02:25, 13.12it/s]"
     ]
    },
    {
     "name": "stdout",
     "output_type": "stream",
     "text": [
      "generated an exception: name 'rawFileNames' is not defined\n",
      "generated an exception: name 'rawFileNames' is not defined\n",
      "generated an exception: name 'rawFileNames' is not defined\n",
      "generated an exception: name 'rawFileNames' is not defined\n",
      "generated an exception: name 'rawFileNames' is not defined\n",
      "generated an exception: name 'rawFileNames' is not defined\n",
      "generated an exception: name 'rawFileNames' is not defined\n",
      "generated an exception: name 'rawFileNames' is not defined\n",
      "generated an exception: name 'rawFileNames' is not defined\n",
      "generated an exception: name 'rawFileNames' is not defined\n",
      "generated an exception: name 'rawFileNames' is not defined\n",
      "generated an exception: name 'rawFileNames' is not defined\n",
      "generated an exception: name 'rawFileNames' is not defined\n"
     ]
    },
    {
     "name": "stderr",
     "output_type": "stream",
     "text": [
      " 41%|████████████████████████▎                                  | 1328/3217 [01:45<02:22, 13.28it/s]"
     ]
    },
    {
     "name": "stdout",
     "output_type": "stream",
     "text": [
      "generated an exception: name 'rawFileNames' is not defined\n",
      "generated an exception: name 'rawFileNames' is not defined\n",
      "generated an exception: name 'rawFileNames' is not defined\n",
      "generated an exception: name 'rawFileNames' is not defined\n",
      "generated an exception: name 'rawFileNames' is not defined\n",
      "generated an exception: name 'rawFileNames' is not defined\n",
      "generated an exception: name 'rawFileNames' is not defined\n",
      "generated an exception: name 'rawFileNames' is not defined\n",
      "generated an exception: name 'rawFileNames' is not defined\n",
      "generated an exception: name 'rawFileNames' is not defined\n",
      "generated an exception: name 'rawFileNames' is not defined\n",
      "generated an exception: name 'rawFileNames' is not defined\n",
      "generated an exception: name 'rawFileNames' is not defined\n",
      "generated an exception: name 'rawFileNames' is not defined\n",
      "generated an exception: name 'rawFileNames' is not defined\n",
      "generated an exception: name 'rawFileNames' is not defined\n",
      "generated an exception: name 'rawFileNames' is not defined\n"
     ]
    },
    {
     "name": "stderr",
     "output_type": "stream",
     "text": [
      " 42%|████████████████████████▋                                  | 1344/3217 [01:46<02:21, 13.22it/s]"
     ]
    },
    {
     "name": "stdout",
     "output_type": "stream",
     "text": [
      "generated an exception: name 'rawFileNames' is not defined\n",
      "generated an exception: name 'rawFileNames' is not defined\n",
      "generated an exception: name 'rawFileNames' is not defined\n",
      "generated an exception: name 'rawFileNames' is not defined\n",
      "generated an exception: name 'rawFileNames' is not defined\n",
      "generated an exception: name 'rawFileNames' is not defined\n",
      "generated an exception: name 'rawFileNames' is not defined\n",
      "generated an exception: name 'rawFileNames' is not defined\n",
      "generated an exception: name 'rawFileNames' is not defined\n",
      "generated an exception: name 'rawFileNames' is not defined\n",
      "generated an exception: name 'rawFileNames' is not defined\n",
      "generated an exception: name 'rawFileNames' is not defined\n",
      "generated an exception: name 'rawFileNames' is not defined\n",
      "generated an exception: name 'rawFileNames' is not defined\n",
      "generated an exception: name 'rawFileNames' is not defined\n",
      "generated an exception: name 'rawFileNames' is not defined\n",
      "generated an exception: name 'rawFileNames' is not defined"
     ]
    },
    {
     "name": "stderr",
     "output_type": "stream",
     "text": [
      " 42%|████████████████████████▉                                  | 1360/3217 [01:47<02:21, 13.12it/s]"
     ]
    },
    {
     "name": "stdout",
     "output_type": "stream",
     "text": [
      "\n",
      "generated an exception: name 'rawFileNames' is not defined\n",
      "generated an exception: name 'rawFileNames' is not defined\n",
      "generated an exception: name 'rawFileNames' is not defined\n",
      "generated an exception: name 'rawFileNames' is not defined\n",
      "generated an exception: name 'rawFileNames' is not defined\n",
      "generated an exception: name 'rawFileNames' is not defined\n",
      "generated an exception: name 'rawFileNames' is not defined\n",
      "generated an exception: name 'rawFileNames' is not defined\n",
      "generated an exception: name 'rawFileNames' is not defined\n",
      "generated an exception: name 'rawFileNames' is not defined\n",
      "generated an exception: name 'rawFileNames' is not defined\n",
      "generated an exception: name 'rawFileNames' is not defined\n",
      "generated an exception: name 'rawFileNames' is not defined\n",
      "generated an exception: name 'rawFileNames' is not defined\n"
     ]
    },
    {
     "name": "stderr",
     "output_type": "stream",
     "text": [
      " 43%|█████████████████████████▏                                 | 1376/3217 [01:48<02:19, 13.22it/s]"
     ]
    },
    {
     "name": "stdout",
     "output_type": "stream",
     "text": [
      "generated an exception: name 'rawFileNames' is not defined\n",
      "generated an exception: name 'rawFileNames' is not defined\n",
      "generated an exception: name 'rawFileNames' is not defined\n",
      "generated an exception: name 'rawFileNames' is not defined\n",
      "generated an exception: name 'rawFileNames' is not defined\n",
      "generated an exception: name 'rawFileNames' is not defined\n",
      "generated an exception: name 'rawFileNames' is not defined\n",
      "generated an exception: name 'rawFileNames' is not defined\n",
      "generated an exception: name 'rawFileNames' is not defined\n",
      "generated an exception: name 'rawFileNames' is not defined\n",
      "generated an exception: name 'rawFileNames' is not defined\n",
      "generated an exception: name 'rawFileNames' is not defined\n",
      "generated an exception: name 'rawFileNames' is not defined\n",
      "generated an exception: name 'rawFileNames' is not defined\n",
      "generated an exception: name 'rawFileNames' is not defined\n",
      "generated an exception: name 'rawFileNames' is not defined\n",
      "generated an exception: name 'rawFileNames' is not defined\n"
     ]
    },
    {
     "name": "stderr",
     "output_type": "stream",
     "text": [
      " 43%|█████████████████████████▌                                 | 1392/3217 [01:50<02:16, 13.36it/s]"
     ]
    },
    {
     "name": "stdout",
     "output_type": "stream",
     "text": [
      "generated an exception: name 'rawFileNames' is not defined\n",
      "generated an exception: name 'rawFileNames' is not defined\n",
      "generated an exception: name 'rawFileNames' is not defined\n",
      "generated an exception: name 'rawFileNames' is not defined\n",
      "generated an exception: name 'rawFileNames' is not defined\n",
      "generated an exception: name 'rawFileNames' is not defined\n",
      "generated an exception: name 'rawFileNames' is not defined\n",
      "generated an exception: name 'rawFileNames' is not defined\n",
      "generated an exception: name 'rawFileNames' is not defined\n",
      "generated an exception: name 'rawFileNames' is not defined\n",
      "generated an exception: name 'rawFileNames' is not defined\n",
      "generated an exception: name 'rawFileNames' is not defined\n",
      "generated an exception: name 'rawFileNames' is not defined\n",
      "generated an exception: name 'rawFileNames' is not defined\n",
      "generated an exception: name 'rawFileNames' is not defined\n"
     ]
    },
    {
     "name": "stderr",
     "output_type": "stream",
     "text": [
      " 44%|█████████████████████████▊                                 | 1408/3217 [01:51<02:15, 13.32it/s]"
     ]
    },
    {
     "name": "stdout",
     "output_type": "stream",
     "text": [
      "generated an exception: name 'rawFileNames' is not defined\n",
      "generated an exception: name 'rawFileNames' is not defined\n",
      "generated an exception: name 'rawFileNames' is not defined\n",
      "generated an exception: name 'rawFileNames' is not defined\n",
      "generated an exception: name 'rawFileNames' is not defined\n",
      "generated an exception: name 'rawFileNames' is not defined\n",
      "generated an exception: name 'rawFileNames' is not defined\n",
      "generated an exception: name 'rawFileNames' is not defined\n",
      "generated an exception: name 'rawFileNames' is not defined\n",
      "generated an exception: name 'rawFileNames' is not defined\n",
      "generated an exception: name 'rawFileNames' is not defined\n",
      "generated an exception: name 'rawFileNames' is not defined\n",
      "generated an exception: name 'rawFileNames' is not defined\n",
      "generated an exception: name 'rawFileNames' is not defined\n",
      "generated an exception: name 'rawFileNames' is not defined\n",
      "generated an exception: name 'rawFileNames' is not defined\n"
     ]
    },
    {
     "name": "stderr",
     "output_type": "stream",
     "text": [
      " 44%|██████████████████████████                                 | 1424/3217 [01:52<02:14, 13.33it/s]"
     ]
    },
    {
     "name": "stdout",
     "output_type": "stream",
     "text": [
      "generated an exception: name 'rawFileNames' is not defined\n",
      "generated an exception: name 'rawFileNames' is not defined\n",
      "generated an exception: name 'rawFileNames' is not defined\n",
      "generated an exception: name 'rawFileNames' is not defined\n",
      "generated an exception: name 'rawFileNames' is not defined\n",
      "generated an exception: name 'rawFileNames' is not defined\n",
      "generated an exception: name 'rawFileNames' is not defined\n",
      "generated an exception: name 'rawFileNames' is not defined\n",
      "generated an exception: name 'rawFileNames' is not defined\n",
      "generated an exception: name 'rawFileNames' is not defined\n",
      "generated an exception: name 'rawFileNames' is not defined\n",
      "generated an exception: name 'rawFileNames' is not defined\n",
      "generated an exception: name 'rawFileNames' is not defined\n",
      "generated an exception: name 'rawFileNames' is not defined\n",
      "generated an exception: name 'rawFileNames' is not defined\n",
      "generated an exception: name 'rawFileNames' is not defined\n"
     ]
    },
    {
     "name": "stderr",
     "output_type": "stream",
     "text": [
      " 45%|██████████████████████████▍                                | 1440/3217 [01:53<02:13, 13.29it/s]"
     ]
    },
    {
     "name": "stdout",
     "output_type": "stream",
     "text": [
      "generated an exception: name 'rawFileNames' is not defined\n",
      "generated an exception: name 'rawFileNames' is not defined\n",
      "generated an exception: name 'rawFileNames' is not defined\n",
      "generated an exception: name 'rawFileNames' is not defined\n",
      "generated an exception: name 'rawFileNames' is not defined\n",
      "generated an exception: name 'rawFileNames' is not defined\n",
      "generated an exception: name 'rawFileNames' is not defined\n",
      "generated an exception: name 'rawFileNames' is not defined\n",
      "generated an exception: name 'rawFileNames' is not defined\n",
      "generated an exception: name 'rawFileNames' is not defined\n",
      "generated an exception: name 'rawFileNames' is not defined\n",
      "generated an exception: name 'rawFileNames' is not defined\n",
      "generated an exception: name 'rawFileNames' is not defined\n",
      "generated an exception: name 'rawFileNames' is not defined\n",
      "generated an exception: name 'rawFileNames' is not defined\n",
      "generated an exception: name 'rawFileNames' is not defined\n",
      "generated an exception: name 'rawFileNames' is not defined"
     ]
    },
    {
     "name": "stderr",
     "output_type": "stream",
     "text": [
      " 45%|██████████████████████████▋                                | 1456/3217 [01:54<02:12, 13.33it/s]"
     ]
    },
    {
     "name": "stdout",
     "output_type": "stream",
     "text": [
      "\n",
      "generated an exception: name 'rawFileNames' is not defined\n",
      "generated an exception: name 'rawFileNames' is not defined\n",
      "generated an exception: name 'rawFileNames' is not defined\n",
      "generated an exception: name 'rawFileNames' is not defined\n",
      "generated an exception: name 'rawFileNames' is not defined\n",
      "generated an exception: name 'rawFileNames' is not defined\n",
      "generated an exception: name 'rawFileNames' is not defined\n",
      "generated an exception: name 'rawFileNames' is not defined\n",
      "generated an exception: name 'rawFileNames' is not defined\n",
      "generated an exception: name 'rawFileNames' is not defined\n",
      "generated an exception: name 'rawFileNames' is not defined\n",
      "generated an exception: name 'rawFileNames' is not defined\n",
      "generated an exception: name 'rawFileNames' is not defined\n",
      "generated an exception: name 'rawFileNames' is not defined\n",
      "generated an exception: name 'rawFileNames' is not defined\n"
     ]
    },
    {
     "name": "stderr",
     "output_type": "stream",
     "text": [
      " 46%|██████████████████████████▉                                | 1472/3217 [01:56<02:11, 13.26it/s]"
     ]
    },
    {
     "name": "stdout",
     "output_type": "stream",
     "text": [
      "generated an exception: name 'rawFileNames' is not defined\n",
      "generated an exception: name 'rawFileNames' is not defined\n",
      "generated an exception: name 'rawFileNames' is not defined\n",
      "generated an exception: name 'rawFileNames' is not defined\n",
      "generated an exception: name 'rawFileNames' is not defined\n",
      "generated an exception: name 'rawFileNames' is not defined\n",
      "generated an exception: name 'rawFileNames' is not defined\n",
      "generated an exception: name 'rawFileNames' is not defined\n",
      "generated an exception: name 'rawFileNames' is not defined\n",
      "generated an exception: name 'rawFileNames' is not defined\n",
      "generated an exception: name 'rawFileNames' is not defined\n",
      "generated an exception: name 'rawFileNames' is not defined\n",
      "generated an exception: name 'rawFileNames' is not defined\n",
      "generated an exception: name 'rawFileNames' is not defined\n",
      "generated an exception: name 'rawFileNames' is not defined\n",
      "generated an exception: name 'rawFileNames' is not defined\n"
     ]
    },
    {
     "name": "stderr",
     "output_type": "stream",
     "text": [
      " 46%|███████████████████████████▎                               | 1488/3217 [01:57<02:10, 13.26it/s]"
     ]
    },
    {
     "name": "stdout",
     "output_type": "stream",
     "text": [
      "generated an exception: name 'rawFileNames' is not defined\n",
      "generated an exception: name 'rawFileNames' is not defined\n",
      "generated an exception: name 'rawFileNames' is not defined\n",
      "generated an exception: name 'rawFileNames' is not defined\n",
      "generated an exception: name 'rawFileNames' is not defined\n",
      "generated an exception: name 'rawFileNames' is not defined\n",
      "generated an exception: name 'rawFileNames' is not defined\n",
      "generated an exception: name 'rawFileNames' is not defined\n",
      "generated an exception: name 'rawFileNames' is not defined\n",
      "generated an exception: name 'rawFileNames' is not defined\n",
      "generated an exception: name 'rawFileNames' is not defined\n",
      "generated an exception: name 'rawFileNames' is not defined\n",
      "generated an exception: name 'rawFileNames' is not defined\n",
      "generated an exception: name 'rawFileNames' is not defined\n",
      "generated an exception: name 'rawFileNames' is not defined\n",
      "generated an exception: name 'rawFileNames' is not defined\n"
     ]
    },
    {
     "name": "stderr",
     "output_type": "stream",
     "text": [
      " 47%|███████████████████████████▌                               | 1504/3217 [01:58<02:10, 13.11it/s]"
     ]
    },
    {
     "name": "stdout",
     "output_type": "stream",
     "text": [
      "generated an exception: name 'rawFileNames' is not defined\n",
      "generated an exception: name 'rawFileNames' is not defined\n",
      "generated an exception: name 'rawFileNames' is not defined\n",
      "generated an exception: name 'rawFileNames' is not defined\n",
      "generated an exception: name 'rawFileNames' is not defined\n",
      "generated an exception: name 'rawFileNames' is not defined\n",
      "generated an exception: name 'rawFileNames' is not defined\n",
      "generated an exception: name 'rawFileNames' is not defined\n",
      "generated an exception: name 'rawFileNames' is not defined\n",
      "generated an exception: name 'rawFileNames' is not defined\n",
      "generated an exception: name 'rawFileNames' is not defined\n",
      "generated an exception: name 'rawFileNames' is not defined\n",
      "generated an exception: name 'rawFileNames' is not defined\n",
      "generated an exception: name 'rawFileNames' is not defined\n",
      "generated an exception: name 'rawFileNames' is not defined\n",
      "generated an exception: name 'rawFileNames' is not defined\n"
     ]
    },
    {
     "name": "stderr",
     "output_type": "stream",
     "text": [
      " 47%|███████████████████████████▉                               | 1520/3217 [01:59<02:10, 13.03it/s]"
     ]
    },
    {
     "name": "stdout",
     "output_type": "stream",
     "text": [
      "generated an exception: name 'rawFileNames' is not defined\n",
      "generated an exception: name 'rawFileNames' is not defined\n",
      "generated an exception: name 'rawFileNames' is not defined\n",
      "generated an exception: name 'rawFileNames' is not defined\n",
      "generated an exception: name 'rawFileNames' is not defined\n",
      "generated an exception: name 'rawFileNames' is not defined\n",
      "generated an exception: name 'rawFileNames' is not defined\n",
      "generated an exception: name 'rawFileNames' is not defined\n",
      "generated an exception: name 'rawFileNames' is not defined\n",
      "generated an exception: name 'rawFileNames' is not defined\n",
      "generated an exception: name 'rawFileNames' is not defined\n",
      "generated an exception: name 'rawFileNames' is not defined\n",
      "generated an exception: name 'rawFileNames' is not defined\n",
      "generated an exception: name 'rawFileNames' is not defined\n",
      "generated an exception: name 'rawFileNames' is not defined\n",
      "generated an exception: name 'rawFileNames' is not defined\n",
      "generated an exception: name 'rawFileNames' is not defined\n",
      "generated an exception: name 'rawFileNames' is not defined\n",
      "generated an exception: name 'rawFileNames' is not defined\n",
      "generated an exception: name 'rawFileNames' is not defined\n",
      "generated an exception: name 'rawFileNames' is not defined\n",
      "generated an exception: name 'rawFileNames' is not defined\n",
      "generated an exception: name 'rawFileNames' is not defined\n",
      "generated an exception: name 'rawFileNames' is not defined\n"
     ]
    },
    {
     "name": "stderr",
     "output_type": "stream",
     "text": [
      " 48%|████████████████████████████▏                              | 1536/3217 [02:00<02:08, 13.04it/s]"
     ]
    },
    {
     "name": "stdout",
     "output_type": "stream",
     "text": [
      "generated an exception: name 'rawFileNames' is not defined\n",
      "generated an exception: name 'rawFileNames' is not defined\n",
      "generated an exception: name 'rawFileNames' is not defined\n",
      "generated an exception: name 'rawFileNames' is not defined\n",
      "generated an exception: name 'rawFileNames' is not defined\n",
      "generated an exception: name 'rawFileNames' is not defined\n",
      "generated an exception: name 'rawFileNames' is not defined\n",
      "generated an exception: name 'rawFileNames' is not defined\n"
     ]
    },
    {
     "name": "stderr",
     "output_type": "stream",
     "text": [
      " 48%|████████████████████████████▍                              | 1552/3217 [02:02<02:08, 12.91it/s]"
     ]
    },
    {
     "name": "stdout",
     "output_type": "stream",
     "text": [
      "generated an exception: name 'rawFileNames' is not defined\n",
      "generated an exception: name 'rawFileNames' is not defined\n",
      "generated an exception: name 'rawFileNames' is not defined\n",
      "generated an exception: name 'rawFileNames' is not defined\n",
      "generated an exception: name 'rawFileNames' is not defined\n",
      "generated an exception: name 'rawFileNames' is not defined\n",
      "generated an exception: name 'rawFileNames' is not defined\n",
      "generated an exception: name 'rawFileNames' is not defined\n",
      "generated an exception: name 'rawFileNames' is not defined\n",
      "generated an exception: name 'rawFileNames' is not defined\n",
      "generated an exception: name 'rawFileNames' is not defined\n",
      "generated an exception: name 'rawFileNames' is not defined\n",
      "generated an exception: name 'rawFileNames' is not defined\n",
      "generated an exception: name 'rawFileNames' is not defined\n",
      "generated an exception: name 'rawFileNames' is not defined\n",
      "generated an exception: name 'rawFileNames' is not defined\n"
     ]
    },
    {
     "name": "stderr",
     "output_type": "stream",
     "text": [
      " 49%|████████████████████████████▊                              | 1568/3217 [02:03<02:08, 12.79it/s]"
     ]
    },
    {
     "name": "stdout",
     "output_type": "stream",
     "text": [
      "generated an exception: name 'rawFileNames' is not defined\n",
      "generated an exception: name 'rawFileNames' is not defined\n",
      "generated an exception: name 'rawFileNames' is not defined\n",
      "generated an exception: name 'rawFileNames' is not defined\n",
      "generated an exception: name 'rawFileNames' is not defined\n",
      "generated an exception: name 'rawFileNames' is not defined\n",
      "generated an exception: name 'rawFileNames' is not defined\n",
      "generated an exception: name 'rawFileNames' is not defined\n",
      "generated an exception: name 'rawFileNames' is not defined\n",
      "generated an exception: name 'rawFileNames' is not defined\n",
      "generated an exception: name 'rawFileNames' is not defined\n",
      "generated an exception: name 'rawFileNames' is not defined\n",
      "generated an exception: name 'rawFileNames' is not defined\n",
      "generated an exception: name 'rawFileNames' is not defined\n",
      "generated an exception: name 'rawFileNames' is not defined\n",
      "generated an exception: name 'rawFileNames' is not defined\n",
      "generated an exception: name 'rawFileNames' is not defined\n",
      "generated an exception: name 'rawFileNames' is not defined"
     ]
    },
    {
     "name": "stderr",
     "output_type": "stream",
     "text": [
      " 49%|█████████████████████████████                              | 1584/3217 [02:04<02:06, 12.95it/s]"
     ]
    },
    {
     "name": "stdout",
     "output_type": "stream",
     "text": [
      "\n",
      "generated an exception: name 'rawFileNames' is not defined\n",
      "generated an exception: name 'rawFileNames' is not defined\n",
      "generated an exception: name 'rawFileNames' is not defined\n",
      "generated an exception: name 'rawFileNames' is not defined\n",
      "generated an exception: name 'rawFileNames' is not defined\n",
      "generated an exception: name 'rawFileNames' is not defined\n",
      "generated an exception: name 'rawFileNames' is not defined\n",
      "generated an exception: name 'rawFileNames' is not defined\n",
      "generated an exception: name 'rawFileNames' is not defined\n",
      "generated an exception: name 'rawFileNames' is not defined\n",
      "generated an exception: name 'rawFileNames' is not defined\n",
      "generated an exception: name 'rawFileNames' is not defined\n",
      "generated an exception: name 'rawFileNames' is not defined\n",
      "generated an exception: name 'rawFileNames' is not defined\n",
      "generated an exception: name 'rawFileNames' is not defined\n"
     ]
    },
    {
     "name": "stderr",
     "output_type": "stream",
     "text": [
      " 50%|█████████████████████████████▎                             | 1600/3217 [02:05<02:04, 12.94it/s]"
     ]
    },
    {
     "name": "stdout",
     "output_type": "stream",
     "text": [
      "generated an exception: name 'rawFileNames' is not defined\n",
      "generated an exception: name 'rawFileNames' is not defined\n",
      "generated an exception: name 'rawFileNames' is not defined\n",
      "generated an exception: name 'rawFileNames' is not defined\n",
      "generated an exception: name 'rawFileNames' is not defined\n",
      "generated an exception: name 'rawFileNames' is not defined\n",
      "generated an exception: name 'rawFileNames' is not defined\n",
      "generated an exception: name 'rawFileNames' is not defined\n",
      "generated an exception: name 'rawFileNames' is not defined\n",
      "generated an exception: name 'rawFileNames' is not defined\n",
      "generated an exception: name 'rawFileNames' is not defined\n",
      "generated an exception: name 'rawFileNames' is not defined\n",
      "generated an exception: name 'rawFileNames' is not defined\n",
      "generated an exception: name 'rawFileNames' is not defined\n",
      "generated an exception: name 'rawFileNames' is not defined\n",
      "generated an exception: name 'rawFileNames' is not defined"
     ]
    },
    {
     "name": "stderr",
     "output_type": "stream",
     "text": [
      " 50%|█████████████████████████████▋                             | 1616/3217 [02:07<02:03, 12.95it/s]"
     ]
    },
    {
     "name": "stdout",
     "output_type": "stream",
     "text": [
      "\n",
      "generated an exception: name 'rawFileNames' is not defined\n",
      "generated an exception: name 'rawFileNames' is not defined\n",
      "generated an exception: name 'rawFileNames' is not defined\n",
      "generated an exception: name 'rawFileNames' is not defined\n",
      "generated an exception: name 'rawFileNames' is not defined\n",
      "generated an exception: name 'rawFileNames' is not defined\n",
      "generated an exception: name 'rawFileNames' is not defined\n",
      "generated an exception: name 'rawFileNames' is not defined\n",
      "generated an exception: name 'rawFileNames' is not defined\n",
      "generated an exception: name 'rawFileNames' is not defined\n",
      "generated an exception: name 'rawFileNames' is not defined\n",
      "generated an exception: name 'rawFileNames' is not defined\n",
      "generated an exception: name 'rawFileNames' is not defined\n",
      "generated an exception: name 'rawFileNames' is not defined\n",
      "generated an exception: name 'rawFileNames' is not defined\n",
      "generated an exception: name 'rawFileNames' is not defined"
     ]
    },
    {
     "name": "stderr",
     "output_type": "stream",
     "text": [
      " 51%|█████████████████████████████▉                             | 1632/3217 [02:08<02:02, 12.95it/s]"
     ]
    },
    {
     "name": "stdout",
     "output_type": "stream",
     "text": [
      "\n",
      "generated an exception: name 'rawFileNames' is not defined\n",
      "generated an exception: name 'rawFileNames' is not defined\n",
      "generated an exception: name 'rawFileNames' is not defined\n",
      "generated an exception: name 'rawFileNames' is not defined\n",
      "generated an exception: name 'rawFileNames' is not defined\n",
      "generated an exception: name 'rawFileNames' is not defined\n",
      "generated an exception: name 'rawFileNames' is not defined\n",
      "generated an exception: name 'rawFileNames' is not defined\n",
      "generated an exception: name 'rawFileNames' is not defined\n",
      "generated an exception: name 'rawFileNames' is not defined\n",
      "generated an exception: name 'rawFileNames' is not defined\n",
      "generated an exception: name 'rawFileNames' is not defined\n",
      "generated an exception: name 'rawFileNames' is not defined\n",
      "generated an exception: name 'rawFileNames' is not defined\n",
      "generated an exception: name 'rawFileNames' is not defined\n",
      "generated an exception: name 'rawFileNames' is not defined\n",
      "generated an exception: name 'rawFileNames' is not defined\n"
     ]
    },
    {
     "name": "stderr",
     "output_type": "stream",
     "text": [
      " 51%|██████████████████████████████▏                            | 1648/3217 [02:09<02:02, 12.83it/s]"
     ]
    },
    {
     "name": "stdout",
     "output_type": "stream",
     "text": [
      "generated an exception: name 'rawFileNames' is not defined\n",
      "generated an exception: name 'rawFileNames' is not defined\n",
      "generated an exception: name 'rawFileNames' is not defined\n",
      "generated an exception: name 'rawFileNames' is not defined\n",
      "generated an exception: name 'rawFileNames' is not defined\n",
      "generated an exception: name 'rawFileNames' is not defined\n",
      "generated an exception: name 'rawFileNames' is not defined\n",
      "generated an exception: name 'rawFileNames' is not defined\n",
      "generated an exception: name 'rawFileNames' is not defined\n",
      "generated an exception: name 'rawFileNames' is not defined\n",
      "generated an exception: name 'rawFileNames' is not defined\n",
      "generated an exception: name 'rawFileNames' is not defined\n",
      "generated an exception: name 'rawFileNames' is not defined\n",
      "generated an exception: name 'rawFileNames' is not defined\n",
      "generated an exception: name 'rawFileNames' is not defined\n",
      "generated an exception: name 'rawFileNames' is not defined\n"
     ]
    },
    {
     "name": "stderr",
     "output_type": "stream",
     "text": [
      " 52%|██████████████████████████████▌                            | 1664/3217 [02:10<02:00, 12.84it/s]"
     ]
    },
    {
     "name": "stdout",
     "output_type": "stream",
     "text": [
      "generated an exception: name 'rawFileNames' is not defined\n",
      "generated an exception: name 'rawFileNames' is not defined\n",
      "generated an exception: name 'rawFileNames' is not defined\n",
      "generated an exception: name 'rawFileNames' is not defined\n",
      "generated an exception: name 'rawFileNames' is not defined\n",
      "generated an exception: name 'rawFileNames' is not defined\n",
      "generated an exception: name 'rawFileNames' is not defined\n",
      "generated an exception: name 'rawFileNames' is not defined\n",
      "generated an exception: name 'rawFileNames' is not defined\n",
      "generated an exception: name 'rawFileNames' is not defined\n",
      "generated an exception: name 'rawFileNames' is not defined\n",
      "generated an exception: name 'rawFileNames' is not defined\n",
      "generated an exception: name 'rawFileNames' is not defined\n",
      "generated an exception: name 'rawFileNames' is not defined\n",
      "generated an exception: name 'rawFileNames' is not defined\n",
      "generated an exception: name 'rawFileNames' is not defined\n",
      "generated an exception: name 'rawFileNames' is not defined\n",
      "generated an exception: name 'rawFileNames' is not defined\n",
      "generated an exception: name 'rawFileNames' is not defined\n",
      "generated an exception: name 'rawFileNames' is not defined\n",
      "generated an exception: name 'rawFileNames' is not defined\n",
      "generated an exception: name 'rawFileNames' is not defined\n",
      "generated an exception: name 'rawFileNames' is not defined\n",
      "generated an exception: name 'rawFileNames' is not defined\n",
      "generated an exception: name 'rawFileNames' is not defined\n",
      "generated an exception: name 'rawFileNames' is not defined\n",
      "generated an exception: name 'rawFileNames' is not defined\n",
      "generated an exception: name 'rawFileNames' is not defined\n",
      "generated an exception: name 'rawFileNames' is not defined\n",
      "generated an exception: name 'rawFileNames' is not defined"
     ]
    },
    {
     "name": "stderr",
     "output_type": "stream",
     "text": [
      " 52%|██████████████████████████████▊                            | 1680/3217 [02:12<02:00, 12.76it/s]"
     ]
    },
    {
     "name": "stdout",
     "output_type": "stream",
     "text": [
      "\n"
     ]
    },
    {
     "name": "stderr",
     "output_type": "stream",
     "text": [
      " 53%|███████████████████████████████                            | 1696/3217 [02:13<01:57, 12.89it/s]"
     ]
    },
    {
     "name": "stdout",
     "output_type": "stream",
     "text": [
      "generated an exception: name 'rawFileNames' is not defined\n",
      "generated an exception: name 'rawFileNames' is not defined\n",
      "generated an exception: name 'rawFileNames' is not defined\n",
      "generated an exception: name 'rawFileNames' is not defined\n",
      "generated an exception: name 'rawFileNames' is not defined\n",
      "generated an exception: name 'rawFileNames' is not defined\n",
      "generated an exception: name 'rawFileNames' is not defined\n",
      "generated an exception: name 'rawFileNames' is not defined\n",
      "generated an exception: name 'rawFileNames' is not defined\n",
      "generated an exception: name 'rawFileNames' is not defined\n",
      "generated an exception: name 'rawFileNames' is not defined\n",
      "generated an exception: name 'rawFileNames' is not defined\n",
      "generated an exception: name 'rawFileNames' is not defined\n",
      "generated an exception: name 'rawFileNames' is not defined\n",
      "generated an exception: name 'rawFileNames' is not defined\n",
      "generated an exception: name 'rawFileNames' is not defined\n",
      "generated an exception: name 'rawFileNames' is not defined\n",
      "generated an exception: name 'rawFileNames' is not defined\n",
      "generated an exception: name 'rawFileNames' is not defined"
     ]
    },
    {
     "name": "stderr",
     "output_type": "stream",
     "text": [
      " 53%|███████████████████████████████▍                           | 1712/3217 [02:14<01:57, 12.79it/s]"
     ]
    },
    {
     "name": "stdout",
     "output_type": "stream",
     "text": [
      "\n",
      "generated an exception: name 'rawFileNames' is not defined\n",
      "generated an exception: name 'rawFileNames' is not defined\n",
      "generated an exception: name 'rawFileNames' is not defined\n",
      "generated an exception: name 'rawFileNames' is not defined\n",
      "generated an exception: name 'rawFileNames' is not defined\n",
      "generated an exception: name 'rawFileNames' is not defined\n",
      "generated an exception: name 'rawFileNames' is not defined\n",
      "generated an exception: name 'rawFileNames' is not defined\n",
      "generated an exception: name 'rawFileNames' is not defined\n",
      "generated an exception: name 'rawFileNames' is not defined\n",
      "generated an exception: name 'rawFileNames' is not defined\n",
      "generated an exception: name 'rawFileNames' is not defined\n",
      "generated an exception: name 'rawFileNames' is not defined\n"
     ]
    },
    {
     "name": "stderr",
     "output_type": "stream",
     "text": [
      " 54%|███████████████████████████████▋                           | 1728/3217 [02:15<01:55, 12.89it/s]"
     ]
    },
    {
     "name": "stdout",
     "output_type": "stream",
     "text": [
      "generated an exception: name 'rawFileNames' is not defined\n",
      "generated an exception: name 'rawFileNames' is not defined\n",
      "generated an exception: name 'rawFileNames' is not defined\n",
      "generated an exception: name 'rawFileNames' is not defined\n",
      "generated an exception: name 'rawFileNames' is not defined\n",
      "generated an exception: name 'rawFileNames' is not defined\n",
      "generated an exception: name 'rawFileNames' is not defined\n",
      "generated an exception: name 'rawFileNames' is not defined\n",
      "generated an exception: name 'rawFileNames' is not defined\n",
      "generated an exception: name 'rawFileNames' is not defined\n",
      "generated an exception: name 'rawFileNames' is not defined\n",
      "generated an exception: name 'rawFileNames' is not defined\n",
      "generated an exception: name 'rawFileNames' is not defined\n",
      "generated an exception: name 'rawFileNames' is not defined\n",
      "generated an exception: name 'rawFileNames' is not defined\n",
      "generated an exception: name 'rawFileNames' is not defined\n",
      "generated an exception: name 'rawFileNames' is not defined"
     ]
    },
    {
     "name": "stderr",
     "output_type": "stream",
     "text": [
      " 54%|███████████████████████████████▉                           | 1744/3217 [02:17<01:56, 12.67it/s]"
     ]
    },
    {
     "name": "stdout",
     "output_type": "stream",
     "text": [
      "\n",
      "generated an exception: name 'rawFileNames' is not defined\n",
      "generated an exception: name 'rawFileNames' is not defined\n",
      "generated an exception: name 'rawFileNames' is not defined\n",
      "generated an exception: name 'rawFileNames' is not defined\n",
      "generated an exception: name 'rawFileNames' is not defined\n",
      "generated an exception: name 'rawFileNames' is not defined\n",
      "generated an exception: name 'rawFileNames' is not defined\n",
      "generated an exception: name 'rawFileNames' is not defined\n",
      "generated an exception: name 'rawFileNames' is not defined\n",
      "generated an exception: name 'rawFileNames' is not defined\n",
      "generated an exception: name 'rawFileNames' is not defined\n",
      "generated an exception: name 'rawFileNames' is not defined\n",
      "generated an exception: name 'rawFileNames' is not defined\n",
      "generated an exception: name 'rawFileNames' is not defined\n",
      "generated an exception: name 'rawFileNames' is not defined\n",
      "generated an exception: name 'rawFileNames' is not defined\n",
      "generated an exception: name 'rawFileNames' is not defined\n",
      "generated an exception: name 'rawFileNames' is not defined"
     ]
    },
    {
     "name": "stderr",
     "output_type": "stream",
     "text": [
      " 55%|████████████████████████████████▎                          | 1760/3217 [02:18<01:53, 12.83it/s]"
     ]
    },
    {
     "name": "stdout",
     "output_type": "stream",
     "text": [
      "\n",
      "generated an exception: name 'rawFileNames' is not defined\n",
      "generated an exception: name 'rawFileNames' is not defined\n",
      "generated an exception: name 'rawFileNames' is not defined\n",
      "generated an exception: name 'rawFileNames' is not defined\n",
      "generated an exception: name 'rawFileNames' is not defined\n",
      "generated an exception: name 'rawFileNames' is not defined\n",
      "generated an exception: name 'rawFileNames' is not defined\n",
      "generated an exception: name 'rawFileNames' is not defined\n",
      "generated an exception: name 'rawFileNames' is not defined\n",
      "generated an exception: name 'rawFileNames' is not defined\n",
      "generated an exception: name 'rawFileNames' is not defined\n",
      "generated an exception: name 'rawFileNames' is not defined\n",
      "generated an exception: name 'rawFileNames' is not defined\n",
      "generated an exception: name 'rawFileNames' is not defined\n",
      "generated an exception: name 'rawFileNames' is not defined\n",
      "generated an exception: name 'rawFileNames' is not defined\n",
      "generated an exception: name 'rawFileNames' is not defined\n"
     ]
    },
    {
     "name": "stderr",
     "output_type": "stream",
     "text": [
      " 55%|████████████████████████████████▌                          | 1776/3217 [02:19<01:51, 12.90it/s]"
     ]
    },
    {
     "name": "stdout",
     "output_type": "stream",
     "text": [
      "generated an exception: name 'rawFileNames' is not defined\n",
      "generated an exception: name 'rawFileNames' is not defined\n",
      "generated an exception: name 'rawFileNames' is not defined\n",
      "generated an exception: name 'rawFileNames' is not defined\n",
      "generated an exception: name 'rawFileNames' is not defined\n",
      "generated an exception: name 'rawFileNames' is not defined\n",
      "generated an exception: name 'rawFileNames' is not defined\n",
      "generated an exception: name 'rawFileNames' is not defined\n",
      "generated an exception: name 'rawFileNames' is not defined\n",
      "generated an exception: name 'rawFileNames' is not defined\n",
      "generated an exception: name 'rawFileNames' is not defined\n",
      "generated an exception: name 'rawFileNames' is not defined\n"
     ]
    },
    {
     "name": "stderr",
     "output_type": "stream",
     "text": [
      " 56%|████████████████████████████████▊                          | 1792/3217 [02:20<01:50, 12.87it/s]"
     ]
    },
    {
     "name": "stdout",
     "output_type": "stream",
     "text": [
      "generated an exception: name 'rawFileNames' is not defined\n",
      "generated an exception: name 'rawFileNames' is not defined\n",
      "generated an exception: name 'rawFileNames' is not defined\n",
      "generated an exception: name 'rawFileNames' is not defined\n",
      "generated an exception: name 'rawFileNames' is not defined\n",
      "generated an exception: name 'rawFileNames' is not defined\n",
      "generated an exception: name 'rawFileNames' is not defined\n",
      "generated an exception: name 'rawFileNames' is not defined\n",
      "generated an exception: name 'rawFileNames' is not defined\n",
      "generated an exception: name 'rawFileNames' is not defined\n",
      "generated an exception: name 'rawFileNames' is not defined\n",
      "generated an exception: name 'rawFileNames' is not defined\n",
      "generated an exception: name 'rawFileNames' is not defined\n",
      "generated an exception: name 'rawFileNames' is not defined\n",
      "generated an exception: name 'rawFileNames' is not defined\n",
      "generated an exception: name 'rawFileNames' is not defined\n",
      "generated an exception: name 'rawFileNames' is not defined\n",
      "generated an exception: name 'rawFileNames' is not defined"
     ]
    },
    {
     "name": "stderr",
     "output_type": "stream",
     "text": [
      " 56%|█████████████████████████████████▏                         | 1808/3217 [02:22<01:48, 12.98it/s]"
     ]
    },
    {
     "name": "stdout",
     "output_type": "stream",
     "text": [
      "\n",
      "generated an exception: name 'rawFileNames' is not defined\n",
      "generated an exception: name 'rawFileNames' is not defined\n",
      "generated an exception: name 'rawFileNames' is not defined\n",
      "generated an exception: name 'rawFileNames' is not defined\n",
      "generated an exception: name 'rawFileNames' is not defined\n",
      "generated an exception: name 'rawFileNames' is not defined\n",
      "generated an exception: name 'rawFileNames' is not defined\n",
      "generated an exception: name 'rawFileNames' is not defined\n",
      "generated an exception: name 'rawFileNames' is not defined\n",
      "generated an exception: name 'rawFileNames' is not defined\n",
      "generated an exception: name 'rawFileNames' is not defined\n",
      "generated an exception: name 'rawFileNames' is not defined\n",
      "generated an exception: name 'rawFileNames' is not defined\n",
      "generated an exception: name 'rawFileNames' is not defined\n",
      "generated an exception: name 'rawFileNames' is not defined"
     ]
    },
    {
     "name": "stderr",
     "output_type": "stream",
     "text": [
      " 57%|█████████████████████████████████▍                         | 1824/3217 [02:23<01:47, 13.01it/s]"
     ]
    },
    {
     "name": "stdout",
     "output_type": "stream",
     "text": [
      "\n",
      "generated an exception: name 'rawFileNames' is not defined\n",
      "generated an exception: name 'rawFileNames' is not defined\n",
      "generated an exception: name 'rawFileNames' is not defined\n",
      "generated an exception: name 'rawFileNames' is not defined\n",
      "generated an exception: name 'rawFileNames' is not defined\n",
      "generated an exception: name 'rawFileNames' is not defined\n",
      "generated an exception: name 'rawFileNames' is not defined\n",
      "generated an exception: name 'rawFileNames' is not defined\n",
      "generated an exception: name 'rawFileNames' is not defined\n",
      "generated an exception: name 'rawFileNames' is not defined\n",
      "generated an exception: name 'rawFileNames' is not defined\n",
      "generated an exception: name 'rawFileNames' is not defined\n",
      "generated an exception: name 'rawFileNames' is not defined\n",
      "generated an exception: name 'rawFileNames' is not defined\n",
      "generated an exception: name 'rawFileNames' is not defined\n"
     ]
    },
    {
     "name": "stderr",
     "output_type": "stream",
     "text": [
      " 57%|█████████████████████████████████▋                         | 1840/3217 [02:24<01:47, 12.83it/s]"
     ]
    },
    {
     "name": "stdout",
     "output_type": "stream",
     "text": [
      "generated an exception: name 'rawFileNames' is not defined\n",
      "generated an exception: name 'rawFileNames' is not defined\n",
      "generated an exception: name 'rawFileNames' is not defined\n",
      "generated an exception: name 'rawFileNames' is not defined\n",
      "generated an exception: name 'rawFileNames' is not defined\n",
      "generated an exception: name 'rawFileNames' is not defined\n",
      "generated an exception: name 'rawFileNames' is not defined\n",
      "generated an exception: name 'rawFileNames' is not defined\n",
      "generated an exception: name 'rawFileNames' is not defined\n",
      "generated an exception: name 'rawFileNames' is not defined\n",
      "generated an exception: name 'rawFileNames' is not defined\n",
      "generated an exception: name 'rawFileNames' is not defined\n",
      "generated an exception: name 'rawFileNames' is not defined\n",
      "generated an exception: name 'rawFileNames' is not defined\n",
      "generated an exception: name 'rawFileNames' is not defined\n",
      "generated an exception: name 'rawFileNames' is not defined\n",
      "generated an exception: name 'rawFileNames' is not defined\n"
     ]
    },
    {
     "name": "stderr",
     "output_type": "stream",
     "text": [
      " 58%|██████████████████████████████████                         | 1856/3217 [02:25<01:44, 13.01it/s]"
     ]
    },
    {
     "name": "stdout",
     "output_type": "stream",
     "text": [
      "generated an exception: name 'rawFileNames' is not defined\n",
      "generated an exception: name 'rawFileNames' is not defined\n",
      "generated an exception: name 'rawFileNames' is not defined\n",
      "generated an exception: name 'rawFileNames' is not defined\n",
      "generated an exception: name 'rawFileNames' is not defined\n",
      "generated an exception: name 'rawFileNames' is not defined\n",
      "generated an exception: name 'rawFileNames' is not defined\n",
      "generated an exception: name 'rawFileNames' is not defined\n",
      "generated an exception: name 'rawFileNames' is not defined\n",
      "generated an exception: name 'rawFileNames' is not defined\n",
      "generated an exception: name 'rawFileNames' is not defined\n",
      "generated an exception: name 'rawFileNames' is not defined\n",
      "generated an exception: name 'rawFileNames' is not defined\n",
      "generated an exception: name 'rawFileNames' is not defined\n",
      "generated an exception: name 'rawFileNames' is not defined\n"
     ]
    },
    {
     "name": "stderr",
     "output_type": "stream",
     "text": [
      " 58%|██████████████████████████████████▎                        | 1872/3217 [02:27<01:44, 12.89it/s]"
     ]
    },
    {
     "name": "stdout",
     "output_type": "stream",
     "text": [
      "generated an exception: name 'rawFileNames' is not defined\n",
      "generated an exception: name 'rawFileNames' is not defined\n",
      "generated an exception: name 'rawFileNames' is not defined\n",
      "generated an exception: name 'rawFileNames' is not defined\n",
      "generated an exception: name 'rawFileNames' is not defined\n",
      "generated an exception: name 'rawFileNames' is not defined\n",
      "generated an exception: name 'rawFileNames' is not defined\n",
      "generated an exception: name 'rawFileNames' is not defined\n",
      "generated an exception: name 'rawFileNames' is not defined\n",
      "generated an exception: name 'rawFileNames' is not defined\n",
      "generated an exception: name 'rawFileNames' is not defined\n",
      "generated an exception: name 'rawFileNames' is not defined\n",
      "generated an exception: name 'rawFileNames' is not defined\n",
      "generated an exception: name 'rawFileNames' is not defined\n",
      "generated an exception: name 'rawFileNames' is not defined\n",
      "generated an exception: name 'rawFileNames' is not defined\n",
      "generated an exception: name 'rawFileNames' is not defined"
     ]
    },
    {
     "name": "stderr",
     "output_type": "stream",
     "text": [
      " 59%|██████████████████████████████████▋                        | 1888/3217 [02:28<01:43, 12.87it/s]"
     ]
    },
    {
     "name": "stdout",
     "output_type": "stream",
     "text": [
      "\n",
      "generated an exception: name 'rawFileNames' is not defined\n",
      "generated an exception: name 'rawFileNames' is not defined\n",
      "generated an exception: name 'rawFileNames' is not defined\n",
      "generated an exception: name 'rawFileNames' is not defined\n",
      "generated an exception: name 'rawFileNames' is not defined\n",
      "generated an exception: name 'rawFileNames' is not defined\n",
      "generated an exception: name 'rawFileNames' is not defined\n",
      "generated an exception: name 'rawFileNames' is not defined\n",
      "generated an exception: name 'rawFileNames' is not defined\n",
      "generated an exception: name 'rawFileNames' is not defined\n",
      "generated an exception: name 'rawFileNames' is not defined\n",
      "generated an exception: name 'rawFileNames' is not defined\n",
      "generated an exception: name 'rawFileNames' is not defined\n",
      "generated an exception: name 'rawFileNames' is not defined\n",
      "generated an exception: name 'rawFileNames' is not defined\n",
      "generated an exception: name 'rawFileNames' is not defined\n",
      "generated an exception: name 'rawFileNames' is not defined"
     ]
    },
    {
     "name": "stderr",
     "output_type": "stream",
     "text": [
      " 59%|██████████████████████████████████▉                        | 1904/3217 [02:29<01:42, 12.85it/s]"
     ]
    },
    {
     "name": "stdout",
     "output_type": "stream",
     "text": [
      "\n",
      "generated an exception: name 'rawFileNames' is not defined\n",
      "generated an exception: name 'rawFileNames' is not defined\n",
      "generated an exception: name 'rawFileNames' is not defined\n",
      "generated an exception: name 'rawFileNames' is not defined\n",
      "generated an exception: name 'rawFileNames' is not defined\n",
      "generated an exception: name 'rawFileNames' is not defined\n",
      "generated an exception: name 'rawFileNames' is not defined\n",
      "generated an exception: name 'rawFileNames' is not defined\n",
      "generated an exception: name 'rawFileNames' is not defined\n",
      "generated an exception: name 'rawFileNames' is not defined\n",
      "generated an exception: name 'rawFileNames' is not defined\n",
      "generated an exception: name 'rawFileNames' is not defined\n",
      "generated an exception: name 'rawFileNames' is not defined\n",
      "generated an exception: name 'rawFileNames' is not defined\n"
     ]
    },
    {
     "name": "stderr",
     "output_type": "stream",
     "text": [
      " 60%|███████████████████████████████████▏                       | 1920/3217 [02:30<01:41, 12.75it/s]"
     ]
    },
    {
     "name": "stdout",
     "output_type": "stream",
     "text": [
      "generated an exception: name 'rawFileNames' is not defined\n",
      "generated an exception: name 'rawFileNames' is not defined\n",
      "generated an exception: name 'rawFileNames' is not defined\n",
      "generated an exception: name 'rawFileNames' is not defined\n",
      "generated an exception: name 'rawFileNames' is not defined\n",
      "generated an exception: name 'rawFileNames' is not defined\n",
      "generated an exception: name 'rawFileNames' is not defined\n",
      "generated an exception: name 'rawFileNames' is not defined\n",
      "generated an exception: name 'rawFileNames' is not defined\n",
      "generated an exception: name 'rawFileNames' is not defined\n",
      "generated an exception: name 'rawFileNames' is not defined\n",
      "generated an exception: name 'rawFileNames' is not defined\n",
      "generated an exception: name 'rawFileNames' is not defined\n",
      "generated an exception: name 'rawFileNames' is not defined\n",
      "generated an exception: name 'rawFileNames' is not defined\n",
      "generated an exception: name 'rawFileNames' is not defined\n"
     ]
    },
    {
     "name": "stderr",
     "output_type": "stream",
     "text": [
      " 60%|███████████████████████████████████▌                       | 1936/3217 [02:34<02:46,  7.71it/s]"
     ]
    },
    {
     "name": "stdout",
     "output_type": "stream",
     "text": [
      "generated an exception: name 'rawFileNames' is not defined\n",
      "generated an exception: name 'rawFileNames' is not defined\n",
      "generated an exception: name 'rawFileNames' is not defined\n",
      "generated an exception: name 'rawFileNames' is not defined\n",
      "generated an exception: name 'rawFileNames' is not defined\n",
      "generated an exception: name 'rawFileNames' is not defined\n",
      "generated an exception: name 'rawFileNames' is not defined\n",
      "generated an exception: name 'rawFileNames' is not defined\n",
      "generated an exception: name 'rawFileNames' is not defined\n",
      "generated an exception: name 'rawFileNames' is not defined\n",
      "generated an exception: name 'rawFileNames' is not defined\n",
      "generated an exception: name 'rawFileNames' is not defined\n",
      "generated an exception: name 'rawFileNames' is not defined\n",
      "generated an exception: name 'rawFileNames' is not defined\n",
      "generated an exception: name 'rawFileNames' is not defined\n",
      "generated an exception: name 'rawFileNames' is not defined\n",
      "generated an exception: name 'rawFileNames' is not defined"
     ]
    },
    {
     "name": "stderr",
     "output_type": "stream",
     "text": [
      " 61%|███████████████████████████████████▊                       | 1952/3217 [02:36<02:24,  8.74it/s]"
     ]
    },
    {
     "name": "stdout",
     "output_type": "stream",
     "text": [
      "\n",
      "generated an exception: name 'rawFileNames' is not defined\n",
      "generated an exception: name 'rawFileNames' is not defined\n",
      "generated an exception: name 'rawFileNames' is not defined\n",
      "generated an exception: name 'rawFileNames' is not defined\n",
      "generated an exception: name 'rawFileNames' is not defined\n",
      "generated an exception: name 'rawFileNames' is not defined\n",
      "generated an exception: name 'rawFileNames' is not defined\n",
      "generated an exception: name 'rawFileNames' is not defined\n",
      "generated an exception: name 'rawFileNames' is not defined\n",
      "generated an exception: name 'rawFileNames' is not defined\n",
      "generated an exception: name 'rawFileNames' is not defined\n",
      "generated an exception: name 'rawFileNames' is not defined\n",
      "generated an exception: name 'rawFileNames' is not defined\n",
      "generated an exception: name 'rawFileNames' is not defined\n",
      "generated an exception: name 'rawFileNames' is not defined\n",
      "generated an exception: name 'rawFileNames' is not defined\n",
      "generated an exception: name 'rawFileNames' is not defined"
     ]
    },
    {
     "name": "stderr",
     "output_type": "stream",
     "text": [
      " 61%|████████████████████████████████████                       | 1968/3217 [02:37<02:08,  9.75it/s]"
     ]
    },
    {
     "name": "stdout",
     "output_type": "stream",
     "text": [
      "\n",
      "generated an exception: name 'rawFileNames' is not defined\n",
      "generated an exception: name 'rawFileNames' is not defined\n",
      "generated an exception: name 'rawFileNames' is not defined\n",
      "generated an exception: name 'rawFileNames' is not defined\n",
      "generated an exception: name 'rawFileNames' is not defined\n",
      "generated an exception: name 'rawFileNames' is not defined\n",
      "generated an exception: name 'rawFileNames' is not defined\n",
      "generated an exception: name 'rawFileNames' is not defined\n",
      "generated an exception: name 'rawFileNames' is not defined\n",
      "generated an exception: name 'rawFileNames' is not defined\n",
      "generated an exception: name 'rawFileNames' is not defined\n",
      "generated an exception: name 'rawFileNames' is not defined\n",
      "generated an exception: name 'rawFileNames' is not defined\n",
      "generated an exception: name 'rawFileNames' is not defined\n"
     ]
    },
    {
     "name": "stderr",
     "output_type": "stream",
     "text": [
      " 62%|████████████████████████████████████▍                      | 1984/3217 [02:38<01:57, 10.46it/s]"
     ]
    },
    {
     "name": "stdout",
     "output_type": "stream",
     "text": [
      "generated an exception: name 'rawFileNames' is not defined\n",
      "generated an exception: name 'rawFileNames' is not defined\n",
      "generated an exception: name 'rawFileNames' is not defined\n",
      "generated an exception: name 'rawFileNames' is not defined\n",
      "generated an exception: name 'rawFileNames' is not defined\n",
      "generated an exception: name 'rawFileNames' is not defined\n",
      "generated an exception: name 'rawFileNames' is not defined\n",
      "generated an exception: name 'rawFileNames' is not defined\n",
      "generated an exception: name 'rawFileNames' is not defined\n",
      "generated an exception: name 'rawFileNames' is not defined\n",
      "generated an exception: name 'rawFileNames' is not defined\n",
      "generated an exception: name 'rawFileNames' is not defined\n",
      "generated an exception: name 'rawFileNames' is not defined\n",
      "generated an exception: name 'rawFileNames' is not defined\n",
      "generated an exception: name 'rawFileNames' is not defined\n",
      "generated an exception: name 'rawFileNames' is not defined\n"
     ]
    },
    {
     "name": "stderr",
     "output_type": "stream",
     "text": [
      " 62%|████████████████████████████████████▋                      | 2000/3217 [02:39<01:49, 11.14it/s]"
     ]
    },
    {
     "name": "stdout",
     "output_type": "stream",
     "text": [
      "generated an exception: name 'rawFileNames' is not defined\n",
      "generated an exception: name 'rawFileNames' is not defined\n",
      "generated an exception: name 'rawFileNames' is not defined\n",
      "generated an exception: name 'rawFileNames' is not defined\n",
      "generated an exception: name 'rawFileNames' is not defined\n",
      "generated an exception: name 'rawFileNames' is not defined\n",
      "generated an exception: name 'rawFileNames' is not defined\n",
      "generated an exception: name 'rawFileNames' is not defined\n",
      "generated an exception: name 'rawFileNames' is not defined\n",
      "generated an exception: name 'rawFileNames' is not defined\n",
      "generated an exception: name 'rawFileNames' is not defined\n",
      "generated an exception: name 'rawFileNames' is not defined\n",
      "generated an exception: name 'rawFileNames' is not defined\n",
      "generated an exception: name 'rawFileNames' is not defined\n",
      "generated an exception: name 'rawFileNames' is not defined\n",
      "generated an exception: name 'rawFileNames' is not defined\n"
     ]
    },
    {
     "name": "stderr",
     "output_type": "stream",
     "text": [
      " 63%|████████████████████████████████████▉                      | 2016/3217 [02:41<01:42, 11.70it/s]"
     ]
    },
    {
     "name": "stdout",
     "output_type": "stream",
     "text": [
      "generated an exception: name 'rawFileNames' is not defined\n",
      "generated an exception: name 'rawFileNames' is not defined\n",
      "generated an exception: name 'rawFileNames' is not defined\n",
      "generated an exception: name 'rawFileNames' is not defined\n",
      "generated an exception: name 'rawFileNames' is not defined\n",
      "generated an exception: name 'rawFileNames' is not defined\n",
      "generated an exception: name 'rawFileNames' is not defined\n",
      "generated an exception: name 'rawFileNames' is not defined\n",
      "generated an exception: name 'rawFileNames' is not defined\n",
      "generated an exception: name 'rawFileNames' is not defined\n",
      "generated an exception: name 'rawFileNames' is not defined\n",
      "generated an exception: name 'rawFileNames' is not defined\n",
      "generated an exception: name 'rawFileNames' is not defined\n",
      "generated an exception: name 'rawFileNames' is not defined\n",
      "generated an exception: name 'rawFileNames' is not defined\n",
      "generated an exception: name 'rawFileNames' is not defined\n"
     ]
    },
    {
     "name": "stderr",
     "output_type": "stream",
     "text": [
      " 63%|█████████████████████████████████████▎                     | 2032/3217 [02:42<01:37, 12.13it/s]"
     ]
    },
    {
     "name": "stdout",
     "output_type": "stream",
     "text": [
      "generated an exception: name 'rawFileNames' is not defined\n",
      "generated an exception: name 'rawFileNames' is not defined\n",
      "generated an exception: name 'rawFileNames' is not defined\n",
      "generated an exception: name 'rawFileNames' is not defined\n",
      "generated an exception: name 'rawFileNames' is not defined\n",
      "generated an exception: name 'rawFileNames' is not defined\n",
      "generated an exception: name 'rawFileNames' is not defined\n",
      "generated an exception: name 'rawFileNames' is not defined\n",
      "generated an exception: name 'rawFileNames' is not defined\n",
      "generated an exception: name 'rawFileNames' is not defined\n",
      "generated an exception: name 'rawFileNames' is not defined\n",
      "generated an exception: name 'rawFileNames' is not defined\n",
      "generated an exception: name 'rawFileNames' is not defined\n",
      "generated an exception: name 'rawFileNames' is not defined\n",
      "generated an exception: name 'rawFileNames' is not defined\n",
      "generated an exception: name 'rawFileNames' is not defined\n"
     ]
    },
    {
     "name": "stderr",
     "output_type": "stream",
     "text": [
      " 64%|█████████████████████████████████████▌                     | 2048/3217 [02:43<01:34, 12.35it/s]"
     ]
    },
    {
     "name": "stdout",
     "output_type": "stream",
     "text": [
      "generated an exception: name 'rawFileNames' is not defined\n",
      "generated an exception: name 'rawFileNames' is not defined\n",
      "generated an exception: name 'rawFileNames' is not defined\n",
      "generated an exception: name 'rawFileNames' is not defined\n",
      "generated an exception: name 'rawFileNames' is not defined\n",
      "generated an exception: name 'rawFileNames' is not defined\n",
      "generated an exception: name 'rawFileNames' is not defined\n",
      "generated an exception: name 'rawFileNames' is not defined\n",
      "generated an exception: name 'rawFileNames' is not defined\n",
      "generated an exception: name 'rawFileNames' is not defined\n",
      "generated an exception: name 'rawFileNames' is not defined\n",
      "generated an exception: name 'rawFileNames' is not defined\n",
      "generated an exception: name 'rawFileNames' is not defined\n",
      "generated an exception: name 'rawFileNames' is not defined\n",
      "generated an exception: name 'rawFileNames' is not defined\n",
      "generated an exception: name 'rawFileNames' is not defined\n",
      "generated an exception: name 'rawFileNames' is not defined\n",
      "generated an exception: name 'rawFileNames' is not defined"
     ]
    },
    {
     "name": "stderr",
     "output_type": "stream",
     "text": [
      " 64%|█████████████████████████████████████▊                     | 2064/3217 [02:44<01:31, 12.63it/s]"
     ]
    },
    {
     "name": "stdout",
     "output_type": "stream",
     "text": [
      "\n",
      "generated an exception: name 'rawFileNames' is not defined\n",
      "generated an exception: name 'rawFileNames' is not defined\n",
      "generated an exception: name 'rawFileNames' is not defined\n",
      "generated an exception: name 'rawFileNames' is not defined\n",
      "generated an exception: name 'rawFileNames' is not defined\n",
      "generated an exception: name 'rawFileNames' is not defined\n",
      "generated an exception: name 'rawFileNames' is not defined\n",
      "generated an exception: name 'rawFileNames' is not defined\n",
      "generated an exception: name 'rawFileNames' is not defined\n",
      "generated an exception: name 'rawFileNames' is not defined\n",
      "generated an exception: name 'rawFileNames' is not defined\n",
      "generated an exception: name 'rawFileNames' is not defined\n",
      "generated an exception: name 'rawFileNames' is not defined\n",
      "generated an exception: name 'rawFileNames' is not defined\n",
      "generated an exception: name 'rawFileNames' is not defined\n",
      "generated an exception: name 'rawFileNames' is not defined\n",
      "generated an exception: name 'rawFileNames' is not defined\n",
      "generated an exception: name 'rawFileNames' is not defined"
     ]
    },
    {
     "name": "stderr",
     "output_type": "stream",
     "text": [
      " 65%|██████████████████████████████████████▏                    | 2080/3217 [02:45<01:28, 12.87it/s]"
     ]
    },
    {
     "name": "stdout",
     "output_type": "stream",
     "text": [
      "\n",
      "generated an exception: name 'rawFileNames' is not defined\n",
      "generated an exception: name 'rawFileNames' is not defined\n",
      "generated an exception: name 'rawFileNames' is not defined\n",
      "generated an exception: name 'rawFileNames' is not defined\n",
      "generated an exception: name 'rawFileNames' is not defined\n",
      "generated an exception: name 'rawFileNames' is not defined\n",
      "generated an exception: name 'rawFileNames' is not defined\n",
      "generated an exception: name 'rawFileNames' is not defined\n",
      "generated an exception: name 'rawFileNames' is not defined\n",
      "generated an exception: name 'rawFileNames' is not defined\n",
      "generated an exception: name 'rawFileNames' is not defined\n",
      "generated an exception: name 'rawFileNames' is not defined\n",
      "generated an exception: name 'rawFileNames' is not defined\n",
      "generated an exception: name 'rawFileNames' is not defined"
     ]
    },
    {
     "name": "stderr",
     "output_type": "stream",
     "text": [
      " 65%|██████████████████████████████████████▍                    | 2096/3217 [02:47<01:26, 12.97it/s]"
     ]
    },
    {
     "name": "stdout",
     "output_type": "stream",
     "text": [
      "\n",
      "generated an exception: name 'rawFileNames' is not defined\n",
      "generated an exception: name 'rawFileNames' is not defined\n",
      "generated an exception: name 'rawFileNames' is not defined\n",
      "generated an exception: name 'rawFileNames' is not defined\n",
      "generated an exception: name 'rawFileNames' is not defined\n",
      "generated an exception: name 'rawFileNames' is not defined\n",
      "generated an exception: name 'rawFileNames' is not defined\n",
      "generated an exception: name 'rawFileNames' is not defined\n",
      "generated an exception: name 'rawFileNames' is not defined\n",
      "generated an exception: name 'rawFileNames' is not defined\n",
      "generated an exception: name 'rawFileNames' is not defined\n",
      "generated an exception: name 'rawFileNames' is not defined\n",
      "generated an exception: name 'rawFileNames' is not defined\n",
      "generated an exception: name 'rawFileNames' is not defined\n"
     ]
    },
    {
     "name": "stderr",
     "output_type": "stream",
     "text": [
      " 66%|██████████████████████████████████████▋                    | 2112/3217 [02:48<01:25, 12.97it/s]"
     ]
    },
    {
     "name": "stdout",
     "output_type": "stream",
     "text": [
      "generated an exception: name 'rawFileNames' is not defined\n",
      "generated an exception: name 'rawFileNames' is not defined\n",
      "generated an exception: name 'rawFileNames' is not defined\n",
      "generated an exception: name 'rawFileNames' is not defined\n",
      "generated an exception: name 'rawFileNames' is not defined\n",
      "generated an exception: name 'rawFileNames' is not defined\n",
      "generated an exception: name 'rawFileNames' is not defined\n",
      "generated an exception: name 'rawFileNames' is not defined\n",
      "generated an exception: name 'rawFileNames' is not defined\n",
      "generated an exception: name 'rawFileNames' is not defined\n",
      "generated an exception: name 'rawFileNames' is not defined\n",
      "generated an exception: name 'rawFileNames' is not defined\n",
      "generated an exception: name 'rawFileNames' is not defined\n",
      "generated an exception: name 'rawFileNames' is not defined\n",
      "generated an exception: name 'rawFileNames' is not defined\n",
      "generated an exception: name 'rawFileNames' is not defined\n",
      "generated an exception: name 'rawFileNames' is not defined\n",
      "generated an exception: name 'rawFileNames' is not defined\n"
     ]
    },
    {
     "name": "stderr",
     "output_type": "stream",
     "text": [
      " 66%|███████████████████████████████████████                    | 2128/3217 [02:49<01:23, 13.00it/s]"
     ]
    },
    {
     "name": "stdout",
     "output_type": "stream",
     "text": [
      "generated an exception: name 'rawFileNames' is not defined\n",
      "generated an exception: name 'rawFileNames' is not defined\n",
      "generated an exception: name 'rawFileNames' is not defined\n",
      "generated an exception: name 'rawFileNames' is not defined\n",
      "generated an exception: name 'rawFileNames' is not defined\n",
      "generated an exception: name 'rawFileNames' is not defined\n",
      "generated an exception: name 'rawFileNames' is not defined\n",
      "generated an exception: name 'rawFileNames' is not defined\n",
      "generated an exception: name 'rawFileNames' is not defined\n",
      "generated an exception: name 'rawFileNames' is not defined\n",
      "generated an exception: name 'rawFileNames' is not defined\n",
      "generated an exception: name 'rawFileNames' is not defined\n",
      "generated an exception: name 'rawFileNames' is not defined\n",
      "generated an exception: name 'rawFileNames' is not defined\n",
      "generated an exception: name 'rawFileNames' is not defined"
     ]
    },
    {
     "name": "stderr",
     "output_type": "stream",
     "text": [
      " 67%|███████████████████████████████████████▎                   | 2144/3217 [02:50<01:22, 12.96it/s]"
     ]
    },
    {
     "name": "stdout",
     "output_type": "stream",
     "text": [
      "\n",
      "generated an exception: name 'rawFileNames' is not defined\n",
      "generated an exception: name 'rawFileNames' is not defined\n",
      "generated an exception: name 'rawFileNames' is not defined\n",
      "generated an exception: name 'rawFileNames' is not defined\n",
      "generated an exception: name 'rawFileNames' is not defined\n",
      "generated an exception: name 'rawFileNames' is not defined\n",
      "generated an exception: name 'rawFileNames' is not defined\n",
      "generated an exception: name 'rawFileNames' is not defined\n",
      "generated an exception: name 'rawFileNames' is not defined\n",
      "generated an exception: name 'rawFileNames' is not defined\n",
      "generated an exception: name 'rawFileNames' is not defined\n",
      "generated an exception: name 'rawFileNames' is not defined\n",
      "generated an exception: name 'rawFileNames' is not defined\n",
      "generated an exception: name 'rawFileNames' is not defined\n",
      "generated an exception: name 'rawFileNames' is not defined\n"
     ]
    },
    {
     "name": "stderr",
     "output_type": "stream",
     "text": [
      " 67%|███████████████████████████████████████▌                   | 2160/3217 [02:51<01:20, 13.06it/s]"
     ]
    },
    {
     "name": "stdout",
     "output_type": "stream",
     "text": [
      "generated an exception: name 'rawFileNames' is not defined\n",
      "generated an exception: name 'rawFileNames' is not defined\n",
      "generated an exception: name 'rawFileNames' is not defined\n",
      "generated an exception: name 'rawFileNames' is not defined\n",
      "generated an exception: name 'rawFileNames' is not defined\n",
      "generated an exception: name 'rawFileNames' is not defined\n",
      "generated an exception: name 'rawFileNames' is not defined\n",
      "generated an exception: name 'rawFileNames' is not defined\n",
      "generated an exception: name 'rawFileNames' is not defined\n",
      "generated an exception: name 'rawFileNames' is not defined\n",
      "generated an exception: name 'rawFileNames' is not defined\n",
      "generated an exception: name 'rawFileNames' is not defined\n",
      "generated an exception: name 'rawFileNames' is not defined\n",
      "generated an exception: name 'rawFileNames' is not defined\n",
      "generated an exception: name 'rawFileNames' is not defined\n",
      "generated an exception: name 'rawFileNames' is not defined\n"
     ]
    },
    {
     "name": "stderr",
     "output_type": "stream",
     "text": [
      " 68%|███████████████████████████████████████▉                   | 2176/3217 [02:53<01:19, 13.05it/s]"
     ]
    },
    {
     "name": "stdout",
     "output_type": "stream",
     "text": [
      "generated an exception: name 'rawFileNames' is not defined\n",
      "generated an exception: name 'rawFileNames' is not defined\n",
      "generated an exception: name 'rawFileNames' is not defined\n",
      "generated an exception: name 'rawFileNames' is not defined\n",
      "generated an exception: name 'rawFileNames' is not defined\n",
      "generated an exception: name 'rawFileNames' is not defined\n",
      "generated an exception: name 'rawFileNames' is not defined\n",
      "generated an exception: name 'rawFileNames' is not defined\n",
      "generated an exception: name 'rawFileNames' is not defined\n",
      "generated an exception: name 'rawFileNames' is not defined\n",
      "generated an exception: name 'rawFileNames' is not defined\n",
      "generated an exception: name 'rawFileNames' is not defined\n",
      "generated an exception: name 'rawFileNames' is not defined\n",
      "generated an exception: name 'rawFileNames' is not defined\n",
      "generated an exception: name 'rawFileNames' is not defined\n",
      "generated an exception: name 'rawFileNames' is not defined\n",
      "generated an exception: name 'rawFileNames' is not defined\n"
     ]
    },
    {
     "name": "stderr",
     "output_type": "stream",
     "text": [
      " 68%|████████████████████████████████████████▏                  | 2192/3217 [02:54<01:18, 12.98it/s]"
     ]
    },
    {
     "name": "stdout",
     "output_type": "stream",
     "text": [
      "generated an exception: name 'rawFileNames' is not defined\n",
      "generated an exception: name 'rawFileNames' is not defined\n",
      "generated an exception: name 'rawFileNames' is not defined\n",
      "generated an exception: name 'rawFileNames' is not defined\n",
      "generated an exception: name 'rawFileNames' is not defined\n",
      "generated an exception: name 'rawFileNames' is not defined\n",
      "generated an exception: name 'rawFileNames' is not defined\n",
      "generated an exception: name 'rawFileNames' is not defined\n",
      "generated an exception: name 'rawFileNames' is not defined\n",
      "generated an exception: name 'rawFileNames' is not defined\n",
      "generated an exception: name 'rawFileNames' is not defined\n",
      "generated an exception: name 'rawFileNames' is not defined\n",
      "generated an exception: name 'rawFileNames' is not defined\n",
      "generated an exception: name 'rawFileNames' is not defined\n",
      "generated an exception: name 'rawFileNames' is not defined\n"
     ]
    },
    {
     "name": "stderr",
     "output_type": "stream",
     "text": [
      " 69%|████████████████████████████████████████▍                  | 2208/3217 [02:55<01:17, 13.04it/s]"
     ]
    },
    {
     "name": "stdout",
     "output_type": "stream",
     "text": [
      "generated an exception: name 'rawFileNames' is not defined\n",
      "generated an exception: name 'rawFileNames' is not defined\n",
      "generated an exception: name 'rawFileNames' is not defined\n",
      "generated an exception: name 'rawFileNames' is not defined\n",
      "generated an exception: name 'rawFileNames' is not defined\n",
      "generated an exception: name 'rawFileNames' is not defined\n",
      "generated an exception: name 'rawFileNames' is not defined\n",
      "generated an exception: name 'rawFileNames' is not defined\n",
      "generated an exception: name 'rawFileNames' is not defined\n",
      "generated an exception: name 'rawFileNames' is not defined\n",
      "generated an exception: name 'rawFileNames' is not defined\n",
      "generated an exception: name 'rawFileNames' is not defined\n",
      "generated an exception: name 'rawFileNames' is not defined\n",
      "generated an exception: name 'rawFileNames' is not defined\n",
      "generated an exception: name 'rawFileNames' is not defined\n",
      "generated an exception: name 'rawFileNames' is not defined\n",
      "generated an exception: name 'rawFileNames' is not defined"
     ]
    },
    {
     "name": "stderr",
     "output_type": "stream",
     "text": [
      " 69%|████████████████████████████████████████▊                  | 2224/3217 [02:56<01:15, 13.12it/s]"
     ]
    },
    {
     "name": "stdout",
     "output_type": "stream",
     "text": [
      "\n",
      "generated an exception: name 'rawFileNames' is not defined\n",
      "generated an exception: name 'rawFileNames' is not defined\n",
      "generated an exception: name 'rawFileNames' is not defined\n",
      "generated an exception: name 'rawFileNames' is not defined\n",
      "generated an exception: name 'rawFileNames' is not defined\n",
      "generated an exception: name 'rawFileNames' is not defined\n",
      "generated an exception: name 'rawFileNames' is not defined\n",
      "generated an exception: name 'rawFileNames' is not defined\n",
      "generated an exception: name 'rawFileNames' is not defined\n",
      "generated an exception: name 'rawFileNames' is not defined\n",
      "generated an exception: name 'rawFileNames' is not defined\n",
      "generated an exception: name 'rawFileNames' is not defined\n",
      "generated an exception: name 'rawFileNames' is not defined\n",
      "generated an exception: name 'rawFileNames' is not defined\n",
      "generated an exception: name 'rawFileNames' is not defined\n"
     ]
    },
    {
     "name": "stderr",
     "output_type": "stream",
     "text": [
      " 70%|█████████████████████████████████████████                  | 2240/3217 [02:58<01:15, 12.94it/s]"
     ]
    },
    {
     "name": "stdout",
     "output_type": "stream",
     "text": [
      "generated an exception: name 'rawFileNames' is not defined\n",
      "generated an exception: name 'rawFileNames' is not defined\n",
      "generated an exception: name 'rawFileNames' is not defined\n",
      "generated an exception: name 'rawFileNames' is not defined\n",
      "generated an exception: name 'rawFileNames' is not defined\n",
      "generated an exception: name 'rawFileNames' is not defined\n",
      "generated an exception: name 'rawFileNames' is not defined\n",
      "generated an exception: name 'rawFileNames' is not defined\n",
      "generated an exception: name 'rawFileNames' is not defined\n",
      "generated an exception: name 'rawFileNames' is not defined\n",
      "generated an exception: name 'rawFileNames' is not defined\n",
      "generated an exception: name 'rawFileNames' is not defined\n",
      "generated an exception: name 'rawFileNames' is not defined\n",
      "generated an exception: name 'rawFileNames' is not defined\n",
      "generated an exception: name 'rawFileNames' is not defined\n",
      "generated an exception: name 'rawFileNames' is not defined\n",
      "generated an exception: name 'rawFileNames' is not defined\n",
      "generated an exception: name 'rawFileNames' is not defined"
     ]
    },
    {
     "name": "stderr",
     "output_type": "stream",
     "text": [
      " 70%|█████████████████████████████████████████▍                 | 2256/3217 [02:59<01:14, 12.98it/s]"
     ]
    },
    {
     "name": "stdout",
     "output_type": "stream",
     "text": [
      "\n",
      "generated an exception: name 'rawFileNames' is not defined\n",
      "generated an exception: name 'rawFileNames' is not defined\n",
      "generated an exception: name 'rawFileNames' is not defined\n",
      "generated an exception: name 'rawFileNames' is not defined\n",
      "generated an exception: name 'rawFileNames' is not defined\n",
      "generated an exception: name 'rawFileNames' is not defined\n",
      "generated an exception: name 'rawFileNames' is not defined\n",
      "generated an exception: name 'rawFileNames' is not defined\n",
      "generated an exception: name 'rawFileNames' is not defined\n",
      "generated an exception: name 'rawFileNames' is not defined\n",
      "generated an exception: name 'rawFileNames' is not defined\n",
      "generated an exception: name 'rawFileNames' is not defined\n",
      "generated an exception: name 'rawFileNames' is not defined\n",
      "generated an exception: name 'rawFileNames' is not defined\n",
      "generated an exception: name 'rawFileNames' is not defined\n",
      "generated an exception: name 'rawFileNames' is not defined"
     ]
    },
    {
     "name": "stderr",
     "output_type": "stream",
     "text": [
      " 71%|█████████████████████████████████████████▋                 | 2272/3217 [03:00<01:13, 12.92it/s]"
     ]
    },
    {
     "name": "stdout",
     "output_type": "stream",
     "text": [
      "\n",
      "generated an exception: name 'rawFileNames' is not defined\n",
      "generated an exception: name 'rawFileNames' is not defined\n",
      "generated an exception: name 'rawFileNames' is not defined\n",
      "generated an exception: name 'rawFileNames' is not defined\n",
      "generated an exception: name 'rawFileNames' is not defined\n",
      "generated an exception: name 'rawFileNames' is not defined\n",
      "generated an exception: name 'rawFileNames' is not defined\n",
      "generated an exception: name 'rawFileNames' is not defined\n",
      "generated an exception: name 'rawFileNames' is not defined\n",
      "generated an exception: name 'rawFileNames' is not defined\n",
      "generated an exception: name 'rawFileNames' is not defined\n",
      "generated an exception: name 'rawFileNames' is not defined\n",
      "generated an exception: name 'rawFileNames' is not defined\n",
      "generated an exception: name 'rawFileNames' is not defined\n"
     ]
    },
    {
     "name": "stderr",
     "output_type": "stream",
     "text": [
      " 71%|█████████████████████████████████████████▉                 | 2288/3217 [03:01<01:11, 12.95it/s]"
     ]
    },
    {
     "name": "stdout",
     "output_type": "stream",
     "text": [
      "generated an exception: name 'rawFileNames' is not defined\n",
      "generated an exception: name 'rawFileNames' is not defined\n",
      "generated an exception: name 'rawFileNames' is not defined\n",
      "generated an exception: name 'rawFileNames' is not defined\n",
      "generated an exception: name 'rawFileNames' is not defined\n",
      "generated an exception: name 'rawFileNames' is not defined\n",
      "generated an exception: name 'rawFileNames' is not defined\n",
      "generated an exception: name 'rawFileNames' is not defined\n",
      "generated an exception: name 'rawFileNames' is not defined\n",
      "generated an exception: name 'rawFileNames' is not defined\n",
      "generated an exception: name 'rawFileNames' is not defined\n",
      "generated an exception: name 'rawFileNames' is not defined\n",
      "generated an exception: name 'rawFileNames' is not defined\n",
      "generated an exception: name 'rawFileNames' is not defined\n",
      "generated an exception: name 'rawFileNames' is not defined\n",
      "generated an exception: name 'rawFileNames' is not defined\n",
      "generated an exception: name 'rawFileNames' is not defined\n",
      "generated an exception: name 'rawFileNames' is not defined\n",
      "generated an exception: name 'rawFileNames' is not defined"
     ]
    },
    {
     "name": "stderr",
     "output_type": "stream",
     "text": [
      " 72%|██████████████████████████████████████████▎                | 2304/3217 [03:03<01:09, 13.09it/s]"
     ]
    },
    {
     "name": "stdout",
     "output_type": "stream",
     "text": [
      "\n",
      "generated an exception: name 'rawFileNames' is not defined\n",
      "generated an exception: name 'rawFileNames' is not defined\n",
      "generated an exception: name 'rawFileNames' is not defined\n",
      "generated an exception: name 'rawFileNames' is not defined\n",
      "generated an exception: name 'rawFileNames' is not defined\n",
      "generated an exception: name 'rawFileNames' is not defined\n",
      "generated an exception: name 'rawFileNames' is not defined\n",
      "generated an exception: name 'rawFileNames' is not defined\n",
      "generated an exception: name 'rawFileNames' is not defined\n",
      "generated an exception: name 'rawFileNames' is not defined\n",
      "generated an exception: name 'rawFileNames' is not defined\n",
      "generated an exception: name 'rawFileNames' is not defined\n",
      "generated an exception: name 'rawFileNames' is not defined\n"
     ]
    },
    {
     "name": "stderr",
     "output_type": "stream",
     "text": [
      " 72%|██████████████████████████████████████████▌                | 2320/3217 [03:04<01:09, 12.89it/s]"
     ]
    },
    {
     "name": "stdout",
     "output_type": "stream",
     "text": [
      "generated an exception: name 'rawFileNames' is not defined\n",
      "generated an exception: name 'rawFileNames' is not defined\n",
      "generated an exception: name 'rawFileNames' is not defined\n",
      "generated an exception: name 'rawFileNames' is not defined\n",
      "generated an exception: name 'rawFileNames' is not defined\n",
      "generated an exception: name 'rawFileNames' is not defined\n",
      "generated an exception: name 'rawFileNames' is not defined\n",
      "generated an exception: name 'rawFileNames' is not defined\n",
      "generated an exception: name 'rawFileNames' is not defined\n",
      "generated an exception: name 'rawFileNames' is not defined\n",
      "generated an exception: name 'rawFileNames' is not defined\n",
      "generated an exception: name 'rawFileNames' is not defined\n",
      "generated an exception: name 'rawFileNames' is not defined\n",
      "generated an exception: name 'rawFileNames' is not defined\n",
      "generated an exception: name 'rawFileNames' is not defined\n",
      "generated an exception: name 'rawFileNames' is not defined\n"
     ]
    },
    {
     "name": "stderr",
     "output_type": "stream",
     "text": [
      " 73%|██████████████████████████████████████████▊                | 2336/3217 [03:05<01:07, 13.07it/s]"
     ]
    },
    {
     "name": "stdout",
     "output_type": "stream",
     "text": [
      "generated an exception: name 'rawFileNames' is not defined\n",
      "generated an exception: name 'rawFileNames' is not defined\n",
      "generated an exception: name 'rawFileNames' is not defined\n",
      "generated an exception: name 'rawFileNames' is not defined\n",
      "generated an exception: name 'rawFileNames' is not defined\n",
      "generated an exception: name 'rawFileNames' is not defined\n",
      "generated an exception: name 'rawFileNames' is not defined\n",
      "generated an exception: name 'rawFileNames' is not defined\n",
      "generated an exception: name 'rawFileNames' is not defined\n",
      "generated an exception: name 'rawFileNames' is not defined\n",
      "generated an exception: name 'rawFileNames' is not defined\n",
      "generated an exception: name 'rawFileNames' is not defined\n",
      "generated an exception: name 'rawFileNames' is not defined\n",
      "generated an exception: name 'rawFileNames' is not defined\n",
      "generated an exception: name 'rawFileNames' is not defined\n",
      "generated an exception: name 'rawFileNames' is not defined\n",
      "generated an exception: name 'rawFileNames' is not defined\n",
      "generated an exception: name 'rawFileNames' is not defined\n",
      "generated an exception: name 'rawFileNames' is not defined"
     ]
    },
    {
     "name": "stderr",
     "output_type": "stream",
     "text": [
      " 73%|███████████████████████████████████████████▏               | 2352/3217 [03:06<01:05, 13.19it/s]"
     ]
    },
    {
     "name": "stdout",
     "output_type": "stream",
     "text": [
      "\n",
      "generated an exception: name 'rawFileNames' is not defined\n",
      "generated an exception: name 'rawFileNames' is not defined\n",
      "generated an exception: name 'rawFileNames' is not defined\n",
      "generated an exception: name 'rawFileNames' is not defined\n",
      "generated an exception: name 'rawFileNames' is not defined\n",
      "generated an exception: name 'rawFileNames' is not defined\n",
      "generated an exception: name 'rawFileNames' is not defined\n",
      "generated an exception: name 'rawFileNames' is not defined\n",
      "generated an exception: name 'rawFileNames' is not defined\n",
      "generated an exception: name 'rawFileNames' is not defined\n",
      "generated an exception: name 'rawFileNames' is not defined\n",
      "generated an exception: name 'rawFileNames' is not defined\n",
      "generated an exception: name 'rawFileNames' is not defined\n",
      "generated an exception: name 'rawFileNames' is not defined\n",
      "generated an exception: name 'rawFileNames' is not defined"
     ]
    },
    {
     "name": "stderr",
     "output_type": "stream",
     "text": [
      " 74%|███████████████████████████████████████████▍               | 2368/3217 [03:07<01:04, 13.18it/s]"
     ]
    },
    {
     "name": "stdout",
     "output_type": "stream",
     "text": [
      "\n",
      "generated an exception: name 'rawFileNames' is not defined\n",
      "generated an exception: name 'rawFileNames' is not defined\n",
      "generated an exception: name 'rawFileNames' is not defined\n",
      "generated an exception: name 'rawFileNames' is not defined\n",
      "generated an exception: name 'rawFileNames' is not defined\n",
      "generated an exception: name 'rawFileNames' is not defined\n",
      "generated an exception: name 'rawFileNames' is not defined\n",
      "generated an exception: name 'rawFileNames' is not defined\n",
      "generated an exception: name 'rawFileNames' is not defined\n",
      "generated an exception: name 'rawFileNames' is not defined\n",
      "generated an exception: name 'rawFileNames' is not defined\n",
      "generated an exception: name 'rawFileNames' is not defined\n",
      "generated an exception: name 'rawFileNames' is not defined\n",
      "generated an exception: name 'rawFileNames' is not defined\n"
     ]
    },
    {
     "name": "stderr",
     "output_type": "stream",
     "text": [
      " 74%|███████████████████████████████████████████▋               | 2384/3217 [03:09<01:04, 12.98it/s]"
     ]
    },
    {
     "name": "stdout",
     "output_type": "stream",
     "text": [
      "generated an exception: name 'rawFileNames' is not defined\n",
      "generated an exception: name 'rawFileNames' is not defined\n",
      "generated an exception: name 'rawFileNames' is not defined\n",
      "generated an exception: name 'rawFileNames' is not defined\n",
      "generated an exception: name 'rawFileNames' is not defined\n",
      "generated an exception: name 'rawFileNames' is not defined\n",
      "generated an exception: name 'rawFileNames' is not defined\n",
      "generated an exception: name 'rawFileNames' is not defined\n",
      "generated an exception: name 'rawFileNames' is not defined\n",
      "generated an exception: name 'rawFileNames' is not defined\n",
      "generated an exception: name 'rawFileNames' is not defined\n",
      "generated an exception: name 'rawFileNames' is not defined\n",
      "generated an exception: name 'rawFileNames' is not defined\n",
      "generated an exception: name 'rawFileNames' is not defined\n",
      "generated an exception: name 'rawFileNames' is not defined\n",
      "generated an exception: name 'rawFileNames' is not defined\n"
     ]
    },
    {
     "name": "stderr",
     "output_type": "stream",
     "text": [
      " 75%|████████████████████████████████████████████               | 2400/3217 [03:10<01:03, 12.90it/s]"
     ]
    },
    {
     "name": "stdout",
     "output_type": "stream",
     "text": [
      "generated an exception: name 'rawFileNames' is not defined\n",
      "generated an exception: name 'rawFileNames' is not defined\n",
      "generated an exception: name 'rawFileNames' is not defined\n",
      "generated an exception: name 'rawFileNames' is not defined\n",
      "generated an exception: name 'rawFileNames' is not defined\n",
      "generated an exception: name 'rawFileNames' is not defined\n",
      "generated an exception: name 'rawFileNames' is not defined\n",
      "generated an exception: name 'rawFileNames' is not defined\n",
      "generated an exception: name 'rawFileNames' is not defined\n",
      "generated an exception: name 'rawFileNames' is not defined\n",
      "generated an exception: name 'rawFileNames' is not defined\n",
      "generated an exception: name 'rawFileNames' is not defined\n",
      "generated an exception: name 'rawFileNames' is not defined\n",
      "generated an exception: name 'rawFileNames' is not defined\n",
      "generated an exception: name 'rawFileNames' is not defined\n",
      "generated an exception: name 'rawFileNames' is not defined\n"
     ]
    },
    {
     "name": "stderr",
     "output_type": "stream",
     "text": [
      " 75%|████████████████████████████████████████████▎              | 2416/3217 [03:11<01:01, 12.99it/s]"
     ]
    },
    {
     "name": "stdout",
     "output_type": "stream",
     "text": [
      "generated an exception: name 'rawFileNames' is not defined\n",
      "generated an exception: name 'rawFileNames' is not defined\n",
      "generated an exception: name 'rawFileNames' is not defined\n",
      "generated an exception: name 'rawFileNames' is not defined\n",
      "generated an exception: name 'rawFileNames' is not defined\n",
      "generated an exception: name 'rawFileNames' is not defined\n",
      "generated an exception: name 'rawFileNames' is not defined\n",
      "generated an exception: name 'rawFileNames' is not defined\n",
      "generated an exception: name 'rawFileNames' is not defined\n",
      "generated an exception: name 'rawFileNames' is not defined\n",
      "generated an exception: name 'rawFileNames' is not defined\n",
      "generated an exception: name 'rawFileNames' is not defined\n",
      "generated an exception: name 'rawFileNames' is not defined\n",
      "generated an exception: name 'rawFileNames' is not defined\n",
      "generated an exception: name 'rawFileNames' is not defined\n",
      "generated an exception: name 'rawFileNames' is not defined\n"
     ]
    },
    {
     "name": "stderr",
     "output_type": "stream",
     "text": [
      " 76%|████████████████████████████████████████████▌              | 2432/3217 [03:12<01:00, 12.97it/s]"
     ]
    },
    {
     "name": "stdout",
     "output_type": "stream",
     "text": [
      "generated an exception: name 'rawFileNames' is not defined\n",
      "generated an exception: name 'rawFileNames' is not defined\n",
      "generated an exception: name 'rawFileNames' is not defined\n",
      "generated an exception: name 'rawFileNames' is not defined\n",
      "generated an exception: name 'rawFileNames' is not defined\n",
      "generated an exception: name 'rawFileNames' is not defined\n",
      "generated an exception: name 'rawFileNames' is not defined\n",
      "generated an exception: name 'rawFileNames' is not defined\n",
      "generated an exception: name 'rawFileNames' is not defined\n",
      "generated an exception: name 'rawFileNames' is not defined\n",
      "generated an exception: name 'rawFileNames' is not defined\n",
      "generated an exception: name 'rawFileNames' is not defined\n",
      "generated an exception: name 'rawFileNames' is not defined\n",
      "generated an exception: name 'rawFileNames' is not defined\n",
      "generated an exception: name 'rawFileNames' is not defined\n",
      "generated an exception: name 'rawFileNames' is not defined\n"
     ]
    },
    {
     "name": "stderr",
     "output_type": "stream",
     "text": [
      " 76%|████████████████████████████████████████████▉              | 2448/3217 [03:14<00:59, 12.83it/s]"
     ]
    },
    {
     "name": "stdout",
     "output_type": "stream",
     "text": [
      "generated an exception: name 'rawFileNames' is not defined\n",
      "generated an exception: name 'rawFileNames' is not defined\n",
      "generated an exception: name 'rawFileNames' is not defined\n",
      "generated an exception: name 'rawFileNames' is not defined\n",
      "generated an exception: name 'rawFileNames' is not defined\n",
      "generated an exception: name 'rawFileNames' is not defined\n",
      "generated an exception: name 'rawFileNames' is not defined\n",
      "generated an exception: name 'rawFileNames' is not defined\n",
      "generated an exception: name 'rawFileNames' is not defined\n",
      "generated an exception: name 'rawFileNames' is not defined\n",
      "generated an exception: name 'rawFileNames' is not defined\n",
      "generated an exception: name 'rawFileNames' is not defined\n",
      "generated an exception: name 'rawFileNames' is not defined\n",
      "generated an exception: name 'rawFileNames' is not defined\n",
      "generated an exception: name 'rawFileNames' is not defined\n",
      "generated an exception: name 'rawFileNames' is not defined\n",
      "generated an exception: name 'rawFileNames' is not defined\n",
      "generated an exception: name 'rawFileNames' is not defined"
     ]
    },
    {
     "name": "stderr",
     "output_type": "stream",
     "text": [
      " 77%|█████████████████████████████████████████████▏             | 2464/3217 [03:15<00:58, 12.94it/s]"
     ]
    },
    {
     "name": "stdout",
     "output_type": "stream",
     "text": [
      "\n",
      "generated an exception: name 'rawFileNames' is not defined\n",
      "generated an exception: name 'rawFileNames' is not defined\n",
      "generated an exception: name 'rawFileNames' is not defined\n",
      "generated an exception: name 'rawFileNames' is not defined\n",
      "generated an exception: name 'rawFileNames' is not defined\n",
      "generated an exception: name 'rawFileNames' is not defined\n",
      "generated an exception: name 'rawFileNames' is not defined\n",
      "generated an exception: name 'rawFileNames' is not defined\n",
      "generated an exception: name 'rawFileNames' is not defined\n",
      "generated an exception: name 'rawFileNames' is not defined\n",
      "generated an exception: name 'rawFileNames' is not defined\n",
      "generated an exception: name 'rawFileNames' is not defined\n",
      "generated an exception: name 'rawFileNames' is not defined\n",
      "generated an exception: name 'rawFileNames' is not defined\n",
      "generated an exception: name 'rawFileNames' is not defined\n"
     ]
    },
    {
     "name": "stderr",
     "output_type": "stream",
     "text": [
      " 77%|█████████████████████████████████████████████▍             | 2480/3217 [03:16<00:57, 12.91it/s]"
     ]
    },
    {
     "name": "stdout",
     "output_type": "stream",
     "text": [
      "generated an exception: name 'rawFileNames' is not defined\n",
      "generated an exception: name 'rawFileNames' is not defined\n",
      "generated an exception: name 'rawFileNames' is not defined\n",
      "generated an exception: name 'rawFileNames' is not defined\n",
      "generated an exception: name 'rawFileNames' is not defined\n",
      "generated an exception: name 'rawFileNames' is not defined\n",
      "generated an exception: name 'rawFileNames' is not defined\n",
      "generated an exception: name 'rawFileNames' is not defined\n",
      "generated an exception: name 'rawFileNames' is not defined\n",
      "generated an exception: name 'rawFileNames' is not defined\n",
      "generated an exception: name 'rawFileNames' is not defined\n",
      "generated an exception: name 'rawFileNames' is not defined\n",
      "generated an exception: name 'rawFileNames' is not defined\n",
      "generated an exception: name 'rawFileNames' is not defined\n",
      "generated an exception: name 'rawFileNames' is not defined\n"
     ]
    },
    {
     "name": "stderr",
     "output_type": "stream",
     "text": [
      " 78%|█████████████████████████████████████████████▊             | 2496/3217 [03:17<00:55, 13.07it/s]"
     ]
    },
    {
     "name": "stdout",
     "output_type": "stream",
     "text": [
      "generated an exception: name 'rawFileNames' is not defined\n",
      "generated an exception: name 'rawFileNames' is not defined\n",
      "generated an exception: name 'rawFileNames' is not defined\n",
      "generated an exception: name 'rawFileNames' is not defined\n",
      "generated an exception: name 'rawFileNames' is not defined\n",
      "generated an exception: name 'rawFileNames' is not defined\n",
      "generated an exception: name 'rawFileNames' is not defined\n",
      "generated an exception: name 'rawFileNames' is not defined\n",
      "generated an exception: name 'rawFileNames' is not defined\n",
      "generated an exception: name 'rawFileNames' is not defined\n",
      "generated an exception: name 'rawFileNames' is not defined\n",
      "generated an exception: name 'rawFileNames' is not defined\n",
      "generated an exception: name 'rawFileNames' is not defined\n",
      "generated an exception: name 'rawFileNames' is not defined\n",
      "generated an exception: name 'rawFileNames' is not defined\n",
      "generated an exception: name 'rawFileNames' is not defined\n",
      "generated an exception: name 'rawFileNames' is not defined\n",
      "generated an exception: name 'rawFileNames' is not defined\n"
     ]
    },
    {
     "name": "stderr",
     "output_type": "stream",
     "text": [
      " 78%|██████████████████████████████████████████████             | 2512/3217 [03:19<00:53, 13.08it/s]"
     ]
    },
    {
     "name": "stdout",
     "output_type": "stream",
     "text": [
      "generated an exception: name 'rawFileNames' is not defined\n",
      "generated an exception: name 'rawFileNames' is not defined\n",
      "generated an exception: name 'rawFileNames' is not defined\n",
      "generated an exception: name 'rawFileNames' is not defined\n",
      "generated an exception: name 'rawFileNames' is not defined\n",
      "generated an exception: name 'rawFileNames' is not defined\n",
      "generated an exception: name 'rawFileNames' is not defined\n",
      "generated an exception: name 'rawFileNames' is not defined\n",
      "generated an exception: name 'rawFileNames' is not defined\n",
      "generated an exception: name 'rawFileNames' is not defined\n",
      "generated an exception: name 'rawFileNames' is not defined\n",
      "generated an exception: name 'rawFileNames' is not defined\n",
      "generated an exception: name 'rawFileNames' is not defined\n",
      "generated an exception: name 'rawFileNames' is not defined\n",
      "generated an exception: name 'rawFileNames' is not defined"
     ]
    },
    {
     "name": "stderr",
     "output_type": "stream",
     "text": [
      " 79%|██████████████████████████████████████████████▎            | 2528/3217 [03:20<00:52, 13.10it/s]"
     ]
    },
    {
     "name": "stdout",
     "output_type": "stream",
     "text": [
      "\n",
      "generated an exception: name 'rawFileNames' is not defined\n",
      "generated an exception: name 'rawFileNames' is not defined\n",
      "generated an exception: name 'rawFileNames' is not defined\n",
      "generated an exception: name 'rawFileNames' is not defined\n",
      "generated an exception: name 'rawFileNames' is not defined\n",
      "generated an exception: name 'rawFileNames' is not defined\n",
      "generated an exception: name 'rawFileNames' is not defined\n",
      "generated an exception: name 'rawFileNames' is not defined\n",
      "generated an exception: name 'rawFileNames' is not defined\n",
      "generated an exception: name 'rawFileNames' is not defined\n",
      "generated an exception: name 'rawFileNames' is not defined\n",
      "generated an exception: name 'rawFileNames' is not defined\n",
      "generated an exception: name 'rawFileNames' is not defined\n",
      "generated an exception: name 'rawFileNames' is not defined\n",
      "generated an exception: name 'rawFileNames' is not defined\n"
     ]
    },
    {
     "name": "stderr",
     "output_type": "stream",
     "text": [
      " 79%|██████████████████████████████████████████████▋            | 2544/3217 [03:21<00:51, 13.04it/s]"
     ]
    },
    {
     "name": "stdout",
     "output_type": "stream",
     "text": [
      "generated an exception: name 'rawFileNames' is not defined\n",
      "generated an exception: name 'rawFileNames' is not defined\n",
      "generated an exception: name 'rawFileNames' is not defined\n",
      "generated an exception: name 'rawFileNames' is not defined\n",
      "generated an exception: name 'rawFileNames' is not defined\n",
      "generated an exception: name 'rawFileNames' is not defined\n",
      "generated an exception: name 'rawFileNames' is not defined\n",
      "generated an exception: name 'rawFileNames' is not defined\n",
      "generated an exception: name 'rawFileNames' is not defined\n",
      "generated an exception: name 'rawFileNames' is not defined\n",
      "generated an exception: name 'rawFileNames' is not defined\n",
      "generated an exception: name 'rawFileNames' is not defined\n",
      "generated an exception: name 'rawFileNames' is not defined\n",
      "generated an exception: name 'rawFileNames' is not defined\n",
      "generated an exception: name 'rawFileNames' is not defined\n",
      "generated an exception: name 'rawFileNames' is not defined\n"
     ]
    },
    {
     "name": "stderr",
     "output_type": "stream",
     "text": [
      " 80%|██████████████████████████████████████████████▉            | 2560/3217 [03:22<00:50, 13.05it/s]"
     ]
    },
    {
     "name": "stdout",
     "output_type": "stream",
     "text": [
      "generated an exception: name 'rawFileNames' is not defined\n",
      "generated an exception: name 'rawFileNames' is not defined\n",
      "generated an exception: name 'rawFileNames' is not defined\n",
      "generated an exception: name 'rawFileNames' is not defined\n",
      "generated an exception: name 'rawFileNames' is not defined\n",
      "generated an exception: name 'rawFileNames' is not defined\n",
      "generated an exception: name 'rawFileNames' is not defined\n",
      "generated an exception: name 'rawFileNames' is not defined\n",
      "generated an exception: name 'rawFileNames' is not defined\n",
      "generated an exception: name 'rawFileNames' is not defined\n",
      "generated an exception: name 'rawFileNames' is not defined\n",
      "generated an exception: name 'rawFileNames' is not defined\n",
      "generated an exception: name 'rawFileNames' is not defined\n",
      "generated an exception: name 'rawFileNames' is not defined\n",
      "generated an exception: name 'rawFileNames' is not defined\n",
      "generated an exception: name 'rawFileNames' is not defined\n",
      "generated an exception: name 'rawFileNames' is not defined"
     ]
    },
    {
     "name": "stderr",
     "output_type": "stream",
     "text": [
      " 80%|███████████████████████████████████████████████▏           | 2576/3217 [03:23<00:49, 12.96it/s]"
     ]
    },
    {
     "name": "stdout",
     "output_type": "stream",
     "text": [
      "\n",
      "generated an exception: name 'rawFileNames' is not defined\n",
      "generated an exception: name 'rawFileNames' is not defined\n",
      "generated an exception: name 'rawFileNames' is not defined\n",
      "generated an exception: name 'rawFileNames' is not defined\n",
      "generated an exception: name 'rawFileNames' is not defined\n",
      "generated an exception: name 'rawFileNames' is not defined\n",
      "generated an exception: name 'rawFileNames' is not defined\n",
      "generated an exception: name 'rawFileNames' is not defined\n",
      "generated an exception: name 'rawFileNames' is not defined\n",
      "generated an exception: name 'rawFileNames' is not defined\n",
      "generated an exception: name 'rawFileNames' is not defined\n",
      "generated an exception: name 'rawFileNames' is not defined\n",
      "generated an exception: name 'rawFileNames' is not defined\n",
      "generated an exception: name 'rawFileNames' is not defined\n",
      "generated an exception: name 'rawFileNames' is not defined\n",
      "generated an exception: name 'rawFileNames' is not defined\n",
      "generated an exception: name 'rawFileNames' is not defined"
     ]
    },
    {
     "name": "stderr",
     "output_type": "stream",
     "text": [
      " 81%|███████████████████████████████████████████████▌           | 2592/3217 [03:25<00:48, 12.84it/s]"
     ]
    },
    {
     "name": "stdout",
     "output_type": "stream",
     "text": [
      "\n",
      "generated an exception: name 'rawFileNames' is not defined\n",
      "generated an exception: name 'rawFileNames' is not defined\n",
      "generated an exception: name 'rawFileNames' is not defined\n",
      "generated an exception: name 'rawFileNames' is not defined\n",
      "generated an exception: name 'rawFileNames' is not defined\n",
      "generated an exception: name 'rawFileNames' is not defined\n",
      "generated an exception: name 'rawFileNames' is not defined\n",
      "generated an exception: name 'rawFileNames' is not defined\n",
      "generated an exception: name 'rawFileNames' is not defined\n",
      "generated an exception: name 'rawFileNames' is not defined\n",
      "generated an exception: name 'rawFileNames' is not defined\n",
      "generated an exception: name 'rawFileNames' is not defined\n",
      "generated an exception: name 'rawFileNames' is not defined\n",
      "generated an exception: name 'rawFileNames' is not defined\n"
     ]
    },
    {
     "name": "stderr",
     "output_type": "stream",
     "text": [
      " 81%|███████████████████████████████████████████████▊           | 2608/3217 [03:26<00:47, 12.87it/s]"
     ]
    },
    {
     "name": "stdout",
     "output_type": "stream",
     "text": [
      "generated an exception: name 'rawFileNames' is not defined\n",
      "generated an exception: name 'rawFileNames' is not defined\n",
      "generated an exception: name 'rawFileNames' is not defined\n",
      "generated an exception: name 'rawFileNames' is not defined\n",
      "generated an exception: name 'rawFileNames' is not defined\n",
      "generated an exception: name 'rawFileNames' is not defined\n",
      "generated an exception: name 'rawFileNames' is not defined\n",
      "generated an exception: name 'rawFileNames' is not defined\n",
      "generated an exception: name 'rawFileNames' is not defined\n",
      "generated an exception: name 'rawFileNames' is not defined\n",
      "generated an exception: name 'rawFileNames' is not defined\n",
      "generated an exception: name 'rawFileNames' is not defined\n",
      "generated an exception: name 'rawFileNames' is not defined\n",
      "generated an exception: name 'rawFileNames' is not defined\n",
      "generated an exception: name 'rawFileNames' is not defined\n",
      "generated an exception: name 'rawFileNames' is not defined\n",
      "generated an exception: name 'rawFileNames' is not defined\n"
     ]
    },
    {
     "name": "stderr",
     "output_type": "stream",
     "text": [
      " 82%|████████████████████████████████████████████████           | 2624/3217 [03:27<00:45, 12.91it/s]"
     ]
    },
    {
     "name": "stdout",
     "output_type": "stream",
     "text": [
      "generated an exception: name 'rawFileNames' is not defined\n",
      "generated an exception: name 'rawFileNames' is not defined\n",
      "generated an exception: name 'rawFileNames' is not defined\n",
      "generated an exception: name 'rawFileNames' is not defined\n",
      "generated an exception: name 'rawFileNames' is not defined\n",
      "generated an exception: name 'rawFileNames' is not defined\n",
      "generated an exception: name 'rawFileNames' is not defined\n",
      "generated an exception: name 'rawFileNames' is not defined\n",
      "generated an exception: name 'rawFileNames' is not defined\n",
      "generated an exception: name 'rawFileNames' is not defined\n",
      "generated an exception: name 'rawFileNames' is not defined\n",
      "generated an exception: name 'rawFileNames' is not defined\n",
      "generated an exception: name 'rawFileNames' is not defined\n",
      "generated an exception: name 'rawFileNames' is not defined\n",
      "generated an exception: name 'rawFileNames' is not defined\n",
      "generated an exception: name 'rawFileNames' is not defined\n",
      "generated an exception: name 'rawFileNames' is not defined"
     ]
    },
    {
     "name": "stderr",
     "output_type": "stream",
     "text": [
      " 82%|████████████████████████████████████████████████▍          | 2640/3217 [03:28<00:44, 12.93it/s]"
     ]
    },
    {
     "name": "stdout",
     "output_type": "stream",
     "text": [
      "\n",
      "generated an exception: name 'rawFileNames' is not defined\n",
      "generated an exception: name 'rawFileNames' is not defined\n",
      "generated an exception: name 'rawFileNames' is not defined\n",
      "generated an exception: name 'rawFileNames' is not defined\n",
      "generated an exception: name 'rawFileNames' is not defined\n",
      "generated an exception: name 'rawFileNames' is not defined\n",
      "generated an exception: name 'rawFileNames' is not defined\n",
      "generated an exception: name 'rawFileNames' is not defined\n",
      "generated an exception: name 'rawFileNames' is not defined\n",
      "generated an exception: name 'rawFileNames' is not defined\n",
      "generated an exception: name 'rawFileNames' is not defined\n",
      "generated an exception: name 'rawFileNames' is not defined\n",
      "generated an exception: name 'rawFileNames' is not defined\n",
      "generated an exception: name 'rawFileNames' is not defined\n",
      "generated an exception: name 'rawFileNames' is not defined\n"
     ]
    },
    {
     "name": "stderr",
     "output_type": "stream",
     "text": [
      " 83%|████████████████████████████████████████████████▋          | 2656/3217 [03:30<00:43, 12.78it/s]"
     ]
    },
    {
     "name": "stdout",
     "output_type": "stream",
     "text": [
      "generated an exception: name 'rawFileNames' is not defined\n",
      "generated an exception: name 'rawFileNames' is not defined\n",
      "generated an exception: name 'rawFileNames' is not defined\n",
      "generated an exception: name 'rawFileNames' is not defined\n",
      "generated an exception: name 'rawFileNames' is not defined\n",
      "generated an exception: name 'rawFileNames' is not defined\n",
      "generated an exception: name 'rawFileNames' is not defined\n",
      "generated an exception: name 'rawFileNames' is not defined\n",
      "generated an exception: name 'rawFileNames' is not defined\n",
      "generated an exception: name 'rawFileNames' is not defined\n",
      "generated an exception: name 'rawFileNames' is not defined\n",
      "generated an exception: name 'rawFileNames' is not defined\n",
      "generated an exception: name 'rawFileNames' is not defined\n",
      "generated an exception: name 'rawFileNames' is not defined\n",
      "generated an exception: name 'rawFileNames' is not defined\n",
      "generated an exception: name 'rawFileNames' is not defined\n",
      "generated an exception: name 'rawFileNames' is not defined\n",
      "generated an exception: name 'rawFileNames' is not defined\n",
      "generated an exception: name 'rawFileNames' is not defined"
     ]
    },
    {
     "name": "stderr",
     "output_type": "stream",
     "text": [
      " 83%|█████████████████████████████████████████████████          | 2672/3217 [03:34<01:09,  7.88it/s]"
     ]
    },
    {
     "name": "stdout",
     "output_type": "stream",
     "text": [
      "\n",
      "generated an exception: name 'rawFileNames' is not defined\n",
      "generated an exception: name 'rawFileNames' is not defined\n",
      "generated an exception: name 'rawFileNames' is not defined\n",
      "generated an exception: name 'rawFileNames' is not defined\n",
      "generated an exception: name 'rawFileNames' is not defined\n",
      "generated an exception: name 'rawFileNames' is not defined\n",
      "generated an exception: name 'rawFileNames' is not defined\n",
      "generated an exception: name 'rawFileNames' is not defined\n",
      "generated an exception: name 'rawFileNames' is not defined\n",
      "generated an exception: name 'rawFileNames' is not defined\n",
      "generated an exception: name 'rawFileNames' is not defined\n",
      "generated an exception: name 'rawFileNames' is not defined\n"
     ]
    },
    {
     "name": "stderr",
     "output_type": "stream",
     "text": [
      " 84%|█████████████████████████████████████████████████▎         | 2688/3217 [03:35<00:58,  9.05it/s]"
     ]
    },
    {
     "name": "stdout",
     "output_type": "stream",
     "text": [
      "generated an exception: name 'rawFileNames' is not defined\n",
      "generated an exception: name 'rawFileNames' is not defined\n",
      "generated an exception: name 'rawFileNames' is not defined\n",
      "generated an exception: name 'rawFileNames' is not defined\n",
      "generated an exception: name 'rawFileNames' is not defined\n",
      "generated an exception: name 'rawFileNames' is not defined\n",
      "generated an exception: name 'rawFileNames' is not defined\n",
      "generated an exception: name 'rawFileNames' is not defined\n",
      "generated an exception: name 'rawFileNames' is not defined\n",
      "generated an exception: name 'rawFileNames' is not defined\n",
      "generated an exception: name 'rawFileNames' is not defined\n",
      "generated an exception: name 'rawFileNames' is not defined\n",
      "generated an exception: name 'rawFileNames' is not defined\n",
      "generated an exception: name 'rawFileNames' is not defined\n",
      "generated an exception: name 'rawFileNames' is not defined\n",
      "generated an exception: name 'rawFileNames' is not defined\n",
      "generated an exception: name 'rawFileNames' is not defined\n",
      "generated an exception: name 'rawFileNames' is not defined\n",
      "generated an exception: name 'rawFileNames' is not defined\n",
      "generated an exception: name 'rawFileNames' is not defined\n",
      "generated an exception: name 'rawFileNames' is not defined\n",
      "generated an exception: name 'rawFileNames' is not defined\n",
      "generated an exception: name 'rawFileNames' is not defined\n",
      "generated an exception: name 'rawFileNames' is not defined\n",
      "generated an exception: name 'rawFileNames' is not defined\n",
      "generated an exception: name 'rawFileNames' is not defined\n"
     ]
    },
    {
     "name": "stderr",
     "output_type": "stream",
     "text": [
      " 84%|█████████████████████████████████████████████████▌         | 2704/3217 [03:36<00:51,  9.99it/s]"
     ]
    },
    {
     "name": "stdout",
     "output_type": "stream",
     "text": [
      "generated an exception: name 'rawFileNames' is not defined\n",
      "generated an exception: name 'rawFileNames' is not defined\n",
      "generated an exception: name 'rawFileNames' is not defined\n",
      "generated an exception: name 'rawFileNames' is not defined\n",
      "generated an exception: name 'rawFileNames' is not defined\n",
      "generated an exception: name 'rawFileNames' is not defined\n",
      "generated an exception: name 'rawFileNames' is not defined"
     ]
    },
    {
     "name": "stderr",
     "output_type": "stream",
     "text": [
      " 85%|█████████████████████████████████████████████████▉         | 2720/3217 [03:37<00:46, 10.59it/s]"
     ]
    },
    {
     "name": "stdout",
     "output_type": "stream",
     "text": [
      "\n",
      "generated an exception: name 'rawFileNames' is not defined\n",
      "generated an exception: name 'rawFileNames' is not defined\n",
      "generated an exception: name 'rawFileNames' is not defined\n",
      "generated an exception: name 'rawFileNames' is not defined\n",
      "generated an exception: name 'rawFileNames' is not defined\n",
      "generated an exception: name 'rawFileNames' is not defined\n",
      "generated an exception: name 'rawFileNames' is not defined\n",
      "generated an exception: name 'rawFileNames' is not defined\n",
      "generated an exception: name 'rawFileNames' is not defined\n",
      "generated an exception: name 'rawFileNames' is not defined\n",
      "generated an exception: name 'rawFileNames' is not defined\n",
      "generated an exception: name 'rawFileNames' is not defined\n",
      "generated an exception: name 'rawFileNames' is not defined\n",
      "generated an exception: name 'rawFileNames' is not defined\n",
      "generated an exception: name 'rawFileNames' is not defined\n"
     ]
    },
    {
     "name": "stderr",
     "output_type": "stream",
     "text": [
      " 85%|██████████████████████████████████████████████████▏        | 2736/3217 [03:38<00:42, 11.27it/s]"
     ]
    },
    {
     "name": "stdout",
     "output_type": "stream",
     "text": [
      "generated an exception: name 'rawFileNames' is not defined\n",
      "generated an exception: name 'rawFileNames' is not defined\n",
      "generated an exception: name 'rawFileNames' is not defined\n",
      "generated an exception: name 'rawFileNames' is not defined\n",
      "generated an exception: name 'rawFileNames' is not defined\n",
      "generated an exception: name 'rawFileNames' is not defined\n",
      "generated an exception: name 'rawFileNames' is not defined\n",
      "generated an exception: name 'rawFileNames' is not defined\n",
      "generated an exception: name 'rawFileNames' is not defined\n",
      "generated an exception: name 'rawFileNames' is not defined\n",
      "generated an exception: name 'rawFileNames' is not defined\n",
      "generated an exception: name 'rawFileNames' is not defined\n",
      "generated an exception: name 'rawFileNames' is not defined\n",
      "generated an exception: name 'rawFileNames' is not defined\n",
      "generated an exception: name 'rawFileNames' is not defined\n",
      "generated an exception: name 'rawFileNames' is not defined\n"
     ]
    },
    {
     "name": "stderr",
     "output_type": "stream",
     "text": [
      " 86%|██████████████████████████████████████████████████▍        | 2752/3217 [03:40<00:38, 11.95it/s]"
     ]
    },
    {
     "name": "stdout",
     "output_type": "stream",
     "text": [
      "generated an exception: name 'rawFileNames' is not defined\n",
      "generated an exception: name 'rawFileNames' is not defined\n",
      "generated an exception: name 'rawFileNames' is not defined\n",
      "generated an exception: name 'rawFileNames' is not defined\n",
      "generated an exception: name 'rawFileNames' is not defined\n",
      "generated an exception: name 'rawFileNames' is not defined\n",
      "generated an exception: name 'rawFileNames' is not defined\n",
      "generated an exception: name 'rawFileNames' is not defined\n",
      "generated an exception: name 'rawFileNames' is not defined\n",
      "generated an exception: name 'rawFileNames' is not defined\n",
      "generated an exception: name 'rawFileNames' is not defined\n",
      "generated an exception: name 'rawFileNames' is not defined\n",
      "generated an exception: name 'rawFileNames' is not defined\n",
      "generated an exception: name 'rawFileNames' is not defined\n",
      "generated an exception: name 'rawFileNames' is not defined\n",
      "generated an exception: name 'rawFileNames' is not defined\n"
     ]
    },
    {
     "name": "stderr",
     "output_type": "stream",
     "text": [
      " 86%|██████████████████████████████████████████████████▊        | 2768/3217 [03:41<00:36, 12.38it/s]"
     ]
    },
    {
     "name": "stdout",
     "output_type": "stream",
     "text": [
      "generated an exception: name 'rawFileNames' is not defined\n",
      "generated an exception: name 'rawFileNames' is not defined\n",
      "generated an exception: name 'rawFileNames' is not defined\n",
      "generated an exception: name 'rawFileNames' is not defined\n",
      "generated an exception: name 'rawFileNames' is not defined\n",
      "generated an exception: name 'rawFileNames' is not defined\n",
      "generated an exception: name 'rawFileNames' is not defined\n",
      "generated an exception: name 'rawFileNames' is not defined\n",
      "generated an exception: name 'rawFileNames' is not defined\n",
      "generated an exception: name 'rawFileNames' is not defined\n",
      "generated an exception: name 'rawFileNames' is not defined\n",
      "generated an exception: name 'rawFileNames' is not defined\n",
      "generated an exception: name 'rawFileNames' is not defined\n",
      "generated an exception: name 'rawFileNames' is not defined\n",
      "generated an exception: name 'rawFileNames' is not defined\n",
      "generated an exception: name 'rawFileNames' is not defined\n"
     ]
    },
    {
     "name": "stderr",
     "output_type": "stream",
     "text": [
      " 87%|███████████████████████████████████████████████████        | 2784/3217 [03:42<00:34, 12.57it/s]"
     ]
    },
    {
     "name": "stdout",
     "output_type": "stream",
     "text": [
      "generated an exception: name 'rawFileNames' is not defined\n",
      "generated an exception: name 'rawFileNames' is not defined\n",
      "generated an exception: name 'rawFileNames' is not defined\n",
      "generated an exception: name 'rawFileNames' is not defined\n",
      "generated an exception: name 'rawFileNames' is not defined\n",
      "generated an exception: name 'rawFileNames' is not defined\n",
      "generated an exception: name 'rawFileNames' is not defined\n",
      "generated an exception: name 'rawFileNames' is not defined\n",
      "generated an exception: name 'rawFileNames' is not defined\n",
      "generated an exception: name 'rawFileNames' is not defined\n",
      "generated an exception: name 'rawFileNames' is not defined\n",
      "generated an exception: name 'rawFileNames' is not defined\n",
      "generated an exception: name 'rawFileNames' is not defined\n",
      "generated an exception: name 'rawFileNames' is not defined\n",
      "generated an exception: name 'rawFileNames' is not defined\n",
      "generated an exception: name 'rawFileNames' is not defined\n"
     ]
    },
    {
     "name": "stderr",
     "output_type": "stream",
     "text": [
      " 87%|███████████████████████████████████████████████████▎       | 2800/3217 [03:43<00:32, 12.86it/s]"
     ]
    },
    {
     "name": "stdout",
     "output_type": "stream",
     "text": [
      "generated an exception: name 'rawFileNames' is not defined\n",
      "generated an exception: name 'rawFileNames' is not defined\n",
      "generated an exception: name 'rawFileNames' is not defined\n",
      "generated an exception: name 'rawFileNames' is not defined\n",
      "generated an exception: name 'rawFileNames' is not defined\n",
      "generated an exception: name 'rawFileNames' is not defined\n",
      "generated an exception: name 'rawFileNames' is not defined\n",
      "generated an exception: name 'rawFileNames' is not defined\n",
      "generated an exception: name 'rawFileNames' is not defined\n",
      "generated an exception: name 'rawFileNames' is not defined\n",
      "generated an exception: name 'rawFileNames' is not defined\n",
      "generated an exception: name 'rawFileNames' is not defined\n",
      "generated an exception: name 'rawFileNames' is not defined\n",
      "generated an exception: name 'rawFileNames' is not defined\n",
      "generated an exception: name 'rawFileNames' is not defined\n",
      "generated an exception: name 'rawFileNames' is not defined\n"
     ]
    },
    {
     "name": "stderr",
     "output_type": "stream",
     "text": [
      " 88%|███████████████████████████████████████████████████▋       | 2816/3217 [03:44<00:30, 12.96it/s]"
     ]
    },
    {
     "name": "stdout",
     "output_type": "stream",
     "text": [
      "generated an exception: name 'rawFileNames' is not defined\n",
      "generated an exception: name 'rawFileNames' is not defined\n",
      "generated an exception: name 'rawFileNames' is not defined\n",
      "generated an exception: name 'rawFileNames' is not defined\n",
      "generated an exception: name 'rawFileNames' is not defined\n",
      "generated an exception: name 'rawFileNames' is not defined\n",
      "generated an exception: name 'rawFileNames' is not defined\n",
      "generated an exception: name 'rawFileNames' is not defined\n",
      "generated an exception: name 'rawFileNames' is not defined\n",
      "generated an exception: name 'rawFileNames' is not defined\n",
      "generated an exception: name 'rawFileNames' is not defined\n",
      "generated an exception: name 'rawFileNames' is not defined\n",
      "generated an exception: name 'rawFileNames' is not defined\n",
      "generated an exception: name 'rawFileNames' is not defined\n",
      "generated an exception: name 'rawFileNames' is not defined\n",
      "generated an exception: name 'rawFileNames' is not defined\n",
      "generated an exception: name 'rawFileNames' is not defined"
     ]
    },
    {
     "name": "stderr",
     "output_type": "stream",
     "text": [
      " 88%|███████████████████████████████████████████████████▉       | 2832/3217 [03:46<00:29, 12.95it/s]"
     ]
    },
    {
     "name": "stdout",
     "output_type": "stream",
     "text": [
      "\n",
      "generated an exception: name 'rawFileNames' is not defined\n",
      "generated an exception: name 'rawFileNames' is not defined\n",
      "generated an exception: name 'rawFileNames' is not defined\n",
      "generated an exception: name 'rawFileNames' is not defined\n",
      "generated an exception: name 'rawFileNames' is not defined\n",
      "generated an exception: name 'rawFileNames' is not defined\n",
      "generated an exception: name 'rawFileNames' is not defined\n",
      "generated an exception: name 'rawFileNames' is not defined\n",
      "generated an exception: name 'rawFileNames' is not defined\n",
      "generated an exception: name 'rawFileNames' is not defined\n",
      "generated an exception: name 'rawFileNames' is not defined\n",
      "generated an exception: name 'rawFileNames' is not defined\n",
      "generated an exception: name 'rawFileNames' is not defined\n",
      "generated an exception: name 'rawFileNames' is not defined\n",
      "generated an exception: name 'rawFileNames' is not defined\n"
     ]
    },
    {
     "name": "stderr",
     "output_type": "stream",
     "text": [
      " 89%|████████████████████████████████████████████████████▏      | 2848/3217 [03:47<00:28, 12.97it/s]"
     ]
    },
    {
     "name": "stdout",
     "output_type": "stream",
     "text": [
      "generated an exception: name 'rawFileNames' is not defined\n",
      "generated an exception: name 'rawFileNames' is not defined\n",
      "generated an exception: name 'rawFileNames' is not defined\n",
      "generated an exception: name 'rawFileNames' is not defined\n",
      "generated an exception: name 'rawFileNames' is not defined\n",
      "generated an exception: name 'rawFileNames' is not defined\n",
      "generated an exception: name 'rawFileNames' is not defined\n",
      "generated an exception: name 'rawFileNames' is not defined\n",
      "generated an exception: name 'rawFileNames' is not defined\n",
      "generated an exception: name 'rawFileNames' is not defined\n",
      "generated an exception: name 'rawFileNames' is not defined\n",
      "generated an exception: name 'rawFileNames' is not defined\n",
      "generated an exception: name 'rawFileNames' is not defined\n",
      "generated an exception: name 'rawFileNames' is not defined\n",
      "generated an exception: name 'rawFileNames' is not defined\n",
      "generated an exception: name 'rawFileNames' is not defined\n",
      "generated an exception: name 'rawFileNames' is not defined\n"
     ]
    },
    {
     "name": "stderr",
     "output_type": "stream",
     "text": [
      " 89%|████████████████████████████████████████████████████▌      | 2864/3217 [03:48<00:27, 13.04it/s]"
     ]
    },
    {
     "name": "stdout",
     "output_type": "stream",
     "text": [
      "generated an exception: name 'rawFileNames' is not defined\n",
      "generated an exception: name 'rawFileNames' is not defined\n",
      "generated an exception: name 'rawFileNames' is not defined\n",
      "generated an exception: name 'rawFileNames' is not defined\n",
      "generated an exception: name 'rawFileNames' is not defined\n",
      "generated an exception: name 'rawFileNames' is not defined\n",
      "generated an exception: name 'rawFileNames' is not defined\n",
      "generated an exception: name 'rawFileNames' is not defined\n",
      "generated an exception: name 'rawFileNames' is not defined\n",
      "generated an exception: name 'rawFileNames' is not defined\n",
      "generated an exception: name 'rawFileNames' is not defined\n",
      "generated an exception: name 'rawFileNames' is not defined\n",
      "generated an exception: name 'rawFileNames' is not defined\n",
      "generated an exception: name 'rawFileNames' is not defined\n",
      "generated an exception: name 'rawFileNames' is not defined\n"
     ]
    },
    {
     "name": "stderr",
     "output_type": "stream",
     "text": [
      " 90%|████████████████████████████████████████████████████▊      | 2880/3217 [03:49<00:26, 12.91it/s]"
     ]
    },
    {
     "name": "stdout",
     "output_type": "stream",
     "text": [
      "generated an exception: name 'rawFileNames' is not defined\n",
      "generated an exception: name 'rawFileNames' is not defined\n",
      "generated an exception: name 'rawFileNames' is not defined\n",
      "generated an exception: name 'rawFileNames' is not defined\n",
      "generated an exception: name 'rawFileNames' is not defined\n",
      "generated an exception: name 'rawFileNames' is not defined\n",
      "generated an exception: name 'rawFileNames' is not defined\n",
      "generated an exception: name 'rawFileNames' is not defined\n",
      "generated an exception: name 'rawFileNames' is not defined\n",
      "generated an exception: name 'rawFileNames' is not defined\n",
      "generated an exception: name 'rawFileNames' is not defined\n",
      "generated an exception: name 'rawFileNames' is not defined\n",
      "generated an exception: name 'rawFileNames' is not defined\n",
      "generated an exception: name 'rawFileNames' is not defined\n",
      "generated an exception: name 'rawFileNames' is not defined\n",
      "generated an exception: name 'rawFileNames' is not defined\n"
     ]
    },
    {
     "name": "stderr",
     "output_type": "stream",
     "text": [
      " 90%|█████████████████████████████████████████████████████      | 2896/3217 [03:51<00:24, 13.00it/s]"
     ]
    },
    {
     "name": "stdout",
     "output_type": "stream",
     "text": [
      "generated an exception: name 'rawFileNames' is not defined\n",
      "generated an exception: name 'rawFileNames' is not defined\n",
      "generated an exception: name 'rawFileNames' is not defined\n",
      "generated an exception: name 'rawFileNames' is not defined\n",
      "generated an exception: name 'rawFileNames' is not defined\n",
      "generated an exception: name 'rawFileNames' is not defined\n",
      "generated an exception: name 'rawFileNames' is not defined\n",
      "generated an exception: name 'rawFileNames' is not defined\n",
      "generated an exception: name 'rawFileNames' is not defined\n",
      "generated an exception: name 'rawFileNames' is not defined\n",
      "generated an exception: name 'rawFileNames' is not defined\n",
      "generated an exception: name 'rawFileNames' is not defined\n",
      "generated an exception: name 'rawFileNames' is not defined\n",
      "generated an exception: name 'rawFileNames' is not defined\n",
      "generated an exception: name 'rawFileNames' is not defined\n",
      "generated an exception: name 'rawFileNames' is not defined\n"
     ]
    },
    {
     "name": "stderr",
     "output_type": "stream",
     "text": [
      " 91%|█████████████████████████████████████████████████████▍     | 2912/3217 [03:52<00:23, 13.01it/s]"
     ]
    },
    {
     "name": "stdout",
     "output_type": "stream",
     "text": [
      "generated an exception: name 'rawFileNames' is not defined\n",
      "generated an exception: name 'rawFileNames' is not defined\n",
      "generated an exception: name 'rawFileNames' is not defined\n",
      "generated an exception: name 'rawFileNames' is not defined\n",
      "generated an exception: name 'rawFileNames' is not defined\n",
      "generated an exception: name 'rawFileNames' is not defined\n",
      "generated an exception: name 'rawFileNames' is not defined\n",
      "generated an exception: name 'rawFileNames' is not defined\n",
      "generated an exception: name 'rawFileNames' is not defined\n",
      "generated an exception: name 'rawFileNames' is not defined\n",
      "generated an exception: name 'rawFileNames' is not defined\n",
      "generated an exception: name 'rawFileNames' is not defined\n",
      "generated an exception: name 'rawFileNames' is not defined\n",
      "generated an exception: name 'rawFileNames' is not defined\n",
      "generated an exception: name 'rawFileNames' is not defined\n",
      "generated an exception: name 'rawFileNames' is not defined\n"
     ]
    },
    {
     "name": "stderr",
     "output_type": "stream",
     "text": [
      " 91%|█████████████████████████████████████████████████████▋     | 2928/3217 [03:53<00:22, 13.04it/s]"
     ]
    },
    {
     "name": "stdout",
     "output_type": "stream",
     "text": [
      "generated an exception: name 'rawFileNames' is not defined\n",
      "generated an exception: name 'rawFileNames' is not defined\n",
      "generated an exception: name 'rawFileNames' is not defined\n",
      "generated an exception: name 'rawFileNames' is not defined\n",
      "generated an exception: name 'rawFileNames' is not defined\n",
      "generated an exception: name 'rawFileNames' is not defined\n",
      "generated an exception: name 'rawFileNames' is not defined\n",
      "generated an exception: name 'rawFileNames' is not defined\n",
      "generated an exception: name 'rawFileNames' is not defined\n",
      "generated an exception: name 'rawFileNames' is not defined\n",
      "generated an exception: name 'rawFileNames' is not defined\n",
      "generated an exception: name 'rawFileNames' is not defined\n",
      "generated an exception: name 'rawFileNames' is not defined\n",
      "generated an exception: name 'rawFileNames' is not defined\n",
      "generated an exception: name 'rawFileNames' is not defined\n",
      "generated an exception: name 'rawFileNames' is not defined\n"
     ]
    },
    {
     "name": "stderr",
     "output_type": "stream",
     "text": [
      " 92%|█████████████████████████████████████████████████████▉     | 2944/3217 [03:54<00:20, 13.03it/s]"
     ]
    },
    {
     "name": "stdout",
     "output_type": "stream",
     "text": [
      "generated an exception: name 'rawFileNames' is not defined\n",
      "generated an exception: name 'rawFileNames' is not defined\n",
      "generated an exception: name 'rawFileNames' is not defined\n",
      "generated an exception: name 'rawFileNames' is not defined\n",
      "generated an exception: name 'rawFileNames' is not defined\n",
      "generated an exception: name 'rawFileNames' is not defined\n",
      "generated an exception: name 'rawFileNames' is not defined\n",
      "generated an exception: name 'rawFileNames' is not defined\n",
      "generated an exception: name 'rawFileNames' is not defined\n",
      "generated an exception: name 'rawFileNames' is not defined\n",
      "generated an exception: name 'rawFileNames' is not defined\n",
      "generated an exception: name 'rawFileNames' is not defined\n",
      "generated an exception: name 'rawFileNames' is not defined\n",
      "generated an exception: name 'rawFileNames' is not defined\n",
      "generated an exception: name 'rawFileNames' is not defined\n",
      "generated an exception: name 'rawFileNames' is not defined\n",
      "generated an exception: name 'rawFileNames' is not defined"
     ]
    },
    {
     "name": "stderr",
     "output_type": "stream",
     "text": [
      " 92%|██████████████████████████████████████████████████████▎    | 2960/3217 [03:55<00:19, 13.03it/s]"
     ]
    },
    {
     "name": "stdout",
     "output_type": "stream",
     "text": [
      "\n",
      "generated an exception: name 'rawFileNames' is not defined\n",
      "generated an exception: name 'rawFileNames' is not defined\n",
      "generated an exception: name 'rawFileNames' is not defined\n",
      "generated an exception: name 'rawFileNames' is not defined\n",
      "generated an exception: name 'rawFileNames' is not defined\n",
      "generated an exception: name 'rawFileNames' is not defined\n",
      "generated an exception: name 'rawFileNames' is not defined\n",
      "generated an exception: name 'rawFileNames' is not defined\n",
      "generated an exception: name 'rawFileNames' is not defined\n",
      "generated an exception: name 'rawFileNames' is not defined\n",
      "generated an exception: name 'rawFileNames' is not defined\n",
      "generated an exception: name 'rawFileNames' is not defined\n",
      "generated an exception: name 'rawFileNames' is not defined\n",
      "generated an exception: name 'rawFileNames' is not defined\n",
      "generated an exception: name 'rawFileNames' is not defined\n"
     ]
    },
    {
     "name": "stderr",
     "output_type": "stream",
     "text": [
      " 93%|██████████████████████████████████████████████████████▌    | 2976/3217 [03:57<00:18, 13.32it/s]"
     ]
    },
    {
     "name": "stdout",
     "output_type": "stream",
     "text": [
      "generated an exception: name 'rawFileNames' is not defined\n",
      "generated an exception: name 'rawFileNames' is not defined\n",
      "generated an exception: name 'rawFileNames' is not defined\n",
      "generated an exception: name 'rawFileNames' is not defined\n",
      "generated an exception: name 'rawFileNames' is not defined\n",
      "generated an exception: name 'rawFileNames' is not defined\n",
      "generated an exception: name 'rawFileNames' is not defined\n",
      "generated an exception: name 'rawFileNames' is not defined\n",
      "generated an exception: name 'rawFileNames' is not defined\n",
      "generated an exception: name 'rawFileNames' is not defined\n",
      "generated an exception: name 'rawFileNames' is not defined\n",
      "generated an exception: name 'rawFileNames' is not defined\n",
      "generated an exception: name 'rawFileNames' is not defined\n",
      "generated an exception: name 'rawFileNames' is not defined\n",
      "generated an exception: name 'rawFileNames' is not defined\n",
      "generated an exception: name 'rawFileNames' is not defined\n"
     ]
    },
    {
     "name": "stderr",
     "output_type": "stream",
     "text": [
      " 93%|██████████████████████████████████████████████████████▊    | 2992/3217 [03:58<00:16, 13.35it/s]"
     ]
    },
    {
     "name": "stdout",
     "output_type": "stream",
     "text": [
      "generated an exception: name 'rawFileNames' is not defined\n",
      "generated an exception: name 'rawFileNames' is not defined\n",
      "generated an exception: name 'rawFileNames' is not defined\n",
      "generated an exception: name 'rawFileNames' is not defined\n",
      "generated an exception: name 'rawFileNames' is not defined\n",
      "generated an exception: name 'rawFileNames' is not defined\n",
      "generated an exception: name 'rawFileNames' is not defined\n",
      "generated an exception: name 'rawFileNames' is not defined\n",
      "generated an exception: name 'rawFileNames' is not defined\n",
      "generated an exception: name 'rawFileNames' is not defined\n",
      "generated an exception: name 'rawFileNames' is not defined\n",
      "generated an exception: name 'rawFileNames' is not defined\n",
      "generated an exception: name 'rawFileNames' is not defined\n",
      "generated an exception: name 'rawFileNames' is not defined\n",
      "generated an exception: name 'rawFileNames' is not defined\n",
      "generated an exception: name 'rawFileNames' is not defined\n"
     ]
    },
    {
     "name": "stderr",
     "output_type": "stream",
     "text": [
      " 94%|███████████████████████████████████████████████████████▏   | 3008/3217 [03:59<00:15, 13.29it/s]"
     ]
    },
    {
     "name": "stdout",
     "output_type": "stream",
     "text": [
      "generated an exception: name 'rawFileNames' is not defined\n",
      "generated an exception: name 'rawFileNames' is not defined\n",
      "generated an exception: name 'rawFileNames' is not defined\n",
      "generated an exception: name 'rawFileNames' is not defined\n",
      "generated an exception: name 'rawFileNames' is not defined\n",
      "generated an exception: name 'rawFileNames' is not defined\n",
      "generated an exception: name 'rawFileNames' is not defined\n",
      "generated an exception: name 'rawFileNames' is not defined\n",
      "generated an exception: name 'rawFileNames' is not defined\n",
      "generated an exception: name 'rawFileNames' is not defined\n",
      "generated an exception: name 'rawFileNames' is not defined\n",
      "generated an exception: name 'rawFileNames' is not defined\n",
      "generated an exception: name 'rawFileNames' is not defined\n",
      "generated an exception: name 'rawFileNames' is not defined\n",
      "generated an exception: name 'rawFileNames' is not defined\n",
      "generated an exception: name 'rawFileNames' is not defined\n"
     ]
    },
    {
     "name": "stderr",
     "output_type": "stream",
     "text": [
      " 94%|███████████████████████████████████████████████████████▍   | 3024/3217 [04:00<00:14, 13.27it/s]"
     ]
    },
    {
     "name": "stdout",
     "output_type": "stream",
     "text": [
      "generated an exception: name 'rawFileNames' is not defined\n",
      "generated an exception: name 'rawFileNames' is not defined\n",
      "generated an exception: name 'rawFileNames' is not defined\n",
      "generated an exception: name 'rawFileNames' is not defined\n",
      "generated an exception: name 'rawFileNames' is not defined\n",
      "generated an exception: name 'rawFileNames' is not defined\n",
      "generated an exception: name 'rawFileNames' is not defined\n",
      "generated an exception: name 'rawFileNames' is not defined\n",
      "generated an exception: name 'rawFileNames' is not defined\n",
      "generated an exception: name 'rawFileNames' is not defined\n",
      "generated an exception: name 'rawFileNames' is not defined\n",
      "generated an exception: name 'rawFileNames' is not defined\n",
      "generated an exception: name 'rawFileNames' is not defined\n",
      "generated an exception: name 'rawFileNames' is not defined\n",
      "generated an exception: name 'rawFileNames' is not defined\n",
      "generated an exception: name 'rawFileNames' is not defined\n",
      "generated an exception: name 'rawFileNames' is not defined\n",
      "generated an exception: name 'rawFileNames' is not defined"
     ]
    },
    {
     "name": "stderr",
     "output_type": "stream",
     "text": [
      " 94%|███████████████████████████████████████████████████████▊   | 3040/3217 [04:01<00:13, 13.20it/s]"
     ]
    },
    {
     "name": "stdout",
     "output_type": "stream",
     "text": [
      "\n",
      "generated an exception: name 'rawFileNames' is not defined\n",
      "generated an exception: name 'rawFileNames' is not defined\n",
      "generated an exception: name 'rawFileNames' is not defined\n",
      "generated an exception: name 'rawFileNames' is not defined\n",
      "generated an exception: name 'rawFileNames' is not defined\n",
      "generated an exception: name 'rawFileNames' is not defined\n",
      "generated an exception: name 'rawFileNames' is not defined\n",
      "generated an exception: name 'rawFileNames' is not defined\n",
      "generated an exception: name 'rawFileNames' is not defined\n",
      "generated an exception: name 'rawFileNames' is not defined\n",
      "generated an exception: name 'rawFileNames' is not defined\n",
      "generated an exception: name 'rawFileNames' is not defined\n",
      "generated an exception: name 'rawFileNames' is not defined\n",
      "generated an exception: name 'rawFileNames' is not defined\n",
      "generated an exception: name 'rawFileNames' is not defined"
     ]
    },
    {
     "name": "stderr",
     "output_type": "stream",
     "text": [
      " 95%|████████████████████████████████████████████████████████   | 3056/3217 [04:03<00:12, 13.31it/s]"
     ]
    },
    {
     "name": "stdout",
     "output_type": "stream",
     "text": [
      "\n",
      "generated an exception: name 'rawFileNames' is not defined\n",
      "generated an exception: name 'rawFileNames' is not defined\n",
      "generated an exception: name 'rawFileNames' is not defined\n",
      "generated an exception: name 'rawFileNames' is not defined\n",
      "generated an exception: name 'rawFileNames' is not defined\n",
      "generated an exception: name 'rawFileNames' is not defined\n",
      "generated an exception: name 'rawFileNames' is not defined\n",
      "generated an exception: name 'rawFileNames' is not defined\n",
      "generated an exception: name 'rawFileNames' is not defined\n",
      "generated an exception: name 'rawFileNames' is not defined\n",
      "generated an exception: name 'rawFileNames' is not defined\n",
      "generated an exception: name 'rawFileNames' is not defined\n",
      "generated an exception: name 'rawFileNames' is not defined\n",
      "generated an exception: name 'rawFileNames' is not defined\n",
      "generated an exception: name 'rawFileNames' is not defined\n",
      "generated an exception: name 'rawFileNames' is not defined\n"
     ]
    },
    {
     "name": "stderr",
     "output_type": "stream",
     "text": [
      " 95%|████████████████████████████████████████████████████████▎  | 3072/3217 [04:04<00:10, 13.26it/s]"
     ]
    },
    {
     "name": "stdout",
     "output_type": "stream",
     "text": [
      "generated an exception: name 'rawFileNames' is not defined\n",
      "generated an exception: name 'rawFileNames' is not defined\n",
      "generated an exception: name 'rawFileNames' is not defined\n",
      "generated an exception: name 'rawFileNames' is not defined\n",
      "generated an exception: name 'rawFileNames' is not defined\n",
      "generated an exception: name 'rawFileNames' is not defined\n",
      "generated an exception: name 'rawFileNames' is not defined\n",
      "generated an exception: name 'rawFileNames' is not defined\n",
      "generated an exception: name 'rawFileNames' is not defined\n",
      "generated an exception: name 'rawFileNames' is not defined\n",
      "generated an exception: name 'rawFileNames' is not defined\n",
      "generated an exception: name 'rawFileNames' is not defined\n",
      "generated an exception: name 'rawFileNames' is not defined\n",
      "generated an exception: name 'rawFileNames' is not defined\n",
      "generated an exception: name 'rawFileNames' is not defined\n",
      "generated an exception: name 'rawFileNames' is not defined"
     ]
    },
    {
     "name": "stderr",
     "output_type": "stream",
     "text": [
      " 96%|████████████████████████████████████████████████████████▋  | 3088/3217 [04:05<00:09, 13.18it/s]"
     ]
    },
    {
     "name": "stdout",
     "output_type": "stream",
     "text": [
      "\n",
      "generated an exception: name 'rawFileNames' is not defined\n",
      "generated an exception: name 'rawFileNames' is not defined\n",
      "generated an exception: name 'rawFileNames' is not defined\n",
      "generated an exception: name 'rawFileNames' is not defined\n",
      "generated an exception: name 'rawFileNames' is not defined\n",
      "generated an exception: name 'rawFileNames' is not defined\n",
      "generated an exception: name 'rawFileNames' is not defined\n",
      "generated an exception: name 'rawFileNames' is not defined\n",
      "generated an exception: name 'rawFileNames' is not defined\n",
      "generated an exception: name 'rawFileNames' is not defined\n",
      "generated an exception: name 'rawFileNames' is not defined\n",
      "generated an exception: name 'rawFileNames' is not defined\n",
      "generated an exception: name 'rawFileNames' is not defined\n",
      "generated an exception: name 'rawFileNames' is not defined\n",
      "generated an exception: name 'rawFileNames' is not defined\n",
      "generated an exception: name 'rawFileNames' is not defined\n",
      "generated an exception: name 'rawFileNames' is not defined\n",
      "generated an exception: name 'rawFileNames' is not defined\n"
     ]
    },
    {
     "name": "stderr",
     "output_type": "stream",
     "text": [
      " 96%|████████████████████████████████████████████████████████▉  | 3104/3217 [04:06<00:08, 13.27it/s]"
     ]
    },
    {
     "name": "stdout",
     "output_type": "stream",
     "text": [
      "generated an exception: name 'rawFileNames' is not defined\n",
      "generated an exception: name 'rawFileNames' is not defined\n",
      "generated an exception: name 'rawFileNames' is not defined\n",
      "generated an exception: name 'rawFileNames' is not defined\n",
      "generated an exception: name 'rawFileNames' is not defined\n",
      "generated an exception: name 'rawFileNames' is not defined\n",
      "generated an exception: name 'rawFileNames' is not defined\n",
      "generated an exception: name 'rawFileNames' is not defined\n",
      "generated an exception: name 'rawFileNames' is not defined\n",
      "generated an exception: name 'rawFileNames' is not defined\n",
      "generated an exception: name 'rawFileNames' is not defined\n",
      "generated an exception: name 'rawFileNames' is not defined\n",
      "generated an exception: name 'rawFileNames' is not defined\n"
     ]
    },
    {
     "name": "stderr",
     "output_type": "stream",
     "text": [
      " 97%|█████████████████████████████████████████████████████████▏ | 3120/3217 [04:07<00:07, 13.25it/s]"
     ]
    },
    {
     "name": "stdout",
     "output_type": "stream",
     "text": [
      "generated an exception: name 'rawFileNames' is not defined\n",
      "generated an exception: name 'rawFileNames' is not defined\n",
      "generated an exception: name 'rawFileNames' is not defined\n",
      "generated an exception: name 'rawFileNames' is not defined\n",
      "generated an exception: name 'rawFileNames' is not defined\n",
      "generated an exception: name 'rawFileNames' is not defined\n",
      "generated an exception: name 'rawFileNames' is not defined\n",
      "generated an exception: name 'rawFileNames' is not defined\n",
      "generated an exception: name 'rawFileNames' is not defined\n",
      "generated an exception: name 'rawFileNames' is not defined\n",
      "generated an exception: name 'rawFileNames' is not defined\n",
      "generated an exception: name 'rawFileNames' is not defined\n",
      "generated an exception: name 'rawFileNames' is not defined\n",
      "generated an exception: name 'rawFileNames' is not defined\n",
      "generated an exception: name 'rawFileNames' is not defined\n",
      "generated an exception: name 'rawFileNames' is not defined\n",
      "generated an exception: name 'rawFileNames' is not defined\n",
      "generated an exception: name 'rawFileNames' is not defined\n",
      "generated an exception: name 'rawFileNames' is not defined\n",
      "generated an exception: name 'rawFileNames' is not defined\n",
      "generated an exception: name 'rawFileNames' is not defined\n",
      "generated an exception: name 'rawFileNames' is not defined\n",
      "generated an exception: name 'rawFileNames' is not defined\n",
      "generated an exception: name 'rawFileNames' is not defined\n",
      "generated an exception: name 'rawFileNames' is not defined\n",
      "generated an exception: name 'rawFileNames' is not defined\n"
     ]
    },
    {
     "name": "stderr",
     "output_type": "stream",
     "text": [
      " 97%|█████████████████████████████████████████████████████████▌ | 3136/3217 [04:09<00:06, 13.16it/s]"
     ]
    },
    {
     "name": "stdout",
     "output_type": "stream",
     "text": [
      "generated an exception: name 'rawFileNames' is not defined\n",
      "generated an exception: name 'rawFileNames' is not defined\n",
      "generated an exception: name 'rawFileNames' is not defined\n",
      "generated an exception: name 'rawFileNames' is not defined\n",
      "generated an exception: name 'rawFileNames' is not defined\n",
      "generated an exception: name 'rawFileNames' is not defined\n"
     ]
    },
    {
     "name": "stderr",
     "output_type": "stream",
     "text": [
      " 98%|█████████████████████████████████████████████████████████▊ | 3152/3217 [04:10<00:04, 13.11it/s]"
     ]
    },
    {
     "name": "stdout",
     "output_type": "stream",
     "text": [
      "generated an exception: name 'rawFileNames' is not defined\n",
      "generated an exception: name 'rawFileNames' is not defined\n",
      "generated an exception: name 'rawFileNames' is not defined\n",
      "generated an exception: name 'rawFileNames' is not defined\n",
      "generated an exception: name 'rawFileNames' is not defined\n",
      "generated an exception: name 'rawFileNames' is not defined\n",
      "generated an exception: name 'rawFileNames' is not defined\n",
      "generated an exception: name 'rawFileNames' is not defined\n",
      "generated an exception: name 'rawFileNames' is not defined\n",
      "generated an exception: name 'rawFileNames' is not defined\n",
      "generated an exception: name 'rawFileNames' is not defined\n",
      "generated an exception: name 'rawFileNames' is not defined\n",
      "generated an exception: name 'rawFileNames' is not defined\n",
      "generated an exception: name 'rawFileNames' is not defined\n",
      "generated an exception: name 'rawFileNames' is not defined\n",
      "generated an exception: name 'rawFileNames' is not defined\n"
     ]
    },
    {
     "name": "stderr",
     "output_type": "stream",
     "text": [
      " 98%|██████████████████████████████████████████████████████████ | 3168/3217 [04:11<00:03, 13.22it/s]"
     ]
    },
    {
     "name": "stdout",
     "output_type": "stream",
     "text": [
      "generated an exception: name 'rawFileNames' is not defined\n",
      "generated an exception: name 'rawFileNames' is not defined\n",
      "generated an exception: name 'rawFileNames' is not defined\n",
      "generated an exception: name 'rawFileNames' is not defined\n",
      "generated an exception: name 'rawFileNames' is not defined\n",
      "generated an exception: name 'rawFileNames' is not defined\n",
      "generated an exception: name 'rawFileNames' is not defined\n",
      "generated an exception: name 'rawFileNames' is not defined\n",
      "generated an exception: name 'rawFileNames' is not defined\n",
      "generated an exception: name 'rawFileNames' is not defined\n",
      "generated an exception: name 'rawFileNames' is not defined\n",
      "generated an exception: name 'rawFileNames' is not defined\n",
      "generated an exception: name 'rawFileNames' is not defined\n",
      "generated an exception: name 'rawFileNames' is not defined\n",
      "generated an exception: name 'rawFileNames' is not defined\n",
      "generated an exception: name 'rawFileNames' is not defined\n"
     ]
    },
    {
     "name": "stderr",
     "output_type": "stream",
     "text": [
      " 99%|██████████████████████████████████████████████████████████▍| 3184/3217 [04:12<00:02, 13.22it/s]"
     ]
    },
    {
     "name": "stdout",
     "output_type": "stream",
     "text": [
      "generated an exception: name 'rawFileNames' is not defined\n",
      "generated an exception: name 'rawFileNames' is not defined\n",
      "generated an exception: name 'rawFileNames' is not defined\n",
      "generated an exception: name 'rawFileNames' is not defined\n",
      "generated an exception: name 'rawFileNames' is not defined\n",
      "generated an exception: name 'rawFileNames' is not defined\n",
      "generated an exception: name 'rawFileNames' is not defined\n",
      "generated an exception: name 'rawFileNames' is not defined\n",
      "generated an exception: name 'rawFileNames' is not defined\n",
      "generated an exception: name 'rawFileNames' is not defined\n",
      "generated an exception: name 'rawFileNames' is not defined\n",
      "generated an exception: name 'rawFileNames' is not defined\n",
      "generated an exception: name 'rawFileNames' is not defined\n",
      "generated an exception: name 'rawFileNames' is not defined\n",
      "generated an exception: name 'rawFileNames' is not defined\n",
      "generated an exception: name 'rawFileNames' is not defined\n"
     ]
    },
    {
     "name": "stderr",
     "output_type": "stream",
     "text": [
      " 99%|██████████████████████████████████████████████████████████▋| 3200/3217 [04:14<00:01, 13.25it/s]"
     ]
    },
    {
     "name": "stdout",
     "output_type": "stream",
     "text": [
      "generated an exception: name 'rawFileNames' is not defined\n",
      "generated an exception: name 'rawFileNames' is not defined\n",
      "generated an exception: name 'rawFileNames' is not defined\n",
      "generated an exception: name 'rawFileNames' is not defined\n",
      "generated an exception: name 'rawFileNames' is not defined\n",
      "generated an exception: name 'rawFileNames' is not defined\n",
      "generated an exception: name 'rawFileNames' is not defined\n",
      "generated an exception: name 'rawFileNames' is not defined\n",
      "generated an exception: name 'rawFileNames' is not defined\n",
      "generated an exception: name 'rawFileNames' is not defined\n",
      "generated an exception: name 'rawFileNames' is not defined\n",
      "generated an exception: name 'rawFileNames' is not defined\n",
      "generated an exception: name 'rawFileNames' is not defined\n",
      "generated an exception: name 'rawFileNames' is not defined\n",
      "generated an exception: name 'rawFileNames' is not defined\n",
      "generated an exception: name 'rawFileNames' is not defined\n"
     ]
    },
    {
     "name": "stderr",
     "output_type": "stream",
     "text": [
      "100%|██████████████████████████████████████████████████████████▉| 3216/3217 [04:15<00:00, 13.15it/s]"
     ]
    },
    {
     "name": "stdout",
     "output_type": "stream",
     "text": [
      "generated an exception: name 'rawFileNames' is not defined\n",
      "generated an exception: name 'rawFileNames' is not defined\n",
      "generated an exception: name 'rawFileNames' is not defined\n",
      "generated an exception: name 'rawFileNames' is not defined\n",
      "generated an exception: name 'rawFileNames' is not defined\n",
      "generated an exception: name 'rawFileNames' is not defined\n",
      "generated an exception: name 'rawFileNames' is not defined\n",
      "generated an exception: name 'rawFileNames' is not defined\n",
      "generated an exception: name 'rawFileNames' is not defined\n",
      "generated an exception: name 'rawFileNames' is not defined\n",
      "generated an exception: name 'rawFileNames' is not defined\n",
      "generated an exception: name 'rawFileNames' is not defined\n",
      "generated an exception: name 'rawFileNames' is not defined\n",
      "generated an exception: name 'rawFileNames' is not defined\n",
      "generated an exception: name 'rawFileNames' is not defined\n",
      "generated an exception: name 'rawFileNames' is not defined\n"
     ]
    },
    {
     "name": "stderr",
     "output_type": "stream",
     "text": [
      "3232it [04:16, 12.60it/s]"
     ]
    },
    {
     "name": "stdout",
     "output_type": "stream",
     "text": [
      "generated an exception: name 'rawFileNames' is not defined\n",
      "generated an exception: name 'rawFileNames' is not defined\n",
      "generated an exception: name 'rawFileNames' is not defined\n",
      "generated an exception: name 'rawFileNames' is not defined\n",
      "generated an exception: name 'rawFileNames' is not defined\n",
      "generated an exception: name 'rawFileNames' is not defined\n",
      "generated an exception: name 'rawFileNames' is not defined\n",
      "generated an exception: name 'rawFileNames' is not defined\n",
      "generated an exception: name 'rawFileNames' is not defined\n",
      "generated an exception: name 'rawFileNames' is not defined\n",
      "generated an exception: name 'rawFileNames' is not defined\n",
      "generated an exception: name 'rawFileNames' is not defined\n",
      "generated an exception: name 'rawFileNames' is not defined\n",
      "generated an exception: name 'rawFileNames' is not defined\n",
      "generated an exception: name 'rawFileNames' is not defined\n",
      "generated an exception: name 'rawFileNames' is not defined\n",
      "generated an exception: name 'rawFileNames' is not defined\n"
     ]
    },
    {
     "name": "stderr",
     "output_type": "stream",
     "text": [
      "\n"
     ]
    }
   ],
   "source": [
    "train_devices = ['pi3', 'pi4_2G']\n",
    "test_devices = ['pi3', 'pi4_2G']\n",
    "tws = [50, 60]\n",
    "\n",
    "for traindevice in train_devices:\n",
    "    for testdevice in test_devices:    \n",
    "        for tw in tws:\n",
    "            if testdevice == traindevice:\n",
    "                continue\n",
    "            elif traindevice=='pi3' and testdevice=='pi4_2G' and tw==50:\n",
    "                continue\n",
    "            elif traindevice=='pi3' and testdevice=='pi4_2G' and tw==60:\n",
    "                continue\n",
    "            else:\n",
    "                print(testdevice, traindevice, tw)\n",
    "                run(testdevice, traindevice, tw)"
   ]
  },
  {
   "cell_type": "code",
   "execution_count": 3,
   "metadata": {},
   "outputs": [
    {
     "data": {
      "text/plain": [
       "3932"
      ]
     },
     "execution_count": 3,
     "metadata": {},
     "output_type": "execute_result"
    }
   ],
   "source": [
    "tw = 50\n",
    "rawdataPath = rootPath+'data_1/'+str(tw)+'/'\n",
    "# rawdataPath ='F:/temp/{}/'.format(tw)\n",
    "rawFileNames = os.listdir(rawdataPath)\n",
    "len(rawFileNames)"
   ]
  },
  {
   "cell_type": "code",
   "execution_count": 5,
   "metadata": {},
   "outputs": [],
   "source": [
    "rawdatas = dict()\n",
    "for n in range(0,len(rawFileNames),1000):\n",
    "    start = n\n",
    "    if start + 1000 < len(rawFileNames):\n",
    "        end = start + 1000\n",
    "    else:\n",
    "        end = len(rawFileNames)\n",
    "    rawdatas[n] = rawFileNames[start:end]"
   ]
  },
  {
   "cell_type": "code",
   "execution_count": 6,
   "metadata": {},
   "outputs": [],
   "source": [
    "corpus_dataframes, corpuses = {}, {}"
   ]
  },
  {
   "cell_type": "code",
   "execution_count": 8,
   "metadata": {},
   "outputs": [
    {
     "name": "stderr",
     "output_type": "stream",
     "text": [
      "  0%|                                                                      | 0/1000 [00:00<?, ?it/s]C:\\Python39\\lib\\concurrent\\futures\\thread.py:52: DtypeWarning: Columns (3) have mixed types.Specify dtype option on import or set low_memory=False.\n",
      "  result = self.fn(*self.args, **self.kwargs)\n",
      "1008it [02:27,  6.83it/s]\n"
     ]
    },
    {
     "name": "stdout",
     "output_type": "stream",
     "text": [
      "Sub-process(es) done.\n"
     ]
    },
    {
     "name": "stderr",
     "output_type": "stream",
     "text": [
      "1008it [02:48,  5.97it/s]\n"
     ]
    },
    {
     "name": "stdout",
     "output_type": "stream",
     "text": [
      "Sub-process(es) done.\n"
     ]
    },
    {
     "name": "stderr",
     "output_type": "stream",
     "text": [
      "1008it [03:18,  5.08it/s]\n"
     ]
    },
    {
     "name": "stdout",
     "output_type": "stream",
     "text": [
      "Sub-process(es) done.\n"
     ]
    },
    {
     "name": "stderr",
     "output_type": "stream",
     "text": [
      "944it [04:11,  3.76it/s]"
     ]
    },
    {
     "name": "stdout",
     "output_type": "stream",
     "text": [
      "Sub-process(es) done.\n"
     ]
    },
    {
     "name": "stderr",
     "output_type": "stream",
     "text": [
      "\n"
     ]
    }
   ],
   "source": [
    "for rfs in rawdatas:\n",
    "    corpus_dataframe, corpus = [],[]\n",
    "    corpus_dataframe, corpus = read_all_rawdata(corpus_dataframe,corpus, rawdataPath, rawdatas[rfs])\n",
    "    corpus_dataframes[rfs] = corpus_dataframe\n",
    "    corpuses[rfs] = corpus"
   ]
  },
  {
   "cell_type": "code",
   "execution_count": 9,
   "metadata": {},
   "outputs": [],
   "source": [
    "corpus_dataframe, corpus = [],[]\n",
    "for rfs in corpus_dataframes:\n",
    "    corpus_dataframe += corpus_dataframes[rfs]\n",
    "    corpus += corpuses[rfs]"
   ]
  },
  {
   "cell_type": "code",
   "execution_count": 10,
   "metadata": {},
   "outputs": [],
   "source": [
    "dictPath = rootPath +'dicts/pi4_2G/'+str(tw)+'/'\n",
    "\n",
    "loc=open(dictPath+'syscall_dict.pk','rb')\n",
    "syscall_dict = pickle.load(loc)\n",
    "\n",
    "loc=open(dictPath+'syscall_dict_onehot.pk','rb')\n",
    "syscall_dict_onehot = pickle.load(loc)\n",
    "\n",
    "loc=open(dictPath+'ngrams_dict.pk','rb')\n",
    "ngrams_dict = pickle.load(loc)\n",
    "\n",
    "\n",
    "loc=open(dictPath+'countvectorizer.pk','rb')\n",
    "countvectorizer = pickle.load(loc)\n",
    "\n",
    "loc=open(dictPath+'hashingvectorizer.pk','rb')\n",
    "hashingvectorizer = pickle.load(loc)\n",
    "\n",
    "loc=open(dictPath+'tfidfvectorizer.pk','rb')\n",
    "tfidfvectorizer = pickle.load(loc)"
   ]
  },
  {
   "cell_type": "code",
   "execution_count": 11,
   "metadata": {},
   "outputs": [],
   "source": [
    "frequency_features = countvectorizer.transform(corpus)\n",
    "tfidf_features = tfidfvectorizer.transform(corpus)\n",
    "hashing_features = hashingvectorizer.transform(corpus)"
   ]
  },
  {
   "cell_type": "code",
   "execution_count": 21,
   "metadata": {},
   "outputs": [
    {
     "name": "stderr",
     "output_type": "stream",
     "text": [
      "3936it [1:46:53,  1.63s/it]\n"
     ]
    }
   ],
   "source": [
    "one_hot_features, dependency_graph_features, dict_sequence_features = get_sequence_features(corpus_dataframe, syscall_dict, syscall_dict_onehot)"
   ]
  },
  {
   "cell_type": "code",
   "execution_count": 22,
   "metadata": {},
   "outputs": [],
   "source": [
    "maltype = []\n",
    "ids = []\n",
    "for fi in rawFileNames:\n",
    "    fis = fi.split('_')\n",
    "    fn = fis[0]\n",
    "    i = '{}_{}_{}'.format(fis[0], fis[2], fis[3])\n",
    "    maltype.append(fn)\n",
    "    ids.append(i)"
   ]
  },
  {
   "cell_type": "code",
   "execution_count": 23,
   "metadata": {},
   "outputs": [],
   "source": [
    "encoded_trace_df = pd.DataFrame([ids, maltype,frequency_features.toarray() ,tfidf_features.toarray(),hashing_features.toarray(), dependency_graph_features, one_hot_features, dict_sequence_features] ).transpose()\n",
    "encoded_trace_df.columns = ['ids', 'maltype',  'system calls frequency' ,'system calls tfidf','system calls hashing', 'system calls dependency graph', 'one hot encoding', 'dict index encoding']"
   ]
  },
  {
   "cell_type": "code",
   "execution_count": 25,
   "metadata": {},
   "outputs": [],
   "source": [
    "temppath  = rootPath + 'testset/trainpi4_2G_testpi3/'\n",
    "encoded_trace_df.to_pickle(temppath+'test_{}_encoded_bow.pkl'.format(tw))"
   ]
  }
 ],
 "metadata": {
  "interpreter": {
   "hash": "63fd5069d213b44bf678585dea6b12cceca9941eaf7f819626cde1f2670de90d"
  },
  "kernelspec": {
   "display_name": "Python 3.9.6 64-bit",
   "name": "python3"
  },
  "language_info": {
   "codemirror_mode": {
    "name": "ipython",
    "version": 3
   },
   "file_extension": ".py",
   "mimetype": "text/x-python",
   "name": "python",
   "nbconvert_exporter": "python",
   "pygments_lexer": "ipython3",
   "version": "3.9.6"
  },
  "orig_nbformat": 4
 },
 "nbformat": 4,
 "nbformat_minor": 2
}
