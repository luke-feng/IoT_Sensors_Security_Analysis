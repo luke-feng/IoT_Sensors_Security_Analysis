{
 "cells": [
  {
   "cell_type": "code",
   "execution_count": 36,
   "metadata": {},
   "outputs": [],
   "source": [
    "import seaborn as sns\n",
    "%matplotlib inline\n",
    "import pandas as pd\n",
    "import numpy as np\n",
    "import math"
   ]
  },
  {
   "cell_type": "code",
   "execution_count": 212,
   "metadata": {},
   "outputs": [],
   "source": [
    "path = 'D:/mt_data/1126_withrw/encoded/st/'\n",
    "data = path + 'pi3_60_median.csv'"
   ]
  },
  {
   "cell_type": "code",
   "execution_count": 213,
   "metadata": {},
   "outputs": [],
   "source": [
    "data = pd.read_csv(data, index_col=0, header=0)"
   ]
  },
  {
   "cell_type": "code",
   "execution_count": 214,
   "metadata": {},
   "outputs": [],
   "source": [
    "data = pd.DataFrame(np.log2(data+1), index=data.index, columns=data.columns)"
   ]
  },
  {
   "cell_type": "code",
   "execution_count": 215,
   "metadata": {},
   "outputs": [
    {
     "data": {
      "text/html": [
       "<div>\n",
       "<style scoped>\n",
       "    .dataframe tbody tr th:only-of-type {\n",
       "        vertical-align: middle;\n",
       "    }\n",
       "\n",
       "    .dataframe tbody tr th {\n",
       "        vertical-align: top;\n",
       "    }\n",
       "\n",
       "    .dataframe thead th {\n",
       "        text-align: right;\n",
       "    }\n",
       "</style>\n",
       "<table border=\"1\" class=\"dataframe\">\n",
       "  <thead>\n",
       "    <tr style=\"text-align: right;\">\n",
       "      <th></th>\n",
       "      <th>ioctl</th>\n",
       "      <th>timerfd_settime</th>\n",
       "      <th>poll</th>\n",
       "      <th>getpid</th>\n",
       "      <th>write</th>\n",
       "      <th>futex</th>\n",
       "      <th>open</th>\n",
       "      <th>close</th>\n",
       "      <th>read</th>\n",
       "      <th>mkdir</th>\n",
       "      <th>fstat64</th>\n",
       "      <th>getdents</th>\n",
       "      <th>unlink</th>\n",
       "      <th>mprotect</th>\n",
       "      <th>clock_gettime</th>\n",
       "      <th>gettimeofday</th>\n",
       "      <th>madvise</th>\n",
       "    </tr>\n",
       "    <tr>\n",
       "      <th>Type</th>\n",
       "      <th></th>\n",
       "      <th></th>\n",
       "      <th></th>\n",
       "      <th></th>\n",
       "      <th></th>\n",
       "      <th></th>\n",
       "      <th></th>\n",
       "      <th></th>\n",
       "      <th></th>\n",
       "      <th></th>\n",
       "      <th></th>\n",
       "      <th></th>\n",
       "      <th></th>\n",
       "      <th></th>\n",
       "      <th></th>\n",
       "      <th></th>\n",
       "      <th></th>\n",
       "    </tr>\n",
       "  </thead>\n",
       "  <tbody>\n",
       "    <tr>\n",
       "      <th>delay</th>\n",
       "      <td>16.180414</td>\n",
       "      <td>15.537916</td>\n",
       "      <td>14.622281</td>\n",
       "      <td>9.894818</td>\n",
       "      <td>11.163650</td>\n",
       "      <td>4.857981</td>\n",
       "      <td>4.954196</td>\n",
       "      <td>4.700440</td>\n",
       "      <td>3.459432</td>\n",
       "      <td>3.459432</td>\n",
       "      <td>2.584963</td>\n",
       "      <td>3.459432</td>\n",
       "      <td>2.584963</td>\n",
       "      <td>0.0</td>\n",
       "      <td>0.0</td>\n",
       "      <td>0.0</td>\n",
       "      <td>0.0</td>\n",
       "    </tr>\n",
       "    <tr>\n",
       "      <th>disorder</th>\n",
       "      <td>16.158452</td>\n",
       "      <td>15.516162</td>\n",
       "      <td>14.601481</td>\n",
       "      <td>9.870365</td>\n",
       "      <td>10.560333</td>\n",
       "      <td>5.000000</td>\n",
       "      <td>3.700440</td>\n",
       "      <td>3.700440</td>\n",
       "      <td>4.392317</td>\n",
       "      <td>0.000000</td>\n",
       "      <td>0.000000</td>\n",
       "      <td>0.000000</td>\n",
       "      <td>0.000000</td>\n",
       "      <td>0.0</td>\n",
       "      <td>0.0</td>\n",
       "      <td>0.0</td>\n",
       "      <td>0.0</td>\n",
       "    </tr>\n",
       "    <tr>\n",
       "      <th>freeze</th>\n",
       "      <td>16.123192</td>\n",
       "      <td>15.480727</td>\n",
       "      <td>14.562242</td>\n",
       "      <td>9.836050</td>\n",
       "      <td>9.896332</td>\n",
       "      <td>5.209453</td>\n",
       "      <td>8.647458</td>\n",
       "      <td>8.647458</td>\n",
       "      <td>9.645658</td>\n",
       "      <td>8.647458</td>\n",
       "      <td>0.000000</td>\n",
       "      <td>0.000000</td>\n",
       "      <td>0.000000</td>\n",
       "      <td>0.0</td>\n",
       "      <td>0.0</td>\n",
       "      <td>0.0</td>\n",
       "      <td>0.0</td>\n",
       "    </tr>\n",
       "    <tr>\n",
       "      <th>hop</th>\n",
       "      <td>16.177614</td>\n",
       "      <td>15.534576</td>\n",
       "      <td>14.616606</td>\n",
       "      <td>9.890264</td>\n",
       "      <td>9.968667</td>\n",
       "      <td>5.169925</td>\n",
       "      <td>0.000000</td>\n",
       "      <td>0.000000</td>\n",
       "      <td>11.322492</td>\n",
       "      <td>0.000000</td>\n",
       "      <td>0.000000</td>\n",
       "      <td>0.000000</td>\n",
       "      <td>0.000000</td>\n",
       "      <td>0.0</td>\n",
       "      <td>0.0</td>\n",
       "      <td>0.0</td>\n",
       "      <td>0.0</td>\n",
       "    </tr>\n",
       "    <tr>\n",
       "      <th>mimic</th>\n",
       "      <td>16.174692</td>\n",
       "      <td>15.532752</td>\n",
       "      <td>14.614825</td>\n",
       "      <td>9.888743</td>\n",
       "      <td>11.157347</td>\n",
       "      <td>4.954196</td>\n",
       "      <td>3.459432</td>\n",
       "      <td>3.459432</td>\n",
       "      <td>3.459432</td>\n",
       "      <td>2.584963</td>\n",
       "      <td>0.000000</td>\n",
       "      <td>0.000000</td>\n",
       "      <td>0.000000</td>\n",
       "      <td>0.0</td>\n",
       "      <td>0.0</td>\n",
       "      <td>0.0</td>\n",
       "      <td>0.0</td>\n",
       "    </tr>\n",
       "    <tr>\n",
       "      <th>noise</th>\n",
       "      <td>16.170531</td>\n",
       "      <td>15.528301</td>\n",
       "      <td>14.612350</td>\n",
       "      <td>9.884171</td>\n",
       "      <td>9.972980</td>\n",
       "      <td>4.906891</td>\n",
       "      <td>0.000000</td>\n",
       "      <td>0.000000</td>\n",
       "      <td>11.322492</td>\n",
       "      <td>0.000000</td>\n",
       "      <td>0.000000</td>\n",
       "      <td>0.000000</td>\n",
       "      <td>0.000000</td>\n",
       "      <td>0.0</td>\n",
       "      <td>0.0</td>\n",
       "      <td>0.0</td>\n",
       "      <td>0.0</td>\n",
       "    </tr>\n",
       "    <tr>\n",
       "      <th>normal</th>\n",
       "      <td>16.139571</td>\n",
       "      <td>15.496885</td>\n",
       "      <td>14.579846</td>\n",
       "      <td>9.854868</td>\n",
       "      <td>9.942515</td>\n",
       "      <td>4.643856</td>\n",
       "      <td>0.000000</td>\n",
       "      <td>0.000000</td>\n",
       "      <td>0.000000</td>\n",
       "      <td>0.000000</td>\n",
       "      <td>0.000000</td>\n",
       "      <td>0.000000</td>\n",
       "      <td>0.000000</td>\n",
       "      <td>0.0</td>\n",
       "      <td>0.0</td>\n",
       "      <td>0.0</td>\n",
       "      <td>0.0</td>\n",
       "    </tr>\n",
       "    <tr>\n",
       "      <th>normalv2</th>\n",
       "      <td>16.119650</td>\n",
       "      <td>15.477727</td>\n",
       "      <td>14.561228</td>\n",
       "      <td>9.834471</td>\n",
       "      <td>9.917372</td>\n",
       "      <td>4.807355</td>\n",
       "      <td>0.000000</td>\n",
       "      <td>0.000000</td>\n",
       "      <td>0.000000</td>\n",
       "      <td>0.000000</td>\n",
       "      <td>0.000000</td>\n",
       "      <td>0.000000</td>\n",
       "      <td>0.000000</td>\n",
       "      <td>0.0</td>\n",
       "      <td>0.0</td>\n",
       "      <td>0.0</td>\n",
       "      <td>0.0</td>\n",
       "    </tr>\n",
       "    <tr>\n",
       "      <th>repeat</th>\n",
       "      <td>16.133283</td>\n",
       "      <td>15.491101</td>\n",
       "      <td>14.580376</td>\n",
       "      <td>9.845490</td>\n",
       "      <td>9.960002</td>\n",
       "      <td>4.523562</td>\n",
       "      <td>8.647458</td>\n",
       "      <td>8.647458</td>\n",
       "      <td>9.645658</td>\n",
       "      <td>8.647458</td>\n",
       "      <td>0.000000</td>\n",
       "      <td>0.000000</td>\n",
       "      <td>0.000000</td>\n",
       "      <td>0.0</td>\n",
       "      <td>0.0</td>\n",
       "      <td>0.0</td>\n",
       "      <td>0.0</td>\n",
       "    </tr>\n",
       "    <tr>\n",
       "      <th>spoof</th>\n",
       "      <td>16.168437</td>\n",
       "      <td>15.526346</td>\n",
       "      <td>14.611082</td>\n",
       "      <td>9.882643</td>\n",
       "      <td>11.171802</td>\n",
       "      <td>4.584963</td>\n",
       "      <td>3.459432</td>\n",
       "      <td>3.459432</td>\n",
       "      <td>11.333714</td>\n",
       "      <td>2.584963</td>\n",
       "      <td>0.000000</td>\n",
       "      <td>0.000000</td>\n",
       "      <td>0.000000</td>\n",
       "      <td>0.0</td>\n",
       "      <td>0.0</td>\n",
       "      <td>0.0</td>\n",
       "      <td>0.0</td>\n",
       "    </tr>\n",
       "  </tbody>\n",
       "</table>\n",
       "</div>"
      ],
      "text/plain": [
       "              ioctl  timerfd_settime       poll    getpid      write  \\\n",
       "Type                                                                   \n",
       "delay     16.180414        15.537916  14.622281  9.894818  11.163650   \n",
       "disorder  16.158452        15.516162  14.601481  9.870365  10.560333   \n",
       "freeze    16.123192        15.480727  14.562242  9.836050   9.896332   \n",
       "hop       16.177614        15.534576  14.616606  9.890264   9.968667   \n",
       "mimic     16.174692        15.532752  14.614825  9.888743  11.157347   \n",
       "noise     16.170531        15.528301  14.612350  9.884171   9.972980   \n",
       "normal    16.139571        15.496885  14.579846  9.854868   9.942515   \n",
       "normalv2  16.119650        15.477727  14.561228  9.834471   9.917372   \n",
       "repeat    16.133283        15.491101  14.580376  9.845490   9.960002   \n",
       "spoof     16.168437        15.526346  14.611082  9.882643  11.171802   \n",
       "\n",
       "             futex      open     close       read     mkdir   fstat64  \\\n",
       "Type                                                                    \n",
       "delay     4.857981  4.954196  4.700440   3.459432  3.459432  2.584963   \n",
       "disorder  5.000000  3.700440  3.700440   4.392317  0.000000  0.000000   \n",
       "freeze    5.209453  8.647458  8.647458   9.645658  8.647458  0.000000   \n",
       "hop       5.169925  0.000000  0.000000  11.322492  0.000000  0.000000   \n",
       "mimic     4.954196  3.459432  3.459432   3.459432  2.584963  0.000000   \n",
       "noise     4.906891  0.000000  0.000000  11.322492  0.000000  0.000000   \n",
       "normal    4.643856  0.000000  0.000000   0.000000  0.000000  0.000000   \n",
       "normalv2  4.807355  0.000000  0.000000   0.000000  0.000000  0.000000   \n",
       "repeat    4.523562  8.647458  8.647458   9.645658  8.647458  0.000000   \n",
       "spoof     4.584963  3.459432  3.459432  11.333714  2.584963  0.000000   \n",
       "\n",
       "          getdents    unlink  mprotect  clock_gettime  gettimeofday  madvise  \n",
       "Type                                                                          \n",
       "delay     3.459432  2.584963       0.0            0.0           0.0      0.0  \n",
       "disorder  0.000000  0.000000       0.0            0.0           0.0      0.0  \n",
       "freeze    0.000000  0.000000       0.0            0.0           0.0      0.0  \n",
       "hop       0.000000  0.000000       0.0            0.0           0.0      0.0  \n",
       "mimic     0.000000  0.000000       0.0            0.0           0.0      0.0  \n",
       "noise     0.000000  0.000000       0.0            0.0           0.0      0.0  \n",
       "normal    0.000000  0.000000       0.0            0.0           0.0      0.0  \n",
       "normalv2  0.000000  0.000000       0.0            0.0           0.0      0.0  \n",
       "repeat    0.000000  0.000000       0.0            0.0           0.0      0.0  \n",
       "spoof     0.000000  0.000000       0.0            0.0           0.0      0.0  "
      ]
     },
     "execution_count": 215,
     "metadata": {},
     "output_type": "execute_result"
    }
   ],
   "source": [
    "data"
   ]
  },
  {
   "cell_type": "code",
   "execution_count": 216,
   "metadata": {},
   "outputs": [
    {
     "data": {
      "text/plain": [
       "<AxesSubplot:ylabel='Type'>"
      ]
     },
     "execution_count": 216,
     "metadata": {},
     "output_type": "execute_result"
    },
    {
     "data": {
      "image/png": "[encoded data removed]",
      "text/plain": [
       "<Figure size 720x1224 with 2 Axes>"
      ]
     },
     "metadata": {},
     "output_type": "display_data"
    }
   ],
   "source": [
    "sns.set(font_scale=1.5, font='sans-serif',  )\n",
    "sns.set_context({\"figure.figsize\":(10,17)})\n",
    "sns.heatmap(data=data,square=True, cmap=\"GnBu\",vmin=0,cbar_kws={\"orientation\":\"horizontal\"},linewidths=0.1) "
   ]
  },
  {
   "cell_type": "code",
   "execution_count": 217,
   "metadata": {},
   "outputs": [],
   "source": [
    "import plotly.express as px"
   ]
  },
  {
   "cell_type": "code",
   "execution_count": 218,
   "metadata": {},
   "outputs": [
    {
     "data": {
      "application/vnd.plotly.v1+json": {
       "config": {
        "plotlyServerURL": "https://plot.ly"
       },
       "data": [
        {
         "coloraxis": "coloraxis",
         "hovertemplate": "x: %{x}<br>Type: %{y}<br>color: %{z}<extra></extra>",
         "name": "0",
         "type": "heatmap",
         "x": [
          "ioctl",
          "timerfd_settime",
          "poll",
          "getpid",
          "write",
          "futex",
          "open",
          "close",
          "read",
          "mkdir",
          "fstat64",
          "getdents",
          "unlink",
          "mprotect",
          "clock_gettime",
          "gettimeofday",
          "madvise"
         ],
         "xaxis": "x",
         "y": [
          "delay",
          "disorder",
          "freeze",
          "hop",
          "mimic",
          "noise",
          "normal",
          "normalv2",
          "repeat",
          "spoof"
         ],
         "yaxis": "y",
         "z": [
          [
           16.180414255751625,
           15.537916036048747,
           14.622280655215583,
           9.894817763307943,
           11.163649676015824,
           4.857980995127572,
           4.954196310386875,
           4.700439718141092,
           3.4594316186372973,
           3.4594316186372973,
           2.584962500721156,
           3.4594316186372973,
           2.584962500721156,
           0,
           0,
           0,
           0
          ],
          [
           16.15845190453839,
           15.516161692832561,
           14.601480641987392,
           9.870364719583405,
           10.560332834212442,
           5,
           3.700439718141092,
           3.700439718141092,
           4.392317422778761,
           0,
           0,
           0,
           0,
           0,
           0,
           0,
           0
          ],
          [
           16.123191857421318,
           15.480727100737555,
           14.562242424221072,
           9.83605035505807,
           9.896332403909941,
           5.20945336562895,
           8.64745842645492,
           8.64745842645492,
           9.64565843240871,
           8.64745842645492,
           0,
           0,
           0,
           0,
           0,
           0,
           0
          ],
          [
           16.17761418901978,
           15.534576462703615,
           14.616606274763289,
           9.89026427702111,
           9.968666793195208,
           5.169925001442312,
           0,
           0,
           11.322491537597468,
           0,
           0,
           0,
           0,
           0,
           0,
           0,
           0
          ],
          [
           16.174691662379445,
           15.532751613668209,
           14.614824850296534,
           9.888743248898258,
           11.157346935362844,
           4.954196310386875,
           3.4594316186372973,
           3.4594316186372973,
           3.4594316186372973,
           2.584962500721156,
           0,
           0,
           0,
           0,
           0,
           0,
           0
          ],
          [
           16.170531475869566,
           15.528301481770551,
           14.612350194773919,
           9.884170519108435,
           9.972979786066292,
           4.906890595608519,
           0,
           0,
           11.322491537597468,
           0,
           0,
           0,
           0,
           0,
           0,
           0,
           0
          ],
          [
           16.13957133640047,
           15.496884977202942,
           14.57984624269199,
           9.854868383260236,
           9.94251450533924,
           4.643856189774724,
           0,
           0,
           0,
           0,
           0,
           0,
           0,
           0,
           0,
           0,
           0
          ],
          [
           16.119650407172916,
           15.477726650234889,
           14.561228269251567,
           9.834471049984222,
           9.917372079476841,
           4.807354922057604,
           0,
           0,
           0,
           0,
           0,
           0,
           0,
           0,
           0,
           0,
           0
          ],
          [
           16.133282717375096,
           15.491101496916537,
           14.580376352946306,
           9.845490050944376,
           9.960001932068081,
           4.523561956057013,
           8.64745842645492,
           8.64745842645492,
           9.64565843240871,
           8.64745842645492,
           0,
           0,
           0,
           0,
           0,
           0,
           0
          ],
          [
           16.16843708133339,
           15.526346403176797,
           14.611082448610718,
           9.88264304936184,
           11.171802288682983,
           4.584962500721156,
           3.4594316186372973,
           3.4594316186372973,
           11.33371442609397,
           2.584962500721156,
           0,
           0,
           0,
           0,
           0,
           0,
           0
          ]
         ]
        }
       ],
       "layout": {
        "coloraxis": {
         "colorscale": [
          [
           0,
           "rgb(5,48,97)"
          ],
          [
           0.1,
           "rgb(33,102,172)"
          ],
          [
           0.2,
           "rgb(67,147,195)"
          ],
          [
           0.3,
           "rgb(146,197,222)"
          ],
          [
           0.4,
           "rgb(209,229,240)"
          ],
          [
           0.5,
           "rgb(247,247,247)"
          ],
          [
           0.6,
           "rgb(253,219,199)"
          ],
          [
           0.7,
           "rgb(244,165,130)"
          ],
          [
           0.8,
           "rgb(214,96,77)"
          ],
          [
           0.9,
           "rgb(178,24,43)"
          ],
          [
           1,
           "rgb(103,0,31)"
          ]
         ]
        },
        "margin": {
         "t": 60
        },
        "template": {
         "data": {
          "bar": [
           {
            "error_x": {
             "color": "#2a3f5f"
            },
            "error_y": {
             "color": "#2a3f5f"
            },
            "marker": {
             "line": {
              "color": "#E5ECF6",
              "width": 0.5
             },
             "pattern": {
              "fillmode": "overlay",
              "size": 10,
              "solidity": 0.2
             }
            },
            "type": "bar"
           }
          ],
          "barpolar": [
           {
            "marker": {
             "line": {
              "color": "#E5ECF6",
              "width": 0.5
             },
             "pattern": {
              "fillmode": "overlay",
              "size": 10,
              "solidity": 0.2
             }
            },
            "type": "barpolar"
           }
          ],
          "carpet": [
           {
            "aaxis": {
             "endlinecolor": "#2a3f5f",
             "gridcolor": "white",
             "linecolor": "white",
             "minorgridcolor": "white",
             "startlinecolor": "#2a3f5f"
            },
            "baxis": {
             "endlinecolor": "#2a3f5f",
             "gridcolor": "white",
             "linecolor": "white",
             "minorgridcolor": "white",
             "startlinecolor": "#2a3f5f"
            },
            "type": "carpet"
           }
          ],
          "choropleth": [
           {
            "colorbar": {
             "outlinewidth": 0,
             "ticks": ""
            },
            "type": "choropleth"
           }
          ],
          "contour": [
           {
            "colorbar": {
             "outlinewidth": 0,
             "ticks": ""
            },
            "colorscale": [
             [
              0,
              "#0d0887"
             ],
             [
              0.1111111111111111,
              "#46039f"
             ],
             [
              0.2222222222222222,
              "#7201a8"
             ],
             [
              0.3333333333333333,
              "#9c179e"
             ],
             [
              0.4444444444444444,
              "#bd3786"
             ],
             [
              0.5555555555555556,
              "#d8576b"
             ],
             [
              0.6666666666666666,
              "#ed7953"
             ],
             [
              0.7777777777777778,
              "#fb9f3a"
             ],
             [
              0.8888888888888888,
              "#fdca26"
             ],
             [
              1,
              "#f0f921"
             ]
            ],
            "type": "contour"
           }
          ],
          "contourcarpet": [
           {
            "colorbar": {
             "outlinewidth": 0,
             "ticks": ""
            },
            "type": "contourcarpet"
           }
          ],
          "heatmap": [
           {
            "colorbar": {
             "outlinewidth": 0,
             "ticks": ""
            },
            "colorscale": [
             [
              0,
              "#0d0887"
             ],
             [
              0.1111111111111111,
              "#46039f"
             ],
             [
              0.2222222222222222,
              "#7201a8"
             ],
             [
              0.3333333333333333,
              "#9c179e"
             ],
             [
              0.4444444444444444,
              "#bd3786"
             ],
             [
              0.5555555555555556,
              "#d8576b"
             ],
             [
              0.6666666666666666,
              "#ed7953"
             ],
             [
              0.7777777777777778,
              "#fb9f3a"
             ],
             [
              0.8888888888888888,
              "#fdca26"
             ],
             [
              1,
              "#f0f921"
             ]
            ],
            "type": "heatmap"
           }
          ],
          "heatmapgl": [
           {
            "colorbar": {
             "outlinewidth": 0,
             "ticks": ""
            },
            "colorscale": [
             [
              0,
              "#0d0887"
             ],
             [
              0.1111111111111111,
              "#46039f"
             ],
             [
              0.2222222222222222,
              "#7201a8"
             ],
             [
              0.3333333333333333,
              "#9c179e"
             ],
             [
              0.4444444444444444,
              "#bd3786"
             ],
             [
              0.5555555555555556,
              "#d8576b"
             ],
             [
              0.6666666666666666,
              "#ed7953"
             ],
             [
              0.7777777777777778,
              "#fb9f3a"
             ],
             [
              0.8888888888888888,
              "#fdca26"
             ],
             [
              1,
              "#f0f921"
             ]
            ],
            "type": "heatmapgl"
           }
          ],
          "histogram": [
           {
            "marker": {
             "pattern": {
              "fillmode": "overlay",
              "size": 10,
              "solidity": 0.2
             }
            },
            "type": "histogram"
           }
          ],
          "histogram2d": [
           {
            "colorbar": {
             "outlinewidth": 0,
             "ticks": ""
            },
            "colorscale": [
             [
              0,
              "#0d0887"
             ],
             [
              0.1111111111111111,
              "#46039f"
             ],
             [
              0.2222222222222222,
              "#7201a8"
             ],
             [
              0.3333333333333333,
              "#9c179e"
             ],
             [
              0.4444444444444444,
              "#bd3786"
             ],
             [
              0.5555555555555556,
              "#d8576b"
             ],
             [
              0.6666666666666666,
              "#ed7953"
             ],
             [
              0.7777777777777778,
              "#fb9f3a"
             ],
             [
              0.8888888888888888,
              "#fdca26"
             ],
             [
              1,
              "#f0f921"
             ]
            ],
            "type": "histogram2d"
           }
          ],
          "histogram2dcontour": [
           {
            "colorbar": {
             "outlinewidth": 0,
             "ticks": ""
            },
            "colorscale": [
             [
              0,
              "#0d0887"
             ],
             [
              0.1111111111111111,
              "#46039f"
             ],
             [
              0.2222222222222222,
              "#7201a8"
             ],
             [
              0.3333333333333333,
              "#9c179e"
             ],
             [
              0.4444444444444444,
              "#bd3786"
             ],
             [
              0.5555555555555556,
              "#d8576b"
             ],
             [
              0.6666666666666666,
              "#ed7953"
             ],
             [
              0.7777777777777778,
              "#fb9f3a"
             ],
             [
              0.8888888888888888,
              "#fdca26"
             ],
             [
              1,
              "#f0f921"
             ]
            ],
            "type": "histogram2dcontour"
           }
          ],
          "mesh3d": [
           {
            "colorbar": {
             "outlinewidth": 0,
             "ticks": ""
            },
            "type": "mesh3d"
           }
          ],
          "parcoords": [
           {
            "line": {
             "colorbar": {
              "outlinewidth": 0,
              "ticks": ""
             }
            },
            "type": "parcoords"
           }
          ],
          "pie": [
           {
            "automargin": true,
            "type": "pie"
           }
          ],
          "scatter": [
           {
            "marker": {
             "colorbar": {
              "outlinewidth": 0,
              "ticks": ""
             }
            },
            "type": "scatter"
           }
          ],
          "scatter3d": [
           {
            "line": {
             "colorbar": {
              "outlinewidth": 0,
              "ticks": ""
             }
            },
            "marker": {
             "colorbar": {
              "outlinewidth": 0,
              "ticks": ""
             }
            },
            "type": "scatter3d"
           }
          ],
          "scattercarpet": [
           {
            "marker": {
             "colorbar": {
              "outlinewidth": 0,
              "ticks": ""
             }
            },
            "type": "scattercarpet"
           }
          ],
          "scattergeo": [
           {
            "marker": {
             "colorbar": {
              "outlinewidth": 0,
              "ticks": ""
             }
            },
            "type": "scattergeo"
           }
          ],
          "scattergl": [
           {
            "marker": {
             "colorbar": {
              "outlinewidth": 0,
              "ticks": ""
             }
            },
            "type": "scattergl"
           }
          ],
          "scattermapbox": [
           {
            "marker": {
             "colorbar": {
              "outlinewidth": 0,
              "ticks": ""
             }
            },
            "type": "scattermapbox"
           }
          ],
          "scatterpolar": [
           {
            "marker": {
             "colorbar": {
              "outlinewidth": 0,
              "ticks": ""
             }
            },
            "type": "scatterpolar"
           }
          ],
          "scatterpolargl": [
           {
            "marker": {
             "colorbar": {
              "outlinewidth": 0,
              "ticks": ""
             }
            },
            "type": "scatterpolargl"
           }
          ],
          "scatterternary": [
           {
            "marker": {
             "colorbar": {
              "outlinewidth": 0,
              "ticks": ""
             }
            },
            "type": "scatterternary"
           }
          ],
          "surface": [
           {
            "colorbar": {
             "outlinewidth": 0,
             "ticks": ""
            },
            "colorscale": [
             [
              0,
              "#0d0887"
             ],
             [
              0.1111111111111111,
              "#46039f"
             ],
             [
              0.2222222222222222,
              "#7201a8"
             ],
             [
              0.3333333333333333,
              "#9c179e"
             ],
             [
              0.4444444444444444,
              "#bd3786"
             ],
             [
              0.5555555555555556,
              "#d8576b"
             ],
             [
              0.6666666666666666,
              "#ed7953"
             ],
             [
              0.7777777777777778,
              "#fb9f3a"
             ],
             [
              0.8888888888888888,
              "#fdca26"
             ],
             [
              1,
              "#f0f921"
             ]
            ],
            "type": "surface"
           }
          ],
          "table": [
           {
            "cells": {
             "fill": {
              "color": "#EBF0F8"
             },
             "line": {
              "color": "white"
             }
            },
            "header": {
             "fill": {
              "color": "#C8D4E3"
             },
             "line": {
              "color": "white"
             }
            },
            "type": "table"
           }
          ]
         },
         "layout": {
          "annotationdefaults": {
           "arrowcolor": "#2a3f5f",
           "arrowhead": 0,
           "arrowwidth": 1
          },
          "autotypenumbers": "strict",
          "coloraxis": {
           "colorbar": {
            "outlinewidth": 0,
            "ticks": ""
           }
          },
          "colorscale": {
           "diverging": [
            [
             0,
             "#8e0152"
            ],
            [
             0.1,
             "#c51b7d"
            ],
            [
             0.2,
             "#de77ae"
            ],
            [
             0.3,
             "#f1b6da"
            ],
            [
             0.4,
             "#fde0ef"
            ],
            [
             0.5,
             "#f7f7f7"
            ],
            [
             0.6,
             "#e6f5d0"
            ],
            [
             0.7,
             "#b8e186"
            ],
            [
             0.8,
             "#7fbc41"
            ],
            [
             0.9,
             "#4d9221"
            ],
            [
             1,
             "#276419"
            ]
           ],
           "sequential": [
            [
             0,
             "#0d0887"
            ],
            [
             0.1111111111111111,
             "#46039f"
            ],
            [
             0.2222222222222222,
             "#7201a8"
            ],
            [
             0.3333333333333333,
             "#9c179e"
            ],
            [
             0.4444444444444444,
             "#bd3786"
            ],
            [
             0.5555555555555556,
             "#d8576b"
            ],
            [
             0.6666666666666666,
             "#ed7953"
            ],
            [
             0.7777777777777778,
             "#fb9f3a"
            ],
            [
             0.8888888888888888,
             "#fdca26"
            ],
            [
             1,
             "#f0f921"
            ]
           ],
           "sequentialminus": [
            [
             0,
             "#0d0887"
            ],
            [
             0.1111111111111111,
             "#46039f"
            ],
            [
             0.2222222222222222,
             "#7201a8"
            ],
            [
             0.3333333333333333,
             "#9c179e"
            ],
            [
             0.4444444444444444,
             "#bd3786"
            ],
            [
             0.5555555555555556,
             "#d8576b"
            ],
            [
             0.6666666666666666,
             "#ed7953"
            ],
            [
             0.7777777777777778,
             "#fb9f3a"
            ],
            [
             0.8888888888888888,
             "#fdca26"
            ],
            [
             1,
             "#f0f921"
            ]
           ]
          },
          "colorway": [
           "#636efa",
           "#EF553B",
           "#00cc96",
           "#ab63fa",
           "#FFA15A",
           "#19d3f3",
           "#FF6692",
           "#B6E880",
           "#FF97FF",
           "#FECB52"
          ],
          "font": {
           "color": "#2a3f5f"
          },
          "geo": {
           "bgcolor": "white",
           "lakecolor": "white",
           "landcolor": "#E5ECF6",
           "showlakes": true,
           "showland": true,
           "subunitcolor": "white"
          },
          "hoverlabel": {
           "align": "left"
          },
          "hovermode": "closest",
          "mapbox": {
           "style": "light"
          },
          "paper_bgcolor": "white",
          "plot_bgcolor": "#E5ECF6",
          "polar": {
           "angularaxis": {
            "gridcolor": "white",
            "linecolor": "white",
            "ticks": ""
           },
           "bgcolor": "#E5ECF6",
           "radialaxis": {
            "gridcolor": "white",
            "linecolor": "white",
            "ticks": ""
           }
          },
          "scene": {
           "xaxis": {
            "backgroundcolor": "#E5ECF6",
            "gridcolor": "white",
            "gridwidth": 2,
            "linecolor": "white",
            "showbackground": true,
            "ticks": "",
            "zerolinecolor": "white"
           },
           "yaxis": {
            "backgroundcolor": "#E5ECF6",
            "gridcolor": "white",
            "gridwidth": 2,
            "linecolor": "white",
            "showbackground": true,
            "ticks": "",
            "zerolinecolor": "white"
           },
           "zaxis": {
            "backgroundcolor": "#E5ECF6",
            "gridcolor": "white",
            "gridwidth": 2,
            "linecolor": "white",
            "showbackground": true,
            "ticks": "",
            "zerolinecolor": "white"
           }
          },
          "shapedefaults": {
           "line": {
            "color": "#2a3f5f"
           }
          },
          "ternary": {
           "aaxis": {
            "gridcolor": "white",
            "linecolor": "white",
            "ticks": ""
           },
           "baxis": {
            "gridcolor": "white",
            "linecolor": "white",
            "ticks": ""
           },
           "bgcolor": "#E5ECF6",
           "caxis": {
            "gridcolor": "white",
            "linecolor": "white",
            "ticks": ""
           }
          },
          "title": {
           "x": 0.05
          },
          "xaxis": {
           "automargin": true,
           "gridcolor": "white",
           "linecolor": "white",
           "ticks": "",
           "title": {
            "standoff": 15
           },
           "zerolinecolor": "white",
           "zerolinewidth": 2
          },
          "yaxis": {
           "automargin": true,
           "gridcolor": "white",
           "linecolor": "white",
           "ticks": "",
           "title": {
            "standoff": 15
           },
           "zerolinecolor": "white",
           "zerolinewidth": 2
          }
         }
        },
        "xaxis": {
         "anchor": "y",
         "constrain": "domain",
         "domain": [
          0,
          1
         ],
         "scaleanchor": "y"
        },
        "yaxis": {
         "anchor": "x",
         "autorange": true,
         "constrain": "domain",
         "domain": [
          0,
          1
         ],
         "title": {
          "text": "Type"
         }
        }
       }
      }
     },
     "metadata": {},
     "output_type": "display_data"
    }
   ],
   "source": [
    "fig = px.imshow(data, color_continuous_scale='RdBu_r', origin='lower')\n",
    "fig.show()"
   ]
  }
 ],
 "metadata": {
  "interpreter": {
   "hash": "63fd5069d213b44bf678585dea6b12cceca9941eaf7f819626cde1f2670de90d"
  },
  "kernelspec": {
   "display_name": "Python 3.9.6 64-bit",
   "language": "python",
   "name": "python3"
  },
  "language_info": {
   "codemirror_mode": {
    "name": "ipython",
    "version": 3
   },
   "file_extension": ".py",
   "mimetype": "text/x-python",
   "name": "python",
   "nbconvert_exporter": "python",
   "pygments_lexer": "ipython3",
   "version": "3.9.6"
  },
  "orig_nbformat": 4
 },
 "nbformat": 4,
 "nbformat_minor": 2
}
