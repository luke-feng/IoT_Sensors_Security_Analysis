{
 "cells": [
  {
   "cell_type": "code",
   "execution_count": 1,
   "metadata": {},
   "outputs": [],
   "source": [
    "import re\n",
    "import pandas as pd\n",
    "import nltk\n",
    "from sklearn.feature_extraction.text import TfidfVectorizer, CountVectorizer, HashingVectorizer\n",
    "import os,sys\n",
    "import tqdm\n",
    "import pickle\n",
    "import copy\n",
    "import ast\n",
    "import numpy as np"
   ]
  },
  {
   "cell_type": "code",
   "execution_count": 25,
   "metadata": {},
   "outputs": [],
   "source": [
    "rootPath = 'f:/temp/'  \n",
    "encoded_path = rootPath+'encoded/t1/'"
   ]
  },
  {
   "cell_type": "code",
   "execution_count": 20,
   "metadata": {},
   "outputs": [],
   "source": [
    "dataPath = 'f:/temp/'  \n",
    "encoded_path = rootPath+'encoded/t1/'"
   ]
  },
  {
   "cell_type": "code",
   "execution_count": 28,
   "metadata": {},
   "outputs": [],
   "source": [
    "devices = [  'pi4_2G', 'pi4_4G']\n",
    "tw = 60"
   ]
  },
  {
   "cell_type": "code",
   "execution_count": 26,
   "metadata": {},
   "outputs": [],
   "source": [
    "dictPath = rootPath +'/60/'\n",
    "loc=open(dictPath+'ngrams_dict_ngram1.pk','rb')\n",
    "gram_1 = pickle.load(loc)\n",
    "dict_to_ngram = dict()\n",
    "for key in gram_1:\n",
    "    if key == 'unk':\n",
    "        continue\n",
    "    dict_to_ngram[gram_1[key]] = key"
   ]
  },
  {
   "cell_type": "code",
   "execution_count": 27,
   "metadata": {},
   "outputs": [],
   "source": [
    "malwares=[\"delay\", \"disorder\", \"freeze\", \"hop\", \"mimic\", \"noise\", \"repeat\", \"spoof\"]"
   ]
  },
  {
   "cell_type": "code",
   "execution_count": 12,
   "metadata": {},
   "outputs": [],
   "source": [
    "a = np.zeros(10)"
   ]
  },
  {
   "cell_type": "code",
   "execution_count": 18,
   "metadata": {},
   "outputs": [],
   "source": [
    "feature = 'system calls frequency_1gram'"
   ]
  },
  {
   "cell_type": "code",
   "execution_count": 13,
   "metadata": {},
   "outputs": [
    {
     "ename": "FileNotFoundError",
     "evalue": "[Errno 2] No such file or directory: 'f:/temp/encoded_bowpi4_2G_60_system calls frequency_1gram.csv'",
     "output_type": "error",
     "traceback": [
      "\u001b[1;31m---------------------------------------------------------------------------\u001b[0m",
      "\u001b[1;31mFileNotFoundError\u001b[0m                         Traceback (most recent call last)",
      "\u001b[1;32m~\\AppData\\Local\\Temp/ipykernel_19484/3464070644.py\u001b[0m in \u001b[0;36m<module>\u001b[1;34m\u001b[0m\n\u001b[0;32m      2\u001b[0m \u001b[0mfeature\u001b[0m \u001b[1;33m=\u001b[0m \u001b[1;34m'system calls frequency_1gram'\u001b[0m\u001b[1;33m\u001b[0m\u001b[1;33m\u001b[0m\u001b[0m\n\u001b[0;32m      3\u001b[0m \u001b[0mtsv_name\u001b[0m \u001b[1;33m=\u001b[0m \u001b[0mdataPath\u001b[0m\u001b[1;33m+\u001b[0m\u001b[1;34m'encoded_bow{}_{}_{}.csv'\u001b[0m\u001b[1;33m.\u001b[0m\u001b[0mformat\u001b[0m\u001b[1;33m(\u001b[0m\u001b[1;34m'pi4_2G'\u001b[0m\u001b[1;33m,\u001b[0m \u001b[0mtw\u001b[0m\u001b[1;33m,\u001b[0m \u001b[0mfeature\u001b[0m\u001b[1;33m)\u001b[0m\u001b[1;33m\u001b[0m\u001b[1;33m\u001b[0m\u001b[0m\n\u001b[1;32m----> 4\u001b[1;33m \u001b[0mencoded_trace_df\u001b[0m \u001b[1;33m=\u001b[0m \u001b[0mpd\u001b[0m\u001b[1;33m.\u001b[0m\u001b[0mread_csv\u001b[0m\u001b[1;33m(\u001b[0m\u001b[0mtsv_name\u001b[0m\u001b[1;33m,\u001b[0m \u001b[0msep\u001b[0m\u001b[1;33m=\u001b[0m\u001b[1;34m'\\t'\u001b[0m\u001b[1;33m)\u001b[0m\u001b[1;33m\u001b[0m\u001b[1;33m\u001b[0m\u001b[0m\n\u001b[0m\u001b[0;32m      5\u001b[0m \u001b[0mft\u001b[0m \u001b[1;33m=\u001b[0m \u001b[1;33m[\u001b[0m\u001b[0mast\u001b[0m\u001b[1;33m.\u001b[0m\u001b[0mliteral_eval\u001b[0m\u001b[1;33m(\u001b[0m\u001b[0mi\u001b[0m\u001b[1;33m)\u001b[0m \u001b[1;32mfor\u001b[0m \u001b[0mi\u001b[0m \u001b[1;32min\u001b[0m \u001b[0mencoded_trace_df\u001b[0m\u001b[1;33m[\u001b[0m\u001b[0mfeature\u001b[0m\u001b[1;33m]\u001b[0m\u001b[1;33m]\u001b[0m\u001b[1;33m\u001b[0m\u001b[1;33m\u001b[0m\u001b[0m\n\u001b[0;32m      6\u001b[0m \u001b[0mencoded_trace_df\u001b[0m\u001b[1;33m[\u001b[0m\u001b[0mfeature\u001b[0m\u001b[1;33m]\u001b[0m \u001b[1;33m=\u001b[0m \u001b[0mft\u001b[0m\u001b[1;33m\u001b[0m\u001b[1;33m\u001b[0m\u001b[0m\n",
      "\u001b[1;32m~\\AppData\\Roaming\\Python\\Python39\\site-packages\\pandas\\util\\_decorators.py\u001b[0m in \u001b[0;36mwrapper\u001b[1;34m(*args, **kwargs)\u001b[0m\n\u001b[0;32m    309\u001b[0m                     \u001b[0mstacklevel\u001b[0m\u001b[1;33m=\u001b[0m\u001b[0mstacklevel\u001b[0m\u001b[1;33m,\u001b[0m\u001b[1;33m\u001b[0m\u001b[1;33m\u001b[0m\u001b[0m\n\u001b[0;32m    310\u001b[0m                 )\n\u001b[1;32m--> 311\u001b[1;33m             \u001b[1;32mreturn\u001b[0m \u001b[0mfunc\u001b[0m\u001b[1;33m(\u001b[0m\u001b[1;33m*\u001b[0m\u001b[0margs\u001b[0m\u001b[1;33m,\u001b[0m \u001b[1;33m**\u001b[0m\u001b[0mkwargs\u001b[0m\u001b[1;33m)\u001b[0m\u001b[1;33m\u001b[0m\u001b[1;33m\u001b[0m\u001b[0m\n\u001b[0m\u001b[0;32m    312\u001b[0m \u001b[1;33m\u001b[0m\u001b[0m\n\u001b[0;32m    313\u001b[0m         \u001b[1;32mreturn\u001b[0m \u001b[0mwrapper\u001b[0m\u001b[1;33m\u001b[0m\u001b[1;33m\u001b[0m\u001b[0m\n",
      "\u001b[1;32m~\\AppData\\Roaming\\Python\\Python39\\site-packages\\pandas\\io\\parsers\\readers.py\u001b[0m in \u001b[0;36mread_csv\u001b[1;34m(filepath_or_buffer, sep, delimiter, header, names, index_col, usecols, squeeze, prefix, mangle_dupe_cols, dtype, engine, converters, true_values, false_values, skipinitialspace, skiprows, skipfooter, nrows, na_values, keep_default_na, na_filter, verbose, skip_blank_lines, parse_dates, infer_datetime_format, keep_date_col, date_parser, dayfirst, cache_dates, iterator, chunksize, compression, thousands, decimal, lineterminator, quotechar, quoting, doublequote, escapechar, comment, encoding, encoding_errors, dialect, error_bad_lines, warn_bad_lines, on_bad_lines, delim_whitespace, low_memory, memory_map, float_precision, storage_options)\u001b[0m\n\u001b[0;32m    584\u001b[0m     \u001b[0mkwds\u001b[0m\u001b[1;33m.\u001b[0m\u001b[0mupdate\u001b[0m\u001b[1;33m(\u001b[0m\u001b[0mkwds_defaults\u001b[0m\u001b[1;33m)\u001b[0m\u001b[1;33m\u001b[0m\u001b[1;33m\u001b[0m\u001b[0m\n\u001b[0;32m    585\u001b[0m \u001b[1;33m\u001b[0m\u001b[0m\n\u001b[1;32m--> 586\u001b[1;33m     \u001b[1;32mreturn\u001b[0m \u001b[0m_read\u001b[0m\u001b[1;33m(\u001b[0m\u001b[0mfilepath_or_buffer\u001b[0m\u001b[1;33m,\u001b[0m \u001b[0mkwds\u001b[0m\u001b[1;33m)\u001b[0m\u001b[1;33m\u001b[0m\u001b[1;33m\u001b[0m\u001b[0m\n\u001b[0m\u001b[0;32m    587\u001b[0m \u001b[1;33m\u001b[0m\u001b[0m\n\u001b[0;32m    588\u001b[0m \u001b[1;33m\u001b[0m\u001b[0m\n",
      "\u001b[1;32m~\\AppData\\Roaming\\Python\\Python39\\site-packages\\pandas\\io\\parsers\\readers.py\u001b[0m in \u001b[0;36m_read\u001b[1;34m(filepath_or_buffer, kwds)\u001b[0m\n\u001b[0;32m    480\u001b[0m \u001b[1;33m\u001b[0m\u001b[0m\n\u001b[0;32m    481\u001b[0m     \u001b[1;31m# Create the parser.\u001b[0m\u001b[1;33m\u001b[0m\u001b[1;33m\u001b[0m\u001b[1;33m\u001b[0m\u001b[0m\n\u001b[1;32m--> 482\u001b[1;33m     \u001b[0mparser\u001b[0m \u001b[1;33m=\u001b[0m \u001b[0mTextFileReader\u001b[0m\u001b[1;33m(\u001b[0m\u001b[0mfilepath_or_buffer\u001b[0m\u001b[1;33m,\u001b[0m \u001b[1;33m**\u001b[0m\u001b[0mkwds\u001b[0m\u001b[1;33m)\u001b[0m\u001b[1;33m\u001b[0m\u001b[1;33m\u001b[0m\u001b[0m\n\u001b[0m\u001b[0;32m    483\u001b[0m \u001b[1;33m\u001b[0m\u001b[0m\n\u001b[0;32m    484\u001b[0m     \u001b[1;32mif\u001b[0m \u001b[0mchunksize\u001b[0m \u001b[1;32mor\u001b[0m \u001b[0miterator\u001b[0m\u001b[1;33m:\u001b[0m\u001b[1;33m\u001b[0m\u001b[1;33m\u001b[0m\u001b[0m\n",
      "\u001b[1;32m~\\AppData\\Roaming\\Python\\Python39\\site-packages\\pandas\\io\\parsers\\readers.py\u001b[0m in \u001b[0;36m__init__\u001b[1;34m(self, f, engine, **kwds)\u001b[0m\n\u001b[0;32m    809\u001b[0m             \u001b[0mself\u001b[0m\u001b[1;33m.\u001b[0m\u001b[0moptions\u001b[0m\u001b[1;33m[\u001b[0m\u001b[1;34m\"has_index_names\"\u001b[0m\u001b[1;33m]\u001b[0m \u001b[1;33m=\u001b[0m \u001b[0mkwds\u001b[0m\u001b[1;33m[\u001b[0m\u001b[1;34m\"has_index_names\"\u001b[0m\u001b[1;33m]\u001b[0m\u001b[1;33m\u001b[0m\u001b[1;33m\u001b[0m\u001b[0m\n\u001b[0;32m    810\u001b[0m \u001b[1;33m\u001b[0m\u001b[0m\n\u001b[1;32m--> 811\u001b[1;33m         \u001b[0mself\u001b[0m\u001b[1;33m.\u001b[0m\u001b[0m_engine\u001b[0m \u001b[1;33m=\u001b[0m \u001b[0mself\u001b[0m\u001b[1;33m.\u001b[0m\u001b[0m_make_engine\u001b[0m\u001b[1;33m(\u001b[0m\u001b[0mself\u001b[0m\u001b[1;33m.\u001b[0m\u001b[0mengine\u001b[0m\u001b[1;33m)\u001b[0m\u001b[1;33m\u001b[0m\u001b[1;33m\u001b[0m\u001b[0m\n\u001b[0m\u001b[0;32m    812\u001b[0m \u001b[1;33m\u001b[0m\u001b[0m\n\u001b[0;32m    813\u001b[0m     \u001b[1;32mdef\u001b[0m \u001b[0mclose\u001b[0m\u001b[1;33m(\u001b[0m\u001b[0mself\u001b[0m\u001b[1;33m)\u001b[0m\u001b[1;33m:\u001b[0m\u001b[1;33m\u001b[0m\u001b[1;33m\u001b[0m\u001b[0m\n",
      "\u001b[1;32m~\\AppData\\Roaming\\Python\\Python39\\site-packages\\pandas\\io\\parsers\\readers.py\u001b[0m in \u001b[0;36m_make_engine\u001b[1;34m(self, engine)\u001b[0m\n\u001b[0;32m   1038\u001b[0m             )\n\u001b[0;32m   1039\u001b[0m         \u001b[1;31m# error: Too many arguments for \"ParserBase\"\u001b[0m\u001b[1;33m\u001b[0m\u001b[1;33m\u001b[0m\u001b[1;33m\u001b[0m\u001b[0m\n\u001b[1;32m-> 1040\u001b[1;33m         \u001b[1;32mreturn\u001b[0m \u001b[0mmapping\u001b[0m\u001b[1;33m[\u001b[0m\u001b[0mengine\u001b[0m\u001b[1;33m]\u001b[0m\u001b[1;33m(\u001b[0m\u001b[0mself\u001b[0m\u001b[1;33m.\u001b[0m\u001b[0mf\u001b[0m\u001b[1;33m,\u001b[0m \u001b[1;33m**\u001b[0m\u001b[0mself\u001b[0m\u001b[1;33m.\u001b[0m\u001b[0moptions\u001b[0m\u001b[1;33m)\u001b[0m  \u001b[1;31m# type: ignore[call-arg]\u001b[0m\u001b[1;33m\u001b[0m\u001b[1;33m\u001b[0m\u001b[0m\n\u001b[0m\u001b[0;32m   1041\u001b[0m \u001b[1;33m\u001b[0m\u001b[0m\n\u001b[0;32m   1042\u001b[0m     \u001b[1;32mdef\u001b[0m \u001b[0m_failover_to_python\u001b[0m\u001b[1;33m(\u001b[0m\u001b[0mself\u001b[0m\u001b[1;33m)\u001b[0m\u001b[1;33m:\u001b[0m\u001b[1;33m\u001b[0m\u001b[1;33m\u001b[0m\u001b[0m\n",
      "\u001b[1;32m~\\AppData\\Roaming\\Python\\Python39\\site-packages\\pandas\\io\\parsers\\c_parser_wrapper.py\u001b[0m in \u001b[0;36m__init__\u001b[1;34m(self, src, **kwds)\u001b[0m\n\u001b[0;32m     49\u001b[0m \u001b[1;33m\u001b[0m\u001b[0m\n\u001b[0;32m     50\u001b[0m         \u001b[1;31m# open handles\u001b[0m\u001b[1;33m\u001b[0m\u001b[1;33m\u001b[0m\u001b[1;33m\u001b[0m\u001b[0m\n\u001b[1;32m---> 51\u001b[1;33m         \u001b[0mself\u001b[0m\u001b[1;33m.\u001b[0m\u001b[0m_open_handles\u001b[0m\u001b[1;33m(\u001b[0m\u001b[0msrc\u001b[0m\u001b[1;33m,\u001b[0m \u001b[0mkwds\u001b[0m\u001b[1;33m)\u001b[0m\u001b[1;33m\u001b[0m\u001b[1;33m\u001b[0m\u001b[0m\n\u001b[0m\u001b[0;32m     52\u001b[0m         \u001b[1;32massert\u001b[0m \u001b[0mself\u001b[0m\u001b[1;33m.\u001b[0m\u001b[0mhandles\u001b[0m \u001b[1;32mis\u001b[0m \u001b[1;32mnot\u001b[0m \u001b[1;32mNone\u001b[0m\u001b[1;33m\u001b[0m\u001b[1;33m\u001b[0m\u001b[0m\n\u001b[0;32m     53\u001b[0m \u001b[1;33m\u001b[0m\u001b[0m\n",
      "\u001b[1;32m~\\AppData\\Roaming\\Python\\Python39\\site-packages\\pandas\\io\\parsers\\base_parser.py\u001b[0m in \u001b[0;36m_open_handles\u001b[1;34m(self, src, kwds)\u001b[0m\n\u001b[0;32m    220\u001b[0m         \u001b[0mLet\u001b[0m \u001b[0mthe\u001b[0m \u001b[0mreaders\u001b[0m \u001b[0mopen\u001b[0m \u001b[0mIOHandles\u001b[0m \u001b[0mafter\u001b[0m \u001b[0mthey\u001b[0m \u001b[0mare\u001b[0m \u001b[0mdone\u001b[0m \u001b[1;32mwith\u001b[0m \u001b[0mtheir\u001b[0m \u001b[0mpotential\u001b[0m \u001b[0mraises\u001b[0m\u001b[1;33m.\u001b[0m\u001b[1;33m\u001b[0m\u001b[1;33m\u001b[0m\u001b[0m\n\u001b[0;32m    221\u001b[0m         \"\"\"\n\u001b[1;32m--> 222\u001b[1;33m         self.handles = get_handle(\n\u001b[0m\u001b[0;32m    223\u001b[0m             \u001b[0msrc\u001b[0m\u001b[1;33m,\u001b[0m\u001b[1;33m\u001b[0m\u001b[1;33m\u001b[0m\u001b[0m\n\u001b[0;32m    224\u001b[0m             \u001b[1;34m\"r\"\u001b[0m\u001b[1;33m,\u001b[0m\u001b[1;33m\u001b[0m\u001b[1;33m\u001b[0m\u001b[0m\n",
      "\u001b[1;32m~\\AppData\\Roaming\\Python\\Python39\\site-packages\\pandas\\io\\common.py\u001b[0m in \u001b[0;36mget_handle\u001b[1;34m(path_or_buf, mode, encoding, compression, memory_map, is_text, errors, storage_options)\u001b[0m\n\u001b[0;32m    699\u001b[0m         \u001b[1;32mif\u001b[0m \u001b[0mioargs\u001b[0m\u001b[1;33m.\u001b[0m\u001b[0mencoding\u001b[0m \u001b[1;32mand\u001b[0m \u001b[1;34m\"b\"\u001b[0m \u001b[1;32mnot\u001b[0m \u001b[1;32min\u001b[0m \u001b[0mioargs\u001b[0m\u001b[1;33m.\u001b[0m\u001b[0mmode\u001b[0m\u001b[1;33m:\u001b[0m\u001b[1;33m\u001b[0m\u001b[1;33m\u001b[0m\u001b[0m\n\u001b[0;32m    700\u001b[0m             \u001b[1;31m# Encoding\u001b[0m\u001b[1;33m\u001b[0m\u001b[1;33m\u001b[0m\u001b[1;33m\u001b[0m\u001b[0m\n\u001b[1;32m--> 701\u001b[1;33m             handle = open(\n\u001b[0m\u001b[0;32m    702\u001b[0m                 \u001b[0mhandle\u001b[0m\u001b[1;33m,\u001b[0m\u001b[1;33m\u001b[0m\u001b[1;33m\u001b[0m\u001b[0m\n\u001b[0;32m    703\u001b[0m                 \u001b[0mioargs\u001b[0m\u001b[1;33m.\u001b[0m\u001b[0mmode\u001b[0m\u001b[1;33m,\u001b[0m\u001b[1;33m\u001b[0m\u001b[1;33m\u001b[0m\u001b[0m\n",
      "\u001b[1;31mFileNotFoundError\u001b[0m: [Errno 2] No such file or directory: 'f:/temp/encoded_bowpi4_2G_60_system calls frequency_1gram.csv'"
     ]
    }
   ],
   "source": [
    "dataPath = 'f:/temp/'   \n",
    "feature = 'system calls frequency_1gram'\n",
    "tsv_name = dataPath+'encoded_bow{}_{}_{}.csv'.format('pi4_2G', tw, feature)\n",
    "encoded_trace_df = pd.read_csv(tsv_name, sep='\\t')\n",
    "ft = [ast.literal_eval(i) for i in encoded_trace_df[feature]]\n",
    "encoded_trace_df[feature] = ft"
   ]
  },
  {
   "cell_type": "code",
   "execution_count": 9,
   "metadata": {},
   "outputs": [
    {
     "ename": "ValueError",
     "evalue": "Length mismatch: Expected axis has 19 elements, new values have 18 elements",
     "output_type": "error",
     "traceback": [
      "\u001b[1;31m---------------------------------------------------------------------------\u001b[0m",
      "\u001b[1;31mValueError\u001b[0m                                Traceback (most recent call last)",
      "\u001b[1;32m~\\AppData\\Local\\Temp/ipykernel_4272/3049028590.py\u001b[0m in \u001b[0;36m<module>\u001b[1;34m\u001b[0m\n\u001b[0;32m     11\u001b[0m \u001b[0mngram\u001b[0m \u001b[1;33m=\u001b[0m \u001b[1;33m[\u001b[0m\u001b[0mdict_to_ngram\u001b[0m\u001b[1;33m[\u001b[0m\u001b[0mi\u001b[0m\u001b[1;33m]\u001b[0m \u001b[1;32mfor\u001b[0m \u001b[0mi\u001b[0m \u001b[1;32min\u001b[0m \u001b[0mrange\u001b[0m\u001b[1;33m(\u001b[0m\u001b[1;36m0\u001b[0m\u001b[1;33m,\u001b[0m \u001b[0mlen\u001b[0m\u001b[1;33m(\u001b[0m\u001b[0mdict_to_ngram\u001b[0m\u001b[1;33m)\u001b[0m\u001b[1;33m)\u001b[0m\u001b[1;33m]\u001b[0m\u001b[1;33m\u001b[0m\u001b[1;33m\u001b[0m\u001b[0m\n\u001b[0;32m     12\u001b[0m \u001b[0mkeys\u001b[0m \u001b[1;33m=\u001b[0m \u001b[0mngram\u001b[0m \u001b[1;33m+\u001b[0m \u001b[1;33m[\u001b[0m\u001b[1;34m'maltype'\u001b[0m\u001b[1;33m]\u001b[0m\u001b[1;33m\u001b[0m\u001b[1;33m\u001b[0m\u001b[0m\n\u001b[1;32m---> 13\u001b[1;33m \u001b[0mdcf\u001b[0m\u001b[1;33m.\u001b[0m\u001b[0mcolumns\u001b[0m \u001b[1;33m=\u001b[0m \u001b[0mkeys\u001b[0m\u001b[1;33m\u001b[0m\u001b[1;33m\u001b[0m\u001b[0m\n\u001b[0m\u001b[0;32m     14\u001b[0m \u001b[0mk1\u001b[0m \u001b[1;33m=\u001b[0m \u001b[1;33m[\u001b[0m\u001b[0mi\u001b[0m \u001b[1;32mfor\u001b[0m \u001b[0mi\u001b[0m \u001b[1;32min\u001b[0m \u001b[0mgram_1\u001b[0m\u001b[1;33m]\u001b[0m \u001b[1;33m+\u001b[0m \u001b[1;33m[\u001b[0m\u001b[1;34m'maltype'\u001b[0m\u001b[1;33m]\u001b[0m\u001b[1;33m\u001b[0m\u001b[1;33m\u001b[0m\u001b[0m\n\u001b[0;32m     15\u001b[0m \u001b[0mdf_1gram\u001b[0m \u001b[1;33m=\u001b[0m \u001b[0mdcf\u001b[0m\u001b[1;33m[\u001b[0m\u001b[0mk1\u001b[0m\u001b[1;33m]\u001b[0m\u001b[1;33m\u001b[0m\u001b[1;33m\u001b[0m\u001b[0m\n",
      "\u001b[1;32m~\\AppData\\Roaming\\Python\\Python39\\site-packages\\pandas\\core\\generic.py\u001b[0m in \u001b[0;36m__setattr__\u001b[1;34m(self, name, value)\u001b[0m\n\u001b[0;32m   5498\u001b[0m         \u001b[1;32mtry\u001b[0m\u001b[1;33m:\u001b[0m\u001b[1;33m\u001b[0m\u001b[1;33m\u001b[0m\u001b[0m\n\u001b[0;32m   5499\u001b[0m             \u001b[0mobject\u001b[0m\u001b[1;33m.\u001b[0m\u001b[0m__getattribute__\u001b[0m\u001b[1;33m(\u001b[0m\u001b[0mself\u001b[0m\u001b[1;33m,\u001b[0m \u001b[0mname\u001b[0m\u001b[1;33m)\u001b[0m\u001b[1;33m\u001b[0m\u001b[1;33m\u001b[0m\u001b[0m\n\u001b[1;32m-> 5500\u001b[1;33m             \u001b[1;32mreturn\u001b[0m \u001b[0mobject\u001b[0m\u001b[1;33m.\u001b[0m\u001b[0m__setattr__\u001b[0m\u001b[1;33m(\u001b[0m\u001b[0mself\u001b[0m\u001b[1;33m,\u001b[0m \u001b[0mname\u001b[0m\u001b[1;33m,\u001b[0m \u001b[0mvalue\u001b[0m\u001b[1;33m)\u001b[0m\u001b[1;33m\u001b[0m\u001b[1;33m\u001b[0m\u001b[0m\n\u001b[0m\u001b[0;32m   5501\u001b[0m         \u001b[1;32mexcept\u001b[0m \u001b[0mAttributeError\u001b[0m\u001b[1;33m:\u001b[0m\u001b[1;33m\u001b[0m\u001b[1;33m\u001b[0m\u001b[0m\n\u001b[0;32m   5502\u001b[0m             \u001b[1;32mpass\u001b[0m\u001b[1;33m\u001b[0m\u001b[1;33m\u001b[0m\u001b[0m\n",
      "\u001b[1;32m~\\AppData\\Roaming\\Python\\Python39\\site-packages\\pandas\\_libs\\properties.pyx\u001b[0m in \u001b[0;36mpandas._libs.properties.AxisProperty.__set__\u001b[1;34m()\u001b[0m\n",
      "\u001b[1;32m~\\AppData\\Roaming\\Python\\Python39\\site-packages\\pandas\\core\\generic.py\u001b[0m in \u001b[0;36m_set_axis\u001b[1;34m(self, axis, labels)\u001b[0m\n\u001b[0;32m    764\u001b[0m     \u001b[1;32mdef\u001b[0m \u001b[0m_set_axis\u001b[0m\u001b[1;33m(\u001b[0m\u001b[0mself\u001b[0m\u001b[1;33m,\u001b[0m \u001b[0maxis\u001b[0m\u001b[1;33m:\u001b[0m \u001b[0mint\u001b[0m\u001b[1;33m,\u001b[0m \u001b[0mlabels\u001b[0m\u001b[1;33m:\u001b[0m \u001b[0mIndex\u001b[0m\u001b[1;33m)\u001b[0m \u001b[1;33m->\u001b[0m \u001b[1;32mNone\u001b[0m\u001b[1;33m:\u001b[0m\u001b[1;33m\u001b[0m\u001b[1;33m\u001b[0m\u001b[0m\n\u001b[0;32m    765\u001b[0m         \u001b[0mlabels\u001b[0m \u001b[1;33m=\u001b[0m \u001b[0mensure_index\u001b[0m\u001b[1;33m(\u001b[0m\u001b[0mlabels\u001b[0m\u001b[1;33m)\u001b[0m\u001b[1;33m\u001b[0m\u001b[1;33m\u001b[0m\u001b[0m\n\u001b[1;32m--> 766\u001b[1;33m         \u001b[0mself\u001b[0m\u001b[1;33m.\u001b[0m\u001b[0m_mgr\u001b[0m\u001b[1;33m.\u001b[0m\u001b[0mset_axis\u001b[0m\u001b[1;33m(\u001b[0m\u001b[0maxis\u001b[0m\u001b[1;33m,\u001b[0m \u001b[0mlabels\u001b[0m\u001b[1;33m)\u001b[0m\u001b[1;33m\u001b[0m\u001b[1;33m\u001b[0m\u001b[0m\n\u001b[0m\u001b[0;32m    767\u001b[0m         \u001b[0mself\u001b[0m\u001b[1;33m.\u001b[0m\u001b[0m_clear_item_cache\u001b[0m\u001b[1;33m(\u001b[0m\u001b[1;33m)\u001b[0m\u001b[1;33m\u001b[0m\u001b[1;33m\u001b[0m\u001b[0m\n\u001b[0;32m    768\u001b[0m \u001b[1;33m\u001b[0m\u001b[0m\n",
      "\u001b[1;32m~\\AppData\\Roaming\\Python\\Python39\\site-packages\\pandas\\core\\internals\\managers.py\u001b[0m in \u001b[0;36mset_axis\u001b[1;34m(self, axis, new_labels)\u001b[0m\n\u001b[0;32m    214\u001b[0m     \u001b[1;32mdef\u001b[0m \u001b[0mset_axis\u001b[0m\u001b[1;33m(\u001b[0m\u001b[0mself\u001b[0m\u001b[1;33m,\u001b[0m \u001b[0maxis\u001b[0m\u001b[1;33m:\u001b[0m \u001b[0mint\u001b[0m\u001b[1;33m,\u001b[0m \u001b[0mnew_labels\u001b[0m\u001b[1;33m:\u001b[0m \u001b[0mIndex\u001b[0m\u001b[1;33m)\u001b[0m \u001b[1;33m->\u001b[0m \u001b[1;32mNone\u001b[0m\u001b[1;33m:\u001b[0m\u001b[1;33m\u001b[0m\u001b[1;33m\u001b[0m\u001b[0m\n\u001b[0;32m    215\u001b[0m         \u001b[1;31m# Caller is responsible for ensuring we have an Index object.\u001b[0m\u001b[1;33m\u001b[0m\u001b[1;33m\u001b[0m\u001b[1;33m\u001b[0m\u001b[0m\n\u001b[1;32m--> 216\u001b[1;33m         \u001b[0mself\u001b[0m\u001b[1;33m.\u001b[0m\u001b[0m_validate_set_axis\u001b[0m\u001b[1;33m(\u001b[0m\u001b[0maxis\u001b[0m\u001b[1;33m,\u001b[0m \u001b[0mnew_labels\u001b[0m\u001b[1;33m)\u001b[0m\u001b[1;33m\u001b[0m\u001b[1;33m\u001b[0m\u001b[0m\n\u001b[0m\u001b[0;32m    217\u001b[0m         \u001b[0mself\u001b[0m\u001b[1;33m.\u001b[0m\u001b[0maxes\u001b[0m\u001b[1;33m[\u001b[0m\u001b[0maxis\u001b[0m\u001b[1;33m]\u001b[0m \u001b[1;33m=\u001b[0m \u001b[0mnew_labels\u001b[0m\u001b[1;33m\u001b[0m\u001b[1;33m\u001b[0m\u001b[0m\n\u001b[0;32m    218\u001b[0m \u001b[1;33m\u001b[0m\u001b[0m\n",
      "\u001b[1;32m~\\AppData\\Roaming\\Python\\Python39\\site-packages\\pandas\\core\\internals\\base.py\u001b[0m in \u001b[0;36m_validate_set_axis\u001b[1;34m(self, axis, new_labels)\u001b[0m\n\u001b[0;32m     55\u001b[0m \u001b[1;33m\u001b[0m\u001b[0m\n\u001b[0;32m     56\u001b[0m         \u001b[1;32melif\u001b[0m \u001b[0mnew_len\u001b[0m \u001b[1;33m!=\u001b[0m \u001b[0mold_len\u001b[0m\u001b[1;33m:\u001b[0m\u001b[1;33m\u001b[0m\u001b[1;33m\u001b[0m\u001b[0m\n\u001b[1;32m---> 57\u001b[1;33m             raise ValueError(\n\u001b[0m\u001b[0;32m     58\u001b[0m                 \u001b[1;34mf\"Length mismatch: Expected axis has {old_len} elements, new \"\u001b[0m\u001b[1;33m\u001b[0m\u001b[1;33m\u001b[0m\u001b[0m\n\u001b[0;32m     59\u001b[0m                 \u001b[1;34mf\"values have {new_len} elements\"\u001b[0m\u001b[1;33m\u001b[0m\u001b[1;33m\u001b[0m\u001b[0m\n",
      "\u001b[1;31mValueError\u001b[0m: Length mismatch: Expected axis has 19 elements, new values have 18 elements"
     ]
    }
   ],
   "source": [
    "\n",
    "countF = encoded_trace_df[feature]\n",
    "maltype = encoded_trace_df.maltype.tolist()\n",
    "countF = [countF[i] for i in range(0, len(countF))]\n",
    "ncf = []\n",
    "for i in range(0, len(countF)):\n",
    "    a = countF[i]\n",
    "    b = maltype[i]\n",
    "    a.append(b)\n",
    "    ncf.append(a)\n",
    "dcf = pd.DataFrame(ncf)\n",
    "ngram = [dict_to_ngram[i] for i in range(0, len(dict_to_ngram))]\n",
    "keys = ngram + ['maltype']\n",
    "dcf.columns = keys\n",
    "k1 = [i for i in gram_1] + ['maltype']\n",
    "df_1gram = dcf[k1]"
   ]
  },
  {
   "cell_type": "code",
   "execution_count": 83,
   "metadata": {},
   "outputs": [
    {
     "data": {
      "text/html": [
       "<div>\n",
       "<style scoped>\n",
       "    .dataframe tbody tr th:only-of-type {\n",
       "        vertical-align: middle;\n",
       "    }\n",
       "\n",
       "    .dataframe tbody tr th {\n",
       "        vertical-align: top;\n",
       "    }\n",
       "\n",
       "    .dataframe thead th {\n",
       "        text-align: right;\n",
       "    }\n",
       "</style>\n",
       "<table border=\"1\" class=\"dataframe\">\n",
       "  <thead>\n",
       "    <tr style=\"text-align: right;\">\n",
       "      <th></th>\n",
       "      <th>ioctl</th>\n",
       "      <th>timerfd_settime</th>\n",
       "      <th>poll</th>\n",
       "      <th>getpid</th>\n",
       "      <th>write</th>\n",
       "      <th>futex</th>\n",
       "      <th>mkdir</th>\n",
       "      <th>open</th>\n",
       "      <th>close</th>\n",
       "      <th>fstat64</th>\n",
       "      <th>getdents</th>\n",
       "      <th>read</th>\n",
       "      <th>unlink</th>\n",
       "      <th>mprotect</th>\n",
       "      <th>clock_gettime</th>\n",
       "      <th>gettimeofday</th>\n",
       "      <th>openat</th>\n",
       "      <th>getdents64</th>\n",
       "      <th>getrandom</th>\n",
       "      <th>gettid</th>\n",
       "    </tr>\n",
       "    <tr>\n",
       "      <th>maltype</th>\n",
       "      <th></th>\n",
       "      <th></th>\n",
       "      <th></th>\n",
       "      <th></th>\n",
       "      <th></th>\n",
       "      <th></th>\n",
       "      <th></th>\n",
       "      <th></th>\n",
       "      <th></th>\n",
       "      <th></th>\n",
       "      <th></th>\n",
       "      <th></th>\n",
       "      <th></th>\n",
       "      <th></th>\n",
       "      <th></th>\n",
       "      <th></th>\n",
       "      <th></th>\n",
       "      <th></th>\n",
       "      <th></th>\n",
       "      <th></th>\n",
       "    </tr>\n",
       "  </thead>\n",
       "  <tbody>\n",
       "    <tr>\n",
       "      <th>delay</th>\n",
       "      <td>301</td>\n",
       "      <td>301</td>\n",
       "      <td>301</td>\n",
       "      <td>301</td>\n",
       "      <td>301</td>\n",
       "      <td>297</td>\n",
       "      <td>296</td>\n",
       "      <td>298</td>\n",
       "      <td>298</td>\n",
       "      <td>296</td>\n",
       "      <td>296</td>\n",
       "      <td>298</td>\n",
       "      <td>296</td>\n",
       "      <td>0</td>\n",
       "      <td>0</td>\n",
       "      <td>0</td>\n",
       "      <td>0</td>\n",
       "      <td>0</td>\n",
       "      <td>0</td>\n",
       "      <td>0</td>\n",
       "    </tr>\n",
       "    <tr>\n",
       "      <th>disorder</th>\n",
       "      <td>324</td>\n",
       "      <td>324</td>\n",
       "      <td>324</td>\n",
       "      <td>324</td>\n",
       "      <td>324</td>\n",
       "      <td>305</td>\n",
       "      <td>4</td>\n",
       "      <td>324</td>\n",
       "      <td>324</td>\n",
       "      <td>2</td>\n",
       "      <td>2</td>\n",
       "      <td>324</td>\n",
       "      <td>2</td>\n",
       "      <td>0</td>\n",
       "      <td>0</td>\n",
       "      <td>0</td>\n",
       "      <td>0</td>\n",
       "      <td>0</td>\n",
       "      <td>0</td>\n",
       "      <td>0</td>\n",
       "    </tr>\n",
       "    <tr>\n",
       "      <th>freeze</th>\n",
       "      <td>324</td>\n",
       "      <td>324</td>\n",
       "      <td>324</td>\n",
       "      <td>324</td>\n",
       "      <td>324</td>\n",
       "      <td>312</td>\n",
       "      <td>1</td>\n",
       "      <td>324</td>\n",
       "      <td>324</td>\n",
       "      <td>0</td>\n",
       "      <td>0</td>\n",
       "      <td>324</td>\n",
       "      <td>0</td>\n",
       "      <td>0</td>\n",
       "      <td>0</td>\n",
       "      <td>0</td>\n",
       "      <td>0</td>\n",
       "      <td>0</td>\n",
       "      <td>0</td>\n",
       "      <td>0</td>\n",
       "    </tr>\n",
       "    <tr>\n",
       "      <th>hop</th>\n",
       "      <td>324</td>\n",
       "      <td>324</td>\n",
       "      <td>324</td>\n",
       "      <td>324</td>\n",
       "      <td>324</td>\n",
       "      <td>304</td>\n",
       "      <td>0</td>\n",
       "      <td>324</td>\n",
       "      <td>324</td>\n",
       "      <td>0</td>\n",
       "      <td>0</td>\n",
       "      <td>324</td>\n",
       "      <td>0</td>\n",
       "      <td>0</td>\n",
       "      <td>0</td>\n",
       "      <td>0</td>\n",
       "      <td>0</td>\n",
       "      <td>0</td>\n",
       "      <td>0</td>\n",
       "      <td>0</td>\n",
       "    </tr>\n",
       "    <tr>\n",
       "      <th>mimic</th>\n",
       "      <td>324</td>\n",
       "      <td>324</td>\n",
       "      <td>324</td>\n",
       "      <td>324</td>\n",
       "      <td>324</td>\n",
       "      <td>302</td>\n",
       "      <td>1</td>\n",
       "      <td>324</td>\n",
       "      <td>324</td>\n",
       "      <td>0</td>\n",
       "      <td>0</td>\n",
       "      <td>324</td>\n",
       "      <td>0</td>\n",
       "      <td>0</td>\n",
       "      <td>0</td>\n",
       "      <td>0</td>\n",
       "      <td>0</td>\n",
       "      <td>0</td>\n",
       "      <td>0</td>\n",
       "      <td>0</td>\n",
       "    </tr>\n",
       "    <tr>\n",
       "      <th>noise</th>\n",
       "      <td>324</td>\n",
       "      <td>324</td>\n",
       "      <td>324</td>\n",
       "      <td>324</td>\n",
       "      <td>324</td>\n",
       "      <td>298</td>\n",
       "      <td>1</td>\n",
       "      <td>324</td>\n",
       "      <td>324</td>\n",
       "      <td>0</td>\n",
       "      <td>0</td>\n",
       "      <td>324</td>\n",
       "      <td>0</td>\n",
       "      <td>0</td>\n",
       "      <td>0</td>\n",
       "      <td>0</td>\n",
       "      <td>0</td>\n",
       "      <td>0</td>\n",
       "      <td>0</td>\n",
       "      <td>0</td>\n",
       "    </tr>\n",
       "    <tr>\n",
       "      <th>normal</th>\n",
       "      <td>324</td>\n",
       "      <td>324</td>\n",
       "      <td>324</td>\n",
       "      <td>324</td>\n",
       "      <td>324</td>\n",
       "      <td>294</td>\n",
       "      <td>1</td>\n",
       "      <td>324</td>\n",
       "      <td>324</td>\n",
       "      <td>0</td>\n",
       "      <td>0</td>\n",
       "      <td>324</td>\n",
       "      <td>0</td>\n",
       "      <td>0</td>\n",
       "      <td>0</td>\n",
       "      <td>0</td>\n",
       "      <td>0</td>\n",
       "      <td>0</td>\n",
       "      <td>0</td>\n",
       "      <td>0</td>\n",
       "    </tr>\n",
       "    <tr>\n",
       "      <th>normalv2</th>\n",
       "      <td>324</td>\n",
       "      <td>324</td>\n",
       "      <td>324</td>\n",
       "      <td>324</td>\n",
       "      <td>324</td>\n",
       "      <td>303</td>\n",
       "      <td>2</td>\n",
       "      <td>324</td>\n",
       "      <td>324</td>\n",
       "      <td>0</td>\n",
       "      <td>0</td>\n",
       "      <td>324</td>\n",
       "      <td>0</td>\n",
       "      <td>0</td>\n",
       "      <td>0</td>\n",
       "      <td>0</td>\n",
       "      <td>0</td>\n",
       "      <td>0</td>\n",
       "      <td>0</td>\n",
       "      <td>0</td>\n",
       "    </tr>\n",
       "    <tr>\n",
       "      <th>repeat</th>\n",
       "      <td>324</td>\n",
       "      <td>324</td>\n",
       "      <td>324</td>\n",
       "      <td>324</td>\n",
       "      <td>324</td>\n",
       "      <td>304</td>\n",
       "      <td>1</td>\n",
       "      <td>324</td>\n",
       "      <td>324</td>\n",
       "      <td>0</td>\n",
       "      <td>0</td>\n",
       "      <td>324</td>\n",
       "      <td>0</td>\n",
       "      <td>0</td>\n",
       "      <td>0</td>\n",
       "      <td>0</td>\n",
       "      <td>0</td>\n",
       "      <td>0</td>\n",
       "      <td>0</td>\n",
       "      <td>0</td>\n",
       "    </tr>\n",
       "    <tr>\n",
       "      <th>spoof</th>\n",
       "      <td>324</td>\n",
       "      <td>324</td>\n",
       "      <td>324</td>\n",
       "      <td>324</td>\n",
       "      <td>324</td>\n",
       "      <td>288</td>\n",
       "      <td>0</td>\n",
       "      <td>324</td>\n",
       "      <td>324</td>\n",
       "      <td>0</td>\n",
       "      <td>0</td>\n",
       "      <td>324</td>\n",
       "      <td>0</td>\n",
       "      <td>1</td>\n",
       "      <td>0</td>\n",
       "      <td>0</td>\n",
       "      <td>0</td>\n",
       "      <td>0</td>\n",
       "      <td>0</td>\n",
       "      <td>0</td>\n",
       "    </tr>\n",
       "  </tbody>\n",
       "</table>\n",
       "</div>"
      ],
      "text/plain": [
       "          ioctl  timerfd_settime  poll  getpid  write  futex  mkdir  open  \\\n",
       "maltype                                                                     \n",
       "delay       301              301   301     301    301    297    296   298   \n",
       "disorder    324              324   324     324    324    305      4   324   \n",
       "freeze      324              324   324     324    324    312      1   324   \n",
       "hop         324              324   324     324    324    304      0   324   \n",
       "mimic       324              324   324     324    324    302      1   324   \n",
       "noise       324              324   324     324    324    298      1   324   \n",
       "normal      324              324   324     324    324    294      1   324   \n",
       "normalv2    324              324   324     324    324    303      2   324   \n",
       "repeat      324              324   324     324    324    304      1   324   \n",
       "spoof       324              324   324     324    324    288      0   324   \n",
       "\n",
       "          close  fstat64  getdents  read  unlink  mprotect  clock_gettime  \\\n",
       "maltype                                                                     \n",
       "delay       298      296       296   298     296         0              0   \n",
       "disorder    324        2         2   324       2         0              0   \n",
       "freeze      324        0         0   324       0         0              0   \n",
       "hop         324        0         0   324       0         0              0   \n",
       "mimic       324        0         0   324       0         0              0   \n",
       "noise       324        0         0   324       0         0              0   \n",
       "normal      324        0         0   324       0         0              0   \n",
       "normalv2    324        0         0   324       0         0              0   \n",
       "repeat      324        0         0   324       0         0              0   \n",
       "spoof       324        0         0   324       0         1              0   \n",
       "\n",
       "          gettimeofday  openat  getdents64  getrandom  gettid  \n",
       "maltype                                                        \n",
       "delay                0       0           0          0       0  \n",
       "disorder             0       0           0          0       0  \n",
       "freeze               0       0           0          0       0  \n",
       "hop                  0       0           0          0       0  \n",
       "mimic                0       0           0          0       0  \n",
       "noise                0       0           0          0       0  \n",
       "normal               0       0           0          0       0  \n",
       "normalv2             0       0           0          0       0  \n",
       "repeat               0       0           0          0       0  \n",
       "spoof                0       0           0          0       0  "
      ]
     },
     "execution_count": 83,
     "metadata": {},
     "output_type": "execute_result"
    }
   ],
   "source": [
    "df_1gram.groupby('maltype').agg(np.count_nonzero)"
   ]
  },
  {
   "cell_type": "code",
   "execution_count": 84,
   "metadata": {},
   "outputs": [],
   "source": [
    "a = df_1gram['getdents64'].astype(bool).sum()"
   ]
  },
  {
   "cell_type": "code",
   "execution_count": 85,
   "metadata": {},
   "outputs": [
    {
     "data": {
      "text/plain": [
       "0"
      ]
     },
     "execution_count": 85,
     "metadata": {},
     "output_type": "execute_result"
    }
   ],
   "source": [
    "a"
   ]
  },
  {
   "cell_type": "code",
   "execution_count": 86,
   "metadata": {},
   "outputs": [
    {
     "data": {
      "text/html": [
       "<div>\n",
       "<style scoped>\n",
       "    .dataframe tbody tr th:only-of-type {\n",
       "        vertical-align: middle;\n",
       "    }\n",
       "\n",
       "    .dataframe tbody tr th {\n",
       "        vertical-align: top;\n",
       "    }\n",
       "\n",
       "    .dataframe thead th {\n",
       "        text-align: right;\n",
       "    }\n",
       "</style>\n",
       "<table border=\"1\" class=\"dataframe\">\n",
       "  <thead>\n",
       "    <tr style=\"text-align: right;\">\n",
       "      <th></th>\n",
       "      <th>ioctl</th>\n",
       "      <th>timerfd_settime</th>\n",
       "      <th>poll</th>\n",
       "      <th>getpid</th>\n",
       "      <th>write</th>\n",
       "      <th>futex</th>\n",
       "      <th>mkdir</th>\n",
       "      <th>open</th>\n",
       "      <th>close</th>\n",
       "      <th>fstat64</th>\n",
       "      <th>getdents</th>\n",
       "      <th>read</th>\n",
       "      <th>unlink</th>\n",
       "      <th>mprotect</th>\n",
       "      <th>clock_gettime</th>\n",
       "      <th>gettimeofday</th>\n",
       "      <th>openat</th>\n",
       "      <th>getdents64</th>\n",
       "      <th>getrandom</th>\n",
       "      <th>gettid</th>\n",
       "    </tr>\n",
       "    <tr>\n",
       "      <th>maltype</th>\n",
       "      <th></th>\n",
       "      <th></th>\n",
       "      <th></th>\n",
       "      <th></th>\n",
       "      <th></th>\n",
       "      <th></th>\n",
       "      <th></th>\n",
       "      <th></th>\n",
       "      <th></th>\n",
       "      <th></th>\n",
       "      <th></th>\n",
       "      <th></th>\n",
       "      <th></th>\n",
       "      <th></th>\n",
       "      <th></th>\n",
       "      <th></th>\n",
       "      <th></th>\n",
       "      <th></th>\n",
       "      <th></th>\n",
       "      <th></th>\n",
       "    </tr>\n",
       "  </thead>\n",
       "  <tbody>\n",
       "    <tr>\n",
       "      <th>delay</th>\n",
       "      <td>301</td>\n",
       "      <td>301</td>\n",
       "      <td>301</td>\n",
       "      <td>301</td>\n",
       "      <td>301</td>\n",
       "      <td>297</td>\n",
       "      <td>296</td>\n",
       "      <td>298</td>\n",
       "      <td>298</td>\n",
       "      <td>296</td>\n",
       "      <td>296</td>\n",
       "      <td>298</td>\n",
       "      <td>296</td>\n",
       "      <td>0</td>\n",
       "      <td>0</td>\n",
       "      <td>0</td>\n",
       "      <td>0</td>\n",
       "      <td>0</td>\n",
       "      <td>0</td>\n",
       "      <td>0</td>\n",
       "    </tr>\n",
       "    <tr>\n",
       "      <th>disorder</th>\n",
       "      <td>324</td>\n",
       "      <td>324</td>\n",
       "      <td>324</td>\n",
       "      <td>324</td>\n",
       "      <td>324</td>\n",
       "      <td>305</td>\n",
       "      <td>4</td>\n",
       "      <td>324</td>\n",
       "      <td>324</td>\n",
       "      <td>2</td>\n",
       "      <td>2</td>\n",
       "      <td>324</td>\n",
       "      <td>2</td>\n",
       "      <td>0</td>\n",
       "      <td>0</td>\n",
       "      <td>0</td>\n",
       "      <td>0</td>\n",
       "      <td>0</td>\n",
       "      <td>0</td>\n",
       "      <td>0</td>\n",
       "    </tr>\n",
       "    <tr>\n",
       "      <th>freeze</th>\n",
       "      <td>324</td>\n",
       "      <td>324</td>\n",
       "      <td>324</td>\n",
       "      <td>324</td>\n",
       "      <td>324</td>\n",
       "      <td>312</td>\n",
       "      <td>1</td>\n",
       "      <td>324</td>\n",
       "      <td>324</td>\n",
       "      <td>0</td>\n",
       "      <td>0</td>\n",
       "      <td>324</td>\n",
       "      <td>0</td>\n",
       "      <td>0</td>\n",
       "      <td>0</td>\n",
       "      <td>0</td>\n",
       "      <td>0</td>\n",
       "      <td>0</td>\n",
       "      <td>0</td>\n",
       "      <td>0</td>\n",
       "    </tr>\n",
       "    <tr>\n",
       "      <th>hop</th>\n",
       "      <td>324</td>\n",
       "      <td>324</td>\n",
       "      <td>324</td>\n",
       "      <td>324</td>\n",
       "      <td>324</td>\n",
       "      <td>304</td>\n",
       "      <td>0</td>\n",
       "      <td>324</td>\n",
       "      <td>324</td>\n",
       "      <td>0</td>\n",
       "      <td>0</td>\n",
       "      <td>324</td>\n",
       "      <td>0</td>\n",
       "      <td>0</td>\n",
       "      <td>0</td>\n",
       "      <td>0</td>\n",
       "      <td>0</td>\n",
       "      <td>0</td>\n",
       "      <td>0</td>\n",
       "      <td>0</td>\n",
       "    </tr>\n",
       "    <tr>\n",
       "      <th>mimic</th>\n",
       "      <td>324</td>\n",
       "      <td>324</td>\n",
       "      <td>324</td>\n",
       "      <td>324</td>\n",
       "      <td>324</td>\n",
       "      <td>302</td>\n",
       "      <td>1</td>\n",
       "      <td>324</td>\n",
       "      <td>324</td>\n",
       "      <td>0</td>\n",
       "      <td>0</td>\n",
       "      <td>324</td>\n",
       "      <td>0</td>\n",
       "      <td>0</td>\n",
       "      <td>0</td>\n",
       "      <td>0</td>\n",
       "      <td>0</td>\n",
       "      <td>0</td>\n",
       "      <td>0</td>\n",
       "      <td>0</td>\n",
       "    </tr>\n",
       "    <tr>\n",
       "      <th>noise</th>\n",
       "      <td>324</td>\n",
       "      <td>324</td>\n",
       "      <td>324</td>\n",
       "      <td>324</td>\n",
       "      <td>324</td>\n",
       "      <td>298</td>\n",
       "      <td>1</td>\n",
       "      <td>324</td>\n",
       "      <td>324</td>\n",
       "      <td>0</td>\n",
       "      <td>0</td>\n",
       "      <td>324</td>\n",
       "      <td>0</td>\n",
       "      <td>0</td>\n",
       "      <td>0</td>\n",
       "      <td>0</td>\n",
       "      <td>0</td>\n",
       "      <td>0</td>\n",
       "      <td>0</td>\n",
       "      <td>0</td>\n",
       "    </tr>\n",
       "    <tr>\n",
       "      <th>normal</th>\n",
       "      <td>324</td>\n",
       "      <td>324</td>\n",
       "      <td>324</td>\n",
       "      <td>324</td>\n",
       "      <td>324</td>\n",
       "      <td>294</td>\n",
       "      <td>1</td>\n",
       "      <td>324</td>\n",
       "      <td>324</td>\n",
       "      <td>0</td>\n",
       "      <td>0</td>\n",
       "      <td>324</td>\n",
       "      <td>0</td>\n",
       "      <td>0</td>\n",
       "      <td>0</td>\n",
       "      <td>0</td>\n",
       "      <td>0</td>\n",
       "      <td>0</td>\n",
       "      <td>0</td>\n",
       "      <td>0</td>\n",
       "    </tr>\n",
       "    <tr>\n",
       "      <th>normalv2</th>\n",
       "      <td>324</td>\n",
       "      <td>324</td>\n",
       "      <td>324</td>\n",
       "      <td>324</td>\n",
       "      <td>324</td>\n",
       "      <td>303</td>\n",
       "      <td>2</td>\n",
       "      <td>324</td>\n",
       "      <td>324</td>\n",
       "      <td>0</td>\n",
       "      <td>0</td>\n",
       "      <td>324</td>\n",
       "      <td>0</td>\n",
       "      <td>0</td>\n",
       "      <td>0</td>\n",
       "      <td>0</td>\n",
       "      <td>0</td>\n",
       "      <td>0</td>\n",
       "      <td>0</td>\n",
       "      <td>0</td>\n",
       "    </tr>\n",
       "    <tr>\n",
       "      <th>repeat</th>\n",
       "      <td>324</td>\n",
       "      <td>324</td>\n",
       "      <td>324</td>\n",
       "      <td>324</td>\n",
       "      <td>324</td>\n",
       "      <td>304</td>\n",
       "      <td>1</td>\n",
       "      <td>324</td>\n",
       "      <td>324</td>\n",
       "      <td>0</td>\n",
       "      <td>0</td>\n",
       "      <td>324</td>\n",
       "      <td>0</td>\n",
       "      <td>0</td>\n",
       "      <td>0</td>\n",
       "      <td>0</td>\n",
       "      <td>0</td>\n",
       "      <td>0</td>\n",
       "      <td>0</td>\n",
       "      <td>0</td>\n",
       "    </tr>\n",
       "    <tr>\n",
       "      <th>spoof</th>\n",
       "      <td>324</td>\n",
       "      <td>324</td>\n",
       "      <td>324</td>\n",
       "      <td>324</td>\n",
       "      <td>324</td>\n",
       "      <td>288</td>\n",
       "      <td>0</td>\n",
       "      <td>324</td>\n",
       "      <td>324</td>\n",
       "      <td>0</td>\n",
       "      <td>0</td>\n",
       "      <td>324</td>\n",
       "      <td>0</td>\n",
       "      <td>1</td>\n",
       "      <td>0</td>\n",
       "      <td>0</td>\n",
       "      <td>0</td>\n",
       "      <td>0</td>\n",
       "      <td>0</td>\n",
       "      <td>0</td>\n",
       "    </tr>\n",
       "  </tbody>\n",
       "</table>\n",
       "</div>"
      ],
      "text/plain": [
       "          ioctl  timerfd_settime  poll  getpid  write  futex  mkdir  open  \\\n",
       "maltype                                                                     \n",
       "delay       301              301   301     301    301    297    296   298   \n",
       "disorder    324              324   324     324    324    305      4   324   \n",
       "freeze      324              324   324     324    324    312      1   324   \n",
       "hop         324              324   324     324    324    304      0   324   \n",
       "mimic       324              324   324     324    324    302      1   324   \n",
       "noise       324              324   324     324    324    298      1   324   \n",
       "normal      324              324   324     324    324    294      1   324   \n",
       "normalv2    324              324   324     324    324    303      2   324   \n",
       "repeat      324              324   324     324    324    304      1   324   \n",
       "spoof       324              324   324     324    324    288      0   324   \n",
       "\n",
       "          close  fstat64  getdents  read  unlink  mprotect  clock_gettime  \\\n",
       "maltype                                                                     \n",
       "delay       298      296       296   298     296         0              0   \n",
       "disorder    324        2         2   324       2         0              0   \n",
       "freeze      324        0         0   324       0         0              0   \n",
       "hop         324        0         0   324       0         0              0   \n",
       "mimic       324        0         0   324       0         0              0   \n",
       "noise       324        0         0   324       0         0              0   \n",
       "normal      324        0         0   324       0         0              0   \n",
       "normalv2    324        0         0   324       0         0              0   \n",
       "repeat      324        0         0   324       0         0              0   \n",
       "spoof       324        0         0   324       0         1              0   \n",
       "\n",
       "          gettimeofday  openat  getdents64  getrandom  gettid  \n",
       "maltype                                                        \n",
       "delay                0       0           0          0       0  \n",
       "disorder             0       0           0          0       0  \n",
       "freeze               0       0           0          0       0  \n",
       "hop                  0       0           0          0       0  \n",
       "mimic                0       0           0          0       0  \n",
       "noise                0       0           0          0       0  \n",
       "normal               0       0           0          0       0  \n",
       "normalv2             0       0           0          0       0  \n",
       "repeat               0       0           0          0       0  \n",
       "spoof                0       0           0          0       0  "
      ]
     },
     "execution_count": 86,
     "metadata": {},
     "output_type": "execute_result"
    }
   ],
   "source": [
    "df_1gram.groupby('maltype').agg(np.count_nonzero)"
   ]
  },
  {
   "cell_type": "code",
   "execution_count": 47,
   "metadata": {},
   "outputs": [],
   "source": [
    "a= np.count_nonzero"
   ]
  },
  {
   "cell_type": "code",
   "execution_count": 33,
   "metadata": {},
   "outputs": [],
   "source": [
    "encoded_trace_df = pd.read_pickle(encoded_path+'encoded_bow{}_{}.pkl'.format('pi4_2G', 60))\n",
    "countF = encoded_trace_df[feature]"
   ]
  },
  {
   "cell_type": "code",
   "execution_count": 32,
   "metadata": {},
   "outputs": [],
   "source": [
    "for device in devices:\n",
    "    dataPath = rootPath+'encoded/t1/'\n",
    "    feature = 'system calls frequency_1gram'\n",
    "    # tsv_name = dataPath+'encoded_bow{}_{}_{}.csv'.format(device, tw, feature)\n",
    "    # encoded_trace_df = pd.read_csv(tsv_name, sep='\\t')\n",
    "    # ft = [ast.literal_eval(i) for i in encoded_trace_df[feature]]\n",
    "    # encoded_trace_df[feature] = ft\n",
    "    encoded_trace_df = pd.read_pickle(encoded_path+'encoded_bow{}_{}.pkl'.format(device, 60))\n",
    "    countF = encoded_trace_df[feature]\n",
    "    maltype = encoded_trace_df.maltype.tolist()\n",
    "\n",
    "    countF = [countF[i] for i in range(0, len(countF))]\n",
    "    ncf = []\n",
    "    for i in range(0, len(countF)):\n",
    "        a = countF[i].tolist()\n",
    "        b = maltype[i]\n",
    "        a.append(b)\n",
    "        ncf.append(a)\n",
    "    dcf = pd.DataFrame(ncf)\n",
    "    ngram = [dict_to_ngram[i] for i in range(0, len(dict_to_ngram))]\n",
    "    keys = ngram + ['maltype']\n",
    "    dcf.columns = keys\n",
    "    k1 = [i for i in gram_1] + ['maltype']\n",
    "    df_1gram = dcf[k1]\n",
    "\n",
    "    # for meth in ['mean', 'median', 'min', 'max']:\n",
    "    #     mead_1_gram = df_1gram.groupby('maltype',as_index=False).agg(meth)\n",
    "    #     stpath = rootPath+'encoded/st/{}_{}_{}.csv'.format(device, tw, meth)\n",
    "    #     mead_1_gram.to_csv(stpath)\n",
    "    mead_1_gram = df_1gram.groupby('maltype',as_index=False).agg(lambda x: x.astype(bool).sum()/x.size)\n",
    "    stpath = rootPath+'encoded/st/{}_{}_{}.csv'.format(device, tw, 'count')\n",
    "    mead_1_gram.to_csv(stpath)\n",
    "    mead_1_gram = df_1gram.groupby('maltype',as_index=False).agg(['mean', 'median', 'min', 'max', 'std'])\n",
    "    stpath = rootPath+'encoded/st/{}_{}_{}.csv'.format(device, tw, 'st')\n",
    "    mead_1_gram.to_csv(stpath)\n",
    "    mead_1_gram = df_1gram.groupby('maltype',as_index=False).agg([ 'median'])\n",
    "    stpath = rootPath+'encoded/st/{}_{}_{}.csv'.format(device, tw, 'median')\n",
    "    mead_1_gram.to_csv(stpath)"
   ]
  },
  {
   "cell_type": "code",
   "execution_count": 11,
   "metadata": {},
   "outputs": [
    {
     "data": {
      "text/html": [
       "<div>\n",
       "<style scoped>\n",
       "    .dataframe tbody tr th:only-of-type {\n",
       "        vertical-align: middle;\n",
       "    }\n",
       "\n",
       "    .dataframe tbody tr th {\n",
       "        vertical-align: top;\n",
       "    }\n",
       "\n",
       "    .dataframe thead tr th {\n",
       "        text-align: left;\n",
       "    }\n",
       "\n",
       "    .dataframe thead tr:last-of-type th {\n",
       "        text-align: right;\n",
       "    }\n",
       "</style>\n",
       "<table border=\"1\" class=\"dataframe\">\n",
       "  <thead>\n",
       "    <tr>\n",
       "      <th></th>\n",
       "      <th colspan=\"5\" halign=\"left\">ioctl</th>\n",
       "      <th colspan=\"5\" halign=\"left\">timerfd_settime</th>\n",
       "      <th>...</th>\n",
       "      <th colspan=\"5\" halign=\"left\">gettimeofday</th>\n",
       "      <th colspan=\"5\" halign=\"left\">madvise</th>\n",
       "    </tr>\n",
       "    <tr>\n",
       "      <th></th>\n",
       "      <th>mean</th>\n",
       "      <th>median</th>\n",
       "      <th>min</th>\n",
       "      <th>max</th>\n",
       "      <th>std</th>\n",
       "      <th>mean</th>\n",
       "      <th>median</th>\n",
       "      <th>min</th>\n",
       "      <th>max</th>\n",
       "      <th>std</th>\n",
       "      <th>...</th>\n",
       "      <th>mean</th>\n",
       "      <th>median</th>\n",
       "      <th>min</th>\n",
       "      <th>max</th>\n",
       "      <th>std</th>\n",
       "      <th>mean</th>\n",
       "      <th>median</th>\n",
       "      <th>min</th>\n",
       "      <th>max</th>\n",
       "      <th>std</th>\n",
       "    </tr>\n",
       "    <tr>\n",
       "      <th>maltype</th>\n",
       "      <th></th>\n",
       "      <th></th>\n",
       "      <th></th>\n",
       "      <th></th>\n",
       "      <th></th>\n",
       "      <th></th>\n",
       "      <th></th>\n",
       "      <th></th>\n",
       "      <th></th>\n",
       "      <th></th>\n",
       "      <th></th>\n",
       "      <th></th>\n",
       "      <th></th>\n",
       "      <th></th>\n",
       "      <th></th>\n",
       "      <th></th>\n",
       "      <th></th>\n",
       "      <th></th>\n",
       "      <th></th>\n",
       "      <th></th>\n",
       "      <th></th>\n",
       "    </tr>\n",
       "  </thead>\n",
       "  <tbody>\n",
       "    <tr>\n",
       "      <th>delay</th>\n",
       "      <td>73800.502778</td>\n",
       "      <td>74265.0</td>\n",
       "      <td>60405</td>\n",
       "      <td>84662</td>\n",
       "      <td>6778.685339</td>\n",
       "      <td>47281.255556</td>\n",
       "      <td>47573.5</td>\n",
       "      <td>38654</td>\n",
       "      <td>54269</td>\n",
       "      <td>4362.523494</td>\n",
       "      <td>...</td>\n",
       "      <td>0.0</td>\n",
       "      <td>0.0</td>\n",
       "      <td>0</td>\n",
       "      <td>0</td>\n",
       "      <td>0.0</td>\n",
       "      <td>0.0</td>\n",
       "      <td>0.0</td>\n",
       "      <td>0</td>\n",
       "      <td>0</td>\n",
       "      <td>0.0</td>\n",
       "    </tr>\n",
       "    <tr>\n",
       "      <th>disorder</th>\n",
       "      <td>73442.472222</td>\n",
       "      <td>73143.0</td>\n",
       "      <td>59185</td>\n",
       "      <td>84672</td>\n",
       "      <td>7620.496207</td>\n",
       "      <td>47051.194444</td>\n",
       "      <td>46861.5</td>\n",
       "      <td>37896</td>\n",
       "      <td>54277</td>\n",
       "      <td>4904.366617</td>\n",
       "      <td>...</td>\n",
       "      <td>0.0</td>\n",
       "      <td>0.0</td>\n",
       "      <td>0</td>\n",
       "      <td>0</td>\n",
       "      <td>0.0</td>\n",
       "      <td>0.0</td>\n",
       "      <td>0.0</td>\n",
       "      <td>0</td>\n",
       "      <td>0</td>\n",
       "      <td>0.0</td>\n",
       "    </tr>\n",
       "    <tr>\n",
       "      <th>freeze</th>\n",
       "      <td>71120.680556</td>\n",
       "      <td>71377.0</td>\n",
       "      <td>56505</td>\n",
       "      <td>83164</td>\n",
       "      <td>7212.081273</td>\n",
       "      <td>45564.333333</td>\n",
       "      <td>45724.5</td>\n",
       "      <td>36159</td>\n",
       "      <td>53311</td>\n",
       "      <td>4639.049206</td>\n",
       "      <td>...</td>\n",
       "      <td>0.0</td>\n",
       "      <td>0.0</td>\n",
       "      <td>0</td>\n",
       "      <td>0</td>\n",
       "      <td>0.0</td>\n",
       "      <td>0.0</td>\n",
       "      <td>0.0</td>\n",
       "      <td>0</td>\n",
       "      <td>0</td>\n",
       "      <td>0.0</td>\n",
       "    </tr>\n",
       "    <tr>\n",
       "      <th>hop</th>\n",
       "      <td>73771.852778</td>\n",
       "      <td>74121.0</td>\n",
       "      <td>59945</td>\n",
       "      <td>84324</td>\n",
       "      <td>7170.439720</td>\n",
       "      <td>47262.258333</td>\n",
       "      <td>47463.5</td>\n",
       "      <td>38410</td>\n",
       "      <td>54054</td>\n",
       "      <td>4615.103790</td>\n",
       "      <td>...</td>\n",
       "      <td>0.0</td>\n",
       "      <td>0.0</td>\n",
       "      <td>0</td>\n",
       "      <td>0</td>\n",
       "      <td>0.0</td>\n",
       "      <td>0.0</td>\n",
       "      <td>0.0</td>\n",
       "      <td>0</td>\n",
       "      <td>0</td>\n",
       "      <td>0.0</td>\n",
       "    </tr>\n",
       "    <tr>\n",
       "      <th>mimic</th>\n",
       "      <td>73452.561111</td>\n",
       "      <td>73970.5</td>\n",
       "      <td>59709</td>\n",
       "      <td>84677</td>\n",
       "      <td>7146.269927</td>\n",
       "      <td>47058.302778</td>\n",
       "      <td>47403.5</td>\n",
       "      <td>38226</td>\n",
       "      <td>54279</td>\n",
       "      <td>4598.584028</td>\n",
       "      <td>...</td>\n",
       "      <td>0.0</td>\n",
       "      <td>0.0</td>\n",
       "      <td>0</td>\n",
       "      <td>0</td>\n",
       "      <td>0.0</td>\n",
       "      <td>0.0</td>\n",
       "      <td>0.0</td>\n",
       "      <td>0</td>\n",
       "      <td>0</td>\n",
       "      <td>0.0</td>\n",
       "    </tr>\n",
       "    <tr>\n",
       "      <th>noise</th>\n",
       "      <td>73585.997222</td>\n",
       "      <td>73758.0</td>\n",
       "      <td>59973</td>\n",
       "      <td>84340</td>\n",
       "      <td>7160.558114</td>\n",
       "      <td>47141.719444</td>\n",
       "      <td>47258.0</td>\n",
       "      <td>38423</td>\n",
       "      <td>54064</td>\n",
       "      <td>4608.787908</td>\n",
       "      <td>...</td>\n",
       "      <td>0.0</td>\n",
       "      <td>0.0</td>\n",
       "      <td>0</td>\n",
       "      <td>0</td>\n",
       "      <td>0.0</td>\n",
       "      <td>0.0</td>\n",
       "      <td>0.0</td>\n",
       "      <td>0</td>\n",
       "      <td>0</td>\n",
       "      <td>0.0</td>\n",
       "    </tr>\n",
       "    <tr>\n",
       "      <th>normal</th>\n",
       "      <td>71773.441667</td>\n",
       "      <td>72192.0</td>\n",
       "      <td>59509</td>\n",
       "      <td>84707</td>\n",
       "      <td>7859.889939</td>\n",
       "      <td>45974.008333</td>\n",
       "      <td>46240.0</td>\n",
       "      <td>38031</td>\n",
       "      <td>54299</td>\n",
       "      <td>5059.363419</td>\n",
       "      <td>...</td>\n",
       "      <td>0.0</td>\n",
       "      <td>0.0</td>\n",
       "      <td>0</td>\n",
       "      <td>0</td>\n",
       "      <td>0.0</td>\n",
       "      <td>0.0</td>\n",
       "      <td>0.0</td>\n",
       "      <td>0</td>\n",
       "      <td>0</td>\n",
       "      <td>0.0</td>\n",
       "    </tr>\n",
       "    <tr>\n",
       "      <th>normalv2</th>\n",
       "      <td>71990.408333</td>\n",
       "      <td>71202.0</td>\n",
       "      <td>59498</td>\n",
       "      <td>84502</td>\n",
       "      <td>7800.349054</td>\n",
       "      <td>46117.694444</td>\n",
       "      <td>45630.0</td>\n",
       "      <td>38097</td>\n",
       "      <td>54168</td>\n",
       "      <td>5018.532999</td>\n",
       "      <td>...</td>\n",
       "      <td>0.0</td>\n",
       "      <td>0.0</td>\n",
       "      <td>0</td>\n",
       "      <td>0</td>\n",
       "      <td>0.0</td>\n",
       "      <td>0.0</td>\n",
       "      <td>0.0</td>\n",
       "      <td>0</td>\n",
       "      <td>0</td>\n",
       "      <td>0.0</td>\n",
       "    </tr>\n",
       "    <tr>\n",
       "      <th>repeat</th>\n",
       "      <td>71663.672222</td>\n",
       "      <td>71877.5</td>\n",
       "      <td>58687</td>\n",
       "      <td>83304</td>\n",
       "      <td>7002.163909</td>\n",
       "      <td>45906.411111</td>\n",
       "      <td>46054.5</td>\n",
       "      <td>37562</td>\n",
       "      <td>53400</td>\n",
       "      <td>4508.571409</td>\n",
       "      <td>...</td>\n",
       "      <td>0.0</td>\n",
       "      <td>0.0</td>\n",
       "      <td>0</td>\n",
       "      <td>0</td>\n",
       "      <td>0.0</td>\n",
       "      <td>0.0</td>\n",
       "      <td>0.0</td>\n",
       "      <td>0</td>\n",
       "      <td>0</td>\n",
       "      <td>0.0</td>\n",
       "    </tr>\n",
       "    <tr>\n",
       "      <th>spoof</th>\n",
       "      <td>73664.666667</td>\n",
       "      <td>73650.5</td>\n",
       "      <td>60562</td>\n",
       "      <td>84716</td>\n",
       "      <td>6724.545452</td>\n",
       "      <td>47193.208333</td>\n",
       "      <td>47193.5</td>\n",
       "      <td>38772</td>\n",
       "      <td>54304</td>\n",
       "      <td>4329.537718</td>\n",
       "      <td>...</td>\n",
       "      <td>0.0</td>\n",
       "      <td>0.0</td>\n",
       "      <td>0</td>\n",
       "      <td>0</td>\n",
       "      <td>0.0</td>\n",
       "      <td>0.0</td>\n",
       "      <td>0.0</td>\n",
       "      <td>0</td>\n",
       "      <td>0</td>\n",
       "      <td>0.0</td>\n",
       "    </tr>\n",
       "  </tbody>\n",
       "</table>\n",
       "<p>10 rows × 85 columns</p>\n",
       "</div>"
      ],
      "text/plain": [
       "                 ioctl                                     timerfd_settime  \\\n",
       "                  mean   median    min    max          std            mean   \n",
       "maltype                                                                      \n",
       "delay     73800.502778  74265.0  60405  84662  6778.685339    47281.255556   \n",
       "disorder  73442.472222  73143.0  59185  84672  7620.496207    47051.194444   \n",
       "freeze    71120.680556  71377.0  56505  83164  7212.081273    45564.333333   \n",
       "hop       73771.852778  74121.0  59945  84324  7170.439720    47262.258333   \n",
       "mimic     73452.561111  73970.5  59709  84677  7146.269927    47058.302778   \n",
       "noise     73585.997222  73758.0  59973  84340  7160.558114    47141.719444   \n",
       "normal    71773.441667  72192.0  59509  84707  7859.889939    45974.008333   \n",
       "normalv2  71990.408333  71202.0  59498  84502  7800.349054    46117.694444   \n",
       "repeat    71663.672222  71877.5  58687  83304  7002.163909    45906.411111   \n",
       "spoof     73664.666667  73650.5  60562  84716  6724.545452    47193.208333   \n",
       "\n",
       "                                              ... gettimeofday                 \\\n",
       "           median    min    max          std  ...         mean median min max   \n",
       "maltype                                       ...                               \n",
       "delay     47573.5  38654  54269  4362.523494  ...          0.0    0.0   0   0   \n",
       "disorder  46861.5  37896  54277  4904.366617  ...          0.0    0.0   0   0   \n",
       "freeze    45724.5  36159  53311  4639.049206  ...          0.0    0.0   0   0   \n",
       "hop       47463.5  38410  54054  4615.103790  ...          0.0    0.0   0   0   \n",
       "mimic     47403.5  38226  54279  4598.584028  ...          0.0    0.0   0   0   \n",
       "noise     47258.0  38423  54064  4608.787908  ...          0.0    0.0   0   0   \n",
       "normal    46240.0  38031  54299  5059.363419  ...          0.0    0.0   0   0   \n",
       "normalv2  45630.0  38097  54168  5018.532999  ...          0.0    0.0   0   0   \n",
       "repeat    46054.5  37562  53400  4508.571409  ...          0.0    0.0   0   0   \n",
       "spoof     47193.5  38772  54304  4329.537718  ...          0.0    0.0   0   0   \n",
       "\n",
       "              madvise                      \n",
       "          std    mean median min max  std  \n",
       "maltype                                    \n",
       "delay     0.0     0.0    0.0   0   0  0.0  \n",
       "disorder  0.0     0.0    0.0   0   0  0.0  \n",
       "freeze    0.0     0.0    0.0   0   0  0.0  \n",
       "hop       0.0     0.0    0.0   0   0  0.0  \n",
       "mimic     0.0     0.0    0.0   0   0  0.0  \n",
       "noise     0.0     0.0    0.0   0   0  0.0  \n",
       "normal    0.0     0.0    0.0   0   0  0.0  \n",
       "normalv2  0.0     0.0    0.0   0   0  0.0  \n",
       "repeat    0.0     0.0    0.0   0   0  0.0  \n",
       "spoof     0.0     0.0    0.0   0   0  0.0  \n",
       "\n",
       "[10 rows x 85 columns]"
      ]
     },
     "execution_count": 11,
     "metadata": {},
     "output_type": "execute_result"
    }
   ],
   "source": [
    "mead_1_gram"
   ]
  },
  {
   "cell_type": "code",
   "execution_count": 5,
   "metadata": {},
   "outputs": [],
   "source": [
    "# gram_1 = {}\n",
    "# gram_2 = {}\n",
    "# gram_3 = {}\n",
    "# dict_to_ngram = dict()\n",
    "# for key in ngrams_dict:\n",
    "#     if key == 'unk':\n",
    "#         continue\n",
    "#     dict_to_ngram[ngrams_dict[key]] = key\n",
    "#     l = len(key.split())\n",
    "#     if l ==1 :\n",
    "#         gram_1[key] = ngrams_dict[key]\n",
    "#     if l ==2 :\n",
    "#         gram_2[key] = ngrams_dict[key]\n",
    "#     if l ==3 :\n",
    "#         gram_3[key] = ngrams_dict[key]"
   ]
  },
  {
   "cell_type": "code",
   "execution_count": 9,
   "metadata": {},
   "outputs": [],
   "source": [
    "features = encoded_trace_df.columns"
   ]
  },
  {
   "cell_type": "code",
   "execution_count": 10,
   "metadata": {},
   "outputs": [],
   "source": [
    "# features = ['system calls frequency' ,'system calls tfidf','system calls hashing', 'system calls dependency graph', 'one hot encoding', 'dict index encoding' ]\n",
    "malwares=[\"delay\", \"disorder\", \"freeze\", \"hop\", \"mimic\", \"noise\", \"repeat\", \"spoof\"]"
   ]
  },
  {
   "cell_type": "code",
   "execution_count": 11,
   "metadata": {},
   "outputs": [],
   "source": [
    "countF = encoded_trace_df['system calls frequency_1gram'].tolist()\n",
    "maltype = encoded_trace_df.maltype.tolist()"
   ]
  },
  {
   "cell_type": "code",
   "execution_count": 13,
   "metadata": {},
   "outputs": [],
   "source": [
    "countF = [countF[i].tolist() for i in range(0, len(countF))]\n",
    "ncf = []\n",
    "for i in range(0, len(countF)):\n",
    "    a = countF[i]\n",
    "    b = maltype[i]\n",
    "    a.append(b)\n",
    "    ncf.append(a)"
   ]
  },
  {
   "cell_type": "code",
   "execution_count": 20,
   "metadata": {},
   "outputs": [],
   "source": [
    "dcf = pd.DataFrame(ncf)\n",
    "ngram = [dict_to_ngram[i] for i in range(0, len(dict_to_ngram))]\n",
    "keys = ngram + ['maltype']\n",
    "dcf.columns = keys\n",
    "k1 = [i for i in gram_1] + ['maltype']\n",
    "df_1gram = dcf[k1]"
   ]
  },
  {
   "cell_type": "code",
   "execution_count": 26,
   "metadata": {},
   "outputs": [
    {
     "data": {
      "text/html": [
       "<div>\n",
       "<style scoped>\n",
       "    .dataframe tbody tr th:only-of-type {\n",
       "        vertical-align: middle;\n",
       "    }\n",
       "\n",
       "    .dataframe tbody tr th {\n",
       "        vertical-align: top;\n",
       "    }\n",
       "\n",
       "    .dataframe thead th {\n",
       "        text-align: right;\n",
       "    }\n",
       "</style>\n",
       "<table border=\"1\" class=\"dataframe\">\n",
       "  <thead>\n",
       "    <tr style=\"text-align: right;\">\n",
       "      <th></th>\n",
       "      <th>maltype</th>\n",
       "      <th>ioctl</th>\n",
       "      <th>timerfd_settime</th>\n",
       "      <th>poll</th>\n",
       "      <th>getpid</th>\n",
       "      <th>write</th>\n",
       "      <th>futex</th>\n",
       "      <th>mkdir</th>\n",
       "      <th>open</th>\n",
       "      <th>close</th>\n",
       "      <th>...</th>\n",
       "      <th>getdents</th>\n",
       "      <th>read</th>\n",
       "      <th>unlink</th>\n",
       "      <th>mprotect</th>\n",
       "      <th>clock_gettime</th>\n",
       "      <th>gettimeofday</th>\n",
       "      <th>openat</th>\n",
       "      <th>getdents64</th>\n",
       "      <th>getrandom</th>\n",
       "      <th>gettid</th>\n",
       "    </tr>\n",
       "  </thead>\n",
       "  <tbody>\n",
       "    <tr>\n",
       "      <th>0</th>\n",
       "      <td>delay</td>\n",
       "      <td>60969</td>\n",
       "      <td>39030</td>\n",
       "      <td>20554</td>\n",
       "      <td>780</td>\n",
       "      <td>899</td>\n",
       "      <td>0</td>\n",
       "      <td>0</td>\n",
       "      <td>0</td>\n",
       "      <td>0</td>\n",
       "      <td>...</td>\n",
       "      <td>0</td>\n",
       "      <td>0</td>\n",
       "      <td>0</td>\n",
       "      <td>0</td>\n",
       "      <td>0</td>\n",
       "      <td>0</td>\n",
       "      <td>0</td>\n",
       "      <td>0</td>\n",
       "      <td>0</td>\n",
       "      <td>0</td>\n",
       "    </tr>\n",
       "    <tr>\n",
       "      <th>1</th>\n",
       "      <td>disorder</td>\n",
       "      <td>61481</td>\n",
       "      <td>39319</td>\n",
       "      <td>20678</td>\n",
       "      <td>786</td>\n",
       "      <td>856</td>\n",
       "      <td>0</td>\n",
       "      <td>0</td>\n",
       "      <td>6</td>\n",
       "      <td>6</td>\n",
       "      <td>...</td>\n",
       "      <td>0</td>\n",
       "      <td>10</td>\n",
       "      <td>0</td>\n",
       "      <td>0</td>\n",
       "      <td>0</td>\n",
       "      <td>0</td>\n",
       "      <td>0</td>\n",
       "      <td>0</td>\n",
       "      <td>0</td>\n",
       "      <td>0</td>\n",
       "    </tr>\n",
       "    <tr>\n",
       "      <th>2</th>\n",
       "      <td>freeze</td>\n",
       "      <td>62341</td>\n",
       "      <td>39921</td>\n",
       "      <td>21058</td>\n",
       "      <td>800</td>\n",
       "      <td>856</td>\n",
       "      <td>0</td>\n",
       "      <td>0</td>\n",
       "      <td>6</td>\n",
       "      <td>5</td>\n",
       "      <td>...</td>\n",
       "      <td>0</td>\n",
       "      <td>10</td>\n",
       "      <td>0</td>\n",
       "      <td>0</td>\n",
       "      <td>0</td>\n",
       "      <td>0</td>\n",
       "      <td>0</td>\n",
       "      <td>0</td>\n",
       "      <td>0</td>\n",
       "      <td>0</td>\n",
       "    </tr>\n",
       "    <tr>\n",
       "      <th>3</th>\n",
       "      <td>hop</td>\n",
       "      <td>62679</td>\n",
       "      <td>40150</td>\n",
       "      <td>21166</td>\n",
       "      <td>802</td>\n",
       "      <td>829</td>\n",
       "      <td>0</td>\n",
       "      <td>0</td>\n",
       "      <td>6</td>\n",
       "      <td>5</td>\n",
       "      <td>...</td>\n",
       "      <td>0</td>\n",
       "      <td>10</td>\n",
       "      <td>0</td>\n",
       "      <td>0</td>\n",
       "      <td>0</td>\n",
       "      <td>0</td>\n",
       "      <td>0</td>\n",
       "      <td>0</td>\n",
       "      <td>0</td>\n",
       "      <td>0</td>\n",
       "    </tr>\n",
       "    <tr>\n",
       "      <th>4</th>\n",
       "      <td>mimic</td>\n",
       "      <td>62433</td>\n",
       "      <td>39947</td>\n",
       "      <td>21058</td>\n",
       "      <td>800</td>\n",
       "      <td>844</td>\n",
       "      <td>0</td>\n",
       "      <td>0</td>\n",
       "      <td>6</td>\n",
       "      <td>5</td>\n",
       "      <td>...</td>\n",
       "      <td>0</td>\n",
       "      <td>10</td>\n",
       "      <td>0</td>\n",
       "      <td>0</td>\n",
       "      <td>0</td>\n",
       "      <td>0</td>\n",
       "      <td>0</td>\n",
       "      <td>0</td>\n",
       "      <td>0</td>\n",
       "      <td>0</td>\n",
       "    </tr>\n",
       "    <tr>\n",
       "      <th>5</th>\n",
       "      <td>noise</td>\n",
       "      <td>61935</td>\n",
       "      <td>39672</td>\n",
       "      <td>21029</td>\n",
       "      <td>794</td>\n",
       "      <td>848</td>\n",
       "      <td>0</td>\n",
       "      <td>0</td>\n",
       "      <td>6</td>\n",
       "      <td>5</td>\n",
       "      <td>...</td>\n",
       "      <td>0</td>\n",
       "      <td>10</td>\n",
       "      <td>0</td>\n",
       "      <td>0</td>\n",
       "      <td>0</td>\n",
       "      <td>0</td>\n",
       "      <td>0</td>\n",
       "      <td>0</td>\n",
       "      <td>0</td>\n",
       "      <td>0</td>\n",
       "    </tr>\n",
       "    <tr>\n",
       "      <th>6</th>\n",
       "      <td>normal</td>\n",
       "      <td>61871</td>\n",
       "      <td>39606</td>\n",
       "      <td>20974</td>\n",
       "      <td>792</td>\n",
       "      <td>847</td>\n",
       "      <td>0</td>\n",
       "      <td>0</td>\n",
       "      <td>6</td>\n",
       "      <td>5</td>\n",
       "      <td>...</td>\n",
       "      <td>0</td>\n",
       "      <td>10</td>\n",
       "      <td>0</td>\n",
       "      <td>0</td>\n",
       "      <td>0</td>\n",
       "      <td>0</td>\n",
       "      <td>0</td>\n",
       "      <td>0</td>\n",
       "      <td>0</td>\n",
       "      <td>0</td>\n",
       "    </tr>\n",
       "    <tr>\n",
       "      <th>7</th>\n",
       "      <td>normalv2</td>\n",
       "      <td>62275</td>\n",
       "      <td>39871</td>\n",
       "      <td>21026</td>\n",
       "      <td>797</td>\n",
       "      <td>838</td>\n",
       "      <td>0</td>\n",
       "      <td>0</td>\n",
       "      <td>6</td>\n",
       "      <td>5</td>\n",
       "      <td>...</td>\n",
       "      <td>0</td>\n",
       "      <td>10</td>\n",
       "      <td>0</td>\n",
       "      <td>0</td>\n",
       "      <td>0</td>\n",
       "      <td>0</td>\n",
       "      <td>0</td>\n",
       "      <td>0</td>\n",
       "      <td>0</td>\n",
       "      <td>0</td>\n",
       "    </tr>\n",
       "    <tr>\n",
       "      <th>8</th>\n",
       "      <td>repeat</td>\n",
       "      <td>62617</td>\n",
       "      <td>40093</td>\n",
       "      <td>21138</td>\n",
       "      <td>802</td>\n",
       "      <td>839</td>\n",
       "      <td>0</td>\n",
       "      <td>0</td>\n",
       "      <td>6</td>\n",
       "      <td>5</td>\n",
       "      <td>...</td>\n",
       "      <td>0</td>\n",
       "      <td>10</td>\n",
       "      <td>0</td>\n",
       "      <td>0</td>\n",
       "      <td>0</td>\n",
       "      <td>0</td>\n",
       "      <td>0</td>\n",
       "      <td>0</td>\n",
       "      <td>0</td>\n",
       "      <td>0</td>\n",
       "    </tr>\n",
       "    <tr>\n",
       "      <th>9</th>\n",
       "      <td>spoof</td>\n",
       "      <td>62447</td>\n",
       "      <td>39976</td>\n",
       "      <td>21082</td>\n",
       "      <td>800</td>\n",
       "      <td>837</td>\n",
       "      <td>0</td>\n",
       "      <td>0</td>\n",
       "      <td>6</td>\n",
       "      <td>5</td>\n",
       "      <td>...</td>\n",
       "      <td>0</td>\n",
       "      <td>10</td>\n",
       "      <td>0</td>\n",
       "      <td>0</td>\n",
       "      <td>0</td>\n",
       "      <td>0</td>\n",
       "      <td>0</td>\n",
       "      <td>0</td>\n",
       "      <td>0</td>\n",
       "      <td>0</td>\n",
       "    </tr>\n",
       "  </tbody>\n",
       "</table>\n",
       "<p>10 rows × 21 columns</p>\n",
       "</div>"
      ],
      "text/plain": [
       "    maltype  ioctl  timerfd_settime   poll  getpid  write  futex  mkdir  open  \\\n",
       "0     delay  60969            39030  20554     780    899      0      0     0   \n",
       "1  disorder  61481            39319  20678     786    856      0      0     6   \n",
       "2    freeze  62341            39921  21058     800    856      0      0     6   \n",
       "3       hop  62679            40150  21166     802    829      0      0     6   \n",
       "4     mimic  62433            39947  21058     800    844      0      0     6   \n",
       "5     noise  61935            39672  21029     794    848      0      0     6   \n",
       "6    normal  61871            39606  20974     792    847      0      0     6   \n",
       "7  normalv2  62275            39871  21026     797    838      0      0     6   \n",
       "8    repeat  62617            40093  21138     802    839      0      0     6   \n",
       "9     spoof  62447            39976  21082     800    837      0      0     6   \n",
       "\n",
       "   close  ...  getdents  read  unlink  mprotect  clock_gettime  gettimeofday  \\\n",
       "0      0  ...         0     0       0         0              0             0   \n",
       "1      6  ...         0    10       0         0              0             0   \n",
       "2      5  ...         0    10       0         0              0             0   \n",
       "3      5  ...         0    10       0         0              0             0   \n",
       "4      5  ...         0    10       0         0              0             0   \n",
       "5      5  ...         0    10       0         0              0             0   \n",
       "6      5  ...         0    10       0         0              0             0   \n",
       "7      5  ...         0    10       0         0              0             0   \n",
       "8      5  ...         0    10       0         0              0             0   \n",
       "9      5  ...         0    10       0         0              0             0   \n",
       "\n",
       "   openat  getdents64  getrandom  gettid  \n",
       "0       0           0          0       0  \n",
       "1       0           0          0       0  \n",
       "2       0           0          0       0  \n",
       "3       0           0          0       0  \n",
       "4       0           0          0       0  \n",
       "5       0           0          0       0  \n",
       "6       0           0          0       0  \n",
       "7       0           0          0       0  \n",
       "8       0           0          0       0  \n",
       "9       0           0          0       0  \n",
       "\n",
       "[10 rows x 21 columns]"
      ]
     },
     "execution_count": 26,
     "metadata": {},
     "output_type": "execute_result"
    }
   ],
   "source": [
    "mead_1_gram = df_1gram.groupby('maltype',as_index=False).agg('median')\n",
    "mead_1_gram"
   ]
  },
  {
   "cell_type": "code",
   "execution_count": 18,
   "metadata": {},
   "outputs": [
    {
     "data": {
      "application/vnd.plotly.v1+json": {
       "config": {
        "plotlyServerURL": "https://plot.ly"
       },
       "data": [
        {
         "alignmentgroup": "True",
         "boxpoints": "all",
         "fillcolor": "rgba(255,255,255,0)",
         "hoveron": "points",
         "hovertemplate": "maltype=delay<br>variable=%{x}<br>value=%{y}<extra></extra>",
         "legendgroup": "delay",
         "line": {
          "color": "rgba(255,255,255,0)"
         },
         "marker": {
          "color": "#636efa"
         },
         "name": "delay",
         "offsetgroup": "delay",
         "orientation": "v",
         "pointpos": 0,
         "showlegend": true,
         "type": "box",
         "x": [
          "ioctl",
          "timerfd_settime",
          "poll",
          "getpid",
          "write",
          "mkdir",
          "open",
          "close",
          "fstat64",
          "getdents",
          "read",
          "unlink",
          "futex",
          "mprotect"
         ],
         "x0": " ",
         "xaxis": "x",
         "y": [
          26267,
          16830,
          8990,
          336,
          412,
          0,
          0,
          0,
          0,
          0,
          0,
          0,
          6,
          0
         ],
         "y0": " ",
         "yaxis": "y"
        },
        {
         "alignmentgroup": "True",
         "boxpoints": "all",
         "fillcolor": "rgba(255,255,255,0)",
         "hoveron": "points",
         "hovertemplate": "maltype=disorder<br>variable=%{x}<br>value=%{y}<extra></extra>",
         "legendgroup": "disorder",
         "line": {
          "color": "rgba(255,255,255,0)"
         },
         "marker": {
          "color": "#EF553B"
         },
         "name": "disorder",
         "offsetgroup": "disorder",
         "orientation": "v",
         "pointpos": 0,
         "showlegend": true,
         "type": "box",
         "x": [
          "ioctl",
          "timerfd_settime",
          "poll",
          "getpid",
          "write",
          "mkdir",
          "open",
          "close",
          "fstat64",
          "getdents",
          "read",
          "unlink",
          "futex",
          "mprotect"
         ],
         "x0": " ",
         "xaxis": "x",
         "y": [
          26378.5,
          16907.5,
          9045.5,
          338,
          407,
          0,
          0,
          0,
          0,
          0,
          0,
          0,
          4,
          0
         ],
         "y0": " ",
         "yaxis": "y"
        },
        {
         "alignmentgroup": "True",
         "boxpoints": "all",
         "fillcolor": "rgba(255,255,255,0)",
         "hoveron": "points",
         "hovertemplate": "maltype=freeze<br>variable=%{x}<br>value=%{y}<extra></extra>",
         "legendgroup": "freeze",
         "line": {
          "color": "rgba(255,255,255,0)"
         },
         "marker": {
          "color": "#00cc96"
         },
         "name": "freeze",
         "offsetgroup": "freeze",
         "orientation": "v",
         "pointpos": 0,
         "showlegend": true,
         "type": "box",
         "x": [
          "ioctl",
          "timerfd_settime",
          "poll",
          "getpid",
          "write",
          "mkdir",
          "open",
          "close",
          "fstat64",
          "getdents",
          "read",
          "unlink",
          "futex",
          "mprotect"
         ],
         "x0": " ",
         "xaxis": "x",
         "y": [
          26069,
          16708,
          8930,
          334,
          378,
          0,
          0,
          0,
          0,
          0,
          0,
          0,
          4,
          0
         ],
         "y0": " ",
         "yaxis": "y"
        },
        {
         "alignmentgroup": "True",
         "boxpoints": "all",
         "fillcolor": "rgba(255,255,255,0)",
         "hoveron": "points",
         "hovertemplate": "maltype=hop<br>variable=%{x}<br>value=%{y}<extra></extra>",
         "legendgroup": "hop",
         "line": {
          "color": "rgba(255,255,255,0)"
         },
         "marker": {
          "color": "#ab63fa"
         },
         "name": "hop",
         "offsetgroup": "hop",
         "orientation": "v",
         "pointpos": 0,
         "showlegend": true,
         "type": "box",
         "x": [
          "ioctl",
          "timerfd_settime",
          "poll",
          "getpid",
          "write",
          "mkdir",
          "open",
          "close",
          "fstat64",
          "getdents",
          "read",
          "unlink",
          "futex",
          "mprotect"
         ],
         "x0": " ",
         "xaxis": "x",
         "y": [
          25020,
          16035,
          8578,
          320,
          363.5,
          0,
          0,
          0,
          0,
          0,
          0,
          0,
          4,
          0
         ],
         "y0": " ",
         "yaxis": "y"
        },
        {
         "alignmentgroup": "True",
         "boxpoints": "all",
         "fillcolor": "rgba(255,255,255,0)",
         "hoveron": "points",
         "hovertemplate": "maltype=mimic<br>variable=%{x}<br>value=%{y}<extra></extra>",
         "legendgroup": "mimic",
         "line": {
          "color": "rgba(255,255,255,0)"
         },
         "marker": {
          "color": "#FFA15A"
         },
         "name": "mimic",
         "offsetgroup": "mimic",
         "orientation": "v",
         "pointpos": 0,
         "showlegend": true,
         "type": "box",
         "x": [
          "ioctl",
          "timerfd_settime",
          "poll",
          "getpid",
          "write",
          "mkdir",
          "open",
          "close",
          "fstat64",
          "getdents",
          "read",
          "unlink",
          "futex",
          "mprotect"
         ],
         "x0": " ",
         "xaxis": "x",
         "y": [
          25088.5,
          16079,
          8576.5,
          322,
          361,
          0,
          0,
          0,
          0,
          0,
          0,
          0,
          4,
          0
         ],
         "y0": " ",
         "yaxis": "y"
        },
        {
         "alignmentgroup": "True",
         "boxpoints": "all",
         "fillcolor": "rgba(255,255,255,0)",
         "hoveron": "points",
         "hovertemplate": "maltype=noise<br>variable=%{x}<br>value=%{y}<extra></extra>",
         "legendgroup": "noise",
         "line": {
          "color": "rgba(255,255,255,0)"
         },
         "marker": {
          "color": "#19d3f3"
         },
         "name": "noise",
         "offsetgroup": "noise",
         "orientation": "v",
         "pointpos": 0,
         "showlegend": true,
         "type": "box",
         "x": [
          "ioctl",
          "timerfd_settime",
          "poll",
          "getpid",
          "write",
          "mkdir",
          "open",
          "close",
          "fstat64",
          "getdents",
          "read",
          "unlink",
          "futex",
          "mprotect"
         ],
         "x0": " ",
         "xaxis": "x",
         "y": [
          25504,
          16346,
          8750.5,
          328,
          368,
          0,
          3,
          2,
          0,
          0,
          4,
          0,
          4,
          0
         ],
         "y0": " ",
         "yaxis": "y"
        },
        {
         "alignmentgroup": "True",
         "boxpoints": "all",
         "fillcolor": "rgba(255,255,255,0)",
         "hoveron": "points",
         "hovertemplate": "maltype=normal<br>variable=%{x}<br>value=%{y}<extra></extra>",
         "legendgroup": "normal",
         "line": {
          "color": "rgba(255,255,255,0)"
         },
         "marker": {
          "color": "#FF6692"
         },
         "name": "normal",
         "offsetgroup": "normal",
         "orientation": "v",
         "pointpos": 0,
         "showlegend": true,
         "type": "box",
         "x": [
          "ioctl",
          "timerfd_settime",
          "poll",
          "getpid",
          "write",
          "mkdir",
          "open",
          "close",
          "fstat64",
          "getdents",
          "read",
          "unlink",
          "futex",
          "mprotect"
         ],
         "x0": " ",
         "xaxis": "x",
         "y": [
          25244.5,
          16182.5,
          8640,
          324,
          365,
          0,
          0,
          0,
          0,
          0,
          0,
          0,
          4,
          0
         ],
         "y0": " ",
         "yaxis": "y"
        },
        {
         "alignmentgroup": "True",
         "boxpoints": "all",
         "fillcolor": "rgba(255,255,255,0)",
         "hoveron": "points",
         "hovertemplate": "maltype=normalv2<br>variable=%{x}<br>value=%{y}<extra></extra>",
         "legendgroup": "normalv2",
         "line": {
          "color": "rgba(255,255,255,0)"
         },
         "marker": {
          "color": "#B6E880"
         },
         "name": "normalv2",
         "offsetgroup": "normalv2",
         "orientation": "v",
         "pointpos": 0,
         "showlegend": true,
         "type": "box",
         "x": [
          "ioctl",
          "timerfd_settime",
          "poll",
          "getpid",
          "write",
          "mkdir",
          "open",
          "close",
          "fstat64",
          "getdents",
          "read",
          "unlink",
          "futex",
          "mprotect"
         ],
         "x0": " ",
         "xaxis": "x",
         "y": [
          25883.5,
          16589,
          8890.5,
          332,
          370,
          0,
          4.5,
          3,
          0,
          0,
          6.5,
          0,
          4,
          0
         ],
         "y0": " ",
         "yaxis": "y"
        },
        {
         "alignmentgroup": "True",
         "boxpoints": "all",
         "fillcolor": "rgba(255,255,255,0)",
         "hoveron": "points",
         "hovertemplate": "maltype=repeat<br>variable=%{x}<br>value=%{y}<extra></extra>",
         "legendgroup": "repeat",
         "line": {
          "color": "rgba(255,255,255,0)"
         },
         "marker": {
          "color": "#FF97FF"
         },
         "name": "repeat",
         "offsetgroup": "repeat",
         "orientation": "v",
         "pointpos": 0,
         "showlegend": true,
         "type": "box",
         "x": [
          "ioctl",
          "timerfd_settime",
          "poll",
          "getpid",
          "write",
          "mkdir",
          "open",
          "close",
          "fstat64",
          "getdents",
          "read",
          "unlink",
          "futex",
          "mprotect"
         ],
         "x0": " ",
         "xaxis": "x",
         "y": [
          25311,
          16214,
          8686.5,
          324,
          364,
          0,
          0,
          0,
          0,
          0,
          0,
          0,
          4,
          0
         ],
         "y0": " ",
         "yaxis": "y"
        },
        {
         "alignmentgroup": "True",
         "boxpoints": "all",
         "fillcolor": "rgba(255,255,255,0)",
         "hoveron": "points",
         "hovertemplate": "maltype=spoof<br>variable=%{x}<br>value=%{y}<extra></extra>",
         "legendgroup": "spoof",
         "line": {
          "color": "rgba(255,255,255,0)"
         },
         "marker": {
          "color": "#FECB52"
         },
         "name": "spoof",
         "offsetgroup": "spoof",
         "orientation": "v",
         "pointpos": 0,
         "showlegend": true,
         "type": "box",
         "x": [
          "ioctl",
          "timerfd_settime",
          "poll",
          "getpid",
          "write",
          "mkdir",
          "open",
          "close",
          "fstat64",
          "getdents",
          "read",
          "unlink",
          "futex",
          "mprotect"
         ],
         "x0": " ",
         "xaxis": "x",
         "y": [
          24963.5,
          15990,
          8539,
          320,
          354,
          0,
          0,
          0,
          0,
          0,
          0,
          0,
          3,
          0
         ],
         "y0": " ",
         "yaxis": "y"
        }
       ],
       "layout": {
        "boxmode": "group",
        "legend": {
         "title": {
          "text": "maltype"
         },
         "tracegroupgap": 0
        },
        "margin": {
         "t": 60
        },
        "template": {
         "data": {
          "bar": [
           {
            "error_x": {
             "color": "#2a3f5f"
            },
            "error_y": {
             "color": "#2a3f5f"
            },
            "marker": {
             "line": {
              "color": "#E5ECF6",
              "width": 0.5
             },
             "pattern": {
              "fillmode": "overlay",
              "size": 10,
              "solidity": 0.2
             }
            },
            "type": "bar"
           }
          ],
          "barpolar": [
           {
            "marker": {
             "line": {
              "color": "#E5ECF6",
              "width": 0.5
             },
             "pattern": {
              "fillmode": "overlay",
              "size": 10,
              "solidity": 0.2
             }
            },
            "type": "barpolar"
           }
          ],
          "carpet": [
           {
            "aaxis": {
             "endlinecolor": "#2a3f5f",
             "gridcolor": "white",
             "linecolor": "white",
             "minorgridcolor": "white",
             "startlinecolor": "#2a3f5f"
            },
            "baxis": {
             "endlinecolor": "#2a3f5f",
             "gridcolor": "white",
             "linecolor": "white",
             "minorgridcolor": "white",
             "startlinecolor": "#2a3f5f"
            },
            "type": "carpet"
           }
          ],
          "choropleth": [
           {
            "colorbar": {
             "outlinewidth": 0,
             "ticks": ""
            },
            "type": "choropleth"
           }
          ],
          "contour": [
           {
            "colorbar": {
             "outlinewidth": 0,
             "ticks": ""
            },
            "colorscale": [
             [
              0,
              "#0d0887"
             ],
             [
              0.1111111111111111,
              "#46039f"
             ],
             [
              0.2222222222222222,
              "#7201a8"
             ],
             [
              0.3333333333333333,
              "#9c179e"
             ],
             [
              0.4444444444444444,
              "#bd3786"
             ],
             [
              0.5555555555555556,
              "#d8576b"
             ],
             [
              0.6666666666666666,
              "#ed7953"
             ],
             [
              0.7777777777777778,
              "#fb9f3a"
             ],
             [
              0.8888888888888888,
              "#fdca26"
             ],
             [
              1,
              "#f0f921"
             ]
            ],
            "type": "contour"
           }
          ],
          "contourcarpet": [
           {
            "colorbar": {
             "outlinewidth": 0,
             "ticks": ""
            },
            "type": "contourcarpet"
           }
          ],
          "heatmap": [
           {
            "colorbar": {
             "outlinewidth": 0,
             "ticks": ""
            },
            "colorscale": [
             [
              0,
              "#0d0887"
             ],
             [
              0.1111111111111111,
              "#46039f"
             ],
             [
              0.2222222222222222,
              "#7201a8"
             ],
             [
              0.3333333333333333,
              "#9c179e"
             ],
             [
              0.4444444444444444,
              "#bd3786"
             ],
             [
              0.5555555555555556,
              "#d8576b"
             ],
             [
              0.6666666666666666,
              "#ed7953"
             ],
             [
              0.7777777777777778,
              "#fb9f3a"
             ],
             [
              0.8888888888888888,
              "#fdca26"
             ],
             [
              1,
              "#f0f921"
             ]
            ],
            "type": "heatmap"
           }
          ],
          "heatmapgl": [
           {
            "colorbar": {
             "outlinewidth": 0,
             "ticks": ""
            },
            "colorscale": [
             [
              0,
              "#0d0887"
             ],
             [
              0.1111111111111111,
              "#46039f"
             ],
             [
              0.2222222222222222,
              "#7201a8"
             ],
             [
              0.3333333333333333,
              "#9c179e"
             ],
             [
              0.4444444444444444,
              "#bd3786"
             ],
             [
              0.5555555555555556,
              "#d8576b"
             ],
             [
              0.6666666666666666,
              "#ed7953"
             ],
             [
              0.7777777777777778,
              "#fb9f3a"
             ],
             [
              0.8888888888888888,
              "#fdca26"
             ],
             [
              1,
              "#f0f921"
             ]
            ],
            "type": "heatmapgl"
           }
          ],
          "histogram": [
           {
            "marker": {
             "pattern": {
              "fillmode": "overlay",
              "size": 10,
              "solidity": 0.2
             }
            },
            "type": "histogram"
           }
          ],
          "histogram2d": [
           {
            "colorbar": {
             "outlinewidth": 0,
             "ticks": ""
            },
            "colorscale": [
             [
              0,
              "#0d0887"
             ],
             [
              0.1111111111111111,
              "#46039f"
             ],
             [
              0.2222222222222222,
              "#7201a8"
             ],
             [
              0.3333333333333333,
              "#9c179e"
             ],
             [
              0.4444444444444444,
              "#bd3786"
             ],
             [
              0.5555555555555556,
              "#d8576b"
             ],
             [
              0.6666666666666666,
              "#ed7953"
             ],
             [
              0.7777777777777778,
              "#fb9f3a"
             ],
             [
              0.8888888888888888,
              "#fdca26"
             ],
             [
              1,
              "#f0f921"
             ]
            ],
            "type": "histogram2d"
           }
          ],
          "histogram2dcontour": [
           {
            "colorbar": {
             "outlinewidth": 0,
             "ticks": ""
            },
            "colorscale": [
             [
              0,
              "#0d0887"
             ],
             [
              0.1111111111111111,
              "#46039f"
             ],
             [
              0.2222222222222222,
              "#7201a8"
             ],
             [
              0.3333333333333333,
              "#9c179e"
             ],
             [
              0.4444444444444444,
              "#bd3786"
             ],
             [
              0.5555555555555556,
              "#d8576b"
             ],
             [
              0.6666666666666666,
              "#ed7953"
             ],
             [
              0.7777777777777778,
              "#fb9f3a"
             ],
             [
              0.8888888888888888,
              "#fdca26"
             ],
             [
              1,
              "#f0f921"
             ]
            ],
            "type": "histogram2dcontour"
           }
          ],
          "mesh3d": [
           {
            "colorbar": {
             "outlinewidth": 0,
             "ticks": ""
            },
            "type": "mesh3d"
           }
          ],
          "parcoords": [
           {
            "line": {
             "colorbar": {
              "outlinewidth": 0,
              "ticks": ""
             }
            },
            "type": "parcoords"
           }
          ],
          "pie": [
           {
            "automargin": true,
            "type": "pie"
           }
          ],
          "scatter": [
           {
            "marker": {
             "colorbar": {
              "outlinewidth": 0,
              "ticks": ""
             }
            },
            "type": "scatter"
           }
          ],
          "scatter3d": [
           {
            "line": {
             "colorbar": {
              "outlinewidth": 0,
              "ticks": ""
             }
            },
            "marker": {
             "colorbar": {
              "outlinewidth": 0,
              "ticks": ""
             }
            },
            "type": "scatter3d"
           }
          ],
          "scattercarpet": [
           {
            "marker": {
             "colorbar": {
              "outlinewidth": 0,
              "ticks": ""
             }
            },
            "type": "scattercarpet"
           }
          ],
          "scattergeo": [
           {
            "marker": {
             "colorbar": {
              "outlinewidth": 0,
              "ticks": ""
             }
            },
            "type": "scattergeo"
           }
          ],
          "scattergl": [
           {
            "marker": {
             "colorbar": {
              "outlinewidth": 0,
              "ticks": ""
             }
            },
            "type": "scattergl"
           }
          ],
          "scattermapbox": [
           {
            "marker": {
             "colorbar": {
              "outlinewidth": 0,
              "ticks": ""
             }
            },
            "type": "scattermapbox"
           }
          ],
          "scatterpolar": [
           {
            "marker": {
             "colorbar": {
              "outlinewidth": 0,
              "ticks": ""
             }
            },
            "type": "scatterpolar"
           }
          ],
          "scatterpolargl": [
           {
            "marker": {
             "colorbar": {
              "outlinewidth": 0,
              "ticks": ""
             }
            },
            "type": "scatterpolargl"
           }
          ],
          "scatterternary": [
           {
            "marker": {
             "colorbar": {
              "outlinewidth": 0,
              "ticks": ""
             }
            },
            "type": "scatterternary"
           }
          ],
          "surface": [
           {
            "colorbar": {
             "outlinewidth": 0,
             "ticks": ""
            },
            "colorscale": [
             [
              0,
              "#0d0887"
             ],
             [
              0.1111111111111111,
              "#46039f"
             ],
             [
              0.2222222222222222,
              "#7201a8"
             ],
             [
              0.3333333333333333,
              "#9c179e"
             ],
             [
              0.4444444444444444,
              "#bd3786"
             ],
             [
              0.5555555555555556,
              "#d8576b"
             ],
             [
              0.6666666666666666,
              "#ed7953"
             ],
             [
              0.7777777777777778,
              "#fb9f3a"
             ],
             [
              0.8888888888888888,
              "#fdca26"
             ],
             [
              1,
              "#f0f921"
             ]
            ],
            "type": "surface"
           }
          ],
          "table": [
           {
            "cells": {
             "fill": {
              "color": "#EBF0F8"
             },
             "line": {
              "color": "white"
             }
            },
            "header": {
             "fill": {
              "color": "#C8D4E3"
             },
             "line": {
              "color": "white"
             }
            },
            "type": "table"
           }
          ]
         },
         "layout": {
          "annotationdefaults": {
           "arrowcolor": "#2a3f5f",
           "arrowhead": 0,
           "arrowwidth": 1
          },
          "autotypenumbers": "strict",
          "coloraxis": {
           "colorbar": {
            "outlinewidth": 0,
            "ticks": ""
           }
          },
          "colorscale": {
           "diverging": [
            [
             0,
             "#8e0152"
            ],
            [
             0.1,
             "#c51b7d"
            ],
            [
             0.2,
             "#de77ae"
            ],
            [
             0.3,
             "#f1b6da"
            ],
            [
             0.4,
             "#fde0ef"
            ],
            [
             0.5,
             "#f7f7f7"
            ],
            [
             0.6,
             "#e6f5d0"
            ],
            [
             0.7,
             "#b8e186"
            ],
            [
             0.8,
             "#7fbc41"
            ],
            [
             0.9,
             "#4d9221"
            ],
            [
             1,
             "#276419"
            ]
           ],
           "sequential": [
            [
             0,
             "#0d0887"
            ],
            [
             0.1111111111111111,
             "#46039f"
            ],
            [
             0.2222222222222222,
             "#7201a8"
            ],
            [
             0.3333333333333333,
             "#9c179e"
            ],
            [
             0.4444444444444444,
             "#bd3786"
            ],
            [
             0.5555555555555556,
             "#d8576b"
            ],
            [
             0.6666666666666666,
             "#ed7953"
            ],
            [
             0.7777777777777778,
             "#fb9f3a"
            ],
            [
             0.8888888888888888,
             "#fdca26"
            ],
            [
             1,
             "#f0f921"
            ]
           ],
           "sequentialminus": [
            [
             0,
             "#0d0887"
            ],
            [
             0.1111111111111111,
             "#46039f"
            ],
            [
             0.2222222222222222,
             "#7201a8"
            ],
            [
             0.3333333333333333,
             "#9c179e"
            ],
            [
             0.4444444444444444,
             "#bd3786"
            ],
            [
             0.5555555555555556,
             "#d8576b"
            ],
            [
             0.6666666666666666,
             "#ed7953"
            ],
            [
             0.7777777777777778,
             "#fb9f3a"
            ],
            [
             0.8888888888888888,
             "#fdca26"
            ],
            [
             1,
             "#f0f921"
            ]
           ]
          },
          "colorway": [
           "#636efa",
           "#EF553B",
           "#00cc96",
           "#ab63fa",
           "#FFA15A",
           "#19d3f3",
           "#FF6692",
           "#B6E880",
           "#FF97FF",
           "#FECB52"
          ],
          "font": {
           "color": "#2a3f5f"
          },
          "geo": {
           "bgcolor": "white",
           "lakecolor": "white",
           "landcolor": "#E5ECF6",
           "showlakes": true,
           "showland": true,
           "subunitcolor": "white"
          },
          "hoverlabel": {
           "align": "left"
          },
          "hovermode": "closest",
          "mapbox": {
           "style": "light"
          },
          "paper_bgcolor": "white",
          "plot_bgcolor": "#E5ECF6",
          "polar": {
           "angularaxis": {
            "gridcolor": "white",
            "linecolor": "white",
            "ticks": ""
           },
           "bgcolor": "#E5ECF6",
           "radialaxis": {
            "gridcolor": "white",
            "linecolor": "white",
            "ticks": ""
           }
          },
          "scene": {
           "xaxis": {
            "backgroundcolor": "#E5ECF6",
            "gridcolor": "white",
            "gridwidth": 2,
            "linecolor": "white",
            "showbackground": true,
            "ticks": "",
            "zerolinecolor": "white"
           },
           "yaxis": {
            "backgroundcolor": "#E5ECF6",
            "gridcolor": "white",
            "gridwidth": 2,
            "linecolor": "white",
            "showbackground": true,
            "ticks": "",
            "zerolinecolor": "white"
           },
           "zaxis": {
            "backgroundcolor": "#E5ECF6",
            "gridcolor": "white",
            "gridwidth": 2,
            "linecolor": "white",
            "showbackground": true,
            "ticks": "",
            "zerolinecolor": "white"
           }
          },
          "shapedefaults": {
           "line": {
            "color": "#2a3f5f"
           }
          },
          "ternary": {
           "aaxis": {
            "gridcolor": "white",
            "linecolor": "white",
            "ticks": ""
           },
           "baxis": {
            "gridcolor": "white",
            "linecolor": "white",
            "ticks": ""
           },
           "bgcolor": "#E5ECF6",
           "caxis": {
            "gridcolor": "white",
            "linecolor": "white",
            "ticks": ""
           }
          },
          "title": {
           "x": 0.05
          },
          "xaxis": {
           "automargin": true,
           "gridcolor": "white",
           "linecolor": "white",
           "ticks": "",
           "title": {
            "standoff": 15
           },
           "zerolinecolor": "white",
           "zerolinewidth": 2
          },
          "yaxis": {
           "automargin": true,
           "gridcolor": "white",
           "linecolor": "white",
           "ticks": "",
           "title": {
            "standoff": 15
           },
           "zerolinecolor": "white",
           "zerolinewidth": 2
          }
         }
        },
        "xaxis": {
         "anchor": "y",
         "domain": [
          0,
          1
         ],
         "title": {
          "text": "variable"
         }
        },
        "yaxis": {
         "anchor": "x",
         "domain": [
          0,
          1
         ],
         "title": {
          "text": "value"
         }
        }
       }
      }
     },
     "metadata": {},
     "output_type": "display_data"
    }
   ],
   "source": [
    "import plotly.express as px\n",
    "k1 = [i for i in gram_1]\n",
    "fig = px.strip(mead_1_gram, color='maltype')\n",
    "fig.show()"
   ]
  },
  {
   "cell_type": "code",
   "execution_count": 12,
   "metadata": {},
   "outputs": [],
   "source": [
    "dcf = pd.DataFrame(ncf)\n",
    "ngram = [dict_to_ngram[i] for i in range(0,333)]\n",
    "keys = ngram + ['maltype']\n",
    "dcf.columns = keys\n",
    "k1 = [i for i in gram_2] + ['maltype']\n",
    "df_2gram = dcf[k1]"
   ]
  },
  {
   "cell_type": "code",
   "execution_count": 19,
   "metadata": {},
   "outputs": [
    {
     "data": {
      "text/html": [
       "<div>\n",
       "<style scoped>\n",
       "    .dataframe tbody tr th:only-of-type {\n",
       "        vertical-align: middle;\n",
       "    }\n",
       "\n",
       "    .dataframe tbody tr th {\n",
       "        vertical-align: top;\n",
       "    }\n",
       "\n",
       "    .dataframe thead th {\n",
       "        text-align: right;\n",
       "    }\n",
       "</style>\n",
       "<table border=\"1\" class=\"dataframe\">\n",
       "  <thead>\n",
       "    <tr style=\"text-align: right;\">\n",
       "      <th></th>\n",
       "      <th>maltype</th>\n",
       "      <th>ioctl timerfd_settime</th>\n",
       "      <th>timerfd_settime ioctl</th>\n",
       "      <th>ioctl poll</th>\n",
       "      <th>poll ioctl</th>\n",
       "      <th>ioctl ioctl</th>\n",
       "      <th>poll getpid</th>\n",
       "      <th>getpid write</th>\n",
       "      <th>write poll</th>\n",
       "      <th>getpid poll</th>\n",
       "      <th>...</th>\n",
       "      <th>open getpid</th>\n",
       "      <th>write open</th>\n",
       "      <th>close futex</th>\n",
       "      <th>open futex</th>\n",
       "      <th>futex open</th>\n",
       "      <th>read futex</th>\n",
       "      <th>getpid open</th>\n",
       "      <th>ioctl mprotect</th>\n",
       "      <th>mprotect mprotect</th>\n",
       "      <th>mprotect timerfd_settime</th>\n",
       "    </tr>\n",
       "  </thead>\n",
       "  <tbody>\n",
       "    <tr>\n",
       "      <th>0</th>\n",
       "      <td>delay</td>\n",
       "      <td>16225.919670</td>\n",
       "      <td>16231.879506</td>\n",
       "      <td>8409.898043</td>\n",
       "      <td>8392.013388</td>\n",
       "      <td>649.501545</td>\n",
       "      <td>204.631308</td>\n",
       "      <td>260.188465</td>\n",
       "      <td>188.780639</td>\n",
       "      <td>61.328527</td>\n",
       "      <td>...</td>\n",
       "      <td>0.000000</td>\n",
       "      <td>0.000000</td>\n",
       "      <td>0.000000</td>\n",
       "      <td>0.000000</td>\n",
       "      <td>0.000000</td>\n",
       "      <td>0.000000</td>\n",
       "      <td>0.000000</td>\n",
       "      <td>0.000000</td>\n",
       "      <td>0.000000</td>\n",
       "      <td>0.000000</td>\n",
       "    </tr>\n",
       "    <tr>\n",
       "      <th>1</th>\n",
       "      <td>disorder</td>\n",
       "      <td>16217.771073</td>\n",
       "      <td>16223.963602</td>\n",
       "      <td>8403.127395</td>\n",
       "      <td>8381.755747</td>\n",
       "      <td>649.076628</td>\n",
       "      <td>212.432950</td>\n",
       "      <td>254.200192</td>\n",
       "      <td>192.925287</td>\n",
       "      <td>67.357280</td>\n",
       "      <td>...</td>\n",
       "      <td>0.000000</td>\n",
       "      <td>0.000000</td>\n",
       "      <td>0.000000</td>\n",
       "      <td>0.000000</td>\n",
       "      <td>0.000000</td>\n",
       "      <td>0.000000</td>\n",
       "      <td>0.000000</td>\n",
       "      <td>0.000000</td>\n",
       "      <td>0.000000</td>\n",
       "      <td>0.000000</td>\n",
       "    </tr>\n",
       "    <tr>\n",
       "      <th>2</th>\n",
       "      <td>freeze</td>\n",
       "      <td>16103.978927</td>\n",
       "      <td>16111.836207</td>\n",
       "      <td>8340.766284</td>\n",
       "      <td>8315.743295</td>\n",
       "      <td>644.537356</td>\n",
       "      <td>219.246169</td>\n",
       "      <td>246.406130</td>\n",
       "      <td>195.809387</td>\n",
       "      <td>73.108238</td>\n",
       "      <td>...</td>\n",
       "      <td>0.000000</td>\n",
       "      <td>0.000000</td>\n",
       "      <td>0.000000</td>\n",
       "      <td>0.000000</td>\n",
       "      <td>0.000000</td>\n",
       "      <td>0.000000</td>\n",
       "      <td>0.000000</td>\n",
       "      <td>0.000000</td>\n",
       "      <td>0.000000</td>\n",
       "      <td>0.000000</td>\n",
       "    </tr>\n",
       "    <tr>\n",
       "      <th>3</th>\n",
       "      <td>hop</td>\n",
       "      <td>15967.440613</td>\n",
       "      <td>15974.301724</td>\n",
       "      <td>8273.363027</td>\n",
       "      <td>8246.517241</td>\n",
       "      <td>638.990421</td>\n",
       "      <td>218.575670</td>\n",
       "      <td>247.061303</td>\n",
       "      <td>193.015326</td>\n",
       "      <td>70.585249</td>\n",
       "      <td>...</td>\n",
       "      <td>0.000000</td>\n",
       "      <td>0.000000</td>\n",
       "      <td>0.000000</td>\n",
       "      <td>0.000000</td>\n",
       "      <td>0.000000</td>\n",
       "      <td>0.000000</td>\n",
       "      <td>0.000000</td>\n",
       "      <td>0.000000</td>\n",
       "      <td>0.000000</td>\n",
       "      <td>0.000000</td>\n",
       "    </tr>\n",
       "    <tr>\n",
       "      <th>4</th>\n",
       "      <td>mimic</td>\n",
       "      <td>15901.802682</td>\n",
       "      <td>15908.862069</td>\n",
       "      <td>8240.893678</td>\n",
       "      <td>8213.403257</td>\n",
       "      <td>636.436782</td>\n",
       "      <td>215.030651</td>\n",
       "      <td>245.409004</td>\n",
       "      <td>188.711686</td>\n",
       "      <td>70.358238</td>\n",
       "      <td>...</td>\n",
       "      <td>0.000958</td>\n",
       "      <td>0.000958</td>\n",
       "      <td>0.000958</td>\n",
       "      <td>0.000000</td>\n",
       "      <td>0.000000</td>\n",
       "      <td>0.000000</td>\n",
       "      <td>0.000000</td>\n",
       "      <td>0.000000</td>\n",
       "      <td>0.000000</td>\n",
       "      <td>0.000000</td>\n",
       "    </tr>\n",
       "    <tr>\n",
       "      <th>5</th>\n",
       "      <td>noise</td>\n",
       "      <td>16121.659004</td>\n",
       "      <td>16128.568008</td>\n",
       "      <td>8351.697318</td>\n",
       "      <td>8327.517241</td>\n",
       "      <td>645.159962</td>\n",
       "      <td>222.498084</td>\n",
       "      <td>248.801724</td>\n",
       "      <td>199.634100</td>\n",
       "      <td>71.452107</td>\n",
       "      <td>...</td>\n",
       "      <td>0.000958</td>\n",
       "      <td>0.000958</td>\n",
       "      <td>0.000000</td>\n",
       "      <td>0.000958</td>\n",
       "      <td>0.000958</td>\n",
       "      <td>0.000000</td>\n",
       "      <td>0.000000</td>\n",
       "      <td>0.000000</td>\n",
       "      <td>0.000000</td>\n",
       "      <td>0.000000</td>\n",
       "    </tr>\n",
       "    <tr>\n",
       "      <th>6</th>\n",
       "      <td>normal</td>\n",
       "      <td>16047.244253</td>\n",
       "      <td>16054.033525</td>\n",
       "      <td>8314.321839</td>\n",
       "      <td>8288.844828</td>\n",
       "      <td>642.223180</td>\n",
       "      <td>217.394636</td>\n",
       "      <td>247.946360</td>\n",
       "      <td>193.230843</td>\n",
       "      <td>70.909004</td>\n",
       "      <td>...</td>\n",
       "      <td>0.000000</td>\n",
       "      <td>0.000000</td>\n",
       "      <td>0.000958</td>\n",
       "      <td>0.000000</td>\n",
       "      <td>0.000000</td>\n",
       "      <td>0.000000</td>\n",
       "      <td>0.000000</td>\n",
       "      <td>0.000000</td>\n",
       "      <td>0.000000</td>\n",
       "      <td>0.000000</td>\n",
       "    </tr>\n",
       "    <tr>\n",
       "      <th>7</th>\n",
       "      <td>normalv2</td>\n",
       "      <td>16133.310345</td>\n",
       "      <td>16139.654215</td>\n",
       "      <td>8358.683908</td>\n",
       "      <td>8333.922414</td>\n",
       "      <td>645.626437</td>\n",
       "      <td>221.042146</td>\n",
       "      <td>249.082375</td>\n",
       "      <td>197.408046</td>\n",
       "      <td>71.859195</td>\n",
       "      <td>...</td>\n",
       "      <td>0.002874</td>\n",
       "      <td>0.000958</td>\n",
       "      <td>0.000000</td>\n",
       "      <td>0.000000</td>\n",
       "      <td>0.001916</td>\n",
       "      <td>0.001916</td>\n",
       "      <td>0.000958</td>\n",
       "      <td>0.000000</td>\n",
       "      <td>0.000000</td>\n",
       "      <td>0.000000</td>\n",
       "    </tr>\n",
       "    <tr>\n",
       "      <th>8</th>\n",
       "      <td>repeat</td>\n",
       "      <td>15926.202107</td>\n",
       "      <td>15933.591954</td>\n",
       "      <td>8252.286398</td>\n",
       "      <td>8225.988506</td>\n",
       "      <td>637.383142</td>\n",
       "      <td>217.456897</td>\n",
       "      <td>248.590038</td>\n",
       "      <td>192.467433</td>\n",
       "      <td>67.888889</td>\n",
       "      <td>...</td>\n",
       "      <td>0.000000</td>\n",
       "      <td>0.000000</td>\n",
       "      <td>0.000000</td>\n",
       "      <td>0.000000</td>\n",
       "      <td>0.000000</td>\n",
       "      <td>0.000000</td>\n",
       "      <td>0.000000</td>\n",
       "      <td>0.000000</td>\n",
       "      <td>0.000000</td>\n",
       "      <td>0.000000</td>\n",
       "    </tr>\n",
       "    <tr>\n",
       "      <th>9</th>\n",
       "      <td>spoof</td>\n",
       "      <td>15789.252874</td>\n",
       "      <td>15795.880268</td>\n",
       "      <td>8183.949234</td>\n",
       "      <td>8155.680077</td>\n",
       "      <td>631.894636</td>\n",
       "      <td>211.835249</td>\n",
       "      <td>246.040230</td>\n",
       "      <td>184.736590</td>\n",
       "      <td>67.765326</td>\n",
       "      <td>...</td>\n",
       "      <td>0.000000</td>\n",
       "      <td>0.000000</td>\n",
       "      <td>0.000000</td>\n",
       "      <td>0.000000</td>\n",
       "      <td>0.000000</td>\n",
       "      <td>0.000958</td>\n",
       "      <td>0.000000</td>\n",
       "      <td>0.000958</td>\n",
       "      <td>0.001916</td>\n",
       "      <td>0.000958</td>\n",
       "    </tr>\n",
       "  </tbody>\n",
       "</table>\n",
       "<p>10 rows × 74 columns</p>\n",
       "</div>"
      ],
      "text/plain": [
       "    maltype  ioctl timerfd_settime  timerfd_settime ioctl   ioctl poll  \\\n",
       "0     delay           16225.919670           16231.879506  8409.898043   \n",
       "1  disorder           16217.771073           16223.963602  8403.127395   \n",
       "2    freeze           16103.978927           16111.836207  8340.766284   \n",
       "3       hop           15967.440613           15974.301724  8273.363027   \n",
       "4     mimic           15901.802682           15908.862069  8240.893678   \n",
       "5     noise           16121.659004           16128.568008  8351.697318   \n",
       "6    normal           16047.244253           16054.033525  8314.321839   \n",
       "7  normalv2           16133.310345           16139.654215  8358.683908   \n",
       "8    repeat           15926.202107           15933.591954  8252.286398   \n",
       "9     spoof           15789.252874           15795.880268  8183.949234   \n",
       "\n",
       "    poll ioctl  ioctl ioctl  poll getpid  getpid write  write poll  \\\n",
       "0  8392.013388   649.501545   204.631308    260.188465  188.780639   \n",
       "1  8381.755747   649.076628   212.432950    254.200192  192.925287   \n",
       "2  8315.743295   644.537356   219.246169    246.406130  195.809387   \n",
       "3  8246.517241   638.990421   218.575670    247.061303  193.015326   \n",
       "4  8213.403257   636.436782   215.030651    245.409004  188.711686   \n",
       "5  8327.517241   645.159962   222.498084    248.801724  199.634100   \n",
       "6  8288.844828   642.223180   217.394636    247.946360  193.230843   \n",
       "7  8333.922414   645.626437   221.042146    249.082375  197.408046   \n",
       "8  8225.988506   637.383142   217.456897    248.590038  192.467433   \n",
       "9  8155.680077   631.894636   211.835249    246.040230  184.736590   \n",
       "\n",
       "   getpid poll  ...  open getpid  write open  close futex  open futex  \\\n",
       "0    61.328527  ...     0.000000    0.000000     0.000000    0.000000   \n",
       "1    67.357280  ...     0.000000    0.000000     0.000000    0.000000   \n",
       "2    73.108238  ...     0.000000    0.000000     0.000000    0.000000   \n",
       "3    70.585249  ...     0.000000    0.000000     0.000000    0.000000   \n",
       "4    70.358238  ...     0.000958    0.000958     0.000958    0.000000   \n",
       "5    71.452107  ...     0.000958    0.000958     0.000000    0.000958   \n",
       "6    70.909004  ...     0.000000    0.000000     0.000958    0.000000   \n",
       "7    71.859195  ...     0.002874    0.000958     0.000000    0.000000   \n",
       "8    67.888889  ...     0.000000    0.000000     0.000000    0.000000   \n",
       "9    67.765326  ...     0.000000    0.000000     0.000000    0.000000   \n",
       "\n",
       "   futex open  read futex  getpid open  ioctl mprotect  mprotect mprotect  \\\n",
       "0    0.000000    0.000000     0.000000        0.000000           0.000000   \n",
       "1    0.000000    0.000000     0.000000        0.000000           0.000000   \n",
       "2    0.000000    0.000000     0.000000        0.000000           0.000000   \n",
       "3    0.000000    0.000000     0.000000        0.000000           0.000000   \n",
       "4    0.000000    0.000000     0.000000        0.000000           0.000000   \n",
       "5    0.000958    0.000000     0.000000        0.000000           0.000000   \n",
       "6    0.000000    0.000000     0.000000        0.000000           0.000000   \n",
       "7    0.001916    0.001916     0.000958        0.000000           0.000000   \n",
       "8    0.000000    0.000000     0.000000        0.000000           0.000000   \n",
       "9    0.000000    0.000958     0.000000        0.000958           0.001916   \n",
       "\n",
       "   mprotect timerfd_settime  \n",
       "0                  0.000000  \n",
       "1                  0.000000  \n",
       "2                  0.000000  \n",
       "3                  0.000000  \n",
       "4                  0.000000  \n",
       "5                  0.000000  \n",
       "6                  0.000000  \n",
       "7                  0.000000  \n",
       "8                  0.000000  \n",
       "9                  0.000958  \n",
       "\n",
       "[10 rows x 74 columns]"
      ]
     },
     "execution_count": 19,
     "metadata": {},
     "output_type": "execute_result"
    }
   ],
   "source": [
    "mead_2_gram = df_2gram.groupby('maltype',as_index=False).agg('mean')\n",
    "mead_2_gram"
   ]
  },
  {
   "cell_type": "code",
   "execution_count": 20,
   "metadata": {},
   "outputs": [
    {
     "data": {
      "application/vnd.plotly.v1+json": {
       "config": {
        "plotlyServerURL": "https://plot.ly"
       },
       "data": [
        {
         "alignmentgroup": "True",
         "boxpoints": "all",
         "fillcolor": "rgba(255,255,255,0)",
         "hoveron": "points",
         "hovertemplate": "maltype=delay<br>variable=%{x}<br>value=%{y}<extra></extra>",
         "legendgroup": "delay",
         "line": {
          "color": "rgba(255,255,255,0)"
         },
         "marker": {
          "color": "#636efa"
         },
         "name": "delay",
         "offsetgroup": "delay",
         "orientation": "v",
         "pointpos": 0,
         "showlegend": true,
         "type": "box",
         "x": [
          "ioctl timerfd_settime",
          "timerfd_settime ioctl",
          "ioctl poll",
          "poll ioctl",
          "ioctl ioctl",
          "poll getpid",
          "getpid write",
          "write poll",
          "getpid poll",
          "poll write",
          "write ioctl",
          "ioctl write",
          "write getpid",
          "write write",
          "ioctl getpid",
          "getpid ioctl",
          "write timerfd_settime",
          "timerfd_settime write",
          "timerfd_settime getpid",
          "ioctl mkdir",
          "mkdir mkdir",
          "mkdir open",
          "open open",
          "open write",
          "write close",
          "close open",
          "open fstat64",
          "fstat64 getdents",
          "getdents getdents",
          "getdents open",
          "open read",
          "read read",
          "read close",
          "close unlink",
          "unlink close",
          "close mkdir",
          "close close",
          "open close",
          "close timerfd_settime",
          "poll futex",
          "futex futex",
          "futex poll",
          "ioctl futex",
          "futex timerfd_settime",
          "poll timerfd_settime",
          "futex getpid",
          "write futex",
          "timerfd_settime futex",
          "futex ioctl",
          "getpid timerfd_settime",
          "futex write",
          "getpid futex",
          "timerfd_settime poll",
          "poll poll",
          "read getpid",
          "close getpid",
          "write unlink",
          "timerfd_settime timerfd_settime",
          "ioctl open",
          "getpid read",
          "read write",
          "futex read",
          "write read",
          "open getpid",
          "write open",
          "close futex",
          "open futex",
          "futex open",
          "read futex",
          "getpid open",
          "ioctl mprotect",
          "mprotect mprotect",
          "mprotect timerfd_settime"
         ],
         "x0": " ",
         "xaxis": "x",
         "y": [
          16225.919670442843,
          16231.879505664263,
          8409.898043254378,
          8392.013388259526,
          649.5015447991761,
          204.6313079299691,
          260.18846549948506,
          188.78063851699278,
          61.32852729145211,
          61.381050463439756,
          64.28012358393408,
          37.12152420185376,
          97.28836251287332,
          474.97425334706486,
          17.84346035015448,
          3.1627188465499487,
          10.01750772399588,
          2.749742533470649,
          2.90216271884655,
          0.36766220391349125,
          1.8331616889804325,
          1.8341915550978374,
          3.300720906282183,
          1.835221421215242,
          1.8362512873326469,
          4.038105046343976,
          1.8331616889804325,
          1.8331616889804325,
          1.8331616889804325,
          1.8331616889804325,
          1.8372811534500515,
          1.8372811534500515,
          1.8362512873326469,
          1.832131822863028,
          1.8331616889804325,
          1.466529351184346,
          1.4675592173017509,
          2.199794026776519,
          0.36766220391349125,
          1.741503604531411,
          4.427394438722966,
          0.639546858908342,
          1.427394438722966,
          1.415036045314109,
          0.06385169927909372,
          2.049433573635427,
          1.125643666323378,
          0.3192584963954686,
          0.4654994850669413,
          0.03913491246138002,
          0.053553038105046344,
          0.009268795056642637,
          0.003089598352214212,
          0.007209062821833162,
          0.0010298661174047373,
          0.0010298661174047373,
          0.0010298661174047373,
          0.0020597322348094747,
          0,
          0,
          0,
          0,
          0,
          0,
          0,
          0,
          0,
          0,
          0,
          0,
          0,
          0,
          0
         ],
         "y0": " ",
         "yaxis": "y"
        },
        {
         "alignmentgroup": "True",
         "boxpoints": "all",
         "fillcolor": "rgba(255,255,255,0)",
         "hoveron": "points",
         "hovertemplate": "maltype=disorder<br>variable=%{x}<br>value=%{y}<extra></extra>",
         "legendgroup": "disorder",
         "line": {
          "color": "rgba(255,255,255,0)"
         },
         "marker": {
          "color": "#EF553B"
         },
         "name": "disorder",
         "offsetgroup": "disorder",
         "orientation": "v",
         "pointpos": 0,
         "showlegend": true,
         "type": "box",
         "x": [
          "ioctl timerfd_settime",
          "timerfd_settime ioctl",
          "ioctl poll",
          "poll ioctl",
          "ioctl ioctl",
          "poll getpid",
          "getpid write",
          "write poll",
          "getpid poll",
          "poll write",
          "write ioctl",
          "ioctl write",
          "write getpid",
          "write write",
          "ioctl getpid",
          "getpid ioctl",
          "write timerfd_settime",
          "timerfd_settime write",
          "timerfd_settime getpid",
          "ioctl mkdir",
          "mkdir mkdir",
          "mkdir open",
          "open open",
          "open write",
          "write close",
          "close open",
          "open fstat64",
          "fstat64 getdents",
          "getdents getdents",
          "getdents open",
          "open read",
          "read read",
          "read close",
          "close unlink",
          "unlink close",
          "close mkdir",
          "close close",
          "open close",
          "close timerfd_settime",
          "poll futex",
          "futex futex",
          "futex poll",
          "ioctl futex",
          "futex timerfd_settime",
          "poll timerfd_settime",
          "futex getpid",
          "write futex",
          "timerfd_settime futex",
          "futex ioctl",
          "getpid timerfd_settime",
          "futex write",
          "getpid futex",
          "timerfd_settime poll",
          "poll poll",
          "read getpid",
          "close getpid",
          "write unlink",
          "timerfd_settime timerfd_settime",
          "ioctl open",
          "getpid read",
          "read write",
          "futex read",
          "write read",
          "open getpid",
          "write open",
          "close futex",
          "open futex",
          "futex open",
          "read futex",
          "getpid open",
          "ioctl mprotect",
          "mprotect mprotect",
          "mprotect timerfd_settime"
         ],
         "x0": " ",
         "xaxis": "x",
         "y": [
          16217.771072796935,
          16223.963601532567,
          8403.127394636016,
          8381.755747126437,
          649.0766283524904,
          212.43295019157088,
          254.20019157088123,
          192.92528735632183,
          67.35727969348659,
          67.40996168582376,
          67.57375478927203,
          38.49904214559387,
          92.67145593869732,
          141.04022988505747,
          15.89367816091954,
          2.8697318007662833,
          7.930076628352491,
          1.9329501915708813,
          1.8045977011494252,
          0.0009578544061302681,
          0.004789272030651341,
          0.004789272030651341,
          0.23467432950191572,
          0.5268199233716475,
          0.5268199233716475,
          3.524904214559387,
          0.004789272030651341,
          0.004789272030651341,
          0.004789272030651341,
          0.004789272030651341,
          3.7452107279693485,
          3.7413793103448274,
          3.7452107279693485,
          0.004789272030651341,
          0.004789272030651341,
          0.0038314176245210726,
          0.0038314176245210726,
          0.005747126436781609,
          0.7480842911877394,
          1.6120689655172413,
          3.7116858237547894,
          0.7155172413793104,
          1.3687739463601531,
          1.3620689655172413,
          0.07183908045977011,
          1.671455938697318,
          0.9827586206896551,
          0.2471264367816092,
          0.42624521072796934,
          0.05363984674329502,
          0.03735632183908046,
          0.0028735632183908046,
          0.0019157088122605363,
          0.004789272030651341,
          0.0009578544061302681,
          0.0009578544061302681,
          0,
          0.0009578544061302681,
          0.7480842911877394,
          0.0019157088122605363,
          0.0019157088122605363,
          0.0009578544061302681,
          0,
          0,
          0,
          0,
          0,
          0,
          0,
          0,
          0,
          0,
          0
         ],
         "y0": " ",
         "yaxis": "y"
        },
        {
         "alignmentgroup": "True",
         "boxpoints": "all",
         "fillcolor": "rgba(255,255,255,0)",
         "hoveron": "points",
         "hovertemplate": "maltype=freeze<br>variable=%{x}<br>value=%{y}<extra></extra>",
         "legendgroup": "freeze",
         "line": {
          "color": "rgba(255,255,255,0)"
         },
         "marker": {
          "color": "#00cc96"
         },
         "name": "freeze",
         "offsetgroup": "freeze",
         "orientation": "v",
         "pointpos": 0,
         "showlegend": true,
         "type": "box",
         "x": [
          "ioctl timerfd_settime",
          "timerfd_settime ioctl",
          "ioctl poll",
          "poll ioctl",
          "ioctl ioctl",
          "poll getpid",
          "getpid write",
          "write poll",
          "getpid poll",
          "poll write",
          "write ioctl",
          "ioctl write",
          "write getpid",
          "write write",
          "ioctl getpid",
          "getpid ioctl",
          "write timerfd_settime",
          "timerfd_settime write",
          "timerfd_settime getpid",
          "ioctl mkdir",
          "mkdir mkdir",
          "mkdir open",
          "open open",
          "open write",
          "write close",
          "close open",
          "open fstat64",
          "fstat64 getdents",
          "getdents getdents",
          "getdents open",
          "open read",
          "read read",
          "read close",
          "close unlink",
          "unlink close",
          "close mkdir",
          "close close",
          "open close",
          "close timerfd_settime",
          "poll futex",
          "futex futex",
          "futex poll",
          "ioctl futex",
          "futex timerfd_settime",
          "poll timerfd_settime",
          "futex getpid",
          "write futex",
          "timerfd_settime futex",
          "futex ioctl",
          "getpid timerfd_settime",
          "futex write",
          "getpid futex",
          "timerfd_settime poll",
          "poll poll",
          "read getpid",
          "close getpid",
          "write unlink",
          "timerfd_settime timerfd_settime",
          "ioctl open",
          "getpid read",
          "read write",
          "futex read",
          "write read",
          "open getpid",
          "write open",
          "close futex",
          "open futex",
          "futex open",
          "read futex",
          "getpid open",
          "ioctl mprotect",
          "mprotect mprotect",
          "mprotect timerfd_settime"
         ],
         "x0": " ",
         "xaxis": "x",
         "y": [
          16103.978927203065,
          16111.836206896553,
          8340.766283524905,
          8315.743295019158,
          644.5373563218391,
          219.24616858237547,
          246.40613026819923,
          195.80938697318007,
          73.10823754789271,
          73.205938697318,
          75.05747126436782,
          41.90996168582375,
          82.57854406130268,
          8.317049808429118,
          17.438697318007662,
          2.6350574712643677,
          8.367816091954023,
          1.4904214559386972,
          1.3189655172413792,
          0.0009578544061302681,
          0,
          0.0009578544061302681,
          0.7375478927203065,
          0.0038314176245210726,
          0.0038314176245210726,
          2.96455938697318,
          0,
          0,
          0,
          0,
          3.7011494252873565,
          3.6982758620689653,
          3.7011494252873565,
          0,
          0,
          0,
          0,
          0,
          0.7404214559386973,
          1.6082375478927202,
          4.158045977011494,
          1.0162835249042146,
          1.6992337164750957,
          1.696360153256705,
          0.06800766283524905,
          1.6235632183908046,
          1.2270114942528736,
          0.29022988505747127,
          0.46455938697318006,
          0.06609195402298851,
          0.027777777777777776,
          0.0038314176245210726,
          0.0038314176245210726,
          0.007662835249042145,
          0.0028735632183908046,
          0,
          0,
          0.0019157088122605363,
          0.7394636015325671,
          0,
          0,
          0,
          0.0028735632183908046,
          0,
          0,
          0,
          0,
          0,
          0,
          0,
          0,
          0,
          0
         ],
         "y0": " ",
         "yaxis": "y"
        },
        {
         "alignmentgroup": "True",
         "boxpoints": "all",
         "fillcolor": "rgba(255,255,255,0)",
         "hoveron": "points",
         "hovertemplate": "maltype=hop<br>variable=%{x}<br>value=%{y}<extra></extra>",
         "legendgroup": "hop",
         "line": {
          "color": "rgba(255,255,255,0)"
         },
         "marker": {
          "color": "#ab63fa"
         },
         "name": "hop",
         "offsetgroup": "hop",
         "orientation": "v",
         "pointpos": 0,
         "showlegend": true,
         "type": "box",
         "x": [
          "ioctl timerfd_settime",
          "timerfd_settime ioctl",
          "ioctl poll",
          "poll ioctl",
          "ioctl ioctl",
          "poll getpid",
          "getpid write",
          "write poll",
          "getpid poll",
          "poll write",
          "write ioctl",
          "ioctl write",
          "write getpid",
          "write write",
          "ioctl getpid",
          "getpid ioctl",
          "write timerfd_settime",
          "timerfd_settime write",
          "timerfd_settime getpid",
          "ioctl mkdir",
          "mkdir mkdir",
          "mkdir open",
          "open open",
          "open write",
          "write close",
          "close open",
          "open fstat64",
          "fstat64 getdents",
          "getdents getdents",
          "getdents open",
          "open read",
          "read read",
          "read close",
          "close unlink",
          "unlink close",
          "close mkdir",
          "close close",
          "open close",
          "close timerfd_settime",
          "poll futex",
          "futex futex",
          "futex poll",
          "ioctl futex",
          "futex timerfd_settime",
          "poll timerfd_settime",
          "futex getpid",
          "write futex",
          "timerfd_settime futex",
          "futex ioctl",
          "getpid timerfd_settime",
          "futex write",
          "getpid futex",
          "timerfd_settime poll",
          "poll poll",
          "read getpid",
          "close getpid",
          "write unlink",
          "timerfd_settime timerfd_settime",
          "ioctl open",
          "getpid read",
          "read write",
          "futex read",
          "write read",
          "open getpid",
          "write open",
          "close futex",
          "open futex",
          "futex open",
          "read futex",
          "getpid open",
          "ioctl mprotect",
          "mprotect mprotect",
          "mprotect timerfd_settime"
         ],
         "x0": " ",
         "xaxis": "x",
         "y": [
          15967.44061302682,
          15974.301724137931,
          8273.363026819923,
          8246.51724137931,
          638.9904214559386,
          218.5756704980843,
          247.06130268199234,
          193.01532567049807,
          70.58524904214559,
          70.63314176245211,
          71.544061302682,
          36.33045977011494,
          82.64272030651341,
          6.32088122605364,
          16.090038314176244,
          1.7777777777777777,
          6.703065134099617,
          0.9990421455938697,
          0.8304597701149425,
          0.0009578544061302681,
          0,
          0.0009578544061302681,
          0.7279693486590039,
          0,
          0.0009578544061302681,
          2.907088122605364,
          0,
          0,
          0,
          0,
          3.6340996168582373,
          3.6340996168582373,
          3.6331417624521074,
          0,
          0,
          0,
          0,
          0,
          0.7270114942528736,
          1.3208812260536398,
          3.6168582375478926,
          0.9789272030651341,
          1.4262452107279693,
          1.4137931034482758,
          0.06321839080459771,
          1.3199233716475096,
          1.1436781609195403,
          0.2883141762452107,
          0.44157088122605365,
          0.04980842911877394,
          0.027777777777777776,
          0.0028735632183908046,
          0.0038314176245210726,
          0.005747126436781609,
          0.0019157088122605363,
          0,
          0,
          0.0019157088122605363,
          0.7260536398467433,
          0,
          0,
          0,
          0.0009578544061302681,
          0,
          0,
          0,
          0,
          0,
          0,
          0,
          0,
          0,
          0
         ],
         "y0": " ",
         "yaxis": "y"
        },
        {
         "alignmentgroup": "True",
         "boxpoints": "all",
         "fillcolor": "rgba(255,255,255,0)",
         "hoveron": "points",
         "hovertemplate": "maltype=mimic<br>variable=%{x}<br>value=%{y}<extra></extra>",
         "legendgroup": "mimic",
         "line": {
          "color": "rgba(255,255,255,0)"
         },
         "marker": {
          "color": "#FFA15A"
         },
         "name": "mimic",
         "offsetgroup": "mimic",
         "orientation": "v",
         "pointpos": 0,
         "showlegend": true,
         "type": "box",
         "x": [
          "ioctl timerfd_settime",
          "timerfd_settime ioctl",
          "ioctl poll",
          "poll ioctl",
          "ioctl ioctl",
          "poll getpid",
          "getpid write",
          "write poll",
          "getpid poll",
          "poll write",
          "write ioctl",
          "ioctl write",
          "write getpid",
          "write write",
          "ioctl getpid",
          "getpid ioctl",
          "write timerfd_settime",
          "timerfd_settime write",
          "timerfd_settime getpid",
          "ioctl mkdir",
          "mkdir mkdir",
          "mkdir open",
          "open open",
          "open write",
          "write close",
          "close open",
          "open fstat64",
          "fstat64 getdents",
          "getdents getdents",
          "getdents open",
          "open read",
          "read read",
          "read close",
          "close unlink",
          "unlink close",
          "close mkdir",
          "close close",
          "open close",
          "close timerfd_settime",
          "poll futex",
          "futex futex",
          "futex poll",
          "ioctl futex",
          "futex timerfd_settime",
          "poll timerfd_settime",
          "futex getpid",
          "write futex",
          "timerfd_settime futex",
          "futex ioctl",
          "getpid timerfd_settime",
          "futex write",
          "getpid futex",
          "timerfd_settime poll",
          "poll poll",
          "read getpid",
          "close getpid",
          "write unlink",
          "timerfd_settime timerfd_settime",
          "ioctl open",
          "getpid read",
          "read write",
          "futex read",
          "write read",
          "open getpid",
          "write open",
          "close futex",
          "open futex",
          "futex open",
          "read futex",
          "getpid open",
          "ioctl mprotect",
          "mprotect mprotect",
          "mprotect timerfd_settime"
         ],
         "x0": " ",
         "xaxis": "x",
         "y": [
          15901.802681992338,
          15908.862068965518,
          8240.893678160919,
          8213.403256704982,
          636.4367816091954,
          215.03065134099617,
          245.40900383141764,
          188.71168582375478,
          70.35823754789271,
          70.40613026819923,
          71.8984674329502,
          35.57471264367816,
          83.61015325670498,
          7.247126436781609,
          17.31992337164751,
          2.363984674329502,
          7.402298850574713,
          1.3850574712643677,
          0.9798850574712644,
          0.0009578544061302681,
          0,
          0.0009578544061302681,
          0.735632183908046,
          0,
          0,
          2.9415708812260535,
          0,
          0,
          0,
          0,
          3.6772030651340994,
          3.675287356321839,
          3.6772030651340994,
          0,
          0,
          0,
          0,
          0,
          0.7346743295019157,
          1.299808429118774,
          3.671455938697318,
          1.0411877394636015,
          1.435823754789272,
          1.4224137931034482,
          0.045019157088122604,
          1.2327586206896552,
          1.1762452107279693,
          0.2662835249042146,
          0.45977011494252873,
          0.05747126436781609,
          0.02681992337164751,
          0.004789272030651341,
          0,
          0.005747126436781609,
          0.0019157088122605363,
          0,
          0,
          0.0009578544061302681,
          0.7346743295019157,
          0,
          0,
          0.0009578544061302681,
          0.0009578544061302681,
          0.0009578544061302681,
          0.0009578544061302681,
          0.0009578544061302681,
          0,
          0,
          0,
          0,
          0,
          0,
          0
         ],
         "y0": " ",
         "yaxis": "y"
        },
        {
         "alignmentgroup": "True",
         "boxpoints": "all",
         "fillcolor": "rgba(255,255,255,0)",
         "hoveron": "points",
         "hovertemplate": "maltype=noise<br>variable=%{x}<br>value=%{y}<extra></extra>",
         "legendgroup": "noise",
         "line": {
          "color": "rgba(255,255,255,0)"
         },
         "marker": {
          "color": "#19d3f3"
         },
         "name": "noise",
         "offsetgroup": "noise",
         "orientation": "v",
         "pointpos": 0,
         "showlegend": true,
         "type": "box",
         "x": [
          "ioctl timerfd_settime",
          "timerfd_settime ioctl",
          "ioctl poll",
          "poll ioctl",
          "ioctl ioctl",
          "poll getpid",
          "getpid write",
          "write poll",
          "getpid poll",
          "poll write",
          "write ioctl",
          "ioctl write",
          "write getpid",
          "write write",
          "ioctl getpid",
          "getpid ioctl",
          "write timerfd_settime",
          "timerfd_settime write",
          "timerfd_settime getpid",
          "ioctl mkdir",
          "mkdir mkdir",
          "mkdir open",
          "open open",
          "open write",
          "write close",
          "close open",
          "open fstat64",
          "fstat64 getdents",
          "getdents getdents",
          "getdents open",
          "open read",
          "read read",
          "read close",
          "close unlink",
          "unlink close",
          "close mkdir",
          "close close",
          "open close",
          "close timerfd_settime",
          "poll futex",
          "futex futex",
          "futex poll",
          "ioctl futex",
          "futex timerfd_settime",
          "poll timerfd_settime",
          "futex getpid",
          "write futex",
          "timerfd_settime futex",
          "futex ioctl",
          "getpid timerfd_settime",
          "futex write",
          "getpid futex",
          "timerfd_settime poll",
          "poll poll",
          "read getpid",
          "close getpid",
          "write unlink",
          "timerfd_settime timerfd_settime",
          "ioctl open",
          "getpid read",
          "read write",
          "futex read",
          "write read",
          "open getpid",
          "write open",
          "close futex",
          "open futex",
          "futex open",
          "read futex",
          "getpid open",
          "ioctl mprotect",
          "mprotect mprotect",
          "mprotect timerfd_settime"
         ],
         "x0": " ",
         "xaxis": "x",
         "y": [
          16121.659003831417,
          16128.568007662836,
          8351.697318007662,
          8327.51724137931,
          645.1599616858238,
          222.49808429118775,
          248.80172413793105,
          199.63409961685824,
          71.4521072796935,
          71.5727969348659,
          69.81800766283524,
          38.772030651341,
          82.85632183908046,
          6.594827586206897,
          14.935823754789272,
          2.200191570881226,
          6.718390804597701,
          1.1245210727969348,
          0.8812260536398467,
          0.0019157088122605363,
          0,
          0.0019157088122605363,
          0.7567049808429118,
          0.0009578544061302681,
          0.0009578544061302681,
          3.0220306513409962,
          0,
          0,
          0,
          0,
          3.7768199233716473,
          3.7758620689655173,
          3.7768199233716473,
          0,
          0,
          0,
          0,
          0,
          0.7557471264367817,
          1.407088122605364,
          3.975095785440613,
          1.1063218390804597,
          1.5555555555555556,
          1.5517241379310345,
          0.06896551724137931,
          1.3601532567049808,
          1.2777777777777777,
          0.28735632183908044,
          0.4837164750957854,
          0.08141762452107279,
          0.034482758620689655,
          0.008620689655172414,
          0.0028735632183908046,
          0.01053639846743295,
          0.0009578544061302681,
          0,
          0,
          0.0028735632183908046,
          0.7538314176245211,
          0,
          0,
          0,
          0.0009578544061302681,
          0.0009578544061302681,
          0.0009578544061302681,
          0,
          0.0009578544061302681,
          0.0009578544061302681,
          0,
          0,
          0,
          0,
          0
         ],
         "y0": " ",
         "yaxis": "y"
        },
        {
         "alignmentgroup": "True",
         "boxpoints": "all",
         "fillcolor": "rgba(255,255,255,0)",
         "hoveron": "points",
         "hovertemplate": "maltype=normal<br>variable=%{x}<br>value=%{y}<extra></extra>",
         "legendgroup": "normal",
         "line": {
          "color": "rgba(255,255,255,0)"
         },
         "marker": {
          "color": "#FF6692"
         },
         "name": "normal",
         "offsetgroup": "normal",
         "orientation": "v",
         "pointpos": 0,
         "showlegend": true,
         "type": "box",
         "x": [
          "ioctl timerfd_settime",
          "timerfd_settime ioctl",
          "ioctl poll",
          "poll ioctl",
          "ioctl ioctl",
          "poll getpid",
          "getpid write",
          "write poll",
          "getpid poll",
          "poll write",
          "write ioctl",
          "ioctl write",
          "write getpid",
          "write write",
          "ioctl getpid",
          "getpid ioctl",
          "write timerfd_settime",
          "timerfd_settime write",
          "timerfd_settime getpid",
          "ioctl mkdir",
          "mkdir mkdir",
          "mkdir open",
          "open open",
          "open write",
          "write close",
          "close open",
          "open fstat64",
          "fstat64 getdents",
          "getdents getdents",
          "getdents open",
          "open read",
          "read read",
          "read close",
          "close unlink",
          "unlink close",
          "close mkdir",
          "close close",
          "open close",
          "close timerfd_settime",
          "poll futex",
          "futex futex",
          "futex poll",
          "ioctl futex",
          "futex timerfd_settime",
          "poll timerfd_settime",
          "futex getpid",
          "write futex",
          "timerfd_settime futex",
          "futex ioctl",
          "getpid timerfd_settime",
          "futex write",
          "getpid futex",
          "timerfd_settime poll",
          "poll poll",
          "read getpid",
          "close getpid",
          "write unlink",
          "timerfd_settime timerfd_settime",
          "ioctl open",
          "getpid read",
          "read write",
          "futex read",
          "write read",
          "open getpid",
          "write open",
          "close futex",
          "open futex",
          "futex open",
          "read futex",
          "getpid open",
          "ioctl mprotect",
          "mprotect mprotect",
          "mprotect timerfd_settime"
         ],
         "x0": " ",
         "xaxis": "x",
         "y": [
          16047.244252873563,
          16054.033524904215,
          8314.32183908046,
          8288.844827586207,
          642.2231800766283,
          217.39463601532566,
          247.9463601532567,
          193.2308429118774,
          70.90900383141762,
          70.94252873563218,
          71.55172413793103,
          37.530651340996165,
          84.80747126436782,
          7.716475095785441,
          16.557471264367816,
          2.204022988505747,
          7.004789272030651,
          1.2950191570881227,
          0.9693486590038314,
          0.0019157088122605363,
          0,
          0.0019157088122605363,
          0.7318007662835249,
          0.0028735632183908046,
          0.0028735632183908046,
          2.92816091954023,
          0,
          0,
          0,
          0,
          3.657088122605364,
          3.6561302681992336,
          3.657088122605364,
          0,
          0,
          0,
          0,
          0,
          0.7308429118773946,
          1.3831417624521072,
          3.685823754789272,
          0.9894636015325671,
          1.4913793103448276,
          1.4827586206896552,
          0.05459770114942529,
          1.3706896551724137,
          1.1436781609195403,
          0.28544061302681994,
          0.4454022988505747,
          0.05076628352490421,
          0.022030651340996167,
          0.005747126436781609,
          0.0028735632183908046,
          0.0019157088122605363,
          0.0009578544061302681,
          0,
          0,
          0.0009578544061302681,
          0.7298850574712644,
          0,
          0,
          0,
          0.0009578544061302681,
          0,
          0,
          0.0009578544061302681,
          0,
          0,
          0,
          0,
          0,
          0,
          0
         ],
         "y0": " ",
         "yaxis": "y"
        },
        {
         "alignmentgroup": "True",
         "boxpoints": "all",
         "fillcolor": "rgba(255,255,255,0)",
         "hoveron": "points",
         "hovertemplate": "maltype=normalv2<br>variable=%{x}<br>value=%{y}<extra></extra>",
         "legendgroup": "normalv2",
         "line": {
          "color": "rgba(255,255,255,0)"
         },
         "marker": {
          "color": "#B6E880"
         },
         "name": "normalv2",
         "offsetgroup": "normalv2",
         "orientation": "v",
         "pointpos": 0,
         "showlegend": true,
         "type": "box",
         "x": [
          "ioctl timerfd_settime",
          "timerfd_settime ioctl",
          "ioctl poll",
          "poll ioctl",
          "ioctl ioctl",
          "poll getpid",
          "getpid write",
          "write poll",
          "getpid poll",
          "poll write",
          "write ioctl",
          "ioctl write",
          "write getpid",
          "write write",
          "ioctl getpid",
          "getpid ioctl",
          "write timerfd_settime",
          "timerfd_settime write",
          "timerfd_settime getpid",
          "ioctl mkdir",
          "mkdir mkdir",
          "mkdir open",
          "open open",
          "open write",
          "write close",
          "close open",
          "open fstat64",
          "fstat64 getdents",
          "getdents getdents",
          "getdents open",
          "open read",
          "read read",
          "read close",
          "close unlink",
          "unlink close",
          "close mkdir",
          "close close",
          "open close",
          "close timerfd_settime",
          "poll futex",
          "futex futex",
          "futex poll",
          "ioctl futex",
          "futex timerfd_settime",
          "poll timerfd_settime",
          "futex getpid",
          "write futex",
          "timerfd_settime futex",
          "futex ioctl",
          "getpid timerfd_settime",
          "futex write",
          "getpid futex",
          "timerfd_settime poll",
          "poll poll",
          "read getpid",
          "close getpid",
          "write unlink",
          "timerfd_settime timerfd_settime",
          "ioctl open",
          "getpid read",
          "read write",
          "futex read",
          "write read",
          "open getpid",
          "write open",
          "close futex",
          "open futex",
          "futex open",
          "read futex",
          "getpid open",
          "ioctl mprotect",
          "mprotect mprotect",
          "mprotect timerfd_settime"
         ],
         "x0": " ",
         "xaxis": "x",
         "y": [
          16133.310344827587,
          16139.654214559387,
          8358.683908045978,
          8333.922413793103,
          645.6264367816092,
          221.04214559386972,
          249.0823754789272,
          197.40804597701148,
          71.85919540229885,
          71.89272030651341,
          68.95498084291188,
          36.883141762452105,
          85.22222222222223,
          5.783524904214559,
          14.589080459770114,
          1.789272030651341,
          6.095785440613027,
          0.9770114942528736,
          0.7116858237547893,
          0,
          0,
          0,
          0.7327586206896551,
          0,
          0,
          2.9386973180076628,
          0,
          0,
          0,
          0,
          3.6733716475095783,
          3.667624521072797,
          3.6733716475095783,
          0,
          0,
          0,
          0,
          0,
          0.7337164750957854,
          1.2768199233716475,
          3.521072796934866,
          1.0584291187739463,
          1.3850574712643677,
          1.3745210727969348,
          0.06513409961685823,
          1.196360153256705,
          1.1915708812260537,
          0.2998084291187739,
          0.4846743295019157,
          0.05076628352490421,
          0.04118773946360153,
          0.004789272030651341,
          0.0028735632183908046,
          0.006704980842911878,
          0.0019157088122605363,
          0.0009578544061302681,
          0,
          0.0009578544061302681,
          0.7337164750957854,
          0,
          0.0009578544061302681,
          0.0028735632183908046,
          0.0019157088122605363,
          0.0028735632183908046,
          0.0009578544061302681,
          0,
          0,
          0.0019157088122605363,
          0.0019157088122605363,
          0.0009578544061302681,
          0,
          0,
          0
         ],
         "y0": " ",
         "yaxis": "y"
        },
        {
         "alignmentgroup": "True",
         "boxpoints": "all",
         "fillcolor": "rgba(255,255,255,0)",
         "hoveron": "points",
         "hovertemplate": "maltype=repeat<br>variable=%{x}<br>value=%{y}<extra></extra>",
         "legendgroup": "repeat",
         "line": {
          "color": "rgba(255,255,255,0)"
         },
         "marker": {
          "color": "#FF97FF"
         },
         "name": "repeat",
         "offsetgroup": "repeat",
         "orientation": "v",
         "pointpos": 0,
         "showlegend": true,
         "type": "box",
         "x": [
          "ioctl timerfd_settime",
          "timerfd_settime ioctl",
          "ioctl poll",
          "poll ioctl",
          "ioctl ioctl",
          "poll getpid",
          "getpid write",
          "write poll",
          "getpid poll",
          "poll write",
          "write ioctl",
          "ioctl write",
          "write getpid",
          "write write",
          "ioctl getpid",
          "getpid ioctl",
          "write timerfd_settime",
          "timerfd_settime write",
          "timerfd_settime getpid",
          "ioctl mkdir",
          "mkdir mkdir",
          "mkdir open",
          "open open",
          "open write",
          "write close",
          "close open",
          "open fstat64",
          "fstat64 getdents",
          "getdents getdents",
          "getdents open",
          "open read",
          "read read",
          "read close",
          "close unlink",
          "unlink close",
          "close mkdir",
          "close close",
          "open close",
          "close timerfd_settime",
          "poll futex",
          "futex futex",
          "futex poll",
          "ioctl futex",
          "futex timerfd_settime",
          "poll timerfd_settime",
          "futex getpid",
          "write futex",
          "timerfd_settime futex",
          "futex ioctl",
          "getpid timerfd_settime",
          "futex write",
          "getpid futex",
          "timerfd_settime poll",
          "poll poll",
          "read getpid",
          "close getpid",
          "write unlink",
          "timerfd_settime timerfd_settime",
          "ioctl open",
          "getpid read",
          "read write",
          "futex read",
          "write read",
          "open getpid",
          "write open",
          "close futex",
          "open futex",
          "futex open",
          "read futex",
          "getpid open",
          "ioctl mprotect",
          "mprotect mprotect",
          "mprotect timerfd_settime"
         ],
         "x0": " ",
         "xaxis": "x",
         "y": [
          15926.202107279694,
          15933.591954022988,
          8252.286398467433,
          8225.988505747126,
          637.383141762452,
          217.45689655172413,
          248.59003831417624,
          192.46743295019158,
          67.88888888888889,
          67.94444444444444,
          70.9080459770115,
          36.666666666666664,
          82.38984674329502,
          6.454022988505747,
          16.525862068965516,
          2.1091954022988504,
          7.514367816091954,
          1.1245210727969348,
          0.9913793103448276,
          0.0009578544061302681,
          0,
          0.0009578544061302681,
          0.7289272030651341,
          0,
          0,
          2.914750957854406,
          0,
          0,
          0,
          0,
          3.6436781609195403,
          3.6436781609195403,
          3.6436781609195403,
          0,
          0,
          0,
          0,
          0,
          0.7289272030651341,
          1.3065134099616857,
          3.603448275862069,
          0.8994252873563219,
          1.3544061302681993,
          1.3505747126436782,
          0.0603448275862069,
          1.2768199233716475,
          1.0756704980842913,
          0.21839080459770116,
          0.40804597701149425,
          0.05651340996168582,
          0.02681992337164751,
          0.006704980842911878,
          0.004789272030651341,
          0.007662835249042145,
          0,
          0,
          0,
          0.0019157088122605363,
          0.7279693486590039,
          0,
          0,
          0,
          0,
          0,
          0,
          0,
          0,
          0,
          0,
          0,
          0,
          0,
          0
         ],
         "y0": " ",
         "yaxis": "y"
        },
        {
         "alignmentgroup": "True",
         "boxpoints": "all",
         "fillcolor": "rgba(255,255,255,0)",
         "hoveron": "points",
         "hovertemplate": "maltype=spoof<br>variable=%{x}<br>value=%{y}<extra></extra>",
         "legendgroup": "spoof",
         "line": {
          "color": "rgba(255,255,255,0)"
         },
         "marker": {
          "color": "#FECB52"
         },
         "name": "spoof",
         "offsetgroup": "spoof",
         "orientation": "v",
         "pointpos": 0,
         "showlegend": true,
         "type": "box",
         "x": [
          "ioctl timerfd_settime",
          "timerfd_settime ioctl",
          "ioctl poll",
          "poll ioctl",
          "ioctl ioctl",
          "poll getpid",
          "getpid write",
          "write poll",
          "getpid poll",
          "poll write",
          "write ioctl",
          "ioctl write",
          "write getpid",
          "write write",
          "ioctl getpid",
          "getpid ioctl",
          "write timerfd_settime",
          "timerfd_settime write",
          "timerfd_settime getpid",
          "ioctl mkdir",
          "mkdir mkdir",
          "mkdir open",
          "open open",
          "open write",
          "write close",
          "close open",
          "open fstat64",
          "fstat64 getdents",
          "getdents getdents",
          "getdents open",
          "open read",
          "read read",
          "read close",
          "close unlink",
          "unlink close",
          "close mkdir",
          "close close",
          "open close",
          "close timerfd_settime",
          "poll futex",
          "futex futex",
          "futex poll",
          "ioctl futex",
          "futex timerfd_settime",
          "poll timerfd_settime",
          "futex getpid",
          "write futex",
          "timerfd_settime futex",
          "futex ioctl",
          "getpid timerfd_settime",
          "futex write",
          "getpid futex",
          "timerfd_settime poll",
          "poll poll",
          "read getpid",
          "close getpid",
          "write unlink",
          "timerfd_settime timerfd_settime",
          "ioctl open",
          "getpid read",
          "read write",
          "futex read",
          "write read",
          "open getpid",
          "write open",
          "close futex",
          "open futex",
          "futex open",
          "read futex",
          "getpid open",
          "ioctl mprotect",
          "mprotect mprotect",
          "mprotect timerfd_settime"
         ],
         "x0": " ",
         "xaxis": "x",
         "y": [
          15789.252873563219,
          15795.880268199233,
          8183.949233716475,
          8155.680076628352,
          631.8946360153257,
          211.8352490421456,
          246.04022988505747,
          184.73659003831418,
          67.76532567049809,
          67.79310344827586,
          69.91187739463602,
          33.31609195402299,
          85.76340996168582,
          7.0986590038314175,
          16.32950191570881,
          2.0775862068965516,
          6.864942528735632,
          1.1810344827586208,
          0.8563218390804598,
          0,
          0,
          0,
          0.7270114942528736,
          0.0019157088122605363,
          0.0019157088122605363,
          2.917624521072797,
          0,
          0,
          0,
          0,
          3.6446360153256707,
          3.64272030651341,
          3.6446360153256707,
          0,
          0,
          0,
          0,
          0,
          0.7289272030651341,
          1.2241379310344827,
          3.3122605363984676,
          0.9377394636015326,
          1.239463601532567,
          1.2308429118773947,
          0.040229885057471264,
          1.132183908045977,
          1.0804597701149425,
          0.2662835249042146,
          0.48659003831417624,
          0.045019157088122604,
          0.027777777777777776,
          0.0038314176245210726,
          0.0028735632183908046,
          0.01053639846743295,
          0.0009578544061302681,
          0,
          0,
          0.0019157088122605363,
          0.7289272030651341,
          0,
          0,
          0,
          0.0019157088122605363,
          0,
          0,
          0,
          0,
          0,
          0.0009578544061302681,
          0,
          0.0009578544061302681,
          0.0019157088122605363,
          0.0009578544061302681
         ],
         "y0": " ",
         "yaxis": "y"
        }
       ],
       "layout": {
        "boxmode": "group",
        "legend": {
         "title": {
          "text": "maltype"
         },
         "tracegroupgap": 0
        },
        "margin": {
         "t": 60
        },
        "template": {
         "data": {
          "bar": [
           {
            "error_x": {
             "color": "#2a3f5f"
            },
            "error_y": {
             "color": "#2a3f5f"
            },
            "marker": {
             "line": {
              "color": "#E5ECF6",
              "width": 0.5
             },
             "pattern": {
              "fillmode": "overlay",
              "size": 10,
              "solidity": 0.2
             }
            },
            "type": "bar"
           }
          ],
          "barpolar": [
           {
            "marker": {
             "line": {
              "color": "#E5ECF6",
              "width": 0.5
             },
             "pattern": {
              "fillmode": "overlay",
              "size": 10,
              "solidity": 0.2
             }
            },
            "type": "barpolar"
           }
          ],
          "carpet": [
           {
            "aaxis": {
             "endlinecolor": "#2a3f5f",
             "gridcolor": "white",
             "linecolor": "white",
             "minorgridcolor": "white",
             "startlinecolor": "#2a3f5f"
            },
            "baxis": {
             "endlinecolor": "#2a3f5f",
             "gridcolor": "white",
             "linecolor": "white",
             "minorgridcolor": "white",
             "startlinecolor": "#2a3f5f"
            },
            "type": "carpet"
           }
          ],
          "choropleth": [
           {
            "colorbar": {
             "outlinewidth": 0,
             "ticks": ""
            },
            "type": "choropleth"
           }
          ],
          "contour": [
           {
            "colorbar": {
             "outlinewidth": 0,
             "ticks": ""
            },
            "colorscale": [
             [
              0,
              "#0d0887"
             ],
             [
              0.1111111111111111,
              "#46039f"
             ],
             [
              0.2222222222222222,
              "#7201a8"
             ],
             [
              0.3333333333333333,
              "#9c179e"
             ],
             [
              0.4444444444444444,
              "#bd3786"
             ],
             [
              0.5555555555555556,
              "#d8576b"
             ],
             [
              0.6666666666666666,
              "#ed7953"
             ],
             [
              0.7777777777777778,
              "#fb9f3a"
             ],
             [
              0.8888888888888888,
              "#fdca26"
             ],
             [
              1,
              "#f0f921"
             ]
            ],
            "type": "contour"
           }
          ],
          "contourcarpet": [
           {
            "colorbar": {
             "outlinewidth": 0,
             "ticks": ""
            },
            "type": "contourcarpet"
           }
          ],
          "heatmap": [
           {
            "colorbar": {
             "outlinewidth": 0,
             "ticks": ""
            },
            "colorscale": [
             [
              0,
              "#0d0887"
             ],
             [
              0.1111111111111111,
              "#46039f"
             ],
             [
              0.2222222222222222,
              "#7201a8"
             ],
             [
              0.3333333333333333,
              "#9c179e"
             ],
             [
              0.4444444444444444,
              "#bd3786"
             ],
             [
              0.5555555555555556,
              "#d8576b"
             ],
             [
              0.6666666666666666,
              "#ed7953"
             ],
             [
              0.7777777777777778,
              "#fb9f3a"
             ],
             [
              0.8888888888888888,
              "#fdca26"
             ],
             [
              1,
              "#f0f921"
             ]
            ],
            "type": "heatmap"
           }
          ],
          "heatmapgl": [
           {
            "colorbar": {
             "outlinewidth": 0,
             "ticks": ""
            },
            "colorscale": [
             [
              0,
              "#0d0887"
             ],
             [
              0.1111111111111111,
              "#46039f"
             ],
             [
              0.2222222222222222,
              "#7201a8"
             ],
             [
              0.3333333333333333,
              "#9c179e"
             ],
             [
              0.4444444444444444,
              "#bd3786"
             ],
             [
              0.5555555555555556,
              "#d8576b"
             ],
             [
              0.6666666666666666,
              "#ed7953"
             ],
             [
              0.7777777777777778,
              "#fb9f3a"
             ],
             [
              0.8888888888888888,
              "#fdca26"
             ],
             [
              1,
              "#f0f921"
             ]
            ],
            "type": "heatmapgl"
           }
          ],
          "histogram": [
           {
            "marker": {
             "pattern": {
              "fillmode": "overlay",
              "size": 10,
              "solidity": 0.2
             }
            },
            "type": "histogram"
           }
          ],
          "histogram2d": [
           {
            "colorbar": {
             "outlinewidth": 0,
             "ticks": ""
            },
            "colorscale": [
             [
              0,
              "#0d0887"
             ],
             [
              0.1111111111111111,
              "#46039f"
             ],
             [
              0.2222222222222222,
              "#7201a8"
             ],
             [
              0.3333333333333333,
              "#9c179e"
             ],
             [
              0.4444444444444444,
              "#bd3786"
             ],
             [
              0.5555555555555556,
              "#d8576b"
             ],
             [
              0.6666666666666666,
              "#ed7953"
             ],
             [
              0.7777777777777778,
              "#fb9f3a"
             ],
             [
              0.8888888888888888,
              "#fdca26"
             ],
             [
              1,
              "#f0f921"
             ]
            ],
            "type": "histogram2d"
           }
          ],
          "histogram2dcontour": [
           {
            "colorbar": {
             "outlinewidth": 0,
             "ticks": ""
            },
            "colorscale": [
             [
              0,
              "#0d0887"
             ],
             [
              0.1111111111111111,
              "#46039f"
             ],
             [
              0.2222222222222222,
              "#7201a8"
             ],
             [
              0.3333333333333333,
              "#9c179e"
             ],
             [
              0.4444444444444444,
              "#bd3786"
             ],
             [
              0.5555555555555556,
              "#d8576b"
             ],
             [
              0.6666666666666666,
              "#ed7953"
             ],
             [
              0.7777777777777778,
              "#fb9f3a"
             ],
             [
              0.8888888888888888,
              "#fdca26"
             ],
             [
              1,
              "#f0f921"
             ]
            ],
            "type": "histogram2dcontour"
           }
          ],
          "mesh3d": [
           {
            "colorbar": {
             "outlinewidth": 0,
             "ticks": ""
            },
            "type": "mesh3d"
           }
          ],
          "parcoords": [
           {
            "line": {
             "colorbar": {
              "outlinewidth": 0,
              "ticks": ""
             }
            },
            "type": "parcoords"
           }
          ],
          "pie": [
           {
            "automargin": true,
            "type": "pie"
           }
          ],
          "scatter": [
           {
            "marker": {
             "colorbar": {
              "outlinewidth": 0,
              "ticks": ""
             }
            },
            "type": "scatter"
           }
          ],
          "scatter3d": [
           {
            "line": {
             "colorbar": {
              "outlinewidth": 0,
              "ticks": ""
             }
            },
            "marker": {
             "colorbar": {
              "outlinewidth": 0,
              "ticks": ""
             }
            },
            "type": "scatter3d"
           }
          ],
          "scattercarpet": [
           {
            "marker": {
             "colorbar": {
              "outlinewidth": 0,
              "ticks": ""
             }
            },
            "type": "scattercarpet"
           }
          ],
          "scattergeo": [
           {
            "marker": {
             "colorbar": {
              "outlinewidth": 0,
              "ticks": ""
             }
            },
            "type": "scattergeo"
           }
          ],
          "scattergl": [
           {
            "marker": {
             "colorbar": {
              "outlinewidth": 0,
              "ticks": ""
             }
            },
            "type": "scattergl"
           }
          ],
          "scattermapbox": [
           {
            "marker": {
             "colorbar": {
              "outlinewidth": 0,
              "ticks": ""
             }
            },
            "type": "scattermapbox"
           }
          ],
          "scatterpolar": [
           {
            "marker": {
             "colorbar": {
              "outlinewidth": 0,
              "ticks": ""
             }
            },
            "type": "scatterpolar"
           }
          ],
          "scatterpolargl": [
           {
            "marker": {
             "colorbar": {
              "outlinewidth": 0,
              "ticks": ""
             }
            },
            "type": "scatterpolargl"
           }
          ],
          "scatterternary": [
           {
            "marker": {
             "colorbar": {
              "outlinewidth": 0,
              "ticks": ""
             }
            },
            "type": "scatterternary"
           }
          ],
          "surface": [
           {
            "colorbar": {
             "outlinewidth": 0,
             "ticks": ""
            },
            "colorscale": [
             [
              0,
              "#0d0887"
             ],
             [
              0.1111111111111111,
              "#46039f"
             ],
             [
              0.2222222222222222,
              "#7201a8"
             ],
             [
              0.3333333333333333,
              "#9c179e"
             ],
             [
              0.4444444444444444,
              "#bd3786"
             ],
             [
              0.5555555555555556,
              "#d8576b"
             ],
             [
              0.6666666666666666,
              "#ed7953"
             ],
             [
              0.7777777777777778,
              "#fb9f3a"
             ],
             [
              0.8888888888888888,
              "#fdca26"
             ],
             [
              1,
              "#f0f921"
             ]
            ],
            "type": "surface"
           }
          ],
          "table": [
           {
            "cells": {
             "fill": {
              "color": "#EBF0F8"
             },
             "line": {
              "color": "white"
             }
            },
            "header": {
             "fill": {
              "color": "#C8D4E3"
             },
             "line": {
              "color": "white"
             }
            },
            "type": "table"
           }
          ]
         },
         "layout": {
          "annotationdefaults": {
           "arrowcolor": "#2a3f5f",
           "arrowhead": 0,
           "arrowwidth": 1
          },
          "autotypenumbers": "strict",
          "coloraxis": {
           "colorbar": {
            "outlinewidth": 0,
            "ticks": ""
           }
          },
          "colorscale": {
           "diverging": [
            [
             0,
             "#8e0152"
            ],
            [
             0.1,
             "#c51b7d"
            ],
            [
             0.2,
             "#de77ae"
            ],
            [
             0.3,
             "#f1b6da"
            ],
            [
             0.4,
             "#fde0ef"
            ],
            [
             0.5,
             "#f7f7f7"
            ],
            [
             0.6,
             "#e6f5d0"
            ],
            [
             0.7,
             "#b8e186"
            ],
            [
             0.8,
             "#7fbc41"
            ],
            [
             0.9,
             "#4d9221"
            ],
            [
             1,
             "#276419"
            ]
           ],
           "sequential": [
            [
             0,
             "#0d0887"
            ],
            [
             0.1111111111111111,
             "#46039f"
            ],
            [
             0.2222222222222222,
             "#7201a8"
            ],
            [
             0.3333333333333333,
             "#9c179e"
            ],
            [
             0.4444444444444444,
             "#bd3786"
            ],
            [
             0.5555555555555556,
             "#d8576b"
            ],
            [
             0.6666666666666666,
             "#ed7953"
            ],
            [
             0.7777777777777778,
             "#fb9f3a"
            ],
            [
             0.8888888888888888,
             "#fdca26"
            ],
            [
             1,
             "#f0f921"
            ]
           ],
           "sequentialminus": [
            [
             0,
             "#0d0887"
            ],
            [
             0.1111111111111111,
             "#46039f"
            ],
            [
             0.2222222222222222,
             "#7201a8"
            ],
            [
             0.3333333333333333,
             "#9c179e"
            ],
            [
             0.4444444444444444,
             "#bd3786"
            ],
            [
             0.5555555555555556,
             "#d8576b"
            ],
            [
             0.6666666666666666,
             "#ed7953"
            ],
            [
             0.7777777777777778,
             "#fb9f3a"
            ],
            [
             0.8888888888888888,
             "#fdca26"
            ],
            [
             1,
             "#f0f921"
            ]
           ]
          },
          "colorway": [
           "#636efa",
           "#EF553B",
           "#00cc96",
           "#ab63fa",
           "#FFA15A",
           "#19d3f3",
           "#FF6692",
           "#B6E880",
           "#FF97FF",
           "#FECB52"
          ],
          "font": {
           "color": "#2a3f5f"
          },
          "geo": {
           "bgcolor": "white",
           "lakecolor": "white",
           "landcolor": "#E5ECF6",
           "showlakes": true,
           "showland": true,
           "subunitcolor": "white"
          },
          "hoverlabel": {
           "align": "left"
          },
          "hovermode": "closest",
          "mapbox": {
           "style": "light"
          },
          "paper_bgcolor": "white",
          "plot_bgcolor": "#E5ECF6",
          "polar": {
           "angularaxis": {
            "gridcolor": "white",
            "linecolor": "white",
            "ticks": ""
           },
           "bgcolor": "#E5ECF6",
           "radialaxis": {
            "gridcolor": "white",
            "linecolor": "white",
            "ticks": ""
           }
          },
          "scene": {
           "xaxis": {
            "backgroundcolor": "#E5ECF6",
            "gridcolor": "white",
            "gridwidth": 2,
            "linecolor": "white",
            "showbackground": true,
            "ticks": "",
            "zerolinecolor": "white"
           },
           "yaxis": {
            "backgroundcolor": "#E5ECF6",
            "gridcolor": "white",
            "gridwidth": 2,
            "linecolor": "white",
            "showbackground": true,
            "ticks": "",
            "zerolinecolor": "white"
           },
           "zaxis": {
            "backgroundcolor": "#E5ECF6",
            "gridcolor": "white",
            "gridwidth": 2,
            "linecolor": "white",
            "showbackground": true,
            "ticks": "",
            "zerolinecolor": "white"
           }
          },
          "shapedefaults": {
           "line": {
            "color": "#2a3f5f"
           }
          },
          "ternary": {
           "aaxis": {
            "gridcolor": "white",
            "linecolor": "white",
            "ticks": ""
           },
           "baxis": {
            "gridcolor": "white",
            "linecolor": "white",
            "ticks": ""
           },
           "bgcolor": "#E5ECF6",
           "caxis": {
            "gridcolor": "white",
            "linecolor": "white",
            "ticks": ""
           }
          },
          "title": {
           "x": 0.05
          },
          "xaxis": {
           "automargin": true,
           "gridcolor": "white",
           "linecolor": "white",
           "ticks": "",
           "title": {
            "standoff": 15
           },
           "zerolinecolor": "white",
           "zerolinewidth": 2
          },
          "yaxis": {
           "automargin": true,
           "gridcolor": "white",
           "linecolor": "white",
           "ticks": "",
           "title": {
            "standoff": 15
           },
           "zerolinecolor": "white",
           "zerolinewidth": 2
          }
         }
        },
        "xaxis": {
         "anchor": "y",
         "domain": [
          0,
          1
         ],
         "title": {
          "text": "variable"
         }
        },
        "yaxis": {
         "anchor": "x",
         "domain": [
          0,
          1
         ],
         "title": {
          "text": "value"
         }
        }
       }
      }
     },
     "metadata": {},
     "output_type": "display_data"
    }
   ],
   "source": [
    "import plotly.express as px\n",
    "k1 = [i for i in gram_1]\n",
    "fig = px.strip(mead_2_gram, color='maltype')\n",
    "fig.show()"
   ]
  },
  {
   "cell_type": "code",
   "execution_count": 21,
   "metadata": {},
   "outputs": [
    {
     "data": {
      "text/html": [
       "<div>\n",
       "<style scoped>\n",
       "    .dataframe tbody tr th:only-of-type {\n",
       "        vertical-align: middle;\n",
       "    }\n",
       "\n",
       "    .dataframe tbody tr th {\n",
       "        vertical-align: top;\n",
       "    }\n",
       "\n",
       "    .dataframe thead th {\n",
       "        text-align: right;\n",
       "    }\n",
       "</style>\n",
       "<table border=\"1\" class=\"dataframe\">\n",
       "  <thead>\n",
       "    <tr style=\"text-align: right;\">\n",
       "      <th></th>\n",
       "      <th>maltype</th>\n",
       "      <th>ioctl timerfd_settime ioctl</th>\n",
       "      <th>timerfd_settime ioctl poll</th>\n",
       "      <th>ioctl poll ioctl</th>\n",
       "      <th>poll ioctl timerfd_settime</th>\n",
       "      <th>timerfd_settime ioctl timerfd_settime</th>\n",
       "      <th>timerfd_settime ioctl ioctl</th>\n",
       "      <th>ioctl ioctl poll</th>\n",
       "      <th>poll ioctl ioctl</th>\n",
       "      <th>ioctl ioctl timerfd_settime</th>\n",
       "      <th>...</th>\n",
       "      <th>write futex read</th>\n",
       "      <th>close open getpid</th>\n",
       "      <th>open getpid open</th>\n",
       "      <th>getpid open read</th>\n",
       "      <th>ioctl ioctl mprotect</th>\n",
       "      <th>ioctl mprotect mprotect</th>\n",
       "      <th>mprotect mprotect mprotect</th>\n",
       "      <th>mprotect mprotect timerfd_settime</th>\n",
       "      <th>mprotect timerfd_settime ioctl</th>\n",
       "      <th>poll poll ioctl</th>\n",
       "    </tr>\n",
       "  </thead>\n",
       "  <tbody>\n",
       "    <tr>\n",
       "      <th>0</th>\n",
       "      <td>delay</td>\n",
       "      <td>16223.212152</td>\n",
       "      <td>8084.735324</td>\n",
       "      <td>8216.725026</td>\n",
       "      <td>8058.386200</td>\n",
       "      <td>7786.518023</td>\n",
       "      <td>324.718847</td>\n",
       "      <td>324.713697</td>\n",
       "      <td>324.721936</td>\n",
       "      <td>324.337796</td>\n",
       "      <td>...</td>\n",
       "      <td>0.000000</td>\n",
       "      <td>0.000000</td>\n",
       "      <td>0.000000</td>\n",
       "      <td>0.000000</td>\n",
       "      <td>0.000000</td>\n",
       "      <td>0.000000</td>\n",
       "      <td>0.000000</td>\n",
       "      <td>0.000000</td>\n",
       "      <td>0.000000</td>\n",
       "      <td>0.000000</td>\n",
       "    </tr>\n",
       "    <tr>\n",
       "      <th>1</th>\n",
       "      <td>disorder</td>\n",
       "      <td>16216.014368</td>\n",
       "      <td>8078.271073</td>\n",
       "      <td>8202.047893</td>\n",
       "      <td>8050.072797</td>\n",
       "      <td>7783.992337</td>\n",
       "      <td>324.514368</td>\n",
       "      <td>324.507663</td>\n",
       "      <td>324.520115</td>\n",
       "      <td>323.752874</td>\n",
       "      <td>...</td>\n",
       "      <td>0.000000</td>\n",
       "      <td>0.000000</td>\n",
       "      <td>0.000000</td>\n",
       "      <td>0.000000</td>\n",
       "      <td>0.000000</td>\n",
       "      <td>0.000000</td>\n",
       "      <td>0.000000</td>\n",
       "      <td>0.000000</td>\n",
       "      <td>0.000000</td>\n",
       "      <td>0.000000</td>\n",
       "    </tr>\n",
       "    <tr>\n",
       "      <th>2</th>\n",
       "      <td>freeze</td>\n",
       "      <td>16102.443487</td>\n",
       "      <td>8018.103448</td>\n",
       "      <td>8136.676245</td>\n",
       "      <td>7986.491379</td>\n",
       "      <td>7730.422414</td>\n",
       "      <td>322.245211</td>\n",
       "      <td>322.236590</td>\n",
       "      <td>322.242337</td>\n",
       "      <td>321.490421</td>\n",
       "      <td>...</td>\n",
       "      <td>0.000000</td>\n",
       "      <td>0.000000</td>\n",
       "      <td>0.000000</td>\n",
       "      <td>0.000000</td>\n",
       "      <td>0.000000</td>\n",
       "      <td>0.000000</td>\n",
       "      <td>0.000000</td>\n",
       "      <td>0.000000</td>\n",
       "      <td>0.000000</td>\n",
       "      <td>0.000000</td>\n",
       "    </tr>\n",
       "    <tr>\n",
       "      <th>3</th>\n",
       "      <td>hop</td>\n",
       "      <td>15966.322797</td>\n",
       "      <td>7953.511494</td>\n",
       "      <td>8065.981801</td>\n",
       "      <td>7921.023946</td>\n",
       "      <td>7665.254789</td>\n",
       "      <td>319.473180</td>\n",
       "      <td>319.468391</td>\n",
       "      <td>319.471264</td>\n",
       "      <td>318.731801</td>\n",
       "      <td>...</td>\n",
       "      <td>0.000000</td>\n",
       "      <td>0.000000</td>\n",
       "      <td>0.000000</td>\n",
       "      <td>0.000000</td>\n",
       "      <td>0.000000</td>\n",
       "      <td>0.000000</td>\n",
       "      <td>0.000000</td>\n",
       "      <td>0.000000</td>\n",
       "      <td>0.000000</td>\n",
       "      <td>0.000000</td>\n",
       "    </tr>\n",
       "    <tr>\n",
       "      <th>4</th>\n",
       "      <td>mimic</td>\n",
       "      <td>15900.576628</td>\n",
       "      <td>7922.337165</td>\n",
       "      <td>8034.792146</td>\n",
       "      <td>7888.606322</td>\n",
       "      <td>7633.572797</td>\n",
       "      <td>318.199234</td>\n",
       "      <td>318.182950</td>\n",
       "      <td>318.190613</td>\n",
       "      <td>317.443487</td>\n",
       "      <td>...</td>\n",
       "      <td>0.000000</td>\n",
       "      <td>0.000000</td>\n",
       "      <td>0.000000</td>\n",
       "      <td>0.000000</td>\n",
       "      <td>0.000000</td>\n",
       "      <td>0.000000</td>\n",
       "      <td>0.000000</td>\n",
       "      <td>0.000000</td>\n",
       "      <td>0.000000</td>\n",
       "      <td>0.000000</td>\n",
       "    </tr>\n",
       "    <tr>\n",
       "      <th>5</th>\n",
       "      <td>noise</td>\n",
       "      <td>16120.498084</td>\n",
       "      <td>8028.763410</td>\n",
       "      <td>8140.721264</td>\n",
       "      <td>7999.242337</td>\n",
       "      <td>7739.074713</td>\n",
       "      <td>322.561303</td>\n",
       "      <td>322.560345</td>\n",
       "      <td>322.559387</td>\n",
       "      <td>321.798851</td>\n",
       "      <td>...</td>\n",
       "      <td>0.000000</td>\n",
       "      <td>0.000000</td>\n",
       "      <td>0.000000</td>\n",
       "      <td>0.000000</td>\n",
       "      <td>0.000000</td>\n",
       "      <td>0.000000</td>\n",
       "      <td>0.000000</td>\n",
       "      <td>0.000000</td>\n",
       "      <td>0.000000</td>\n",
       "      <td>0.000000</td>\n",
       "    </tr>\n",
       "    <tr>\n",
       "      <th>6</th>\n",
       "      <td>normal</td>\n",
       "      <td>16046.053640</td>\n",
       "      <td>7992.857280</td>\n",
       "      <td>8107.610153</td>\n",
       "      <td>7961.278736</td>\n",
       "      <td>7703.222222</td>\n",
       "      <td>321.098659</td>\n",
       "      <td>321.086207</td>\n",
       "      <td>321.088123</td>\n",
       "      <td>320.353448</td>\n",
       "      <td>...</td>\n",
       "      <td>0.000000</td>\n",
       "      <td>0.000000</td>\n",
       "      <td>0.000000</td>\n",
       "      <td>0.000000</td>\n",
       "      <td>0.000000</td>\n",
       "      <td>0.000000</td>\n",
       "      <td>0.000000</td>\n",
       "      <td>0.000000</td>\n",
       "      <td>0.000000</td>\n",
       "      <td>0.000000</td>\n",
       "    </tr>\n",
       "    <tr>\n",
       "      <th>7</th>\n",
       "      <td>normalv2</td>\n",
       "      <td>16132.265326</td>\n",
       "      <td>8035.516284</td>\n",
       "      <td>8147.753831</td>\n",
       "      <td>8005.479885</td>\n",
       "      <td>7744.768199</td>\n",
       "      <td>322.791188</td>\n",
       "      <td>322.784483</td>\n",
       "      <td>322.795019</td>\n",
       "      <td>322.048851</td>\n",
       "      <td>...</td>\n",
       "      <td>0.000958</td>\n",
       "      <td>0.000958</td>\n",
       "      <td>0.000958</td>\n",
       "      <td>0.000958</td>\n",
       "      <td>0.000000</td>\n",
       "      <td>0.000000</td>\n",
       "      <td>0.000000</td>\n",
       "      <td>0.000000</td>\n",
       "      <td>0.000000</td>\n",
       "      <td>0.000000</td>\n",
       "    </tr>\n",
       "    <tr>\n",
       "      <th>8</th>\n",
       "      <td>repeat</td>\n",
       "      <td>15925.090038</td>\n",
       "      <td>7933.316092</td>\n",
       "      <td>8047.736590</td>\n",
       "      <td>7900.822797</td>\n",
       "      <td>7645.578544</td>\n",
       "      <td>318.674330</td>\n",
       "      <td>318.662835</td>\n",
       "      <td>318.666667</td>\n",
       "      <td>317.934866</td>\n",
       "      <td>...</td>\n",
       "      <td>0.000000</td>\n",
       "      <td>0.000000</td>\n",
       "      <td>0.000000</td>\n",
       "      <td>0.000000</td>\n",
       "      <td>0.000000</td>\n",
       "      <td>0.000000</td>\n",
       "      <td>0.000000</td>\n",
       "      <td>0.000000</td>\n",
       "      <td>0.000000</td>\n",
       "      <td>0.000000</td>\n",
       "    </tr>\n",
       "    <tr>\n",
       "      <th>9</th>\n",
       "      <td>spoof</td>\n",
       "      <td>15788.194444</td>\n",
       "      <td>7867.631226</td>\n",
       "      <td>7980.990421</td>\n",
       "      <td>7833.560345</td>\n",
       "      <td>7579.771073</td>\n",
       "      <td>315.924330</td>\n",
       "      <td>315.914751</td>\n",
       "      <td>315.932950</td>\n",
       "      <td>315.180077</td>\n",
       "      <td>...</td>\n",
       "      <td>0.000000</td>\n",
       "      <td>0.000000</td>\n",
       "      <td>0.000000</td>\n",
       "      <td>0.000000</td>\n",
       "      <td>0.000958</td>\n",
       "      <td>0.000958</td>\n",
       "      <td>0.000958</td>\n",
       "      <td>0.000958</td>\n",
       "      <td>0.000958</td>\n",
       "      <td>0.000958</td>\n",
       "    </tr>\n",
       "  </tbody>\n",
       "</table>\n",
       "<p>10 rows × 247 columns</p>\n",
       "</div>"
      ],
      "text/plain": [
       "    maltype  ioctl timerfd_settime ioctl  timerfd_settime ioctl poll  \\\n",
       "0     delay                 16223.212152                 8084.735324   \n",
       "1  disorder                 16216.014368                 8078.271073   \n",
       "2    freeze                 16102.443487                 8018.103448   \n",
       "3       hop                 15966.322797                 7953.511494   \n",
       "4     mimic                 15900.576628                 7922.337165   \n",
       "5     noise                 16120.498084                 8028.763410   \n",
       "6    normal                 16046.053640                 7992.857280   \n",
       "7  normalv2                 16132.265326                 8035.516284   \n",
       "8    repeat                 15925.090038                 7933.316092   \n",
       "9     spoof                 15788.194444                 7867.631226   \n",
       "\n",
       "   ioctl poll ioctl  poll ioctl timerfd_settime  \\\n",
       "0       8216.725026                 8058.386200   \n",
       "1       8202.047893                 8050.072797   \n",
       "2       8136.676245                 7986.491379   \n",
       "3       8065.981801                 7921.023946   \n",
       "4       8034.792146                 7888.606322   \n",
       "5       8140.721264                 7999.242337   \n",
       "6       8107.610153                 7961.278736   \n",
       "7       8147.753831                 8005.479885   \n",
       "8       8047.736590                 7900.822797   \n",
       "9       7980.990421                 7833.560345   \n",
       "\n",
       "   timerfd_settime ioctl timerfd_settime  timerfd_settime ioctl ioctl  \\\n",
       "0                            7786.518023                   324.718847   \n",
       "1                            7783.992337                   324.514368   \n",
       "2                            7730.422414                   322.245211   \n",
       "3                            7665.254789                   319.473180   \n",
       "4                            7633.572797                   318.199234   \n",
       "5                            7739.074713                   322.561303   \n",
       "6                            7703.222222                   321.098659   \n",
       "7                            7744.768199                   322.791188   \n",
       "8                            7645.578544                   318.674330   \n",
       "9                            7579.771073                   315.924330   \n",
       "\n",
       "   ioctl ioctl poll  poll ioctl ioctl  ioctl ioctl timerfd_settime  ...  \\\n",
       "0        324.713697        324.721936                   324.337796  ...   \n",
       "1        324.507663        324.520115                   323.752874  ...   \n",
       "2        322.236590        322.242337                   321.490421  ...   \n",
       "3        319.468391        319.471264                   318.731801  ...   \n",
       "4        318.182950        318.190613                   317.443487  ...   \n",
       "5        322.560345        322.559387                   321.798851  ...   \n",
       "6        321.086207        321.088123                   320.353448  ...   \n",
       "7        322.784483        322.795019                   322.048851  ...   \n",
       "8        318.662835        318.666667                   317.934866  ...   \n",
       "9        315.914751        315.932950                   315.180077  ...   \n",
       "\n",
       "   write futex read  close open getpid  open getpid open  getpid open read  \\\n",
       "0          0.000000           0.000000          0.000000          0.000000   \n",
       "1          0.000000           0.000000          0.000000          0.000000   \n",
       "2          0.000000           0.000000          0.000000          0.000000   \n",
       "3          0.000000           0.000000          0.000000          0.000000   \n",
       "4          0.000000           0.000000          0.000000          0.000000   \n",
       "5          0.000000           0.000000          0.000000          0.000000   \n",
       "6          0.000000           0.000000          0.000000          0.000000   \n",
       "7          0.000958           0.000958          0.000958          0.000958   \n",
       "8          0.000000           0.000000          0.000000          0.000000   \n",
       "9          0.000000           0.000000          0.000000          0.000000   \n",
       "\n",
       "   ioctl ioctl mprotect  ioctl mprotect mprotect  mprotect mprotect mprotect  \\\n",
       "0              0.000000                 0.000000                    0.000000   \n",
       "1              0.000000                 0.000000                    0.000000   \n",
       "2              0.000000                 0.000000                    0.000000   \n",
       "3              0.000000                 0.000000                    0.000000   \n",
       "4              0.000000                 0.000000                    0.000000   \n",
       "5              0.000000                 0.000000                    0.000000   \n",
       "6              0.000000                 0.000000                    0.000000   \n",
       "7              0.000000                 0.000000                    0.000000   \n",
       "8              0.000000                 0.000000                    0.000000   \n",
       "9              0.000958                 0.000958                    0.000958   \n",
       "\n",
       "   mprotect mprotect timerfd_settime  mprotect timerfd_settime ioctl  \\\n",
       "0                           0.000000                        0.000000   \n",
       "1                           0.000000                        0.000000   \n",
       "2                           0.000000                        0.000000   \n",
       "3                           0.000000                        0.000000   \n",
       "4                           0.000000                        0.000000   \n",
       "5                           0.000000                        0.000000   \n",
       "6                           0.000000                        0.000000   \n",
       "7                           0.000000                        0.000000   \n",
       "8                           0.000000                        0.000000   \n",
       "9                           0.000958                        0.000958   \n",
       "\n",
       "   poll poll ioctl  \n",
       "0         0.000000  \n",
       "1         0.000000  \n",
       "2         0.000000  \n",
       "3         0.000000  \n",
       "4         0.000000  \n",
       "5         0.000000  \n",
       "6         0.000000  \n",
       "7         0.000000  \n",
       "8         0.000000  \n",
       "9         0.000958  \n",
       "\n",
       "[10 rows x 247 columns]"
      ]
     },
     "execution_count": 21,
     "metadata": {},
     "output_type": "execute_result"
    }
   ],
   "source": [
    "k3 = [i for i in gram_3] + ['maltype']\n",
    "df_3gram = dcf[k3]\n",
    "mead_3_gram = df_3gram.groupby('maltype',as_index=False).agg('mean')\n",
    "mead_3_gram"
   ]
  }
 ],
 "metadata": {
  "interpreter": {
   "hash": "63fd5069d213b44bf678585dea6b12cceca9941eaf7f819626cde1f2670de90d"
  },
  "kernelspec": {
   "display_name": "Python 3.9.6 64-bit",
   "name": "python3"
  },
  "language_info": {
   "codemirror_mode": {
    "name": "ipython",
    "version": 3
   },
   "file_extension": ".py",
   "mimetype": "text/x-python",
   "name": "python",
   "nbconvert_exporter": "python",
   "pygments_lexer": "ipython3",
   "version": "3.9.6"
  },
  "orig_nbformat": 4
 },
 "nbformat": 4,
 "nbformat_minor": 2
}
