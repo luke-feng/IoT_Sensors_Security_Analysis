{
 "cells": [
  {
   "cell_type": "code",
   "execution_count": 1,
   "metadata": {},
   "outputs": [],
   "source": [
    "import torch\n",
    "import flwr as fl"
   ]
  },
  {
   "cell_type": "code",
   "execution_count": 2,
   "metadata": {},
   "outputs": [],
   "source": [
    "strategy = fl.server.strategy.FedAvg(\n",
    "        fraction_fit=0.5,\n",
    "        fraction_eval=0.5,\n",
    "    )"
   ]
  },
  {
   "cell_type": "code",
   "execution_count": 3,
   "metadata": {},
   "outputs": [
    {
     "name": "stderr",
     "output_type": "stream",
     "text": [
      "INFO flower 2021-11-18 23:24:49,143 | app.py:77 | Flower server running (insecure, 3 rounds)\n",
      "INFO flower 2021-11-18 23:24:49,144 | server.py:118 | Initializing global parameters\n",
      "INFO flower 2021-11-18 23:24:49,144 | server.py:304 | Requesting initial parameters from one random client\n",
      "INFO flower 2021-11-18 23:25:17,155 | server.py:307 | Received initial parameters from one random client\n",
      "INFO flower 2021-11-18 23:25:17,155 | server.py:120 | Evaluating initial parameters\n",
      "INFO flower 2021-11-18 23:25:17,156 | server.py:133 | FL starting\n",
      "DEBUG flower 2021-11-18 23:25:41,042 | server.py:251 | fit_round: strategy sampled 2 clients (out of 2)\n"
     ]
    }
   ],
   "source": [
    "fl.server.start_server(\n",
    "        server_address=\"192.168.1.105:8080\",\n",
    "        config={\"num_rounds\": 3},\n",
    "        strategy=strategy,\n",
    "    )"
   ]
  }
 ],
 "metadata": {
  "interpreter": {
   "hash": "63fd5069d213b44bf678585dea6b12cceca9941eaf7f819626cde1f2670de90d"
  },
  "kernelspec": {
   "display_name": "Python 3.9.6 64-bit",
   "language": "python",
   "name": "python3"
  },
  "language_info": {
   "codemirror_mode": {
    "name": "ipython",
    "version": 3
   },
   "file_extension": ".py",
   "mimetype": "text/x-python",
   "name": "python",
   "nbconvert_exporter": "python",
   "pygments_lexer": "ipython3",
   "version": "3.9.6"
  },
  "orig_nbformat": 4
 },
 "nbformat": 4,
 "nbformat_minor": 2
}
