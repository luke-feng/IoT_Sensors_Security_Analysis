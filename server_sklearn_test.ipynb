{
 "cells": [
  {
   "cell_type": "code",
   "execution_count": 64,
   "metadata": {},
   "outputs": [],
   "source": [
    "import warnings\n",
    "import flwr as fl\n",
    "import numpy as np\n",
    "from sklearn.svm import OneClassSVM\n",
    "from sklearn.linear_model import SGDOneClassSVM\n",
    "from sklearn.linear_model import LogisticRegression\n",
    "from sklearn.metrics import log_loss\n",
    "from typing import Tuple, Union, List, Dict\n",
    "import numpy as np\n",
    "import pandas as pd\n",
    "from random import randint\n",
    "from sklearn import metrics\n",
    "import ast\n",
    "from sklearn.model_selection import train_test_split"
   ]
  },
  {
   "cell_type": "code",
   "execution_count": 65,
   "metadata": {},
   "outputs": [],
   "source": [
    "XY = Tuple[np.ndarray, np.ndarray]\n",
    "Dataset = Tuple[XY, XY, XY]\n",
    "ModelParams = Union[XY, Tuple[np.ndarray]]\n",
    "XYList = List[XY]\n",
    "Model = SGDOneClassSVM"
   ]
  },
  {
   "cell_type": "code",
   "execution_count": 66,
   "metadata": {},
   "outputs": [],
   "source": [
    "def set_model_params(\n",
    "    model: Model, params: ModelParams\n",
    ") -> Model:\n",
    "    \"\"\"Sets the parameters of a sklean LogisticRegression model.\"\"\"\n",
    "    model.coef_ = params[0]\n",
    "    # if model.fit_intercept:\n",
    "    #     model.intercept_ = params[1]\n",
    "    return model"
   ]
  },
  {
   "cell_type": "code",
   "execution_count": 67,
   "metadata": {},
   "outputs": [],
   "source": [
    "def load_dataset():\n",
    "    \"\"\"Loads the MNIST dataset from local csv.\n",
    "    \"\"\"\n",
    "    tw = 60\n",
    "    feature = 'system calls tfidf_5gram-pcas'\n",
    "    dataPath = 'f:/temp/'\n",
    "    devices =  ['pi3', 'pi4_2G', 'pi4_4G']\n",
    "    x_t=[]\n",
    "    y_t=[]\n",
    "    x_v = []\n",
    "    y_v = []\n",
    "    for device in devices:\n",
    "        tsv_name = dataPath + 'encoded_bow{}_{}_{}.csv'.format(device, tw, feature)\n",
    "        encoded_trace_df = pd.read_csv(tsv_name, sep='\\t')\n",
    "        ft = [ast.literal_eval(i) for i in encoded_trace_df[feature]]\n",
    "        encoded_trace_df[feature] = ft\n",
    "        normal = encoded_trace_df[encoded_trace_df.maltype=='normal']\n",
    "        abnoraml = encoded_trace_df[encoded_trace_df.maltype!='normal']\n",
    "        X = normal[feature].tolist()\n",
    "        y = [1 for i in range(0,len(X))]\n",
    "        X_train, X_val, y_train, y_val = train_test_split(X, y, test_size=.3, random_state=42)\n",
    "        x_v += X_val\n",
    "        y_v += y_val\n",
    "        X_test = abnoraml[feature].tolist()\n",
    "        x_t += X_test\n",
    "        y_test = [-1 for i in range(0,len(X_test))]\n",
    "        y_t += y_test\n",
    "\n",
    "    return (x_v, y_v), (x_t, y_t)"
   ]
  },
  {
   "cell_type": "code",
   "execution_count": 68,
   "metadata": {},
   "outputs": [],
   "source": [
    "def set_initial_params(model: Model, n_features=20):\n",
    "    \"\"\"Sets initial parameters as zeros Required since model params are\n",
    "    uninitialized until model.fit is called.\n",
    "    But server asks for initial parameters from clients at launch. Refer\n",
    "    to sklearn.linear_model.LogisticRegression documentation for more\n",
    "    information.\n",
    "    \"\"\"\n",
    "    n_classes = 1  # MNIST has 10 classes\n",
    "    model.classes_ = np.array([i for i in range(10)])\n",
    "\n",
    "    model.coef_ = np.zeros((n_classes, n_features))\n",
    "    model.offset_ = np.zeros(1)\n",
    "    # if model.fit_intercept:\n",
    "    #     model.intercept_ = np.zeros((n_classes,))"
   ]
  },
  {
   "cell_type": "code",
   "execution_count": 69,
   "metadata": {},
   "outputs": [],
   "source": [
    "def fit_round(rnd: int) -> Dict:\n",
    "    \"\"\"Send round number to client.\"\"\"\n",
    "    return {\"rnd\": rnd}\n",
    "\n",
    "\n",
    "def get_eval_fn(model: SGDOneClassSVM):\n",
    "    \"\"\"Return an evaluation function for server-side evaluation.\"\"\"\n",
    "    \n",
    "    # Load test data here to avoid the overhead of doing it in `evaluate` itself\n",
    "    (X_val, y_val), (X_test, y_test) = load_dataset()\n",
    "\n",
    "    # The `evaluate` function will be called after every round\n",
    "    def evaluate(parameters: fl.common.Weights):\n",
    "\n",
    "        set_model_params(model, parameters)\n",
    "\n",
    "        y_pred_val = model.predict(X_val)\n",
    "        sco_val = model.score_samples(X_val)\n",
    "        loss_val = metrics.accuracy_score(y_val, y_pred_val)\n",
    "        accuracy_val = metrics.accuracy_score(y_val, y_pred_val)\n",
    "\n",
    "        y_pred_test = model.predict(X_test)\n",
    "        sco_test = model.score_samples(X_test)\n",
    "        loss_test = metrics.accuracy_score(y_test, y_pred_test)\n",
    "        accuracy_test = metrics.accuracy_score(y_test, y_pred_test)\n",
    "        # accuracy = model.score(X_test, y_test)\n",
    "        print(f\"validation accuracy is {accuracy_val}\")\n",
    "        return loss_test,  {\"accuracy_validation\": accuracy_val, \"test_validation\": accuracy_test}\n",
    "    return evaluate"
   ]
  },
  {
   "cell_type": "code",
   "execution_count": 70,
   "metadata": {},
   "outputs": [
    {
     "name": "stderr",
     "output_type": "stream",
     "text": [
      "INFO flower 2021-11-18 23:58:40,661 | app.py:77 | Flower server running (insecure, 1 rounds)\n",
      "INFO flower 2021-11-18 23:58:40,661 | server.py:118 | Initializing global parameters\n",
      "INFO flower 2021-11-18 23:58:40,662 | server.py:304 | Requesting initial parameters from one random client\n",
      "INFO flower 2021-11-18 23:58:46,710 | server.py:307 | Received initial parameters from one random client\n",
      "INFO flower 2021-11-18 23:58:46,710 | server.py:120 | Evaluating initial parameters\n",
      "INFO flower 2021-11-18 23:58:46,822 | server.py:123 | initial parameters (loss, other metrics): 0.0, {'accuracy_validation': 1.0, 'test_validation': 0.0}\n",
      "INFO flower 2021-11-18 23:58:46,823 | server.py:133 | FL starting\n"
     ]
    },
    {
     "name": "stdout",
     "output_type": "stream",
     "text": [
      "validation accuracy is 1.0\n"
     ]
    },
    {
     "name": "stderr",
     "output_type": "stream",
     "text": [
      "DEBUG flower 2021-11-18 23:58:56,598 | server.py:251 | fit_round: strategy sampled 2 clients (out of 3)\n",
      "DEBUG flower 2021-11-18 23:58:56,649 | server.py:260 | fit_round received 2 results and 0 failures\n",
      "INFO flower 2021-11-18 23:58:56,766 | server.py:148 | fit progress: (1, 0.16537997587454764, {'accuracy_validation': 0.9964028776978417, 'test_validation': 0.16537997587454764}, 9.942148899999893)\n",
      "INFO flower 2021-11-18 23:58:56,767 | server.py:199 | evaluate_round: no clients selected, cancel\n",
      "INFO flower 2021-11-18 23:58:56,767 | server.py:172 | FL finished in 9.943065700000034\n",
      "INFO flower 2021-11-18 23:58:56,767 | app.py:119 | app_fit: losses_distributed []\n",
      "INFO flower 2021-11-18 23:58:56,768 | app.py:120 | app_fit: metrics_distributed {}\n",
      "INFO flower 2021-11-18 23:58:56,768 | app.py:121 | app_fit: losses_centralized [(0, 0.0), (1, 0.16537997587454764)]\n",
      "INFO flower 2021-11-18 23:58:56,768 | app.py:122 | app_fit: metrics_centralized {'accuracy_validation': [(0, 1.0), (1, 0.9964028776978417)], 'test_validation': [(0, 0.0), (1, 0.16537997587454764)]}\n"
     ]
    },
    {
     "name": "stdout",
     "output_type": "stream",
     "text": [
      "validation accuracy is 0.9964028776978417\n"
     ]
    }
   ],
   "source": [
    "# Start Flower server for five rounds of federated learning\n",
    "if __name__ == \"__main__\":\n",
    "    model = SGDOneClassSVM()\n",
    "    set_initial_params(model)\n",
    "    strategy = fl.server.strategy.FedAvg(\n",
    "        min_available_clients=3,\n",
    "        eval_fn=get_eval_fn(model),\n",
    "        on_fit_config_fn=fit_round,\n",
    "    )\n",
    "    fl.server.start_server(\"192.168.1.105:8080\", strategy=strategy, config={\"num_rounds\": 1})"
   ]
  }
 ],
 "metadata": {
  "interpreter": {
   "hash": "63fd5069d213b44bf678585dea6b12cceca9941eaf7f819626cde1f2670de90d"
  },
  "kernelspec": {
   "display_name": "Python 3.9.6 64-bit",
   "language": "python",
   "name": "python3"
  },
  "language_info": {
   "codemirror_mode": {
    "name": "ipython",
    "version": 3
   },
   "file_extension": ".py",
   "mimetype": "text/x-python",
   "name": "python",
   "nbconvert_exporter": "python",
   "pygments_lexer": "ipython3",
   "version": "3.9.6"
  },
  "orig_nbformat": 4
 },
 "nbformat": 4,
 "nbformat_minor": 2
}
