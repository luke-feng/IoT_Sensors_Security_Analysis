{
 "cells": [
  {
   "cell_type": "code",
   "execution_count": 54,
   "metadata": {},
   "outputs": [],
   "source": [
    "import re\n",
    "import pandas as pd\n",
    "import nltk\n",
    "from sklearn.feature_extraction.text import TfidfVectorizer, CountVectorizer, HashingVectorizer\n",
    "import os,sys\n",
    "import tqdm"
   ]
  },
  {
   "cell_type": "code",
   "execution_count": 56,
   "metadata": {},
   "outputs": [],
   "source": [
    "rootPath ='D:/git/IoT_Sensors_Security_Analysis/data/dataset/dfF/'\n",
    "files = os.listdir(rootPath)"
   ]
  },
  {
   "cell_type": "code",
   "execution_count": 57,
   "metadata": {},
   "outputs": [
    {
     "data": {
      "text/plain": [
       "['delay_5379_0_2021-09-22_14_40_51.txt',\n",
       " 'disorder_6523_0_2021-09-22_14_51_13.txt',\n",
       " 'freeze_7626_0_2021-09-22_15_01_35.txt',\n",
       " 'hop_8746_0_2021-09-22_15_11_57.txt',\n",
       " 'mimic_9850_0_2021-09-22_15_22_19.txt',\n",
       " 'noise_10951_0_2021-09-22_15_32_41.txt',\n",
       " 'normal_11903_0_2021-09-22_15_41_46.txt',\n",
       " 'normal_v2_13034_0_2021-09-22_15_52_08.txt',\n",
       " 'repeat_14139_0_2021-09-22_16_02_29.txt',\n",
       " 'spoof_15240_0_2021-09-22_16_12_51.txt']"
      ]
     },
     "execution_count": 57,
     "metadata": {},
     "output_type": "execute_result"
    }
   ],
   "source": [
    "files"
   ]
  },
  {
   "cell_type": "code",
   "execution_count": 58,
   "metadata": {},
   "outputs": [],
   "source": [
    "malware = set([i.split('_')[0] for i in files])"
   ]
  },
  {
   "cell_type": "code",
   "execution_count": 59,
   "metadata": {},
   "outputs": [
    {
     "data": {
      "text/plain": [
       "{'delay',\n",
       " 'disorder',\n",
       " 'freeze',\n",
       " 'hop',\n",
       " 'mimic',\n",
       " 'noise',\n",
       " 'normal',\n",
       " 'repeat',\n",
       " 'spoof'}"
      ]
     },
     "execution_count": 59,
     "metadata": {},
     "output_type": "execute_result"
    }
   ],
   "source": [
    "malware"
   ]
  },
  {
   "cell_type": "code",
   "execution_count": 60,
   "metadata": {},
   "outputs": [],
   "source": [
    "def get_systemcall_name_with_fork(line):\n",
    "    syscall = ''\n",
    "    linelist = line.split(' ')\n",
    "    pid = int(linelist[0])\n",
    "    time_cost = re.split('<|>', linelist[-1])\n",
    "\n",
    "    try:\n",
    "        time_cost = float(time_cost[1])\n",
    "    except:\n",
    "        time_cost = 0\n",
    "    for i,l in enumerate(linelist):\n",
    "        if re.match(r'\\d{2}:\\d{2}:\\d{2}', l) is not None:\n",
    "            timestamp = l\n",
    "            if '(' in linelist[i+1]:\n",
    "                syscall = linelist[i+1].split('(')[0]\n",
    "            elif '<...' in linelist[i+1]:\n",
    "                syscall = linelist[i+2]\n",
    "            elif '+++' in linelist[i+1]:\n",
    "                syscall = linelist[i+2]\n",
    "            elif '---' in linelist[i+1]:\n",
    "                syscall = linelist[i+2]\n",
    "            else:\n",
    "                syscall = '!!'+linelist[i+1]\n",
    "            break\n",
    "    return [pid, timestamp, syscall, time_cost]"
   ]
  },
  {
   "cell_type": "code",
   "execution_count": 61,
   "metadata": {},
   "outputs": [],
   "source": [
    "def get_systemcall_name_without_fork(line):\n",
    "    syscall = ''\n",
    "    linelist = line.split(' ')\n",
    "    # pid = int(linelist[0])\n",
    "    time_cost = re.split('<|>', linelist[-1])\n",
    "\n",
    "    try:\n",
    "        time_cost = float(time_cost[1])\n",
    "    except:\n",
    "        time_cost = 0\n",
    "    for i,l in enumerate(linelist):\n",
    "        if re.match(r'\\d{2}:\\d{2}:\\d{2}', l) is not None:\n",
    "            timestamp = l\n",
    "            if '(' in linelist[i+1]:\n",
    "                syscall = linelist[i+1].split('(')[0]\n",
    "            elif '<...' in linelist[i+1]:\n",
    "                syscall = linelist[i+2]\n",
    "            elif '+++' in linelist[i+1]:\n",
    "                syscall = linelist[i+2]\n",
    "            elif '---' in linelist[i+1]:\n",
    "                syscall = linelist[i+2]\n",
    "            else:\n",
    "                syscall = '!!'+linelist[i+1]\n",
    "            break\n",
    "    return [timestamp, syscall, time_cost]"
   ]
  },
  {
   "cell_type": "code",
   "execution_count": 77,
   "metadata": {},
   "outputs": [
    {
     "name": "stderr",
     "output_type": "stream",
     "text": [
      "2849155it [00:30, 176393.15it/s]"
     ]
    },
    {
     "name": "stdout",
     "output_type": "stream",
     "text": [
      "==============================================\n",
      "Malware: delay\n",
      "system call describe: {'count': 11755629, 'unique': 5, 'top': 'nanosleep', 'freq': 11754256}, mean costed time: 0.00021798508280586286\n",
      "{'ioctl': 572.0, 'nanosleep': 11754256.0, 'poll': 240.0, 'timerfd_settime': 402.0, 'write': 159.0}\n",
      "==============================================\n",
      "Malware: noise\n",
      "system call describe: {'count': 10360695, 'unique': 16, 'top': 'nanosleep', 'freq': 10356691}, mean costed time: 0.0002643593029232111\n",
      "{'SIGPIPE': 1.0, 'close': 16.0, 'exit': 12.0, 'exit_group': 1.0, 'exited': 9.0, 'futex': 14.0, 'getpid': 10.0, 'ioctl': 1824.0, 'madvise': 15.0, 'munmap': 4.0, 'nanosleep': 10356691.0, 'poll': 659.0, 'read': 4.0, 'sigreturn': 2.0, 'timerfd_settime': 1209.0, 'write': 224.0}\n",
      "==============================================\n",
      "Malware: mimic\n",
      "system call describe: {'count': 11796998, 'unique': 6, 'top': 'nanosleep', 'freq': 11795238}, mean costed time: 0.0002163828482466473\n",
      "{'getpid': 4.0, 'ioctl': 751.0, 'nanosleep': 11795238.0, 'poll': 304.0, 'timerfd_settime': 520.0, 'write': 181.0}\n",
      "==============================================\n",
      "Malware: disorder\n",
      "system call describe: {'count': 11741706, 'unique': 6, 'top': 'nanosleep', 'freq': 11740455}, mean costed time: 0.00022226212596363802\n",
      "{'getpid': 4.0, 'ioctl': 521.0, 'nanosleep': 11740455.0, 'poll': 228.0, 'timerfd_settime': 366.0, 'write': 132.0}\n",
      "==============================================\n",
      "Malware: repeat\n",
      "system call describe: {'count': 11783176, 'unique': 10, 'top': 'nanosleep', 'freq': 11781378}, mean costed time: 0.00021586171512671953\n",
      "{'close': 13.0, 'getpid': 4.0, 'ioctl': 758.0, 'mkdir': 11.0, 'nanosleep': 11781378.0, 'open': 11.0, 'poll': 298.0, 'read': 23.0, 'timerfd_settime': 522.0, 'write': 158.0}\n",
      "==============================================\n",
      "Malware: normal\n",
      "system call describe: {'count': 11796810, 'unique': 5, 'top': 'nanosleep', 'freq': 11795555}, mean costed time: 0.00021449580344177813\n",
      "{'ioctl': 525.0, 'nanosleep': 11795555.0, 'poll': 213.0, 'timerfd_settime': 370.0, 'write': 147.0}\n",
      "==============================================\n",
      "Malware: hop\n",
      "system call describe: {'count': 11771777, 'unique': 5, 'top': 'nanosleep', 'freq': 11770787}, mean costed time: 0.00021779640049246544\n",
      "{'ioctl': 413.0, 'nanosleep': 11770787.0, 'poll': 174.0, 'timerfd_settime': 292.0, 'write': 111.0}\n",
      "==============================================\n",
      "Malware: freeze\n",
      "system call describe: {'count': 11489509, 'unique': 5, 'top': 'nanosleep', 'freq': 11487596}, mean costed time: 0.00021965417207993833\n",
      "{'ioctl': 810.0, 'nanosleep': 11487596.0, 'poll': 325.0, 'timerfd_settime': 566.0, 'write': 212.0}\n",
      "==============================================\n",
      "Malware: spoof\n",
      "system call describe: {'count': 11880587, 'unique': 6, 'top': 'nanosleep', 'freq': 11878565}, mean costed time: 0.00021436851445134797\n",
      "{'getpid': 7.0, 'ioctl': 895.0, 'nanosleep': 11878565.0, 'poll': 348.0, 'timerfd_settime': 610.0, 'write': 162.0}\n"
     ]
    }
   ],
   "source": [
    "for ma in malware: \n",
    "    for fi in files:\n",
    "        if ma in fi and 'txt' in fi:\n",
    "            syscalls = []\n",
    "            # par = tqdm.tqdm()\n",
    "            with open(rootPath+fi,'r') as f:\n",
    "                for line in f:\n",
    "                    # par.update(1)\n",
    "                    sys=get_systemcall_name_with_fork(line)\n",
    "                    syscalls.append(sys)\n",
    "                f.close()\n",
    "                # par.close()\n",
    "            df = pd.DataFrame(syscalls)\n",
    "            df.columns=['pid', 'timestamp', 'syscall', 'time_cost']\n",
    "            # sc = set(df['syscall'])\n",
    "            ds = df['syscall'].describe()\n",
    "            dt = df['time_cost'].describe()\n",
    "            print('==============================================')\n",
    "            print('Malware: {}'.format(ma))\n",
    "            print('system call describe: {}, mean costed time: {}'.format(ds.to_dict(), dt['mean']))\n",
    "            a = df.groupby('syscall')\n",
    "            print(a.describe()[('pid','count')].to_dict())\n",
    "            break\n",
    "\n"
   ]
  },
  {
   "cell_type": "code",
   "execution_count": 63,
   "metadata": {},
   "outputs": [],
   "source": [
    "syscalls = []\n",
    "tqdm\n",
    "with open(rootPath+'delay_5379_0_2021-09-22_14_40_51.txt', 'r') as f:\n",
    "    for line in f:\n",
    "        sys=get_systemcall_name_with_fork(line)\n",
    "        syscalls.append(sys)\n",
    "    f.close()\n",
    "\n",
    "# print('system call describe: {}'.format(dt.to_dict()))"
   ]
  },
  {
   "cell_type": "code",
   "execution_count": 64,
   "metadata": {},
   "outputs": [
    {
     "name": "stdout",
     "output_type": "stream",
     "text": [
      "==============================================\n",
      "Malware: mimic\n",
      "system call describe: {'count': 11755629, 'unique': 5, 'top': 'nanosleep', 'freq': 11754256}, mean costed time: 0.00021798508280586286\n"
     ]
    }
   ],
   "source": [
    "df = pd.DataFrame(syscalls)\n",
    "df.columns=['pid', 'timestamp', 'syscall', 'time_cost']\n",
    "# sc = set(df['syscall'])\n",
    "ds = df['syscall'].describe()\n",
    "dt = df['time_cost'].describe()\n",
    "print('==============================================')\n",
    "print('Malware: {}'.format(ma))\n",
    "print('system call describe: {}, mean costed time: {}'.format(ds.to_dict(), dt['mean']))"
   ]
  },
  {
   "cell_type": "code",
   "execution_count": 67,
   "metadata": {},
   "outputs": [],
   "source": [
    "a = df.groupby('syscall')"
   ]
  },
  {
   "cell_type": "code",
   "execution_count": 72,
   "metadata": {},
   "outputs": [],
   "source": [
    "d = a.describe()"
   ]
  },
  {
   "cell_type": "code",
   "execution_count": 75,
   "metadata": {},
   "outputs": [
    {
     "data": {
      "text/plain": [
       "{'ioctl': 572.0,\n",
       " 'nanosleep': 11754256.0,\n",
       " 'poll': 240.0,\n",
       " 'timerfd_settime': 402.0,\n",
       " 'write': 159.0}"
      ]
     },
     "execution_count": 75,
     "metadata": {},
     "output_type": "execute_result"
    }
   ],
   "source": [
    "d[('pid','count')].to_dict()"
   ]
  },
  {
   "cell_type": "code",
   "execution_count": 45,
   "metadata": {},
   "outputs": [
    {
     "name": "stderr",
     "output_type": "stream",
     "text": [
      "11741706it [01:10, 166183.72it/s]\n"
     ]
    }
   ],
   "source": [
    "syscalls = []\n",
    "par = tqdm.tqdm()\n",
    "with open(rootPath+'disorder_6523_0_2021-09-22_14_51_13.txt', 'r') as f:\n",
    "    for line in f:\n",
    "        par.update(1)\n",
    "        sys=get_systemcall_name_with_fork(line)\n",
    "        syscalls.append(sys)\n",
    "    f.close()\n",
    "    par.close()\n",
    "\n",
    "# print('system call describe: {}'.format(dt.to_dict()))"
   ]
  },
  {
   "cell_type": "code",
   "execution_count": 46,
   "metadata": {},
   "outputs": [
    {
     "name": "stdout",
     "output_type": "stream",
     "text": [
      "==============================================\n",
      "Malware: freeze\n",
      "system call describe: {'count': 11741706, 'unique': 6, 'top': 'nanosleep', 'freq': 11740455}, mean costed time: 0.00022226212596363802\n"
     ]
    }
   ],
   "source": [
    "df = pd.DataFrame(syscalls)\n",
    "df.columns=['pid', 'timestamp', 'syscall', 'time_cost']\n",
    "# sc = set(df['syscall'])\n",
    "ds = df['syscall'].describe()\n",
    "dt = df['time_cost'].describe()\n",
    "print('==============================================')\n",
    "print('Malware: {}'.format(ma))\n",
    "print('system call describe: {}, mean costed time: {}'.format(ds.to_dict(), dt['mean']))"
   ]
  },
  {
   "cell_type": "code",
   "execution_count": 47,
   "metadata": {},
   "outputs": [
    {
     "data": {
      "text/html": [
       "<div>\n",
       "<style scoped>\n",
       "    .dataframe tbody tr th:only-of-type {\n",
       "        vertical-align: middle;\n",
       "    }\n",
       "\n",
       "    .dataframe tbody tr th {\n",
       "        vertical-align: top;\n",
       "    }\n",
       "\n",
       "    .dataframe thead tr th {\n",
       "        text-align: left;\n",
       "    }\n",
       "\n",
       "    .dataframe thead tr:last-of-type th {\n",
       "        text-align: right;\n",
       "    }\n",
       "</style>\n",
       "<table border=\"1\" class=\"dataframe\">\n",
       "  <thead>\n",
       "    <tr>\n",
       "      <th></th>\n",
       "      <th colspan=\"8\" halign=\"left\">pid</th>\n",
       "      <th colspan=\"8\" halign=\"left\">time_cost</th>\n",
       "    </tr>\n",
       "    <tr>\n",
       "      <th></th>\n",
       "      <th>count</th>\n",
       "      <th>mean</th>\n",
       "      <th>std</th>\n",
       "      <th>min</th>\n",
       "      <th>25%</th>\n",
       "      <th>50%</th>\n",
       "      <th>75%</th>\n",
       "      <th>max</th>\n",
       "      <th>count</th>\n",
       "      <th>mean</th>\n",
       "      <th>std</th>\n",
       "      <th>min</th>\n",
       "      <th>25%</th>\n",
       "      <th>50%</th>\n",
       "      <th>75%</th>\n",
       "      <th>max</th>\n",
       "    </tr>\n",
       "    <tr>\n",
       "      <th>syscall</th>\n",
       "      <th></th>\n",
       "      <th></th>\n",
       "      <th></th>\n",
       "      <th></th>\n",
       "      <th></th>\n",
       "      <th></th>\n",
       "      <th></th>\n",
       "      <th></th>\n",
       "      <th></th>\n",
       "      <th></th>\n",
       "      <th></th>\n",
       "      <th></th>\n",
       "      <th></th>\n",
       "      <th></th>\n",
       "      <th></th>\n",
       "      <th></th>\n",
       "    </tr>\n",
       "  </thead>\n",
       "  <tbody>\n",
       "    <tr>\n",
       "      <th>getpid</th>\n",
       "      <td>4.0</td>\n",
       "      <td>6532.000000</td>\n",
       "      <td>0.000000</td>\n",
       "      <td>6532.0</td>\n",
       "      <td>6532.0</td>\n",
       "      <td>6532.0</td>\n",
       "      <td>6532.0</td>\n",
       "      <td>6532.0</td>\n",
       "      <td>4.0</td>\n",
       "      <td>0.000034</td>\n",
       "      <td>0.000039</td>\n",
       "      <td>0.0</td>\n",
       "      <td>0.0</td>\n",
       "      <td>0.000034</td>\n",
       "      <td>0.000068</td>\n",
       "      <td>0.000069</td>\n",
       "    </tr>\n",
       "    <tr>\n",
       "      <th>ioctl</th>\n",
       "      <td>521.0</td>\n",
       "      <td>6526.000000</td>\n",
       "      <td>0.000000</td>\n",
       "      <td>6526.0</td>\n",
       "      <td>6526.0</td>\n",
       "      <td>6526.0</td>\n",
       "      <td>6526.0</td>\n",
       "      <td>6526.0</td>\n",
       "      <td>521.0</td>\n",
       "      <td>0.255832</td>\n",
       "      <td>1.189892</td>\n",
       "      <td>0.0</td>\n",
       "      <td>0.0</td>\n",
       "      <td>0.000066</td>\n",
       "      <td>0.000264</td>\n",
       "      <td>10.100744</td>\n",
       "    </tr>\n",
       "    <tr>\n",
       "      <th>nanosleep</th>\n",
       "      <td>11740455.0</td>\n",
       "      <td>6531.193333</td>\n",
       "      <td>0.765910</td>\n",
       "      <td>6523.0</td>\n",
       "      <td>6531.0</td>\n",
       "      <td>6531.0</td>\n",
       "      <td>6532.0</td>\n",
       "      <td>6532.0</td>\n",
       "      <td>11740455.0</td>\n",
       "      <td>0.000194</td>\n",
       "      <td>0.024387</td>\n",
       "      <td>0.0</td>\n",
       "      <td>0.0</td>\n",
       "      <td>0.000064</td>\n",
       "      <td>0.000117</td>\n",
       "      <td>28.144929</td>\n",
       "    </tr>\n",
       "    <tr>\n",
       "      <th>poll</th>\n",
       "      <td>228.0</td>\n",
       "      <td>6525.995614</td>\n",
       "      <td>0.066227</td>\n",
       "      <td>6525.0</td>\n",
       "      <td>6526.0</td>\n",
       "      <td>6526.0</td>\n",
       "      <td>6526.0</td>\n",
       "      <td>6526.0</td>\n",
       "      <td>228.0</td>\n",
       "      <td>0.467439</td>\n",
       "      <td>1.733857</td>\n",
       "      <td>0.0</td>\n",
       "      <td>0.0</td>\n",
       "      <td>0.000058</td>\n",
       "      <td>0.002343</td>\n",
       "      <td>11.919106</td>\n",
       "    </tr>\n",
       "    <tr>\n",
       "      <th>timerfd_settime</th>\n",
       "      <td>366.0</td>\n",
       "      <td>6526.000000</td>\n",
       "      <td>0.000000</td>\n",
       "      <td>6526.0</td>\n",
       "      <td>6526.0</td>\n",
       "      <td>6526.0</td>\n",
       "      <td>6526.0</td>\n",
       "      <td>6526.0</td>\n",
       "      <td>366.0</td>\n",
       "      <td>0.177814</td>\n",
       "      <td>0.962259</td>\n",
       "      <td>0.0</td>\n",
       "      <td>0.0</td>\n",
       "      <td>0.000061</td>\n",
       "      <td>0.000257</td>\n",
       "      <td>9.992403</td>\n",
       "    </tr>\n",
       "    <tr>\n",
       "      <th>write</th>\n",
       "      <td>132.0</td>\n",
       "      <td>6526.181818</td>\n",
       "      <td>1.032437</td>\n",
       "      <td>6526.0</td>\n",
       "      <td>6526.0</td>\n",
       "      <td>6526.0</td>\n",
       "      <td>6526.0</td>\n",
       "      <td>6532.0</td>\n",
       "      <td>132.0</td>\n",
       "      <td>0.217006</td>\n",
       "      <td>1.264234</td>\n",
       "      <td>0.0</td>\n",
       "      <td>0.0</td>\n",
       "      <td>0.000056</td>\n",
       "      <td>0.000244</td>\n",
       "      <td>10.571421</td>\n",
       "    </tr>\n",
       "  </tbody>\n",
       "</table>\n",
       "</div>"
      ],
      "text/plain": [
       "                        pid                                                 \\\n",
       "                      count         mean       std     min     25%     50%   \n",
       "syscall                                                                      \n",
       "getpid                  4.0  6532.000000  0.000000  6532.0  6532.0  6532.0   \n",
       "ioctl                 521.0  6526.000000  0.000000  6526.0  6526.0  6526.0   \n",
       "nanosleep        11740455.0  6531.193333  0.765910  6523.0  6531.0  6531.0   \n",
       "poll                  228.0  6525.995614  0.066227  6525.0  6526.0  6526.0   \n",
       "timerfd_settime       366.0  6526.000000  0.000000  6526.0  6526.0  6526.0   \n",
       "write                 132.0  6526.181818  1.032437  6526.0  6526.0  6526.0   \n",
       "\n",
       "                                  time_cost                                \\\n",
       "                    75%     max       count      mean       std  min  25%   \n",
       "syscall                                                                     \n",
       "getpid           6532.0  6532.0         4.0  0.000034  0.000039  0.0  0.0   \n",
       "ioctl            6526.0  6526.0       521.0  0.255832  1.189892  0.0  0.0   \n",
       "nanosleep        6532.0  6532.0  11740455.0  0.000194  0.024387  0.0  0.0   \n",
       "poll             6526.0  6526.0       228.0  0.467439  1.733857  0.0  0.0   \n",
       "timerfd_settime  6526.0  6526.0       366.0  0.177814  0.962259  0.0  0.0   \n",
       "write            6526.0  6532.0       132.0  0.217006  1.264234  0.0  0.0   \n",
       "\n",
       "                                                \n",
       "                      50%       75%        max  \n",
       "syscall                                         \n",
       "getpid           0.000034  0.000068   0.000069  \n",
       "ioctl            0.000066  0.000264  10.100744  \n",
       "nanosleep        0.000064  0.000117  28.144929  \n",
       "poll             0.000058  0.002343  11.919106  \n",
       "timerfd_settime  0.000061  0.000257   9.992403  \n",
       "write            0.000056  0.000244  10.571421  "
      ]
     },
     "execution_count": 47,
     "metadata": {},
     "output_type": "execute_result"
    }
   ],
   "source": [
    "a = df.groupby('syscall')\n",
    "a.describe()"
   ]
  },
  {
   "cell_type": "code",
   "execution_count": 1,
   "metadata": {},
   "outputs": [],
   "source": [
    "import re\n",
    "import pandas as pd\n",
    "import nltk\n",
    "from sklearn.feature_extraction.text import TfidfVectorizer, CountVectorizer, HashingVectorizer\n",
    "import os,sys\n",
    "import tqdm"
   ]
  },
  {
   "cell_type": "code",
   "execution_count": 2,
   "metadata": {},
   "outputs": [],
   "source": [
    "rootPath ='D:/git/IoT_Sensors_Security_Analysis/data/perf/'"
   ]
  },
  {
   "cell_type": "code",
   "execution_count": 57,
   "metadata": {},
   "outputs": [],
   "source": [
    "dataPath = rootPath + 'data/'"
   ]
  },
  {
   "cell_type": "code",
   "execution_count": 62,
   "metadata": {},
   "outputs": [],
   "source": [
    "datafiles = os.listdir(dataPath)\n",
    "dfs = dict()\n",
    "for fi in datafiles:\n",
    "    df = pd.read_csv(dataPath+fi)\n",
    "    dfs[dataPath+fi] = df\n",
    "    break"
   ]
  },
  {
   "cell_type": "code",
   "execution_count": 59,
   "metadata": {},
   "outputs": [],
   "source": [
    "def change_time(df):\n",
    "    index= 0\n",
    "    time = 0\n",
    "    for index,time in enumerate(df['timestamp']):\n",
    "        if time != 0:\n",
    "            break\n",
    "    for j in range(0,index):\n",
    "        df.loc[j, 'timestamp'] = time\n",
    "    return df"
   ]
  },
  {
   "cell_type": "code",
   "execution_count": 61,
   "metadata": {},
   "outputs": [
    {
     "data": {
      "text/plain": [
       "'delay_1311_0_2021-09-24_12_04_26.txt'"
      ]
     },
     "execution_count": 61,
     "metadata": {},
     "output_type": "execute_result"
    }
   ],
   "source": [
    "fi"
   ]
  },
  {
   "cell_type": "code",
   "execution_count": 65,
   "metadata": {},
   "outputs": [
    {
     "data": {
      "text/html": [
       "<div>\n",
       "<style scoped>\n",
       "    .dataframe tbody tr th:only-of-type {\n",
       "        vertical-align: middle;\n",
       "    }\n",
       "\n",
       "    .dataframe tbody tr th {\n",
       "        vertical-align: top;\n",
       "    }\n",
       "\n",
       "    .dataframe thead th {\n",
       "        text-align: right;\n",
       "    }\n",
       "</style>\n",
       "<table border=\"1\" class=\"dataframe\">\n",
       "  <thead>\n",
       "    <tr style=\"text-align: right;\">\n",
       "      <th></th>\n",
       "      <th>pid</th>\n",
       "      <th>timestamp</th>\n",
       "      <th>syscall</th>\n",
       "      <th>time_cost</th>\n",
       "    </tr>\n",
       "  </thead>\n",
       "  <tbody>\n",
       "    <tr>\n",
       "      <th>0</th>\n",
       "      <td>es_sensor/1314</td>\n",
       "      <td>93373.555</td>\n",
       "      <td>ioctl</td>\n",
       "      <td>0.000</td>\n",
       "    </tr>\n",
       "    <tr>\n",
       "      <th>1</th>\n",
       "      <td>es_sensor/1314</td>\n",
       "      <td>93373.555</td>\n",
       "      <td>timerfd_settime</td>\n",
       "      <td>0.000</td>\n",
       "    </tr>\n",
       "    <tr>\n",
       "      <th>2</th>\n",
       "      <td>es_sensor/1314</td>\n",
       "      <td>93373.555</td>\n",
       "      <td>ioctl</td>\n",
       "      <td>0.007</td>\n",
       "    </tr>\n",
       "  </tbody>\n",
       "</table>\n",
       "</div>"
      ],
      "text/plain": [
       "              pid  timestamp          syscall time_cost\n",
       "0  es_sensor/1314  93373.555            ioctl     0.000\n",
       "1  es_sensor/1314  93373.555  timerfd_settime     0.000\n",
       "2  es_sensor/1314  93373.555            ioctl     0.007"
      ]
     },
     "execution_count": 65,
     "metadata": {},
     "output_type": "execute_result"
    }
   ],
   "source": [
    "df[0:3]"
   ]
  },
  {
   "cell_type": "code",
   "execution_count": 64,
   "metadata": {},
   "outputs": [
    {
     "data": {
      "text/html": [
       "<div>\n",
       "<style scoped>\n",
       "    .dataframe tbody tr th:only-of-type {\n",
       "        vertical-align: middle;\n",
       "    }\n",
       "\n",
       "    .dataframe tbody tr th {\n",
       "        vertical-align: top;\n",
       "    }\n",
       "\n",
       "    .dataframe thead th {\n",
       "        text-align: right;\n",
       "    }\n",
       "</style>\n",
       "<table border=\"1\" class=\"dataframe\">\n",
       "  <thead>\n",
       "    <tr style=\"text-align: right;\">\n",
       "      <th></th>\n",
       "      <th>pid</th>\n",
       "      <th>timestamp</th>\n",
       "      <th>syscall</th>\n",
       "      <th>time_cost</th>\n",
       "    </tr>\n",
       "  </thead>\n",
       "  <tbody>\n",
       "    <tr>\n",
       "      <th>0</th>\n",
       "      <td>es_sensor/1314</td>\n",
       "      <td>93373.555</td>\n",
       "      <td>ioctl</td>\n",
       "      <td>0.000</td>\n",
       "    </tr>\n",
       "    <tr>\n",
       "      <th>1</th>\n",
       "      <td>es_sensor/1314</td>\n",
       "      <td>93373.555</td>\n",
       "      <td>timerfd_settime</td>\n",
       "      <td>0.000</td>\n",
       "    </tr>\n",
       "    <tr>\n",
       "      <th>2</th>\n",
       "      <td>es_sensor/1314</td>\n",
       "      <td>93373.555</td>\n",
       "      <td>ioctl</td>\n",
       "      <td>0.007</td>\n",
       "    </tr>\n",
       "    <tr>\n",
       "      <th>3</th>\n",
       "      <td>es_sensor/1314</td>\n",
       "      <td>93373.601</td>\n",
       "      <td>timerfd_settime</td>\n",
       "      <td>0.008</td>\n",
       "    </tr>\n",
       "    <tr>\n",
       "      <th>4</th>\n",
       "      <td>es_sensor/1314</td>\n",
       "      <td>93373.617</td>\n",
       "      <td>ioctl</td>\n",
       "      <td>0.042</td>\n",
       "    </tr>\n",
       "    <tr>\n",
       "      <th>...</th>\n",
       "      <td>...</td>\n",
       "      <td>...</td>\n",
       "      <td>...</td>\n",
       "      <td>...</td>\n",
       "    </tr>\n",
       "    <tr>\n",
       "      <th>1522376</th>\n",
       "      <td>es_sensor/1314</td>\n",
       "      <td>692701.415</td>\n",
       "      <td>ioctl</td>\n",
       "      <td>0.009</td>\n",
       "    </tr>\n",
       "    <tr>\n",
       "      <th>1522377</th>\n",
       "      <td>es_sensor/1314</td>\n",
       "      <td>692701.432</td>\n",
       "      <td>timerfd_settime</td>\n",
       "      <td>0.008</td>\n",
       "    </tr>\n",
       "    <tr>\n",
       "      <th>1522378</th>\n",
       "      <td>es_sensor/1314</td>\n",
       "      <td>692701.446</td>\n",
       "      <td>ioctl</td>\n",
       "      <td>0.006</td>\n",
       "    </tr>\n",
       "    <tr>\n",
       "      <th>1522379</th>\n",
       "      <td>es_sensor/1314</td>\n",
       "      <td>692701.465</td>\n",
       "      <td>timerfd_settime</td>\n",
       "      <td>0.008</td>\n",
       "    </tr>\n",
       "    <tr>\n",
       "      <th>1522380</th>\n",
       "      <td>es_sensor/1314</td>\n",
       "      <td>692701.479</td>\n",
       "      <td>ioctl</td>\n",
       "      <td>0.017</td>\n",
       "    </tr>\n",
       "  </tbody>\n",
       "</table>\n",
       "<p>1522381 rows × 4 columns</p>\n",
       "</div>"
      ],
      "text/plain": [
       "                    pid   timestamp          syscall time_cost\n",
       "0        es_sensor/1314   93373.555            ioctl     0.000\n",
       "1        es_sensor/1314   93373.555  timerfd_settime     0.000\n",
       "2        es_sensor/1314   93373.555            ioctl     0.007\n",
       "3        es_sensor/1314   93373.601  timerfd_settime     0.008\n",
       "4        es_sensor/1314   93373.617            ioctl     0.042\n",
       "...                 ...         ...              ...       ...\n",
       "1522376  es_sensor/1314  692701.415            ioctl     0.009\n",
       "1522377  es_sensor/1314  692701.432  timerfd_settime     0.008\n",
       "1522378  es_sensor/1314  692701.446            ioctl     0.006\n",
       "1522379  es_sensor/1314  692701.465  timerfd_settime     0.008\n",
       "1522380  es_sensor/1314  692701.479            ioctl     0.017\n",
       "\n",
       "[1522381 rows x 4 columns]"
      ]
     },
     "execution_count": 64,
     "metadata": {},
     "output_type": "execute_result"
    }
   ],
   "source": [
    "df[0:3]\n",
    "df = change_time(df)\n",
    "df"
   ]
  }
 ],
 "metadata": {
  "interpreter": {
   "hash": "63fd5069d213b44bf678585dea6b12cceca9941eaf7f819626cde1f2670de90d"
  },
  "kernelspec": {
   "display_name": "Python 3.9.6 64-bit",
   "name": "python3"
  },
  "language_info": {
   "codemirror_mode": {
    "name": "ipython",
    "version": 3
   },
   "file_extension": ".py",
   "mimetype": "text/x-python",
   "name": "python",
   "nbconvert_exporter": "python",
   "pygments_lexer": "ipython3",
   "version": "3.9.6"
  },
  "orig_nbformat": 4
 },
 "nbformat": 4,
 "nbformat_minor": 2
}
