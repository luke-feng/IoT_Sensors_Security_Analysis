{
 "cells": [
  {
   "cell_type": "code",
   "execution_count": 1,
   "metadata": {},
   "outputs": [],
   "source": [
    "import re\n",
    "import pandas as pd\n",
    "import nltk\n",
    "from sklearn.feature_extraction.text import TfidfVectorizer, CountVectorizer, HashingVectorizer\n",
    "import os,sys\n",
    "import tqdm\n",
    "import pickle\n",
    "import time\n",
    "from concurrent.futures import ThreadPoolExecutor  \n",
    "import concurrent.futures\n",
    "\n",
    "import numpy as np\n",
    "import pandas as pd\n",
    "from sklearn.model_selection import train_test_split\n",
    "from sklearn.neural_network import MLPClassifier\n",
    "from sklearn.neighbors import KNeighborsClassifier\n",
    "from sklearn.svm import SVC\n",
    "from sklearn.preprocessing import LabelBinarizer\n",
    "from sklearn.gaussian_process import GaussianProcessClassifier\n",
    "from sklearn.gaussian_process.kernels import RBF\n",
    "from sklearn.tree import DecisionTreeClassifier\n",
    "from sklearn.ensemble import RandomForestClassifier, AdaBoostClassifier\n",
    "from sklearn.naive_bayes import GaussianNB\n",
    "from sklearn.discriminant_analysis import QuadraticDiscriminantAnalysis\n",
    "from sklearn.covariance import EllipticEnvelope\n",
    "from sklearn.ensemble import IsolationForest\n",
    "from sklearn.neighbors import LocalOutlierFactor\n",
    "from sklearn.linear_model import SGDOneClassSVM\n",
    "from sklearn.feature_selection import SelectKBest, chi2\n",
    "from sklearn.decomposition import PCA\n",
    "from sklearn.kernel_approximation import Nystroem\n",
    "from sklearn import metrics\n",
    "from sklearn.svm import OneClassSVM\n",
    "import time"
   ]
  },
  {
   "cell_type": "code",
   "execution_count": 35,
   "metadata": {},
   "outputs": [],
   "source": [
    "features = ['system calls frequency' ,'system calls tfidf','system calls hashing', 'system calls dependency graph', 'one hot encoding', 'dict index encoding' ]\n",
    "malwares=[\"delay\", \"disorder\", \"freeze\", \"hop\", \"mimic\", \"noise\", \"repeat\", \"spoof\", \"normal\"]"
   ]
  },
  {
   "cell_type": "code",
   "execution_count": 3,
   "metadata": {},
   "outputs": [],
   "source": [
    "def reshape_matrix(matrix_list):\n",
    "    new_list = [np.array(i).reshape(-1) for i in matrix_list]\n",
    "    return new_list"
   ]
  },
  {
   "cell_type": "code",
   "execution_count": 4,
   "metadata": {},
   "outputs": [],
   "source": [
    "def padding_onehot(onehot_list, padding):\n",
    "    new_list = []\n",
    "    for onehot in onehot_list:\n",
    "        if len(onehot) > padding:\n",
    "            onehot = np.array(onehot[0:padding])\n",
    "            new_list.append(onehot)\n",
    "        else:\n",
    "            onehot =np.pad(onehot, [(0, padding-len(onehot)), (0, 0)], mode='constant', constant_values=0)\n",
    "            new_list.append(onehot)\n",
    "    new_list = reshape_matrix(new_list)\n",
    "    return new_list\n",
    "    "
   ]
  },
  {
   "cell_type": "code",
   "execution_count": 5,
   "metadata": {},
   "outputs": [],
   "source": [
    "def padding_dictencoding(dictencoding_list, padding):\n",
    "    new_list = []\n",
    "    for onehot in dictencoding_list:\n",
    "        if len(onehot) > padding:\n",
    "            onehot = np.array(onehot[0:padding])\n",
    "            new_list.append(onehot)\n",
    "        else:\n",
    "            onehot =np.pad(onehot, [(0, padding-len(onehot))], mode='constant', constant_values=0)\n",
    "            new_list.append(onehot)\n",
    "    return new_list"
   ]
  },
  {
   "cell_type": "code",
   "execution_count": 44,
   "metadata": {},
   "outputs": [],
   "source": [
    "def test_models(encoded_trace_df, malware, feature, clfs):\n",
    "    dfs = encoded_trace_df[encoded_trace_df.maltype==malware]\n",
    "    X_test = dfs[feature].tolist()\n",
    "\n",
    "    if feature =='system calls dependency graph':\n",
    "        X_test = reshape_matrix(X_test)            \n",
    "    elif feature =='one hot encoding':\n",
    "        return 0,0\n",
    "    elif feature =='dict index encoding':\n",
    "        X_test = padding_dictencoding(X_test, 10000)       \n",
    "\n",
    "    results = []\n",
    "    preds = []\n",
    "\n",
    "    if malware == \"normal\":\n",
    "        y_test = np.zeros(len(X_test))\n",
    "    else:\n",
    "        y_test = np.ones(len(X_test))\n",
    "    y_test_2 = [1 if i==0 else -1 for i in y_test]\n",
    "    print(feature)\n",
    "    if len(clfs) > 1:\n",
    "        classifiers = clfs[1]\n",
    "    else:\n",
    "        classifiers = clfs[0]\n",
    "    result = []\n",
    "    pred = dict()    \n",
    "    for name in classifiers:\n",
    "        res = dict()\n",
    "        clf = classifiers[name]\n",
    "        t1 =time.time()\n",
    "        if 'anomaly detection' in name:\n",
    "            y_pred = clf.predict(X_test)\n",
    "            t2 =time.time()\n",
    "            score = metrics.accuracy_score(y_test_2,y_pred)\n",
    "        else:\n",
    "            y_pred = clf.predict(X_test)\n",
    "            t2 =time.time()\n",
    "            score = metrics.accuracy_score(y_test,y_pred)\n",
    "        t = t2 -t1\n",
    "        pred[malware +'_' + feature + '_' + name] = y_pred\n",
    "        res['Model'] = malware +'_' + feature + '_' + name\n",
    "        res['Accuracy'] = score\n",
    "        res['Testing time'] = t\n",
    "        result.append(res)\n",
    "        print('Model: {}, accuracy score: {}, testing time is: {} seconds'.format( res['Model'], score, t))\n",
    "    results.append(result)\n",
    "    preds.append(pred)\n",
    "    return results, preds       "
   ]
  },
  {
   "cell_type": "code",
   "execution_count": 26,
   "metadata": {},
   "outputs": [],
   "source": [
    "# def test_models(encoded_trace_df, malware, feature, clfs, pca):\n",
    "#     dfs = encoded_trace_df[encoded_trace_df.maltype==malware]\n",
    "#     X_test = dfs[feature].tolist()\n",
    "#     X_tv = [] \n",
    "#     if feature =='system calls dependency graph':\n",
    "#         X_test = reshape_matrix(X_test)    \n",
    "#         X_tv=[X_test]\n",
    "#         features = [feature]\n",
    "#     elif feature =='one hot encoding':\n",
    "#         X_test_55000 = padding_onehot(X_test, 55000)\n",
    "#         X_test_pca = pca.transform(X_test_55000)\n",
    "#         X_tv = [X_test_pca]\n",
    "#         features = [feature]\n",
    "#     elif feature =='dict index encoding':\n",
    "#         X_test_55000 = padding_dictencoding(X_test, 55000)       \n",
    "#         X_test_pca = pca.transform(X_test_55000)\n",
    "#         X_test_10000 = padding_dictencoding(X_test, 10000)       \n",
    "#         X_tv = [X_test_pca, X_test_10000]\n",
    "#         features = [feature+'-pca', feature]\n",
    "#     elif feature =='system calls hashing':\n",
    "#         X_tv=[X_test]\n",
    "#         features = [feature]\n",
    "#     else:\n",
    "\n",
    "#         X_test_pca = pca.transform(X_test)\n",
    "#         X_tv = [X_test_pca, X_test]\n",
    "#         features = [feature+'-pca', feature]\n",
    "\n",
    "#     results = []\n",
    "#     preds = []\n",
    "#     if malware == \"normal\":\n",
    "#         y_test = np.zeros(len(X_test))\n",
    "#     else:\n",
    "#         y_test = np.ones(len(X_test))\n",
    "#     y_test_2 = [1 if i==0 else -1 for i in y_test]\n",
    "\n",
    "#     for i,classifiers in enumerate(clfs):\n",
    "#         feature = features[i]\n",
    "#         X_test = X_tv[i]\n",
    "#         result = []\n",
    "#         pred = dict()    \n",
    "#         for name in classifiers:\n",
    "#             res = dict()\n",
    "#             clf = classifiers[name]\n",
    "#             t1 =time.time()\n",
    "#             if 'anomaly detection' in name:\n",
    "#                 y_pred = clf.predict(X_test)\n",
    "#                 t2 =time.time()\n",
    "#                 score = metrics.accuracy_score(y_test_2,y_pred)\n",
    "#             else:\n",
    "#                 y_pred = clf.predict(X_test)\n",
    "#                 t2 =time.time()\n",
    "#                 score = metrics.accuracy_score(y_test,y_pred)\n",
    "#             t = t2 -t1\n",
    "#             pred[malware +'_' + feature + '_' + name] = y_pred\n",
    "#             res['Model'] = malware +'_' + feature + '_' + name\n",
    "#             res['Accuracy'] = score\n",
    "#             res['Testing time'] = t\n",
    "#             result.append(res)\n",
    "#             print('Model: {}, accuracy score: {}, testing time is: {} seconds'.format( res['Model'], score, t))\n",
    "#         results.append(result)\n",
    "#         preds.append(pred)\n",
    "#     return results, preds       "
   ]
  },
  {
   "cell_type": "code",
   "execution_count": 8,
   "metadata": {},
   "outputs": [],
   "source": [
    "rootPath ='D:/git/IoT_Sensors_Security_Analysis/data/perf/'"
   ]
  },
  {
   "cell_type": "code",
   "execution_count": 9,
   "metadata": {},
   "outputs": [],
   "source": [
    "import sys\n",
    "if not sys.warnoptions:\n",
    "    import warnings\n",
    "    warnings.simplefilter(\"ignore\")"
   ]
  },
  {
   "cell_type": "code",
   "execution_count": 56,
   "metadata": {},
   "outputs": [],
   "source": [
    "train_device = 'pi4_2G'\n",
    "test_device = 'pi3'\n",
    "tw = 50"
   ]
  },
  {
   "cell_type": "code",
   "execution_count": 57,
   "metadata": {},
   "outputs": [],
   "source": [
    "temppath  = rootPath + 'testset/train{}_test{}/'.format(train_device, test_device)\n",
    "encoded_trace_df=pd.read_pickle(temppath+'test_{}_encoded_bow.pkl'.format(tw))"
   ]
  },
  {
   "cell_type": "code",
   "execution_count": 58,
   "metadata": {},
   "outputs": [],
   "source": [
    "modelpath =  'D:/git/IoT_Sensors_Security_Analysis/results/{}/tw_{}_turn_1/'.format(train_device, tw)"
   ]
  },
  {
   "cell_type": "code",
   "execution_count": 59,
   "metadata": {},
   "outputs": [],
   "source": [
    "loc=open(modelpath+'classifiers.pk','rb')\n",
    "classifiers = pickle.load(loc)\n",
    "\n",
    "loc=open(modelpath+'pcas.pk','rb')\n",
    "pcas = pickle.load(loc)"
   ]
  },
  {
   "cell_type": "code",
   "execution_count": 60,
   "metadata": {},
   "outputs": [
    {
     "data": {
      "text/plain": [
       "PCA(n_components=100)"
      ]
     },
     "execution_count": 60,
     "metadata": {},
     "output_type": "execute_result"
    }
   ],
   "source": [
    "pcas"
   ]
  },
  {
   "cell_type": "code",
   "execution_count": 61,
   "metadata": {},
   "outputs": [
    {
     "name": "stdout",
     "output_type": "stream",
     "text": [
      "system calls frequency\n",
      "Model: delay_system calls frequency_Robust covariance, accuracy score: 0.0, testing time is: 0.06301403045654297 seconds\n",
      "Model: delay_system calls frequency_One-Class SVM, accuracy score: 0.0, testing time is: 0.02800607681274414 seconds\n",
      "Model: delay_system calls frequency_SGD One-Class SVM, accuracy score: 1.0, testing time is: 0.0010004043579101562 seconds\n",
      "Model: delay_system calls frequency_Isolation Forest, accuracy score: 0.0, testing time is: 0.058012962341308594 seconds\n",
      "system calls frequency\n",
      "Model: disorder_system calls frequency_Robust covariance, accuracy score: 0.0, testing time is: 0.06601476669311523 seconds\n",
      "Model: disorder_system calls frequency_One-Class SVM, accuracy score: 0.0, testing time is: 0.029006481170654297 seconds\n",
      "Model: disorder_system calls frequency_SGD One-Class SVM, accuracy score: 1.0, testing time is: 0.0010004043579101562 seconds\n",
      "Model: disorder_system calls frequency_Isolation Forest, accuracy score: 0.0, testing time is: 0.060013532638549805 seconds\n",
      "system calls frequency\n",
      "Model: freeze_system calls frequency_Robust covariance, accuracy score: 0.0, testing time is: 0.06701493263244629 seconds\n",
      "Model: freeze_system calls frequency_One-Class SVM, accuracy score: 0.0, testing time is: 0.029006481170654297 seconds\n",
      "Model: freeze_system calls frequency_SGD One-Class SVM, accuracy score: 1.0, testing time is: 0.0020008087158203125 seconds\n",
      "Model: freeze_system calls frequency_Isolation Forest, accuracy score: 0.0, testing time is: 0.0600132942199707 seconds\n",
      "system calls frequency\n",
      "Model: hop_system calls frequency_Robust covariance, accuracy score: 0.0, testing time is: 0.06701493263244629 seconds\n",
      "Model: hop_system calls frequency_One-Class SVM, accuracy score: 0.0, testing time is: 0.042009830474853516 seconds\n",
      "Model: hop_system calls frequency_SGD One-Class SVM, accuracy score: 1.0, testing time is: 0.0020003318786621094 seconds\n",
      "Model: hop_system calls frequency_Isolation Forest, accuracy score: 0.0, testing time is: 0.0870201587677002 seconds\n",
      "system calls frequency\n",
      "Model: mimic_system calls frequency_Robust covariance, accuracy score: 0.0, testing time is: 0.06751441955566406 seconds\n",
      "Model: mimic_system calls frequency_One-Class SVM, accuracy score: 0.0, testing time is: 0.029014110565185547 seconds\n",
      "Model: mimic_system calls frequency_SGD One-Class SVM, accuracy score: 1.0, testing time is: 0.0009953975677490234 seconds\n",
      "Model: mimic_system calls frequency_Isolation Forest, accuracy score: 0.0, testing time is: 0.06110215187072754 seconds\n",
      "system calls frequency\n",
      "Model: noise_system calls frequency_Robust covariance, accuracy score: 0.0, testing time is: 0.06601524353027344 seconds\n",
      "Model: noise_system calls frequency_One-Class SVM, accuracy score: 0.0, testing time is: 0.0290071964263916 seconds\n",
      "Model: noise_system calls frequency_SGD One-Class SVM, accuracy score: 1.0, testing time is: 0.0009999275207519531 seconds\n",
      "Model: noise_system calls frequency_Isolation Forest, accuracy score: 0.0, testing time is: 0.0600132942199707 seconds\n",
      "system calls frequency\n",
      "Model: repeat_system calls frequency_Robust covariance, accuracy score: 0.0, testing time is: 0.06801533699035645 seconds\n",
      "Model: repeat_system calls frequency_One-Class SVM, accuracy score: 0.0, testing time is: 0.0290071964263916 seconds\n",
      "Model: repeat_system calls frequency_SGD One-Class SVM, accuracy score: 1.0, testing time is: 0.0010001659393310547 seconds\n",
      "Model: repeat_system calls frequency_Isolation Forest, accuracy score: 0.0, testing time is: 0.062013864517211914 seconds\n",
      "system calls frequency\n",
      "Model: spoof_system calls frequency_Robust covariance, accuracy score: 0.0, testing time is: 0.06701517105102539 seconds\n",
      "Model: spoof_system calls frequency_One-Class SVM, accuracy score: 0.0, testing time is: 0.029006242752075195 seconds\n",
      "Model: spoof_system calls frequency_SGD One-Class SVM, accuracy score: 1.0, testing time is: 0.0020003318786621094 seconds\n",
      "Model: spoof_system calls frequency_Isolation Forest, accuracy score: 0.0, testing time is: 0.06101417541503906 seconds\n",
      "system calls frequency\n",
      "Model: normal_system calls frequency_Robust covariance, accuracy score: 0.0, testing time is: 0.06801509857177734 seconds\n",
      "Model: normal_system calls frequency_One-Class SVM, accuracy score: 0.0, testing time is: 0.029006242752075195 seconds\n",
      "Model: normal_system calls frequency_SGD One-Class SVM, accuracy score: 0.0, testing time is: 0.0010004043579101562 seconds\n",
      "Model: normal_system calls frequency_Isolation Forest, accuracy score: 0.0, testing time is: 0.06101417541503906 seconds\n",
      "system calls tfidf\n",
      "Model: delay_system calls tfidf_Robust covariance, accuracy score: 0.0, testing time is: 0.06208467483520508 seconds\n",
      "Model: delay_system calls tfidf_One-Class SVM, accuracy score: 0.0, testing time is: 0.00400090217590332 seconds\n",
      "Model: delay_system calls tfidf_SGD One-Class SVM, accuracy score: 0.0, testing time is: 0.0010001659393310547 seconds\n",
      "Model: delay_system calls tfidf_Isolation Forest, accuracy score: 0.0, testing time is: 0.058013200759887695 seconds\n",
      "system calls tfidf\n",
      "Model: disorder_system calls tfidf_Robust covariance, accuracy score: 0.0, testing time is: 0.06801486015319824 seconds\n",
      "Model: disorder_system calls tfidf_One-Class SVM, accuracy score: 0.0, testing time is: 0.0050013065338134766 seconds\n",
      "Model: disorder_system calls tfidf_SGD One-Class SVM, accuracy score: 0.0, testing time is: 0.0010004043579101562 seconds\n",
      "Model: disorder_system calls tfidf_Isolation Forest, accuracy score: 0.0, testing time is: 0.06101369857788086 seconds\n",
      "system calls tfidf\n",
      "Model: freeze_system calls tfidf_Robust covariance, accuracy score: 0.0, testing time is: 0.0690150260925293 seconds\n",
      "Model: freeze_system calls tfidf_One-Class SVM, accuracy score: 0.0, testing time is: 0.0050008296966552734 seconds\n",
      "Model: freeze_system calls tfidf_SGD One-Class SVM, accuracy score: 0.0, testing time is: 0.0010006427764892578 seconds\n",
      "Model: freeze_system calls tfidf_Isolation Forest, accuracy score: 0.0, testing time is: 0.06101393699645996 seconds\n",
      "system calls tfidf\n",
      "Model: hop_system calls tfidf_Robust covariance, accuracy score: 0.0, testing time is: 0.06701493263244629 seconds\n",
      "Model: hop_system calls tfidf_One-Class SVM, accuracy score: 0.0, testing time is: 0.005000591278076172 seconds\n",
      "Model: hop_system calls tfidf_SGD One-Class SVM, accuracy score: 0.0, testing time is: 0.0010008811950683594 seconds\n",
      "Model: hop_system calls tfidf_Isolation Forest, accuracy score: 0.0, testing time is: 0.06201314926147461 seconds\n",
      "system calls tfidf\n",
      "Model: mimic_system calls tfidf_Robust covariance, accuracy score: 0.0, testing time is: 0.06701469421386719 seconds\n",
      "Model: mimic_system calls tfidf_One-Class SVM, accuracy score: 0.0, testing time is: 0.0040013790130615234 seconds\n",
      "Model: mimic_system calls tfidf_SGD One-Class SVM, accuracy score: 0.0, testing time is: 0.0 seconds\n",
      "Model: mimic_system calls tfidf_Isolation Forest, accuracy score: 0.0, testing time is: 0.06101393699645996 seconds\n",
      "system calls tfidf\n",
      "Model: noise_system calls tfidf_Robust covariance, accuracy score: 0.0, testing time is: 0.06801509857177734 seconds\n",
      "Model: noise_system calls tfidf_One-Class SVM, accuracy score: 0.0, testing time is: 0.005000591278076172 seconds\n",
      "Model: noise_system calls tfidf_SGD One-Class SVM, accuracy score: 0.0, testing time is: 0.0010006427764892578 seconds\n",
      "Model: noise_system calls tfidf_Isolation Forest, accuracy score: 0.0, testing time is: 0.06101346015930176 seconds\n",
      "system calls tfidf\n",
      "Model: repeat_system calls tfidf_Robust covariance, accuracy score: 0.0, testing time is: 0.06701445579528809 seconds\n",
      "Model: repeat_system calls tfidf_One-Class SVM, accuracy score: 0.0, testing time is: 0.0050013065338134766 seconds\n",
      "Model: repeat_system calls tfidf_SGD One-Class SVM, accuracy score: 0.0, testing time is: 0.0010008811950683594 seconds\n",
      "Model: repeat_system calls tfidf_Isolation Forest, accuracy score: 0.0, testing time is: 0.062014102935791016 seconds\n",
      "system calls tfidf\n",
      "Model: spoof_system calls tfidf_Robust covariance, accuracy score: 0.0, testing time is: 0.06701421737670898 seconds\n",
      "Model: spoof_system calls tfidf_One-Class SVM, accuracy score: 0.0, testing time is: 0.005001544952392578 seconds\n",
      "Model: spoof_system calls tfidf_SGD One-Class SVM, accuracy score: 0.0, testing time is: 0.0010004043579101562 seconds\n",
      "Model: spoof_system calls tfidf_Isolation Forest, accuracy score: 0.0, testing time is: 0.06401443481445312 seconds\n",
      "system calls tfidf\n",
      "Model: normal_system calls tfidf_Robust covariance, accuracy score: 0.0, testing time is: 0.08201861381530762 seconds\n",
      "Model: normal_system calls tfidf_One-Class SVM, accuracy score: 0.0, testing time is: 0.004000186920166016 seconds\n",
      "Model: normal_system calls tfidf_SGD One-Class SVM, accuracy score: 0.0, testing time is: 0.0009992122650146484 seconds\n",
      "Model: normal_system calls tfidf_Isolation Forest, accuracy score: 0.0, testing time is: 0.07201600074768066 seconds\n",
      "system calls hashing\n",
      "Model: delay_system calls hashing_Robust covariance, accuracy score: 0.0, testing time is: 0.0 seconds\n",
      "Model: delay_system calls hashing_One-Class SVM, accuracy score: 0.0, testing time is: 0.0020008087158203125 seconds\n",
      "Model: delay_system calls hashing_SGD One-Class SVM, accuracy score: 0.0, testing time is: 0.0 seconds\n",
      "Model: delay_system calls hashing_Isolation Forest, accuracy score: 0.0, testing time is: 0.025005102157592773 seconds\n",
      "system calls hashing\n",
      "Model: disorder_system calls hashing_Robust covariance, accuracy score: 0.0, testing time is: 0.0 seconds\n",
      "Model: disorder_system calls hashing_One-Class SVM, accuracy score: 0.0, testing time is: 0.0010001659393310547 seconds\n",
      "Model: disorder_system calls hashing_SGD One-Class SVM, accuracy score: 0.0, testing time is: 0.0009989738464355469 seconds\n",
      "Model: disorder_system calls hashing_Isolation Forest, accuracy score: 0.0, testing time is: 0.026005983352661133 seconds\n",
      "system calls hashing\n",
      "Model: freeze_system calls hashing_Robust covariance, accuracy score: 0.0, testing time is: 0.0010004043579101562 seconds\n",
      "Model: freeze_system calls hashing_One-Class SVM, accuracy score: 0.0, testing time is: 0.002000093460083008 seconds\n",
      "Model: freeze_system calls hashing_SGD One-Class SVM, accuracy score: 0.0, testing time is: 0.0 seconds\n",
      "Model: freeze_system calls hashing_Isolation Forest, accuracy score: 0.0, testing time is: 0.026005983352661133 seconds\n",
      "system calls hashing\n",
      "Model: hop_system calls hashing_Robust covariance, accuracy score: 0.0, testing time is: 0.0009999275207519531 seconds\n",
      "Model: hop_system calls hashing_One-Class SVM, accuracy score: 0.0, testing time is: 0.0020008087158203125 seconds\n",
      "Model: hop_system calls hashing_SGD One-Class SVM, accuracy score: 0.0, testing time is: 0.0 seconds\n",
      "Model: hop_system calls hashing_Isolation Forest, accuracy score: 0.0, testing time is: 0.025005340576171875 seconds\n",
      "system calls hashing\n",
      "Model: mimic_system calls hashing_Robust covariance, accuracy score: 0.0, testing time is: 0.0010004043579101562 seconds\n",
      "Model: mimic_system calls hashing_One-Class SVM, accuracy score: 0.0, testing time is: 0.002000093460083008 seconds\n",
      "Model: mimic_system calls hashing_SGD One-Class SVM, accuracy score: 0.0, testing time is: 0.0 seconds\n",
      "Model: mimic_system calls hashing_Isolation Forest, accuracy score: 0.0, testing time is: 0.026005983352661133 seconds\n",
      "system calls hashing\n",
      "Model: noise_system calls hashing_Robust covariance, accuracy score: 0.0, testing time is: 0.0009999275207519531 seconds\n",
      "Model: noise_system calls hashing_One-Class SVM, accuracy score: 0.0, testing time is: 0.0009999275207519531 seconds\n",
      "Model: noise_system calls hashing_SGD One-Class SVM, accuracy score: 0.0, testing time is: 0.0 seconds\n",
      "Model: noise_system calls hashing_Isolation Forest, accuracy score: 0.0, testing time is: 0.026006221771240234 seconds\n",
      "system calls hashing\n",
      "Model: repeat_system calls hashing_Robust covariance, accuracy score: 0.0, testing time is: 0.0009999275207519531 seconds\n",
      "Model: repeat_system calls hashing_One-Class SVM, accuracy score: 0.0, testing time is: 0.0009999275207519531 seconds\n",
      "Model: repeat_system calls hashing_SGD One-Class SVM, accuracy score: 0.0, testing time is: 0.0010001659393310547 seconds\n",
      "Model: repeat_system calls hashing_Isolation Forest, accuracy score: 0.0, testing time is: 0.025005817413330078 seconds\n",
      "system calls hashing\n",
      "Model: spoof_system calls hashing_Robust covariance, accuracy score: 0.0, testing time is: 0.0010006427764892578 seconds\n",
      "Model: spoof_system calls hashing_One-Class SVM, accuracy score: 0.0, testing time is: 0.0010001659393310547 seconds\n",
      "Model: spoof_system calls hashing_SGD One-Class SVM, accuracy score: 0.0, testing time is: 0.0009996891021728516 seconds\n",
      "Model: spoof_system calls hashing_Isolation Forest, accuracy score: 0.0, testing time is: 0.026005983352661133 seconds\n",
      "system calls hashing\n",
      "Model: normal_system calls hashing_Robust covariance, accuracy score: 0.0, testing time is: 0.0010006427764892578 seconds\n",
      "Model: normal_system calls hashing_One-Class SVM, accuracy score: 0.0, testing time is: 0.002000093460083008 seconds\n",
      "Model: normal_system calls hashing_SGD One-Class SVM, accuracy score: 0.0, testing time is: 0.0 seconds\n",
      "Model: normal_system calls hashing_Isolation Forest, accuracy score: 0.0, testing time is: 0.026005983352661133 seconds\n",
      "system calls dependency graph\n"
     ]
    },
    {
     "ename": "ValueError",
     "evalue": "Input contains NaN, infinity or a value too large for dtype('float64').",
     "output_type": "error",
     "traceback": [
      "\u001b[1;31m---------------------------------------------------------------------------\u001b[0m",
      "\u001b[1;31mValueError\u001b[0m                                Traceback (most recent call last)",
      "\u001b[1;32m~\\AppData\\Local\\Temp/ipykernel_9372/2056662935.py\u001b[0m in \u001b[0;36m<module>\u001b[1;34m\u001b[0m\n\u001b[0;32m      6\u001b[0m     \u001b[1;31m# testing stage\u001b[0m\u001b[1;33m\u001b[0m\u001b[1;33m\u001b[0m\u001b[1;33m\u001b[0m\u001b[0m\n\u001b[0;32m      7\u001b[0m     \u001b[1;32mfor\u001b[0m \u001b[0mmalware\u001b[0m \u001b[1;32min\u001b[0m \u001b[0mmalwares\u001b[0m\u001b[1;33m:\u001b[0m\u001b[1;33m\u001b[0m\u001b[1;33m\u001b[0m\u001b[0m\n\u001b[1;32m----> 8\u001b[1;33m         \u001b[0mresults\u001b[0m\u001b[1;33m,\u001b[0m \u001b[0mpreds\u001b[0m \u001b[1;33m=\u001b[0m \u001b[0mtest_models\u001b[0m\u001b[1;33m(\u001b[0m\u001b[0mencoded_trace_df\u001b[0m\u001b[1;33m,\u001b[0m \u001b[0mmalware\u001b[0m\u001b[1;33m,\u001b[0m \u001b[0mfeature\u001b[0m\u001b[1;33m,\u001b[0m \u001b[0mclfs\u001b[0m\u001b[1;33m)\u001b[0m\u001b[1;33m\u001b[0m\u001b[1;33m\u001b[0m\u001b[0m\n\u001b[0m\u001b[0;32m      9\u001b[0m         \u001b[0mresultsdict\u001b[0m\u001b[1;33m[\u001b[0m\u001b[0mmalware\u001b[0m \u001b[1;33m+\u001b[0m\u001b[1;34m'_'\u001b[0m \u001b[1;33m+\u001b[0m \u001b[0mfeature\u001b[0m\u001b[1;33m]\u001b[0m \u001b[1;33m=\u001b[0m \u001b[0mresults\u001b[0m\u001b[1;33m\u001b[0m\u001b[1;33m\u001b[0m\u001b[0m\n\u001b[0;32m     10\u001b[0m         \u001b[0mpredsdict\u001b[0m\u001b[1;33m[\u001b[0m\u001b[0mmalware\u001b[0m \u001b[1;33m+\u001b[0m\u001b[1;34m'_'\u001b[0m \u001b[1;33m+\u001b[0m \u001b[0mfeature\u001b[0m\u001b[1;33m]\u001b[0m \u001b[1;33m=\u001b[0m \u001b[0mpreds\u001b[0m\u001b[1;33m\u001b[0m\u001b[1;33m\u001b[0m\u001b[0m\n",
      "\u001b[1;32m~\\AppData\\Local\\Temp/ipykernel_9372/341589299.py\u001b[0m in \u001b[0;36mtest_models\u001b[1;34m(encoded_trace_df, malware, feature, clfs)\u001b[0m\n\u001b[0;32m     34\u001b[0m             \u001b[0mscore\u001b[0m \u001b[1;33m=\u001b[0m \u001b[0mmetrics\u001b[0m\u001b[1;33m.\u001b[0m\u001b[0maccuracy_score\u001b[0m\u001b[1;33m(\u001b[0m\u001b[0my_test_2\u001b[0m\u001b[1;33m,\u001b[0m\u001b[0my_pred\u001b[0m\u001b[1;33m)\u001b[0m\u001b[1;33m\u001b[0m\u001b[1;33m\u001b[0m\u001b[0m\n\u001b[0;32m     35\u001b[0m         \u001b[1;32melse\u001b[0m\u001b[1;33m:\u001b[0m\u001b[1;33m\u001b[0m\u001b[1;33m\u001b[0m\u001b[0m\n\u001b[1;32m---> 36\u001b[1;33m             \u001b[0my_pred\u001b[0m \u001b[1;33m=\u001b[0m \u001b[0mclf\u001b[0m\u001b[1;33m.\u001b[0m\u001b[0mpredict\u001b[0m\u001b[1;33m(\u001b[0m\u001b[0mX_test\u001b[0m\u001b[1;33m)\u001b[0m\u001b[1;33m\u001b[0m\u001b[1;33m\u001b[0m\u001b[0m\n\u001b[0m\u001b[0;32m     37\u001b[0m             \u001b[0mt2\u001b[0m \u001b[1;33m=\u001b[0m\u001b[0mtime\u001b[0m\u001b[1;33m.\u001b[0m\u001b[0mtime\u001b[0m\u001b[1;33m(\u001b[0m\u001b[1;33m)\u001b[0m\u001b[1;33m\u001b[0m\u001b[1;33m\u001b[0m\u001b[0m\n\u001b[0;32m     38\u001b[0m             \u001b[0mscore\u001b[0m \u001b[1;33m=\u001b[0m \u001b[0mmetrics\u001b[0m\u001b[1;33m.\u001b[0m\u001b[0maccuracy_score\u001b[0m\u001b[1;33m(\u001b[0m\u001b[0my_test\u001b[0m\u001b[1;33m,\u001b[0m\u001b[0my_pred\u001b[0m\u001b[1;33m)\u001b[0m\u001b[1;33m\u001b[0m\u001b[1;33m\u001b[0m\u001b[0m\n",
      "\u001b[1;32m~\\AppData\\Roaming\\Python\\Python39\\site-packages\\sklearn\\covariance\\_elliptic_envelope.py\u001b[0m in \u001b[0;36mpredict\u001b[1;34m(self, X)\u001b[0m\n\u001b[0;32m    233\u001b[0m             \u001b[0mReturns\u001b[0m \u001b[1;33m-\u001b[0m\u001b[1;36m1\u001b[0m \u001b[1;32mfor\u001b[0m \u001b[0manomalies\u001b[0m\u001b[1;33m/\u001b[0m\u001b[0moutliers\u001b[0m \u001b[1;32mand\u001b[0m \u001b[1;33m+\u001b[0m\u001b[1;36m1\u001b[0m \u001b[1;32mfor\u001b[0m \u001b[0minliers\u001b[0m\u001b[1;33m.\u001b[0m\u001b[1;33m\u001b[0m\u001b[1;33m\u001b[0m\u001b[0m\n\u001b[0;32m    234\u001b[0m         \"\"\"\n\u001b[1;32m--> 235\u001b[1;33m         \u001b[0mvalues\u001b[0m \u001b[1;33m=\u001b[0m \u001b[0mself\u001b[0m\u001b[1;33m.\u001b[0m\u001b[0mdecision_function\u001b[0m\u001b[1;33m(\u001b[0m\u001b[0mX\u001b[0m\u001b[1;33m)\u001b[0m\u001b[1;33m\u001b[0m\u001b[1;33m\u001b[0m\u001b[0m\n\u001b[0m\u001b[0;32m    236\u001b[0m         \u001b[0mis_inlier\u001b[0m \u001b[1;33m=\u001b[0m \u001b[0mnp\u001b[0m\u001b[1;33m.\u001b[0m\u001b[0mfull\u001b[0m\u001b[1;33m(\u001b[0m\u001b[0mvalues\u001b[0m\u001b[1;33m.\u001b[0m\u001b[0mshape\u001b[0m\u001b[1;33m[\u001b[0m\u001b[1;36m0\u001b[0m\u001b[1;33m]\u001b[0m\u001b[1;33m,\u001b[0m \u001b[1;33m-\u001b[0m\u001b[1;36m1\u001b[0m\u001b[1;33m,\u001b[0m \u001b[0mdtype\u001b[0m\u001b[1;33m=\u001b[0m\u001b[0mint\u001b[0m\u001b[1;33m)\u001b[0m\u001b[1;33m\u001b[0m\u001b[1;33m\u001b[0m\u001b[0m\n\u001b[0;32m    237\u001b[0m         \u001b[0mis_inlier\u001b[0m\u001b[1;33m[\u001b[0m\u001b[0mvalues\u001b[0m \u001b[1;33m>=\u001b[0m \u001b[1;36m0\u001b[0m\u001b[1;33m]\u001b[0m \u001b[1;33m=\u001b[0m \u001b[1;36m1\u001b[0m\u001b[1;33m\u001b[0m\u001b[1;33m\u001b[0m\u001b[0m\n",
      "\u001b[1;32m~\\AppData\\Roaming\\Python\\Python39\\site-packages\\sklearn\\covariance\\_elliptic_envelope.py\u001b[0m in \u001b[0;36mdecision_function\u001b[1;34m(self, X)\u001b[0m\n\u001b[0;32m    199\u001b[0m         \"\"\"\n\u001b[0;32m    200\u001b[0m         \u001b[0mcheck_is_fitted\u001b[0m\u001b[1;33m(\u001b[0m\u001b[0mself\u001b[0m\u001b[1;33m)\u001b[0m\u001b[1;33m\u001b[0m\u001b[1;33m\u001b[0m\u001b[0m\n\u001b[1;32m--> 201\u001b[1;33m         \u001b[0mnegative_mahal_dist\u001b[0m \u001b[1;33m=\u001b[0m \u001b[0mself\u001b[0m\u001b[1;33m.\u001b[0m\u001b[0mscore_samples\u001b[0m\u001b[1;33m(\u001b[0m\u001b[0mX\u001b[0m\u001b[1;33m)\u001b[0m\u001b[1;33m\u001b[0m\u001b[1;33m\u001b[0m\u001b[0m\n\u001b[0m\u001b[0;32m    202\u001b[0m         \u001b[1;32mreturn\u001b[0m \u001b[0mnegative_mahal_dist\u001b[0m \u001b[1;33m-\u001b[0m \u001b[0mself\u001b[0m\u001b[1;33m.\u001b[0m\u001b[0moffset_\u001b[0m\u001b[1;33m\u001b[0m\u001b[1;33m\u001b[0m\u001b[0m\n\u001b[0;32m    203\u001b[0m \u001b[1;33m\u001b[0m\u001b[0m\n",
      "\u001b[1;32m~\\AppData\\Roaming\\Python\\Python39\\site-packages\\sklearn\\covariance\\_elliptic_envelope.py\u001b[0m in \u001b[0;36mscore_samples\u001b[1;34m(self, X)\u001b[0m\n\u001b[0;32m    216\u001b[0m         \"\"\"\n\u001b[0;32m    217\u001b[0m         \u001b[0mcheck_is_fitted\u001b[0m\u001b[1;33m(\u001b[0m\u001b[0mself\u001b[0m\u001b[1;33m)\u001b[0m\u001b[1;33m\u001b[0m\u001b[1;33m\u001b[0m\u001b[0m\n\u001b[1;32m--> 218\u001b[1;33m         \u001b[0mX\u001b[0m \u001b[1;33m=\u001b[0m \u001b[0mself\u001b[0m\u001b[1;33m.\u001b[0m\u001b[0m_validate_data\u001b[0m\u001b[1;33m(\u001b[0m\u001b[0mX\u001b[0m\u001b[1;33m,\u001b[0m \u001b[0mreset\u001b[0m\u001b[1;33m=\u001b[0m\u001b[1;32mFalse\u001b[0m\u001b[1;33m)\u001b[0m\u001b[1;33m\u001b[0m\u001b[1;33m\u001b[0m\u001b[0m\n\u001b[0m\u001b[0;32m    219\u001b[0m         \u001b[1;32mreturn\u001b[0m \u001b[1;33m-\u001b[0m\u001b[0mself\u001b[0m\u001b[1;33m.\u001b[0m\u001b[0mmahalanobis\u001b[0m\u001b[1;33m(\u001b[0m\u001b[0mX\u001b[0m\u001b[1;33m)\u001b[0m\u001b[1;33m\u001b[0m\u001b[1;33m\u001b[0m\u001b[0m\n\u001b[0;32m    220\u001b[0m \u001b[1;33m\u001b[0m\u001b[0m\n",
      "\u001b[1;32m~\\AppData\\Roaming\\Python\\Python39\\site-packages\\sklearn\\base.py\u001b[0m in \u001b[0;36m_validate_data\u001b[1;34m(self, X, y, reset, validate_separately, **check_params)\u001b[0m\n\u001b[0;32m    555\u001b[0m             \u001b[1;32mraise\u001b[0m \u001b[0mValueError\u001b[0m\u001b[1;33m(\u001b[0m\u001b[1;34m\"Validation should be done on X, y or both.\"\u001b[0m\u001b[1;33m)\u001b[0m\u001b[1;33m\u001b[0m\u001b[1;33m\u001b[0m\u001b[0m\n\u001b[0;32m    556\u001b[0m         \u001b[1;32melif\u001b[0m \u001b[1;32mnot\u001b[0m \u001b[0mno_val_X\u001b[0m \u001b[1;32mand\u001b[0m \u001b[0mno_val_y\u001b[0m\u001b[1;33m:\u001b[0m\u001b[1;33m\u001b[0m\u001b[1;33m\u001b[0m\u001b[0m\n\u001b[1;32m--> 557\u001b[1;33m             \u001b[0mX\u001b[0m \u001b[1;33m=\u001b[0m \u001b[0mcheck_array\u001b[0m\u001b[1;33m(\u001b[0m\u001b[0mX\u001b[0m\u001b[1;33m,\u001b[0m \u001b[1;33m**\u001b[0m\u001b[0mcheck_params\u001b[0m\u001b[1;33m)\u001b[0m\u001b[1;33m\u001b[0m\u001b[1;33m\u001b[0m\u001b[0m\n\u001b[0m\u001b[0;32m    558\u001b[0m             \u001b[0mout\u001b[0m \u001b[1;33m=\u001b[0m \u001b[0mX\u001b[0m\u001b[1;33m\u001b[0m\u001b[1;33m\u001b[0m\u001b[0m\n\u001b[0;32m    559\u001b[0m         \u001b[1;32melif\u001b[0m \u001b[0mno_val_X\u001b[0m \u001b[1;32mand\u001b[0m \u001b[1;32mnot\u001b[0m \u001b[0mno_val_y\u001b[0m\u001b[1;33m:\u001b[0m\u001b[1;33m\u001b[0m\u001b[1;33m\u001b[0m\u001b[0m\n",
      "\u001b[1;32m~\\AppData\\Roaming\\Python\\Python39\\site-packages\\sklearn\\utils\\validation.py\u001b[0m in \u001b[0;36mcheck_array\u001b[1;34m(array, accept_sparse, accept_large_sparse, dtype, order, copy, force_all_finite, ensure_2d, allow_nd, ensure_min_samples, ensure_min_features, estimator)\u001b[0m\n\u001b[0;32m    790\u001b[0m \u001b[1;33m\u001b[0m\u001b[0m\n\u001b[0;32m    791\u001b[0m         \u001b[1;32mif\u001b[0m \u001b[0mforce_all_finite\u001b[0m\u001b[1;33m:\u001b[0m\u001b[1;33m\u001b[0m\u001b[1;33m\u001b[0m\u001b[0m\n\u001b[1;32m--> 792\u001b[1;33m             \u001b[0m_assert_all_finite\u001b[0m\u001b[1;33m(\u001b[0m\u001b[0marray\u001b[0m\u001b[1;33m,\u001b[0m \u001b[0mallow_nan\u001b[0m\u001b[1;33m=\u001b[0m\u001b[0mforce_all_finite\u001b[0m \u001b[1;33m==\u001b[0m \u001b[1;34m\"allow-nan\"\u001b[0m\u001b[1;33m)\u001b[0m\u001b[1;33m\u001b[0m\u001b[1;33m\u001b[0m\u001b[0m\n\u001b[0m\u001b[0;32m    793\u001b[0m \u001b[1;33m\u001b[0m\u001b[0m\n\u001b[0;32m    794\u001b[0m     \u001b[1;32mif\u001b[0m \u001b[0mensure_min_samples\u001b[0m \u001b[1;33m>\u001b[0m \u001b[1;36m0\u001b[0m\u001b[1;33m:\u001b[0m\u001b[1;33m\u001b[0m\u001b[1;33m\u001b[0m\u001b[0m\n",
      "\u001b[1;32m~\\AppData\\Roaming\\Python\\Python39\\site-packages\\sklearn\\utils\\validation.py\u001b[0m in \u001b[0;36m_assert_all_finite\u001b[1;34m(X, allow_nan, msg_dtype)\u001b[0m\n\u001b[0;32m    112\u001b[0m         ):\n\u001b[0;32m    113\u001b[0m             \u001b[0mtype_err\u001b[0m \u001b[1;33m=\u001b[0m \u001b[1;34m\"infinity\"\u001b[0m \u001b[1;32mif\u001b[0m \u001b[0mallow_nan\u001b[0m \u001b[1;32melse\u001b[0m \u001b[1;34m\"NaN, infinity\"\u001b[0m\u001b[1;33m\u001b[0m\u001b[1;33m\u001b[0m\u001b[0m\n\u001b[1;32m--> 114\u001b[1;33m             raise ValueError(\n\u001b[0m\u001b[0;32m    115\u001b[0m                 msg_err.format(\n\u001b[0;32m    116\u001b[0m                     \u001b[0mtype_err\u001b[0m\u001b[1;33m,\u001b[0m \u001b[0mmsg_dtype\u001b[0m \u001b[1;32mif\u001b[0m \u001b[0mmsg_dtype\u001b[0m \u001b[1;32mis\u001b[0m \u001b[1;32mnot\u001b[0m \u001b[1;32mNone\u001b[0m \u001b[1;32melse\u001b[0m \u001b[0mX\u001b[0m\u001b[1;33m.\u001b[0m\u001b[0mdtype\u001b[0m\u001b[1;33m\u001b[0m\u001b[1;33m\u001b[0m\u001b[0m\n",
      "\u001b[1;31mValueError\u001b[0m: Input contains NaN, infinity or a value too large for dtype('float64')."
     ]
    }
   ],
   "source": [
    "resultsdict = dict()\n",
    "predsdict = dict()\n",
    "for feature in features:\n",
    "    \n",
    "    clfs = classifiers[feature] \n",
    "    # testing stage\n",
    "    for malware in malwares:\n",
    "        results, preds = test_models(encoded_trace_df, malware, feature, clfs)\n",
    "        resultsdict[malware +'_' + feature] = results\n",
    "        predsdict[malware +'_' + feature] = preds"
   ]
  },
  {
   "cell_type": "code",
   "execution_count": null,
   "metadata": {},
   "outputs": [
    {
     "data": {
      "text/plain": [
       "0"
      ]
     },
     "execution_count": 51,
     "metadata": {},
     "output_type": "execute_result"
    }
   ],
   "source": [
    "resultsdict['hop_one hot encoding']"
   ]
  },
  {
   "cell_type": "code",
   "execution_count": null,
   "metadata": {},
   "outputs": [],
   "source": [
    "rd = []\n",
    "for rs in resultsdict:\n",
    "    if 'one hot' in rs:\n",
    "        continue\n",
    "    for r in resultsdict[rs]:\n",
    "        for s in r:\n",
    "            rd.append(s)\n"
   ]
  },
  {
   "cell_type": "code",
   "execution_count": null,
   "metadata": {},
   "outputs": [],
   "source": [
    "rd = pd.DataFrame(rd)\n",
    "md = [i.split('_') for i in rd['Model']]\n",
    "md = pd.DataFrame(md)\n",
    "md.columns  = ['Dataset','Features','Model']\n",
    "nrd=pd.DataFrame([md['Dataset'],md['Features'],md['Model'], rd['Accuracy']]).transpose()"
   ]
  },
  {
   "cell_type": "code",
   "execution_count": null,
   "metadata": {},
   "outputs": [],
   "source": [
    "nrd.to_csv(temppath+'results.csv',index=None)"
   ]
  }
 ],
 "metadata": {
  "interpreter": {
   "hash": "63fd5069d213b44bf678585dea6b12cceca9941eaf7f819626cde1f2670de90d"
  },
  "kernelspec": {
   "display_name": "Python 3.9.6 64-bit",
   "name": "python3"
  },
  "language_info": {
   "codemirror_mode": {
    "name": "ipython",
    "version": 3
   },
   "file_extension": ".py",
   "mimetype": "text/x-python",
   "name": "python",
   "nbconvert_exporter": "python",
   "pygments_lexer": "ipython3",
   "version": "3.9.6"
  },
  "orig_nbformat": 4
 },
 "nbformat": 4,
 "nbformat_minor": 2
}
