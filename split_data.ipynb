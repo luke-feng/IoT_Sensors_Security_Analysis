{
 "cells": [
  {
   "cell_type": "code",
   "execution_count": 1,
   "metadata": {},
   "outputs": [],
   "source": [
    "import re\n",
    "import pandas as pd\n",
    "import nltk\n",
    "from sklearn.feature_extraction.text import TfidfVectorizer, CountVectorizer, HashingVectorizer\n",
    "import os,sys\n",
    "import tqdm\n",
    "import pickle\n",
    "import time\n",
    "from concurrent.futures import ThreadPoolExecutor  \n",
    "import concurrent.futures"
   ]
  },
  {
   "cell_type": "code",
   "execution_count": 2,
   "metadata": {},
   "outputs": [],
   "source": [
    "def get_systemcall_name_perf(line):\n",
    "    l = re.split(r' |\\( |\\)', line)\n",
    "    l = list(filter(lambda a: a != '', l))\n",
    "    # print(l)\n",
    "    if len(l) < 6:\n",
    "        return None\n",
    "    timestamp = l[0]\n",
    "    time_cost = l[1]\n",
    "    pid = l[4]\n",
    "    if l[5] == '...':\n",
    "        if timestamp == '0.000':\n",
    "            return None\n",
    "        else:\n",
    "            syscall = l[7].split('(')[0]\n",
    "    else:\n",
    "        syscall = l[5].split('(')[0]\n",
    "    # print(timestamp,time_cost, pid,  syscall)\n",
    "    return [pid, timestamp, syscall, time_cost]"
   ]
  },
  {
   "cell_type": "code",
   "execution_count": 3,
   "metadata": {},
   "outputs": [],
   "source": [
    "def change_time(df):\n",
    "    index= 0\n",
    "    time = 0\n",
    "    for index,time in enumerate(df['timestamp']):\n",
    "        if time != 0:\n",
    "            break\n",
    "    for j in range(0,index):\n",
    "        df.loc[j, 'timestamp'] = time\n",
    "    return df"
   ]
  },
  {
   "cell_type": "code",
   "execution_count": 4,
   "metadata": {},
   "outputs": [],
   "source": [
    "def split_data_by_time(savePath, malware_type, pid, rounds,df,time_window):\n",
    "    start = 0\n",
    "    end = 0\n",
    "    ti =  df['timestamp'].tolist()\n",
    "    start_time = ti[0]\n",
    "    end_time = 0\n",
    "    index = 0\n",
    "    for i in range(0, len(df)):\n",
    "        end = i\n",
    "        end_time=ti[end]\n",
    "        if end_time - start_time >= time_window * 1000:\n",
    "            fileName = '{}{}_{}_{}_{}_{}_{}.csv'.format(savePath,malware_type,pid, rounds, str(index),str(time_window),str(start_time))\n",
    "            d = df[start:end]\n",
    "            d.to_csv(fileName,index=None)\n",
    "            index += 1\n",
    "            start = end\n",
    "            start_time = end_time         \n",
    "\n"
   ]
  },
  {
   "cell_type": "code",
   "execution_count": 5,
   "metadata": {},
   "outputs": [],
   "source": [
    "def get_maltype_from_name(filename):\n",
    "    ns = filename.split('_')\n",
    "    malware_type = ''\n",
    "    pid = ''\n",
    "    rounds = ''\n",
    "    if ns[1] != 'v2':\n",
    "        malware_type =  ns[0]\n",
    "        pid=  ns[1]\n",
    "        rounds =  ns[2]\n",
    "    else:\n",
    "        malware_type = ns[0]+ns[1]\n",
    "        id=  ns[2]\n",
    "        rounds =  ns[3]\n",
    "    return malware_type, pid, rounds"
   ]
  },
  {
   "cell_type": "code",
   "execution_count": 9,
   "metadata": {},
   "outputs": [],
   "source": [
    "rootPath ='D:/git/IoT_Sensors_Security_Analysis/data/perf/'\n",
    "device = 'pi3'\n",
    "perfdataPath = rootPath+'{}/t1/'.format(device)\n",
    "files = os.listdir(perfdataPath)"
   ]
  },
  {
   "cell_type": "code",
   "execution_count": 3,
   "metadata": {},
   "outputs": [
    {
     "data": {
      "text/plain": [
       "43"
      ]
     },
     "execution_count": 3,
     "metadata": {},
     "output_type": "execute_result"
    }
   ],
   "source": [
    "len(files)"
   ]
  },
  {
   "cell_type": "code",
   "execution_count": null,
   "metadata": {},
   "outputs": [],
   "source": [
    "for fi in files:\n",
    "    if 'txt' in fi:\n",
    "        syscall_trace = []\n",
    "        with open(perfdataPath + fi, 'r') as f:\n",
    "            for line in f:\n",
    "                res = get_systemcall_name_perf(line)\n",
    "                if res != None:\n",
    "                    syscall_trace.append(res)\n",
    "                else: \n",
    "                    print(fi)\n",
    "            f.close()\n",
    "        df = pd.DataFrame(syscall_trace)\n",
    "        df.columns=['pid', 'timestamp', 'syscall', 'time_cost']\n",
    "        path = rootPath + '{}/data_1/'.format(device) + fi\n",
    "        df.to_csv(path, index=None)\n",
    "        # print(fi, set(df['syscall']))"
   ]
  },
  {
   "cell_type": "code",
   "execution_count": 15,
   "metadata": {},
   "outputs": [],
   "source": [
    "dataPath = rootPath + '{}/data_1/'.format(device)"
   ]
  },
  {
   "cell_type": "code",
   "execution_count": 16,
   "metadata": {},
   "outputs": [
    {
     "name": "stderr",
     "output_type": "stream",
     "text": [
      "  2%|█▌                                                           | 9/360 [02:01<1:19:13, 13.54s/it]\n",
      "C:\\Users\\luke-\\AppData\\Roaming\\Python\\Python39\\site-packages\\IPython\\core\\interactiveshell.py:3441: DtypeWarning: Columns (3) have mixed types.Specify dtype option on import or set low_memory=False.\n",
      "  exec(code_obj, self.user_global_ns, self.user_ns)\n",
      "100%|█████████████████████████████████████████████████████████████| 360/360 [21:18<00:00,  3.55s/it]\n"
     ]
    }
   ],
   "source": [
    "# tws = [10, 15, 16, 17, 20, 25, 30, 35, 40, 50, 60]\n",
    "tws = [70]\n",
    "datafiles = os.listdir(dataPath)\n",
    "newdataPaht= rootPath+'{}/splited_1/'.format(device)\n",
    "for tw in tws:\n",
    "    ts = newdataPaht+ str(tw) +'/'  \n",
    "    ls = os.listdir(newdataPaht)\n",
    "    if str(tw) not in ls:\n",
    "        os.mkdir(ts)\n",
    "        ts = newdataPaht + str(tw) +'/'  \n",
    "    par = tqdm.tqdm(total = len(datafiles), ncols=100)\n",
    "    for fi in datafiles:\n",
    "        if '.txt' in fi:\n",
    "            par.update(1)\n",
    "            malware_type, pid, rounds = get_maltype_from_name(fi)\n",
    "            df = pd.read_csv(dataPath+fi)\n",
    "            time_window = tw\n",
    "            split_data_by_time(ts, malware_type, pid, rounds,df,time_window)\n",
    "    par.close()\n"
   ]
  }
 ],
 "metadata": {
  "interpreter": {
   "hash": "63fd5069d213b44bf678585dea6b12cceca9941eaf7f819626cde1f2670de90d"
  },
  "kernelspec": {
   "display_name": "Python 3.9.6 64-bit",
   "name": "python3"
  },
  "language_info": {
   "codemirror_mode": {
    "name": "ipython",
    "version": 3
   },
   "file_extension": ".py",
   "mimetype": "text/x-python",
   "name": "python",
   "nbconvert_exporter": "python",
   "pygments_lexer": "ipython3",
   "version": "3.9.6"
  },
  "orig_nbformat": 4
 },
 "nbformat": 4,
 "nbformat_minor": 2
}
