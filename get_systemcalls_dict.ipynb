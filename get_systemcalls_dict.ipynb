{
 "cells": [
  {
   "cell_type": "code",
   "execution_count": 1,
   "source": [
    "import requests\r\n",
    "from bs4 import BeautifulSoup"
   ],
   "outputs": [],
   "metadata": {}
  },
  {
   "cell_type": "code",
   "execution_count": 2,
   "source": [
    "page = requests.get('https://linux.die.net/man/2/').text"
   ],
   "outputs": [],
   "metadata": {}
  },
  {
   "cell_type": "code",
   "execution_count": 8,
   "source": [
    "bf = BeautifulSoup(page)"
   ],
   "outputs": [],
   "metadata": {}
  },
  {
   "cell_type": "code",
   "execution_count": 24,
   "source": [
    "dts = bf.select('#content > dl > dt > a')"
   ],
   "outputs": [],
   "metadata": {}
  },
  {
   "cell_type": "code",
   "execution_count": 25,
   "source": [
    "dts[0].get_text()"
   ],
   "outputs": [
    {
     "output_type": "execute_result",
     "data": {
      "text/plain": [
       "'accept'"
      ]
     },
     "metadata": {},
     "execution_count": 25
    }
   ],
   "metadata": {}
  },
  {
   "cell_type": "code",
   "execution_count": 26,
   "source": [
    "syscalls = dict()\r\n",
    "i = 0\r\n",
    "for a in dts:\r\n",
    "    sc = a.get_text()\r\n",
    "    syscalls[sc] = i\r\n",
    "    i += 1\r\n",
    "syscalls['UNK'] = i\r\n"
   ],
   "outputs": [],
   "metadata": {}
  },
  {
   "cell_type": "code",
   "execution_count": 34,
   "source": [
    "def dict_to_index(syscalls):\r\n",
    "    with open('syscalls_to_index.csv', 'w') as ids:\r\n",
    "        for sc in syscalls:\r\n",
    "            ids.write(sc+','+ str(syscalls[sc])+'\\n')\r\n",
    "        ids.close()\r\n",
    "\r\n",
    "def index_to_dict(syscalls):\r\n",
    "    with open('index_to_syscalls.csv', 'w') as ids:\r\n",
    "        for sc in syscalls:\r\n",
    "            ids.write(str(syscalls[sc])+','+sc+'\\n')\r\n",
    "        ids.close()"
   ],
   "outputs": [],
   "metadata": {}
  },
  {
   "cell_type": "code",
   "execution_count": 35,
   "source": [
    "dict_to_index(syscalls)\r\n",
    "index_to_dict(syscalls)"
   ],
   "outputs": [],
   "metadata": {}
  },
  {
   "cell_type": "code",
   "execution_count": 21,
   "source": [
    "path = 'D:/git/IoT_Sensors_Security_Analysis/'\r\n",
    "file_path = 'data/output.txt'"
   ],
   "outputs": [],
   "metadata": {}
  },
  {
   "cell_type": "code",
   "execution_count": 22,
   "source": [
    "files = []\r\n",
    "for i in range(0,57):\r\n",
    "    fl = open(path + 'data/' + str(i) + '.txt', 'w')\r\n",
    "    files.append(fl)"
   ],
   "outputs": [],
   "metadata": {}
  },
  {
   "cell_type": "code",
   "execution_count": 23,
   "source": [
    "with open(path+file_path, 'r') as raw:\r\n",
    "    i = 0\r\n",
    "    j = 0\r\n",
    "    for line in raw:\r\n",
    "        if i > 56:\r\n",
    "            break\r\n",
    "        j+=1\r\n",
    "        files[i].write(line)\r\n",
    "        if j % 100 == 0:\r\n",
    "            i += 1"
   ],
   "outputs": [],
   "metadata": {}
  },
  {
   "cell_type": "code",
   "execution_count": 24,
   "source": [
    "for fl in files:\r\n",
    "    fl.close()"
   ],
   "outputs": [],
   "metadata": {}
  }
 ],
 "metadata": {
  "orig_nbformat": 4,
  "language_info": {
   "name": "python",
   "version": "3.9.6",
   "mimetype": "text/x-python",
   "codemirror_mode": {
    "name": "ipython",
    "version": 3
   },
   "pygments_lexer": "ipython3",
   "nbconvert_exporter": "python",
   "file_extension": ".py"
  },
  "kernelspec": {
   "name": "python3",
   "display_name": "Python 3.9.6 64-bit"
  },
  "interpreter": {
   "hash": "63fd5069d213b44bf678585dea6b12cceca9941eaf7f819626cde1f2670de90d"
  }
 },
 "nbformat": 4,
 "nbformat_minor": 2
}